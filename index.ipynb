{
 "cells": [
  {
   "cell_type": "markdown",
   "metadata": {},
   "source": [
    "### Hosting my notebooks on [Binder](http://docs.mybinder.org/)"
   ]
  },
  {
   "cell_type": "markdown",
   "metadata": {},
   "source": [
    "# Exploration of a [dataset](https://data.hdx.rwlabs.org/dataset/ebola-outbreaks-before-2014) on Ebola outbreaks before 2014"
   ]
  },
  {
   "cell_type": "markdown",
   "metadata": {},
   "source": [
    "source: Humanitarian Data Exchange ([HDX](http://data.hdx.rwlabs.org/))"
   ]
  },
  {
   "cell_type": "code",
   "execution_count": 77,
   "metadata": {
    "collapsed": false
   },
   "outputs": [],
   "source": [
    "import numpy as np\n",
    "import pandas as pd\n",
    "from matplotlib import pyplot as plt\n",
    "plt.style.use('ggplot')\n",
    "\n",
    "from bokeh.charts import Histogram, Bar, BoxPlot, Scatter\n",
    "from bokeh.plotting import figure, show\n",
    "from bokeh.io import output_notebook, output_file\n",
    "from bokeh.palettes import Spectral11"
   ]
  },
  {
   "cell_type": "markdown",
   "metadata": {
    "collapsed": true
   },
   "source": [
    "### Loading the dataset to a Pandas dataframe"
   ]
  },
  {
   "cell_type": "code",
   "execution_count": 2,
   "metadata": {
    "collapsed": true
   },
   "outputs": [],
   "source": [
    "ebola_df = pd.read_csv(\"data/out/ebola_outbreaks_before_2014-geometry_fixed.csv\", encoding=\"utf-8\", index_col=False)\n",
    "\n",
    "ebola_data = ebola_df.drop(ebola_df.columns[[0, 1, 2, 9]], axis=1)"
   ]
  },
  {
   "cell_type": "code",
   "execution_count": 3,
   "metadata": {
    "collapsed": false
   },
   "outputs": [
    {
     "data": {
      "text/html": [
       "<div>\n",
       "<table border=\"1\" class=\"dataframe\">\n",
       "  <thead>\n",
       "    <tr style=\"text-align: right;\">\n",
       "      <th></th>\n",
       "      <th>country_code_iso_2_digits</th>\n",
       "      <th>country_name</th>\n",
       "      <th>duration_days</th>\n",
       "      <th>ebola_subtype</th>\n",
       "      <th>end_date</th>\n",
       "      <th>end_datetime</th>\n",
       "      <th>geometry</th>\n",
       "      <th>geometry_geojson</th>\n",
       "      <th>latitude</th>\n",
       "      <th>longitude</th>\n",
       "      <th>reported_number_of_deaths_among_cases</th>\n",
       "      <th>reported_number_of_human_cases</th>\n",
       "      <th>reported_of_deaths_among_cases</th>\n",
       "      <th>start_date</th>\n",
       "      <th>start_datetime</th>\n",
       "      <th>year_s</th>\n",
       "    </tr>\n",
       "  </thead>\n",
       "  <tbody>\n",
       "    <tr>\n",
       "      <th>0</th>\n",
       "      <td>RU</td>\n",
       "      <td>Russia</td>\n",
       "      <td>365</td>\n",
       "      <td>Zaire virus</td>\n",
       "      <td>2004-12-31T00:00:00Z</td>\n",
       "      <td>2004-12-31T00:00:00Z</td>\n",
       "      <td>(POLYGON ((132.448985 42.845404, 132.44988 42....</td>\n",
       "      <td>{u'type': u'MultiPolygon', u'coordinates': [[[...</td>\n",
       "      <td>64.686314</td>\n",
       "      <td>97.745306</td>\n",
       "      <td>1</td>\n",
       "      <td>1</td>\n",
       "      <td>1</td>\n",
       "      <td>2004-01-01T00:00:00Z</td>\n",
       "      <td>2004-01-01T00:00:00Z</td>\n",
       "      <td>2004</td>\n",
       "    </tr>\n",
       "    <tr>\n",
       "      <th>1</th>\n",
       "      <td>PH</td>\n",
       "      <td>Philippines</td>\n",
       "      <td>365</td>\n",
       "      <td>Reston virus</td>\n",
       "      <td>1996-12-31T00:00:00Z</td>\n",
       "      <td>1996-12-31T00:00:00Z</td>\n",
       "      <td>(POLYGON ((119.849783 4.796861, 119.833995 4.7...</td>\n",
       "      <td>{u'type': u'MultiPolygon', u'coordinates': [[[...</td>\n",
       "      <td>12.750349</td>\n",
       "      <td>122.731210</td>\n",
       "      <td>0</td>\n",
       "      <td>0</td>\n",
       "      <td>0</td>\n",
       "      <td>1996-01-01T00:00:00Z</td>\n",
       "      <td>1996-01-01T00:00:00Z</td>\n",
       "      <td>1996</td>\n",
       "    </tr>\n",
       "    <tr>\n",
       "      <th>2</th>\n",
       "      <td>US</td>\n",
       "      <td>USA</td>\n",
       "      <td>364</td>\n",
       "      <td>Reston virus</td>\n",
       "      <td>1990-12-31T00:00:00Z</td>\n",
       "      <td>1990-12-31T00:00:00Z</td>\n",
       "      <td>(POLYGON ((-155.606519 20.137956, -155.586363 ...</td>\n",
       "      <td>{u'type': u'MultiPolygon', u'coordinates': [[[...</td>\n",
       "      <td>39.783730</td>\n",
       "      <td>-100.445882</td>\n",
       "      <td>0</td>\n",
       "      <td>4</td>\n",
       "      <td>0</td>\n",
       "      <td>1990-01-01T00:00:00Z</td>\n",
       "      <td>1990-01-01T00:00:00Z</td>\n",
       "      <td>1990</td>\n",
       "    </tr>\n",
       "  </tbody>\n",
       "</table>\n",
       "</div>"
      ],
      "text/plain": [
       "  country_code_iso_2_digits country_name  duration_days ebola_subtype  \\\n",
       "0                        RU       Russia            365   Zaire virus   \n",
       "1                        PH  Philippines            365  Reston virus   \n",
       "2                        US          USA            364  Reston virus   \n",
       "\n",
       "               end_date          end_datetime  \\\n",
       "0  2004-12-31T00:00:00Z  2004-12-31T00:00:00Z   \n",
       "1  1996-12-31T00:00:00Z  1996-12-31T00:00:00Z   \n",
       "2  1990-12-31T00:00:00Z  1990-12-31T00:00:00Z   \n",
       "\n",
       "                                            geometry  \\\n",
       "0  (POLYGON ((132.448985 42.845404, 132.44988 42....   \n",
       "1  (POLYGON ((119.849783 4.796861, 119.833995 4.7...   \n",
       "2  (POLYGON ((-155.606519 20.137956, -155.586363 ...   \n",
       "\n",
       "                                    geometry_geojson   latitude   longitude  \\\n",
       "0  {u'type': u'MultiPolygon', u'coordinates': [[[...  64.686314   97.745306   \n",
       "1  {u'type': u'MultiPolygon', u'coordinates': [[[...  12.750349  122.731210   \n",
       "2  {u'type': u'MultiPolygon', u'coordinates': [[[...  39.783730 -100.445882   \n",
       "\n",
       "   reported_number_of_deaths_among_cases  reported_number_of_human_cases  \\\n",
       "0                                      1                               1   \n",
       "1                                      0                               0   \n",
       "2                                      0                               4   \n",
       "\n",
       "   reported_of_deaths_among_cases            start_date        start_datetime  \\\n",
       "0                               1  2004-01-01T00:00:00Z  2004-01-01T00:00:00Z   \n",
       "1                               0  1996-01-01T00:00:00Z  1996-01-01T00:00:00Z   \n",
       "2                               0  1990-01-01T00:00:00Z  1990-01-01T00:00:00Z   \n",
       "\n",
       "  year_s  \n",
       "0   2004  \n",
       "1   1996  \n",
       "2   1990  "
      ]
     },
     "execution_count": 3,
     "metadata": {},
     "output_type": "execute_result"
    }
   ],
   "source": [
    "ebola_data.head(3)"
   ]
  },
  {
   "cell_type": "markdown",
   "metadata": {},
   "source": [
    "### Ebola outbreaks per country"
   ]
  },
  {
   "cell_type": "code",
   "execution_count": 4,
   "metadata": {
    "collapsed": true
   },
   "outputs": [],
   "source": [
    "# Handle non-ASCII character\n",
    "ebola_data = ebola_data.replace(u\"C\\xf4te d'Ivoire (Ivory Coast)\", \n",
    "                                u\"Cote d'Ivoire (Ivory Coast)\")"
   ]
  },
  {
   "cell_type": "markdown",
   "metadata": {},
   "source": [
    "#### General description"
   ]
  },
  {
   "cell_type": "code",
   "execution_count": 5,
   "metadata": {
    "collapsed": false
   },
   "outputs": [
    {
     "name": "stdout",
     "output_type": "stream",
     "text": [
      "country_name\n",
      "Cote d'Ivoire (Ivory Coast)         1\n",
      "England                             1\n",
      "Italy                               1\n",
      "South Africa                        1\n",
      "Russia                              2\n",
      "Philippines                         3\n",
      "Sudan (South Sudan)                 3\n",
      "USA                                 3\n",
      "Gabon                               4\n",
      "Uganda                              5\n",
      "Democratic Republic of the Congo    9\n",
      "Name: country_name, dtype: int64\n"
     ]
    },
    {
     "data": {
      "text/plain": [
       "count    11.000000\n",
       "mean      3.000000\n",
       "std       2.408319\n",
       "min       1.000000\n",
       "25%       1.000000\n",
       "50%       3.000000\n",
       "75%       3.500000\n",
       "max       9.000000\n",
       "Name: country_name, dtype: float64"
      ]
     },
     "execution_count": 5,
     "metadata": {},
     "output_type": "execute_result"
    }
   ],
   "source": [
    "outbrks_data = ebola_data.groupby([\"country_name\"])[\"country_name\"].count().order()\n",
    "\n",
    "print outbrks_data\n",
    "\n",
    "outbrks_data.describe()"
   ]
  },
  {
   "cell_type": "markdown",
   "metadata": {},
   "source": [
    "* Prior to 2014, there has been Ebola outbreaks in **11** countries.\n",
    "\n",
    "* Those countries have had between **1** and **9** outbreaks."
   ]
  },
  {
   "cell_type": "markdown",
   "metadata": {},
   "source": [
    "#### Distribution of outbreaks per country"
   ]
  },
  {
   "cell_type": "code",
   "execution_count": 6,
   "metadata": {
    "collapsed": false
   },
   "outputs": [
    {
     "name": "stdout",
     "output_type": "stream",
     "text": [
      "                                  proportions of outbreaks (%)\n",
      "country_name                                                  \n",
      "Cote d'Ivoire (Ivory Coast)                           3.030303\n",
      "England                                               3.030303\n",
      "Italy                                                 3.030303\n",
      "South Africa                                          3.030303\n",
      "Russia                                                6.060606\n",
      "Philippines                                           9.090909\n",
      "Sudan (South Sudan)                                   9.090909\n",
      "USA                                                   9.090909\n",
      "Gabon                                                12.121212\n",
      "Uganda                                               15.151515\n",
      "Democratic Republic of the Congo                     27.272727\n"
     ]
    },
    {
     "data": {
      "text/html": [
       "\n",
       "    <div class=\"bk-banner\">\n",
       "        <a href=\"http://bokeh.pydata.org\" target=\"_blank\" class=\"bk-logo bk-logo-small bk-logo-notebook\"></a>\n",
       "        <span id=\"16464f17-6e08-4652-85ce-265556f8547e\">Loading BokehJS ...</span>\n",
       "    </div>"
      ]
     },
     "metadata": {},
     "output_type": "display_data"
    },
    {
     "data": {
      "application/javascript": [
       "\n",
       "(function(global) {\n",
       "  function now() {\n",
       "    return new Date();\n",
       "  }\n",
       "\n",
       "  if (typeof (window._bokeh_onload_callbacks) === \"undefined\") {\n",
       "    window._bokeh_onload_callbacks = [];\n",
       "  }\n",
       "\n",
       "  function run_callbacks() {\n",
       "    window._bokeh_onload_callbacks.forEach(function(callback) { callback() });\n",
       "    delete window._bokeh_onload_callbacks\n",
       "    console.info(\"Bokeh: all callbacks have finished\");\n",
       "  }\n",
       "\n",
       "  function load_libs(js_urls, callback) {\n",
       "    window._bokeh_onload_callbacks.push(callback);\n",
       "    if (window._bokeh_is_loading > 0) {\n",
       "      console.log(\"Bokeh: BokehJS is being loaded, scheduling callback at\", now());\n",
       "      return null;\n",
       "    }\n",
       "    if (js_urls == null || js_urls.length === 0) {\n",
       "      run_callbacks();\n",
       "      return null;\n",
       "    }\n",
       "    console.log(\"Bokeh: BokehJS not loaded, scheduling load and callback at\", now());\n",
       "    window._bokeh_is_loading = js_urls.length;\n",
       "    for (var i = 0; i < js_urls.length; i++) {\n",
       "      var url = js_urls[i];\n",
       "      var s = document.createElement('script');\n",
       "      s.src = url;\n",
       "      s.async = false;\n",
       "      s.onreadystatechange = s.onload = function() {\n",
       "        window._bokeh_is_loading--;\n",
       "        if (window._bokeh_is_loading === 0) {\n",
       "          console.log(\"Bokeh: all BokehJS libraries loaded\");\n",
       "          run_callbacks()\n",
       "        }\n",
       "      };\n",
       "      s.onerror = function() {\n",
       "        console.warn(\"failed to load library \" + url);\n",
       "      };\n",
       "      console.log(\"Bokeh: injecting script tag for BokehJS library: \", url);\n",
       "      document.getElementsByTagName(\"head\")[0].appendChild(s);\n",
       "    }\n",
       "  };\n",
       "\n",
       "  var js_urls = ['https://cdn.pydata.org/bokeh/release/bokeh-0.11.1.min.js', 'https://cdn.pydata.org/bokeh/release/bokeh-widgets-0.11.1.min.js', 'https://cdn.pydata.org/bokeh/release/bokeh-compiler-0.11.1.min.js'];\n",
       "\n",
       "  var inline_js = [\n",
       "    function(Bokeh) {\n",
       "      Bokeh.set_log_level(\"info\");\n",
       "    },\n",
       "    \n",
       "    function(Bokeh) {\n",
       "      Bokeh.$(\"#16464f17-6e08-4652-85ce-265556f8547e\").text(\"BokehJS successfully loaded\");\n",
       "    },\n",
       "    function(Bokeh) {\n",
       "      console.log(\"Bokeh: injecting CSS: https://cdn.pydata.org/bokeh/release/bokeh-0.11.1.min.css\");\n",
       "      Bokeh.embed.inject_css(\"https://cdn.pydata.org/bokeh/release/bokeh-0.11.1.min.css\");\n",
       "      console.log(\"Bokeh: injecting CSS: https://cdn.pydata.org/bokeh/release/bokeh-widgets-0.11.1.min.css\");\n",
       "      Bokeh.embed.inject_css(\"https://cdn.pydata.org/bokeh/release/bokeh-widgets-0.11.1.min.css\");\n",
       "    }\n",
       "  ];\n",
       "\n",
       "  function run_inline_js() {\n",
       "    for (var i = 0; i < inline_js.length; i++) {\n",
       "      inline_js[i](window.Bokeh);\n",
       "    }\n",
       "  }\n",
       "\n",
       "  if (window._bokeh_is_loading === 0) {\n",
       "    console.log(\"Bokeh: BokehJS loaded, going straight to plotting\");\n",
       "    run_inline_js();\n",
       "  } else {\n",
       "    load_libs(js_urls, function() {\n",
       "      console.log(\"Bokeh: BokehJS plotting callback run at\", now());\n",
       "      run_inline_js();\n",
       "    });\n",
       "  }\n",
       "}(this));"
      ]
     },
     "metadata": {},
     "output_type": "display_data"
    },
    {
     "data": {
      "text/html": [
       "\n",
       "\n",
       "    <div class=\"plotdiv\" id=\"d351a72c-70de-4416-bf4e-d523f9f9b312\"></div>\n",
       "<script type=\"text/javascript\">\n",
       "  \n",
       "  (function(global) {\n",
       "    function now() {\n",
       "      return new Date();\n",
       "    }\n",
       "  \n",
       "    if (typeof (window._bokeh_onload_callbacks) === \"undefined\") {\n",
       "      window._bokeh_onload_callbacks = [];\n",
       "    }\n",
       "  \n",
       "    function run_callbacks() {\n",
       "      window._bokeh_onload_callbacks.forEach(function(callback) { callback() });\n",
       "      delete window._bokeh_onload_callbacks\n",
       "      console.info(\"Bokeh: all callbacks have finished\");\n",
       "    }\n",
       "  \n",
       "    function load_libs(js_urls, callback) {\n",
       "      window._bokeh_onload_callbacks.push(callback);\n",
       "      if (window._bokeh_is_loading > 0) {\n",
       "        console.log(\"Bokeh: BokehJS is being loaded, scheduling callback at\", now());\n",
       "        return null;\n",
       "      }\n",
       "      if (js_urls == null || js_urls.length === 0) {\n",
       "        run_callbacks();\n",
       "        return null;\n",
       "      }\n",
       "      console.log(\"Bokeh: BokehJS not loaded, scheduling load and callback at\", now());\n",
       "      window._bokeh_is_loading = js_urls.length;\n",
       "      for (var i = 0; i < js_urls.length; i++) {\n",
       "        var url = js_urls[i];\n",
       "        var s = document.createElement('script');\n",
       "        s.src = url;\n",
       "        s.async = false;\n",
       "        s.onreadystatechange = s.onload = function() {\n",
       "          window._bokeh_is_loading--;\n",
       "          if (window._bokeh_is_loading === 0) {\n",
       "            console.log(\"Bokeh: all BokehJS libraries loaded\");\n",
       "            run_callbacks()\n",
       "          }\n",
       "        };\n",
       "        s.onerror = function() {\n",
       "          console.warn(\"failed to load library \" + url);\n",
       "        };\n",
       "        console.log(\"Bokeh: injecting script tag for BokehJS library: \", url);\n",
       "        document.getElementsByTagName(\"head\")[0].appendChild(s);\n",
       "      }\n",
       "    };var element = document.getElementById(\"d351a72c-70de-4416-bf4e-d523f9f9b312\");\n",
       "    if (element == null) {\n",
       "      console.log(\"Bokeh: ERROR: autoload.js configured with elementid 'd351a72c-70de-4416-bf4e-d523f9f9b312' but no matching script tag was found. \")\n",
       "      return false;\n",
       "    }\n",
       "  \n",
       "    var js_urls = [];\n",
       "  \n",
       "    var inline_js = [\n",
       "      function(Bokeh) {\n",
       "        Bokeh.$(function() {\n",
       "            var docs_json = {\"f46ea8b5-f76b-4831-926c-db1e48a834e9\":{\"roots\":{\"references\":[{\"attributes\":{\"bottom_units\":\"screen\",\"fill_alpha\":{\"value\":0.5},\"fill_color\":{\"value\":\"lightgrey\"},\"left_units\":\"screen\",\"level\":\"overlay\",\"line_alpha\":{\"value\":1.0},\"line_color\":{\"value\":\"black\"},\"line_dash\":[4,4],\"line_width\":{\"value\":2},\"plot\":null,\"render_mode\":\"css\",\"right_units\":\"screen\",\"top_units\":\"screen\"},\"id\":\"b3c3d510-ccf4-485e-817e-d6004d70431d\",\"type\":\"BoxAnnotation\"},{\"attributes\":{\"callback\":null,\"column_names\":[\"line_color\",\"line_alpha\",\"color\",\"fill_alpha\",\"height\",\"width\",\"y\",\"x\"],\"data\":{\"chart_index\":[{\"index\":\"South Africa\"}],\"color\":[\"navy\"],\"fill_alpha\":[0.8],\"height\":[3.0303030303030303],\"index\":[\"South Africa\"],\"line_alpha\":[1.0],\"line_color\":[\"white\"],\"width\":[0.8],\"x\":[\"South Africa\"],\"y\":[1.5151515151515151]}},\"id\":\"f2d81cc9-0c35-40bd-9cde-049761d42fde\",\"type\":\"ColumnDataSource\"},{\"attributes\":{\"fill_alpha\":{\"field\":\"fill_alpha\"},\"fill_color\":{\"field\":\"color\"},\"height\":{\"field\":\"height\",\"units\":\"data\"},\"line_color\":{\"field\":\"line_color\"},\"width\":{\"field\":\"width\",\"units\":\"data\"},\"x\":{\"field\":\"x\"},\"y\":{\"field\":\"y\"}},\"id\":\"4a213e41-4941-4a99-aa97-4adfc1c6f8f1\",\"type\":\"Rect\"},{\"attributes\":{},\"id\":\"7bc000e1-c083-4fcc-ad61-9f1c78655fca\",\"type\":\"CategoricalTicker\"},{\"attributes\":{\"axis_label\":\"Sum( Proportions Of Outbreaks (%) )\",\"formatter\":{\"id\":\"eb8f591a-c49f-43c6-a76a-b3a69d5415b9\",\"type\":\"BasicTickFormatter\"},\"plot\":{\"id\":\"cc8e96b1-62d9-420e-9d68-d051369086e9\",\"subtype\":\"Chart\",\"type\":\"Plot\"},\"ticker\":{\"id\":\"47e3eec0-0e19-44bf-8266-07d8891ce8fb\",\"type\":\"BasicTicker\"}},\"id\":\"3a482e4d-7aea-40f7-8e31-7e5648e33852\",\"type\":\"LinearAxis\"},{\"attributes\":{\"fill_alpha\":{\"field\":\"fill_alpha\"},\"fill_color\":{\"field\":\"color\"},\"height\":{\"field\":\"height\",\"units\":\"data\"},\"line_color\":{\"field\":\"line_color\"},\"width\":{\"field\":\"width\",\"units\":\"data\"},\"x\":{\"field\":\"x\"},\"y\":{\"field\":\"y\"}},\"id\":\"43034ab5-556f-464b-aaed-24dc33bd38d0\",\"type\":\"Rect\"},{\"attributes\":{\"callback\":null,\"column_names\":[\"line_color\",\"line_alpha\",\"color\",\"fill_alpha\",\"height\",\"width\",\"y\",\"x\"],\"data\":{\"chart_index\":[{\"index\":\"Russia\"}],\"color\":[\"navy\"],\"fill_alpha\":[0.8],\"height\":[6.0606060606060606],\"index\":[\"Russia\"],\"line_alpha\":[1.0],\"line_color\":[\"white\"],\"width\":[0.8],\"x\":[\"Russia\"],\"y\":[3.0303030303030303]}},\"id\":\"ffa4d021-c646-4d50-8d8d-50fbd753b950\",\"type\":\"ColumnDataSource\"},{\"attributes\":{\"plot\":{\"id\":\"cc8e96b1-62d9-420e-9d68-d051369086e9\",\"subtype\":\"Chart\",\"type\":\"Plot\"}},\"id\":\"47967ed1-f3ef-44d0-bd17-717da5d3e3cf\",\"type\":\"WheelZoomTool\"},{\"attributes\":{\"callback\":null,\"column_names\":[\"line_color\",\"line_alpha\",\"color\",\"fill_alpha\",\"height\",\"width\",\"y\",\"x\"],\"data\":{\"chart_index\":[{\"index\":\"Uganda\"}],\"color\":[\"navy\"],\"fill_alpha\":[0.8],\"height\":[15.151515151515152],\"index\":[\"Uganda\"],\"line_alpha\":[1.0],\"line_color\":[\"white\"],\"width\":[0.8],\"x\":[\"Uganda\"],\"y\":[7.575757575757576]}},\"id\":\"bb1c1f02-e76b-419c-9803-3061e3c9796a\",\"type\":\"ColumnDataSource\"},{\"attributes\":{\"data_source\":{\"id\":\"901ad97f-643b-449f-bad6-613802dea6cc\",\"type\":\"ColumnDataSource\"},\"glyph\":{\"id\":\"435c1052-7c1b-44c5-a72b-f7b9808232c7\",\"type\":\"Rect\"},\"hover_glyph\":null,\"nonselection_glyph\":null,\"selection_glyph\":null},\"id\":\"ca7fe468-d40b-45b9-91e9-c9b0c7d5541e\",\"type\":\"GlyphRenderer\"},{\"attributes\":{\"data_source\":{\"id\":\"c8044c38-2550-4d3d-bd5d-13a05fcac2b3\",\"type\":\"ColumnDataSource\"},\"glyph\":{\"id\":\"6033c86e-01a6-47ac-944d-4a190c37b2d1\",\"type\":\"Rect\"},\"hover_glyph\":null,\"nonselection_glyph\":null,\"selection_glyph\":null},\"id\":\"3c18f31a-5a5c-4cd0-abbb-22840156358c\",\"type\":\"GlyphRenderer\"},{\"attributes\":{\"plot\":{\"id\":\"cc8e96b1-62d9-420e-9d68-d051369086e9\",\"subtype\":\"Chart\",\"type\":\"Plot\"}},\"id\":\"a9aee786-8574-4044-aa69-9c7b47a38d78\",\"type\":\"PreviewSaveTool\"},{\"attributes\":{\"data_source\":{\"id\":\"e80a0b5d-2b7c-412e-b2ad-735dcaeb63d7\",\"type\":\"ColumnDataSource\"},\"glyph\":{\"id\":\"d5f017a9-70ef-4389-be85-c4f2935d7f40\",\"type\":\"Rect\"},\"hover_glyph\":null,\"nonselection_glyph\":null,\"selection_glyph\":null},\"id\":\"2d190e01-81fc-4125-b931-d607c6d5228a\",\"type\":\"GlyphRenderer\"},{\"attributes\":{\"fill_alpha\":{\"field\":\"fill_alpha\"},\"fill_color\":{\"field\":\"color\"},\"height\":{\"field\":\"height\",\"units\":\"data\"},\"line_color\":{\"field\":\"line_color\"},\"width\":{\"field\":\"width\",\"units\":\"data\"},\"x\":{\"field\":\"x\"},\"y\":{\"field\":\"y\"}},\"id\":\"aeb2f951-10e6-4bbc-97cb-c3d5a7b3a4ce\",\"type\":\"Rect\"},{\"attributes\":{\"overlay\":{\"id\":\"b3c3d510-ccf4-485e-817e-d6004d70431d\",\"type\":\"BoxAnnotation\"},\"plot\":{\"id\":\"cc8e96b1-62d9-420e-9d68-d051369086e9\",\"subtype\":\"Chart\",\"type\":\"Plot\"}},\"id\":\"590e0c8d-0359-4bcd-88e9-3e158bf54812\",\"type\":\"BoxZoomTool\"},{\"attributes\":{\"fill_alpha\":{\"field\":\"fill_alpha\"},\"fill_color\":{\"field\":\"color\"},\"height\":{\"field\":\"height\",\"units\":\"data\"},\"line_color\":{\"field\":\"line_color\"},\"width\":{\"field\":\"width\",\"units\":\"data\"},\"x\":{\"field\":\"x\"},\"y\":{\"field\":\"y\"}},\"id\":\"47ecfbb2-0558-4037-ade3-c2c4df140715\",\"type\":\"Rect\"},{\"attributes\":{\"plot\":{\"id\":\"cc8e96b1-62d9-420e-9d68-d051369086e9\",\"subtype\":\"Chart\",\"type\":\"Plot\"}},\"id\":\"ad0855fe-02d2-41d3-b49d-507b3b64cfdd\",\"type\":\"ResizeTool\"},{\"attributes\":{\"callback\":null,\"column_names\":[\"line_color\",\"line_alpha\",\"color\",\"fill_alpha\",\"height\",\"width\",\"y\",\"x\"],\"data\":{\"chart_index\":[{\"index\":\"Italy\"}],\"color\":[\"navy\"],\"fill_alpha\":[0.8],\"height\":[3.0303030303030303],\"index\":[\"Italy\"],\"line_alpha\":[1.0],\"line_color\":[\"white\"],\"width\":[0.8],\"x\":[\"Italy\"],\"y\":[1.5151515151515151]}},\"id\":\"c8044c38-2550-4d3d-bd5d-13a05fcac2b3\",\"type\":\"ColumnDataSource\"},{\"attributes\":{\"plot\":{\"id\":\"cc8e96b1-62d9-420e-9d68-d051369086e9\",\"subtype\":\"Chart\",\"type\":\"Plot\"}},\"id\":\"867635c9-b7fe-482c-be3a-ff71193f5ae0\",\"type\":\"PanTool\"},{\"attributes\":{},\"id\":\"f76c567d-2cca-493d-a79a-c2ce164fb31f\",\"type\":\"ToolEvents\"},{\"attributes\":{\"callback\":null,\"column_names\":[\"line_color\",\"line_alpha\",\"color\",\"fill_alpha\",\"height\",\"width\",\"y\",\"x\"],\"data\":{\"chart_index\":[{\"index\":\"USA\"}],\"color\":[\"navy\"],\"fill_alpha\":[0.8],\"height\":[9.090909090909092],\"index\":[\"USA\"],\"line_alpha\":[1.0],\"line_color\":[\"white\"],\"width\":[0.8],\"x\":[\"USA\"],\"y\":[4.545454545454546]}},\"id\":\"901ad97f-643b-449f-bad6-613802dea6cc\",\"type\":\"ColumnDataSource\"},{\"attributes\":{\"data_source\":{\"id\":\"ffa4d021-c646-4d50-8d8d-50fbd753b950\",\"type\":\"ColumnDataSource\"},\"glyph\":{\"id\":\"473b568e-f666-4578-9e55-539348ca6b4e\",\"type\":\"Rect\"},\"hover_glyph\":null,\"nonselection_glyph\":null,\"selection_glyph\":null},\"id\":\"66d9734a-56c5-45d3-a80d-68e371a05c2f\",\"type\":\"GlyphRenderer\"},{\"attributes\":{},\"id\":\"eb8f591a-c49f-43c6-a76a-b3a69d5415b9\",\"type\":\"BasicTickFormatter\"},{\"attributes\":{\"data_source\":{\"id\":\"ea9301c3-acb4-4a51-aeee-bd0da2388198\",\"type\":\"ColumnDataSource\"},\"glyph\":{\"id\":\"a2693b1f-3622-47cf-b296-4e8201d28e13\",\"type\":\"Rect\"},\"hover_glyph\":null,\"nonselection_glyph\":null,\"selection_glyph\":null},\"id\":\"7e5cfc83-777d-4abb-9ac7-008a5a7db7f0\",\"type\":\"GlyphRenderer\"},{\"attributes\":{\"formatter\":{\"id\":\"184b0005-b86b-4ff0-b079-fc68fdf26b3a\",\"type\":\"CategoricalTickFormatter\"},\"major_label_orientation\":0.7853981633974483,\"plot\":{\"id\":\"cc8e96b1-62d9-420e-9d68-d051369086e9\",\"subtype\":\"Chart\",\"type\":\"Plot\"},\"ticker\":{\"id\":\"7bc000e1-c083-4fcc-ad61-9f1c78655fca\",\"type\":\"CategoricalTicker\"}},\"id\":\"eb4ec6e6-453b-421e-9dc7-9c46514540cb\",\"type\":\"CategoricalAxis\"},{\"attributes\":{\"fill_alpha\":{\"field\":\"fill_alpha\"},\"fill_color\":{\"field\":\"color\"},\"height\":{\"field\":\"height\",\"units\":\"data\"},\"line_color\":{\"field\":\"line_color\"},\"width\":{\"field\":\"width\",\"units\":\"data\"},\"x\":{\"field\":\"x\"},\"y\":{\"field\":\"y\"}},\"id\":\"30d49db4-46b2-4f5b-991b-29d4a0b8c463\",\"type\":\"Rect\"},{\"attributes\":{\"fill_alpha\":{\"field\":\"fill_alpha\"},\"fill_color\":{\"field\":\"color\"},\"height\":{\"field\":\"height\",\"units\":\"data\"},\"line_color\":{\"field\":\"line_color\"},\"width\":{\"field\":\"width\",\"units\":\"data\"},\"x\":{\"field\":\"x\"},\"y\":{\"field\":\"y\"}},\"id\":\"4fb9bef6-3dc3-42a0-a423-adc3fb308e6c\",\"type\":\"Rect\"},{\"attributes\":{},\"id\":\"184b0005-b86b-4ff0-b079-fc68fdf26b3a\",\"type\":\"CategoricalTickFormatter\"},{\"attributes\":{\"fill_alpha\":{\"field\":\"fill_alpha\"},\"fill_color\":{\"field\":\"color\"},\"height\":{\"field\":\"height\",\"units\":\"data\"},\"line_color\":{\"field\":\"line_color\"},\"width\":{\"field\":\"width\",\"units\":\"data\"},\"x\":{\"field\":\"x\"},\"y\":{\"field\":\"y\"}},\"id\":\"a2693b1f-3622-47cf-b296-4e8201d28e13\",\"type\":\"Rect\"},{\"attributes\":{\"data_source\":{\"id\":\"e5c395c7-845f-4d85-b0af-777a2c21a5fa\",\"type\":\"ColumnDataSource\"},\"glyph\":{\"id\":\"30d49db4-46b2-4f5b-991b-29d4a0b8c463\",\"type\":\"Rect\"},\"hover_glyph\":null,\"nonselection_glyph\":null,\"selection_glyph\":null},\"id\":\"c888697f-20ba-44fb-87cd-a727eb648059\",\"type\":\"GlyphRenderer\"},{\"attributes\":{\"callback\":null,\"factors\":[\"Cote d'Ivoire (Ivory Coast)\",\"Democratic Republic of the Congo\",\"England\",\"Gabon\",\"Italy\",\"Philippines\",\"Russia\",\"South Africa\",\"Sudan (South Sudan)\",\"USA\",\"Uganda\"]},\"id\":\"90a56e06-c9dd-45da-bad5-3e9454a1545b\",\"type\":\"FactorRange\"},{\"attributes\":{\"callback\":null,\"column_names\":[\"line_color\",\"line_alpha\",\"color\",\"fill_alpha\",\"height\",\"width\",\"y\",\"x\"],\"data\":{\"chart_index\":[{\"index\":\"Gabon\"}],\"color\":[\"navy\"],\"fill_alpha\":[0.8],\"height\":[12.121212121212121],\"index\":[\"Gabon\"],\"line_alpha\":[1.0],\"line_color\":[\"white\"],\"width\":[0.8],\"x\":[\"Gabon\"],\"y\":[6.0606060606060606]}},\"id\":\"5c49b368-e6ba-4deb-8807-b94343ebb4cf\",\"type\":\"ColumnDataSource\"},{\"attributes\":{\"plot\":{\"id\":\"cc8e96b1-62d9-420e-9d68-d051369086e9\",\"subtype\":\"Chart\",\"type\":\"Plot\"}},\"id\":\"659cb52d-7a03-4336-ab06-e1958eaed4bc\",\"type\":\"HelpTool\"},{\"attributes\":{\"fill_alpha\":{\"field\":\"fill_alpha\"},\"fill_color\":{\"field\":\"color\"},\"height\":{\"field\":\"height\",\"units\":\"data\"},\"line_color\":{\"field\":\"line_color\"},\"width\":{\"field\":\"width\",\"units\":\"data\"},\"x\":{\"field\":\"x\"},\"y\":{\"field\":\"y\"}},\"id\":\"d5f017a9-70ef-4389-be85-c4f2935d7f40\",\"type\":\"Rect\"},{\"attributes\":{\"callback\":null,\"column_names\":[\"line_color\",\"line_alpha\",\"color\",\"fill_alpha\",\"height\",\"width\",\"y\",\"x\"],\"data\":{\"chart_index\":[{\"index\":\"Sudan (South Sudan)\"}],\"color\":[\"navy\"],\"fill_alpha\":[0.8],\"height\":[9.090909090909092],\"index\":[\"Sudan (South Sudan)\"],\"line_alpha\":[1.0],\"line_color\":[\"white\"],\"width\":[0.8],\"x\":[\"Sudan (South Sudan)\"],\"y\":[4.545454545454546]}},\"id\":\"e5c395c7-845f-4d85-b0af-777a2c21a5fa\",\"type\":\"ColumnDataSource\"},{\"attributes\":{\"fill_alpha\":{\"field\":\"fill_alpha\"},\"fill_color\":{\"field\":\"color\"},\"height\":{\"field\":\"height\",\"units\":\"data\"},\"line_color\":{\"field\":\"line_color\"},\"width\":{\"field\":\"width\",\"units\":\"data\"},\"x\":{\"field\":\"x\"},\"y\":{\"field\":\"y\"}},\"id\":\"6033c86e-01a6-47ac-944d-4a190c37b2d1\",\"type\":\"Rect\"},{\"attributes\":{\"fill_alpha\":{\"field\":\"fill_alpha\"},\"fill_color\":{\"field\":\"color\"},\"height\":{\"field\":\"height\",\"units\":\"data\"},\"line_color\":{\"field\":\"line_color\"},\"width\":{\"field\":\"width\",\"units\":\"data\"},\"x\":{\"field\":\"x\"},\"y\":{\"field\":\"y\"}},\"id\":\"473b568e-f666-4578-9e55-539348ca6b4e\",\"type\":\"Rect\"},{\"attributes\":{\"data_source\":{\"id\":\"3c0c9e12-4054-40e8-88a9-809836c584e1\",\"type\":\"ColumnDataSource\"},\"glyph\":{\"id\":\"4a213e41-4941-4a99-aa97-4adfc1c6f8f1\",\"type\":\"Rect\"},\"hover_glyph\":null,\"nonselection_glyph\":null,\"selection_glyph\":null},\"id\":\"c33a2168-ccc3-42f2-92c6-5f0aa8be6b34\",\"type\":\"GlyphRenderer\"},{\"attributes\":{\"data_source\":{\"id\":\"f2d81cc9-0c35-40bd-9cde-049761d42fde\",\"type\":\"ColumnDataSource\"},\"glyph\":{\"id\":\"4fb9bef6-3dc3-42a0-a423-adc3fb308e6c\",\"type\":\"Rect\"},\"hover_glyph\":null,\"nonselection_glyph\":null,\"selection_glyph\":null},\"id\":\"d16d363c-0243-49bd-8a9b-57fe2ce5d8a2\",\"type\":\"GlyphRenderer\"},{\"attributes\":{\"data_source\":{\"id\":\"5c49b368-e6ba-4deb-8807-b94343ebb4cf\",\"type\":\"ColumnDataSource\"},\"glyph\":{\"id\":\"43034ab5-556f-464b-aaed-24dc33bd38d0\",\"type\":\"Rect\"},\"hover_glyph\":null,\"nonselection_glyph\":null,\"selection_glyph\":null},\"id\":\"0e123e95-3c49-4ff5-9df7-9a6bf18778c3\",\"type\":\"GlyphRenderer\"},{\"attributes\":{\"below\":[{\"id\":\"eb4ec6e6-453b-421e-9dc7-9c46514540cb\",\"type\":\"CategoricalAxis\"}],\"left\":[{\"id\":\"3a482e4d-7aea-40f7-8e31-7e5648e33852\",\"type\":\"LinearAxis\"}],\"legend\":null,\"renderers\":[{\"id\":\"b3c3d510-ccf4-485e-817e-d6004d70431d\",\"type\":\"BoxAnnotation\"},{\"id\":\"c33a2168-ccc3-42f2-92c6-5f0aa8be6b34\",\"type\":\"GlyphRenderer\"},{\"id\":\"2d190e01-81fc-4125-b931-d607c6d5228a\",\"type\":\"GlyphRenderer\"},{\"id\":\"3c18f31a-5a5c-4cd0-abbb-22840156358c\",\"type\":\"GlyphRenderer\"},{\"id\":\"d16d363c-0243-49bd-8a9b-57fe2ce5d8a2\",\"type\":\"GlyphRenderer\"},{\"id\":\"66d9734a-56c5-45d3-a80d-68e371a05c2f\",\"type\":\"GlyphRenderer\"},{\"id\":\"1e871bb2-482f-421b-ae58-fb76ed198c9a\",\"type\":\"GlyphRenderer\"},{\"id\":\"c888697f-20ba-44fb-87cd-a727eb648059\",\"type\":\"GlyphRenderer\"},{\"id\":\"ca7fe468-d40b-45b9-91e9-c9b0c7d5541e\",\"type\":\"GlyphRenderer\"},{\"id\":\"0e123e95-3c49-4ff5-9df7-9a6bf18778c3\",\"type\":\"GlyphRenderer\"},{\"id\":\"d70d0ed2-418b-48de-aa96-de0bb638d16f\",\"type\":\"GlyphRenderer\"},{\"id\":\"7e5cfc83-777d-4abb-9ac7-008a5a7db7f0\",\"type\":\"GlyphRenderer\"},{\"id\":\"eb4ec6e6-453b-421e-9dc7-9c46514540cb\",\"type\":\"CategoricalAxis\"},{\"id\":\"3a482e4d-7aea-40f7-8e31-7e5648e33852\",\"type\":\"LinearAxis\"},{\"id\":\"c51b42cc-a827-448d-976a-d2e4129bb007\",\"type\":\"Grid\"}],\"title\":\"Proportion of ebola outbreaks per country in %\",\"title_text_font_size\":{\"value\":\"14pt\"},\"tool_events\":{\"id\":\"f76c567d-2cca-493d-a79a-c2ce164fb31f\",\"type\":\"ToolEvents\"},\"tools\":[{\"id\":\"867635c9-b7fe-482c-be3a-ff71193f5ae0\",\"type\":\"PanTool\"},{\"id\":\"47967ed1-f3ef-44d0-bd17-717da5d3e3cf\",\"type\":\"WheelZoomTool\"},{\"id\":\"590e0c8d-0359-4bcd-88e9-3e158bf54812\",\"type\":\"BoxZoomTool\"},{\"id\":\"a9aee786-8574-4044-aa69-9c7b47a38d78\",\"type\":\"PreviewSaveTool\"},{\"id\":\"ad0855fe-02d2-41d3-b49d-507b3b64cfdd\",\"type\":\"ResizeTool\"},{\"id\":\"8aa45c51-3651-4085-8342-97db238934a9\",\"type\":\"ResetTool\"},{\"id\":\"659cb52d-7a03-4336-ab06-e1958eaed4bc\",\"type\":\"HelpTool\"}],\"x_mapper_type\":\"auto\",\"x_range\":{\"id\":\"90a56e06-c9dd-45da-bad5-3e9454a1545b\",\"type\":\"FactorRange\"},\"xgrid\":false,\"xscale\":\"auto\",\"y_mapper_type\":\"auto\",\"y_range\":{\"id\":\"9f6ad736-8331-4b3f-a9ad-29198afa64be\",\"type\":\"Range1d\"},\"yscale\":\"auto\"},\"id\":\"cc8e96b1-62d9-420e-9d68-d051369086e9\",\"subtype\":\"Chart\",\"type\":\"Plot\"},{\"attributes\":{\"fill_alpha\":{\"field\":\"fill_alpha\"},\"fill_color\":{\"field\":\"color\"},\"height\":{\"field\":\"height\",\"units\":\"data\"},\"line_color\":{\"field\":\"line_color\"},\"width\":{\"field\":\"width\",\"units\":\"data\"},\"x\":{\"field\":\"x\"},\"y\":{\"field\":\"y\"}},\"id\":\"435c1052-7c1b-44c5-a72b-f7b9808232c7\",\"type\":\"Rect\"},{\"attributes\":{\"dimension\":1,\"plot\":{\"id\":\"cc8e96b1-62d9-420e-9d68-d051369086e9\",\"subtype\":\"Chart\",\"type\":\"Plot\"},\"ticker\":{\"id\":\"47e3eec0-0e19-44bf-8266-07d8891ce8fb\",\"type\":\"BasicTicker\"}},\"id\":\"c51b42cc-a827-448d-976a-d2e4129bb007\",\"type\":\"Grid\"},{\"attributes\":{\"callback\":null,\"column_names\":[\"line_color\",\"line_alpha\",\"color\",\"fill_alpha\",\"height\",\"width\",\"y\",\"x\"],\"data\":{\"chart_index\":[{\"index\":\"England\"}],\"color\":[\"navy\"],\"fill_alpha\":[0.8],\"height\":[3.0303030303030303],\"index\":[\"England\"],\"line_alpha\":[1.0],\"line_color\":[\"white\"],\"width\":[0.8],\"x\":[\"England\"],\"y\":[1.5151515151515151]}},\"id\":\"e80a0b5d-2b7c-412e-b2ad-735dcaeb63d7\",\"type\":\"ColumnDataSource\"},{\"attributes\":{\"plot\":{\"id\":\"cc8e96b1-62d9-420e-9d68-d051369086e9\",\"subtype\":\"Chart\",\"type\":\"Plot\"}},\"id\":\"8aa45c51-3651-4085-8342-97db238934a9\",\"type\":\"ResetTool\"},{\"attributes\":{\"callback\":null,\"column_names\":[\"line_color\",\"line_alpha\",\"color\",\"fill_alpha\",\"height\",\"width\",\"y\",\"x\"],\"data\":{\"chart_index\":[{\"index\":\"Philippines\"}],\"color\":[\"navy\"],\"fill_alpha\":[0.8],\"height\":[9.090909090909092],\"index\":[\"Philippines\"],\"line_alpha\":[1.0],\"line_color\":[\"white\"],\"width\":[0.8],\"x\":[\"Philippines\"],\"y\":[4.545454545454546]}},\"id\":\"bce273ec-a97e-4376-90ca-e10452e8d1f6\",\"type\":\"ColumnDataSource\"},{\"attributes\":{\"data_source\":{\"id\":\"bce273ec-a97e-4376-90ca-e10452e8d1f6\",\"type\":\"ColumnDataSource\"},\"glyph\":{\"id\":\"aeb2f951-10e6-4bbc-97cb-c3d5a7b3a4ce\",\"type\":\"Rect\"},\"hover_glyph\":null,\"nonselection_glyph\":null,\"selection_glyph\":null},\"id\":\"1e871bb2-482f-421b-ae58-fb76ed198c9a\",\"type\":\"GlyphRenderer\"},{\"attributes\":{\"data_source\":{\"id\":\"bb1c1f02-e76b-419c-9803-3061e3c9796a\",\"type\":\"ColumnDataSource\"},\"glyph\":{\"id\":\"47ecfbb2-0558-4037-ade3-c2c4df140715\",\"type\":\"Rect\"},\"hover_glyph\":null,\"nonselection_glyph\":null,\"selection_glyph\":null},\"id\":\"d70d0ed2-418b-48de-aa96-de0bb638d16f\",\"type\":\"GlyphRenderer\"},{\"attributes\":{\"callback\":null,\"column_names\":[\"line_color\",\"line_alpha\",\"color\",\"fill_alpha\",\"height\",\"width\",\"y\",\"x\"],\"data\":{\"chart_index\":[{\"index\":\"Cote d'Ivoire (Ivory Coast)\"}],\"color\":[\"navy\"],\"fill_alpha\":[0.8],\"height\":[3.0303030303030303],\"index\":[\"Cote d'Ivoire (Ivory Coast)\"],\"line_alpha\":[1.0],\"line_color\":[\"white\"],\"width\":[0.8],\"x\":[\"Cote d'Ivoire (Ivory Coast)\"],\"y\":[1.5151515151515151]}},\"id\":\"3c0c9e12-4054-40e8-88a9-809836c584e1\",\"type\":\"ColumnDataSource\"},{\"attributes\":{\"callback\":null,\"column_names\":[\"line_color\",\"line_alpha\",\"color\",\"fill_alpha\",\"height\",\"width\",\"y\",\"x\"],\"data\":{\"chart_index\":[{\"index\":\"Democratic Republic of the Congo\"}],\"color\":[\"navy\"],\"fill_alpha\":[0.8],\"height\":[27.272727272727273],\"index\":[\"Democratic Republic of the Congo\"],\"line_alpha\":[1.0],\"line_color\":[\"white\"],\"width\":[0.8],\"x\":[\"Democratic Republic of the Congo\"],\"y\":[13.636363636363637]}},\"id\":\"ea9301c3-acb4-4a51-aeee-bd0da2388198\",\"type\":\"ColumnDataSource\"},{\"attributes\":{},\"id\":\"47e3eec0-0e19-44bf-8266-07d8891ce8fb\",\"type\":\"BasicTicker\"},{\"attributes\":{\"callback\":null,\"end\":28.636363636363637},\"id\":\"9f6ad736-8331-4b3f-a9ad-29198afa64be\",\"type\":\"Range1d\"}],\"root_ids\":[\"cc8e96b1-62d9-420e-9d68-d051369086e9\"]},\"title\":\"Bokeh Application\",\"version\":\"0.11.1\"}};\n",
       "            var render_items = [{\"docid\":\"f46ea8b5-f76b-4831-926c-db1e48a834e9\",\"elementid\":\"d351a72c-70de-4416-bf4e-d523f9f9b312\",\"modelid\":\"cc8e96b1-62d9-420e-9d68-d051369086e9\",\"notebook_comms_target\":\"91abcefb-7cee-40d1-94b3-10bcea8c76cd\"}];\n",
       "            \n",
       "            Bokeh.embed.embed_items(docs_json, render_items);\n",
       "        });\n",
       "      },\n",
       "      function(Bokeh) {\n",
       "      }\n",
       "    ];\n",
       "  \n",
       "    function run_inline_js() {\n",
       "      for (var i = 0; i < inline_js.length; i++) {\n",
       "        inline_js[i](window.Bokeh);\n",
       "      }\n",
       "    }\n",
       "  \n",
       "    if (window._bokeh_is_loading === 0) {\n",
       "      console.log(\"Bokeh: BokehJS loaded, going straight to plotting\");\n",
       "      run_inline_js();\n",
       "    } else {\n",
       "      load_libs(js_urls, function() {\n",
       "        console.log(\"Bokeh: BokehJS plotting callback run at\", now());\n",
       "        run_inline_js();\n",
       "      });\n",
       "    }\n",
       "  }(this));\n",
       "</script>"
      ]
     },
     "metadata": {},
     "output_type": "display_data"
    },
    {
     "data": {
      "text/html": [
       "<p><code>&lt;Bokeh Notebook handle for <strong>In[6]</strong>&gt;</code></p>"
      ],
      "text/plain": [
       "<bokeh.io._CommsHandle at 0x7f1d00b10190>"
      ]
     },
     "execution_count": 6,
     "metadata": {},
     "output_type": "execute_result"
    }
   ],
   "source": [
    "total_outbrks = ebola_data.groupby([\"country_name\"])[\"country_name\"].count().sum()\n",
    "outbrks_percent = outbrks_data.mul(100).truediv(total_outbrks)\n",
    "\n",
    "data = outbrks_percent.to_frame(name='proportions of outbreaks (%)')\n",
    "\n",
    "print data\n",
    "\n",
    "bar_outbrks = Bar(data, values='proportions of outbreaks (%)', color='navy',\n",
    "                   title=\"Proportion of ebola outbreaks per country in %\")\n",
    "\n",
    "output_notebook()\n",
    "output_file(\"outbreaks.html\", title=\"Proportion of ebola outbreaks per country in %\")\n",
    "\n",
    "show(bar_outbrks)"
   ]
  },
  {
   "cell_type": "markdown",
   "metadata": {},
   "source": [
    "* Almost one third of the outbreaks before 2014 happened in DRC"
   ]
  },
  {
   "cell_type": "markdown",
   "metadata": {},
   "source": [
    "#### Distribution of ebola victims per country"
   ]
  },
  {
   "cell_type": "code",
   "execution_count": 7,
   "metadata": {
    "collapsed": false
   },
   "outputs": [
    {
     "data": {
      "text/html": [
       "<div>\n",
       "<table border=\"1\" class=\"dataframe\">\n",
       "  <thead>\n",
       "    <tr style=\"text-align: right;\">\n",
       "      <th></th>\n",
       "      <th>reported_number_of_human_cases</th>\n",
       "    </tr>\n",
       "    <tr>\n",
       "      <th>country_name</th>\n",
       "      <th></th>\n",
       "    </tr>\n",
       "  </thead>\n",
       "  <tbody>\n",
       "    <tr>\n",
       "      <th>Cote d'Ivoire (Ivory Coast)</th>\n",
       "      <td>1</td>\n",
       "    </tr>\n",
       "    <tr>\n",
       "      <th>Democratic Republic of the Congo</th>\n",
       "      <td>1201</td>\n",
       "    </tr>\n",
       "    <tr>\n",
       "      <th>England</th>\n",
       "      <td>1</td>\n",
       "    </tr>\n",
       "    <tr>\n",
       "      <th>Gabon</th>\n",
       "      <td>214</td>\n",
       "    </tr>\n",
       "    <tr>\n",
       "      <th>Italy</th>\n",
       "      <td>0</td>\n",
       "    </tr>\n",
       "    <tr>\n",
       "      <th>Philippines</th>\n",
       "      <td>9</td>\n",
       "    </tr>\n",
       "    <tr>\n",
       "      <th>Russia</th>\n",
       "      <td>2</td>\n",
       "    </tr>\n",
       "    <tr>\n",
       "      <th>South Africa</th>\n",
       "      <td>2</td>\n",
       "    </tr>\n",
       "    <tr>\n",
       "      <th>Sudan (South Sudan)</th>\n",
       "      <td>335</td>\n",
       "    </tr>\n",
       "    <tr>\n",
       "      <th>USA</th>\n",
       "      <td>4</td>\n",
       "    </tr>\n",
       "    <tr>\n",
       "      <th>Uganda</th>\n",
       "      <td>592</td>\n",
       "    </tr>\n",
       "  </tbody>\n",
       "</table>\n",
       "</div>"
      ],
      "text/plain": [
       "                                  reported_number_of_human_cases\n",
       "country_name                                                    \n",
       "Cote d'Ivoire (Ivory Coast)                                    1\n",
       "Democratic Republic of the Congo                            1201\n",
       "England                                                        1\n",
       "Gabon                                                        214\n",
       "Italy                                                          0\n",
       "Philippines                                                    9\n",
       "Russia                                                         2\n",
       "South Africa                                                   2\n",
       "Sudan (South Sudan)                                          335\n",
       "USA                                                            4\n",
       "Uganda                                                       592"
      ]
     },
     "execution_count": 7,
     "metadata": {},
     "output_type": "execute_result"
    }
   ],
   "source": [
    "ebola_data[[\"country_name\", \"reported_number_of_human_cases\"]].groupby([\"country_name\"]).sum()"
   ]
  },
  {
   "cell_type": "code",
   "execution_count": 9,
   "metadata": {
    "collapsed": false
   },
   "outputs": [],
   "source": [
    "df_ebola_victims = ebola_data[[\"country_name\", \"reported_number_of_human_cases\", \n",
    "                             \"reported_number_of_deaths_among_cases\"]]"
   ]
  },
  {
   "cell_type": "code",
   "execution_count": 10,
   "metadata": {
    "collapsed": false
   },
   "outputs": [
    {
     "data": {
      "text/html": [
       "\n",
       "    <div class=\"bk-banner\">\n",
       "        <a href=\"http://bokeh.pydata.org\" target=\"_blank\" class=\"bk-logo bk-logo-small bk-logo-notebook\"></a>\n",
       "        <span id=\"3a60b247-b221-4a92-80bd-178e7eafdd17\">Loading BokehJS ...</span>\n",
       "    </div>"
      ]
     },
     "metadata": {},
     "output_type": "display_data"
    },
    {
     "data": {
      "application/javascript": [
       "\n",
       "(function(global) {\n",
       "  function now() {\n",
       "    return new Date();\n",
       "  }\n",
       "\n",
       "  if (typeof (window._bokeh_onload_callbacks) === \"undefined\") {\n",
       "    window._bokeh_onload_callbacks = [];\n",
       "  }\n",
       "\n",
       "  function run_callbacks() {\n",
       "    window._bokeh_onload_callbacks.forEach(function(callback) { callback() });\n",
       "    delete window._bokeh_onload_callbacks\n",
       "    console.info(\"Bokeh: all callbacks have finished\");\n",
       "  }\n",
       "\n",
       "  function load_libs(js_urls, callback) {\n",
       "    window._bokeh_onload_callbacks.push(callback);\n",
       "    if (window._bokeh_is_loading > 0) {\n",
       "      console.log(\"Bokeh: BokehJS is being loaded, scheduling callback at\", now());\n",
       "      return null;\n",
       "    }\n",
       "    if (js_urls == null || js_urls.length === 0) {\n",
       "      run_callbacks();\n",
       "      return null;\n",
       "    }\n",
       "    console.log(\"Bokeh: BokehJS not loaded, scheduling load and callback at\", now());\n",
       "    window._bokeh_is_loading = js_urls.length;\n",
       "    for (var i = 0; i < js_urls.length; i++) {\n",
       "      var url = js_urls[i];\n",
       "      var s = document.createElement('script');\n",
       "      s.src = url;\n",
       "      s.async = false;\n",
       "      s.onreadystatechange = s.onload = function() {\n",
       "        window._bokeh_is_loading--;\n",
       "        if (window._bokeh_is_loading === 0) {\n",
       "          console.log(\"Bokeh: all BokehJS libraries loaded\");\n",
       "          run_callbacks()\n",
       "        }\n",
       "      };\n",
       "      s.onerror = function() {\n",
       "        console.warn(\"failed to load library \" + url);\n",
       "      };\n",
       "      console.log(\"Bokeh: injecting script tag for BokehJS library: \", url);\n",
       "      document.getElementsByTagName(\"head\")[0].appendChild(s);\n",
       "    }\n",
       "  };\n",
       "\n",
       "  var js_urls = ['https://cdn.pydata.org/bokeh/release/bokeh-0.11.1.min.js', 'https://cdn.pydata.org/bokeh/release/bokeh-widgets-0.11.1.min.js', 'https://cdn.pydata.org/bokeh/release/bokeh-compiler-0.11.1.min.js'];\n",
       "\n",
       "  var inline_js = [\n",
       "    function(Bokeh) {\n",
       "      Bokeh.set_log_level(\"info\");\n",
       "    },\n",
       "    \n",
       "    function(Bokeh) {\n",
       "      Bokeh.$(\"#3a60b247-b221-4a92-80bd-178e7eafdd17\").text(\"BokehJS successfully loaded\");\n",
       "    },\n",
       "    function(Bokeh) {\n",
       "      console.log(\"Bokeh: injecting CSS: https://cdn.pydata.org/bokeh/release/bokeh-0.11.1.min.css\");\n",
       "      Bokeh.embed.inject_css(\"https://cdn.pydata.org/bokeh/release/bokeh-0.11.1.min.css\");\n",
       "      console.log(\"Bokeh: injecting CSS: https://cdn.pydata.org/bokeh/release/bokeh-widgets-0.11.1.min.css\");\n",
       "      Bokeh.embed.inject_css(\"https://cdn.pydata.org/bokeh/release/bokeh-widgets-0.11.1.min.css\");\n",
       "    }\n",
       "  ];\n",
       "\n",
       "  function run_inline_js() {\n",
       "    for (var i = 0; i < inline_js.length; i++) {\n",
       "      inline_js[i](window.Bokeh);\n",
       "    }\n",
       "  }\n",
       "\n",
       "  if (window._bokeh_is_loading === 0) {\n",
       "    console.log(\"Bokeh: BokehJS loaded, going straight to plotting\");\n",
       "    run_inline_js();\n",
       "  } else {\n",
       "    load_libs(js_urls, function() {\n",
       "      console.log(\"Bokeh: BokehJS plotting callback run at\", now());\n",
       "      run_inline_js();\n",
       "    });\n",
       "  }\n",
       "}(this));"
      ]
     },
     "metadata": {},
     "output_type": "display_data"
    },
    {
     "data": {
      "text/html": [
       "\n",
       "\n",
       "    <div class=\"plotdiv\" id=\"66f8b92d-1c22-4231-a2a8-b580f3dd0945\"></div>\n",
       "<script type=\"text/javascript\">\n",
       "  \n",
       "  (function(global) {\n",
       "    function now() {\n",
       "      return new Date();\n",
       "    }\n",
       "  \n",
       "    if (typeof (window._bokeh_onload_callbacks) === \"undefined\") {\n",
       "      window._bokeh_onload_callbacks = [];\n",
       "    }\n",
       "  \n",
       "    function run_callbacks() {\n",
       "      window._bokeh_onload_callbacks.forEach(function(callback) { callback() });\n",
       "      delete window._bokeh_onload_callbacks\n",
       "      console.info(\"Bokeh: all callbacks have finished\");\n",
       "    }\n",
       "  \n",
       "    function load_libs(js_urls, callback) {\n",
       "      window._bokeh_onload_callbacks.push(callback);\n",
       "      if (window._bokeh_is_loading > 0) {\n",
       "        console.log(\"Bokeh: BokehJS is being loaded, scheduling callback at\", now());\n",
       "        return null;\n",
       "      }\n",
       "      if (js_urls == null || js_urls.length === 0) {\n",
       "        run_callbacks();\n",
       "        return null;\n",
       "      }\n",
       "      console.log(\"Bokeh: BokehJS not loaded, scheduling load and callback at\", now());\n",
       "      window._bokeh_is_loading = js_urls.length;\n",
       "      for (var i = 0; i < js_urls.length; i++) {\n",
       "        var url = js_urls[i];\n",
       "        var s = document.createElement('script');\n",
       "        s.src = url;\n",
       "        s.async = false;\n",
       "        s.onreadystatechange = s.onload = function() {\n",
       "          window._bokeh_is_loading--;\n",
       "          if (window._bokeh_is_loading === 0) {\n",
       "            console.log(\"Bokeh: all BokehJS libraries loaded\");\n",
       "            run_callbacks()\n",
       "          }\n",
       "        };\n",
       "        s.onerror = function() {\n",
       "          console.warn(\"failed to load library \" + url);\n",
       "        };\n",
       "        console.log(\"Bokeh: injecting script tag for BokehJS library: \", url);\n",
       "        document.getElementsByTagName(\"head\")[0].appendChild(s);\n",
       "      }\n",
       "    };var element = document.getElementById(\"66f8b92d-1c22-4231-a2a8-b580f3dd0945\");\n",
       "    if (element == null) {\n",
       "      console.log(\"Bokeh: ERROR: autoload.js configured with elementid '66f8b92d-1c22-4231-a2a8-b580f3dd0945' but no matching script tag was found. \")\n",
       "      return false;\n",
       "    }\n",
       "  \n",
       "    var js_urls = [];\n",
       "  \n",
       "    var inline_js = [\n",
       "      function(Bokeh) {\n",
       "        Bokeh.$(function() {\n",
       "            var docs_json = {\"7d2db8d8-3493-4622-a5ab-d409599a946e\":{\"roots\":{\"references\":[{\"attributes\":{\"callback\":null,\"column_names\":[\"line_color\",\"line_alpha\",\"color\",\"fill_alpha\",\"height\",\"width\",\"y\",\"x\"],\"data\":{\"chart_index\":[{\"country_name\":\"Sudan (South Sudan)\"}],\"color\":[\"DimGrey\"],\"country_name\":[\"Sudan (South Sudan)\"],\"fill_alpha\":[0.8],\"height\":[125.0],\"line_alpha\":[1.0],\"line_color\":[\"black\"],\"width\":[0.8],\"x\":[\"Sudan (South Sudan)\"],\"y\":[96.5]}},\"id\":\"4a02d0d5-d807-477c-bc1c-a8a72f5bdd08\",\"type\":\"ColumnDataSource\"},{\"attributes\":{\"bottom_units\":\"screen\",\"fill_alpha\":{\"value\":0.5},\"fill_color\":{\"value\":\"lightgrey\"},\"left_units\":\"screen\",\"level\":\"overlay\",\"line_alpha\":{\"value\":1.0},\"line_color\":{\"value\":\"black\"},\"line_dash\":[4,4],\"line_width\":{\"value\":2},\"plot\":null,\"render_mode\":\"css\",\"right_units\":\"screen\",\"top_units\":\"screen\"},\"id\":\"65c8d844-0a1c-4e1e-88ed-3ef3d7023d4b\",\"type\":\"BoxAnnotation\"},{\"attributes\":{\"callback\":null,\"column_names\":[\"line_color\",\"line_alpha\",\"color\",\"fill_alpha\",\"height\",\"width\",\"y\",\"x\"],\"data\":{\"chart_index\":[{\"country_name\":\"Philippines\"}],\"color\":[\"DimGrey\"],\"country_name\":[\"Philippines\"],\"fill_alpha\":[0.8],\"height\":[1.5],\"line_alpha\":[1.0],\"line_color\":[\"black\"],\"width\":[0.8],\"x\":[\"Philippines\"],\"y\":[3.75]}},\"id\":\"d71f6377-807a-450a-9215-88f594906dbc\",\"type\":\"ColumnDataSource\"},{\"attributes\":{\"data_source\":{\"id\":\"c8044c38-2550-4d3d-bd5d-13a05fcac2b3\",\"type\":\"ColumnDataSource\"},\"glyph\":{\"id\":\"6033c86e-01a6-47ac-944d-4a190c37b2d1\",\"type\":\"Rect\"},\"hover_glyph\":null,\"nonselection_glyph\":null,\"selection_glyph\":null},\"id\":\"3c18f31a-5a5c-4cd0-abbb-22840156358c\",\"type\":\"GlyphRenderer\"},{\"attributes\":{\"callback\":null,\"column_names\":[\"line_color\",\"line_alpha\",\"color\",\"fill_alpha\",\"height\",\"width\",\"y\",\"x\"],\"data\":{\"chart_index\":[{\"index\":\"USA\"}],\"color\":[\"navy\"],\"fill_alpha\":[0.8],\"height\":[9.090909090909092],\"index\":[\"USA\"],\"line_alpha\":[1.0],\"line_color\":[\"white\"],\"width\":[0.8],\"x\":[\"USA\"],\"y\":[4.545454545454546]}},\"id\":\"901ad97f-643b-449f-bad6-613802dea6cc\",\"type\":\"ColumnDataSource\"},{\"attributes\":{\"fill_alpha\":{\"field\":\"fill_alpha\"},\"fill_color\":{\"field\":\"color\"},\"height\":{\"field\":\"height\",\"units\":\"data\"},\"line_color\":{\"field\":\"line_color\"},\"width\":{\"field\":\"width\",\"units\":\"data\"},\"x\":{\"field\":\"x\"},\"y\":{\"field\":\"y\"}},\"id\":\"2993cd6c-5597-4499-99cd-570d9dfb3b22\",\"type\":\"Rect\"},{\"attributes\":{\"line_color\":{\"value\":\"#df5320\"},\"line_width\":{\"value\":2},\"x0\":{\"field\":\"x0s\"},\"x1\":{\"field\":\"x1s\"},\"y0\":{\"field\":\"y0s\"},\"y1\":{\"field\":\"y1s\"}},\"id\":\"bcaf22c5-583b-46aa-aac9-a9cc328c77e3\",\"type\":\"Segment\"},{\"attributes\":{\"callback\":null,\"column_names\":[\"line_color\",\"line_alpha\",\"color\",\"fill_alpha\",\"height\",\"width\",\"y\",\"x\"],\"data\":{\"chart_index\":[{\"country_name\":\"USA\"}],\"color\":[\"DimGrey\"],\"country_name\":[\"USA\"],\"fill_alpha\":[0.8],\"height\":[2.0],\"line_alpha\":[1.0],\"line_color\":[\"black\"],\"width\":[0.8],\"x\":[\"USA\"],\"y\":[1.0]}},\"id\":\"e4deaad9-ab0d-4645-bf41-c28a9fa12bd6\",\"type\":\"ColumnDataSource\"},{\"attributes\":{\"data_source\":{\"id\":\"4a02d0d5-d807-477c-bc1c-a8a72f5bdd08\",\"type\":\"ColumnDataSource\"},\"glyph\":{\"id\":\"95bbce0e-cc2a-4638-809e-744a2093ef37\",\"type\":\"Rect\"},\"hover_glyph\":null,\"nonselection_glyph\":null,\"selection_glyph\":null},\"id\":\"18068199-76c4-4dea-a52d-f02c6d08315d\",\"type\":\"GlyphRenderer\"},{\"attributes\":{\"fill_alpha\":{\"field\":\"fill_alpha\"},\"fill_color\":{\"field\":\"color\"},\"height\":{\"field\":\"height\",\"units\":\"data\"},\"line_color\":{\"field\":\"line_color\"},\"width\":{\"field\":\"width\",\"units\":\"data\"},\"x\":{\"field\":\"x\"},\"y\":{\"field\":\"y\"}},\"id\":\"2cb4515f-51cc-4677-9306-040f951d65ec\",\"type\":\"Rect\"},{\"attributes\":{\"fill_alpha\":{\"field\":\"fill_alpha\"},\"fill_color\":{\"field\":\"color\"},\"height\":{\"field\":\"height\",\"units\":\"data\"},\"line_color\":{\"field\":\"line_color\"},\"width\":{\"field\":\"width\",\"units\":\"data\"},\"x\":{\"field\":\"x\"},\"y\":{\"field\":\"y\"}},\"id\":\"7b3b2943-54c2-47b1-96b0-8b9b9d5bc604\",\"type\":\"Rect\"},{\"attributes\":{\"callback\":null,\"column_names\":[\"line_color\",\"line_alpha\",\"color\",\"fill_alpha\",\"height\",\"width\",\"y\",\"x\"],\"data\":{\"chart_index\":[{\"country_name\":\"South Africa\"}],\"color\":[\"DimGrey\"],\"country_name\":[\"South Africa\"],\"fill_alpha\":[0.8],\"height\":[0],\"line_alpha\":[1.0],\"line_color\":[\"black\"],\"width\":[0.8],\"x\":[\"South Africa\"],\"y\":[2.0]}},\"id\":\"cc85fbf5-d360-471a-9305-0084327ac1ee\",\"type\":\"ColumnDataSource\"},{\"attributes\":{\"data_source\":{\"id\":\"4d6a3652-d4c7-4268-bfbc-5691b6c4d004\",\"type\":\"ColumnDataSource\"},\"glyph\":{\"id\":\"bcaf22c5-583b-46aa-aac9-a9cc328c77e3\",\"type\":\"Segment\"},\"hover_glyph\":null,\"nonselection_glyph\":null,\"selection_glyph\":null},\"id\":\"5f39936b-cc9c-495c-82e5-53c7fd509362\",\"type\":\"GlyphRenderer\"},{\"attributes\":{\"plot\":{\"id\":\"b54cb84a-7ef1-4cd9-9084-c738af7d0391\",\"subtype\":\"Chart\",\"type\":\"Plot\"}},\"id\":\"aeb9a7c3-498e-4d69-8afa-32b36cf3824c\",\"type\":\"HelpTool\"},{\"attributes\":{\"callback\":null,\"column_names\":[\"x0s\",\"y0s\",\"x1s\",\"y1s\"],\"data\":{\"chart_index\":[{\"country_name\":\"Democratic Republic of the Congo\"},{\"country_name\":\"Democratic Republic of the Congo\"},{\"country_name\":\"Democratic Republic of the Congo\"},{\"country_name\":\"Democratic Republic of the Congo\"}],\"country_name\":[\"Democratic Republic of the Congo\",\"Democratic Republic of the Congo\",\"Democratic Republic of the Congo\",\"Democratic Republic of the Congo\"],\"x0s\":[\"Democratic Republic of the Congo:0.5\",\"Democratic Republic of the Congo:0.65\",\"Democratic Republic of the Congo:0.5\",\"Democratic Republic of the Congo:0.65\"],\"x1s\":[\"Democratic Republic of the Congo:0.5\",\"Democratic Republic of the Congo:0.35\",\"Democratic Republic of the Congo:0.5\",\"Democratic Republic of the Congo:0.35\"],\"y0s\":[1.0,1.0,264.0,318.0],\"y1s\":[35.0,1.0,318.0,318.0]}},\"id\":\"ebe87302-2760-4296-a1db-36542965fdb2\",\"type\":\"ColumnDataSource\"},{\"attributes\":{\"formatter\":{\"id\":\"184b0005-b86b-4ff0-b079-fc68fdf26b3a\",\"type\":\"CategoricalTickFormatter\"},\"major_label_orientation\":0.7853981633974483,\"plot\":{\"id\":\"cc8e96b1-62d9-420e-9d68-d051369086e9\",\"subtype\":\"Chart\",\"type\":\"Plot\"},\"ticker\":{\"id\":\"7bc000e1-c083-4fcc-ad61-9f1c78655fca\",\"type\":\"CategoricalTicker\"}},\"id\":\"eb4ec6e6-453b-421e-9dc7-9c46514540cb\",\"type\":\"CategoricalAxis\"},{\"attributes\":{\"data_source\":{\"id\":\"498f2643-c4cc-4bb2-a1ea-0e247ccfd3e2\",\"type\":\"ColumnDataSource\"},\"glyph\":{\"id\":\"75360bdf-bf62-40cc-933a-123ea038053b\",\"type\":\"Segment\"},\"hover_glyph\":null,\"nonselection_glyph\":null,\"selection_glyph\":null},\"id\":\"ab2bccf7-ffe9-4033-aaa2-893481e16f06\",\"type\":\"GlyphRenderer\"},{\"attributes\":{},\"id\":\"7fd45cda-1470-41b5-81bb-3ab0d5e45ef5\",\"type\":\"CategoricalTicker\"},{\"attributes\":{\"line_color\":{\"value\":\"#00ad9c\"},\"line_width\":{\"value\":2},\"x0\":{\"field\":\"x0s\"},\"x1\":{\"field\":\"x1s\"},\"y0\":{\"field\":\"y0s\"},\"y1\":{\"field\":\"y1s\"}},\"id\":\"b58b3960-a94a-4f80-9ee3-ef63ff3f0da4\",\"type\":\"Segment\"},{\"attributes\":{\"callback\":null,\"column_names\":[\"line_color\",\"line_alpha\",\"color\",\"fill_alpha\",\"height\",\"width\",\"y\",\"x\"],\"data\":{\"chart_index\":[{\"index\":\"Uganda\"}],\"color\":[\"navy\"],\"fill_alpha\":[0.8],\"height\":[15.151515151515152],\"index\":[\"Uganda\"],\"line_alpha\":[1.0],\"line_color\":[\"white\"],\"width\":[0.8],\"x\":[\"Uganda\"],\"y\":[7.575757575757576]}},\"id\":\"bb1c1f02-e76b-419c-9803-3061e3c9796a\",\"type\":\"ColumnDataSource\"},{\"attributes\":{\"data_source\":{\"id\":\"e5c395c7-845f-4d85-b0af-777a2c21a5fa\",\"type\":\"ColumnDataSource\"},\"glyph\":{\"id\":\"30d49db4-46b2-4f5b-991b-29d4a0b8c463\",\"type\":\"Rect\"},\"hover_glyph\":null,\"nonselection_glyph\":null,\"selection_glyph\":null},\"id\":\"c888697f-20ba-44fb-87cd-a727eb648059\",\"type\":\"GlyphRenderer\"},{\"attributes\":{\"line_color\":{\"value\":\"#c33ff3\"},\"line_width\":{\"value\":2},\"x0\":{\"field\":\"x0s\"},\"x1\":{\"field\":\"x1s\"},\"y0\":{\"field\":\"y0s\"},\"y1\":{\"field\":\"y1s\"}},\"id\":\"98d48580-db11-45f0-ac72-5bdb7ae26f7e\",\"type\":\"Segment\"},{\"attributes\":{\"callback\":null,\"column_names\":[\"line_color\",\"line_alpha\",\"color\",\"fill_alpha\",\"height\",\"width\",\"y\",\"x\"],\"data\":{\"chart_index\":[{\"country_name\":\"Italy\"}],\"color\":[\"DimGrey\"],\"country_name\":[\"Italy\"],\"fill_alpha\":[0.8],\"height\":[0.0],\"line_alpha\":[1.0],\"line_color\":[\"black\"],\"width\":[0.8],\"x\":[\"Italy\"],\"y\":[0.0]}},\"id\":\"1c727db1-f29a-4bdd-9519-5cce9c2c9715\",\"type\":\"ColumnDataSource\"},{\"attributes\":{\"plot\":{\"id\":\"cc8e96b1-62d9-420e-9d68-d051369086e9\",\"subtype\":\"Chart\",\"type\":\"Plot\"}},\"id\":\"47967ed1-f3ef-44d0-bd17-717da5d3e3cf\",\"type\":\"WheelZoomTool\"},{\"attributes\":{\"fill_alpha\":{\"field\":\"fill_alpha\"},\"fill_color\":{\"field\":\"color\"},\"height\":{\"field\":\"height\",\"units\":\"data\"},\"line_color\":{\"field\":\"line_color\"},\"width\":{\"field\":\"width\",\"units\":\"data\"},\"x\":{\"field\":\"x\"},\"y\":{\"field\":\"y\"}},\"id\":\"6033c86e-01a6-47ac-944d-4a190c37b2d1\",\"type\":\"Rect\"},{\"attributes\":{\"callback\":null,\"column_names\":[\"x0s\",\"y0s\",\"x1s\",\"y1s\"],\"data\":{\"chart_index\":[{\"country_name\":\"South Africa\"},{\"country_name\":\"South Africa\"},{\"country_name\":\"South Africa\"},{\"country_name\":\"South Africa\"}],\"country_name\":[\"South Africa\",\"South Africa\",\"South Africa\",\"South Africa\"],\"x0s\":[\"South Africa:0.5\",\"South Africa:0.65\",\"South Africa:0.5\",\"South Africa:0.65\"],\"x1s\":[\"South Africa:0.5\",\"South Africa:0.35\",\"South Africa:0.5\",\"South Africa:0.35\"],\"y0s\":[2.0,2.0,2.0,2.0],\"y1s\":[2.0,2.0,2.0,2.0]}},\"id\":\"bfbc1439-3e4e-4bfc-84f1-517d87038e57\",\"type\":\"ColumnDataSource\"},{\"attributes\":{\"callback\":null,\"end\":381.675},\"id\":\"14fdfc3f-2c46-46b5-ba25-2be63e7aede8\",\"type\":\"Range1d\"},{\"attributes\":{\"line_color\":{\"value\":\"#407ee7\"},\"line_width\":{\"value\":2},\"x0\":{\"field\":\"x0s\"},\"x1\":{\"field\":\"x1s\"},\"y0\":{\"field\":\"y0s\"},\"y1\":{\"field\":\"y1s\"}},\"id\":\"75360bdf-bf62-40cc-933a-123ea038053b\",\"type\":\"Segment\"},{\"attributes\":{\"data_source\":{\"id\":\"9bc67b12-7786-4dfc-978a-b227e3422115\",\"type\":\"ColumnDataSource\"},\"glyph\":{\"id\":\"1e5d072f-dc0e-43d1-93b8-888a276e0978\",\"type\":\"Rect\"},\"hover_glyph\":null,\"nonselection_glyph\":null,\"selection_glyph\":null},\"id\":\"523ead97-ebab-41d9-be4e-9563b64ecc0b\",\"type\":\"GlyphRenderer\"},{\"attributes\":{\"plot\":{\"id\":\"b54cb84a-7ef1-4cd9-9084-c738af7d0391\",\"subtype\":\"Chart\",\"type\":\"Plot\"}},\"id\":\"afd9e5bf-25d0-4e0a-afc1-294da4b3057c\",\"type\":\"PreviewSaveTool\"},{\"attributes\":{\"data_source\":{\"id\":\"2dd43c63-6ed9-4d13-991e-3ada1f26968d\",\"type\":\"ColumnDataSource\"},\"glyph\":{\"id\":\"a11d23c7-5547-4dac-bada-aaf738898bed\",\"type\":\"Rect\"},\"hover_glyph\":null,\"nonselection_glyph\":null,\"selection_glyph\":null},\"id\":\"352728c3-6bb0-473b-ada2-19e586063796\",\"type\":\"GlyphRenderer\"},{\"attributes\":{\"callback\":null,\"column_names\":[\"line_color\",\"line_alpha\",\"color\",\"fill_alpha\",\"height\",\"width\",\"y\",\"x\"],\"data\":{\"chart_index\":[{\"country_name\":\"Democratic Republic of the Congo\"}],\"color\":[\"DimGrey\"],\"country_name\":[\"Democratic Republic of the Congo\"],\"fill_alpha\":[0.8],\"height\":[22.0],\"line_alpha\":[1.0],\"line_color\":[\"black\"],\"width\":[0.8],\"x\":[\"Democratic Republic of the Congo\"],\"y\":[46.0]}},\"id\":\"7f451f04-18d2-433f-811a-8e7a3f702b9c\",\"type\":\"ColumnDataSource\"},{\"attributes\":{},\"id\":\"6b29c076-abba-4998-ab22-bac588a72f29\",\"type\":\"BasicTicker\"},{\"attributes\":{\"data_source\":{\"id\":\"acdf9eee-7a72-479d-ac65-f486ee0dc056\",\"type\":\"ColumnDataSource\"},\"glyph\":{\"id\":\"56c810bf-a278-42bf-8d5a-90b9951fe492\",\"type\":\"Rect\"},\"hover_glyph\":null,\"nonselection_glyph\":null,\"selection_glyph\":null},\"id\":\"d4b4c626-4418-4a09-9886-9ed67c10eb01\",\"type\":\"GlyphRenderer\"},{\"attributes\":{\"plot\":{\"id\":\"cc8e96b1-62d9-420e-9d68-d051369086e9\",\"subtype\":\"Chart\",\"type\":\"Plot\"}},\"id\":\"867635c9-b7fe-482c-be3a-ff71193f5ae0\",\"type\":\"PanTool\"},{\"attributes\":{},\"id\":\"47e3eec0-0e19-44bf-8266-07d8891ce8fb\",\"type\":\"BasicTicker\"},{\"attributes\":{\"data_source\":{\"id\":\"cc85fbf5-d360-471a-9305-0084327ac1ee\",\"type\":\"ColumnDataSource\"},\"glyph\":{\"id\":\"f4681e60-86e0-4a19-8e06-115a82115181\",\"type\":\"Rect\"},\"hover_glyph\":null,\"nonselection_glyph\":null,\"selection_glyph\":null},\"id\":\"f9f89d75-59ce-4d56-87af-11ed545690ec\",\"type\":\"GlyphRenderer\"},{\"attributes\":{\"callback\":null,\"column_names\":[\"line_color\",\"line_alpha\",\"color\",\"fill_alpha\",\"height\",\"width\",\"y\",\"x\"],\"data\":{\"chart_index\":[{\"country_name\":\"Gabon\"}],\"color\":[\"DimGrey\"],\"country_name\":[\"Gabon\"],\"fill_alpha\":[0.8],\"height\":[7.75],\"line_alpha\":[1.0],\"line_color\":[\"black\"],\"width\":[0.8],\"x\":[\"Gabon\"],\"y\":[52.125]}},\"id\":\"51720d55-339a-43f4-8ba4-234ee62e75b7\",\"type\":\"ColumnDataSource\"},{\"attributes\":{\"below\":[{\"id\":\"a64d9bd3-9b8b-4d6e-98bc-92105eb4bf10\",\"type\":\"CategoricalAxis\"}],\"left\":[{\"id\":\"d694cd0f-bbe6-44ee-80e8-7c05ae663379\",\"type\":\"LinearAxis\"}],\"legend\":null,\"renderers\":[{\"id\":\"65c8d844-0a1c-4e1e-88ed-3ef3d7023d4b\",\"type\":\"BoxAnnotation\"},{\"id\":\"f2af8345-44df-444a-a57e-33792246064a\",\"type\":\"GlyphRenderer\"},{\"id\":\"8db2439a-9d42-41ec-9490-c9e855e74a53\",\"type\":\"GlyphRenderer\"},{\"id\":\"19f66d81-172e-49fc-a87b-7c9175e5d2f4\",\"type\":\"GlyphRenderer\"},{\"id\":\"7e5b6d75-21a0-44f1-8a20-7f10a1f369b5\",\"type\":\"GlyphRenderer\"},{\"id\":\"4feefded-079a-4f02-b8ae-86c86f16bf9a\",\"type\":\"GlyphRenderer\"},{\"id\":\"9186d6e8-bfdf-4582-9525-ba1203a5cf27\",\"type\":\"GlyphRenderer\"},{\"id\":\"523ead97-ebab-41d9-be4e-9563b64ecc0b\",\"type\":\"GlyphRenderer\"},{\"id\":\"e811b74f-6d89-43cf-9b2e-2a2f92f27432\",\"type\":\"GlyphRenderer\"},{\"id\":\"5f39936b-cc9c-495c-82e5-53c7fd509362\",\"type\":\"GlyphRenderer\"},{\"id\":\"adac7e6d-df5a-4731-9bcb-f9db32187937\",\"type\":\"GlyphRenderer\"},{\"id\":\"7a752adb-21d6-460f-8e43-2d3aec49d183\",\"type\":\"GlyphRenderer\"},{\"id\":\"ba4b8284-f047-4aab-b265-9bc2e3ca203a\",\"type\":\"GlyphRenderer\"},{\"id\":\"cf23b8d6-1b5d-4f6f-b8db-ee3243d9d8b1\",\"type\":\"GlyphRenderer\"},{\"id\":\"1d803360-5ba9-45e0-ba09-877428fab381\",\"type\":\"GlyphRenderer\"},{\"id\":\"9e1208b0-cea0-4526-8822-1b65a056eac5\",\"type\":\"GlyphRenderer\"},{\"id\":\"4b8c9e32-9db0-498e-bb85-292f24a851c0\",\"type\":\"GlyphRenderer\"},{\"id\":\"88301aa0-4b7e-464a-92b1-8f7ff012aca0\",\"type\":\"GlyphRenderer\"},{\"id\":\"901152ec-39ed-44d9-8e06-eedbd3e78ee6\",\"type\":\"GlyphRenderer\"},{\"id\":\"aa14c14c-c822-4511-84e8-fa4284c8a924\",\"type\":\"GlyphRenderer\"},{\"id\":\"aeb54ea1-f8ff-4a8b-bd4d-059e60df16c8\",\"type\":\"GlyphRenderer\"},{\"id\":\"aaaf4062-2583-4e95-9a6d-cc55f624348c\",\"type\":\"GlyphRenderer\"},{\"id\":\"f9f89d75-59ce-4d56-87af-11ed545690ec\",\"type\":\"GlyphRenderer\"},{\"id\":\"e3bcf3f2-3787-4fe3-b52e-338a24209f57\",\"type\":\"GlyphRenderer\"},{\"id\":\"1abc257e-0b2b-4beb-bb2c-c4e2fe113145\",\"type\":\"GlyphRenderer\"},{\"id\":\"352728c3-6bb0-473b-ada2-19e586063796\",\"type\":\"GlyphRenderer\"},{\"id\":\"18068199-76c4-4dea-a52d-f02c6d08315d\",\"type\":\"GlyphRenderer\"},{\"id\":\"ab2bccf7-ffe9-4033-aaa2-893481e16f06\",\"type\":\"GlyphRenderer\"},{\"id\":\"f61c0f0d-d492-4e38-a2ab-c2dfa90b3662\",\"type\":\"GlyphRenderer\"},{\"id\":\"72caa64c-4854-4d7a-bb13-14bc3d718de4\",\"type\":\"GlyphRenderer\"},{\"id\":\"13d3beb1-ff26-48f5-aa1b-ec6c3885e18d\",\"type\":\"GlyphRenderer\"},{\"id\":\"b0732407-8f23-4696-9768-53ae98c0aba9\",\"type\":\"GlyphRenderer\"},{\"id\":\"d4b4c626-4418-4a09-9886-9ed67c10eb01\",\"type\":\"GlyphRenderer\"},{\"id\":\"ec9637a8-5a90-4726-a5f5-e3e661be1acf\",\"type\":\"GlyphRenderer\"},{\"id\":\"a64d9bd3-9b8b-4d6e-98bc-92105eb4bf10\",\"type\":\"CategoricalAxis\"},{\"id\":\"d694cd0f-bbe6-44ee-80e8-7c05ae663379\",\"type\":\"LinearAxis\"},{\"id\":\"e9804e5f-f8d0-4216-9809-11ca4f07103d\",\"type\":\"Grid\"}],\"title\":\"Number of ebola victims per country\",\"title_text_font_size\":{\"value\":\"14pt\"},\"tool_events\":{\"id\":\"624819c0-db72-4717-9aef-3c2edda8acb0\",\"type\":\"ToolEvents\"},\"tools\":[{\"id\":\"91f6f440-dce5-4f14-b0a4-978435dffabe\",\"type\":\"PanTool\"},{\"id\":\"f065795a-3dbd-4769-a9b8-b57878ff4bfb\",\"type\":\"WheelZoomTool\"},{\"id\":\"417f6355-db24-4485-aa29-0ff0c95f52d2\",\"type\":\"BoxZoomTool\"},{\"id\":\"afd9e5bf-25d0-4e0a-afc1-294da4b3057c\",\"type\":\"PreviewSaveTool\"},{\"id\":\"5817c7e6-998f-44d4-a721-59ec40f5817f\",\"type\":\"ResizeTool\"},{\"id\":\"a2b9d3dc-4d2d-4e98-b8cb-309e25f1fa51\",\"type\":\"ResetTool\"},{\"id\":\"aeb9a7c3-498e-4d69-8afa-32b36cf3824c\",\"type\":\"HelpTool\"}],\"x_mapper_type\":\"auto\",\"x_range\":{\"id\":\"2f3e1f6b-fbed-4bd2-aece-d10673766682\",\"type\":\"FactorRange\"},\"xgrid\":false,\"xscale\":\"auto\",\"y_mapper_type\":\"auto\",\"y_range\":{\"id\":\"14fdfc3f-2c46-46b5-ba25-2be63e7aede8\",\"type\":\"Range1d\"},\"yscale\":\"auto\"},\"id\":\"b54cb84a-7ef1-4cd9-9084-c738af7d0391\",\"subtype\":\"Chart\",\"type\":\"Plot\"},{\"attributes\":{\"fill_alpha\":{\"field\":\"fill_alpha\"},\"fill_color\":{\"field\":\"color\"},\"height\":{\"field\":\"height\",\"units\":\"data\"},\"line_color\":{\"field\":\"line_color\"},\"width\":{\"field\":\"width\",\"units\":\"data\"},\"x\":{\"field\":\"x\"},\"y\":{\"field\":\"y\"}},\"id\":\"d298df86-f9d5-4d41-8426-55476ca0edea\",\"type\":\"Rect\"},{\"attributes\":{\"fill_alpha\":{\"field\":\"fill_alpha\"},\"fill_color\":{\"field\":\"color\"},\"height\":{\"field\":\"height\",\"units\":\"data\"},\"line_color\":{\"field\":\"line_color\"},\"width\":{\"field\":\"width\",\"units\":\"data\"},\"x\":{\"field\":\"x\"},\"y\":{\"field\":\"y\"}},\"id\":\"aeb2f951-10e6-4bbc-97cb-c3d5a7b3a4ce\",\"type\":\"Rect\"},{\"attributes\":{\"line_color\":{\"value\":\"#df5320\"},\"line_width\":{\"value\":2},\"x0\":{\"field\":\"x0s\"},\"x1\":{\"field\":\"x1s\"},\"y0\":{\"field\":\"y0s\"},\"y1\":{\"field\":\"y1s\"}},\"id\":\"40c7e7cc-cb09-4c3d-86c6-c2caca797fc0\",\"type\":\"Segment\"},{\"attributes\":{\"fill_alpha\":{\"field\":\"fill_alpha\"},\"fill_color\":{\"field\":\"color\"},\"height\":{\"field\":\"height\",\"units\":\"data\"},\"line_color\":{\"field\":\"line_color\"},\"width\":{\"field\":\"width\",\"units\":\"data\"},\"x\":{\"field\":\"x\"},\"y\":{\"field\":\"y\"}},\"id\":\"4a213e41-4941-4a99-aa97-4adfc1c6f8f1\",\"type\":\"Rect\"},{\"attributes\":{\"line_color\":{\"value\":\"#f22c40\"},\"line_width\":{\"value\":2},\"x0\":{\"field\":\"x0s\"},\"x1\":{\"field\":\"x1s\"},\"y0\":{\"field\":\"y0s\"},\"y1\":{\"field\":\"y1s\"}},\"id\":\"a5b163e2-3c04-4a65-9215-ffd5c682c8ef\",\"type\":\"Segment\"},{\"attributes\":{\"callback\":null,\"column_names\":[\"line_color\",\"line_alpha\",\"color\",\"fill_alpha\",\"height\",\"width\",\"y\",\"x\"],\"data\":{\"chart_index\":[{\"country_name\":\"England\"}],\"color\":[\"DimGrey\"],\"country_name\":[\"England\"],\"fill_alpha\":[0.8],\"height\":[0],\"line_alpha\":[1.0],\"line_color\":[\"black\"],\"width\":[0.8],\"x\":[\"England\"],\"y\":[1.0]}},\"id\":\"acdf9eee-7a72-479d-ac65-f486ee0dc056\",\"type\":\"ColumnDataSource\"},{\"attributes\":{\"data_source\":{\"id\":\"ebe87302-2760-4296-a1db-36542965fdb2\",\"type\":\"ColumnDataSource\"},\"glyph\":{\"id\":\"f4e41225-a4a1-4699-b7dd-8ccfb92389d8\",\"type\":\"Segment\"},\"hover_glyph\":null,\"nonselection_glyph\":null,\"selection_glyph\":null},\"id\":\"9e1208b0-cea0-4526-8822-1b65a056eac5\",\"type\":\"GlyphRenderer\"},{\"attributes\":{\"callback\":null,\"column_names\":[\"line_color\",\"line_alpha\",\"color\",\"fill_alpha\",\"height\",\"width\",\"y\",\"x\"],\"data\":{\"chart_index\":[{\"index\":\"Russia\"}],\"color\":[\"navy\"],\"fill_alpha\":[0.8],\"height\":[6.0606060606060606],\"index\":[\"Russia\"],\"line_alpha\":[1.0],\"line_color\":[\"white\"],\"width\":[0.8],\"x\":[\"Russia\"],\"y\":[3.0303030303030303]}},\"id\":\"ffa4d021-c646-4d50-8d8d-50fbd753b950\",\"type\":\"ColumnDataSource\"},{\"attributes\":{\"callback\":null,\"column_names\":[\"line_color\",\"line_alpha\",\"color\",\"fill_alpha\",\"height\",\"width\",\"y\",\"x\"],\"data\":{\"chart_index\":[{\"country_name\":\"Uganda\"}],\"color\":[\"DimGrey\"],\"country_name\":[\"Uganda\"],\"fill_alpha\":[0.8],\"height\":[5.0],\"line_alpha\":[1.0],\"line_color\":[\"black\"],\"width\":[0.8],\"x\":[\"Uganda\"],\"y\":[8.5]}},\"id\":\"101060ed-c293-4d2c-b996-d5993c8f8fd7\",\"type\":\"ColumnDataSource\"},{\"attributes\":{\"data_source\":{\"id\":\"d71f6377-807a-450a-9215-88f594906dbc\",\"type\":\"ColumnDataSource\"},\"glyph\":{\"id\":\"98ae1e53-b5b3-445d-adf2-cf092501f177\",\"type\":\"Rect\"},\"hover_glyph\":null,\"nonselection_glyph\":null,\"selection_glyph\":null},\"id\":\"4feefded-079a-4f02-b8ae-86c86f16bf9a\",\"type\":\"GlyphRenderer\"},{\"attributes\":{\"data_source\":{\"id\":\"e80a0b5d-2b7c-412e-b2ad-735dcaeb63d7\",\"type\":\"ColumnDataSource\"},\"glyph\":{\"id\":\"d5f017a9-70ef-4389-be85-c4f2935d7f40\",\"type\":\"Rect\"},\"hover_glyph\":null,\"nonselection_glyph\":null,\"selection_glyph\":null},\"id\":\"2d190e01-81fc-4125-b931-d607c6d5228a\",\"type\":\"GlyphRenderer\"},{\"attributes\":{\"overlay\":{\"id\":\"b3c3d510-ccf4-485e-817e-d6004d70431d\",\"type\":\"BoxAnnotation\"},\"plot\":{\"id\":\"cc8e96b1-62d9-420e-9d68-d051369086e9\",\"subtype\":\"Chart\",\"type\":\"Plot\"}},\"id\":\"590e0c8d-0359-4bcd-88e9-3e158bf54812\",\"type\":\"BoxZoomTool\"},{\"attributes\":{},\"id\":\"5d0f7edd-663e-4004-9b9b-8eea41b6618e\",\"type\":\"CategoricalTickFormatter\"},{\"attributes\":{\"data_source\":{\"id\":\"9541b53d-0444-4ee6-975b-23c95cea62eb\",\"type\":\"ColumnDataSource\"},\"glyph\":{\"id\":\"b58b3960-a94a-4f80-9ee3-ef63ff3f0da4\",\"type\":\"Segment\"},\"hover_glyph\":null,\"nonselection_glyph\":null,\"selection_glyph\":null},\"id\":\"901152ec-39ed-44d9-8e06-eedbd3e78ee6\",\"type\":\"GlyphRenderer\"},{\"attributes\":{\"callback\":null,\"column_names\":[\"x0s\",\"y0s\",\"x1s\",\"y1s\"],\"data\":{\"chart_index\":[{\"country_name\":\"Russia\"},{\"country_name\":\"Russia\"},{\"country_name\":\"Russia\"},{\"country_name\":\"Russia\"}],\"country_name\":[\"Russia\",\"Russia\",\"Russia\",\"Russia\"],\"x0s\":[\"Russia:0.5\",\"Russia:0.65\",\"Russia:0.5\",\"Russia:0.65\"],\"x1s\":[\"Russia:0.5\",\"Russia:0.35\",\"Russia:0.5\",\"Russia:0.35\"],\"y0s\":[1.0,1.0,1.0,1.0],\"y1s\":[1.0,1.0,1.0,1.0]}},\"id\":\"2c639230-9502-466f-a37d-e3b7082f97ba\",\"type\":\"ColumnDataSource\"},{\"attributes\":{\"fill_alpha\":{\"field\":\"fill_alpha\"},\"fill_color\":{\"field\":\"color\"},\"height\":{\"field\":\"height\",\"units\":\"data\"},\"line_color\":{\"field\":\"line_color\"},\"width\":{\"field\":\"width\",\"units\":\"data\"},\"x\":{\"field\":\"x\"},\"y\":{\"field\":\"y\"}},\"id\":\"47ecfbb2-0558-4037-ade3-c2c4df140715\",\"type\":\"Rect\"},{\"attributes\":{\"fill_alpha\":{\"field\":\"fill_alpha\"},\"fill_color\":{\"field\":\"color\"},\"height\":{\"field\":\"height\",\"units\":\"data\"},\"line_color\":{\"field\":\"line_color\"},\"width\":{\"field\":\"width\",\"units\":\"data\"},\"x\":{\"field\":\"x\"},\"y\":{\"field\":\"y\"}},\"id\":\"f4681e60-86e0-4a19-8e06-115a82115181\",\"type\":\"Rect\"},{\"attributes\":{\"axis_label\":\"Country_Name\",\"formatter\":{\"id\":\"5d0f7edd-663e-4004-9b9b-8eea41b6618e\",\"type\":\"CategoricalTickFormatter\"},\"major_label_orientation\":0.7853981633974483,\"plot\":{\"id\":\"b54cb84a-7ef1-4cd9-9084-c738af7d0391\",\"subtype\":\"Chart\",\"type\":\"Plot\"},\"ticker\":{\"id\":\"7fd45cda-1470-41b5-81bb-3ab0d5e45ef5\",\"type\":\"CategoricalTicker\"}},\"id\":\"a64d9bd3-9b8b-4d6e-98bc-92105eb4bf10\",\"type\":\"CategoricalAxis\"},{\"attributes\":{\"callback\":null,\"column_names\":[\"line_color\",\"line_alpha\",\"color\",\"fill_alpha\",\"height\",\"width\",\"y\",\"x\"],\"data\":{\"chart_index\":[{\"country_name\":\"Democratic Republic of the Congo\"}],\"color\":[\"DimGrey\"],\"country_name\":[\"Democratic Republic of the Congo\"],\"fill_alpha\":[0.8],\"height\":[207.0],\"line_alpha\":[1.0],\"line_color\":[\"black\"],\"width\":[0.8],\"x\":[\"Democratic Republic of the Congo\"],\"y\":[160.5]}},\"id\":\"58d9f86a-9951-4cb0-b377-24d2f49c2537\",\"type\":\"ColumnDataSource\"},{\"attributes\":{},\"id\":\"57a56d39-cc6e-4f46-bfcb-677ed0ebdf3d\",\"type\":\"BasicTickFormatter\"},{\"attributes\":{\"plot\":{\"id\":\"b54cb84a-7ef1-4cd9-9084-c738af7d0391\",\"subtype\":\"Chart\",\"type\":\"Plot\"}},\"id\":\"91f6f440-dce5-4f14-b0a4-978435dffabe\",\"type\":\"PanTool\"},{\"attributes\":{\"callback\":null,\"column_names\":[\"line_color\",\"line_alpha\",\"color\",\"fill_alpha\",\"height\",\"width\",\"y\",\"x\"],\"data\":{\"chart_index\":[{\"country_name\":\"USA\"}],\"color\":[\"DimGrey\"],\"country_name\":[\"USA\"],\"fill_alpha\":[0.8],\"height\":[0.0],\"line_alpha\":[1.0],\"line_color\":[\"black\"],\"width\":[0.8],\"x\":[\"USA\"],\"y\":[0.0]}},\"id\":\"9bc67b12-7786-4dfc-978a-b227e3422115\",\"type\":\"ColumnDataSource\"},{\"attributes\":{\"fill_alpha\":{\"field\":\"fill_alpha\"},\"fill_color\":{\"field\":\"color\"},\"height\":{\"field\":\"height\",\"units\":\"data\"},\"line_color\":{\"field\":\"line_color\"},\"width\":{\"field\":\"width\",\"units\":\"data\"},\"x\":{\"field\":\"x\"},\"y\":{\"field\":\"y\"}},\"id\":\"a9d7b7ce-81ca-42c1-96b1-c5ca2f1f498e\",\"type\":\"Rect\"},{\"attributes\":{\"callback\":null,\"column_names\":[\"line_color\",\"line_alpha\",\"color\",\"fill_alpha\",\"height\",\"width\",\"y\",\"x\"],\"data\":{\"chart_index\":[{\"country_name\":\"Italy\"}],\"color\":[\"DimGrey\"],\"country_name\":[\"Italy\"],\"fill_alpha\":[0.8],\"height\":[0.0],\"line_alpha\":[1.0],\"line_color\":[\"black\"],\"width\":[0.8],\"x\":[\"Italy\"],\"y\":[0.0]}},\"id\":\"74849eef-ca23-4e55-a902-699224dc9de9\",\"type\":\"ColumnDataSource\"},{\"attributes\":{\"data_source\":{\"id\":\"b897501b-83c6-4c29-a5cb-0673215289f4\",\"type\":\"ColumnDataSource\"},\"glyph\":{\"id\":\"d298df86-f9d5-4d41-8426-55476ca0edea\",\"type\":\"Rect\"},\"hover_glyph\":null,\"nonselection_glyph\":null,\"selection_glyph\":null},\"id\":\"8db2439a-9d42-41ec-9490-c9e855e74a53\",\"type\":\"GlyphRenderer\"},{\"attributes\":{\"fill_alpha\":{\"field\":\"fill_alpha\"},\"fill_color\":{\"field\":\"color\"},\"height\":{\"field\":\"height\",\"units\":\"data\"},\"line_color\":{\"field\":\"line_color\"},\"width\":{\"field\":\"width\",\"units\":\"data\"},\"x\":{\"field\":\"x\"},\"y\":{\"field\":\"y\"}},\"id\":\"4fb9bef6-3dc3-42a0-a423-adc3fb308e6c\",\"type\":\"Rect\"},{\"attributes\":{\"data_source\":{\"id\":\"7f451f04-18d2-433f-811a-8e7a3f702b9c\",\"type\":\"ColumnDataSource\"},\"glyph\":{\"id\":\"1751d3d9-f665-4d29-9652-e19e8991f7a2\",\"type\":\"Rect\"},\"hover_glyph\":null,\"nonselection_glyph\":null,\"selection_glyph\":null},\"id\":\"cf23b8d6-1b5d-4f6f-b8db-ee3243d9d8b1\",\"type\":\"GlyphRenderer\"},{\"attributes\":{\"callback\":null,\"column_names\":[\"line_color\",\"line_alpha\",\"color\",\"fill_alpha\",\"height\",\"width\",\"y\",\"x\"],\"data\":{\"chart_index\":[{\"index\":\"Gabon\"}],\"color\":[\"navy\"],\"fill_alpha\":[0.8],\"height\":[12.121212121212121],\"index\":[\"Gabon\"],\"line_alpha\":[1.0],\"line_color\":[\"white\"],\"width\":[0.8],\"x\":[\"Gabon\"],\"y\":[6.0606060606060606]}},\"id\":\"5c49b368-e6ba-4deb-8807-b94343ebb4cf\",\"type\":\"ColumnDataSource\"},{\"attributes\":{\"plot\":{\"id\":\"cc8e96b1-62d9-420e-9d68-d051369086e9\",\"subtype\":\"Chart\",\"type\":\"Plot\"}},\"id\":\"659cb52d-7a03-4336-ab06-e1958eaed4bc\",\"type\":\"HelpTool\"},{\"attributes\":{\"data_source\":{\"id\":\"0bc14500-3351-4eed-85fa-4649a279571f\",\"type\":\"ColumnDataSource\"},\"glyph\":{\"id\":\"98d48580-db11-45f0-ac72-5bdb7ae26f7e\",\"type\":\"Segment\"},\"hover_glyph\":null,\"nonselection_glyph\":null,\"selection_glyph\":null},\"id\":\"9186d6e8-bfdf-4582-9525-ba1203a5cf27\",\"type\":\"GlyphRenderer\"},{\"attributes\":{\"fill_alpha\":{\"field\":\"fill_alpha\"},\"fill_color\":{\"field\":\"color\"},\"height\":{\"field\":\"height\",\"units\":\"data\"},\"line_color\":{\"field\":\"line_color\"},\"width\":{\"field\":\"width\",\"units\":\"data\"},\"x\":{\"field\":\"x\"},\"y\":{\"field\":\"y\"}},\"id\":\"d5f017a9-70ef-4389-be85-c4f2935d7f40\",\"type\":\"Rect\"},{\"attributes\":{\"fill_alpha\":{\"field\":\"fill_alpha\"},\"fill_color\":{\"field\":\"color\"},\"height\":{\"field\":\"height\",\"units\":\"data\"},\"line_color\":{\"field\":\"line_color\"},\"width\":{\"field\":\"width\",\"units\":\"data\"},\"x\":{\"field\":\"x\"},\"y\":{\"field\":\"y\"}},\"id\":\"a2693b1f-3622-47cf-b296-4e8201d28e13\",\"type\":\"Rect\"},{\"attributes\":{\"plot\":{\"id\":\"b54cb84a-7ef1-4cd9-9084-c738af7d0391\",\"subtype\":\"Chart\",\"type\":\"Plot\"}},\"id\":\"5817c7e6-998f-44d4-a721-59ec40f5817f\",\"type\":\"ResizeTool\"},{\"attributes\":{\"callback\":null,\"column_names\":[\"x0s\",\"y0s\",\"x1s\",\"y1s\"],\"data\":{\"chart_index\":[{\"country_name\":\"Italy\"},{\"country_name\":\"Italy\"},{\"country_name\":\"Italy\"},{\"country_name\":\"Italy\"}],\"country_name\":[\"Italy\",\"Italy\",\"Italy\",\"Italy\"],\"x0s\":[\"Italy:0.5\",\"Italy:0.65\",\"Italy:0.5\",\"Italy:0.65\"],\"x1s\":[\"Italy:0.5\",\"Italy:0.35\",\"Italy:0.5\",\"Italy:0.35\"],\"y0s\":[0.0,0.0,0.0,0.0],\"y1s\":[0.0,0.0,0.0,0.0]}},\"id\":\"230e4448-499a-4106-84e4-05809bafdfb1\",\"type\":\"ColumnDataSource\"},{\"attributes\":{\"below\":[{\"id\":\"eb4ec6e6-453b-421e-9dc7-9c46514540cb\",\"type\":\"CategoricalAxis\"}],\"left\":[{\"id\":\"3a482e4d-7aea-40f7-8e31-7e5648e33852\",\"type\":\"LinearAxis\"}],\"legend\":null,\"renderers\":[{\"id\":\"b3c3d510-ccf4-485e-817e-d6004d70431d\",\"type\":\"BoxAnnotation\"},{\"id\":\"c33a2168-ccc3-42f2-92c6-5f0aa8be6b34\",\"type\":\"GlyphRenderer\"},{\"id\":\"2d190e01-81fc-4125-b931-d607c6d5228a\",\"type\":\"GlyphRenderer\"},{\"id\":\"3c18f31a-5a5c-4cd0-abbb-22840156358c\",\"type\":\"GlyphRenderer\"},{\"id\":\"d16d363c-0243-49bd-8a9b-57fe2ce5d8a2\",\"type\":\"GlyphRenderer\"},{\"id\":\"66d9734a-56c5-45d3-a80d-68e371a05c2f\",\"type\":\"GlyphRenderer\"},{\"id\":\"1e871bb2-482f-421b-ae58-fb76ed198c9a\",\"type\":\"GlyphRenderer\"},{\"id\":\"c888697f-20ba-44fb-87cd-a727eb648059\",\"type\":\"GlyphRenderer\"},{\"id\":\"ca7fe468-d40b-45b9-91e9-c9b0c7d5541e\",\"type\":\"GlyphRenderer\"},{\"id\":\"0e123e95-3c49-4ff5-9df7-9a6bf18778c3\",\"type\":\"GlyphRenderer\"},{\"id\":\"d70d0ed2-418b-48de-aa96-de0bb638d16f\",\"type\":\"GlyphRenderer\"},{\"id\":\"7e5cfc83-777d-4abb-9ac7-008a5a7db7f0\",\"type\":\"GlyphRenderer\"},{\"id\":\"eb4ec6e6-453b-421e-9dc7-9c46514540cb\",\"type\":\"CategoricalAxis\"},{\"id\":\"3a482e4d-7aea-40f7-8e31-7e5648e33852\",\"type\":\"LinearAxis\"},{\"id\":\"c51b42cc-a827-448d-976a-d2e4129bb007\",\"type\":\"Grid\"}],\"title\":\"Proportion of ebola outbreaks per country in %\",\"title_text_font_size\":{\"value\":\"14pt\"},\"tool_events\":{\"id\":\"f76c567d-2cca-493d-a79a-c2ce164fb31f\",\"type\":\"ToolEvents\"},\"tools\":[{\"id\":\"867635c9-b7fe-482c-be3a-ff71193f5ae0\",\"type\":\"PanTool\"},{\"id\":\"47967ed1-f3ef-44d0-bd17-717da5d3e3cf\",\"type\":\"WheelZoomTool\"},{\"id\":\"590e0c8d-0359-4bcd-88e9-3e158bf54812\",\"type\":\"BoxZoomTool\"},{\"id\":\"a9aee786-8574-4044-aa69-9c7b47a38d78\",\"type\":\"PreviewSaveTool\"},{\"id\":\"ad0855fe-02d2-41d3-b49d-507b3b64cfdd\",\"type\":\"ResizeTool\"},{\"id\":\"8aa45c51-3651-4085-8342-97db238934a9\",\"type\":\"ResetTool\"},{\"id\":\"659cb52d-7a03-4336-ab06-e1958eaed4bc\",\"type\":\"HelpTool\"}],\"x_mapper_type\":\"auto\",\"x_range\":{\"id\":\"90a56e06-c9dd-45da-bad5-3e9454a1545b\",\"type\":\"FactorRange\"},\"xgrid\":false,\"xscale\":\"auto\",\"y_mapper_type\":\"auto\",\"y_range\":{\"id\":\"9f6ad736-8331-4b3f-a9ad-29198afa64be\",\"type\":\"Range1d\"},\"yscale\":\"auto\"},\"id\":\"cc8e96b1-62d9-420e-9d68-d051369086e9\",\"subtype\":\"Chart\",\"type\":\"Plot\"},{\"attributes\":{\"data_source\":{\"id\":\"101060ed-c293-4d2c-b996-d5993c8f8fd7\",\"type\":\"ColumnDataSource\"},\"glyph\":{\"id\":\"6405f9ff-8499-43e1-ac2b-6ccde65eed6e\",\"type\":\"Rect\"},\"hover_glyph\":null,\"nonselection_glyph\":null,\"selection_glyph\":null},\"id\":\"4b8c9e32-9db0-498e-bb85-292f24a851c0\",\"type\":\"GlyphRenderer\"},{\"attributes\":{\"fill_alpha\":{\"field\":\"fill_alpha\"},\"fill_color\":{\"field\":\"color\"},\"height\":{\"field\":\"height\",\"units\":\"data\"},\"line_color\":{\"field\":\"line_color\"},\"width\":{\"field\":\"width\",\"units\":\"data\"},\"x\":{\"field\":\"x\"},\"y\":{\"field\":\"y\"}},\"id\":\"1e5d072f-dc0e-43d1-93b8-888a276e0978\",\"type\":\"Rect\"},{\"attributes\":{\"fill_alpha\":{\"field\":\"fill_alpha\"},\"fill_color\":{\"field\":\"color\"},\"height\":{\"field\":\"height\",\"units\":\"data\"},\"line_color\":{\"field\":\"line_color\"},\"width\":{\"field\":\"width\",\"units\":\"data\"},\"x\":{\"field\":\"x\"},\"y\":{\"field\":\"y\"}},\"id\":\"5f8f668b-05c4-4cfc-a74b-18c13872f0b4\",\"type\":\"Rect\"},{\"attributes\":{},\"id\":\"624819c0-db72-4717-9aef-3c2edda8acb0\",\"type\":\"ToolEvents\"},{\"attributes\":{\"data_source\":{\"id\":\"bb1c1f02-e76b-419c-9803-3061e3c9796a\",\"type\":\"ColumnDataSource\"},\"glyph\":{\"id\":\"47ecfbb2-0558-4037-ade3-c2c4df140715\",\"type\":\"Rect\"},\"hover_glyph\":null,\"nonselection_glyph\":null,\"selection_glyph\":null},\"id\":\"d70d0ed2-418b-48de-aa96-de0bb638d16f\",\"type\":\"GlyphRenderer\"},{\"attributes\":{\"line_color\":{\"value\":\"#5ab738\"},\"line_width\":{\"value\":2},\"x0\":{\"field\":\"x0s\"},\"x1\":{\"field\":\"x1s\"},\"y0\":{\"field\":\"y0s\"},\"y1\":{\"field\":\"y1s\"}},\"id\":\"f4e41225-a4a1-4699-b7dd-8ccfb92389d8\",\"type\":\"Segment\"},{\"attributes\":{\"fill_alpha\":{\"field\":\"fill_alpha\"},\"fill_color\":{\"field\":\"color\"},\"height\":{\"field\":\"height\",\"units\":\"data\"},\"line_color\":{\"field\":\"line_color\"},\"width\":{\"field\":\"width\",\"units\":\"data\"},\"x\":{\"field\":\"x\"},\"y\":{\"field\":\"y\"}},\"id\":\"435c1052-7c1b-44c5-a72b-f7b9808232c7\",\"type\":\"Rect\"},{\"attributes\":{\"callback\":null,\"factors\":[\"Cote d'Ivoire (Ivory Coast)\",\"Democratic Republic of the Congo\",\"England\",\"Gabon\",\"Italy\",\"Philippines\",\"Russia\",\"South Africa\",\"Sudan (South Sudan)\",\"USA\",\"Uganda\"]},\"id\":\"2f3e1f6b-fbed-4bd2-aece-d10673766682\",\"type\":\"FactorRange\"},{\"attributes\":{\"callback\":null,\"end\":28.636363636363637},\"id\":\"9f6ad736-8331-4b3f-a9ad-29198afa64be\",\"type\":\"Range1d\"},{\"attributes\":{\"bottom_units\":\"screen\",\"fill_alpha\":{\"value\":0.5},\"fill_color\":{\"value\":\"lightgrey\"},\"left_units\":\"screen\",\"level\":\"overlay\",\"line_alpha\":{\"value\":1.0},\"line_color\":{\"value\":\"black\"},\"line_dash\":[4,4],\"line_width\":{\"value\":2},\"plot\":null,\"render_mode\":\"css\",\"right_units\":\"screen\",\"top_units\":\"screen\"},\"id\":\"b3c3d510-ccf4-485e-817e-d6004d70431d\",\"type\":\"BoxAnnotation\"},{\"attributes\":{\"fill_alpha\":{\"field\":\"fill_alpha\"},\"fill_color\":{\"field\":\"color\"},\"height\":{\"field\":\"height\",\"units\":\"data\"},\"line_color\":{\"field\":\"line_color\"},\"width\":{\"field\":\"width\",\"units\":\"data\"},\"x\":{\"field\":\"x\"},\"y\":{\"field\":\"y\"}},\"id\":\"98ae1e53-b5b3-445d-adf2-cf092501f177\",\"type\":\"Rect\"},{\"attributes\":{\"data_source\":{\"id\":\"2c639230-9502-466f-a37d-e3b7082f97ba\",\"type\":\"ColumnDataSource\"},\"glyph\":{\"id\":\"a5b163e2-3c04-4a65-9215-ffd5c682c8ef\",\"type\":\"Segment\"},\"hover_glyph\":null,\"nonselection_glyph\":null,\"selection_glyph\":null},\"id\":\"19f66d81-172e-49fc-a87b-7c9175e5d2f4\",\"type\":\"GlyphRenderer\"},{\"attributes\":{\"callback\":null,\"column_names\":[\"line_color\",\"line_alpha\",\"color\",\"fill_alpha\",\"height\",\"width\",\"y\",\"x\"],\"data\":{\"chart_index\":[{\"country_name\":\"England\"}],\"color\":[\"DimGrey\"],\"country_name\":[\"England\"],\"fill_alpha\":[0.8],\"height\":[0],\"line_alpha\":[1.0],\"line_color\":[\"black\"],\"width\":[0.8],\"x\":[\"England\"],\"y\":[1.0]}},\"id\":\"4e51f0e6-f39f-4296-b848-a234c6293481\",\"type\":\"ColumnDataSource\"},{\"attributes\":{\"callback\":null,\"column_names\":[\"line_color\",\"line_alpha\",\"color\",\"fill_alpha\",\"height\",\"width\",\"y\",\"x\"],\"data\":{\"chart_index\":[{\"index\":\"Democratic Republic of the Congo\"}],\"color\":[\"navy\"],\"fill_alpha\":[0.8],\"height\":[27.272727272727273],\"index\":[\"Democratic Republic of the Congo\"],\"line_alpha\":[1.0],\"line_color\":[\"white\"],\"width\":[0.8],\"x\":[\"Democratic Republic of the Congo\"],\"y\":[13.636363636363637]}},\"id\":\"ea9301c3-acb4-4a51-aeee-bd0da2388198\",\"type\":\"ColumnDataSource\"},{\"attributes\":{\"data_source\":{\"id\":\"4e51f0e6-f39f-4296-b848-a234c6293481\",\"type\":\"ColumnDataSource\"},\"glyph\":{\"id\":\"2cb4515f-51cc-4677-9306-040f951d65ec\",\"type\":\"Rect\"},\"hover_glyph\":null,\"nonselection_glyph\":null,\"selection_glyph\":null},\"id\":\"b0732407-8f23-4696-9768-53ae98c0aba9\",\"type\":\"GlyphRenderer\"},{\"attributes\":{\"fill_alpha\":{\"field\":\"fill_alpha\"},\"fill_color\":{\"field\":\"color\"},\"height\":{\"field\":\"height\",\"units\":\"data\"},\"line_color\":{\"field\":\"line_color\"},\"width\":{\"field\":\"width\",\"units\":\"data\"},\"x\":{\"field\":\"x\"},\"y\":{\"field\":\"y\"}},\"id\":\"5bf083f8-2178-4b29-aaf1-6e14c1101d41\",\"type\":\"Rect\"},{\"attributes\":{\"callback\":null,\"column_names\":[\"line_color\",\"line_alpha\",\"color\",\"fill_alpha\",\"height\",\"width\",\"y\",\"x\"],\"data\":{\"chart_index\":[{\"country_name\":\"Cote d'Ivoire (Ivory Coast)\"}],\"color\":[\"DimGrey\"],\"country_name\":[\"Cote d'Ivoire (Ivory Coast)\"],\"fill_alpha\":[0.8],\"height\":[0],\"line_alpha\":[1.0],\"line_color\":[\"black\"],\"width\":[0.8],\"x\":[\"Cote d'Ivoire (Ivory Coast)\"],\"y\":[1.0]}},\"id\":\"7d0993f9-83ff-4b99-b7d0-a768f11d6c4a\",\"type\":\"ColumnDataSource\"},{\"attributes\":{\"fill_alpha\":{\"field\":\"fill_alpha\"},\"fill_color\":{\"field\":\"color\"},\"height\":{\"field\":\"height\",\"units\":\"data\"},\"line_color\":{\"field\":\"line_color\"},\"width\":{\"field\":\"width\",\"units\":\"data\"},\"x\":{\"field\":\"x\"},\"y\":{\"field\":\"y\"}},\"id\":\"8d5a74c3-b1dd-48cd-863f-fb75fa6b82d8\",\"type\":\"Rect\"},{\"attributes\":{\"plot\":{\"id\":\"b54cb84a-7ef1-4cd9-9084-c738af7d0391\",\"subtype\":\"Chart\",\"type\":\"Plot\"}},\"id\":\"a2b9d3dc-4d2d-4e98-b8cb-309e25f1fa51\",\"type\":\"ResetTool\"},{\"attributes\":{\"data_source\":{\"id\":\"fcc5898e-0b1a-4c9e-bb6b-eb45ac1594f7\",\"type\":\"ColumnDataSource\"},\"glyph\":{\"id\":\"d03679e2-b71f-4f0b-b4a1-5db16c301fc5\",\"type\":\"Segment\"},\"hover_glyph\":null,\"nonselection_glyph\":null,\"selection_glyph\":null},\"id\":\"ec9637a8-5a90-4726-a5f5-e3e661be1acf\",\"type\":\"GlyphRenderer\"},{\"attributes\":{\"data_source\":{\"id\":\"ffa4d021-c646-4d50-8d8d-50fbd753b950\",\"type\":\"ColumnDataSource\"},\"glyph\":{\"id\":\"473b568e-f666-4578-9e55-539348ca6b4e\",\"type\":\"Rect\"},\"hover_glyph\":null,\"nonselection_glyph\":null,\"selection_glyph\":null},\"id\":\"66d9734a-56c5-45d3-a80d-68e371a05c2f\",\"type\":\"GlyphRenderer\"},{\"attributes\":{\"data_source\":{\"id\":\"dca68811-491a-4b0c-be1d-5eae300dc603\",\"type\":\"ColumnDataSource\"},\"glyph\":{\"id\":\"6977a5dc-5325-4f3f-9960-0a0d847f76b0\",\"type\":\"Rect\"},\"hover_glyph\":null,\"nonselection_glyph\":null,\"selection_glyph\":null},\"id\":\"f2af8345-44df-444a-a57e-33792246064a\",\"type\":\"GlyphRenderer\"},{\"attributes\":{},\"id\":\"eb8f591a-c49f-43c6-a76a-b3a69d5415b9\",\"type\":\"BasicTickFormatter\"},{\"attributes\":{\"data_source\":{\"id\":\"ea9301c3-acb4-4a51-aeee-bd0da2388198\",\"type\":\"ColumnDataSource\"},\"glyph\":{\"id\":\"a2693b1f-3622-47cf-b296-4e8201d28e13\",\"type\":\"Rect\"},\"hover_glyph\":null,\"nonselection_glyph\":null,\"selection_glyph\":null},\"id\":\"7e5cfc83-777d-4abb-9ac7-008a5a7db7f0\",\"type\":\"GlyphRenderer\"},{\"attributes\":{\"data_source\":{\"id\":\"51720d55-339a-43f4-8ba4-234ee62e75b7\",\"type\":\"ColumnDataSource\"},\"glyph\":{\"id\":\"7b3b2943-54c2-47b1-96b0-8b9b9d5bc604\",\"type\":\"Rect\"},\"hover_glyph\":null,\"nonselection_glyph\":null,\"selection_glyph\":null},\"id\":\"adac7e6d-df5a-4731-9bcb-f9db32187937\",\"type\":\"GlyphRenderer\"},{\"attributes\":{\"data_source\":{\"id\":\"ee1fc770-6aec-4252-9645-496f0f5cb7f4\",\"type\":\"ColumnDataSource\"},\"glyph\":{\"id\":\"8d5a74c3-b1dd-48cd-863f-fb75fa6b82d8\",\"type\":\"Rect\"},\"hover_glyph\":null,\"nonselection_glyph\":null,\"selection_glyph\":null},\"id\":\"7a752adb-21d6-460f-8e43-2d3aec49d183\",\"type\":\"GlyphRenderer\"},{\"attributes\":{\"data_source\":{\"id\":\"74849eef-ca23-4e55-a902-699224dc9de9\",\"type\":\"ColumnDataSource\"},\"glyph\":{\"id\":\"c0bce1bd-4949-4ac7-a6c2-658ae61645d9\",\"type\":\"Rect\"},\"hover_glyph\":null,\"nonselection_glyph\":null,\"selection_glyph\":null},\"id\":\"aeb54ea1-f8ff-4a8b-bd4d-059e60df16c8\",\"type\":\"GlyphRenderer\"},{\"attributes\":{\"fill_alpha\":{\"field\":\"fill_alpha\"},\"fill_color\":{\"field\":\"color\"},\"height\":{\"field\":\"height\",\"units\":\"data\"},\"line_color\":{\"field\":\"line_color\"},\"width\":{\"field\":\"width\",\"units\":\"data\"},\"x\":{\"field\":\"x\"},\"y\":{\"field\":\"y\"}},\"id\":\"43034ab5-556f-464b-aaed-24dc33bd38d0\",\"type\":\"Rect\"},{\"attributes\":{},\"id\":\"184b0005-b86b-4ff0-b079-fc68fdf26b3a\",\"type\":\"CategoricalTickFormatter\"},{\"attributes\":{\"callback\":null,\"column_names\":[\"line_color\",\"line_alpha\",\"color\",\"fill_alpha\",\"height\",\"width\",\"y\",\"x\"],\"data\":{\"chart_index\":[{\"country_name\":\"South Africa\"}],\"color\":[\"DimGrey\"],\"country_name\":[\"South Africa\"],\"fill_alpha\":[0.8],\"height\":[0],\"line_alpha\":[1.0],\"line_color\":[\"black\"],\"width\":[0.8],\"x\":[\"South Africa\"],\"y\":[2.0]}},\"id\":\"c77d26ce-ca3f-4a4f-9218-d0691cbf2b8c\",\"type\":\"ColumnDataSource\"},{\"attributes\":{\"line_color\":{\"value\":\"#f22c40\"},\"line_width\":{\"value\":2},\"x0\":{\"field\":\"x0s\"},\"x1\":{\"field\":\"x1s\"},\"y0\":{\"field\":\"y0s\"},\"y1\":{\"field\":\"y1s\"}},\"id\":\"5e616372-f745-498b-a22d-88ca2082b809\",\"type\":\"Segment\"},{\"attributes\":{\"fill_alpha\":{\"field\":\"fill_alpha\"},\"fill_color\":{\"field\":\"color\"},\"height\":{\"field\":\"height\",\"units\":\"data\"},\"line_color\":{\"field\":\"line_color\"},\"width\":{\"field\":\"width\",\"units\":\"data\"},\"x\":{\"field\":\"x\"},\"y\":{\"field\":\"y\"}},\"id\":\"6405f9ff-8499-43e1-ac2b-6ccde65eed6e\",\"type\":\"Rect\"},{\"attributes\":{\"fill_alpha\":{\"field\":\"fill_alpha\"},\"fill_color\":{\"field\":\"color\"},\"height\":{\"field\":\"height\",\"units\":\"data\"},\"line_color\":{\"field\":\"line_color\"},\"width\":{\"field\":\"width\",\"units\":\"data\"},\"x\":{\"field\":\"x\"},\"y\":{\"field\":\"y\"}},\"id\":\"6977a5dc-5325-4f3f-9960-0a0d847f76b0\",\"type\":\"Rect\"},{\"attributes\":{\"axis_label\":\"Reported_Number_Of_Human_Cases\",\"formatter\":{\"id\":\"57a56d39-cc6e-4f46-bfcb-677ed0ebdf3d\",\"type\":\"BasicTickFormatter\"},\"plot\":{\"id\":\"b54cb84a-7ef1-4cd9-9084-c738af7d0391\",\"subtype\":\"Chart\",\"type\":\"Plot\"},\"ticker\":{\"id\":\"6b29c076-abba-4998-ab22-bac588a72f29\",\"type\":\"BasicTicker\"}},\"id\":\"d694cd0f-bbe6-44ee-80e8-7c05ae663379\",\"type\":\"LinearAxis\"},{\"attributes\":{\"data_source\":{\"id\":\"3c0c9e12-4054-40e8-88a9-809836c584e1\",\"type\":\"ColumnDataSource\"},\"glyph\":{\"id\":\"4a213e41-4941-4a99-aa97-4adfc1c6f8f1\",\"type\":\"Rect\"},\"hover_glyph\":null,\"nonselection_glyph\":null,\"selection_glyph\":null},\"id\":\"c33a2168-ccc3-42f2-92c6-5f0aa8be6b34\",\"type\":\"GlyphRenderer\"},{\"attributes\":{\"data_source\":{\"id\":\"f2d81cc9-0c35-40bd-9cde-049761d42fde\",\"type\":\"ColumnDataSource\"},\"glyph\":{\"id\":\"4fb9bef6-3dc3-42a0-a423-adc3fb308e6c\",\"type\":\"Rect\"},\"hover_glyph\":null,\"nonselection_glyph\":null,\"selection_glyph\":null},\"id\":\"d16d363c-0243-49bd-8a9b-57fe2ce5d8a2\",\"type\":\"GlyphRenderer\"},{\"attributes\":{\"data_source\":{\"id\":\"5c49b368-e6ba-4deb-8807-b94343ebb4cf\",\"type\":\"ColumnDataSource\"},\"glyph\":{\"id\":\"43034ab5-556f-464b-aaed-24dc33bd38d0\",\"type\":\"Rect\"},\"hover_glyph\":null,\"nonselection_glyph\":null,\"selection_glyph\":null},\"id\":\"0e123e95-3c49-4ff5-9df7-9a6bf18778c3\",\"type\":\"GlyphRenderer\"},{\"attributes\":{\"data_source\":{\"id\":\"c77d26ce-ca3f-4a4f-9218-d0691cbf2b8c\",\"type\":\"ColumnDataSource\"},\"glyph\":{\"id\":\"5bf083f8-2178-4b29-aaf1-6e14c1101d41\",\"type\":\"Rect\"},\"hover_glyph\":null,\"nonselection_glyph\":null,\"selection_glyph\":null},\"id\":\"e3bcf3f2-3787-4fe3-b52e-338a24209f57\",\"type\":\"GlyphRenderer\"},{\"attributes\":{\"fill_alpha\":{\"field\":\"fill_alpha\"},\"fill_color\":{\"field\":\"color\"},\"height\":{\"field\":\"height\",\"units\":\"data\"},\"line_color\":{\"field\":\"line_color\"},\"width\":{\"field\":\"width\",\"units\":\"data\"},\"x\":{\"field\":\"x\"},\"y\":{\"field\":\"y\"}},\"id\":\"1751d3d9-f665-4d29-9652-e19e8991f7a2\",\"type\":\"Rect\"},{\"attributes\":{\"data_source\":{\"id\":\"bfbc1439-3e4e-4bfc-84f1-517d87038e57\",\"type\":\"ColumnDataSource\"},\"glyph\":{\"id\":\"1f6adcad-9fc5-4707-91b2-ae1c33b75c3e\",\"type\":\"Segment\"},\"hover_glyph\":null,\"nonselection_glyph\":null,\"selection_glyph\":null},\"id\":\"1abc257e-0b2b-4beb-bb2c-c4e2fe113145\",\"type\":\"GlyphRenderer\"},{\"attributes\":{\"fill_alpha\":{\"field\":\"fill_alpha\"},\"fill_color\":{\"field\":\"color\"},\"height\":{\"field\":\"height\",\"units\":\"data\"},\"line_color\":{\"field\":\"line_color\"},\"width\":{\"field\":\"width\",\"units\":\"data\"},\"x\":{\"field\":\"x\"},\"y\":{\"field\":\"y\"}},\"id\":\"97bbf37e-85dc-4737-910f-d195044b2f44\",\"type\":\"Rect\"},{\"attributes\":{\"plot\":{\"id\":\"cc8e96b1-62d9-420e-9d68-d051369086e9\",\"subtype\":\"Chart\",\"type\":\"Plot\"}},\"id\":\"8aa45c51-3651-4085-8342-97db238934a9\",\"type\":\"ResetTool\"},{\"attributes\":{\"data_source\":{\"id\":\"6cd93e97-e0d1-4aa0-b05b-45ec50ed93fe\",\"type\":\"ColumnDataSource\"},\"glyph\":{\"id\":\"40c7e7cc-cb09-4c3d-86c6-c2caca797fc0\",\"type\":\"Segment\"},\"hover_glyph\":null,\"nonselection_glyph\":null,\"selection_glyph\":null},\"id\":\"ba4b8284-f047-4aab-b265-9bc2e3ca203a\",\"type\":\"GlyphRenderer\"},{\"attributes\":{\"data_source\":{\"id\":\"db34ab03-342c-4def-9c08-6f04c6610f0b\",\"type\":\"ColumnDataSource\"},\"glyph\":{\"id\":\"2993cd6c-5597-4499-99cd-570d9dfb3b22\",\"type\":\"Rect\"},\"hover_glyph\":null,\"nonselection_glyph\":null,\"selection_glyph\":null},\"id\":\"88301aa0-4b7e-464a-92b1-8f7ff012aca0\",\"type\":\"GlyphRenderer\"},{\"attributes\":{\"line_color\":{\"value\":\"#407ee7\"},\"line_width\":{\"value\":2},\"x0\":{\"field\":\"x0s\"},\"x1\":{\"field\":\"x1s\"},\"y0\":{\"field\":\"y0s\"},\"y1\":{\"field\":\"y1s\"}},\"id\":\"d03679e2-b71f-4f0b-b4a1-5db16c301fc5\",\"type\":\"Segment\"},{\"attributes\":{\"callback\":null,\"column_names\":[\"line_color\",\"line_alpha\",\"color\",\"fill_alpha\",\"height\",\"width\",\"y\",\"x\"],\"data\":{\"chart_index\":[{\"index\":\"Philippines\"}],\"color\":[\"navy\"],\"fill_alpha\":[0.8],\"height\":[9.090909090909092],\"index\":[\"Philippines\"],\"line_alpha\":[1.0],\"line_color\":[\"white\"],\"width\":[0.8],\"x\":[\"Philippines\"],\"y\":[4.545454545454546]}},\"id\":\"bce273ec-a97e-4376-90ca-e10452e8d1f6\",\"type\":\"ColumnDataSource\"},{\"attributes\":{\"callback\":null,\"column_names\":[\"line_color\",\"line_alpha\",\"color\",\"fill_alpha\",\"height\",\"width\",\"y\",\"x\"],\"data\":{\"chart_index\":[{\"country_name\":\"Russia\"}],\"color\":[\"DimGrey\"],\"country_name\":[\"Russia\"],\"fill_alpha\":[0.8],\"height\":[0.0],\"line_alpha\":[1.0],\"line_color\":[\"black\"],\"width\":[0.8],\"x\":[\"Russia\"],\"y\":[1.0]}},\"id\":\"dca68811-491a-4b0c-be1d-5eae300dc603\",\"type\":\"ColumnDataSource\"},{\"attributes\":{\"data_source\":{\"id\":\"bce273ec-a97e-4376-90ca-e10452e8d1f6\",\"type\":\"ColumnDataSource\"},\"glyph\":{\"id\":\"aeb2f951-10e6-4bbc-97cb-c3d5a7b3a4ce\",\"type\":\"Rect\"},\"hover_glyph\":null,\"nonselection_glyph\":null,\"selection_glyph\":null},\"id\":\"1e871bb2-482f-421b-ae58-fb76ed198c9a\",\"type\":\"GlyphRenderer\"},{\"attributes\":{\"callback\":null,\"column_names\":[\"x0s\",\"y0s\",\"x1s\",\"y1s\"],\"data\":{\"chart_index\":[{\"country_name\":\"Gabon\"},{\"country_name\":\"Gabon\"},{\"country_name\":\"Gabon\"},{\"country_name\":\"Gabon\"}],\"country_name\":[\"Gabon\",\"Gabon\",\"Gabon\",\"Gabon\"],\"x0s\":[\"Gabon:0.5\",\"Gabon:0.65\",\"Gabon:0.5\",\"Gabon:0.65\"],\"x1s\":[\"Gabon:0.5\",\"Gabon:0.35\",\"Gabon:0.5\",\"Gabon:0.35\"],\"y0s\":[37.0,37.0,61.25,65.0],\"y1s\":[48.25,37.0,65.0,65.0]}},\"id\":\"6cd93e97-e0d1-4aa0-b05b-45ec50ed93fe\",\"type\":\"ColumnDataSource\"},{\"attributes\":{\"callback\":null,\"column_names\":[\"line_color\",\"line_alpha\",\"color\",\"fill_alpha\",\"height\",\"width\",\"y\",\"x\"],\"data\":{\"chart_index\":[{\"country_name\":\"Philippines\"}],\"color\":[\"DimGrey\"],\"country_name\":[\"Philippines\"],\"fill_alpha\":[0.8],\"height\":[1.5],\"line_alpha\":[1.0],\"line_color\":[\"black\"],\"width\":[0.8],\"x\":[\"Philippines\"],\"y\":[2.25]}},\"id\":\"9fcfd9d2-f369-4bca-a93e-6e297f9f41e6\",\"type\":\"ColumnDataSource\"},{\"attributes\":{\"callback\":null,\"column_names\":[\"line_color\",\"line_alpha\",\"color\",\"fill_alpha\",\"height\",\"width\",\"y\",\"x\"],\"data\":{\"chart_index\":[{\"country_name\":\"Sudan (South Sudan)\"}],\"color\":[\"DimGrey\"],\"country_name\":[\"Sudan (South Sudan)\"],\"fill_alpha\":[0.8],\"height\":[8.5],\"line_alpha\":[1.0],\"line_color\":[\"black\"],\"width\":[0.8],\"x\":[\"Sudan (South Sudan)\"],\"y\":[29.75]}},\"id\":\"2dd43c63-6ed9-4d13-991e-3ada1f26968d\",\"type\":\"ColumnDataSource\"},{\"attributes\":{\"fill_alpha\":{\"field\":\"fill_alpha\"},\"fill_color\":{\"field\":\"color\"},\"height\":{\"field\":\"height\",\"units\":\"data\"},\"line_color\":{\"field\":\"line_color\"},\"width\":{\"field\":\"width\",\"units\":\"data\"},\"x\":{\"field\":\"x\"},\"y\":{\"field\":\"y\"}},\"id\":\"95bbce0e-cc2a-4638-809e-744a2093ef37\",\"type\":\"Rect\"},{\"attributes\":{\"callback\":null,\"column_names\":[\"x0s\",\"y0s\",\"x1s\",\"y1s\"],\"data\":{\"chart_index\":[{\"country_name\":\"Uganda\"},{\"country_name\":\"Uganda\"},{\"country_name\":\"Uganda\"},{\"country_name\":\"Uganda\"}],\"country_name\":[\"Uganda\",\"Uganda\",\"Uganda\",\"Uganda\"],\"x0s\":[\"Uganda:0.5\",\"Uganda:0.65\",\"Uganda:0.5\",\"Uganda:0.65\"],\"x1s\":[\"Uganda:0.5\",\"Uganda:0.35\",\"Uganda:0.5\",\"Uganda:0.35\"],\"y0s\":[1.0,1.0,149.0,363.5],\"y1s\":[6.0,1.0,363.5,363.5]}},\"id\":\"9541b53d-0444-4ee6-975b-23c95cea62eb\",\"type\":\"ColumnDataSource\"},{\"attributes\":{\"data_source\":{\"id\":\"c7bb4ea9-d6bf-4fbf-a077-35597774bcfc\",\"type\":\"ColumnDataSource\"},\"glyph\":{\"id\":\"5e616372-f745-498b-a22d-88ca2082b809\",\"type\":\"Segment\"},\"hover_glyph\":null,\"nonselection_glyph\":null,\"selection_glyph\":null},\"id\":\"13d3beb1-ff26-48f5-aa1b-ec6c3885e18d\",\"type\":\"GlyphRenderer\"},{\"attributes\":{\"callback\":null,\"column_names\":[\"line_color\",\"line_alpha\",\"color\",\"fill_alpha\",\"height\",\"width\",\"y\",\"x\"],\"data\":{\"chart_index\":[{\"country_name\":\"Gabon\"}],\"color\":[\"DimGrey\"],\"country_name\":[\"Gabon\"],\"fill_alpha\":[0.8],\"height\":[5.25],\"line_alpha\":[1.0],\"line_color\":[\"black\"],\"width\":[0.8],\"x\":[\"Gabon\"],\"y\":[58.625]}},\"id\":\"ee1fc770-6aec-4252-9645-496f0f5cb7f4\",\"type\":\"ColumnDataSource\"},{\"attributes\":{\"data_source\":{\"id\":\"58d9f86a-9951-4cb0-b377-24d2f49c2537\",\"type\":\"ColumnDataSource\"},\"glyph\":{\"id\":\"5f8f668b-05c4-4cfc-a74b-18c13872f0b4\",\"type\":\"Rect\"},\"hover_glyph\":null,\"nonselection_glyph\":null,\"selection_glyph\":null},\"id\":\"1d803360-5ba9-45e0-ba09-877428fab381\",\"type\":\"GlyphRenderer\"},{\"attributes\":{\"callback\":null,\"column_names\":[\"line_color\",\"line_alpha\",\"color\",\"fill_alpha\",\"height\",\"width\",\"y\",\"x\"],\"data\":{\"chart_index\":[{\"index\":\"South Africa\"}],\"color\":[\"navy\"],\"fill_alpha\":[0.8],\"height\":[3.0303030303030303],\"index\":[\"South Africa\"],\"line_alpha\":[1.0],\"line_color\":[\"white\"],\"width\":[0.8],\"x\":[\"South Africa\"],\"y\":[1.5151515151515151]}},\"id\":\"f2d81cc9-0c35-40bd-9cde-049761d42fde\",\"type\":\"ColumnDataSource\"},{\"attributes\":{},\"id\":\"7bc000e1-c083-4fcc-ad61-9f1c78655fca\",\"type\":\"CategoricalTicker\"},{\"attributes\":{\"axis_label\":\"Sum( Proportions Of Outbreaks (%) )\",\"formatter\":{\"id\":\"eb8f591a-c49f-43c6-a76a-b3a69d5415b9\",\"type\":\"BasicTickFormatter\"},\"plot\":{\"id\":\"cc8e96b1-62d9-420e-9d68-d051369086e9\",\"subtype\":\"Chart\",\"type\":\"Plot\"},\"ticker\":{\"id\":\"47e3eec0-0e19-44bf-8266-07d8891ce8fb\",\"type\":\"BasicTicker\"}},\"id\":\"3a482e4d-7aea-40f7-8e31-7e5648e33852\",\"type\":\"LinearAxis\"},{\"attributes\":{\"overlay\":{\"id\":\"65c8d844-0a1c-4e1e-88ed-3ef3d7023d4b\",\"type\":\"BoxAnnotation\"},\"plot\":{\"id\":\"b54cb84a-7ef1-4cd9-9084-c738af7d0391\",\"subtype\":\"Chart\",\"type\":\"Plot\"}},\"id\":\"417f6355-db24-4485-aa29-0ff0c95f52d2\",\"type\":\"BoxZoomTool\"},{\"attributes\":{\"callback\":null,\"column_names\":[\"line_color\",\"line_alpha\",\"color\",\"fill_alpha\",\"height\",\"width\",\"y\",\"x\"],\"data\":{\"chart_index\":[{\"index\":\"Sudan (South Sudan)\"}],\"color\":[\"navy\"],\"fill_alpha\":[0.8],\"height\":[9.090909090909092],\"index\":[\"Sudan (South Sudan)\"],\"line_alpha\":[1.0],\"line_color\":[\"white\"],\"width\":[0.8],\"x\":[\"Sudan (South Sudan)\"],\"y\":[4.545454545454546]}},\"id\":\"e5c395c7-845f-4d85-b0af-777a2c21a5fa\",\"type\":\"ColumnDataSource\"},{\"attributes\":{\"data_source\":{\"id\":\"901ad97f-643b-449f-bad6-613802dea6cc\",\"type\":\"ColumnDataSource\"},\"glyph\":{\"id\":\"435c1052-7c1b-44c5-a72b-f7b9808232c7\",\"type\":\"Rect\"},\"hover_glyph\":null,\"nonselection_glyph\":null,\"selection_glyph\":null},\"id\":\"ca7fe468-d40b-45b9-91e9-c9b0c7d5541e\",\"type\":\"GlyphRenderer\"},{\"attributes\":{\"data_source\":{\"id\":\"1c727db1-f29a-4bdd-9519-5cce9c2c9715\",\"type\":\"ColumnDataSource\"},\"glyph\":{\"id\":\"56a53377-03fe-4631-842a-cf0bb5781209\",\"type\":\"Rect\"},\"hover_glyph\":null,\"nonselection_glyph\":null,\"selection_glyph\":null},\"id\":\"aa14c14c-c822-4511-84e8-fa4284c8a924\",\"type\":\"GlyphRenderer\"},{\"attributes\":{\"plot\":{\"id\":\"cc8e96b1-62d9-420e-9d68-d051369086e9\",\"subtype\":\"Chart\",\"type\":\"Plot\"}},\"id\":\"a9aee786-8574-4044-aa69-9c7b47a38d78\",\"type\":\"PreviewSaveTool\"},{\"attributes\":{\"callback\":null,\"column_names\":[\"line_color\",\"line_alpha\",\"color\",\"fill_alpha\",\"height\",\"width\",\"y\",\"x\"],\"data\":{\"chart_index\":[{\"index\":\"Italy\"}],\"color\":[\"navy\"],\"fill_alpha\":[0.8],\"height\":[3.0303030303030303],\"index\":[\"Italy\"],\"line_alpha\":[1.0],\"line_color\":[\"white\"],\"width\":[0.8],\"x\":[\"Italy\"],\"y\":[1.5151515151515151]}},\"id\":\"c8044c38-2550-4d3d-bd5d-13a05fcac2b3\",\"type\":\"ColumnDataSource\"},{\"attributes\":{\"dimension\":1,\"plot\":{\"id\":\"b54cb84a-7ef1-4cd9-9084-c738af7d0391\",\"subtype\":\"Chart\",\"type\":\"Plot\"},\"ticker\":{\"id\":\"6b29c076-abba-4998-ab22-bac588a72f29\",\"type\":\"BasicTicker\"}},\"id\":\"e9804e5f-f8d0-4216-9809-11ca4f07103d\",\"type\":\"Grid\"},{\"attributes\":{\"fill_alpha\":{\"field\":\"fill_alpha\"},\"fill_color\":{\"field\":\"color\"},\"height\":{\"field\":\"height\",\"units\":\"data\"},\"line_color\":{\"field\":\"line_color\"},\"width\":{\"field\":\"width\",\"units\":\"data\"},\"x\":{\"field\":\"x\"},\"y\":{\"field\":\"y\"}},\"id\":\"41918915-4686-4641-b89a-637a526e013d\",\"type\":\"Rect\"},{\"attributes\":{\"line_color\":{\"value\":\"#00ad9c\"},\"line_width\":{\"value\":2},\"x0\":{\"field\":\"x0s\"},\"x1\":{\"field\":\"x1s\"},\"y0\":{\"field\":\"y0s\"},\"y1\":{\"field\":\"y1s\"}},\"id\":\"65296be3-57d1-416c-8126-e816ff79192f\",\"type\":\"Segment\"},{\"attributes\":{\"fill_alpha\":{\"field\":\"fill_alpha\"},\"fill_color\":{\"field\":\"color\"},\"height\":{\"field\":\"height\",\"units\":\"data\"},\"line_color\":{\"field\":\"line_color\"},\"width\":{\"field\":\"width\",\"units\":\"data\"},\"x\":{\"field\":\"x\"},\"y\":{\"field\":\"y\"}},\"id\":\"56a53377-03fe-4631-842a-cf0bb5781209\",\"type\":\"Rect\"},{\"attributes\":{\"callback\":null,\"column_names\":[\"line_color\",\"line_alpha\",\"color\",\"fill_alpha\",\"height\",\"width\",\"y\",\"x\"],\"data\":{\"chart_index\":[{\"index\":\"England\"}],\"color\":[\"navy\"],\"fill_alpha\":[0.8],\"height\":[3.0303030303030303],\"index\":[\"England\"],\"line_alpha\":[1.0],\"line_color\":[\"white\"],\"width\":[0.8],\"x\":[\"England\"],\"y\":[1.5151515151515151]}},\"id\":\"e80a0b5d-2b7c-412e-b2ad-735dcaeb63d7\",\"type\":\"ColumnDataSource\"},{\"attributes\":{\"plot\":{\"id\":\"cc8e96b1-62d9-420e-9d68-d051369086e9\",\"subtype\":\"Chart\",\"type\":\"Plot\"}},\"id\":\"ad0855fe-02d2-41d3-b49d-507b3b64cfdd\",\"type\":\"ResizeTool\"},{\"attributes\":{\"callback\":null,\"column_names\":[\"line_color\",\"line_alpha\",\"color\",\"fill_alpha\",\"height\",\"width\",\"y\",\"x\"],\"data\":{\"chart_index\":[{\"country_name\":\"Russia\"}],\"color\":[\"DimGrey\"],\"country_name\":[\"Russia\"],\"fill_alpha\":[0.8],\"height\":[0.0],\"line_alpha\":[1.0],\"line_color\":[\"black\"],\"width\":[0.8],\"x\":[\"Russia\"],\"y\":[1.0]}},\"id\":\"b897501b-83c6-4c29-a5cb-0673215289f4\",\"type\":\"ColumnDataSource\"},{\"attributes\":{\"callback\":null,\"column_names\":[\"x0s\",\"y0s\",\"x1s\",\"y1s\"],\"data\":{\"chart_index\":[{\"country_name\":\"Cote d'Ivoire (Ivory Coast)\"},{\"country_name\":\"Cote d'Ivoire (Ivory Coast)\"},{\"country_name\":\"Cote d'Ivoire (Ivory Coast)\"},{\"country_name\":\"Cote d'Ivoire (Ivory Coast)\"}],\"country_name\":[\"Cote d'Ivoire (Ivory Coast)\",\"Cote d'Ivoire (Ivory Coast)\",\"Cote d'Ivoire (Ivory Coast)\",\"Cote d'Ivoire (Ivory Coast)\"],\"x0s\":[\"Cote d'Ivoire (Ivory Coast):0.5\",\"Cote d'Ivoire (Ivory Coast):0.65\",\"Cote d'Ivoire (Ivory Coast):0.5\",\"Cote d'Ivoire (Ivory Coast):0.65\"],\"x1s\":[\"Cote d'Ivoire (Ivory Coast):0.5\",\"Cote d'Ivoire (Ivory Coast):0.35\",\"Cote d'Ivoire (Ivory Coast):0.5\",\"Cote d'Ivoire (Ivory Coast):0.35\"],\"y0s\":[1.0,1.0,1.0,1.0],\"y1s\":[1.0,1.0,1.0,1.0]}},\"id\":\"c7bb4ea9-d6bf-4fbf-a077-35597774bcfc\",\"type\":\"ColumnDataSource\"},{\"attributes\":{},\"id\":\"f76c567d-2cca-493d-a79a-c2ce164fb31f\",\"type\":\"ToolEvents\"},{\"attributes\":{\"callback\":null,\"column_names\":[\"x0s\",\"y0s\",\"x1s\",\"y1s\"],\"data\":{\"chart_index\":[{\"country_name\":\"USA\"},{\"country_name\":\"USA\"},{\"country_name\":\"USA\"},{\"country_name\":\"USA\"}],\"country_name\":[\"USA\",\"USA\",\"USA\",\"USA\"],\"x0s\":[\"USA:0.5\",\"USA:0.65\",\"USA:0.5\",\"USA:0.65\"],\"x1s\":[\"USA:0.5\",\"USA:0.35\",\"USA:0.5\",\"USA:0.35\"],\"y0s\":[0.0,0.0,2.0,4.0],\"y1s\":[0.0,0.0,4.0,4.0]}},\"id\":\"4d6a3652-d4c7-4268-bfbc-5691b6c4d004\",\"type\":\"ColumnDataSource\"},{\"attributes\":{\"data_source\":{\"id\":\"7d0993f9-83ff-4b99-b7d0-a768f11d6c4a\",\"type\":\"ColumnDataSource\"},\"glyph\":{\"id\":\"97bbf37e-85dc-4737-910f-d195044b2f44\",\"type\":\"Rect\"},\"hover_glyph\":null,\"nonselection_glyph\":null,\"selection_glyph\":null},\"id\":\"72caa64c-4854-4d7a-bb13-14bc3d718de4\",\"type\":\"GlyphRenderer\"},{\"attributes\":{\"fill_alpha\":{\"field\":\"fill_alpha\"},\"fill_color\":{\"field\":\"color\"},\"height\":{\"field\":\"height\",\"units\":\"data\"},\"line_color\":{\"field\":\"line_color\"},\"width\":{\"field\":\"width\",\"units\":\"data\"},\"x\":{\"field\":\"x\"},\"y\":{\"field\":\"y\"}},\"id\":\"c0bce1bd-4949-4ac7-a6c2-658ae61645d9\",\"type\":\"Rect\"},{\"attributes\":{\"fill_alpha\":{\"field\":\"fill_alpha\"},\"fill_color\":{\"field\":\"color\"},\"height\":{\"field\":\"height\",\"units\":\"data\"},\"line_color\":{\"field\":\"line_color\"},\"width\":{\"field\":\"width\",\"units\":\"data\"},\"x\":{\"field\":\"x\"},\"y\":{\"field\":\"y\"}},\"id\":\"30d49db4-46b2-4f5b-991b-29d4a0b8c463\",\"type\":\"Rect\"},{\"attributes\":{\"fill_alpha\":{\"field\":\"fill_alpha\"},\"fill_color\":{\"field\":\"color\"},\"height\":{\"field\":\"height\",\"units\":\"data\"},\"line_color\":{\"field\":\"line_color\"},\"width\":{\"field\":\"width\",\"units\":\"data\"},\"x\":{\"field\":\"x\"},\"y\":{\"field\":\"y\"}},\"id\":\"dfde2b22-cb7b-42c4-be03-fb01d317c7a0\",\"type\":\"Rect\"},{\"attributes\":{\"callback\":null,\"factors\":[\"Cote d'Ivoire (Ivory Coast)\",\"Democratic Republic of the Congo\",\"England\",\"Gabon\",\"Italy\",\"Philippines\",\"Russia\",\"South Africa\",\"Sudan (South Sudan)\",\"USA\",\"Uganda\"]},\"id\":\"90a56e06-c9dd-45da-bad5-3e9454a1545b\",\"type\":\"FactorRange\"},{\"attributes\":{\"callback\":null,\"column_names\":[\"line_color\",\"line_alpha\",\"color\",\"fill_alpha\",\"height\",\"width\",\"y\",\"x\"],\"data\":{\"chart_index\":[{\"index\":\"Cote d'Ivoire (Ivory Coast)\"}],\"color\":[\"navy\"],\"fill_alpha\":[0.8],\"height\":[3.0303030303030303],\"index\":[\"Cote d'Ivoire (Ivory Coast)\"],\"line_alpha\":[1.0],\"line_color\":[\"white\"],\"width\":[0.8],\"x\":[\"Cote d'Ivoire (Ivory Coast)\"],\"y\":[1.5151515151515151]}},\"id\":\"3c0c9e12-4054-40e8-88a9-809836c584e1\",\"type\":\"ColumnDataSource\"},{\"attributes\":{\"data_source\":{\"id\":\"5b8ea214-9854-42ea-9ef7-8dddce5a34de\",\"type\":\"ColumnDataSource\"},\"glyph\":{\"id\":\"dfde2b22-cb7b-42c4-be03-fb01d317c7a0\",\"type\":\"Rect\"},\"hover_glyph\":null,\"nonselection_glyph\":null,\"selection_glyph\":null},\"id\":\"f61c0f0d-d492-4e38-a2ab-c2dfa90b3662\",\"type\":\"GlyphRenderer\"},{\"attributes\":{\"callback\":null,\"column_names\":[\"x0s\",\"y0s\",\"x1s\",\"y1s\"],\"data\":{\"chart_index\":[{\"country_name\":\"Philippines\"},{\"country_name\":\"Philippines\"},{\"country_name\":\"Philippines\"},{\"country_name\":\"Philippines\"}],\"country_name\":[\"Philippines\",\"Philippines\",\"Philippines\",\"Philippines\"],\"x0s\":[\"Philippines:0.5\",\"Philippines:0.65\",\"Philippines:0.5\",\"Philippines:0.65\"],\"x1s\":[\"Philippines:0.5\",\"Philippines:0.35\",\"Philippines:0.5\",\"Philippines:0.35\"],\"y0s\":[0.0,0.0,4.5,6.0],\"y1s\":[1.5,0.0,6.0,6.0]}},\"id\":\"0bc14500-3351-4eed-85fa-4649a279571f\",\"type\":\"ColumnDataSource\"},{\"attributes\":{\"fill_alpha\":{\"field\":\"fill_alpha\"},\"fill_color\":{\"field\":\"color\"},\"height\":{\"field\":\"height\",\"units\":\"data\"},\"line_color\":{\"field\":\"line_color\"},\"width\":{\"field\":\"width\",\"units\":\"data\"},\"x\":{\"field\":\"x\"},\"y\":{\"field\":\"y\"}},\"id\":\"473b568e-f666-4578-9e55-539348ca6b4e\",\"type\":\"Rect\"},{\"attributes\":{\"plot\":{\"id\":\"b54cb84a-7ef1-4cd9-9084-c738af7d0391\",\"subtype\":\"Chart\",\"type\":\"Plot\"}},\"id\":\"f065795a-3dbd-4769-a9b8-b57878ff4bfb\",\"type\":\"WheelZoomTool\"},{\"attributes\":{\"fill_alpha\":{\"field\":\"fill_alpha\"},\"fill_color\":{\"field\":\"color\"},\"height\":{\"field\":\"height\",\"units\":\"data\"},\"line_color\":{\"field\":\"line_color\"},\"width\":{\"field\":\"width\",\"units\":\"data\"},\"x\":{\"field\":\"x\"},\"y\":{\"field\":\"y\"}},\"id\":\"56c810bf-a278-42bf-8d5a-90b9951fe492\",\"type\":\"Rect\"},{\"attributes\":{\"data_source\":{\"id\":\"230e4448-499a-4106-84e4-05809bafdfb1\",\"type\":\"ColumnDataSource\"},\"glyph\":{\"id\":\"65296be3-57d1-416c-8126-e816ff79192f\",\"type\":\"Segment\"},\"hover_glyph\":null,\"nonselection_glyph\":null,\"selection_glyph\":null},\"id\":\"aaaf4062-2583-4e95-9a6d-cc55f624348c\",\"type\":\"GlyphRenderer\"},{\"attributes\":{\"data_source\":{\"id\":\"e4deaad9-ab0d-4645-bf41-c28a9fa12bd6\",\"type\":\"ColumnDataSource\"},\"glyph\":{\"id\":\"41918915-4686-4641-b89a-637a526e013d\",\"type\":\"Rect\"},\"hover_glyph\":null,\"nonselection_glyph\":null,\"selection_glyph\":null},\"id\":\"e811b74f-6d89-43cf-9b2e-2a2f92f27432\",\"type\":\"GlyphRenderer\"},{\"attributes\":{\"fill_alpha\":{\"field\":\"fill_alpha\"},\"fill_color\":{\"field\":\"color\"},\"height\":{\"field\":\"height\",\"units\":\"data\"},\"line_color\":{\"field\":\"line_color\"},\"width\":{\"field\":\"width\",\"units\":\"data\"},\"x\":{\"field\":\"x\"},\"y\":{\"field\":\"y\"}},\"id\":\"a11d23c7-5547-4dac-bada-aaf738898bed\",\"type\":\"Rect\"},{\"attributes\":{\"dimension\":1,\"plot\":{\"id\":\"cc8e96b1-62d9-420e-9d68-d051369086e9\",\"subtype\":\"Chart\",\"type\":\"Plot\"},\"ticker\":{\"id\":\"47e3eec0-0e19-44bf-8266-07d8891ce8fb\",\"type\":\"BasicTicker\"}},\"id\":\"c51b42cc-a827-448d-976a-d2e4129bb007\",\"type\":\"Grid\"},{\"attributes\":{\"callback\":null,\"column_names\":[\"line_color\",\"line_alpha\",\"color\",\"fill_alpha\",\"height\",\"width\",\"y\",\"x\"],\"data\":{\"chart_index\":[{\"country_name\":\"Cote d'Ivoire (Ivory Coast)\"}],\"color\":[\"DimGrey\"],\"country_name\":[\"Cote d'Ivoire (Ivory Coast)\"],\"fill_alpha\":[0.8],\"height\":[0],\"line_alpha\":[1.0],\"line_color\":[\"black\"],\"width\":[0.8],\"x\":[\"Cote d'Ivoire (Ivory Coast)\"],\"y\":[1.0]}},\"id\":\"5b8ea214-9854-42ea-9ef7-8dddce5a34de\",\"type\":\"ColumnDataSource\"},{\"attributes\":{\"data_source\":{\"id\":\"9fcfd9d2-f369-4bca-a93e-6e297f9f41e6\",\"type\":\"ColumnDataSource\"},\"glyph\":{\"id\":\"a9d7b7ce-81ca-42c1-96b1-c5ca2f1f498e\",\"type\":\"Rect\"},\"hover_glyph\":null,\"nonselection_glyph\":null,\"selection_glyph\":null},\"id\":\"7e5b6d75-21a0-44f1-8a20-7f10a1f369b5\",\"type\":\"GlyphRenderer\"},{\"attributes\":{\"callback\":null,\"column_names\":[\"line_color\",\"line_alpha\",\"color\",\"fill_alpha\",\"height\",\"width\",\"y\",\"x\"],\"data\":{\"chart_index\":[{\"country_name\":\"Uganda\"}],\"color\":[\"DimGrey\"],\"country_name\":[\"Uganda\"],\"fill_alpha\":[0.8],\"height\":[138.0],\"line_alpha\":[1.0],\"line_color\":[\"black\"],\"width\":[0.8],\"x\":[\"Uganda\"],\"y\":[80.0]}},\"id\":\"db34ab03-342c-4def-9c08-6f04c6610f0b\",\"type\":\"ColumnDataSource\"},{\"attributes\":{\"line_color\":{\"value\":\"#5ab738\"},\"line_width\":{\"value\":2},\"x0\":{\"field\":\"x0s\"},\"x1\":{\"field\":\"x1s\"},\"y0\":{\"field\":\"y0s\"},\"y1\":{\"field\":\"y1s\"}},\"id\":\"1f6adcad-9fc5-4707-91b2-ae1c33b75c3e\",\"type\":\"Segment\"},{\"attributes\":{\"callback\":null,\"column_names\":[\"x0s\",\"y0s\",\"x1s\",\"y1s\"],\"data\":{\"chart_index\":[{\"country_name\":\"England\"},{\"country_name\":\"England\"},{\"country_name\":\"England\"},{\"country_name\":\"England\"}],\"country_name\":[\"England\",\"England\",\"England\",\"England\"],\"x0s\":[\"England:0.5\",\"England:0.65\",\"England:0.5\",\"England:0.65\"],\"x1s\":[\"England:0.5\",\"England:0.35\",\"England:0.5\",\"England:0.35\"],\"y0s\":[1.0,1.0,1.0,1.0],\"y1s\":[1.0,1.0,1.0,1.0]}},\"id\":\"fcc5898e-0b1a-4c9e-bb6b-eb45ac1594f7\",\"type\":\"ColumnDataSource\"},{\"attributes\":{\"callback\":null,\"column_names\":[\"x0s\",\"y0s\",\"x1s\",\"y1s\"],\"data\":{\"chart_index\":[{\"country_name\":\"Sudan (South Sudan)\"},{\"country_name\":\"Sudan (South Sudan)\"},{\"country_name\":\"Sudan (South Sudan)\"},{\"country_name\":\"Sudan (South Sudan)\"}],\"country_name\":[\"Sudan (South Sudan)\",\"Sudan (South Sudan)\",\"Sudan (South Sudan)\",\"Sudan (South Sudan)\"],\"x0s\":[\"Sudan (South Sudan):0.5\",\"Sudan (South Sudan):0.65\",\"Sudan (South Sudan):0.5\",\"Sudan (South Sudan):0.65\"],\"x1s\":[\"Sudan (South Sudan):0.5\",\"Sudan (South Sudan):0.35\",\"Sudan (South Sudan):0.5\",\"Sudan (South Sudan):0.35\"],\"y0s\":[17.0,17.0,159.0,284.0],\"y1s\":[25.5,17.0,284.0,284.0]}},\"id\":\"498f2643-c4cc-4bb2-a1ea-0e247ccfd3e2\",\"type\":\"ColumnDataSource\"}],\"root_ids\":[\"cc8e96b1-62d9-420e-9d68-d051369086e9\",\"b54cb84a-7ef1-4cd9-9084-c738af7d0391\"]},\"title\":\"Bokeh Application\",\"version\":\"0.11.1\"}};\n",
       "            var render_items = [{\"docid\":\"7d2db8d8-3493-4622-a5ab-d409599a946e\",\"elementid\":\"66f8b92d-1c22-4231-a2a8-b580f3dd0945\",\"modelid\":\"b54cb84a-7ef1-4cd9-9084-c738af7d0391\",\"notebook_comms_target\":\"0091db37-c82d-4d88-96b9-f4d52e7576a1\"}];\n",
       "            \n",
       "            Bokeh.embed.embed_items(docs_json, render_items);\n",
       "        });\n",
       "      },\n",
       "      function(Bokeh) {\n",
       "      }\n",
       "    ];\n",
       "  \n",
       "    function run_inline_js() {\n",
       "      for (var i = 0; i < inline_js.length; i++) {\n",
       "        inline_js[i](window.Bokeh);\n",
       "      }\n",
       "    }\n",
       "  \n",
       "    if (window._bokeh_is_loading === 0) {\n",
       "      console.log(\"Bokeh: BokehJS loaded, going straight to plotting\");\n",
       "      run_inline_js();\n",
       "    } else {\n",
       "      load_libs(js_urls, function() {\n",
       "        console.log(\"Bokeh: BokehJS plotting callback run at\", now());\n",
       "        run_inline_js();\n",
       "      });\n",
       "    }\n",
       "  }(this));\n",
       "</script>"
      ]
     },
     "metadata": {},
     "output_type": "display_data"
    },
    {
     "data": {
      "text/html": [
       "<p><code>&lt;Bokeh Notebook handle for <strong>In[10]</strong>&gt;</code></p>"
      ],
      "text/plain": [
       "<bokeh.io._CommsHandle at 0x7f1d00a4bbd0>"
      ]
     },
     "execution_count": 10,
     "metadata": {},
     "output_type": "execute_result"
    }
   ],
   "source": [
    "box_ev = BoxPlot(df_ebola_victims, values=\"reported_number_of_human_cases\",\n",
    "                 label='country_name', title=\"Number of ebola victims per country\",\n",
    "                 outliers=False, whisker_color='country_name')\n",
    "\n",
    "output_notebook()\n",
    "output_file(\"victims.html\", title=\"Number of ebola victims per country\")\n",
    "\n",
    "show(box_ev)"
   ]
  },
  {
   "cell_type": "code",
   "execution_count": 11,
   "metadata": {
    "collapsed": false
   },
   "outputs": [
    {
     "data": {
      "text/html": [
       "<div>\n",
       "<table border=\"1\" class=\"dataframe\">\n",
       "  <thead>\n",
       "    <tr style=\"text-align: right;\">\n",
       "      <th></th>\n",
       "      <th>reported_number_of_deaths_among_cases</th>\n",
       "    </tr>\n",
       "    <tr>\n",
       "      <th>country_name</th>\n",
       "      <th></th>\n",
       "    </tr>\n",
       "  </thead>\n",
       "  <tbody>\n",
       "    <tr>\n",
       "      <th>Cote d'Ivoire (Ivory Coast)</th>\n",
       "      <td>0</td>\n",
       "    </tr>\n",
       "    <tr>\n",
       "      <th>Democratic Republic of the Congo</th>\n",
       "      <td>946</td>\n",
       "    </tr>\n",
       "    <tr>\n",
       "      <th>England</th>\n",
       "      <td>0</td>\n",
       "    </tr>\n",
       "    <tr>\n",
       "      <th>Gabon</th>\n",
       "      <td>150</td>\n",
       "    </tr>\n",
       "    <tr>\n",
       "      <th>Italy</th>\n",
       "      <td>0</td>\n",
       "    </tr>\n",
       "    <tr>\n",
       "      <th>Philippines</th>\n",
       "      <td>0</td>\n",
       "    </tr>\n",
       "    <tr>\n",
       "      <th>Russia</th>\n",
       "      <td>2</td>\n",
       "    </tr>\n",
       "    <tr>\n",
       "      <th>South Africa</th>\n",
       "      <td>1</td>\n",
       "    </tr>\n",
       "    <tr>\n",
       "      <th>Sudan (South Sudan)</th>\n",
       "      <td>180</td>\n",
       "    </tr>\n",
       "    <tr>\n",
       "      <th>USA</th>\n",
       "      <td>0</td>\n",
       "    </tr>\n",
       "    <tr>\n",
       "      <th>Uganda</th>\n",
       "      <td>269</td>\n",
       "    </tr>\n",
       "  </tbody>\n",
       "</table>\n",
       "</div>"
      ],
      "text/plain": [
       "                                  reported_number_of_deaths_among_cases\n",
       "country_name                                                           \n",
       "Cote d'Ivoire (Ivory Coast)                                           0\n",
       "Democratic Republic of the Congo                                    946\n",
       "England                                                               0\n",
       "Gabon                                                               150\n",
       "Italy                                                                 0\n",
       "Philippines                                                           0\n",
       "Russia                                                                2\n",
       "South Africa                                                          1\n",
       "Sudan (South Sudan)                                                 180\n",
       "USA                                                                   0\n",
       "Uganda                                                              269"
      ]
     },
     "execution_count": 11,
     "metadata": {},
     "output_type": "execute_result"
    }
   ],
   "source": [
    "ebola_data[[\"country_name\", \"reported_number_of_deaths_among_cases\"]].groupby([\"country_name\"]).sum()"
   ]
  },
  {
   "cell_type": "code",
   "execution_count": 12,
   "metadata": {
    "collapsed": false
   },
   "outputs": [
    {
     "data": {
      "text/html": [
       "\n",
       "    <div class=\"bk-banner\">\n",
       "        <a href=\"http://bokeh.pydata.org\" target=\"_blank\" class=\"bk-logo bk-logo-small bk-logo-notebook\"></a>\n",
       "        <span id=\"9c254b8f-4082-42a2-94de-8c03ee76ac80\">Loading BokehJS ...</span>\n",
       "    </div>"
      ]
     },
     "metadata": {},
     "output_type": "display_data"
    },
    {
     "data": {
      "application/javascript": [
       "\n",
       "(function(global) {\n",
       "  function now() {\n",
       "    return new Date();\n",
       "  }\n",
       "\n",
       "  if (typeof (window._bokeh_onload_callbacks) === \"undefined\") {\n",
       "    window._bokeh_onload_callbacks = [];\n",
       "  }\n",
       "\n",
       "  function run_callbacks() {\n",
       "    window._bokeh_onload_callbacks.forEach(function(callback) { callback() });\n",
       "    delete window._bokeh_onload_callbacks\n",
       "    console.info(\"Bokeh: all callbacks have finished\");\n",
       "  }\n",
       "\n",
       "  function load_libs(js_urls, callback) {\n",
       "    window._bokeh_onload_callbacks.push(callback);\n",
       "    if (window._bokeh_is_loading > 0) {\n",
       "      console.log(\"Bokeh: BokehJS is being loaded, scheduling callback at\", now());\n",
       "      return null;\n",
       "    }\n",
       "    if (js_urls == null || js_urls.length === 0) {\n",
       "      run_callbacks();\n",
       "      return null;\n",
       "    }\n",
       "    console.log(\"Bokeh: BokehJS not loaded, scheduling load and callback at\", now());\n",
       "    window._bokeh_is_loading = js_urls.length;\n",
       "    for (var i = 0; i < js_urls.length; i++) {\n",
       "      var url = js_urls[i];\n",
       "      var s = document.createElement('script');\n",
       "      s.src = url;\n",
       "      s.async = false;\n",
       "      s.onreadystatechange = s.onload = function() {\n",
       "        window._bokeh_is_loading--;\n",
       "        if (window._bokeh_is_loading === 0) {\n",
       "          console.log(\"Bokeh: all BokehJS libraries loaded\");\n",
       "          run_callbacks()\n",
       "        }\n",
       "      };\n",
       "      s.onerror = function() {\n",
       "        console.warn(\"failed to load library \" + url);\n",
       "      };\n",
       "      console.log(\"Bokeh: injecting script tag for BokehJS library: \", url);\n",
       "      document.getElementsByTagName(\"head\")[0].appendChild(s);\n",
       "    }\n",
       "  };\n",
       "\n",
       "  var js_urls = ['https://cdn.pydata.org/bokeh/release/bokeh-0.11.1.min.js', 'https://cdn.pydata.org/bokeh/release/bokeh-widgets-0.11.1.min.js', 'https://cdn.pydata.org/bokeh/release/bokeh-compiler-0.11.1.min.js'];\n",
       "\n",
       "  var inline_js = [\n",
       "    function(Bokeh) {\n",
       "      Bokeh.set_log_level(\"info\");\n",
       "    },\n",
       "    \n",
       "    function(Bokeh) {\n",
       "      Bokeh.$(\"#9c254b8f-4082-42a2-94de-8c03ee76ac80\").text(\"BokehJS successfully loaded\");\n",
       "    },\n",
       "    function(Bokeh) {\n",
       "      console.log(\"Bokeh: injecting CSS: https://cdn.pydata.org/bokeh/release/bokeh-0.11.1.min.css\");\n",
       "      Bokeh.embed.inject_css(\"https://cdn.pydata.org/bokeh/release/bokeh-0.11.1.min.css\");\n",
       "      console.log(\"Bokeh: injecting CSS: https://cdn.pydata.org/bokeh/release/bokeh-widgets-0.11.1.min.css\");\n",
       "      Bokeh.embed.inject_css(\"https://cdn.pydata.org/bokeh/release/bokeh-widgets-0.11.1.min.css\");\n",
       "    }\n",
       "  ];\n",
       "\n",
       "  function run_inline_js() {\n",
       "    for (var i = 0; i < inline_js.length; i++) {\n",
       "      inline_js[i](window.Bokeh);\n",
       "    }\n",
       "  }\n",
       "\n",
       "  if (window._bokeh_is_loading === 0) {\n",
       "    console.log(\"Bokeh: BokehJS loaded, going straight to plotting\");\n",
       "    run_inline_js();\n",
       "  } else {\n",
       "    load_libs(js_urls, function() {\n",
       "      console.log(\"Bokeh: BokehJS plotting callback run at\", now());\n",
       "      run_inline_js();\n",
       "    });\n",
       "  }\n",
       "}(this));"
      ]
     },
     "metadata": {},
     "output_type": "display_data"
    },
    {
     "data": {
      "text/html": [
       "\n",
       "\n",
       "    <div class=\"plotdiv\" id=\"12fec8d7-a755-4b78-b187-4f6770746211\"></div>\n",
       "<script type=\"text/javascript\">\n",
       "  \n",
       "  (function(global) {\n",
       "    function now() {\n",
       "      return new Date();\n",
       "    }\n",
       "  \n",
       "    if (typeof (window._bokeh_onload_callbacks) === \"undefined\") {\n",
       "      window._bokeh_onload_callbacks = [];\n",
       "    }\n",
       "  \n",
       "    function run_callbacks() {\n",
       "      window._bokeh_onload_callbacks.forEach(function(callback) { callback() });\n",
       "      delete window._bokeh_onload_callbacks\n",
       "      console.info(\"Bokeh: all callbacks have finished\");\n",
       "    }\n",
       "  \n",
       "    function load_libs(js_urls, callback) {\n",
       "      window._bokeh_onload_callbacks.push(callback);\n",
       "      if (window._bokeh_is_loading > 0) {\n",
       "        console.log(\"Bokeh: BokehJS is being loaded, scheduling callback at\", now());\n",
       "        return null;\n",
       "      }\n",
       "      if (js_urls == null || js_urls.length === 0) {\n",
       "        run_callbacks();\n",
       "        return null;\n",
       "      }\n",
       "      console.log(\"Bokeh: BokehJS not loaded, scheduling load and callback at\", now());\n",
       "      window._bokeh_is_loading = js_urls.length;\n",
       "      for (var i = 0; i < js_urls.length; i++) {\n",
       "        var url = js_urls[i];\n",
       "        var s = document.createElement('script');\n",
       "        s.src = url;\n",
       "        s.async = false;\n",
       "        s.onreadystatechange = s.onload = function() {\n",
       "          window._bokeh_is_loading--;\n",
       "          if (window._bokeh_is_loading === 0) {\n",
       "            console.log(\"Bokeh: all BokehJS libraries loaded\");\n",
       "            run_callbacks()\n",
       "          }\n",
       "        };\n",
       "        s.onerror = function() {\n",
       "          console.warn(\"failed to load library \" + url);\n",
       "        };\n",
       "        console.log(\"Bokeh: injecting script tag for BokehJS library: \", url);\n",
       "        document.getElementsByTagName(\"head\")[0].appendChild(s);\n",
       "      }\n",
       "    };var element = document.getElementById(\"12fec8d7-a755-4b78-b187-4f6770746211\");\n",
       "    if (element == null) {\n",
       "      console.log(\"Bokeh: ERROR: autoload.js configured with elementid '12fec8d7-a755-4b78-b187-4f6770746211' but no matching script tag was found. \")\n",
       "      return false;\n",
       "    }\n",
       "  \n",
       "    var js_urls = [];\n",
       "  \n",
       "    var inline_js = [\n",
       "      function(Bokeh) {\n",
       "        Bokeh.$(function() {\n",
       "            var docs_json = {\"63816679-9d88-4496-9b7d-3be929c838af\":{\"roots\":{\"references\":[{\"attributes\":{\"callback\":null,\"column_names\":[\"x0s\",\"y0s\",\"x1s\",\"y1s\"],\"data\":{\"chart_index\":[{\"country_name\":\"Gabon\"},{\"country_name\":\"Gabon\"},{\"country_name\":\"Gabon\"},{\"country_name\":\"Gabon\"}],\"country_name\":[\"Gabon\",\"Gabon\",\"Gabon\",\"Gabon\"],\"x0s\":[\"Gabon:0.5\",\"Gabon:0.65\",\"Gabon:0.5\",\"Gabon:0.65\"],\"x1s\":[\"Gabon:0.5\",\"Gabon:0.35\",\"Gabon:0.5\",\"Gabon:0.35\"],\"y0s\":[21.0,21.0,47.0,53.0],\"y1s\":[28.5,21.0,53.0,53.0]}},\"id\":\"89fcff9c-a398-4172-987a-6f2cc96f4a45\",\"type\":\"ColumnDataSource\"},{\"attributes\":{\"fill_alpha\":{\"field\":\"fill_alpha\"},\"fill_color\":{\"field\":\"color\"},\"height\":{\"field\":\"height\",\"units\":\"data\"},\"line_color\":{\"field\":\"line_color\"},\"width\":{\"field\":\"width\",\"units\":\"data\"},\"x\":{\"field\":\"x\"},\"y\":{\"field\":\"y\"}},\"id\":\"8e78ad06-c5d0-4165-97f3-1593c75debce\",\"type\":\"Rect\"},{\"attributes\":{\"callback\":null,\"column_names\":[\"x0s\",\"y0s\",\"x1s\",\"y1s\"],\"data\":{\"chart_index\":[{\"country_name\":\"Cote d'Ivoire (Ivory Coast)\"},{\"country_name\":\"Cote d'Ivoire (Ivory Coast)\"},{\"country_name\":\"Cote d'Ivoire (Ivory Coast)\"},{\"country_name\":\"Cote d'Ivoire (Ivory Coast)\"}],\"country_name\":[\"Cote d'Ivoire (Ivory Coast)\",\"Cote d'Ivoire (Ivory Coast)\",\"Cote d'Ivoire (Ivory Coast)\",\"Cote d'Ivoire (Ivory Coast)\"],\"x0s\":[\"Cote d'Ivoire (Ivory Coast):0.5\",\"Cote d'Ivoire (Ivory Coast):0.65\",\"Cote d'Ivoire (Ivory Coast):0.5\",\"Cote d'Ivoire (Ivory Coast):0.65\"],\"x1s\":[\"Cote d'Ivoire (Ivory Coast):0.5\",\"Cote d'Ivoire (Ivory Coast):0.35\",\"Cote d'Ivoire (Ivory Coast):0.5\",\"Cote d'Ivoire (Ivory Coast):0.35\"],\"y0s\":[1.0,1.0,1.0,1.0],\"y1s\":[1.0,1.0,1.0,1.0]}},\"id\":\"c7bb4ea9-d6bf-4fbf-a077-35597774bcfc\",\"type\":\"ColumnDataSource\"},{\"attributes\":{\"callback\":null,\"column_names\":[\"line_color\",\"line_alpha\",\"color\",\"fill_alpha\",\"height\",\"width\",\"y\",\"x\"],\"data\":{\"chart_index\":[{\"country_name\":\"Philippines\"}],\"color\":[\"DimGrey\"],\"country_name\":[\"Philippines\"],\"fill_alpha\":[0.8],\"height\":[0.0],\"line_alpha\":[1.0],\"line_color\":[\"black\"],\"width\":[0.8],\"x\":[\"Philippines\"],\"y\":[0.0]}},\"id\":\"3803c269-411a-485a-9464-957c3cf7728c\",\"type\":\"ColumnDataSource\"},{\"attributes\":{},\"id\":\"d4acf366-5a9b-43c2-a1c4-2fe010ae2cf3\",\"type\":\"ToolEvents\"},{\"attributes\":{\"bottom_units\":\"screen\",\"fill_alpha\":{\"value\":0.5},\"fill_color\":{\"value\":\"lightgrey\"},\"left_units\":\"screen\",\"level\":\"overlay\",\"line_alpha\":{\"value\":1.0},\"line_color\":{\"value\":\"black\"},\"line_dash\":[4,4],\"line_width\":{\"value\":2},\"plot\":null,\"render_mode\":\"css\",\"right_units\":\"screen\",\"top_units\":\"screen\"},\"id\":\"65c8d844-0a1c-4e1e-88ed-3ef3d7023d4b\",\"type\":\"BoxAnnotation\"},{\"attributes\":{\"data_source\":{\"id\":\"e493aeef-1396-452f-ad9d-ec3891ae5c87\",\"type\":\"ColumnDataSource\"},\"glyph\":{\"id\":\"8e78ad06-c5d0-4165-97f3-1593c75debce\",\"type\":\"Rect\"},\"hover_glyph\":null,\"nonselection_glyph\":null,\"selection_glyph\":null},\"id\":\"a3b7ef16-5a97-4675-acb4-3584685538c5\",\"type\":\"GlyphRenderer\"},{\"attributes\":{\"fill_alpha\":{\"field\":\"fill_alpha\"},\"fill_color\":{\"field\":\"color\"},\"height\":{\"field\":\"height\",\"units\":\"data\"},\"line_color\":{\"field\":\"line_color\"},\"width\":{\"field\":\"width\",\"units\":\"data\"},\"x\":{\"field\":\"x\"},\"y\":{\"field\":\"y\"}},\"id\":\"62b05d58-d4aa-4a57-b22e-1993b65ab451\",\"type\":\"Rect\"},{\"attributes\":{\"fill_alpha\":{\"field\":\"fill_alpha\"},\"fill_color\":{\"field\":\"color\"},\"height\":{\"field\":\"height\",\"units\":\"data\"},\"line_color\":{\"field\":\"line_color\"},\"width\":{\"field\":\"width\",\"units\":\"data\"},\"x\":{\"field\":\"x\"},\"y\":{\"field\":\"y\"}},\"id\":\"aea85351-39f4-4d8f-b8df-b9a24cd73f54\",\"type\":\"Rect\"},{\"attributes\":{\"plot\":{\"id\":\"fe62edd8-a33e-4d82-b09b-abb87bd082b9\",\"subtype\":\"Chart\",\"type\":\"Plot\"}},\"id\":\"1e9fd05c-6d52-4cbf-a4f2-d5018f0d899d\",\"type\":\"WheelZoomTool\"},{\"attributes\":{\"callback\":null,\"column_names\":[\"x0s\",\"y0s\",\"x1s\",\"y1s\"],\"data\":{\"chart_index\":[{\"country_name\":\"Italy\"},{\"country_name\":\"Italy\"},{\"country_name\":\"Italy\"},{\"country_name\":\"Italy\"}],\"country_name\":[\"Italy\",\"Italy\",\"Italy\",\"Italy\"],\"x0s\":[\"Italy:0.5\",\"Italy:0.65\",\"Italy:0.5\",\"Italy:0.65\"],\"x1s\":[\"Italy:0.5\",\"Italy:0.35\",\"Italy:0.5\",\"Italy:0.35\"],\"y0s\":[0.0,0.0,0.0,0.0],\"y1s\":[0.0,0.0,0.0,0.0]}},\"id\":\"6a8aa23d-5e60-4b84-b792-54b191d7a3de\",\"type\":\"ColumnDataSource\"},{\"attributes\":{\"axis_label\":\"Country_Name\",\"formatter\":{\"id\":\"6458e7ce-9e42-4c86-8876-e5912bd31834\",\"type\":\"CategoricalTickFormatter\"},\"major_label_orientation\":0.7853981633974483,\"plot\":{\"id\":\"fe62edd8-a33e-4d82-b09b-abb87bd082b9\",\"subtype\":\"Chart\",\"type\":\"Plot\"},\"ticker\":{\"id\":\"50af7331-2503-44f3-92b9-55ec066732c9\",\"type\":\"CategoricalTicker\"}},\"id\":\"b70f57cc-0cec-4a6d-8716-ea7880803823\",\"type\":\"CategoricalAxis\"},{\"attributes\":{\"data_source\":{\"id\":\"c8044c38-2550-4d3d-bd5d-13a05fcac2b3\",\"type\":\"ColumnDataSource\"},\"glyph\":{\"id\":\"6033c86e-01a6-47ac-944d-4a190c37b2d1\",\"type\":\"Rect\"},\"hover_glyph\":null,\"nonselection_glyph\":null,\"selection_glyph\":null},\"id\":\"3c18f31a-5a5c-4cd0-abbb-22840156358c\",\"type\":\"GlyphRenderer\"},{\"attributes\":{\"callback\":null,\"column_names\":[\"line_color\",\"line_alpha\",\"color\",\"fill_alpha\",\"height\",\"width\",\"y\",\"x\"],\"data\":{\"chart_index\":[{\"index\":\"USA\"}],\"color\":[\"navy\"],\"fill_alpha\":[0.8],\"height\":[9.090909090909092],\"index\":[\"USA\"],\"line_alpha\":[1.0],\"line_color\":[\"white\"],\"width\":[0.8],\"x\":[\"USA\"],\"y\":[4.545454545454546]}},\"id\":\"901ad97f-643b-449f-bad6-613802dea6cc\",\"type\":\"ColumnDataSource\"},{\"attributes\":{\"data_source\":{\"id\":\"5b9459c2-37ff-4256-8517-ab56e0d326a6\",\"type\":\"ColumnDataSource\"},\"glyph\":{\"id\":\"8df964ce-43ee-4ea5-95aa-d68eb14b9972\",\"type\":\"Rect\"},\"hover_glyph\":null,\"nonselection_glyph\":null,\"selection_glyph\":null},\"id\":\"36a337f6-ee6e-47a0-ba6c-facc0d0e18a1\",\"type\":\"GlyphRenderer\"},{\"attributes\":{\"line_color\":{\"value\":\"#df5320\"},\"line_width\":{\"value\":2},\"x0\":{\"field\":\"x0s\"},\"x1\":{\"field\":\"x1s\"},\"y0\":{\"field\":\"y0s\"},\"y1\":{\"field\":\"y1s\"}},\"id\":\"bcaf22c5-583b-46aa-aac9-a9cc328c77e3\",\"type\":\"Segment\"},{\"attributes\":{\"callback\":null,\"column_names\":[\"x0s\",\"y0s\",\"x1s\",\"y1s\"],\"data\":{\"chart_index\":[{\"country_name\":\"Uganda\"},{\"country_name\":\"Uganda\"},{\"country_name\":\"Uganda\"},{\"country_name\":\"Uganda\"}],\"country_name\":[\"Uganda\",\"Uganda\",\"Uganda\",\"Uganda\"],\"x0s\":[\"Uganda:0.5\",\"Uganda:0.65\",\"Uganda:0.5\",\"Uganda:0.65\"],\"x1s\":[\"Uganda:0.5\",\"Uganda:0.35\",\"Uganda:0.5\",\"Uganda:0.35\"],\"y0s\":[1.0,1.0,37.0,88.0],\"y1s\":[3.0,1.0,88.0,88.0]}},\"id\":\"e164f1b6-4897-4374-967f-9df7433e6483\",\"type\":\"ColumnDataSource\"},{\"attributes\":{\"fill_alpha\":{\"field\":\"fill_alpha\"},\"fill_color\":{\"field\":\"color\"},\"height\":{\"field\":\"height\",\"units\":\"data\"},\"line_color\":{\"field\":\"line_color\"},\"width\":{\"field\":\"width\",\"units\":\"data\"},\"x\":{\"field\":\"x\"},\"y\":{\"field\":\"y\"}},\"id\":\"b48e592c-fa3d-48ee-88c4-23eb7124f710\",\"type\":\"Rect\"},{\"attributes\":{\"data_source\":{\"id\":\"5b8609d6-97eb-4067-ae3b-5e2028dc5d33\",\"type\":\"ColumnDataSource\"},\"glyph\":{\"id\":\"33a4cb0d-8e27-4756-b09f-d140f1904c19\",\"type\":\"Segment\"},\"hover_glyph\":null,\"nonselection_glyph\":null,\"selection_glyph\":null},\"id\":\"986b29d1-6af9-4757-989d-76d831628c95\",\"type\":\"GlyphRenderer\"},{\"attributes\":{\"callback\":null,\"column_names\":[\"line_color\",\"line_alpha\",\"color\",\"fill_alpha\",\"height\",\"width\",\"y\",\"x\"],\"data\":{\"chart_index\":[{\"country_name\":\"USA\"}],\"color\":[\"DimGrey\"],\"country_name\":[\"USA\"],\"fill_alpha\":[0.8],\"height\":[2.0],\"line_alpha\":[1.0],\"line_color\":[\"black\"],\"width\":[0.8],\"x\":[\"USA\"],\"y\":[1.0]}},\"id\":\"e4deaad9-ab0d-4645-bf41-c28a9fa12bd6\",\"type\":\"ColumnDataSource\"},{\"attributes\":{\"line_color\":{\"value\":\"#df5320\"},\"line_width\":{\"value\":2},\"x0\":{\"field\":\"x0s\"},\"x1\":{\"field\":\"x1s\"},\"y0\":{\"field\":\"y0s\"},\"y1\":{\"field\":\"y1s\"}},\"id\":\"65bfdd75-5bb5-451d-b4dd-8f3547972962\",\"type\":\"Segment\"},{\"attributes\":{},\"id\":\"eef5293e-5df3-44e8-a428-801d1decbf7e\",\"type\":\"BasicTicker\"},{\"attributes\":{\"line_color\":{\"value\":\"#df5320\"},\"line_width\":{\"value\":2},\"x0\":{\"field\":\"x0s\"},\"x1\":{\"field\":\"x1s\"},\"y0\":{\"field\":\"y0s\"},\"y1\":{\"field\":\"y1s\"}},\"id\":\"7f80d983-79b3-4eef-a7d7-688f9d445bf2\",\"type\":\"Segment\"},{\"attributes\":{\"callback\":null,\"column_names\":[\"line_color\",\"line_alpha\",\"color\",\"fill_alpha\",\"height\",\"width\",\"y\",\"x\"],\"data\":{\"chart_index\":[{\"country_name\":\"Sudan (South Sudan)\"}],\"color\":[\"DimGrey\"],\"country_name\":[\"Sudan (South Sudan)\"],\"fill_alpha\":[0.8],\"height\":[8.5],\"line_alpha\":[1.0],\"line_color\":[\"black\"],\"width\":[0.8],\"x\":[\"Sudan (South Sudan)\"],\"y\":[29.75]}},\"id\":\"2dd43c63-6ed9-4d13-991e-3ada1f26968d\",\"type\":\"ColumnDataSource\"},{\"attributes\":{\"callback\":null,\"column_names\":[\"x0s\",\"y0s\",\"x1s\",\"y1s\"],\"data\":{\"chart_index\":[{\"country_name\":\"Italy\"},{\"country_name\":\"Italy\"},{\"country_name\":\"Italy\"},{\"country_name\":\"Italy\"}],\"country_name\":[\"Italy\",\"Italy\",\"Italy\",\"Italy\"],\"x0s\":[\"Italy:0.5\",\"Italy:0.65\",\"Italy:0.5\",\"Italy:0.65\"],\"x1s\":[\"Italy:0.5\",\"Italy:0.35\",\"Italy:0.5\",\"Italy:0.35\"],\"y0s\":[0.0,0.0,0.0,0.0],\"y1s\":[0.0,0.0,0.0,0.0]}},\"id\":\"230e4448-499a-4106-84e4-05809bafdfb1\",\"type\":\"ColumnDataSource\"},{\"attributes\":{\"fill_alpha\":{\"field\":\"fill_alpha\"},\"fill_color\":{\"field\":\"color\"},\"height\":{\"field\":\"height\",\"units\":\"data\"},\"line_color\":{\"field\":\"line_color\"},\"width\":{\"field\":\"width\",\"units\":\"data\"},\"x\":{\"field\":\"x\"},\"y\":{\"field\":\"y\"}},\"id\":\"7b3b2943-54c2-47b1-96b0-8b9b9d5bc604\",\"type\":\"Rect\"},{\"attributes\":{},\"id\":\"50af7331-2503-44f3-92b9-55ec066732c9\",\"type\":\"CategoricalTicker\"},{\"attributes\":{\"callback\":null,\"column_names\":[\"line_color\",\"line_alpha\",\"color\",\"fill_alpha\",\"height\",\"width\",\"y\",\"x\"],\"data\":{\"chart_index\":[{\"country_name\":\"South Africa\"}],\"color\":[\"DimGrey\"],\"country_name\":[\"South Africa\"],\"fill_alpha\":[0.8],\"height\":[0],\"line_alpha\":[1.0],\"line_color\":[\"black\"],\"width\":[0.8],\"x\":[\"South Africa\"],\"y\":[2.0]}},\"id\":\"cc85fbf5-d360-471a-9305-0084327ac1ee\",\"type\":\"ColumnDataSource\"},{\"attributes\":{\"line_color\":{\"value\":\"#c33ff3\"},\"line_width\":{\"value\":2},\"x0\":{\"field\":\"x0s\"},\"x1\":{\"field\":\"x1s\"},\"y0\":{\"field\":\"y0s\"},\"y1\":{\"field\":\"y1s\"}},\"id\":\"8d9c87a7-bd4f-47c6-9c46-7fe238e09918\",\"type\":\"Segment\"},{\"attributes\":{\"line_color\":{\"value\":\"#407ee7\"},\"line_width\":{\"value\":2},\"x0\":{\"field\":\"x0s\"},\"x1\":{\"field\":\"x1s\"},\"y0\":{\"field\":\"y0s\"},\"y1\":{\"field\":\"y1s\"}},\"id\":\"2590585a-90bd-496e-91a0-a9cf17bff3ea\",\"type\":\"Segment\"},{\"attributes\":{\"data_source\":{\"id\":\"4d6a3652-d4c7-4268-bfbc-5691b6c4d004\",\"type\":\"ColumnDataSource\"},\"glyph\":{\"id\":\"bcaf22c5-583b-46aa-aac9-a9cc328c77e3\",\"type\":\"Segment\"},\"hover_glyph\":null,\"nonselection_glyph\":null,\"selection_glyph\":null},\"id\":\"5f39936b-cc9c-495c-82e5-53c7fd509362\",\"type\":\"GlyphRenderer\"},{\"attributes\":{\"plot\":{\"id\":\"b54cb84a-7ef1-4cd9-9084-c738af7d0391\",\"subtype\":\"Chart\",\"type\":\"Plot\"}},\"id\":\"aeb9a7c3-498e-4d69-8afa-32b36cf3824c\",\"type\":\"HelpTool\"},{\"attributes\":{\"callback\":null,\"column_names\":[\"x0s\",\"y0s\",\"x1s\",\"y1s\"],\"data\":{\"chart_index\":[{\"country_name\":\"Democratic Republic of the Congo\"},{\"country_name\":\"Democratic Republic of the Congo\"},{\"country_name\":\"Democratic Republic of the Congo\"},{\"country_name\":\"Democratic Republic of the Congo\"}],\"country_name\":[\"Democratic Republic of the Congo\",\"Democratic Republic of the Congo\",\"Democratic Republic of the Congo\",\"Democratic Republic of the Congo\"],\"x0s\":[\"Democratic Republic of the Congo:0.5\",\"Democratic Republic of the Congo:0.65\",\"Democratic Republic of the Congo:0.5\",\"Democratic Republic of the Congo:0.65\"],\"x1s\":[\"Democratic Republic of the Congo:0.5\",\"Democratic Republic of the Congo:0.35\",\"Democratic Republic of the Congo:0.5\",\"Democratic Republic of the Congo:0.35\"],\"y0s\":[1.0,1.0,264.0,318.0],\"y1s\":[35.0,1.0,318.0,318.0]}},\"id\":\"ebe87302-2760-4296-a1db-36542965fdb2\",\"type\":\"ColumnDataSource\"},{\"attributes\":{\"data_source\":{\"id\":\"a6d008c3-c59b-4763-9f9c-6783df984d08\",\"type\":\"ColumnDataSource\"},\"glyph\":{\"id\":\"675c6d51-2354-4a07-b422-d6c0a9ebc2ec\",\"type\":\"Rect\"},\"hover_glyph\":null,\"nonselection_glyph\":null,\"selection_glyph\":null},\"id\":\"89ff9c23-c747-492d-8ad2-8cd5c36be3b8\",\"type\":\"GlyphRenderer\"},{\"attributes\":{\"formatter\":{\"id\":\"184b0005-b86b-4ff0-b079-fc68fdf26b3a\",\"type\":\"CategoricalTickFormatter\"},\"major_label_orientation\":0.7853981633974483,\"plot\":{\"id\":\"cc8e96b1-62d9-420e-9d68-d051369086e9\",\"subtype\":\"Chart\",\"type\":\"Plot\"},\"ticker\":{\"id\":\"7bc000e1-c083-4fcc-ad61-9f1c78655fca\",\"type\":\"CategoricalTicker\"}},\"id\":\"eb4ec6e6-453b-421e-9dc7-9c46514540cb\",\"type\":\"CategoricalAxis\"},{\"attributes\":{\"data_source\":{\"id\":\"498f2643-c4cc-4bb2-a1ea-0e247ccfd3e2\",\"type\":\"ColumnDataSource\"},\"glyph\":{\"id\":\"75360bdf-bf62-40cc-933a-123ea038053b\",\"type\":\"Segment\"},\"hover_glyph\":null,\"nonselection_glyph\":null,\"selection_glyph\":null},\"id\":\"ab2bccf7-ffe9-4033-aaa2-893481e16f06\",\"type\":\"GlyphRenderer\"},{\"attributes\":{},\"id\":\"7fd45cda-1470-41b5-81bb-3ab0d5e45ef5\",\"type\":\"CategoricalTicker\"},{\"attributes\":{\"fill_alpha\":{\"field\":\"fill_alpha\"},\"fill_color\":{\"field\":\"color\"},\"height\":{\"field\":\"height\",\"units\":\"data\"},\"line_color\":{\"field\":\"line_color\"},\"width\":{\"field\":\"width\",\"units\":\"data\"},\"x\":{\"field\":\"x\"},\"y\":{\"field\":\"y\"}},\"id\":\"793fbacc-9612-4e7e-a5b0-dac5717710f0\",\"type\":\"Rect\"},{\"attributes\":{\"line_color\":{\"value\":\"#00ad9c\"},\"line_width\":{\"value\":2},\"x0\":{\"field\":\"x0s\"},\"x1\":{\"field\":\"x1s\"},\"y0\":{\"field\":\"y0s\"},\"y1\":{\"field\":\"y1s\"}},\"id\":\"b58b3960-a94a-4f80-9ee3-ef63ff3f0da4\",\"type\":\"Segment\"},{\"attributes\":{\"data_source\":{\"id\":\"ea9301c3-acb4-4a51-aeee-bd0da2388198\",\"type\":\"ColumnDataSource\"},\"glyph\":{\"id\":\"a2693b1f-3622-47cf-b296-4e8201d28e13\",\"type\":\"Rect\"},\"hover_glyph\":null,\"nonselection_glyph\":null,\"selection_glyph\":null},\"id\":\"7e5cfc83-777d-4abb-9ac7-008a5a7db7f0\",\"type\":\"GlyphRenderer\"},{\"attributes\":{\"data_source\":{\"id\":\"e5c395c7-845f-4d85-b0af-777a2c21a5fa\",\"type\":\"ColumnDataSource\"},\"glyph\":{\"id\":\"30d49db4-46b2-4f5b-991b-29d4a0b8c463\",\"type\":\"Rect\"},\"hover_glyph\":null,\"nonselection_glyph\":null,\"selection_glyph\":null},\"id\":\"c888697f-20ba-44fb-87cd-a727eb648059\",\"type\":\"GlyphRenderer\"},{\"attributes\":{\"fill_alpha\":{\"field\":\"fill_alpha\"},\"fill_color\":{\"field\":\"color\"},\"height\":{\"field\":\"height\",\"units\":\"data\"},\"line_color\":{\"field\":\"line_color\"},\"width\":{\"field\":\"width\",\"units\":\"data\"},\"x\":{\"field\":\"x\"},\"y\":{\"field\":\"y\"}},\"id\":\"7f5cd22d-4b1d-460a-96e1-8997c5145ac2\",\"type\":\"Rect\"},{\"attributes\":{\"data_source\":{\"id\":\"aa609a1f-062a-42f1-952d-3b630fb4e1ec\",\"type\":\"ColumnDataSource\"},\"glyph\":{\"id\":\"1a551a4a-4294-4d1c-90ff-0df4dcfe9bcf\",\"type\":\"Segment\"},\"hover_glyph\":null,\"nonselection_glyph\":null,\"selection_glyph\":null},\"id\":\"b4db47a9-0673-4a85-bb5f-91b9d2b6c90b\",\"type\":\"GlyphRenderer\"},{\"attributes\":{\"line_color\":{\"value\":\"#c33ff3\"},\"line_width\":{\"value\":2},\"x0\":{\"field\":\"x0s\"},\"x1\":{\"field\":\"x1s\"},\"y0\":{\"field\":\"y0s\"},\"y1\":{\"field\":\"y1s\"}},\"id\":\"98d48580-db11-45f0-ac72-5bdb7ae26f7e\",\"type\":\"Segment\"},{\"attributes\":{\"fill_alpha\":{\"field\":\"fill_alpha\"},\"fill_color\":{\"field\":\"color\"},\"height\":{\"field\":\"height\",\"units\":\"data\"},\"line_color\":{\"field\":\"line_color\"},\"width\":{\"field\":\"width\",\"units\":\"data\"},\"x\":{\"field\":\"x\"},\"y\":{\"field\":\"y\"}},\"id\":\"852cbeeb-98ec-47bb-b14b-4afdf8880c3c\",\"type\":\"Rect\"},{\"attributes\":{\"data_source\":{\"id\":\"db536248-7410-425b-9615-c6c6d59ec7ae\",\"type\":\"ColumnDataSource\"},\"glyph\":{\"id\":\"e5cb1395-ae50-4ff5-a23b-7727c21232d7\",\"type\":\"Rect\"},\"hover_glyph\":null,\"nonselection_glyph\":null,\"selection_glyph\":null},\"id\":\"527c7bbf-af9f-4810-9ded-57a2a71dbaad\",\"type\":\"GlyphRenderer\"},{\"attributes\":{\"callback\":null,\"column_names\":[\"line_color\",\"line_alpha\",\"color\",\"fill_alpha\",\"height\",\"width\",\"y\",\"x\"],\"data\":{\"chart_index\":[{\"country_name\":\"Italy\"}],\"color\":[\"DimGrey\"],\"country_name\":[\"Italy\"],\"fill_alpha\":[0.8],\"height\":[0.0],\"line_alpha\":[1.0],\"line_color\":[\"black\"],\"width\":[0.8],\"x\":[\"Italy\"],\"y\":[0.0]}},\"id\":\"1c727db1-f29a-4bdd-9519-5cce9c2c9715\",\"type\":\"ColumnDataSource\"},{\"attributes\":{\"data_source\":{\"id\":\"e164f1b6-4897-4374-967f-9df7433e6483\",\"type\":\"ColumnDataSource\"},\"glyph\":{\"id\":\"e61bc5b5-1704-4b5a-a2a0-20923c466311\",\"type\":\"Segment\"},\"hover_glyph\":null,\"nonselection_glyph\":null,\"selection_glyph\":null},\"id\":\"f2ce52c7-85f5-44f7-a22d-0632dcd32313\",\"type\":\"GlyphRenderer\"},{\"attributes\":{\"bottom_units\":\"screen\",\"fill_alpha\":{\"value\":0.5},\"fill_color\":{\"value\":\"lightgrey\"},\"left_units\":\"screen\",\"level\":\"overlay\",\"line_alpha\":{\"value\":1.0},\"line_color\":{\"value\":\"black\"},\"line_dash\":[4,4],\"line_width\":{\"value\":2},\"plot\":null,\"render_mode\":\"css\",\"right_units\":\"screen\",\"top_units\":\"screen\"},\"id\":\"89bc1e3d-b891-4c67-bd6e-92d73678e938\",\"type\":\"BoxAnnotation\"},{\"attributes\":{\"fill_alpha\":{\"field\":\"fill_alpha\"},\"fill_color\":{\"field\":\"color\"},\"height\":{\"field\":\"height\",\"units\":\"data\"},\"line_color\":{\"field\":\"line_color\"},\"width\":{\"field\":\"width\",\"units\":\"data\"},\"x\":{\"field\":\"x\"},\"y\":{\"field\":\"y\"}},\"id\":\"6033c86e-01a6-47ac-944d-4a190c37b2d1\",\"type\":\"Rect\"},{\"attributes\":{\"callback\":null,\"column_names\":[\"x0s\",\"y0s\",\"x1s\",\"y1s\"],\"data\":{\"chart_index\":[{\"country_name\":\"South Africa\"},{\"country_name\":\"South Africa\"},{\"country_name\":\"South Africa\"},{\"country_name\":\"South Africa\"}],\"country_name\":[\"South Africa\",\"South Africa\",\"South Africa\",\"South Africa\"],\"x0s\":[\"South Africa:0.5\",\"South Africa:0.65\",\"South Africa:0.5\",\"South Africa:0.65\"],\"x1s\":[\"South Africa:0.5\",\"South Africa:0.35\",\"South Africa:0.5\",\"South Africa:0.35\"],\"y0s\":[2.0,2.0,2.0,2.0],\"y1s\":[2.0,2.0,2.0,2.0]}},\"id\":\"bfbc1439-3e4e-4bfc-84f1-517d87038e57\",\"type\":\"ColumnDataSource\"},{\"attributes\":{\"plot\":{\"id\":\"cc8e96b1-62d9-420e-9d68-d051369086e9\",\"subtype\":\"Chart\",\"type\":\"Plot\"}},\"id\":\"a9aee786-8574-4044-aa69-9c7b47a38d78\",\"type\":\"PreviewSaveTool\"},{\"attributes\":{\"callback\":null,\"end\":294.0},\"id\":\"50a6bc8f-c94c-44e1-aab8-755f07556700\",\"type\":\"Range1d\"},{\"attributes\":{\"callback\":null,\"end\":381.675},\"id\":\"14fdfc3f-2c46-46b5-ba25-2be63e7aede8\",\"type\":\"Range1d\"},{\"attributes\":{\"plot\":{\"id\":\"fe62edd8-a33e-4d82-b09b-abb87bd082b9\",\"subtype\":\"Chart\",\"type\":\"Plot\"}},\"id\":\"2e71ce2c-19e8-4445-87c3-ad21a78c0845\",\"type\":\"HelpTool\"},{\"attributes\":{\"data_source\":{\"id\":\"98ae103f-5e09-4c13-94a1-5f2d81b6891a\",\"type\":\"ColumnDataSource\"},\"glyph\":{\"id\":\"8d9c87a7-bd4f-47c6-9c46-7fe238e09918\",\"type\":\"Segment\"},\"hover_glyph\":null,\"nonselection_glyph\":null,\"selection_glyph\":null},\"id\":\"296f9ab9-2604-4d38-9f91-bed08a98db92\",\"type\":\"GlyphRenderer\"},{\"attributes\":{\"callback\":null,\"column_names\":[\"line_color\",\"line_alpha\",\"color\",\"fill_alpha\",\"height\",\"width\",\"y\",\"x\"],\"data\":{\"chart_index\":[{\"country_name\":\"Philippines\"}],\"color\":[\"DimGrey\"],\"country_name\":[\"Philippines\"],\"fill_alpha\":[0.8],\"height\":[1.5],\"line_alpha\":[1.0],\"line_color\":[\"black\"],\"width\":[0.8],\"x\":[\"Philippines\"],\"y\":[3.75]}},\"id\":\"d71f6377-807a-450a-9215-88f594906dbc\",\"type\":\"ColumnDataSource\"},{\"attributes\":{\"data_source\":{\"id\":\"9bc67b12-7786-4dfc-978a-b227e3422115\",\"type\":\"ColumnDataSource\"},\"glyph\":{\"id\":\"1e5d072f-dc0e-43d1-93b8-888a276e0978\",\"type\":\"Rect\"},\"hover_glyph\":null,\"nonselection_glyph\":null,\"selection_glyph\":null},\"id\":\"523ead97-ebab-41d9-be4e-9563b64ecc0b\",\"type\":\"GlyphRenderer\"},{\"attributes\":{\"callback\":null,\"column_names\":[\"line_color\",\"line_alpha\",\"color\",\"fill_alpha\",\"height\",\"width\",\"y\",\"x\"],\"data\":{\"chart_index\":[{\"country_name\":\"Russia\"}],\"color\":[\"DimGrey\"],\"country_name\":[\"Russia\"],\"fill_alpha\":[0.8],\"height\":[0.0],\"line_alpha\":[1.0],\"line_color\":[\"black\"],\"width\":[0.8],\"x\":[\"Russia\"],\"y\":[1.0]}},\"id\":\"012914ae-5468-44cf-8682-99fc508ffb46\",\"type\":\"ColumnDataSource\"},{\"attributes\":{\"fill_alpha\":{\"field\":\"fill_alpha\"},\"fill_color\":{\"field\":\"color\"},\"height\":{\"field\":\"height\",\"units\":\"data\"},\"line_color\":{\"field\":\"line_color\"},\"width\":{\"field\":\"width\",\"units\":\"data\"},\"x\":{\"field\":\"x\"},\"y\":{\"field\":\"y\"}},\"id\":\"e5a0961e-529d-4378-bbbe-d7553a1cf28b\",\"type\":\"Rect\"},{\"attributes\":{\"line_color\":{\"value\":\"#00ad9c\"},\"line_width\":{\"value\":2},\"x0\":{\"field\":\"x0s\"},\"x1\":{\"field\":\"x1s\"},\"y0\":{\"field\":\"y0s\"},\"y1\":{\"field\":\"y1s\"}},\"id\":\"e61bc5b5-1704-4b5a-a2a0-20923c466311\",\"type\":\"Segment\"},{\"attributes\":{\"callback\":null,\"column_names\":[\"line_color\",\"line_alpha\",\"color\",\"fill_alpha\",\"height\",\"width\",\"y\",\"x\"],\"data\":{\"chart_index\":[{\"country_name\":\"England\"}],\"color\":[\"DimGrey\"],\"country_name\":[\"England\"],\"fill_alpha\":[0.8],\"height\":[0],\"line_alpha\":[1.0],\"line_color\":[\"black\"],\"width\":[0.8],\"x\":[\"England\"],\"y\":[1.0]}},\"id\":\"4e51f0e6-f39f-4296-b848-a234c6293481\",\"type\":\"ColumnDataSource\"},{\"attributes\":{\"plot\":{\"id\":\"b54cb84a-7ef1-4cd9-9084-c738af7d0391\",\"subtype\":\"Chart\",\"type\":\"Plot\"}},\"id\":\"afd9e5bf-25d0-4e0a-afc1-294da4b3057c\",\"type\":\"PreviewSaveTool\"},{\"attributes\":{\"data_source\":{\"id\":\"4a02d0d5-d807-477c-bc1c-a8a72f5bdd08\",\"type\":\"ColumnDataSource\"},\"glyph\":{\"id\":\"95bbce0e-cc2a-4638-809e-744a2093ef37\",\"type\":\"Rect\"},\"hover_glyph\":null,\"nonselection_glyph\":null,\"selection_glyph\":null},\"id\":\"18068199-76c4-4dea-a52d-f02c6d08315d\",\"type\":\"GlyphRenderer\"},{\"attributes\":{\"callback\":null,\"factors\":[\"Cote d'Ivoire (Ivory Coast)\",\"Democratic Republic of the Congo\",\"England\",\"Gabon\",\"Italy\",\"Philippines\",\"Russia\",\"South Africa\",\"Sudan (South Sudan)\",\"USA\",\"Uganda\"]},\"id\":\"a7e8ede0-4668-459a-9aab-53c2647df6e8\",\"type\":\"FactorRange\"},{\"attributes\":{\"callback\":null,\"column_names\":[\"line_color\",\"line_alpha\",\"color\",\"fill_alpha\",\"height\",\"width\",\"y\",\"x\"],\"data\":{\"chart_index\":[{\"country_name\":\"Philippines\"}],\"color\":[\"DimGrey\"],\"country_name\":[\"Philippines\"],\"fill_alpha\":[0.8],\"height\":[0.0],\"line_alpha\":[1.0],\"line_color\":[\"black\"],\"width\":[0.8],\"x\":[\"Philippines\"],\"y\":[0.0]}},\"id\":\"0144cc88-5b85-49d4-b6cb-e7e4b40d751e\",\"type\":\"ColumnDataSource\"},{\"attributes\":{\"callback\":null,\"column_names\":[\"line_color\",\"line_alpha\",\"color\",\"fill_alpha\",\"height\",\"width\",\"y\",\"x\"],\"data\":{\"chart_index\":[{\"country_name\":\"Democratic Republic of the Congo\"}],\"color\":[\"DimGrey\"],\"country_name\":[\"Democratic Republic of the Congo\"],\"fill_alpha\":[0.8],\"height\":[22.0],\"line_alpha\":[1.0],\"line_color\":[\"black\"],\"width\":[0.8],\"x\":[\"Democratic Republic of the Congo\"],\"y\":[46.0]}},\"id\":\"7f451f04-18d2-433f-811a-8e7a3f702b9c\",\"type\":\"ColumnDataSource\"},{\"attributes\":{},\"id\":\"6b29c076-abba-4998-ab22-bac588a72f29\",\"type\":\"BasicTicker\"},{\"attributes\":{\"data_source\":{\"id\":\"acdf9eee-7a72-479d-ac65-f486ee0dc056\",\"type\":\"ColumnDataSource\"},\"glyph\":{\"id\":\"56c810bf-a278-42bf-8d5a-90b9951fe492\",\"type\":\"Rect\"},\"hover_glyph\":null,\"nonselection_glyph\":null,\"selection_glyph\":null},\"id\":\"d4b4c626-4418-4a09-9886-9ed67c10eb01\",\"type\":\"GlyphRenderer\"},{\"attributes\":{\"callback\":null,\"column_names\":[\"line_color\",\"line_alpha\",\"color\",\"fill_alpha\",\"height\",\"width\",\"y\",\"x\"],\"data\":{\"chart_index\":[{\"index\":\"Democratic Republic of the Congo\"}],\"color\":[\"navy\"],\"fill_alpha\":[0.8],\"height\":[27.272727272727273],\"index\":[\"Democratic Republic of the Congo\"],\"line_alpha\":[1.0],\"line_color\":[\"white\"],\"width\":[0.8],\"x\":[\"Democratic Republic of the Congo\"],\"y\":[13.636363636363637]}},\"id\":\"ea9301c3-acb4-4a51-aeee-bd0da2388198\",\"type\":\"ColumnDataSource\"},{\"attributes\":{},\"id\":\"47e3eec0-0e19-44bf-8266-07d8891ce8fb\",\"type\":\"BasicTicker\"},{\"attributes\":{\"data_source\":{\"id\":\"cc85fbf5-d360-471a-9305-0084327ac1ee\",\"type\":\"ColumnDataSource\"},\"glyph\":{\"id\":\"f4681e60-86e0-4a19-8e06-115a82115181\",\"type\":\"Rect\"},\"hover_glyph\":null,\"nonselection_glyph\":null,\"selection_glyph\":null},\"id\":\"f9f89d75-59ce-4d56-87af-11ed545690ec\",\"type\":\"GlyphRenderer\"},{\"attributes\":{\"callback\":null,\"column_names\":[\"line_color\",\"line_alpha\",\"color\",\"fill_alpha\",\"height\",\"width\",\"y\",\"x\"],\"data\":{\"chart_index\":[{\"country_name\":\"Gabon\"}],\"color\":[\"DimGrey\"],\"country_name\":[\"Gabon\"],\"fill_alpha\":[0.8],\"height\":[7.75],\"line_alpha\":[1.0],\"line_color\":[\"black\"],\"width\":[0.8],\"x\":[\"Gabon\"],\"y\":[52.125]}},\"id\":\"51720d55-339a-43f4-8ba4-234ee62e75b7\",\"type\":\"ColumnDataSource\"},{\"attributes\":{\"callback\":null,\"column_names\":[\"line_color\",\"line_alpha\",\"color\",\"fill_alpha\",\"height\",\"width\",\"y\",\"x\"],\"data\":{\"chart_index\":[{\"country_name\":\"Sudan (South Sudan)\"}],\"color\":[\"DimGrey\"],\"country_name\":[\"Sudan (South Sudan)\"],\"fill_alpha\":[0.8],\"height\":[7.5],\"line_alpha\":[1.0],\"line_color\":[\"black\"],\"width\":[0.8],\"x\":[\"Sudan (South Sudan)\"],\"y\":[18.25]}},\"id\":\"48e00700-472c-42ce-acaf-1a640a17e7e6\",\"type\":\"ColumnDataSource\"},{\"attributes\":{\"data_source\":{\"id\":\"6a8aa23d-5e60-4b84-b792-54b191d7a3de\",\"type\":\"ColumnDataSource\"},\"glyph\":{\"id\":\"9e89239c-cea6-4fe7-ac14-cf17c2722c27\",\"type\":\"Segment\"},\"hover_glyph\":null,\"nonselection_glyph\":null,\"selection_glyph\":null},\"id\":\"858fa48f-a8af-43e7-892c-0547379ae345\",\"type\":\"GlyphRenderer\"},{\"attributes\":{\"below\":[{\"id\":\"a64d9bd3-9b8b-4d6e-98bc-92105eb4bf10\",\"type\":\"CategoricalAxis\"}],\"left\":[{\"id\":\"d694cd0f-bbe6-44ee-80e8-7c05ae663379\",\"type\":\"LinearAxis\"}],\"legend\":null,\"renderers\":[{\"id\":\"65c8d844-0a1c-4e1e-88ed-3ef3d7023d4b\",\"type\":\"BoxAnnotation\"},{\"id\":\"f2af8345-44df-444a-a57e-33792246064a\",\"type\":\"GlyphRenderer\"},{\"id\":\"8db2439a-9d42-41ec-9490-c9e855e74a53\",\"type\":\"GlyphRenderer\"},{\"id\":\"19f66d81-172e-49fc-a87b-7c9175e5d2f4\",\"type\":\"GlyphRenderer\"},{\"id\":\"7e5b6d75-21a0-44f1-8a20-7f10a1f369b5\",\"type\":\"GlyphRenderer\"},{\"id\":\"4feefded-079a-4f02-b8ae-86c86f16bf9a\",\"type\":\"GlyphRenderer\"},{\"id\":\"9186d6e8-bfdf-4582-9525-ba1203a5cf27\",\"type\":\"GlyphRenderer\"},{\"id\":\"523ead97-ebab-41d9-be4e-9563b64ecc0b\",\"type\":\"GlyphRenderer\"},{\"id\":\"e811b74f-6d89-43cf-9b2e-2a2f92f27432\",\"type\":\"GlyphRenderer\"},{\"id\":\"5f39936b-cc9c-495c-82e5-53c7fd509362\",\"type\":\"GlyphRenderer\"},{\"id\":\"adac7e6d-df5a-4731-9bcb-f9db32187937\",\"type\":\"GlyphRenderer\"},{\"id\":\"7a752adb-21d6-460f-8e43-2d3aec49d183\",\"type\":\"GlyphRenderer\"},{\"id\":\"ba4b8284-f047-4aab-b265-9bc2e3ca203a\",\"type\":\"GlyphRenderer\"},{\"id\":\"cf23b8d6-1b5d-4f6f-b8db-ee3243d9d8b1\",\"type\":\"GlyphRenderer\"},{\"id\":\"1d803360-5ba9-45e0-ba09-877428fab381\",\"type\":\"GlyphRenderer\"},{\"id\":\"9e1208b0-cea0-4526-8822-1b65a056eac5\",\"type\":\"GlyphRenderer\"},{\"id\":\"4b8c9e32-9db0-498e-bb85-292f24a851c0\",\"type\":\"GlyphRenderer\"},{\"id\":\"88301aa0-4b7e-464a-92b1-8f7ff012aca0\",\"type\":\"GlyphRenderer\"},{\"id\":\"901152ec-39ed-44d9-8e06-eedbd3e78ee6\",\"type\":\"GlyphRenderer\"},{\"id\":\"aa14c14c-c822-4511-84e8-fa4284c8a924\",\"type\":\"GlyphRenderer\"},{\"id\":\"aeb54ea1-f8ff-4a8b-bd4d-059e60df16c8\",\"type\":\"GlyphRenderer\"},{\"id\":\"aaaf4062-2583-4e95-9a6d-cc55f624348c\",\"type\":\"GlyphRenderer\"},{\"id\":\"f9f89d75-59ce-4d56-87af-11ed545690ec\",\"type\":\"GlyphRenderer\"},{\"id\":\"e3bcf3f2-3787-4fe3-b52e-338a24209f57\",\"type\":\"GlyphRenderer\"},{\"id\":\"1abc257e-0b2b-4beb-bb2c-c4e2fe113145\",\"type\":\"GlyphRenderer\"},{\"id\":\"352728c3-6bb0-473b-ada2-19e586063796\",\"type\":\"GlyphRenderer\"},{\"id\":\"18068199-76c4-4dea-a52d-f02c6d08315d\",\"type\":\"GlyphRenderer\"},{\"id\":\"ab2bccf7-ffe9-4033-aaa2-893481e16f06\",\"type\":\"GlyphRenderer\"},{\"id\":\"f61c0f0d-d492-4e38-a2ab-c2dfa90b3662\",\"type\":\"GlyphRenderer\"},{\"id\":\"72caa64c-4854-4d7a-bb13-14bc3d718de4\",\"type\":\"GlyphRenderer\"},{\"id\":\"13d3beb1-ff26-48f5-aa1b-ec6c3885e18d\",\"type\":\"GlyphRenderer\"},{\"id\":\"b0732407-8f23-4696-9768-53ae98c0aba9\",\"type\":\"GlyphRenderer\"},{\"id\":\"d4b4c626-4418-4a09-9886-9ed67c10eb01\",\"type\":\"GlyphRenderer\"},{\"id\":\"ec9637a8-5a90-4726-a5f5-e3e661be1acf\",\"type\":\"GlyphRenderer\"},{\"id\":\"a64d9bd3-9b8b-4d6e-98bc-92105eb4bf10\",\"type\":\"CategoricalAxis\"},{\"id\":\"d694cd0f-bbe6-44ee-80e8-7c05ae663379\",\"type\":\"LinearAxis\"},{\"id\":\"e9804e5f-f8d0-4216-9809-11ca4f07103d\",\"type\":\"Grid\"}],\"title\":\"Number of ebola victims per country\",\"title_text_font_size\":{\"value\":\"14pt\"},\"tool_events\":{\"id\":\"624819c0-db72-4717-9aef-3c2edda8acb0\",\"type\":\"ToolEvents\"},\"tools\":[{\"id\":\"91f6f440-dce5-4f14-b0a4-978435dffabe\",\"type\":\"PanTool\"},{\"id\":\"f065795a-3dbd-4769-a9b8-b57878ff4bfb\",\"type\":\"WheelZoomTool\"},{\"id\":\"417f6355-db24-4485-aa29-0ff0c95f52d2\",\"type\":\"BoxZoomTool\"},{\"id\":\"afd9e5bf-25d0-4e0a-afc1-294da4b3057c\",\"type\":\"PreviewSaveTool\"},{\"id\":\"5817c7e6-998f-44d4-a721-59ec40f5817f\",\"type\":\"ResizeTool\"},{\"id\":\"a2b9d3dc-4d2d-4e98-b8cb-309e25f1fa51\",\"type\":\"ResetTool\"},{\"id\":\"aeb9a7c3-498e-4d69-8afa-32b36cf3824c\",\"type\":\"HelpTool\"}],\"x_mapper_type\":\"auto\",\"x_range\":{\"id\":\"2f3e1f6b-fbed-4bd2-aece-d10673766682\",\"type\":\"FactorRange\"},\"xgrid\":false,\"xscale\":\"auto\",\"y_mapper_type\":\"auto\",\"y_range\":{\"id\":\"14fdfc3f-2c46-46b5-ba25-2be63e7aede8\",\"type\":\"Range1d\"},\"yscale\":\"auto\"},\"id\":\"b54cb84a-7ef1-4cd9-9084-c738af7d0391\",\"subtype\":\"Chart\",\"type\":\"Plot\"},{\"attributes\":{\"fill_alpha\":{\"field\":\"fill_alpha\"},\"fill_color\":{\"field\":\"color\"},\"height\":{\"field\":\"height\",\"units\":\"data\"},\"line_color\":{\"field\":\"line_color\"},\"width\":{\"field\":\"width\",\"units\":\"data\"},\"x\":{\"field\":\"x\"},\"y\":{\"field\":\"y\"}},\"id\":\"d298df86-f9d5-4d41-8426-55476ca0edea\",\"type\":\"Rect\"},{\"attributes\":{\"fill_alpha\":{\"field\":\"fill_alpha\"},\"fill_color\":{\"field\":\"color\"},\"height\":{\"field\":\"height\",\"units\":\"data\"},\"line_color\":{\"field\":\"line_color\"},\"width\":{\"field\":\"width\",\"units\":\"data\"},\"x\":{\"field\":\"x\"},\"y\":{\"field\":\"y\"}},\"id\":\"aeb2f951-10e6-4bbc-97cb-c3d5a7b3a4ce\",\"type\":\"Rect\"},{\"attributes\":{\"line_color\":{\"value\":\"#df5320\"},\"line_width\":{\"value\":2},\"x0\":{\"field\":\"x0s\"},\"x1\":{\"field\":\"x1s\"},\"y0\":{\"field\":\"y0s\"},\"y1\":{\"field\":\"y1s\"}},\"id\":\"40c7e7cc-cb09-4c3d-86c6-c2caca797fc0\",\"type\":\"Segment\"},{\"attributes\":{\"fill_alpha\":{\"field\":\"fill_alpha\"},\"fill_color\":{\"field\":\"color\"},\"height\":{\"field\":\"height\",\"units\":\"data\"},\"line_color\":{\"field\":\"line_color\"},\"width\":{\"field\":\"width\",\"units\":\"data\"},\"x\":{\"field\":\"x\"},\"y\":{\"field\":\"y\"}},\"id\":\"4a213e41-4941-4a99-aa97-4adfc1c6f8f1\",\"type\":\"Rect\"},{\"attributes\":{\"overlay\":{\"id\":\"89bc1e3d-b891-4c67-bd6e-92d73678e938\",\"type\":\"BoxAnnotation\"},\"plot\":{\"id\":\"fe62edd8-a33e-4d82-b09b-abb87bd082b9\",\"subtype\":\"Chart\",\"type\":\"Plot\"}},\"id\":\"e733b668-5a85-4eb1-a400-2b6db066a834\",\"type\":\"BoxZoomTool\"},{\"attributes\":{\"callback\":null,\"column_names\":[\"line_color\",\"line_alpha\",\"color\",\"fill_alpha\",\"height\",\"width\",\"y\",\"x\"],\"data\":{\"chart_index\":[{\"country_name\":\"England\"}],\"color\":[\"DimGrey\"],\"country_name\":[\"England\"],\"fill_alpha\":[0.8],\"height\":[0],\"line_alpha\":[1.0],\"line_color\":[\"black\"],\"width\":[0.8],\"x\":[\"England\"],\"y\":[1.0]}},\"id\":\"acdf9eee-7a72-479d-ac65-f486ee0dc056\",\"type\":\"ColumnDataSource\"},{\"attributes\":{\"data_source\":{\"id\":\"ebe87302-2760-4296-a1db-36542965fdb2\",\"type\":\"ColumnDataSource\"},\"glyph\":{\"id\":\"f4e41225-a4a1-4699-b7dd-8ccfb92389d8\",\"type\":\"Segment\"},\"hover_glyph\":null,\"nonselection_glyph\":null,\"selection_glyph\":null},\"id\":\"9e1208b0-cea0-4526-8822-1b65a056eac5\",\"type\":\"GlyphRenderer\"},{\"attributes\":{\"callback\":null,\"column_names\":[\"line_color\",\"line_alpha\",\"color\",\"fill_alpha\",\"height\",\"width\",\"y\",\"x\"],\"data\":{\"chart_index\":[{\"index\":\"Russia\"}],\"color\":[\"navy\"],\"fill_alpha\":[0.8],\"height\":[6.0606060606060606],\"index\":[\"Russia\"],\"line_alpha\":[1.0],\"line_color\":[\"white\"],\"width\":[0.8],\"x\":[\"Russia\"],\"y\":[3.0303030303030303]}},\"id\":\"ffa4d021-c646-4d50-8d8d-50fbd753b950\",\"type\":\"ColumnDataSource\"},{\"attributes\":{\"plot\":{\"id\":\"b54cb84a-7ef1-4cd9-9084-c738af7d0391\",\"subtype\":\"Chart\",\"type\":\"Plot\"}},\"id\":\"f065795a-3dbd-4769-a9b8-b57878ff4bfb\",\"type\":\"WheelZoomTool\"},{\"attributes\":{\"callback\":null,\"column_names\":[\"line_color\",\"line_alpha\",\"color\",\"fill_alpha\",\"height\",\"width\",\"y\",\"x\"],\"data\":{\"chart_index\":[{\"country_name\":\"Gabon\"}],\"color\":[\"DimGrey\"],\"country_name\":[\"Gabon\"],\"fill_alpha\":[0.8],\"height\":[9.0],\"line_alpha\":[1.0],\"line_color\":[\"black\"],\"width\":[0.8],\"x\":[\"Gabon\"],\"y\":[42.5]}},\"id\":\"45b443a5-b865-4764-af69-fbf3980bc6bf\",\"type\":\"ColumnDataSource\"},{\"attributes\":{\"data_source\":{\"id\":\"d71f6377-807a-450a-9215-88f594906dbc\",\"type\":\"ColumnDataSource\"},\"glyph\":{\"id\":\"98ae1e53-b5b3-445d-adf2-cf092501f177\",\"type\":\"Rect\"},\"hover_glyph\":null,\"nonselection_glyph\":null,\"selection_glyph\":null},\"id\":\"4feefded-079a-4f02-b8ae-86c86f16bf9a\",\"type\":\"GlyphRenderer\"},{\"attributes\":{\"data_source\":{\"id\":\"e80a0b5d-2b7c-412e-b2ad-735dcaeb63d7\",\"type\":\"ColumnDataSource\"},\"glyph\":{\"id\":\"d5f017a9-70ef-4389-be85-c4f2935d7f40\",\"type\":\"Rect\"},\"hover_glyph\":null,\"nonselection_glyph\":null,\"selection_glyph\":null},\"id\":\"2d190e01-81fc-4125-b931-d607c6d5228a\",\"type\":\"GlyphRenderer\"},{\"attributes\":{\"data_source\":{\"id\":\"2dd43c63-6ed9-4d13-991e-3ada1f26968d\",\"type\":\"ColumnDataSource\"},\"glyph\":{\"id\":\"a11d23c7-5547-4dac-bada-aaf738898bed\",\"type\":\"Rect\"},\"hover_glyph\":null,\"nonselection_glyph\":null,\"selection_glyph\":null},\"id\":\"352728c3-6bb0-473b-ada2-19e586063796\",\"type\":\"GlyphRenderer\"},{\"attributes\":{\"overlay\":{\"id\":\"b3c3d510-ccf4-485e-817e-d6004d70431d\",\"type\":\"BoxAnnotation\"},\"plot\":{\"id\":\"cc8e96b1-62d9-420e-9d68-d051369086e9\",\"subtype\":\"Chart\",\"type\":\"Plot\"}},\"id\":\"590e0c8d-0359-4bcd-88e9-3e158bf54812\",\"type\":\"BoxZoomTool\"},{\"attributes\":{\"data_source\":{\"id\":\"4f05edd6-ced3-4f5c-a42a-728d09a88a74\",\"type\":\"ColumnDataSource\"},\"glyph\":{\"id\":\"e1afe3ba-e3da-4160-b79f-bd41bc2dd709\",\"type\":\"Rect\"},\"hover_glyph\":null,\"nonselection_glyph\":null,\"selection_glyph\":null},\"id\":\"daa71b23-7b85-450e-9722-a7ca03ea7885\",\"type\":\"GlyphRenderer\"},{\"attributes\":{},\"id\":\"5d0f7edd-663e-4004-9b9b-8eea41b6618e\",\"type\":\"CategoricalTickFormatter\"},{\"attributes\":{\"data_source\":{\"id\":\"9541b53d-0444-4ee6-975b-23c95cea62eb\",\"type\":\"ColumnDataSource\"},\"glyph\":{\"id\":\"b58b3960-a94a-4f80-9ee3-ef63ff3f0da4\",\"type\":\"Segment\"},\"hover_glyph\":null,\"nonselection_glyph\":null,\"selection_glyph\":null},\"id\":\"901152ec-39ed-44d9-8e06-eedbd3e78ee6\",\"type\":\"GlyphRenderer\"},{\"attributes\":{\"line_color\":{\"value\":\"#407ee7\"},\"line_width\":{\"value\":2},\"x0\":{\"field\":\"x0s\"},\"x1\":{\"field\":\"x1s\"},\"y0\":{\"field\":\"y0s\"},\"y1\":{\"field\":\"y1s\"}},\"id\":\"1a551a4a-4294-4d1c-90ff-0df4dcfe9bcf\",\"type\":\"Segment\"},{\"attributes\":{\"callback\":null,\"column_names\":[\"line_color\",\"line_alpha\",\"color\",\"fill_alpha\",\"height\",\"width\",\"y\",\"x\"],\"data\":{\"chart_index\":[{\"country_name\":\"Cote d'Ivoire (Ivory Coast)\"}],\"color\":[\"DimGrey\"],\"country_name\":[\"Cote d'Ivoire (Ivory Coast)\"],\"fill_alpha\":[0.8],\"height\":[0],\"line_alpha\":[1.0],\"line_color\":[\"black\"],\"width\":[0.8],\"x\":[\"Cote d'Ivoire (Ivory Coast)\"],\"y\":[1.0]}},\"id\":\"7d0993f9-83ff-4b99-b7d0-a768f11d6c4a\",\"type\":\"ColumnDataSource\"},{\"attributes\":{\"fill_alpha\":{\"field\":\"fill_alpha\"},\"fill_color\":{\"field\":\"color\"},\"height\":{\"field\":\"height\",\"units\":\"data\"},\"line_color\":{\"field\":\"line_color\"},\"width\":{\"field\":\"width\",\"units\":\"data\"},\"x\":{\"field\":\"x\"},\"y\":{\"field\":\"y\"}},\"id\":\"47ecfbb2-0558-4037-ade3-c2c4df140715\",\"type\":\"Rect\"},{\"attributes\":{\"fill_alpha\":{\"field\":\"fill_alpha\"},\"fill_color\":{\"field\":\"color\"},\"height\":{\"field\":\"height\",\"units\":\"data\"},\"line_color\":{\"field\":\"line_color\"},\"width\":{\"field\":\"width\",\"units\":\"data\"},\"x\":{\"field\":\"x\"},\"y\":{\"field\":\"y\"}},\"id\":\"f4681e60-86e0-4a19-8e06-115a82115181\",\"type\":\"Rect\"},{\"attributes\":{\"axis_label\":\"Country_Name\",\"formatter\":{\"id\":\"5d0f7edd-663e-4004-9b9b-8eea41b6618e\",\"type\":\"CategoricalTickFormatter\"},\"major_label_orientation\":0.7853981633974483,\"plot\":{\"id\":\"b54cb84a-7ef1-4cd9-9084-c738af7d0391\",\"subtype\":\"Chart\",\"type\":\"Plot\"},\"ticker\":{\"id\":\"7fd45cda-1470-41b5-81bb-3ab0d5e45ef5\",\"type\":\"CategoricalTicker\"}},\"id\":\"a64d9bd3-9b8b-4d6e-98bc-92105eb4bf10\",\"type\":\"CategoricalAxis\"},{\"attributes\":{\"dimension\":1,\"plot\":{\"id\":\"fe62edd8-a33e-4d82-b09b-abb87bd082b9\",\"subtype\":\"Chart\",\"type\":\"Plot\"},\"ticker\":{\"id\":\"eef5293e-5df3-44e8-a428-801d1decbf7e\",\"type\":\"BasicTicker\"}},\"id\":\"920db70c-d286-4d82-8697-c3da85cb5361\",\"type\":\"Grid\"},{\"attributes\":{\"callback\":null,\"column_names\":[\"line_color\",\"line_alpha\",\"color\",\"fill_alpha\",\"height\",\"width\",\"y\",\"x\"],\"data\":{\"chart_index\":[{\"country_name\":\"Democratic Republic of the Congo\"}],\"color\":[\"DimGrey\"],\"country_name\":[\"Democratic Republic of the Congo\"],\"fill_alpha\":[0.8],\"height\":[207.0],\"line_alpha\":[1.0],\"line_color\":[\"black\"],\"width\":[0.8],\"x\":[\"Democratic Republic of the Congo\"],\"y\":[160.5]}},\"id\":\"58d9f86a-9951-4cb0-b377-24d2f49c2537\",\"type\":\"ColumnDataSource\"},{\"attributes\":{\"line_color\":{\"value\":\"#5ab738\"},\"line_width\":{\"value\":2},\"x0\":{\"field\":\"x0s\"},\"x1\":{\"field\":\"x1s\"},\"y0\":{\"field\":\"y0s\"},\"y1\":{\"field\":\"y1s\"}},\"id\":\"cee11752-c49b-42de-9ffd-3be241b7041f\",\"type\":\"Segment\"},{\"attributes\":{\"fill_alpha\":{\"field\":\"fill_alpha\"},\"fill_color\":{\"field\":\"color\"},\"height\":{\"field\":\"height\",\"units\":\"data\"},\"line_color\":{\"field\":\"line_color\"},\"width\":{\"field\":\"width\",\"units\":\"data\"},\"x\":{\"field\":\"x\"},\"y\":{\"field\":\"y\"}},\"id\":\"8c833a1b-d6ce-44a1-95f7-6a76d6f4a9d4\",\"type\":\"Rect\"},{\"attributes\":{},\"id\":\"57a56d39-cc6e-4f46-bfcb-677ed0ebdf3d\",\"type\":\"BasicTickFormatter\"},{\"attributes\":{\"plot\":{\"id\":\"b54cb84a-7ef1-4cd9-9084-c738af7d0391\",\"subtype\":\"Chart\",\"type\":\"Plot\"}},\"id\":\"91f6f440-dce5-4f14-b0a4-978435dffabe\",\"type\":\"PanTool\"},{\"attributes\":{\"callback\":null,\"column_names\":[\"line_color\",\"line_alpha\",\"color\",\"fill_alpha\",\"height\",\"width\",\"y\",\"x\"],\"data\":{\"chart_index\":[{\"country_name\":\"USA\"}],\"color\":[\"DimGrey\"],\"country_name\":[\"USA\"],\"fill_alpha\":[0.8],\"height\":[0.0],\"line_alpha\":[1.0],\"line_color\":[\"black\"],\"width\":[0.8],\"x\":[\"USA\"],\"y\":[0.0]}},\"id\":\"9bc67b12-7786-4dfc-978a-b227e3422115\",\"type\":\"ColumnDataSource\"},{\"attributes\":{\"fill_alpha\":{\"field\":\"fill_alpha\"},\"fill_color\":{\"field\":\"color\"},\"height\":{\"field\":\"height\",\"units\":\"data\"},\"line_color\":{\"field\":\"line_color\"},\"width\":{\"field\":\"width\",\"units\":\"data\"},\"x\":{\"field\":\"x\"},\"y\":{\"field\":\"y\"}},\"id\":\"a9d7b7ce-81ca-42c1-96b1-c5ca2f1f498e\",\"type\":\"Rect\"},{\"attributes\":{\"fill_alpha\":{\"field\":\"fill_alpha\"},\"fill_color\":{\"field\":\"color\"},\"height\":{\"field\":\"height\",\"units\":\"data\"},\"line_color\":{\"field\":\"line_color\"},\"width\":{\"field\":\"width\",\"units\":\"data\"},\"x\":{\"field\":\"x\"},\"y\":{\"field\":\"y\"}},\"id\":\"2993cd6c-5597-4499-99cd-570d9dfb3b22\",\"type\":\"Rect\"},{\"attributes\":{\"data_source\":{\"id\":\"c986f198-40f5-4708-a858-b05ccef25c98\",\"type\":\"ColumnDataSource\"},\"glyph\":{\"id\":\"7f80d983-79b3-4eef-a7d7-688f9d445bf2\",\"type\":\"Segment\"},\"hover_glyph\":null,\"nonselection_glyph\":null,\"selection_glyph\":null},\"id\":\"dc3a37f2-6674-47f8-ad2c-01ef478fd6f7\",\"type\":\"GlyphRenderer\"},{\"attributes\":{\"callback\":null,\"column_names\":[\"line_color\",\"line_alpha\",\"color\",\"fill_alpha\",\"height\",\"width\",\"y\",\"x\"],\"data\":{\"chart_index\":[{\"country_name\":\"Italy\"}],\"color\":[\"DimGrey\"],\"country_name\":[\"Italy\"],\"fill_alpha\":[0.8],\"height\":[0.0],\"line_alpha\":[1.0],\"line_color\":[\"black\"],\"width\":[0.8],\"x\":[\"Italy\"],\"y\":[0.0]}},\"id\":\"74849eef-ca23-4e55-a902-699224dc9de9\",\"type\":\"ColumnDataSource\"},{\"attributes\":{\"data_source\":{\"id\":\"ab9186d6-99b0-40c8-9c0f-ceb1e054517b\",\"type\":\"ColumnDataSource\"},\"glyph\":{\"id\":\"62b05d58-d4aa-4a57-b22e-1993b65ab451\",\"type\":\"Rect\"},\"hover_glyph\":null,\"nonselection_glyph\":null,\"selection_glyph\":null},\"id\":\"abc586e8-68a6-45dd-a40f-4e0befb57bac\",\"type\":\"GlyphRenderer\"},{\"attributes\":{\"data_source\":{\"id\":\"b897501b-83c6-4c29-a5cb-0673215289f4\",\"type\":\"ColumnDataSource\"},\"glyph\":{\"id\":\"d298df86-f9d5-4d41-8426-55476ca0edea\",\"type\":\"Rect\"},\"hover_glyph\":null,\"nonselection_glyph\":null,\"selection_glyph\":null},\"id\":\"8db2439a-9d42-41ec-9490-c9e855e74a53\",\"type\":\"GlyphRenderer\"},{\"attributes\":{\"fill_alpha\":{\"field\":\"fill_alpha\"},\"fill_color\":{\"field\":\"color\"},\"height\":{\"field\":\"height\",\"units\":\"data\"},\"line_color\":{\"field\":\"line_color\"},\"width\":{\"field\":\"width\",\"units\":\"data\"},\"x\":{\"field\":\"x\"},\"y\":{\"field\":\"y\"}},\"id\":\"98ae1e53-b5b3-445d-adf2-cf092501f177\",\"type\":\"Rect\"},{\"attributes\":{\"fill_alpha\":{\"field\":\"fill_alpha\"},\"fill_color\":{\"field\":\"color\"},\"height\":{\"field\":\"height\",\"units\":\"data\"},\"line_color\":{\"field\":\"line_color\"},\"width\":{\"field\":\"width\",\"units\":\"data\"},\"x\":{\"field\":\"x\"},\"y\":{\"field\":\"y\"}},\"id\":\"4fb9bef6-3dc3-42a0-a423-adc3fb308e6c\",\"type\":\"Rect\"},{\"attributes\":{\"fill_alpha\":{\"field\":\"fill_alpha\"},\"fill_color\":{\"field\":\"color\"},\"height\":{\"field\":\"height\",\"units\":\"data\"},\"line_color\":{\"field\":\"line_color\"},\"width\":{\"field\":\"width\",\"units\":\"data\"},\"x\":{\"field\":\"x\"},\"y\":{\"field\":\"y\"}},\"id\":\"6fc9175c-30cc-4812-9a4e-7864fd6d4195\",\"type\":\"Rect\"},{\"attributes\":{\"data_source\":{\"id\":\"7f451f04-18d2-433f-811a-8e7a3f702b9c\",\"type\":\"ColumnDataSource\"},\"glyph\":{\"id\":\"1751d3d9-f665-4d29-9652-e19e8991f7a2\",\"type\":\"Rect\"},\"hover_glyph\":null,\"nonselection_glyph\":null,\"selection_glyph\":null},\"id\":\"cf23b8d6-1b5d-4f6f-b8db-ee3243d9d8b1\",\"type\":\"GlyphRenderer\"},{\"attributes\":{\"callback\":null,\"column_names\":[\"line_color\",\"line_alpha\",\"color\",\"fill_alpha\",\"height\",\"width\",\"y\",\"x\"],\"data\":{\"chart_index\":[{\"index\":\"Gabon\"}],\"color\":[\"navy\"],\"fill_alpha\":[0.8],\"height\":[12.121212121212121],\"index\":[\"Gabon\"],\"line_alpha\":[1.0],\"line_color\":[\"white\"],\"width\":[0.8],\"x\":[\"Gabon\"],\"y\":[6.0606060606060606]}},\"id\":\"5c49b368-e6ba-4deb-8807-b94343ebb4cf\",\"type\":\"ColumnDataSource\"},{\"attributes\":{\"plot\":{\"id\":\"cc8e96b1-62d9-420e-9d68-d051369086e9\",\"subtype\":\"Chart\",\"type\":\"Plot\"}},\"id\":\"659cb52d-7a03-4336-ab06-e1958eaed4bc\",\"type\":\"HelpTool\"},{\"attributes\":{\"fill_alpha\":{\"field\":\"fill_alpha\"},\"fill_color\":{\"field\":\"color\"},\"height\":{\"field\":\"height\",\"units\":\"data\"},\"line_color\":{\"field\":\"line_color\"},\"width\":{\"field\":\"width\",\"units\":\"data\"},\"x\":{\"field\":\"x\"},\"y\":{\"field\":\"y\"}},\"id\":\"95bbce0e-cc2a-4638-809e-744a2093ef37\",\"type\":\"Rect\"},{\"attributes\":{\"fill_alpha\":{\"field\":\"fill_alpha\"},\"fill_color\":{\"field\":\"color\"},\"height\":{\"field\":\"height\",\"units\":\"data\"},\"line_color\":{\"field\":\"line_color\"},\"width\":{\"field\":\"width\",\"units\":\"data\"},\"x\":{\"field\":\"x\"},\"y\":{\"field\":\"y\"}},\"id\":\"0179fe4f-d35d-4655-b94e-7a9195d07935\",\"type\":\"Rect\"},{\"attributes\":{\"fill_alpha\":{\"field\":\"fill_alpha\"},\"fill_color\":{\"field\":\"color\"},\"height\":{\"field\":\"height\",\"units\":\"data\"},\"line_color\":{\"field\":\"line_color\"},\"width\":{\"field\":\"width\",\"units\":\"data\"},\"x\":{\"field\":\"x\"},\"y\":{\"field\":\"y\"}},\"id\":\"d5f017a9-70ef-4389-be85-c4f2935d7f40\",\"type\":\"Rect\"},{\"attributes\":{\"callback\":null,\"column_names\":[\"line_color\",\"line_alpha\",\"color\",\"fill_alpha\",\"height\",\"width\",\"y\",\"x\"],\"data\":{\"chart_index\":[{\"country_name\":\"Uganda\"}],\"color\":[\"DimGrey\"],\"country_name\":[\"Uganda\"],\"fill_alpha\":[0.8],\"height\":[33.0],\"line_alpha\":[1.0],\"line_color\":[\"black\"],\"width\":[0.8],\"x\":[\"Uganda\"],\"y\":[20.5]}},\"id\":\"4bb017f8-8863-42cc-91b3-569cb2a22e9c\",\"type\":\"ColumnDataSource\"},{\"attributes\":{\"line_color\":{\"value\":\"#5ab738\"},\"line_width\":{\"value\":2},\"x0\":{\"field\":\"x0s\"},\"x1\":{\"field\":\"x1s\"},\"y0\":{\"field\":\"y0s\"},\"y1\":{\"field\":\"y1s\"}},\"id\":\"33a4cb0d-8e27-4756-b09f-d140f1904c19\",\"type\":\"Segment\"},{\"attributes\":{\"fill_alpha\":{\"field\":\"fill_alpha\"},\"fill_color\":{\"field\":\"color\"},\"height\":{\"field\":\"height\",\"units\":\"data\"},\"line_color\":{\"field\":\"line_color\"},\"width\":{\"field\":\"width\",\"units\":\"data\"},\"x\":{\"field\":\"x\"},\"y\":{\"field\":\"y\"}},\"id\":\"a2693b1f-3622-47cf-b296-4e8201d28e13\",\"type\":\"Rect\"},{\"attributes\":{\"plot\":{\"id\":\"b54cb84a-7ef1-4cd9-9084-c738af7d0391\",\"subtype\":\"Chart\",\"type\":\"Plot\"}},\"id\":\"5817c7e6-998f-44d4-a721-59ec40f5817f\",\"type\":\"ResizeTool\"},{\"attributes\":{\"fill_alpha\":{\"field\":\"fill_alpha\"},\"fill_color\":{\"field\":\"color\"},\"height\":{\"field\":\"height\",\"units\":\"data\"},\"line_color\":{\"field\":\"line_color\"},\"width\":{\"field\":\"width\",\"units\":\"data\"},\"x\":{\"field\":\"x\"},\"y\":{\"field\":\"y\"}},\"id\":\"8d5a74c3-b1dd-48cd-863f-fb75fa6b82d8\",\"type\":\"Rect\"},{\"attributes\":{\"plot\":{\"id\":\"fe62edd8-a33e-4d82-b09b-abb87bd082b9\",\"subtype\":\"Chart\",\"type\":\"Plot\"}},\"id\":\"5e74dd2a-bb09-4c9a-be5a-5786398db353\",\"type\":\"ResizeTool\"},{\"attributes\":{\"data_source\":{\"id\":\"101060ed-c293-4d2c-b996-d5993c8f8fd7\",\"type\":\"ColumnDataSource\"},\"glyph\":{\"id\":\"6405f9ff-8499-43e1-ac2b-6ccde65eed6e\",\"type\":\"Rect\"},\"hover_glyph\":null,\"nonselection_glyph\":null,\"selection_glyph\":null},\"id\":\"4b8c9e32-9db0-498e-bb85-292f24a851c0\",\"type\":\"GlyphRenderer\"},{\"attributes\":{\"plot\":{\"id\":\"cc8e96b1-62d9-420e-9d68-d051369086e9\",\"subtype\":\"Chart\",\"type\":\"Plot\"}},\"id\":\"47967ed1-f3ef-44d0-bd17-717da5d3e3cf\",\"type\":\"WheelZoomTool\"},{\"attributes\":{\"fill_alpha\":{\"field\":\"fill_alpha\"},\"fill_color\":{\"field\":\"color\"},\"height\":{\"field\":\"height\",\"units\":\"data\"},\"line_color\":{\"field\":\"line_color\"},\"width\":{\"field\":\"width\",\"units\":\"data\"},\"x\":{\"field\":\"x\"},\"y\":{\"field\":\"y\"}},\"id\":\"1e5d072f-dc0e-43d1-93b8-888a276e0978\",\"type\":\"Rect\"},{\"attributes\":{\"fill_alpha\":{\"field\":\"fill_alpha\"},\"fill_color\":{\"field\":\"color\"},\"height\":{\"field\":\"height\",\"units\":\"data\"},\"line_color\":{\"field\":\"line_color\"},\"width\":{\"field\":\"width\",\"units\":\"data\"},\"x\":{\"field\":\"x\"},\"y\":{\"field\":\"y\"}},\"id\":\"5f8f668b-05c4-4cfc-a74b-18c13872f0b4\",\"type\":\"Rect\"},{\"attributes\":{\"plot\":{\"id\":\"cc8e96b1-62d9-420e-9d68-d051369086e9\",\"subtype\":\"Chart\",\"type\":\"Plot\"}},\"id\":\"867635c9-b7fe-482c-be3a-ff71193f5ae0\",\"type\":\"PanTool\"},{\"attributes\":{\"callback\":null,\"column_names\":[\"line_color\",\"line_alpha\",\"color\",\"fill_alpha\",\"height\",\"width\",\"y\",\"x\"],\"data\":{\"chart_index\":[{\"country_name\":\"Sudan (South Sudan)\"}],\"color\":[\"DimGrey\"],\"country_name\":[\"Sudan (South Sudan)\"],\"fill_alpha\":[0.8],\"height\":[125.0],\"line_alpha\":[1.0],\"line_color\":[\"black\"],\"width\":[0.8],\"x\":[\"Sudan (South Sudan)\"],\"y\":[96.5]}},\"id\":\"4a02d0d5-d807-477c-bc1c-a8a72f5bdd08\",\"type\":\"ColumnDataSource\"},{\"attributes\":{\"callback\":null,\"column_names\":[\"line_color\",\"line_alpha\",\"color\",\"fill_alpha\",\"height\",\"width\",\"y\",\"x\"],\"data\":{\"chart_index\":[{\"country_name\":\"Cote d'Ivoire (Ivory Coast)\"}],\"color\":[\"DimGrey\"],\"country_name\":[\"Cote d'Ivoire (Ivory Coast)\"],\"fill_alpha\":[0.8],\"height\":[0.0],\"line_alpha\":[1.0],\"line_color\":[\"black\"],\"width\":[0.8],\"x\":[\"Cote d'Ivoire (Ivory Coast)\"],\"y\":[0.0]}},\"id\":\"f797e605-dba7-448a-abbf-53e8ea80e1c4\",\"type\":\"ColumnDataSource\"},{\"attributes\":{\"data_source\":{\"id\":\"0bc14500-3351-4eed-85fa-4649a279571f\",\"type\":\"ColumnDataSource\"},\"glyph\":{\"id\":\"98d48580-db11-45f0-ac72-5bdb7ae26f7e\",\"type\":\"Segment\"},\"hover_glyph\":null,\"nonselection_glyph\":null,\"selection_glyph\":null},\"id\":\"9186d6e8-bfdf-4582-9525-ba1203a5cf27\",\"type\":\"GlyphRenderer\"},{\"attributes\":{},\"id\":\"624819c0-db72-4717-9aef-3c2edda8acb0\",\"type\":\"ToolEvents\"},{\"attributes\":{\"callback\":null,\"column_names\":[\"line_color\",\"line_alpha\",\"color\",\"fill_alpha\",\"height\",\"width\",\"y\",\"x\"],\"data\":{\"chart_index\":[{\"country_name\":\"Sudan (South Sudan)\"}],\"color\":[\"DimGrey\"],\"country_name\":[\"Sudan (South Sudan)\"],\"fill_alpha\":[0.8],\"height\":[64.5],\"line_alpha\":[1.0],\"line_color\":[\"black\"],\"width\":[0.8],\"x\":[\"Sudan (South Sudan)\"],\"y\":[54.25]}},\"id\":\"5b9459c2-37ff-4256-8517-ab56e0d326a6\",\"type\":\"ColumnDataSource\"},{\"attributes\":{\"data_source\":{\"id\":\"5b8ea214-9854-42ea-9ef7-8dddce5a34de\",\"type\":\"ColumnDataSource\"},\"glyph\":{\"id\":\"dfde2b22-cb7b-42c4-be03-fb01d317c7a0\",\"type\":\"Rect\"},\"hover_glyph\":null,\"nonselection_glyph\":null,\"selection_glyph\":null},\"id\":\"f61c0f0d-d492-4e38-a2ab-c2dfa90b3662\",\"type\":\"GlyphRenderer\"},{\"attributes\":{\"axis_label\":\"Reported_Number_Of_Deaths_Among_Cases\",\"formatter\":{\"id\":\"bc9a68d6-375f-4c06-8d8a-3be99c80e93c\",\"type\":\"BasicTickFormatter\"},\"plot\":{\"id\":\"fe62edd8-a33e-4d82-b09b-abb87bd082b9\",\"subtype\":\"Chart\",\"type\":\"Plot\"},\"ticker\":{\"id\":\"eef5293e-5df3-44e8-a428-801d1decbf7e\",\"type\":\"BasicTicker\"}},\"id\":\"a7dd6cb6-4220-4e7d-8028-480c28d312bf\",\"type\":\"LinearAxis\"},{\"attributes\":{\"data_source\":{\"id\":\"bb1c1f02-e76b-419c-9803-3061e3c9796a\",\"type\":\"ColumnDataSource\"},\"glyph\":{\"id\":\"47ecfbb2-0558-4037-ade3-c2c4df140715\",\"type\":\"Rect\"},\"hover_glyph\":null,\"nonselection_glyph\":null,\"selection_glyph\":null},\"id\":\"d70d0ed2-418b-48de-aa96-de0bb638d16f\",\"type\":\"GlyphRenderer\"},{\"attributes\":{\"fill_alpha\":{\"field\":\"fill_alpha\"},\"fill_color\":{\"field\":\"color\"},\"height\":{\"field\":\"height\",\"units\":\"data\"},\"line_color\":{\"field\":\"line_color\"},\"width\":{\"field\":\"width\",\"units\":\"data\"},\"x\":{\"field\":\"x\"},\"y\":{\"field\":\"y\"}},\"id\":\"435c1052-7c1b-44c5-a72b-f7b9808232c7\",\"type\":\"Rect\"},{\"attributes\":{\"callback\":null,\"factors\":[\"Cote d'Ivoire (Ivory Coast)\",\"Democratic Republic of the Congo\",\"England\",\"Gabon\",\"Italy\",\"Philippines\",\"Russia\",\"South Africa\",\"Sudan (South Sudan)\",\"USA\",\"Uganda\"]},\"id\":\"2f3e1f6b-fbed-4bd2-aece-d10673766682\",\"type\":\"FactorRange\"},{\"attributes\":{\"data_source\":{\"id\":\"e26be0c6-35ee-4877-8dfb-8ddfca0c85f4\",\"type\":\"ColumnDataSource\"},\"glyph\":{\"id\":\"fc8261b4-b3dc-45a1-a95f-75aa16dfbb00\",\"type\":\"Rect\"},\"hover_glyph\":null,\"nonselection_glyph\":null,\"selection_glyph\":null},\"id\":\"e6db65cf-4040-47d7-9439-638d6447cc9b\",\"type\":\"GlyphRenderer\"},{\"attributes\":{\"data_source\":{\"id\":\"012914ae-5468-44cf-8682-99fc508ffb46\",\"type\":\"ColumnDataSource\"},\"glyph\":{\"id\":\"6fc9175c-30cc-4812-9a4e-7864fd6d4195\",\"type\":\"Rect\"},\"hover_glyph\":null,\"nonselection_glyph\":null,\"selection_glyph\":null},\"id\":\"72f34965-56ca-47be-83e4-0c6615d27a19\",\"type\":\"GlyphRenderer\"},{\"attributes\":{\"callback\":null,\"end\":28.636363636363637},\"id\":\"9f6ad736-8331-4b3f-a9ad-29198afa64be\",\"type\":\"Range1d\"},{\"attributes\":{\"fill_alpha\":{\"field\":\"fill_alpha\"},\"fill_color\":{\"field\":\"color\"},\"height\":{\"field\":\"height\",\"units\":\"data\"},\"line_color\":{\"field\":\"line_color\"},\"width\":{\"field\":\"width\",\"units\":\"data\"},\"x\":{\"field\":\"x\"},\"y\":{\"field\":\"y\"}},\"id\":\"e1afe3ba-e3da-4160-b79f-bd41bc2dd709\",\"type\":\"Rect\"},{\"attributes\":{\"bottom_units\":\"screen\",\"fill_alpha\":{\"value\":0.5},\"fill_color\":{\"value\":\"lightgrey\"},\"left_units\":\"screen\",\"level\":\"overlay\",\"line_alpha\":{\"value\":1.0},\"line_color\":{\"value\":\"black\"},\"line_dash\":[4,4],\"line_width\":{\"value\":2},\"plot\":null,\"render_mode\":\"css\",\"right_units\":\"screen\",\"top_units\":\"screen\"},\"id\":\"b3c3d510-ccf4-485e-817e-d6004d70431d\",\"type\":\"BoxAnnotation\"},{\"attributes\":{\"fill_alpha\":{\"field\":\"fill_alpha\"},\"fill_color\":{\"field\":\"color\"},\"height\":{\"field\":\"height\",\"units\":\"data\"},\"line_color\":{\"field\":\"line_color\"},\"width\":{\"field\":\"width\",\"units\":\"data\"},\"x\":{\"field\":\"x\"},\"y\":{\"field\":\"y\"}},\"id\":\"2cb4515f-51cc-4677-9306-040f951d65ec\",\"type\":\"Rect\"},{\"attributes\":{\"data_source\":{\"id\":\"0d5b9118-7dc5-4766-a7fb-f191f98dfa2d\",\"type\":\"ColumnDataSource\"},\"glyph\":{\"id\":\"8c833a1b-d6ce-44a1-95f7-6a76d6f4a9d4\",\"type\":\"Rect\"},\"hover_glyph\":null,\"nonselection_glyph\":null,\"selection_glyph\":null},\"id\":\"2fad894a-3224-410b-9f3e-933777e890dc\",\"type\":\"GlyphRenderer\"},{\"attributes\":{\"data_source\":{\"id\":\"48e00700-472c-42ce-acaf-1a640a17e7e6\",\"type\":\"ColumnDataSource\"},\"glyph\":{\"id\":\"e5a0961e-529d-4378-bbbe-d7553a1cf28b\",\"type\":\"Rect\"},\"hover_glyph\":null,\"nonselection_glyph\":null,\"selection_glyph\":null},\"id\":\"e167649c-f3f4-4f7a-8863-167898a433c4\",\"type\":\"GlyphRenderer\"},{\"attributes\":{\"data_source\":{\"id\":\"2c639230-9502-466f-a37d-e3b7082f97ba\",\"type\":\"ColumnDataSource\"},\"glyph\":{\"id\":\"a5b163e2-3c04-4a65-9215-ffd5c682c8ef\",\"type\":\"Segment\"},\"hover_glyph\":null,\"nonselection_glyph\":null,\"selection_glyph\":null},\"id\":\"19f66d81-172e-49fc-a87b-7c9175e5d2f4\",\"type\":\"GlyphRenderer\"},{\"attributes\":{\"data_source\":{\"id\":\"0d273213-9ca2-474a-a1ad-0b44a12fc9eb\",\"type\":\"ColumnDataSource\"},\"glyph\":{\"id\":\"7f5cd22d-4b1d-460a-96e1-8997c5145ac2\",\"type\":\"Rect\"},\"hover_glyph\":null,\"nonselection_glyph\":null,\"selection_glyph\":null},\"id\":\"5017d11d-239c-4b4b-8268-e2298f7ff08b\",\"type\":\"GlyphRenderer\"},{\"attributes\":{\"data_source\":{\"id\":\"104fec1a-875f-4e94-8943-de4a319408ac\",\"type\":\"ColumnDataSource\"},\"glyph\":{\"id\":\"a0a18acb-7e40-423a-81d9-c6ca3a990434\",\"type\":\"Rect\"},\"hover_glyph\":null,\"nonselection_glyph\":null,\"selection_glyph\":null},\"id\":\"5a5166a7-cb24-4b02-9e36-fcc1c1652ad9\",\"type\":\"GlyphRenderer\"},{\"attributes\":{\"data_source\":{\"id\":\"5cea4a10-46d4-492e-b38a-cac485efdb47\",\"type\":\"ColumnDataSource\"},\"glyph\":{\"id\":\"0179fe4f-d35d-4655-b94e-7a9195d07935\",\"type\":\"Rect\"},\"hover_glyph\":null,\"nonselection_glyph\":null,\"selection_glyph\":null},\"id\":\"52a93fac-559c-4ff9-b3fd-c1a569f7fdeb\",\"type\":\"GlyphRenderer\"},{\"attributes\":{\"data_source\":{\"id\":\"b0edd9c6-bbae-458e-841e-c45267634d6c\",\"type\":\"ColumnDataSource\"},\"glyph\":{\"id\":\"852cbeeb-98ec-47bb-b14b-4afdf8880c3c\",\"type\":\"Rect\"},\"hover_glyph\":null,\"nonselection_glyph\":null,\"selection_glyph\":null},\"id\":\"710695f6-b463-49ec-8eff-53959fd0ce48\",\"type\":\"GlyphRenderer\"},{\"attributes\":{\"callback\":null,\"column_names\":[\"line_color\",\"line_alpha\",\"color\",\"fill_alpha\",\"height\",\"width\",\"y\",\"x\"],\"data\":{\"chart_index\":[{\"country_name\":\"England\"}],\"color\":[\"DimGrey\"],\"country_name\":[\"England\"],\"fill_alpha\":[0.8],\"height\":[0.0],\"line_alpha\":[1.0],\"line_color\":[\"black\"],\"width\":[0.8],\"x\":[\"England\"],\"y\":[0.0]}},\"id\":\"a46e424a-d842-46ef-a77b-528f1b6a8238\",\"type\":\"ColumnDataSource\"},{\"attributes\":{\"data_source\":{\"id\":\"4e51f0e6-f39f-4296-b848-a234c6293481\",\"type\":\"ColumnDataSource\"},\"glyph\":{\"id\":\"2cb4515f-51cc-4677-9306-040f951d65ec\",\"type\":\"Rect\"},\"hover_glyph\":null,\"nonselection_glyph\":null,\"selection_glyph\":null},\"id\":\"b0732407-8f23-4696-9768-53ae98c0aba9\",\"type\":\"GlyphRenderer\"},{\"attributes\":{\"fill_alpha\":{\"field\":\"fill_alpha\"},\"fill_color\":{\"field\":\"color\"},\"height\":{\"field\":\"height\",\"units\":\"data\"},\"line_color\":{\"field\":\"line_color\"},\"width\":{\"field\":\"width\",\"units\":\"data\"},\"x\":{\"field\":\"x\"},\"y\":{\"field\":\"y\"}},\"id\":\"5bf083f8-2178-4b29-aaf1-6e14c1101d41\",\"type\":\"Rect\"},{\"attributes\":{\"fill_alpha\":{\"field\":\"fill_alpha\"},\"fill_color\":{\"field\":\"color\"},\"height\":{\"field\":\"height\",\"units\":\"data\"},\"line_color\":{\"field\":\"line_color\"},\"width\":{\"field\":\"width\",\"units\":\"data\"},\"x\":{\"field\":\"x\"},\"y\":{\"field\":\"y\"}},\"id\":\"fc8261b4-b3dc-45a1-a95f-75aa16dfbb00\",\"type\":\"Rect\"},{\"attributes\":{\"callback\":null,\"column_names\":[\"line_color\",\"line_alpha\",\"color\",\"fill_alpha\",\"height\",\"width\",\"y\",\"x\"],\"data\":{\"chart_index\":[{\"country_name\":\"Russia\"}],\"color\":[\"DimGrey\"],\"country_name\":[\"Russia\"],\"fill_alpha\":[0.8],\"height\":[0.0],\"line_alpha\":[1.0],\"line_color\":[\"black\"],\"width\":[0.8],\"x\":[\"Russia\"],\"y\":[1.0]}},\"id\":\"db536248-7410-425b-9615-c6c6d59ec7ae\",\"type\":\"ColumnDataSource\"},{\"attributes\":{\"data_source\":{\"id\":\"0144cc88-5b85-49d4-b6cb-e7e4b40d751e\",\"type\":\"ColumnDataSource\"},\"glyph\":{\"id\":\"0cc18db7-4790-49c8-8409-0628f468b664\",\"type\":\"Rect\"},\"hover_glyph\":null,\"nonselection_glyph\":null,\"selection_glyph\":null},\"id\":\"252a5bef-88e1-482c-9a31-c22d6120e967\",\"type\":\"GlyphRenderer\"},{\"attributes\":{\"fill_alpha\":{\"field\":\"fill_alpha\"},\"fill_color\":{\"field\":\"color\"},\"height\":{\"field\":\"height\",\"units\":\"data\"},\"line_color\":{\"field\":\"line_color\"},\"width\":{\"field\":\"width\",\"units\":\"data\"},\"x\":{\"field\":\"x\"},\"y\":{\"field\":\"y\"}},\"id\":\"e5cb1395-ae50-4ff5-a23b-7727c21232d7\",\"type\":\"Rect\"},{\"attributes\":{\"data_source\":{\"id\":\"3803c269-411a-485a-9464-957c3cf7728c\",\"type\":\"ColumnDataSource\"},\"glyph\":{\"id\":\"ccae66f2-1b40-404b-bf1d-8234c8ca9d29\",\"type\":\"Rect\"},\"hover_glyph\":null,\"nonselection_glyph\":null,\"selection_glyph\":null},\"id\":\"0ebb277a-7c67-4d02-b9ab-e0faab4c8dd4\",\"type\":\"GlyphRenderer\"},{\"attributes\":{\"data_source\":{\"id\":\"c716d0e7-5305-4372-a0ca-7d20d75b97c8\",\"type\":\"ColumnDataSource\"},\"glyph\":{\"id\":\"2590585a-90bd-496e-91a0-a9cf17bff3ea\",\"type\":\"Segment\"},\"hover_glyph\":null,\"nonselection_glyph\":null,\"selection_glyph\":null},\"id\":\"5ba255bd-718e-42f0-a590-eeccccf8f91a\",\"type\":\"GlyphRenderer\"},{\"attributes\":{\"plot\":{\"id\":\"b54cb84a-7ef1-4cd9-9084-c738af7d0391\",\"subtype\":\"Chart\",\"type\":\"Plot\"}},\"id\":\"a2b9d3dc-4d2d-4e98-b8cb-309e25f1fa51\",\"type\":\"ResetTool\"},{\"attributes\":{\"data_source\":{\"id\":\"e9a7fcfb-e4bd-43c9-8902-75823d6371ee\",\"type\":\"ColumnDataSource\"},\"glyph\":{\"id\":\"b48e592c-fa3d-48ee-88c4-23eb7124f710\",\"type\":\"Rect\"},\"hover_glyph\":null,\"nonselection_glyph\":null,\"selection_glyph\":null},\"id\":\"185af444-eb58-4259-a294-ad17dda41512\",\"type\":\"GlyphRenderer\"},{\"attributes\":{\"fill_alpha\":{\"field\":\"fill_alpha\"},\"fill_color\":{\"field\":\"color\"},\"height\":{\"field\":\"height\",\"units\":\"data\"},\"line_color\":{\"field\":\"line_color\"},\"width\":{\"field\":\"width\",\"units\":\"data\"},\"x\":{\"field\":\"x\"},\"y\":{\"field\":\"y\"}},\"id\":\"b11cbcf3-532d-4f50-8636-f51ac0dd7c53\",\"type\":\"Rect\"},{\"attributes\":{\"data_source\":{\"id\":\"fcc5898e-0b1a-4c9e-bb6b-eb45ac1594f7\",\"type\":\"ColumnDataSource\"},\"glyph\":{\"id\":\"d03679e2-b71f-4f0b-b4a1-5db16c301fc5\",\"type\":\"Segment\"},\"hover_glyph\":null,\"nonselection_glyph\":null,\"selection_glyph\":null},\"id\":\"ec9637a8-5a90-4726-a5f5-e3e661be1acf\",\"type\":\"GlyphRenderer\"},{\"attributes\":{\"line_color\":{\"value\":\"#f22c40\"},\"line_width\":{\"value\":2},\"x0\":{\"field\":\"x0s\"},\"x1\":{\"field\":\"x1s\"},\"y0\":{\"field\":\"y0s\"},\"y1\":{\"field\":\"y1s\"}},\"id\":\"a5b163e2-3c04-4a65-9215-ffd5c682c8ef\",\"type\":\"Segment\"},{\"attributes\":{\"data_source\":{\"id\":\"ffa4d021-c646-4d50-8d8d-50fbd753b950\",\"type\":\"ColumnDataSource\"},\"glyph\":{\"id\":\"473b568e-f666-4578-9e55-539348ca6b4e\",\"type\":\"Rect\"},\"hover_glyph\":null,\"nonselection_glyph\":null,\"selection_glyph\":null},\"id\":\"66d9734a-56c5-45d3-a80d-68e371a05c2f\",\"type\":\"GlyphRenderer\"},{\"attributes\":{\"plot\":{\"id\":\"fe62edd8-a33e-4d82-b09b-abb87bd082b9\",\"subtype\":\"Chart\",\"type\":\"Plot\"}},\"id\":\"bd828c43-806b-46fc-9e82-222e59f32f37\",\"type\":\"ResetTool\"},{\"attributes\":{\"data_source\":{\"id\":\"dca68811-491a-4b0c-be1d-5eae300dc603\",\"type\":\"ColumnDataSource\"},\"glyph\":{\"id\":\"6977a5dc-5325-4f3f-9960-0a0d847f76b0\",\"type\":\"Rect\"},\"hover_glyph\":null,\"nonselection_glyph\":null,\"selection_glyph\":null},\"id\":\"f2af8345-44df-444a-a57e-33792246064a\",\"type\":\"GlyphRenderer\"},{\"attributes\":{},\"id\":\"eb8f591a-c49f-43c6-a76a-b3a69d5415b9\",\"type\":\"BasicTickFormatter\"},{\"attributes\":{},\"id\":\"bc9a68d6-375f-4c06-8d8a-3be99c80e93c\",\"type\":\"BasicTickFormatter\"},{\"attributes\":{\"data_source\":{\"id\":\"51720d55-339a-43f4-8ba4-234ee62e75b7\",\"type\":\"ColumnDataSource\"},\"glyph\":{\"id\":\"7b3b2943-54c2-47b1-96b0-8b9b9d5bc604\",\"type\":\"Rect\"},\"hover_glyph\":null,\"nonselection_glyph\":null,\"selection_glyph\":null},\"id\":\"adac7e6d-df5a-4731-9bcb-f9db32187937\",\"type\":\"GlyphRenderer\"},{\"attributes\":{\"data_source\":{\"id\":\"ee1fc770-6aec-4252-9645-496f0f5cb7f4\",\"type\":\"ColumnDataSource\"},\"glyph\":{\"id\":\"8d5a74c3-b1dd-48cd-863f-fb75fa6b82d8\",\"type\":\"Rect\"},\"hover_glyph\":null,\"nonselection_glyph\":null,\"selection_glyph\":null},\"id\":\"7a752adb-21d6-460f-8e43-2d3aec49d183\",\"type\":\"GlyphRenderer\"},{\"attributes\":{\"callback\":null,\"column_names\":[\"line_color\",\"line_alpha\",\"color\",\"fill_alpha\",\"height\",\"width\",\"y\",\"x\"],\"data\":{\"chart_index\":[{\"country_name\":\"South Africa\"}],\"color\":[\"DimGrey\"],\"country_name\":[\"South Africa\"],\"fill_alpha\":[0.8],\"height\":[0],\"line_alpha\":[1.0],\"line_color\":[\"black\"],\"width\":[0.8],\"x\":[\"South Africa\"],\"y\":[1.0]}},\"id\":\"0d273213-9ca2-474a-a1ad-0b44a12fc9eb\",\"type\":\"ColumnDataSource\"},{\"attributes\":{\"below\":[{\"id\":\"eb4ec6e6-453b-421e-9dc7-9c46514540cb\",\"type\":\"CategoricalAxis\"}],\"left\":[{\"id\":\"3a482e4d-7aea-40f7-8e31-7e5648e33852\",\"type\":\"LinearAxis\"}],\"legend\":null,\"renderers\":[{\"id\":\"b3c3d510-ccf4-485e-817e-d6004d70431d\",\"type\":\"BoxAnnotation\"},{\"id\":\"c33a2168-ccc3-42f2-92c6-5f0aa8be6b34\",\"type\":\"GlyphRenderer\"},{\"id\":\"2d190e01-81fc-4125-b931-d607c6d5228a\",\"type\":\"GlyphRenderer\"},{\"id\":\"3c18f31a-5a5c-4cd0-abbb-22840156358c\",\"type\":\"GlyphRenderer\"},{\"id\":\"d16d363c-0243-49bd-8a9b-57fe2ce5d8a2\",\"type\":\"GlyphRenderer\"},{\"id\":\"66d9734a-56c5-45d3-a80d-68e371a05c2f\",\"type\":\"GlyphRenderer\"},{\"id\":\"1e871bb2-482f-421b-ae58-fb76ed198c9a\",\"type\":\"GlyphRenderer\"},{\"id\":\"c888697f-20ba-44fb-87cd-a727eb648059\",\"type\":\"GlyphRenderer\"},{\"id\":\"ca7fe468-d40b-45b9-91e9-c9b0c7d5541e\",\"type\":\"GlyphRenderer\"},{\"id\":\"0e123e95-3c49-4ff5-9df7-9a6bf18778c3\",\"type\":\"GlyphRenderer\"},{\"id\":\"d70d0ed2-418b-48de-aa96-de0bb638d16f\",\"type\":\"GlyphRenderer\"},{\"id\":\"7e5cfc83-777d-4abb-9ac7-008a5a7db7f0\",\"type\":\"GlyphRenderer\"},{\"id\":\"eb4ec6e6-453b-421e-9dc7-9c46514540cb\",\"type\":\"CategoricalAxis\"},{\"id\":\"3a482e4d-7aea-40f7-8e31-7e5648e33852\",\"type\":\"LinearAxis\"},{\"id\":\"c51b42cc-a827-448d-976a-d2e4129bb007\",\"type\":\"Grid\"}],\"title\":\"Proportion of ebola outbreaks per country in %\",\"title_text_font_size\":{\"value\":\"14pt\"},\"tool_events\":{\"id\":\"f76c567d-2cca-493d-a79a-c2ce164fb31f\",\"type\":\"ToolEvents\"},\"tools\":[{\"id\":\"867635c9-b7fe-482c-be3a-ff71193f5ae0\",\"type\":\"PanTool\"},{\"id\":\"47967ed1-f3ef-44d0-bd17-717da5d3e3cf\",\"type\":\"WheelZoomTool\"},{\"id\":\"590e0c8d-0359-4bcd-88e9-3e158bf54812\",\"type\":\"BoxZoomTool\"},{\"id\":\"a9aee786-8574-4044-aa69-9c7b47a38d78\",\"type\":\"PreviewSaveTool\"},{\"id\":\"ad0855fe-02d2-41d3-b49d-507b3b64cfdd\",\"type\":\"ResizeTool\"},{\"id\":\"8aa45c51-3651-4085-8342-97db238934a9\",\"type\":\"ResetTool\"},{\"id\":\"659cb52d-7a03-4336-ab06-e1958eaed4bc\",\"type\":\"HelpTool\"}],\"x_mapper_type\":\"auto\",\"x_range\":{\"id\":\"90a56e06-c9dd-45da-bad5-3e9454a1545b\",\"type\":\"FactorRange\"},\"xgrid\":false,\"xscale\":\"auto\",\"y_mapper_type\":\"auto\",\"y_range\":{\"id\":\"9f6ad736-8331-4b3f-a9ad-29198afa64be\",\"type\":\"Range1d\"},\"yscale\":\"auto\"},\"id\":\"cc8e96b1-62d9-420e-9d68-d051369086e9\",\"subtype\":\"Chart\",\"type\":\"Plot\"},{\"attributes\":{\"data_source\":{\"id\":\"74849eef-ca23-4e55-a902-699224dc9de9\",\"type\":\"ColumnDataSource\"},\"glyph\":{\"id\":\"c0bce1bd-4949-4ac7-a6c2-658ae61645d9\",\"type\":\"Rect\"},\"hover_glyph\":null,\"nonselection_glyph\":null,\"selection_glyph\":null},\"id\":\"aeb54ea1-f8ff-4a8b-bd4d-059e60df16c8\",\"type\":\"GlyphRenderer\"},{\"attributes\":{\"fill_alpha\":{\"field\":\"fill_alpha\"},\"fill_color\":{\"field\":\"color\"},\"height\":{\"field\":\"height\",\"units\":\"data\"},\"line_color\":{\"field\":\"line_color\"},\"width\":{\"field\":\"width\",\"units\":\"data\"},\"x\":{\"field\":\"x\"},\"y\":{\"field\":\"y\"}},\"id\":\"43034ab5-556f-464b-aaed-24dc33bd38d0\",\"type\":\"Rect\"},{\"attributes\":{},\"id\":\"184b0005-b86b-4ff0-b079-fc68fdf26b3a\",\"type\":\"CategoricalTickFormatter\"},{\"attributes\":{\"fill_alpha\":{\"field\":\"fill_alpha\"},\"fill_color\":{\"field\":\"color\"},\"height\":{\"field\":\"height\",\"units\":\"data\"},\"line_color\":{\"field\":\"line_color\"},\"width\":{\"field\":\"width\",\"units\":\"data\"},\"x\":{\"field\":\"x\"},\"y\":{\"field\":\"y\"}},\"id\":\"ccae66f2-1b40-404b-bf1d-8234c8ca9d29\",\"type\":\"Rect\"},{\"attributes\":{\"data_source\":{\"id\":\"a46e424a-d842-46ef-a77b-528f1b6a8238\",\"type\":\"ColumnDataSource\"},\"glyph\":{\"id\":\"aea85351-39f4-4d8f-b8df-b9a24cd73f54\",\"type\":\"Rect\"},\"hover_glyph\":null,\"nonselection_glyph\":null,\"selection_glyph\":null},\"id\":\"9438826e-8bb5-4985-baa7-1145c90fea70\",\"type\":\"GlyphRenderer\"},{\"attributes\":{\"line_color\":{\"value\":\"#f22c40\"},\"line_width\":{\"value\":2},\"x0\":{\"field\":\"x0s\"},\"x1\":{\"field\":\"x1s\"},\"y0\":{\"field\":\"y0s\"},\"y1\":{\"field\":\"y1s\"}},\"id\":\"5e616372-f745-498b-a22d-88ca2082b809\",\"type\":\"Segment\"},{\"attributes\":{\"fill_alpha\":{\"field\":\"fill_alpha\"},\"fill_color\":{\"field\":\"color\"},\"height\":{\"field\":\"height\",\"units\":\"data\"},\"line_color\":{\"field\":\"line_color\"},\"width\":{\"field\":\"width\",\"units\":\"data\"},\"x\":{\"field\":\"x\"},\"y\":{\"field\":\"y\"}},\"id\":\"6405f9ff-8499-43e1-ac2b-6ccde65eed6e\",\"type\":\"Rect\"},{\"attributes\":{\"fill_alpha\":{\"field\":\"fill_alpha\"},\"fill_color\":{\"field\":\"color\"},\"height\":{\"field\":\"height\",\"units\":\"data\"},\"line_color\":{\"field\":\"line_color\"},\"width\":{\"field\":\"width\",\"units\":\"data\"},\"x\":{\"field\":\"x\"},\"y\":{\"field\":\"y\"}},\"id\":\"6977a5dc-5325-4f3f-9960-0a0d847f76b0\",\"type\":\"Rect\"},{\"attributes\":{\"fill_alpha\":{\"field\":\"fill_alpha\"},\"fill_color\":{\"field\":\"color\"},\"height\":{\"field\":\"height\",\"units\":\"data\"},\"line_color\":{\"field\":\"line_color\"},\"width\":{\"field\":\"width\",\"units\":\"data\"},\"x\":{\"field\":\"x\"},\"y\":{\"field\":\"y\"}},\"id\":\"675c6d51-2354-4a07-b422-d6c0a9ebc2ec\",\"type\":\"Rect\"},{\"attributes\":{\"axis_label\":\"Reported_Number_Of_Human_Cases\",\"formatter\":{\"id\":\"57a56d39-cc6e-4f46-bfcb-677ed0ebdf3d\",\"type\":\"BasicTickFormatter\"},\"plot\":{\"id\":\"b54cb84a-7ef1-4cd9-9084-c738af7d0391\",\"subtype\":\"Chart\",\"type\":\"Plot\"},\"ticker\":{\"id\":\"6b29c076-abba-4998-ab22-bac588a72f29\",\"type\":\"BasicTicker\"}},\"id\":\"d694cd0f-bbe6-44ee-80e8-7c05ae663379\",\"type\":\"LinearAxis\"},{\"attributes\":{\"data_source\":{\"id\":\"3c0c9e12-4054-40e8-88a9-809836c584e1\",\"type\":\"ColumnDataSource\"},\"glyph\":{\"id\":\"4a213e41-4941-4a99-aa97-4adfc1c6f8f1\",\"type\":\"Rect\"},\"hover_glyph\":null,\"nonselection_glyph\":null,\"selection_glyph\":null},\"id\":\"c33a2168-ccc3-42f2-92c6-5f0aa8be6b34\",\"type\":\"GlyphRenderer\"},{\"attributes\":{\"data_source\":{\"id\":\"f2d81cc9-0c35-40bd-9cde-049761d42fde\",\"type\":\"ColumnDataSource\"},\"glyph\":{\"id\":\"4fb9bef6-3dc3-42a0-a423-adc3fb308e6c\",\"type\":\"Rect\"},\"hover_glyph\":null,\"nonselection_glyph\":null,\"selection_glyph\":null},\"id\":\"d16d363c-0243-49bd-8a9b-57fe2ce5d8a2\",\"type\":\"GlyphRenderer\"},{\"attributes\":{\"data_source\":{\"id\":\"5c49b368-e6ba-4deb-8807-b94343ebb4cf\",\"type\":\"ColumnDataSource\"},\"glyph\":{\"id\":\"43034ab5-556f-464b-aaed-24dc33bd38d0\",\"type\":\"Rect\"},\"hover_glyph\":null,\"nonselection_glyph\":null,\"selection_glyph\":null},\"id\":\"0e123e95-3c49-4ff5-9df7-9a6bf18778c3\",\"type\":\"GlyphRenderer\"},{\"attributes\":{\"data_source\":{\"id\":\"c77d26ce-ca3f-4a4f-9218-d0691cbf2b8c\",\"type\":\"ColumnDataSource\"},\"glyph\":{\"id\":\"5bf083f8-2178-4b29-aaf1-6e14c1101d41\",\"type\":\"Rect\"},\"hover_glyph\":null,\"nonselection_glyph\":null,\"selection_glyph\":null},\"id\":\"e3bcf3f2-3787-4fe3-b52e-338a24209f57\",\"type\":\"GlyphRenderer\"},{\"attributes\":{\"fill_alpha\":{\"field\":\"fill_alpha\"},\"fill_color\":{\"field\":\"color\"},\"height\":{\"field\":\"height\",\"units\":\"data\"},\"line_color\":{\"field\":\"line_color\"},\"width\":{\"field\":\"width\",\"units\":\"data\"},\"x\":{\"field\":\"x\"},\"y\":{\"field\":\"y\"}},\"id\":\"1751d3d9-f665-4d29-9652-e19e8991f7a2\",\"type\":\"Rect\"},{\"attributes\":{\"data_source\":{\"id\":\"bfbc1439-3e4e-4bfc-84f1-517d87038e57\",\"type\":\"ColumnDataSource\"},\"glyph\":{\"id\":\"1f6adcad-9fc5-4707-91b2-ae1c33b75c3e\",\"type\":\"Segment\"},\"hover_glyph\":null,\"nonselection_glyph\":null,\"selection_glyph\":null},\"id\":\"1abc257e-0b2b-4beb-bb2c-c4e2fe113145\",\"type\":\"GlyphRenderer\"},{\"attributes\":{\"callback\":null,\"column_names\":[\"line_color\",\"line_alpha\",\"color\",\"fill_alpha\",\"height\",\"width\",\"y\",\"x\"],\"data\":{\"chart_index\":[{\"country_name\":\"South Africa\"}],\"color\":[\"DimGrey\"],\"country_name\":[\"South Africa\"],\"fill_alpha\":[0.8],\"height\":[0],\"line_alpha\":[1.0],\"line_color\":[\"black\"],\"width\":[0.8],\"x\":[\"South Africa\"],\"y\":[2.0]}},\"id\":\"c77d26ce-ca3f-4a4f-9218-d0691cbf2b8c\",\"type\":\"ColumnDataSource\"},{\"attributes\":{\"data_source\":{\"id\":\"45b443a5-b865-4764-af69-fbf3980bc6bf\",\"type\":\"ColumnDataSource\"},\"glyph\":{\"id\":\"98b70e61-cda6-4fb6-b6f4-b9ae0154bfd2\",\"type\":\"Rect\"},\"hover_glyph\":null,\"nonselection_glyph\":null,\"selection_glyph\":null},\"id\":\"f42e1e00-b8a7-4978-a7e6-118c2eeb06b9\",\"type\":\"GlyphRenderer\"},{\"attributes\":{\"callback\":null,\"column_names\":[\"x0s\",\"y0s\",\"x1s\",\"y1s\"],\"data\":{\"chart_index\":[{\"country_name\":\"Sudan (South Sudan)\"},{\"country_name\":\"Sudan (South Sudan)\"},{\"country_name\":\"Sudan (South Sudan)\"},{\"country_name\":\"Sudan (South Sudan)\"}],\"country_name\":[\"Sudan (South Sudan)\",\"Sudan (South Sudan)\",\"Sudan (South Sudan)\",\"Sudan (South Sudan)\"],\"x0s\":[\"Sudan (South Sudan):0.5\",\"Sudan (South Sudan):0.65\",\"Sudan (South Sudan):0.5\",\"Sudan (South Sudan):0.65\"],\"x1s\":[\"Sudan (South Sudan):0.5\",\"Sudan (South Sudan):0.35\",\"Sudan (South Sudan):0.5\",\"Sudan (South Sudan):0.35\"],\"y0s\":[7.0,7.0,86.5,151.0],\"y1s\":[14.5,7.0,151.0,151.0]}},\"id\":\"c716d0e7-5305-4372-a0ca-7d20d75b97c8\",\"type\":\"ColumnDataSource\"},{\"attributes\":{\"callback\":null,\"column_names\":[\"line_color\",\"line_alpha\",\"color\",\"fill_alpha\",\"height\",\"width\",\"y\",\"x\"],\"data\":{\"chart_index\":[{\"country_name\":\"England\"}],\"color\":[\"DimGrey\"],\"country_name\":[\"England\"],\"fill_alpha\":[0.8],\"height\":[0.0],\"line_alpha\":[1.0],\"line_color\":[\"black\"],\"width\":[0.8],\"x\":[\"England\"],\"y\":[0.0]}},\"id\":\"05f4e481-2083-4c3d-b995-45a93370252a\",\"type\":\"ColumnDataSource\"},{\"attributes\":{\"plot\":{\"id\":\"cc8e96b1-62d9-420e-9d68-d051369086e9\",\"subtype\":\"Chart\",\"type\":\"Plot\"}},\"id\":\"8aa45c51-3651-4085-8342-97db238934a9\",\"type\":\"ResetTool\"},{\"attributes\":{\"data_source\":{\"id\":\"6cd93e97-e0d1-4aa0-b05b-45ec50ed93fe\",\"type\":\"ColumnDataSource\"},\"glyph\":{\"id\":\"40c7e7cc-cb09-4c3d-86c6-c2caca797fc0\",\"type\":\"Segment\"},\"hover_glyph\":null,\"nonselection_glyph\":null,\"selection_glyph\":null},\"id\":\"ba4b8284-f047-4aab-b265-9bc2e3ca203a\",\"type\":\"GlyphRenderer\"},{\"attributes\":{\"data_source\":{\"id\":\"db34ab03-342c-4def-9c08-6f04c6610f0b\",\"type\":\"ColumnDataSource\"},\"glyph\":{\"id\":\"2993cd6c-5597-4499-99cd-570d9dfb3b22\",\"type\":\"Rect\"},\"hover_glyph\":null,\"nonselection_glyph\":null,\"selection_glyph\":null},\"id\":\"88301aa0-4b7e-464a-92b1-8f7ff012aca0\",\"type\":\"GlyphRenderer\"},{\"attributes\":{\"fill_alpha\":{\"field\":\"fill_alpha\"},\"fill_color\":{\"field\":\"color\"},\"height\":{\"field\":\"height\",\"units\":\"data\"},\"line_color\":{\"field\":\"line_color\"},\"width\":{\"field\":\"width\",\"units\":\"data\"},\"x\":{\"field\":\"x\"},\"y\":{\"field\":\"y\"}},\"id\":\"a0a18acb-7e40-423a-81d9-c6ca3a990434\",\"type\":\"Rect\"},{\"attributes\":{\"callback\":null,\"column_names\":[\"line_color\",\"line_alpha\",\"color\",\"fill_alpha\",\"height\",\"width\",\"y\",\"x\"],\"data\":{\"chart_index\":[{\"index\":\"Philippines\"}],\"color\":[\"navy\"],\"fill_alpha\":[0.8],\"height\":[9.090909090909092],\"index\":[\"Philippines\"],\"line_alpha\":[1.0],\"line_color\":[\"white\"],\"width\":[0.8],\"x\":[\"Philippines\"],\"y\":[4.545454545454546]}},\"id\":\"bce273ec-a97e-4376-90ca-e10452e8d1f6\",\"type\":\"ColumnDataSource\"},{\"attributes\":{\"callback\":null,\"column_names\":[\"line_color\",\"line_alpha\",\"color\",\"fill_alpha\",\"height\",\"width\",\"y\",\"x\"],\"data\":{\"chart_index\":[{\"country_name\":\"Russia\"}],\"color\":[\"DimGrey\"],\"country_name\":[\"Russia\"],\"fill_alpha\":[0.8],\"height\":[0.0],\"line_alpha\":[1.0],\"line_color\":[\"black\"],\"width\":[0.8],\"x\":[\"Russia\"],\"y\":[1.0]}},\"id\":\"dca68811-491a-4b0c-be1d-5eae300dc603\",\"type\":\"ColumnDataSource\"},{\"attributes\":{\"data_source\":{\"id\":\"bce273ec-a97e-4376-90ca-e10452e8d1f6\",\"type\":\"ColumnDataSource\"},\"glyph\":{\"id\":\"aeb2f951-10e6-4bbc-97cb-c3d5a7b3a4ce\",\"type\":\"Rect\"},\"hover_glyph\":null,\"nonselection_glyph\":null,\"selection_glyph\":null},\"id\":\"1e871bb2-482f-421b-ae58-fb76ed198c9a\",\"type\":\"GlyphRenderer\"},{\"attributes\":{\"callback\":null,\"column_names\":[\"x0s\",\"y0s\",\"x1s\",\"y1s\"],\"data\":{\"chart_index\":[{\"country_name\":\"Gabon\"},{\"country_name\":\"Gabon\"},{\"country_name\":\"Gabon\"},{\"country_name\":\"Gabon\"}],\"country_name\":[\"Gabon\",\"Gabon\",\"Gabon\",\"Gabon\"],\"x0s\":[\"Gabon:0.5\",\"Gabon:0.65\",\"Gabon:0.5\",\"Gabon:0.65\"],\"x1s\":[\"Gabon:0.5\",\"Gabon:0.35\",\"Gabon:0.5\",\"Gabon:0.35\"],\"y0s\":[37.0,37.0,61.25,65.0],\"y1s\":[48.25,37.0,65.0,65.0]}},\"id\":\"6cd93e97-e0d1-4aa0-b05b-45ec50ed93fe\",\"type\":\"ColumnDataSource\"},{\"attributes\":{\"callback\":null,\"column_names\":[\"line_color\",\"line_alpha\",\"color\",\"fill_alpha\",\"height\",\"width\",\"y\",\"x\"],\"data\":{\"chart_index\":[{\"country_name\":\"Philippines\"}],\"color\":[\"DimGrey\"],\"country_name\":[\"Philippines\"],\"fill_alpha\":[0.8],\"height\":[1.5],\"line_alpha\":[1.0],\"line_color\":[\"black\"],\"width\":[0.8],\"x\":[\"Philippines\"],\"y\":[2.25]}},\"id\":\"9fcfd9d2-f369-4bca-a93e-6e297f9f41e6\",\"type\":\"ColumnDataSource\"},{\"attributes\":{\"callback\":null,\"column_names\":[\"line_color\",\"line_alpha\",\"color\",\"fill_alpha\",\"height\",\"width\",\"y\",\"x\"],\"data\":{\"chart_index\":[{\"country_name\":\"USA\"}],\"color\":[\"DimGrey\"],\"country_name\":[\"USA\"],\"fill_alpha\":[0.8],\"height\":[0.0],\"line_alpha\":[1.0],\"line_color\":[\"black\"],\"width\":[0.8],\"x\":[\"USA\"],\"y\":[0.0]}},\"id\":\"104fec1a-875f-4e94-8943-de4a319408ac\",\"type\":\"ColumnDataSource\"},{\"attributes\":{\"callback\":null,\"column_names\":[\"line_color\",\"line_alpha\",\"color\",\"fill_alpha\",\"height\",\"width\",\"y\",\"x\"],\"data\":{\"chart_index\":[{\"country_name\":\"USA\"}],\"color\":[\"DimGrey\"],\"country_name\":[\"USA\"],\"fill_alpha\":[0.8],\"height\":[0.0],\"line_alpha\":[1.0],\"line_color\":[\"black\"],\"width\":[0.8],\"x\":[\"USA\"],\"y\":[0.0]}},\"id\":\"5cea4a10-46d4-492e-b38a-cac485efdb47\",\"type\":\"ColumnDataSource\"},{\"attributes\":{\"line_color\":{\"value\":\"#5ab738\"},\"line_width\":{\"value\":2},\"x0\":{\"field\":\"x0s\"},\"x1\":{\"field\":\"x1s\"},\"y0\":{\"field\":\"y0s\"},\"y1\":{\"field\":\"y1s\"}},\"id\":\"f4e41225-a4a1-4699-b7dd-8ccfb92389d8\",\"type\":\"Segment\"},{\"attributes\":{\"data_source\":{\"id\":\"c7bb4ea9-d6bf-4fbf-a077-35597774bcfc\",\"type\":\"ColumnDataSource\"},\"glyph\":{\"id\":\"5e616372-f745-498b-a22d-88ca2082b809\",\"type\":\"Segment\"},\"hover_glyph\":null,\"nonselection_glyph\":null,\"selection_glyph\":null},\"id\":\"13d3beb1-ff26-48f5-aa1b-ec6c3885e18d\",\"type\":\"GlyphRenderer\"},{\"attributes\":{\"callback\":null,\"column_names\":[\"line_color\",\"line_alpha\",\"color\",\"fill_alpha\",\"height\",\"width\",\"y\",\"x\"],\"data\":{\"chart_index\":[{\"country_name\":\"Gabon\"}],\"color\":[\"DimGrey\"],\"country_name\":[\"Gabon\"],\"fill_alpha\":[0.8],\"height\":[5.25],\"line_alpha\":[1.0],\"line_color\":[\"black\"],\"width\":[0.8],\"x\":[\"Gabon\"],\"y\":[58.625]}},\"id\":\"ee1fc770-6aec-4252-9645-496f0f5cb7f4\",\"type\":\"ColumnDataSource\"},{\"attributes\":{\"data_source\":{\"id\":\"58d9f86a-9951-4cb0-b377-24d2f49c2537\",\"type\":\"ColumnDataSource\"},\"glyph\":{\"id\":\"5f8f668b-05c4-4cfc-a74b-18c13872f0b4\",\"type\":\"Rect\"},\"hover_glyph\":null,\"nonselection_glyph\":null,\"selection_glyph\":null},\"id\":\"1d803360-5ba9-45e0-ba09-877428fab381\",\"type\":\"GlyphRenderer\"},{\"attributes\":{\"callback\":null,\"column_names\":[\"line_color\",\"line_alpha\",\"color\",\"fill_alpha\",\"height\",\"width\",\"y\",\"x\"],\"data\":{\"chart_index\":[{\"country_name\":\"Italy\"}],\"color\":[\"DimGrey\"],\"country_name\":[\"Italy\"],\"fill_alpha\":[0.8],\"height\":[0.0],\"line_alpha\":[1.0],\"line_color\":[\"black\"],\"width\":[0.8],\"x\":[\"Italy\"],\"y\":[0.0]}},\"id\":\"4f05edd6-ced3-4f5c-a42a-728d09a88a74\",\"type\":\"ColumnDataSource\"},{\"attributes\":{\"below\":[{\"id\":\"b70f57cc-0cec-4a6d-8716-ea7880803823\",\"type\":\"CategoricalAxis\"}],\"left\":[{\"id\":\"a7dd6cb6-4220-4e7d-8028-480c28d312bf\",\"type\":\"LinearAxis\"}],\"legend\":null,\"renderers\":[{\"id\":\"89bc1e3d-b891-4c67-bd6e-92d73678e938\",\"type\":\"BoxAnnotation\"},{\"id\":\"527c7bbf-af9f-4810-9ded-57a2a71dbaad\",\"type\":\"GlyphRenderer\"},{\"id\":\"72f34965-56ca-47be-83e4-0c6615d27a19\",\"type\":\"GlyphRenderer\"},{\"id\":\"2ae9f792-3dbe-4af3-913c-bf376d625c88\",\"type\":\"GlyphRenderer\"},{\"id\":\"0ebb277a-7c67-4d02-b9ab-e0faab4c8dd4\",\"type\":\"GlyphRenderer\"},{\"id\":\"252a5bef-88e1-482c-9a31-c22d6120e967\",\"type\":\"GlyphRenderer\"},{\"id\":\"296f9ab9-2604-4d38-9f91-bed08a98db92\",\"type\":\"GlyphRenderer\"},{\"id\":\"5a5166a7-cb24-4b02-9e36-fcc1c1652ad9\",\"type\":\"GlyphRenderer\"},{\"id\":\"52a93fac-559c-4ff9-b3fd-c1a569f7fdeb\",\"type\":\"GlyphRenderer\"},{\"id\":\"dc3a37f2-6674-47f8-ad2c-01ef478fd6f7\",\"type\":\"GlyphRenderer\"},{\"id\":\"2fad894a-3224-410b-9f3e-933777e890dc\",\"type\":\"GlyphRenderer\"},{\"id\":\"f42e1e00-b8a7-4978-a7e6-118c2eeb06b9\",\"type\":\"GlyphRenderer\"},{\"id\":\"eaba13d1-23a4-4823-88b8-b41d0cd5dc79\",\"type\":\"GlyphRenderer\"},{\"id\":\"185af444-eb58-4259-a294-ad17dda41512\",\"type\":\"GlyphRenderer\"},{\"id\":\"a3b7ef16-5a97-4675-acb4-3584685538c5\",\"type\":\"GlyphRenderer\"},{\"id\":\"bbdc98f1-56c3-42fd-8dce-90742c2fb689\",\"type\":\"GlyphRenderer\"},{\"id\":\"e6db65cf-4040-47d7-9439-638d6447cc9b\",\"type\":\"GlyphRenderer\"},{\"id\":\"4376de08-9c44-4f30-9ebd-0921a1ebd9e7\",\"type\":\"GlyphRenderer\"},{\"id\":\"f2ce52c7-85f5-44f7-a22d-0632dcd32313\",\"type\":\"GlyphRenderer\"},{\"id\":\"daa71b23-7b85-450e-9722-a7ca03ea7885\",\"type\":\"GlyphRenderer\"},{\"id\":\"89ff9c23-c747-492d-8ad2-8cd5c36be3b8\",\"type\":\"GlyphRenderer\"},{\"id\":\"858fa48f-a8af-43e7-892c-0547379ae345\",\"type\":\"GlyphRenderer\"},{\"id\":\"5017d11d-239c-4b4b-8268-e2298f7ff08b\",\"type\":\"GlyphRenderer\"},{\"id\":\"abc586e8-68a6-45dd-a40f-4e0befb57bac\",\"type\":\"GlyphRenderer\"},{\"id\":\"986b29d1-6af9-4757-989d-76d831628c95\",\"type\":\"GlyphRenderer\"},{\"id\":\"e167649c-f3f4-4f7a-8863-167898a433c4\",\"type\":\"GlyphRenderer\"},{\"id\":\"36a337f6-ee6e-47a0-ba6c-facc0d0e18a1\",\"type\":\"GlyphRenderer\"},{\"id\":\"5ba255bd-718e-42f0-a590-eeccccf8f91a\",\"type\":\"GlyphRenderer\"},{\"id\":\"710695f6-b463-49ec-8eff-53959fd0ce48\",\"type\":\"GlyphRenderer\"},{\"id\":\"20341379-2f02-4ff7-83be-901a2636833d\",\"type\":\"GlyphRenderer\"},{\"id\":\"cdbf2299-5fa3-4cf9-9b58-5ba2a4ab94ed\",\"type\":\"GlyphRenderer\"},{\"id\":\"3f7f0892-71dc-49e5-ac03-61ad09964c41\",\"type\":\"GlyphRenderer\"},{\"id\":\"9438826e-8bb5-4985-baa7-1145c90fea70\",\"type\":\"GlyphRenderer\"},{\"id\":\"b4db47a9-0673-4a85-bb5f-91b9d2b6c90b\",\"type\":\"GlyphRenderer\"},{\"id\":\"b70f57cc-0cec-4a6d-8716-ea7880803823\",\"type\":\"CategoricalAxis\"},{\"id\":\"a7dd6cb6-4220-4e7d-8028-480c28d312bf\",\"type\":\"LinearAxis\"},{\"id\":\"920db70c-d286-4d82-8697-c3da85cb5361\",\"type\":\"Grid\"}],\"title\":\"Number of deaths from ebola per country\",\"title_text_font_size\":{\"value\":\"14pt\"},\"tool_events\":{\"id\":\"d4acf366-5a9b-43c2-a1c4-2fe010ae2cf3\",\"type\":\"ToolEvents\"},\"tools\":[{\"id\":\"9b5cb4aa-23ae-4be6-8105-5c8a34d857b8\",\"type\":\"PanTool\"},{\"id\":\"1e9fd05c-6d52-4cbf-a4f2-d5018f0d899d\",\"type\":\"WheelZoomTool\"},{\"id\":\"e733b668-5a85-4eb1-a400-2b6db066a834\",\"type\":\"BoxZoomTool\"},{\"id\":\"bb920a80-13cf-4a57-ac6d-f799a05c4ef9\",\"type\":\"PreviewSaveTool\"},{\"id\":\"5e74dd2a-bb09-4c9a-be5a-5786398db353\",\"type\":\"ResizeTool\"},{\"id\":\"bd828c43-806b-46fc-9e82-222e59f32f37\",\"type\":\"ResetTool\"},{\"id\":\"2e71ce2c-19e8-4445-87c3-ad21a78c0845\",\"type\":\"HelpTool\"}],\"x_mapper_type\":\"auto\",\"x_range\":{\"id\":\"a7e8ede0-4668-459a-9aab-53c2647df6e8\",\"type\":\"FactorRange\"},\"xgrid\":false,\"xscale\":\"auto\",\"y_mapper_type\":\"auto\",\"y_range\":{\"id\":\"50a6bc8f-c94c-44e1-aab8-755f07556700\",\"type\":\"Range1d\"},\"yscale\":\"auto\"},\"id\":\"fe62edd8-a33e-4d82-b09b-abb87bd082b9\",\"subtype\":\"Chart\",\"type\":\"Plot\"},{\"attributes\":{\"plot\":{\"id\":\"fe62edd8-a33e-4d82-b09b-abb87bd082b9\",\"subtype\":\"Chart\",\"type\":\"Plot\"}},\"id\":\"bb920a80-13cf-4a57-ac6d-f799a05c4ef9\",\"type\":\"PreviewSaveTool\"},{\"attributes\":{\"fill_alpha\":{\"field\":\"fill_alpha\"},\"fill_color\":{\"field\":\"color\"},\"height\":{\"field\":\"height\",\"units\":\"data\"},\"line_color\":{\"field\":\"line_color\"},\"width\":{\"field\":\"width\",\"units\":\"data\"},\"x\":{\"field\":\"x\"},\"y\":{\"field\":\"y\"}},\"id\":\"8df964ce-43ee-4ea5-95aa-d68eb14b9972\",\"type\":\"Rect\"},{\"attributes\":{\"callback\":null,\"column_names\":[\"line_color\",\"line_alpha\",\"color\",\"fill_alpha\",\"height\",\"width\",\"y\",\"x\"],\"data\":{\"chart_index\":[{\"index\":\"South Africa\"}],\"color\":[\"navy\"],\"fill_alpha\":[0.8],\"height\":[3.0303030303030303],\"index\":[\"South Africa\"],\"line_alpha\":[1.0],\"line_color\":[\"white\"],\"width\":[0.8],\"x\":[\"South Africa\"],\"y\":[1.5151515151515151]}},\"id\":\"f2d81cc9-0c35-40bd-9cde-049761d42fde\",\"type\":\"ColumnDataSource\"},{\"attributes\":{},\"id\":\"7bc000e1-c083-4fcc-ad61-9f1c78655fca\",\"type\":\"CategoricalTicker\"},{\"attributes\":{\"axis_label\":\"Sum( Proportions Of Outbreaks (%) )\",\"formatter\":{\"id\":\"eb8f591a-c49f-43c6-a76a-b3a69d5415b9\",\"type\":\"BasicTickFormatter\"},\"plot\":{\"id\":\"cc8e96b1-62d9-420e-9d68-d051369086e9\",\"subtype\":\"Chart\",\"type\":\"Plot\"},\"ticker\":{\"id\":\"47e3eec0-0e19-44bf-8266-07d8891ce8fb\",\"type\":\"BasicTicker\"}},\"id\":\"3a482e4d-7aea-40f7-8e31-7e5648e33852\",\"type\":\"LinearAxis\"},{\"attributes\":{\"overlay\":{\"id\":\"65c8d844-0a1c-4e1e-88ed-3ef3d7023d4b\",\"type\":\"BoxAnnotation\"},\"plot\":{\"id\":\"b54cb84a-7ef1-4cd9-9084-c738af7d0391\",\"subtype\":\"Chart\",\"type\":\"Plot\"}},\"id\":\"417f6355-db24-4485-aa29-0ff0c95f52d2\",\"type\":\"BoxZoomTool\"},{\"attributes\":{\"callback\":null,\"column_names\":[\"line_color\",\"line_alpha\",\"color\",\"fill_alpha\",\"height\",\"width\",\"y\",\"x\"],\"data\":{\"chart_index\":[{\"index\":\"Sudan (South Sudan)\"}],\"color\":[\"navy\"],\"fill_alpha\":[0.8],\"height\":[9.090909090909092],\"index\":[\"Sudan (South Sudan)\"],\"line_alpha\":[1.0],\"line_color\":[\"white\"],\"width\":[0.8],\"x\":[\"Sudan (South Sudan)\"],\"y\":[4.545454545454546]}},\"id\":\"e5c395c7-845f-4d85-b0af-777a2c21a5fa\",\"type\":\"ColumnDataSource\"},{\"attributes\":{\"plot\":{\"id\":\"fe62edd8-a33e-4d82-b09b-abb87bd082b9\",\"subtype\":\"Chart\",\"type\":\"Plot\"}},\"id\":\"9b5cb4aa-23ae-4be6-8105-5c8a34d857b8\",\"type\":\"PanTool\"},{\"attributes\":{\"line_color\":{\"value\":\"#00ad9c\"},\"line_width\":{\"value\":2},\"x0\":{\"field\":\"x0s\"},\"x1\":{\"field\":\"x1s\"},\"y0\":{\"field\":\"y0s\"},\"y1\":{\"field\":\"y1s\"}},\"id\":\"9e89239c-cea6-4fe7-ac14-cf17c2722c27\",\"type\":\"Segment\"},{\"attributes\":{\"data_source\":{\"id\":\"901ad97f-643b-449f-bad6-613802dea6cc\",\"type\":\"ColumnDataSource\"},\"glyph\":{\"id\":\"435c1052-7c1b-44c5-a72b-f7b9808232c7\",\"type\":\"Rect\"},\"hover_glyph\":null,\"nonselection_glyph\":null,\"selection_glyph\":null},\"id\":\"ca7fe468-d40b-45b9-91e9-c9b0c7d5541e\",\"type\":\"GlyphRenderer\"},{\"attributes\":{\"data_source\":{\"id\":\"1c727db1-f29a-4bdd-9519-5cce9c2c9715\",\"type\":\"ColumnDataSource\"},\"glyph\":{\"id\":\"56a53377-03fe-4631-842a-cf0bb5781209\",\"type\":\"Rect\"},\"hover_glyph\":null,\"nonselection_glyph\":null,\"selection_glyph\":null},\"id\":\"aa14c14c-c822-4511-84e8-fa4284c8a924\",\"type\":\"GlyphRenderer\"},{\"attributes\":{\"callback\":null,\"column_names\":[\"x0s\",\"y0s\",\"x1s\",\"y1s\"],\"data\":{\"chart_index\":[{\"country_name\":\"Uganda\"},{\"country_name\":\"Uganda\"},{\"country_name\":\"Uganda\"},{\"country_name\":\"Uganda\"}],\"country_name\":[\"Uganda\",\"Uganda\",\"Uganda\",\"Uganda\"],\"x0s\":[\"Uganda:0.5\",\"Uganda:0.65\",\"Uganda:0.5\",\"Uganda:0.65\"],\"x1s\":[\"Uganda:0.5\",\"Uganda:0.35\",\"Uganda:0.5\",\"Uganda:0.35\"],\"y0s\":[1.0,1.0,149.0,363.5],\"y1s\":[6.0,1.0,363.5,363.5]}},\"id\":\"9541b53d-0444-4ee6-975b-23c95cea62eb\",\"type\":\"ColumnDataSource\"},{\"attributes\":{\"callback\":null,\"column_names\":[\"line_color\",\"line_alpha\",\"color\",\"fill_alpha\",\"height\",\"width\",\"y\",\"x\"],\"data\":{\"chart_index\":[{\"index\":\"Italy\"}],\"color\":[\"navy\"],\"fill_alpha\":[0.8],\"height\":[3.0303030303030303],\"index\":[\"Italy\"],\"line_alpha\":[1.0],\"line_color\":[\"white\"],\"width\":[0.8],\"x\":[\"Italy\"],\"y\":[1.5151515151515151]}},\"id\":\"c8044c38-2550-4d3d-bd5d-13a05fcac2b3\",\"type\":\"ColumnDataSource\"},{\"attributes\":{\"dimension\":1,\"plot\":{\"id\":\"b54cb84a-7ef1-4cd9-9084-c738af7d0391\",\"subtype\":\"Chart\",\"type\":\"Plot\"},\"ticker\":{\"id\":\"6b29c076-abba-4998-ab22-bac588a72f29\",\"type\":\"BasicTicker\"}},\"id\":\"e9804e5f-f8d0-4216-9809-11ca4f07103d\",\"type\":\"Grid\"},{\"attributes\":{\"fill_alpha\":{\"field\":\"fill_alpha\"},\"fill_color\":{\"field\":\"color\"},\"height\":{\"field\":\"height\",\"units\":\"data\"},\"line_color\":{\"field\":\"line_color\"},\"width\":{\"field\":\"width\",\"units\":\"data\"},\"x\":{\"field\":\"x\"},\"y\":{\"field\":\"y\"}},\"id\":\"41918915-4686-4641-b89a-637a526e013d\",\"type\":\"Rect\"},{\"attributes\":{\"line_color\":{\"value\":\"#00ad9c\"},\"line_width\":{\"value\":2},\"x0\":{\"field\":\"x0s\"},\"x1\":{\"field\":\"x1s\"},\"y0\":{\"field\":\"y0s\"},\"y1\":{\"field\":\"y1s\"}},\"id\":\"65296be3-57d1-416c-8126-e816ff79192f\",\"type\":\"Segment\"},{\"attributes\":{\"fill_alpha\":{\"field\":\"fill_alpha\"},\"fill_color\":{\"field\":\"color\"},\"height\":{\"field\":\"height\",\"units\":\"data\"},\"line_color\":{\"field\":\"line_color\"},\"width\":{\"field\":\"width\",\"units\":\"data\"},\"x\":{\"field\":\"x\"},\"y\":{\"field\":\"y\"}},\"id\":\"56a53377-03fe-4631-842a-cf0bb5781209\",\"type\":\"Rect\"},{\"attributes\":{\"callback\":null,\"column_names\":[\"line_color\",\"line_alpha\",\"color\",\"fill_alpha\",\"height\",\"width\",\"y\",\"x\"],\"data\":{\"chart_index\":[{\"index\":\"England\"}],\"color\":[\"navy\"],\"fill_alpha\":[0.8],\"height\":[3.0303030303030303],\"index\":[\"England\"],\"line_alpha\":[1.0],\"line_color\":[\"white\"],\"width\":[0.8],\"x\":[\"England\"],\"y\":[1.5151515151515151]}},\"id\":\"e80a0b5d-2b7c-412e-b2ad-735dcaeb63d7\",\"type\":\"ColumnDataSource\"},{\"attributes\":{\"plot\":{\"id\":\"cc8e96b1-62d9-420e-9d68-d051369086e9\",\"subtype\":\"Chart\",\"type\":\"Plot\"}},\"id\":\"ad0855fe-02d2-41d3-b49d-507b3b64cfdd\",\"type\":\"ResizeTool\"},{\"attributes\":{\"line_color\":{\"value\":\"#f22c40\"},\"line_width\":{\"value\":2},\"x0\":{\"field\":\"x0s\"},\"x1\":{\"field\":\"x1s\"},\"y0\":{\"field\":\"y0s\"},\"y1\":{\"field\":\"y1s\"}},\"id\":\"6873f2fe-545e-4cb7-9f8c-f2f76ee9aa97\",\"type\":\"Segment\"},{\"attributes\":{\"callback\":null,\"column_names\":[\"line_color\",\"line_alpha\",\"color\",\"fill_alpha\",\"height\",\"width\",\"y\",\"x\"],\"data\":{\"chart_index\":[{\"country_name\":\"Russia\"}],\"color\":[\"DimGrey\"],\"country_name\":[\"Russia\"],\"fill_alpha\":[0.8],\"height\":[0.0],\"line_alpha\":[1.0],\"line_color\":[\"black\"],\"width\":[0.8],\"x\":[\"Russia\"],\"y\":[1.0]}},\"id\":\"b897501b-83c6-4c29-a5cb-0673215289f4\",\"type\":\"ColumnDataSource\"},{\"attributes\":{\"data_source\":{\"id\":\"f797e605-dba7-448a-abbf-53e8ea80e1c4\",\"type\":\"ColumnDataSource\"},\"glyph\":{\"id\":\"82a9e8f2-8768-48da-8372-ac8575e2de45\",\"type\":\"Rect\"},\"hover_glyph\":null,\"nonselection_glyph\":null,\"selection_glyph\":null},\"id\":\"20341379-2f02-4ff7-83be-901a2636833d\",\"type\":\"GlyphRenderer\"},{\"attributes\":{\"data_source\":{\"id\":\"ae9ae327-8c27-4a10-a4a0-d9b7243f5682\",\"type\":\"ColumnDataSource\"},\"glyph\":{\"id\":\"6873f2fe-545e-4cb7-9f8c-f2f76ee9aa97\",\"type\":\"Segment\"},\"hover_glyph\":null,\"nonselection_glyph\":null,\"selection_glyph\":null},\"id\":\"2ae9f792-3dbe-4af3-913c-bf376d625c88\",\"type\":\"GlyphRenderer\"},{\"attributes\":{},\"id\":\"f76c567d-2cca-493d-a79a-c2ce164fb31f\",\"type\":\"ToolEvents\"},{\"attributes\":{\"callback\":null,\"column_names\":[\"x0s\",\"y0s\",\"x1s\",\"y1s\"],\"data\":{\"chart_index\":[{\"country_name\":\"USA\"},{\"country_name\":\"USA\"},{\"country_name\":\"USA\"},{\"country_name\":\"USA\"}],\"country_name\":[\"USA\",\"USA\",\"USA\",\"USA\"],\"x0s\":[\"USA:0.5\",\"USA:0.65\",\"USA:0.5\",\"USA:0.65\"],\"x1s\":[\"USA:0.5\",\"USA:0.35\",\"USA:0.5\",\"USA:0.35\"],\"y0s\":[0.0,0.0,2.0,4.0],\"y1s\":[0.0,0.0,4.0,4.0]}},\"id\":\"4d6a3652-d4c7-4268-bfbc-5691b6c4d004\",\"type\":\"ColumnDataSource\"},{\"attributes\":{\"data_source\":{\"id\":\"7d0993f9-83ff-4b99-b7d0-a768f11d6c4a\",\"type\":\"ColumnDataSource\"},\"glyph\":{\"id\":\"97bbf37e-85dc-4737-910f-d195044b2f44\",\"type\":\"Rect\"},\"hover_glyph\":null,\"nonselection_glyph\":null,\"selection_glyph\":null},\"id\":\"72caa64c-4854-4d7a-bb13-14bc3d718de4\",\"type\":\"GlyphRenderer\"},{\"attributes\":{\"fill_alpha\":{\"field\":\"fill_alpha\"},\"fill_color\":{\"field\":\"color\"},\"height\":{\"field\":\"height\",\"units\":\"data\"},\"line_color\":{\"field\":\"line_color\"},\"width\":{\"field\":\"width\",\"units\":\"data\"},\"x\":{\"field\":\"x\"},\"y\":{\"field\":\"y\"}},\"id\":\"98b70e61-cda6-4fb6-b6f4-b9ae0154bfd2\",\"type\":\"Rect\"},{\"attributes\":{\"fill_alpha\":{\"field\":\"fill_alpha\"},\"fill_color\":{\"field\":\"color\"},\"height\":{\"field\":\"height\",\"units\":\"data\"},\"line_color\":{\"field\":\"line_color\"},\"width\":{\"field\":\"width\",\"units\":\"data\"},\"x\":{\"field\":\"x\"},\"y\":{\"field\":\"y\"}},\"id\":\"82a9e8f2-8768-48da-8372-ac8575e2de45\",\"type\":\"Rect\"},{\"attributes\":{\"fill_alpha\":{\"field\":\"fill_alpha\"},\"fill_color\":{\"field\":\"color\"},\"height\":{\"field\":\"height\",\"units\":\"data\"},\"line_color\":{\"field\":\"line_color\"},\"width\":{\"field\":\"width\",\"units\":\"data\"},\"x\":{\"field\":\"x\"},\"y\":{\"field\":\"y\"}},\"id\":\"c0bce1bd-4949-4ac7-a6c2-658ae61645d9\",\"type\":\"Rect\"},{\"attributes\":{\"fill_alpha\":{\"field\":\"fill_alpha\"},\"fill_color\":{\"field\":\"color\"},\"height\":{\"field\":\"height\",\"units\":\"data\"},\"line_color\":{\"field\":\"line_color\"},\"width\":{\"field\":\"width\",\"units\":\"data\"},\"x\":{\"field\":\"x\"},\"y\":{\"field\":\"y\"}},\"id\":\"30d49db4-46b2-4f5b-991b-29d4a0b8c463\",\"type\":\"Rect\"},{\"attributes\":{\"fill_alpha\":{\"field\":\"fill_alpha\"},\"fill_color\":{\"field\":\"color\"},\"height\":{\"field\":\"height\",\"units\":\"data\"},\"line_color\":{\"field\":\"line_color\"},\"width\":{\"field\":\"width\",\"units\":\"data\"},\"x\":{\"field\":\"x\"},\"y\":{\"field\":\"y\"}},\"id\":\"dfde2b22-cb7b-42c4-be03-fb01d317c7a0\",\"type\":\"Rect\"},{\"attributes\":{\"callback\":null,\"column_names\":[\"x0s\",\"y0s\",\"x1s\",\"y1s\"],\"data\":{\"chart_index\":[{\"country_name\":\"Philippines\"},{\"country_name\":\"Philippines\"},{\"country_name\":\"Philippines\"},{\"country_name\":\"Philippines\"}],\"country_name\":[\"Philippines\",\"Philippines\",\"Philippines\",\"Philippines\"],\"x0s\":[\"Philippines:0.5\",\"Philippines:0.65\",\"Philippines:0.5\",\"Philippines:0.65\"],\"x1s\":[\"Philippines:0.5\",\"Philippines:0.35\",\"Philippines:0.5\",\"Philippines:0.35\"],\"y0s\":[0.0,0.0,0.0,0.0],\"y1s\":[0.0,0.0,0.0,0.0]}},\"id\":\"98ae103f-5e09-4c13-94a1-5f2d81b6891a\",\"type\":\"ColumnDataSource\"},{\"attributes\":{\"callback\":null,\"column_names\":[\"x0s\",\"y0s\",\"x1s\",\"y1s\"],\"data\":{\"chart_index\":[{\"country_name\":\"England\"},{\"country_name\":\"England\"},{\"country_name\":\"England\"},{\"country_name\":\"England\"}],\"country_name\":[\"England\",\"England\",\"England\",\"England\"],\"x0s\":[\"England:0.5\",\"England:0.65\",\"England:0.5\",\"England:0.65\"],\"x1s\":[\"England:0.5\",\"England:0.35\",\"England:0.5\",\"England:0.35\"],\"y0s\":[0.0,0.0,0.0,0.0],\"y1s\":[0.0,0.0,0.0,0.0]}},\"id\":\"aa609a1f-062a-42f1-952d-3b630fb4e1ec\",\"type\":\"ColumnDataSource\"},{\"attributes\":{\"fill_alpha\":{\"field\":\"fill_alpha\"},\"fill_color\":{\"field\":\"color\"},\"height\":{\"field\":\"height\",\"units\":\"data\"},\"line_color\":{\"field\":\"line_color\"},\"width\":{\"field\":\"width\",\"units\":\"data\"},\"x\":{\"field\":\"x\"},\"y\":{\"field\":\"y\"}},\"id\":\"0cc18db7-4790-49c8-8409-0628f468b664\",\"type\":\"Rect\"},{\"attributes\":{\"callback\":null,\"column_names\":[\"line_color\",\"line_alpha\",\"color\",\"fill_alpha\",\"height\",\"width\",\"y\",\"x\"],\"data\":{\"chart_index\":[{\"country_name\":\"Gabon\"}],\"color\":[\"DimGrey\"],\"country_name\":[\"Gabon\"],\"fill_alpha\":[0.8],\"height\":[9.5],\"line_alpha\":[1.0],\"line_color\":[\"black\"],\"width\":[0.8],\"x\":[\"Gabon\"],\"y\":[33.25]}},\"id\":\"0d5b9118-7dc5-4766-a7fb-f191f98dfa2d\",\"type\":\"ColumnDataSource\"},{\"attributes\":{\"callback\":null,\"column_names\":[\"line_color\",\"line_alpha\",\"color\",\"fill_alpha\",\"height\",\"width\",\"y\",\"x\"],\"data\":{\"chart_index\":[{\"country_name\":\"Democratic Republic of the Congo\"}],\"color\":[\"DimGrey\"],\"country_name\":[\"Democratic Republic of the Congo\"],\"fill_alpha\":[0.8],\"height\":[28.0],\"line_alpha\":[1.0],\"line_color\":[\"black\"],\"width\":[0.8],\"x\":[\"Democratic Republic of the Congo\"],\"y\":[29.0]}},\"id\":\"e9a7fcfb-e4bd-43c9-8902-75823d6371ee\",\"type\":\"ColumnDataSource\"},{\"attributes\":{\"callback\":null,\"column_names\":[\"line_color\",\"line_alpha\",\"color\",\"fill_alpha\",\"height\",\"width\",\"y\",\"x\"],\"data\":{\"chart_index\":[{\"country_name\":\"Cote d'Ivoire (Ivory Coast)\"}],\"color\":[\"DimGrey\"],\"country_name\":[\"Cote d'Ivoire (Ivory Coast)\"],\"fill_alpha\":[0.8],\"height\":[0.0],\"line_alpha\":[1.0],\"line_color\":[\"black\"],\"width\":[0.8],\"x\":[\"Cote d'Ivoire (Ivory Coast)\"],\"y\":[0.0]}},\"id\":\"b0edd9c6-bbae-458e-841e-c45267634d6c\",\"type\":\"ColumnDataSource\"},{\"attributes\":{\"line_color\":{\"value\":\"#407ee7\"},\"line_width\":{\"value\":2},\"x0\":{\"field\":\"x0s\"},\"x1\":{\"field\":\"x1s\"},\"y0\":{\"field\":\"y0s\"},\"y1\":{\"field\":\"y1s\"}},\"id\":\"d03679e2-b71f-4f0b-b4a1-5db16c301fc5\",\"type\":\"Segment\"},{\"attributes\":{\"data_source\":{\"id\":\"66262a1a-5ae6-46a6-b075-6ad6b659ba20\",\"type\":\"ColumnDataSource\"},\"glyph\":{\"id\":\"ed4a24d2-0bfb-4943-bb1d-face62e78c5f\",\"type\":\"Segment\"},\"hover_glyph\":null,\"nonselection_glyph\":null,\"selection_glyph\":null},\"id\":\"cdbf2299-5fa3-4cf9-9b58-5ba2a4ab94ed\",\"type\":\"GlyphRenderer\"},{\"attributes\":{\"callback\":null,\"column_names\":[\"line_color\",\"line_alpha\",\"color\",\"fill_alpha\",\"height\",\"width\",\"y\",\"x\"],\"data\":{\"chart_index\":[{\"country_name\":\"Italy\"}],\"color\":[\"DimGrey\"],\"country_name\":[\"Italy\"],\"fill_alpha\":[0.8],\"height\":[0.0],\"line_alpha\":[1.0],\"line_color\":[\"black\"],\"width\":[0.8],\"x\":[\"Italy\"],\"y\":[0.0]}},\"id\":\"a6d008c3-c59b-4763-9f9c-6783df984d08\",\"type\":\"ColumnDataSource\"},{\"attributes\":{\"fill_alpha\":{\"field\":\"fill_alpha\"},\"fill_color\":{\"field\":\"color\"},\"height\":{\"field\":\"height\",\"units\":\"data\"},\"line_color\":{\"field\":\"line_color\"},\"width\":{\"field\":\"width\",\"units\":\"data\"},\"x\":{\"field\":\"x\"},\"y\":{\"field\":\"y\"}},\"id\":\"97bbf37e-85dc-4737-910f-d195044b2f44\",\"type\":\"Rect\"},{\"attributes\":{\"data_source\":{\"id\":\"05f4e481-2083-4c3d-b995-45a93370252a\",\"type\":\"ColumnDataSource\"},\"glyph\":{\"id\":\"b11cbcf3-532d-4f50-8636-f51ac0dd7c53\",\"type\":\"Rect\"},\"hover_glyph\":null,\"nonselection_glyph\":null,\"selection_glyph\":null},\"id\":\"3f7f0892-71dc-49e5-ac03-61ad09964c41\",\"type\":\"GlyphRenderer\"},{\"attributes\":{},\"id\":\"6458e7ce-9e42-4c86-8876-e5912bd31834\",\"type\":\"CategoricalTickFormatter\"},{\"attributes\":{\"callback\":null,\"column_names\":[\"line_color\",\"line_alpha\",\"color\",\"fill_alpha\",\"height\",\"width\",\"y\",\"x\"],\"data\":{\"chart_index\":[{\"index\":\"Cote d'Ivoire (Ivory Coast)\"}],\"color\":[\"navy\"],\"fill_alpha\":[0.8],\"height\":[3.0303030303030303],\"index\":[\"Cote d'Ivoire (Ivory Coast)\"],\"line_alpha\":[1.0],\"line_color\":[\"white\"],\"width\":[0.8],\"x\":[\"Cote d'Ivoire (Ivory Coast)\"],\"y\":[1.5151515151515151]}},\"id\":\"3c0c9e12-4054-40e8-88a9-809836c584e1\",\"type\":\"ColumnDataSource\"},{\"attributes\":{\"line_color\":{\"value\":\"#f22c40\"},\"line_width\":{\"value\":2},\"x0\":{\"field\":\"x0s\"},\"x1\":{\"field\":\"x1s\"},\"y0\":{\"field\":\"y0s\"},\"y1\":{\"field\":\"y1s\"}},\"id\":\"ed4a24d2-0bfb-4943-bb1d-face62e78c5f\",\"type\":\"Segment\"},{\"attributes\":{\"callback\":null,\"column_names\":[\"x0s\",\"y0s\",\"x1s\",\"y1s\"],\"data\":{\"chart_index\":[{\"country_name\":\"Russia\"},{\"country_name\":\"Russia\"},{\"country_name\":\"Russia\"},{\"country_name\":\"Russia\"}],\"country_name\":[\"Russia\",\"Russia\",\"Russia\",\"Russia\"],\"x0s\":[\"Russia:0.5\",\"Russia:0.65\",\"Russia:0.5\",\"Russia:0.65\"],\"x1s\":[\"Russia:0.5\",\"Russia:0.35\",\"Russia:0.5\",\"Russia:0.35\"],\"y0s\":[1.0,1.0,1.0,1.0],\"y1s\":[1.0,1.0,1.0,1.0]}},\"id\":\"2c639230-9502-466f-a37d-e3b7082f97ba\",\"type\":\"ColumnDataSource\"},{\"attributes\":{\"callback\":null,\"column_names\":[\"x0s\",\"y0s\",\"x1s\",\"y1s\"],\"data\":{\"chart_index\":[{\"country_name\":\"Philippines\"},{\"country_name\":\"Philippines\"},{\"country_name\":\"Philippines\"},{\"country_name\":\"Philippines\"}],\"country_name\":[\"Philippines\",\"Philippines\",\"Philippines\",\"Philippines\"],\"x0s\":[\"Philippines:0.5\",\"Philippines:0.65\",\"Philippines:0.5\",\"Philippines:0.65\"],\"x1s\":[\"Philippines:0.5\",\"Philippines:0.35\",\"Philippines:0.5\",\"Philippines:0.35\"],\"y0s\":[0.0,0.0,4.5,6.0],\"y1s\":[1.5,0.0,6.0,6.0]}},\"id\":\"0bc14500-3351-4eed-85fa-4649a279571f\",\"type\":\"ColumnDataSource\"},{\"attributes\":{\"fill_alpha\":{\"field\":\"fill_alpha\"},\"fill_color\":{\"field\":\"color\"},\"height\":{\"field\":\"height\",\"units\":\"data\"},\"line_color\":{\"field\":\"line_color\"},\"width\":{\"field\":\"width\",\"units\":\"data\"},\"x\":{\"field\":\"x\"},\"y\":{\"field\":\"y\"}},\"id\":\"473b568e-f666-4578-9e55-539348ca6b4e\",\"type\":\"Rect\"},{\"attributes\":{\"callback\":null,\"column_names\":[\"line_color\",\"line_alpha\",\"color\",\"fill_alpha\",\"height\",\"width\",\"y\",\"x\"],\"data\":{\"chart_index\":[{\"index\":\"Uganda\"}],\"color\":[\"navy\"],\"fill_alpha\":[0.8],\"height\":[15.151515151515152],\"index\":[\"Uganda\"],\"line_alpha\":[1.0],\"line_color\":[\"white\"],\"width\":[0.8],\"x\":[\"Uganda\"],\"y\":[7.575757575757576]}},\"id\":\"bb1c1f02-e76b-419c-9803-3061e3c9796a\",\"type\":\"ColumnDataSource\"},{\"attributes\":{\"callback\":null,\"column_names\":[\"x0s\",\"y0s\",\"x1s\",\"y1s\"],\"data\":{\"chart_index\":[{\"country_name\":\"Cote d'Ivoire (Ivory Coast)\"},{\"country_name\":\"Cote d'Ivoire (Ivory Coast)\"},{\"country_name\":\"Cote d'Ivoire (Ivory Coast)\"},{\"country_name\":\"Cote d'Ivoire (Ivory Coast)\"}],\"country_name\":[\"Cote d'Ivoire (Ivory Coast)\",\"Cote d'Ivoire (Ivory Coast)\",\"Cote d'Ivoire (Ivory Coast)\",\"Cote d'Ivoire (Ivory Coast)\"],\"x0s\":[\"Cote d'Ivoire (Ivory Coast):0.5\",\"Cote d'Ivoire (Ivory Coast):0.65\",\"Cote d'Ivoire (Ivory Coast):0.5\",\"Cote d'Ivoire (Ivory Coast):0.65\"],\"x1s\":[\"Cote d'Ivoire (Ivory Coast):0.5\",\"Cote d'Ivoire (Ivory Coast):0.35\",\"Cote d'Ivoire (Ivory Coast):0.5\",\"Cote d'Ivoire (Ivory Coast):0.35\"],\"y0s\":[0.0,0.0,0.0,0.0],\"y1s\":[0.0,0.0,0.0,0.0]}},\"id\":\"66262a1a-5ae6-46a6-b075-6ad6b659ba20\",\"type\":\"ColumnDataSource\"},{\"attributes\":{\"data_source\":{\"id\":\"89fcff9c-a398-4172-987a-6f2cc96f4a45\",\"type\":\"ColumnDataSource\"},\"glyph\":{\"id\":\"65bfdd75-5bb5-451d-b4dd-8f3547972962\",\"type\":\"Segment\"},\"hover_glyph\":null,\"nonselection_glyph\":null,\"selection_glyph\":null},\"id\":\"eaba13d1-23a4-4823-88b8-b41d0cd5dc79\",\"type\":\"GlyphRenderer\"},{\"attributes\":{\"callback\":null,\"column_names\":[\"line_color\",\"line_alpha\",\"color\",\"fill_alpha\",\"height\",\"width\",\"y\",\"x\"],\"data\":{\"chart_index\":[{\"country_name\":\"Democratic Republic of the Congo\"}],\"color\":[\"DimGrey\"],\"country_name\":[\"Democratic Republic of the Congo\"],\"fill_alpha\":[0.8],\"height\":[144.0],\"line_alpha\":[1.0],\"line_color\":[\"black\"],\"width\":[0.8],\"x\":[\"Democratic Republic of the Congo\"],\"y\":[115.0]}},\"id\":\"e493aeef-1396-452f-ad9d-ec3891ae5c87\",\"type\":\"ColumnDataSource\"},{\"attributes\":{\"callback\":null,\"column_names\":[\"x0s\",\"y0s\",\"x1s\",\"y1s\"],\"data\":{\"chart_index\":[{\"country_name\":\"Russia\"},{\"country_name\":\"Russia\"},{\"country_name\":\"Russia\"},{\"country_name\":\"Russia\"}],\"country_name\":[\"Russia\",\"Russia\",\"Russia\",\"Russia\"],\"x0s\":[\"Russia:0.5\",\"Russia:0.65\",\"Russia:0.5\",\"Russia:0.65\"],\"x1s\":[\"Russia:0.5\",\"Russia:0.35\",\"Russia:0.5\",\"Russia:0.35\"],\"y0s\":[1.0,1.0,1.0,1.0],\"y1s\":[1.0,1.0,1.0,1.0]}},\"id\":\"ae9ae327-8c27-4a10-a4a0-d9b7243f5682\",\"type\":\"ColumnDataSource\"},{\"attributes\":{\"fill_alpha\":{\"field\":\"fill_alpha\"},\"fill_color\":{\"field\":\"color\"},\"height\":{\"field\":\"height\",\"units\":\"data\"},\"line_color\":{\"field\":\"line_color\"},\"width\":{\"field\":\"width\",\"units\":\"data\"},\"x\":{\"field\":\"x\"},\"y\":{\"field\":\"y\"}},\"id\":\"56c810bf-a278-42bf-8d5a-90b9951fe492\",\"type\":\"Rect\"},{\"attributes\":{\"callback\":null,\"factors\":[\"Cote d'Ivoire (Ivory Coast)\",\"Democratic Republic of the Congo\",\"England\",\"Gabon\",\"Italy\",\"Philippines\",\"Russia\",\"South Africa\",\"Sudan (South Sudan)\",\"USA\",\"Uganda\"]},\"id\":\"90a56e06-c9dd-45da-bad5-3e9454a1545b\",\"type\":\"FactorRange\"},{\"attributes\":{\"data_source\":{\"id\":\"230e4448-499a-4106-84e4-05809bafdfb1\",\"type\":\"ColumnDataSource\"},\"glyph\":{\"id\":\"65296be3-57d1-416c-8126-e816ff79192f\",\"type\":\"Segment\"},\"hover_glyph\":null,\"nonselection_glyph\":null,\"selection_glyph\":null},\"id\":\"aaaf4062-2583-4e95-9a6d-cc55f624348c\",\"type\":\"GlyphRenderer\"},{\"attributes\":{\"data_source\":{\"id\":\"e4deaad9-ab0d-4645-bf41-c28a9fa12bd6\",\"type\":\"ColumnDataSource\"},\"glyph\":{\"id\":\"41918915-4686-4641-b89a-637a526e013d\",\"type\":\"Rect\"},\"hover_glyph\":null,\"nonselection_glyph\":null,\"selection_glyph\":null},\"id\":\"e811b74f-6d89-43cf-9b2e-2a2f92f27432\",\"type\":\"GlyphRenderer\"},{\"attributes\":{\"callback\":null,\"column_names\":[\"line_color\",\"line_alpha\",\"color\",\"fill_alpha\",\"height\",\"width\",\"y\",\"x\"],\"data\":{\"chart_index\":[{\"country_name\":\"Uganda\"}],\"color\":[\"DimGrey\"],\"country_name\":[\"Uganda\"],\"fill_alpha\":[0.8],\"height\":[5.0],\"line_alpha\":[1.0],\"line_color\":[\"black\"],\"width\":[0.8],\"x\":[\"Uganda\"],\"y\":[8.5]}},\"id\":\"101060ed-c293-4d2c-b996-d5993c8f8fd7\",\"type\":\"ColumnDataSource\"},{\"attributes\":{\"fill_alpha\":{\"field\":\"fill_alpha\"},\"fill_color\":{\"field\":\"color\"},\"height\":{\"field\":\"height\",\"units\":\"data\"},\"line_color\":{\"field\":\"line_color\"},\"width\":{\"field\":\"width\",\"units\":\"data\"},\"x\":{\"field\":\"x\"},\"y\":{\"field\":\"y\"}},\"id\":\"a11d23c7-5547-4dac-bada-aaf738898bed\",\"type\":\"Rect\"},{\"attributes\":{\"dimension\":1,\"plot\":{\"id\":\"cc8e96b1-62d9-420e-9d68-d051369086e9\",\"subtype\":\"Chart\",\"type\":\"Plot\"},\"ticker\":{\"id\":\"47e3eec0-0e19-44bf-8266-07d8891ce8fb\",\"type\":\"BasicTicker\"}},\"id\":\"c51b42cc-a827-448d-976a-d2e4129bb007\",\"type\":\"Grid\"},{\"attributes\":{\"data_source\":{\"id\":\"65c6a946-607d-42a9-b828-8c570eb173bf\",\"type\":\"ColumnDataSource\"},\"glyph\":{\"id\":\"cee11752-c49b-42de-9ffd-3be241b7041f\",\"type\":\"Segment\"},\"hover_glyph\":null,\"nonselection_glyph\":null,\"selection_glyph\":null},\"id\":\"bbdc98f1-56c3-42fd-8dce-90742c2fb689\",\"type\":\"GlyphRenderer\"},{\"attributes\":{\"callback\":null,\"column_names\":[\"line_color\",\"line_alpha\",\"color\",\"fill_alpha\",\"height\",\"width\",\"y\",\"x\"],\"data\":{\"chart_index\":[{\"country_name\":\"Cote d'Ivoire (Ivory Coast)\"}],\"color\":[\"DimGrey\"],\"country_name\":[\"Cote d'Ivoire (Ivory Coast)\"],\"fill_alpha\":[0.8],\"height\":[0],\"line_alpha\":[1.0],\"line_color\":[\"black\"],\"width\":[0.8],\"x\":[\"Cote d'Ivoire (Ivory Coast)\"],\"y\":[1.0]}},\"id\":\"5b8ea214-9854-42ea-9ef7-8dddce5a34de\",\"type\":\"ColumnDataSource\"},{\"attributes\":{\"data_source\":{\"id\":\"9fcfd9d2-f369-4bca-a93e-6e297f9f41e6\",\"type\":\"ColumnDataSource\"},\"glyph\":{\"id\":\"a9d7b7ce-81ca-42c1-96b1-c5ca2f1f498e\",\"type\":\"Rect\"},\"hover_glyph\":null,\"nonselection_glyph\":null,\"selection_glyph\":null},\"id\":\"7e5b6d75-21a0-44f1-8a20-7f10a1f369b5\",\"type\":\"GlyphRenderer\"},{\"attributes\":{\"callback\":null,\"column_names\":[\"line_color\",\"line_alpha\",\"color\",\"fill_alpha\",\"height\",\"width\",\"y\",\"x\"],\"data\":{\"chart_index\":[{\"country_name\":\"Uganda\"}],\"color\":[\"DimGrey\"],\"country_name\":[\"Uganda\"],\"fill_alpha\":[0.8],\"height\":[1.0],\"line_alpha\":[1.0],\"line_color\":[\"black\"],\"width\":[0.8],\"x\":[\"Uganda\"],\"y\":[3.5]}},\"id\":\"e26be0c6-35ee-4877-8dfb-8ddfca0c85f4\",\"type\":\"ColumnDataSource\"},{\"attributes\":{\"line_color\":{\"value\":\"#407ee7\"},\"line_width\":{\"value\":2},\"x0\":{\"field\":\"x0s\"},\"x1\":{\"field\":\"x1s\"},\"y0\":{\"field\":\"y0s\"},\"y1\":{\"field\":\"y1s\"}},\"id\":\"75360bdf-bf62-40cc-933a-123ea038053b\",\"type\":\"Segment\"},{\"attributes\":{\"callback\":null,\"column_names\":[\"x0s\",\"y0s\",\"x1s\",\"y1s\"],\"data\":{\"chart_index\":[{\"country_name\":\"Democratic Republic of the Congo\"},{\"country_name\":\"Democratic Republic of the Congo\"},{\"country_name\":\"Democratic Republic of the Congo\"},{\"country_name\":\"Democratic Republic of the Congo\"}],\"country_name\":[\"Democratic Republic of the Congo\",\"Democratic Republic of the Congo\",\"Democratic Republic of the Congo\",\"Democratic Republic of the Congo\"],\"x0s\":[\"Democratic Republic of the Congo:0.5\",\"Democratic Republic of the Congo:0.65\",\"Democratic Republic of the Congo:0.5\",\"Democratic Republic of the Congo:0.65\"],\"x1s\":[\"Democratic Republic of the Congo:0.5\",\"Democratic Republic of the Congo:0.35\",\"Democratic Republic of the Congo:0.5\",\"Democratic Republic of the Congo:0.35\"],\"y0s\":[1.0,1.0,187.0,280.0],\"y1s\":[15.0,1.0,280.0,280.0]}},\"id\":\"65c6a946-607d-42a9-b828-8c570eb173bf\",\"type\":\"ColumnDataSource\"},{\"attributes\":{\"callback\":null,\"column_names\":[\"line_color\",\"line_alpha\",\"color\",\"fill_alpha\",\"height\",\"width\",\"y\",\"x\"],\"data\":{\"chart_index\":[{\"country_name\":\"Uganda\"}],\"color\":[\"DimGrey\"],\"country_name\":[\"Uganda\"],\"fill_alpha\":[0.8],\"height\":[138.0],\"line_alpha\":[1.0],\"line_color\":[\"black\"],\"width\":[0.8],\"x\":[\"Uganda\"],\"y\":[80.0]}},\"id\":\"db34ab03-342c-4def-9c08-6f04c6610f0b\",\"type\":\"ColumnDataSource\"},{\"attributes\":{\"callback\":null,\"column_names\":[\"x0s\",\"y0s\",\"x1s\",\"y1s\"],\"data\":{\"chart_index\":[{\"country_name\":\"USA\"},{\"country_name\":\"USA\"},{\"country_name\":\"USA\"},{\"country_name\":\"USA\"}],\"country_name\":[\"USA\",\"USA\",\"USA\",\"USA\"],\"x0s\":[\"USA:0.5\",\"USA:0.65\",\"USA:0.5\",\"USA:0.65\"],\"x1s\":[\"USA:0.5\",\"USA:0.35\",\"USA:0.5\",\"USA:0.35\"],\"y0s\":[0.0,0.0,0.0,0.0],\"y1s\":[0.0,0.0,0.0,0.0]}},\"id\":\"c986f198-40f5-4708-a858-b05ccef25c98\",\"type\":\"ColumnDataSource\"},{\"attributes\":{\"line_color\":{\"value\":\"#5ab738\"},\"line_width\":{\"value\":2},\"x0\":{\"field\":\"x0s\"},\"x1\":{\"field\":\"x1s\"},\"y0\":{\"field\":\"y0s\"},\"y1\":{\"field\":\"y1s\"}},\"id\":\"1f6adcad-9fc5-4707-91b2-ae1c33b75c3e\",\"type\":\"Segment\"},{\"attributes\":{\"callback\":null,\"column_names\":[\"x0s\",\"y0s\",\"x1s\",\"y1s\"],\"data\":{\"chart_index\":[{\"country_name\":\"England\"},{\"country_name\":\"England\"},{\"country_name\":\"England\"},{\"country_name\":\"England\"}],\"country_name\":[\"England\",\"England\",\"England\",\"England\"],\"x0s\":[\"England:0.5\",\"England:0.65\",\"England:0.5\",\"England:0.65\"],\"x1s\":[\"England:0.5\",\"England:0.35\",\"England:0.5\",\"England:0.35\"],\"y0s\":[1.0,1.0,1.0,1.0],\"y1s\":[1.0,1.0,1.0,1.0]}},\"id\":\"fcc5898e-0b1a-4c9e-bb6b-eb45ac1594f7\",\"type\":\"ColumnDataSource\"},{\"attributes\":{\"callback\":null,\"column_names\":[\"x0s\",\"y0s\",\"x1s\",\"y1s\"],\"data\":{\"chart_index\":[{\"country_name\":\"South Africa\"},{\"country_name\":\"South Africa\"},{\"country_name\":\"South Africa\"},{\"country_name\":\"South Africa\"}],\"country_name\":[\"South Africa\",\"South Africa\",\"South Africa\",\"South Africa\"],\"x0s\":[\"South Africa:0.5\",\"South Africa:0.65\",\"South Africa:0.5\",\"South Africa:0.65\"],\"x1s\":[\"South Africa:0.5\",\"South Africa:0.35\",\"South Africa:0.5\",\"South Africa:0.35\"],\"y0s\":[1.0,1.0,1.0,1.0],\"y1s\":[1.0,1.0,1.0,1.0]}},\"id\":\"5b8609d6-97eb-4067-ae3b-5e2028dc5d33\",\"type\":\"ColumnDataSource\"},{\"attributes\":{\"callback\":null,\"column_names\":[\"x0s\",\"y0s\",\"x1s\",\"y1s\"],\"data\":{\"chart_index\":[{\"country_name\":\"Sudan (South Sudan)\"},{\"country_name\":\"Sudan (South Sudan)\"},{\"country_name\":\"Sudan (South Sudan)\"},{\"country_name\":\"Sudan (South Sudan)\"}],\"country_name\":[\"Sudan (South Sudan)\",\"Sudan (South Sudan)\",\"Sudan (South Sudan)\",\"Sudan (South Sudan)\"],\"x0s\":[\"Sudan (South Sudan):0.5\",\"Sudan (South Sudan):0.65\",\"Sudan (South Sudan):0.5\",\"Sudan (South Sudan):0.65\"],\"x1s\":[\"Sudan (South Sudan):0.5\",\"Sudan (South Sudan):0.35\",\"Sudan (South Sudan):0.5\",\"Sudan (South Sudan):0.35\"],\"y0s\":[17.0,17.0,159.0,284.0],\"y1s\":[25.5,17.0,284.0,284.0]}},\"id\":\"498f2643-c4cc-4bb2-a1ea-0e247ccfd3e2\",\"type\":\"ColumnDataSource\"},{\"attributes\":{\"callback\":null,\"column_names\":[\"line_color\",\"line_alpha\",\"color\",\"fill_alpha\",\"height\",\"width\",\"y\",\"x\"],\"data\":{\"chart_index\":[{\"country_name\":\"South Africa\"}],\"color\":[\"DimGrey\"],\"country_name\":[\"South Africa\"],\"fill_alpha\":[0.8],\"height\":[0],\"line_alpha\":[1.0],\"line_color\":[\"black\"],\"width\":[0.8],\"x\":[\"South Africa\"],\"y\":[1.0]}},\"id\":\"ab9186d6-99b0-40c8-9c0f-ceb1e054517b\",\"type\":\"ColumnDataSource\"},{\"attributes\":{\"data_source\":{\"id\":\"4bb017f8-8863-42cc-91b3-569cb2a22e9c\",\"type\":\"ColumnDataSource\"},\"glyph\":{\"id\":\"793fbacc-9612-4e7e-a5b0-dac5717710f0\",\"type\":\"Rect\"},\"hover_glyph\":null,\"nonselection_glyph\":null,\"selection_glyph\":null},\"id\":\"4376de08-9c44-4f30-9ebd-0921a1ebd9e7\",\"type\":\"GlyphRenderer\"}],\"root_ids\":[\"cc8e96b1-62d9-420e-9d68-d051369086e9\",\"b54cb84a-7ef1-4cd9-9084-c738af7d0391\",\"fe62edd8-a33e-4d82-b09b-abb87bd082b9\"]},\"title\":\"Bokeh Application\",\"version\":\"0.11.1\"}};\n",
       "            var render_items = [{\"docid\":\"63816679-9d88-4496-9b7d-3be929c838af\",\"elementid\":\"12fec8d7-a755-4b78-b187-4f6770746211\",\"modelid\":\"fe62edd8-a33e-4d82-b09b-abb87bd082b9\",\"notebook_comms_target\":\"75f21de6-8e80-48de-9047-ff569aeb2fbd\"}];\n",
       "            \n",
       "            Bokeh.embed.embed_items(docs_json, render_items);\n",
       "        });\n",
       "      },\n",
       "      function(Bokeh) {\n",
       "      }\n",
       "    ];\n",
       "  \n",
       "    function run_inline_js() {\n",
       "      for (var i = 0; i < inline_js.length; i++) {\n",
       "        inline_js[i](window.Bokeh);\n",
       "      }\n",
       "    }\n",
       "  \n",
       "    if (window._bokeh_is_loading === 0) {\n",
       "      console.log(\"Bokeh: BokehJS loaded, going straight to plotting\");\n",
       "      run_inline_js();\n",
       "    } else {\n",
       "      load_libs(js_urls, function() {\n",
       "        console.log(\"Bokeh: BokehJS plotting callback run at\", now());\n",
       "        run_inline_js();\n",
       "      });\n",
       "    }\n",
       "  }(this));\n",
       "</script>"
      ]
     },
     "metadata": {},
     "output_type": "display_data"
    },
    {
     "data": {
      "text/html": [
       "<p><code>&lt;Bokeh Notebook handle for <strong>In[12]</strong>&gt;</code></p>"
      ],
      "text/plain": [
       "<bokeh.io._CommsHandle at 0x7f1d00021950>"
      ]
     },
     "execution_count": 12,
     "metadata": {},
     "output_type": "execute_result"
    }
   ],
   "source": [
    "box_ed = BoxPlot(df_ebola_victims, values=\"reported_number_of_deaths_among_cases\", \n",
    "                 label='country_name', title=\"Number of deaths from ebola per country\",\n",
    "                 outliers=False, whisker_color='country_name')\n",
    "\n",
    "output_notebook()\n",
    "output_file(\"deaths.html\", title=\"Number of deaths from ebola per country\")\n",
    "\n",
    "show(box_ed)"
   ]
  },
  {
   "cell_type": "markdown",
   "metadata": {},
   "source": [
    "* The number of victims (cases and deaths) tends to vary in one country depending on the outbreak\n",
    "* The number of victims seem to correlate with the number of outbreak except when looking at The USA and South Sudan.\n",
    "\n",
    "The number of victims could be due to the country's health system or the moment in time when the outbreak occurred.\n",
    "\n",
    "=> It be interested to plot the number of victims vs the number of outbreaks, a value from WHO representing countries health system score and to look at the number of victims over time"
   ]
  },
  {
   "cell_type": "markdown",
   "metadata": {
    "collapsed": true
   },
   "source": [
    "I'd like to look at: \n",
    "* number of human cases vs virus subtype\n",
    "* number of human deaths vs virus subtype\n",
    "* number of outbreaks vs number of human cases\n",
    "* number of outbreaks vs average length of outbreaks\n",
    "* number of human cases vs average length of outbreaks\n",
    "* look at the timeline of global outbreaks and outbreaks per affected country\n",
    "* look at the global state of the most frequently affected countries"
   ]
  },
  {
   "cell_type": "markdown",
   "metadata": {},
   "source": [
    "### Virus subtypes"
   ]
  },
  {
   "cell_type": "code",
   "execution_count": 30,
   "metadata": {
    "collapsed": false
   },
   "outputs": [
    {
     "data": {
      "text/html": [
       "<div>\n",
       "<table border=\"1\" class=\"dataframe\">\n",
       "  <thead>\n",
       "    <tr style=\"text-align: right;\">\n",
       "      <th></th>\n",
       "      <th>reported_number_of_human_cases</th>\n",
       "    </tr>\n",
       "    <tr>\n",
       "      <th>ebola_subtype</th>\n",
       "      <th></th>\n",
       "    </tr>\n",
       "  </thead>\n",
       "  <tbody>\n",
       "    <tr>\n",
       "      <th>Bundibugyo virus</th>\n",
       "      <td>185</td>\n",
       "    </tr>\n",
       "    <tr>\n",
       "      <th>Reston virus</th>\n",
       "      <td>13</td>\n",
       "    </tr>\n",
       "    <tr>\n",
       "      <th>Sudan virus</th>\n",
       "      <td>779</td>\n",
       "    </tr>\n",
       "    <tr>\n",
       "      <th>Taï Forest virus</th>\n",
       "      <td>1</td>\n",
       "    </tr>\n",
       "    <tr>\n",
       "      <th>Zaire virus</th>\n",
       "      <td>1383</td>\n",
       "    </tr>\n",
       "  </tbody>\n",
       "</table>\n",
       "</div>"
      ],
      "text/plain": [
       "                  reported_number_of_human_cases\n",
       "ebola_subtype                                   \n",
       "Bundibugyo virus                             185\n",
       "Reston virus                                  13\n",
       "Sudan virus                                  779\n",
       "Taï Forest virus                               1\n",
       "Zaire virus                                 1383"
      ]
     },
     "execution_count": 30,
     "metadata": {},
     "output_type": "execute_result"
    }
   ],
   "source": [
    "cases_by_subtype = ebola_data[[\"ebola_subtype\", \"reported_number_of_human_cases\"]].groupby([\"ebola_subtype\"]).sum()\n",
    "cases_by_subtype"
   ]
  },
  {
   "cell_type": "code",
   "execution_count": 36,
   "metadata": {
    "collapsed": false
   },
   "outputs": [
    {
     "data": {
      "text/html": [
       "<div>\n",
       "<table border=\"1\" class=\"dataframe\">\n",
       "  <thead>\n",
       "    <tr style=\"text-align: right;\">\n",
       "      <th></th>\n",
       "      <th>reported_number_of_human_cases</th>\n",
       "    </tr>\n",
       "    <tr>\n",
       "      <th>ebola_subtype</th>\n",
       "      <th></th>\n",
       "    </tr>\n",
       "  </thead>\n",
       "  <tbody>\n",
       "    <tr>\n",
       "      <th>Bundibugyo virus</th>\n",
       "      <td>7.835663</td>\n",
       "    </tr>\n",
       "    <tr>\n",
       "      <th>Reston virus</th>\n",
       "      <td>0.550614</td>\n",
       "    </tr>\n",
       "    <tr>\n",
       "      <th>Sudan virus</th>\n",
       "      <td>32.994494</td>\n",
       "    </tr>\n",
       "    <tr>\n",
       "      <th>Taï Forest virus</th>\n",
       "      <td>0.042355</td>\n",
       "    </tr>\n",
       "    <tr>\n",
       "      <th>Zaire virus</th>\n",
       "      <td>58.576874</td>\n",
       "    </tr>\n",
       "  </tbody>\n",
       "</table>\n",
       "</div>"
      ],
      "text/plain": [
       "                  reported_number_of_human_cases\n",
       "ebola_subtype                                   \n",
       "Bundibugyo virus                        7.835663\n",
       "Reston virus                            0.550614\n",
       "Sudan virus                            32.994494\n",
       "Taï Forest virus                        0.042355\n",
       "Zaire virus                            58.576874"
      ]
     },
     "execution_count": 36,
     "metadata": {},
     "output_type": "execute_result"
    }
   ],
   "source": [
    "total_cases_by_subtype = cases_by_subtype.sum()\n",
    "cases_subtype_percent = cases_by_subtype.mul(100).truediv(total_cases_by_subtype)\n",
    "\n",
    "cases_subtype_percent"
   ]
  },
  {
   "cell_type": "code",
   "execution_count": 37,
   "metadata": {
    "collapsed": false
   },
   "outputs": [
    {
     "data": {
      "text/html": [
       "<div>\n",
       "<table border=\"1\" class=\"dataframe\">\n",
       "  <thead>\n",
       "    <tr style=\"text-align: right;\">\n",
       "      <th></th>\n",
       "      <th>reported_number_of_deaths_among_cases</th>\n",
       "    </tr>\n",
       "    <tr>\n",
       "      <th>ebola_subtype</th>\n",
       "      <th></th>\n",
       "    </tr>\n",
       "  </thead>\n",
       "  <tbody>\n",
       "    <tr>\n",
       "      <th>Bundibugyo virus</th>\n",
       "      <td>50</td>\n",
       "    </tr>\n",
       "    <tr>\n",
       "      <th>Reston virus</th>\n",
       "      <td>0</td>\n",
       "    </tr>\n",
       "    <tr>\n",
       "      <th>Sudan virus</th>\n",
       "      <td>412</td>\n",
       "    </tr>\n",
       "    <tr>\n",
       "      <th>Taï Forest virus</th>\n",
       "      <td>0</td>\n",
       "    </tr>\n",
       "    <tr>\n",
       "      <th>Zaire virus</th>\n",
       "      <td>1086</td>\n",
       "    </tr>\n",
       "  </tbody>\n",
       "</table>\n",
       "</div>"
      ],
      "text/plain": [
       "                  reported_number_of_deaths_among_cases\n",
       "ebola_subtype                                          \n",
       "Bundibugyo virus                                     50\n",
       "Reston virus                                          0\n",
       "Sudan virus                                         412\n",
       "Taï Forest virus                                      0\n",
       "Zaire virus                                        1086"
      ]
     },
     "execution_count": 37,
     "metadata": {},
     "output_type": "execute_result"
    }
   ],
   "source": [
    "deaths_by_subtype = ebola_data[[\"ebola_subtype\", \"reported_number_of_deaths_among_cases\"]].groupby([\"ebola_subtype\"]).sum()\n",
    "deaths_by_subtype"
   ]
  },
  {
   "cell_type": "code",
   "execution_count": 39,
   "metadata": {
    "collapsed": false
   },
   "outputs": [
    {
     "data": {
      "text/html": [
       "<div>\n",
       "<table border=\"1\" class=\"dataframe\">\n",
       "  <thead>\n",
       "    <tr style=\"text-align: right;\">\n",
       "      <th></th>\n",
       "      <th>reported_number_of_deaths_among_cases</th>\n",
       "    </tr>\n",
       "    <tr>\n",
       "      <th>ebola_subtype</th>\n",
       "      <th></th>\n",
       "    </tr>\n",
       "  </thead>\n",
       "  <tbody>\n",
       "    <tr>\n",
       "      <th>Bundibugyo virus</th>\n",
       "      <td>3.229974</td>\n",
       "    </tr>\n",
       "    <tr>\n",
       "      <th>Reston virus</th>\n",
       "      <td>0.000000</td>\n",
       "    </tr>\n",
       "    <tr>\n",
       "      <th>Sudan virus</th>\n",
       "      <td>26.614987</td>\n",
       "    </tr>\n",
       "    <tr>\n",
       "      <th>Taï Forest virus</th>\n",
       "      <td>0.000000</td>\n",
       "    </tr>\n",
       "    <tr>\n",
       "      <th>Zaire virus</th>\n",
       "      <td>70.155039</td>\n",
       "    </tr>\n",
       "  </tbody>\n",
       "</table>\n",
       "</div>"
      ],
      "text/plain": [
       "                  reported_number_of_deaths_among_cases\n",
       "ebola_subtype                                          \n",
       "Bundibugyo virus                               3.229974\n",
       "Reston virus                                   0.000000\n",
       "Sudan virus                                   26.614987\n",
       "Taï Forest virus                               0.000000\n",
       "Zaire virus                                   70.155039"
      ]
     },
     "execution_count": 39,
     "metadata": {},
     "output_type": "execute_result"
    }
   ],
   "source": [
    "total_deaths_by_subtype = deaths_by_subtype.sum()\n",
    "deaths_subtype_percent = deaths_by_subtype.mul(100).truediv(total_deaths_by_subtype)\n",
    "\n",
    "deaths_subtype_percent"
   ]
  },
  {
   "cell_type": "code",
   "execution_count": 38,
   "metadata": {
    "collapsed": false
   },
   "outputs": [
    {
     "data": {
      "text/html": [
       "<div>\n",
       "<table border=\"1\" class=\"dataframe\">\n",
       "  <thead>\n",
       "    <tr style=\"text-align: right;\">\n",
       "      <th></th>\n",
       "      <th>Outbreaks by virus subtype (%)</th>\n",
       "    </tr>\n",
       "    <tr>\n",
       "      <th>ebola_subtype</th>\n",
       "      <th></th>\n",
       "    </tr>\n",
       "  </thead>\n",
       "  <tbody>\n",
       "    <tr>\n",
       "      <th>Bundibugyo virus</th>\n",
       "      <td>6.060606</td>\n",
       "    </tr>\n",
       "    <tr>\n",
       "      <th>Reston virus</th>\n",
       "      <td>21.212121</td>\n",
       "    </tr>\n",
       "    <tr>\n",
       "      <th>Sudan virus</th>\n",
       "      <td>24.242424</td>\n",
       "    </tr>\n",
       "    <tr>\n",
       "      <th>Taï Forest virus</th>\n",
       "      <td>3.030303</td>\n",
       "    </tr>\n",
       "    <tr>\n",
       "      <th>Zaire virus</th>\n",
       "      <td>45.454545</td>\n",
       "    </tr>\n",
       "  </tbody>\n",
       "</table>\n",
       "</div>"
      ],
      "text/plain": [
       "                  Outbreaks by virus subtype (%)\n",
       "ebola_subtype                                   \n",
       "Bundibugyo virus                        6.060606\n",
       "Reston virus                           21.212121\n",
       "Sudan virus                            24.242424\n",
       "Taï Forest virus                        3.030303\n",
       "Zaire virus                            45.454545"
      ]
     },
     "execution_count": 38,
     "metadata": {},
     "output_type": "execute_result"
    }
   ],
   "source": [
    "outbrks_by_subtype = ebola_data.groupby([\"ebola_subtype\"])[\"ebola_subtype\"].count()\n",
    "total_outbrks_by_subtype = outbrks_by_subtype.sum()\n",
    "outbrks_subtype_percent = outbrks_by_subtype.mul(100).truediv(total_outbrks_by_subtype)\n",
    "\n",
    "data_percent = outbrks_subtype_percent.to_frame(name='Outbreaks by virus subtype (%)')\n",
    "data_percent"
   ]
  },
  {
   "cell_type": "code",
   "execution_count": 40,
   "metadata": {
    "collapsed": true
   },
   "outputs": [],
   "source": [
    "all_subtypes_proportions = {\"Ebola subtypes\" : [\"Bundibugyo virus\", \"Reston virus\", \"Sudan virus\", \"Taï Forest virus\", \"Zaire virus\"],\n",
    "                            \"Outbreaks by virus subtype (%)\" : [6.060606, 21.212121, 24.242424, 3.030303, 45.454545],\n",
    "                            \"Reported human cases by virus subtype (%)\" : [7.835663, 0.550614, 32.994494, 0.042355, 58.576874],\n",
    "                            \"Reported deaths among cases by virus subtype (%)\" : [3.229974, 0.0, 26.614987, 0.0, 70.155039]}"
   ]
  },
  {
   "cell_type": "code",
   "execution_count": 41,
   "metadata": {
    "collapsed": true
   },
   "outputs": [],
   "source": [
    "data_subtypes_proportions = pd.DataFrame(all_subtypes_proportions)"
   ]
  },
  {
   "cell_type": "code",
   "execution_count": 50,
   "metadata": {
    "collapsed": false
   },
   "outputs": [
    {
     "data": {
      "text/html": [
       "<div>\n",
       "<table border=\"1\" class=\"dataframe\">\n",
       "  <thead>\n",
       "    <tr style=\"text-align: right;\">\n",
       "      <th></th>\n",
       "      <th>Ebola subtypes</th>\n",
       "      <th>Outbreaks by virus subtype (%)</th>\n",
       "      <th>Reported deaths among cases by virus subtype (%)</th>\n",
       "      <th>Reported human cases by virus subtype (%)</th>\n",
       "    </tr>\n",
       "  </thead>\n",
       "  <tbody>\n",
       "    <tr>\n",
       "      <th>0</th>\n",
       "      <td>Bundibugyo virus</td>\n",
       "      <td>6.060606</td>\n",
       "      <td>3.229974</td>\n",
       "      <td>7.835663</td>\n",
       "    </tr>\n",
       "    <tr>\n",
       "      <th>1</th>\n",
       "      <td>Reston virus</td>\n",
       "      <td>21.212121</td>\n",
       "      <td>0.000000</td>\n",
       "      <td>0.550614</td>\n",
       "    </tr>\n",
       "    <tr>\n",
       "      <th>2</th>\n",
       "      <td>Sudan virus</td>\n",
       "      <td>24.242424</td>\n",
       "      <td>26.614987</td>\n",
       "      <td>32.994494</td>\n",
       "    </tr>\n",
       "    <tr>\n",
       "      <th>3</th>\n",
       "      <td>Taï Forest virus</td>\n",
       "      <td>3.030303</td>\n",
       "      <td>0.000000</td>\n",
       "      <td>0.042355</td>\n",
       "    </tr>\n",
       "    <tr>\n",
       "      <th>4</th>\n",
       "      <td>Zaire virus</td>\n",
       "      <td>45.454545</td>\n",
       "      <td>70.155039</td>\n",
       "      <td>58.576874</td>\n",
       "    </tr>\n",
       "  </tbody>\n",
       "</table>\n",
       "</div>"
      ],
      "text/plain": [
       "     Ebola subtypes  Outbreaks by virus subtype (%)  \\\n",
       "0  Bundibugyo virus                        6.060606   \n",
       "1      Reston virus                       21.212121   \n",
       "2       Sudan virus                       24.242424   \n",
       "3  Taï Forest virus                        3.030303   \n",
       "4       Zaire virus                       45.454545   \n",
       "\n",
       "   Reported deaths among cases by virus subtype (%)  \\\n",
       "0                                          3.229974   \n",
       "1                                          0.000000   \n",
       "2                                         26.614987   \n",
       "3                                          0.000000   \n",
       "4                                         70.155039   \n",
       "\n",
       "   Reported human cases by virus subtype (%)  \n",
       "0                                   7.835663  \n",
       "1                                   0.550614  \n",
       "2                                  32.994494  \n",
       "3                                   0.042355  \n",
       "4                                  58.576874  "
      ]
     },
     "execution_count": 50,
     "metadata": {},
     "output_type": "execute_result"
    }
   ],
   "source": [
    "data_subtypes_proportions"
   ]
  },
  {
   "cell_type": "code",
   "execution_count": 87,
   "metadata": {
    "collapsed": false
   },
   "outputs": [
    {
     "data": {
      "text/plain": [
       "<matplotlib.axes._subplots.AxesSubplot at 0x7f1cfa2fbe50>"
      ]
     },
     "execution_count": 87,
     "metadata": {},
     "output_type": "execute_result"
    },
    {
     "data": {
      "image/png": "[encoded data removed]",
      "text/plain": [
       "<matplotlib.figure.Figure at 0x7f1cfa2ab3d0>"
      ]
     },
     "metadata": {},
     "output_type": "display_data"
    }
   ],
   "source": [
    "data_subtypes_proportions.plot(kind=\"bar\", x=\"Ebola subtypes\", figsize=(10,5))"
   ]
  },
  {
   "cell_type": "markdown",
   "metadata": {},
   "source": [
    "#### Out of the 5 virus subtypes: \n",
    "* 2 are responsible for low proportions of outbreaks, human cases and deaths (Taï Forest virus and Bundibugyo virus)\n",
    "* 2 are responsible for high proportions of outbreaks, human cases and deaths (Zaïre virus and Sudan virus)\n",
    "* 1 is responsible for a high proportion of outbreaks, but low proportion of human cases or deaths (Reston virus)"
   ]
  },
  {
   "cell_type": "markdown",
   "metadata": {},
   "source": [
    "#### The Zaïre virus accounts for 70% of reported death cases"
   ]
  },
  {
   "cell_type": "markdown",
   "metadata": {},
   "source": [
    "### Time series"
   ]
  },
  {
   "cell_type": "code",
   "execution_count": 90,
   "metadata": {
    "collapsed": false
   },
   "outputs": [],
   "source": [
    "outbreaks_dates_by_country = ebola_data[['country_name', 'start_date', 'start_date', ]]"
   ]
  },
  {
   "cell_type": "code",
   "execution_count": null,
   "metadata": {
    "collapsed": true
   },
   "outputs": [],
   "source": []
  }
 ],
 "metadata": {
  "kernelspec": {
   "display_name": "Python 2",
   "language": "python",
   "name": "python2"
  },
  "language_info": {
   "codemirror_mode": {
    "name": "ipython",
    "version": 2
   },
   "file_extension": ".py",
   "mimetype": "text/x-python",
   "name": "python",
   "nbconvert_exporter": "python",
   "pygments_lexer": "ipython2",
   "version": "2.7.6"
  }
 },
 "nbformat": 4,
 "nbformat_minor": 0
}
