{
 "cells": [
  {
   "cell_type": "code",
   "execution_count": 1,
   "metadata": {
    "collapsed": true
   },
   "outputs": [],
   "source": [
    "%matplotlib inline"
   ]
  },
  {
   "cell_type": "code",
   "execution_count": 2,
   "metadata": {
    "collapsed": false
   },
   "outputs": [],
   "source": [
    "import pandas as pd"
   ]
  },
  {
   "cell_type": "code",
   "execution_count": 3,
   "metadata": {
    "collapsed": false
   },
   "outputs": [],
   "source": [
    "ebola_df = pd.read_csv(\"data/out/ebola_outbreaks_before_2014-geometry_fixed.csv\", encoding=\"utf-8\", index_col=False)"
   ]
  },
  {
   "cell_type": "code",
   "execution_count": 4,
   "metadata": {
    "collapsed": false
   },
   "outputs": [
    {
     "data": {
      "text/html": [
       "<div style=\"max-height:1000px;max-width:1500px;overflow:auto;\">\n",
       "<table border=\"1\" class=\"dataframe\">\n",
       "  <thead>\n",
       "    <tr style=\"text-align: right;\">\n",
       "      <th></th>\n",
       "      <th>country_code_iso_2_digits</th>\n",
       "      <th>country_name</th>\n",
       "      <th>duration_days</th>\n",
       "      <th>ebola_subtype</th>\n",
       "      <th>end_date</th>\n",
       "      <th>end_datetime</th>\n",
       "      <th>field_1</th>\n",
       "      <th>geometry</th>\n",
       "      <th>geometry_geojson</th>\n",
       "      <th>latitude</th>\n",
       "      <th>longitude</th>\n",
       "      <th>reported_number_of_deaths_among_cases</th>\n",
       "      <th>reported_number_of_human_cases</th>\n",
       "      <th>reported_of_deaths_among_cases</th>\n",
       "      <th>start_date</th>\n",
       "      <th>start_datetime</th>\n",
       "      <th>year_s</th>\n",
       "    </tr>\n",
       "  </thead>\n",
       "  <tbody>\n",
       "    <tr>\n",
       "      <th>0</th>\n",
       "      <td>RU</td>\n",
       "      <td>Russia</td>\n",
       "      <td>365</td>\n",
       "      <td>Zaire virus</td>\n",
       "      <td>2004-12-31T00:00:00Z</td>\n",
       "      <td>2004-12-31T00:00:00Z</td>\n",
       "      <td>8</td>\n",
       "      <td>(POLYGON ((132.448985 42.845404, 132.44988 42....</td>\n",
       "      <td>{u'type': u'MultiPolygon', u'coordinates': [[[...</td>\n",
       "      <td>64.686314</td>\n",
       "      <td>97.745306</td>\n",
       "      <td>1</td>\n",
       "      <td>1</td>\n",
       "      <td>1.00</td>\n",
       "      <td>2004-01-01T00:00:00Z</td>\n",
       "      <td>2004-01-01T00:00:00Z</td>\n",
       "      <td>2004</td>\n",
       "    </tr>\n",
       "    <tr>\n",
       "      <th>1</th>\n",
       "      <td>PH</td>\n",
       "      <td>Philippines</td>\n",
       "      <td>365</td>\n",
       "      <td>Reston virus</td>\n",
       "      <td>1996-12-31T00:00:00Z</td>\n",
       "      <td>1996-12-31T00:00:00Z</td>\n",
       "      <td>16</td>\n",
       "      <td>(POLYGON ((119.849783 4.796861, 119.833995 4.7...</td>\n",
       "      <td>{u'type': u'MultiPolygon', u'coordinates': [[[...</td>\n",
       "      <td>12.750349</td>\n",
       "      <td>122.731210</td>\n",
       "      <td>0</td>\n",
       "      <td>0</td>\n",
       "      <td>0.00</td>\n",
       "      <td>1996-01-01T00:00:00Z</td>\n",
       "      <td>1996-01-01T00:00:00Z</td>\n",
       "      <td>1996</td>\n",
       "    </tr>\n",
       "    <tr>\n",
       "      <th>2</th>\n",
       "      <td>US</td>\n",
       "      <td>USA</td>\n",
       "      <td>364</td>\n",
       "      <td>Reston virus</td>\n",
       "      <td>1990-12-31T00:00:00Z</td>\n",
       "      <td>1990-12-31T00:00:00Z</td>\n",
       "      <td>26</td>\n",
       "      <td>(POLYGON ((-155.606519 20.137956, -155.586363 ...</td>\n",
       "      <td>{u'type': u'MultiPolygon', u'coordinates': [[[...</td>\n",
       "      <td>39.783730</td>\n",
       "      <td>-100.445882</td>\n",
       "      <td>0</td>\n",
       "      <td>4</td>\n",
       "      <td>0.00</td>\n",
       "      <td>1990-01-01T00:00:00Z</td>\n",
       "      <td>1990-01-01T00:00:00Z</td>\n",
       "      <td>1990</td>\n",
       "    </tr>\n",
       "    <tr>\n",
       "      <th>3</th>\n",
       "      <td>US</td>\n",
       "      <td>USA</td>\n",
       "      <td>365</td>\n",
       "      <td>Reston virus</td>\n",
       "      <td>1996-12-31T00:00:00Z</td>\n",
       "      <td>1996-12-31T00:00:00Z</td>\n",
       "      <td>17</td>\n",
       "      <td>(POLYGON ((-155.606519 20.137956, -155.586363 ...</td>\n",
       "      <td>{u'type': u'MultiPolygon', u'coordinates': [[[...</td>\n",
       "      <td>39.783730</td>\n",
       "      <td>-100.445882</td>\n",
       "      <td>0</td>\n",
       "      <td>0</td>\n",
       "      <td>0.00</td>\n",
       "      <td>1996-01-01T00:00:00Z</td>\n",
       "      <td>1996-01-01T00:00:00Z</td>\n",
       "      <td>1996</td>\n",
       "    </tr>\n",
       "    <tr>\n",
       "      <th>4</th>\n",
       "      <td>GA</td>\n",
       "      <td>Gabon</td>\n",
       "      <td>214</td>\n",
       "      <td>Zaire virus</td>\n",
       "      <td>1997-01-31T00:00:00Z</td>\n",
       "      <td>1997-01-31T00:00:00Z</td>\n",
       "      <td>19</td>\n",
       "      <td>(POLYGON ((9.021007000000001 -0.755548, 9.0066...</td>\n",
       "      <td>{u'type': u'Polygon', u'coordinates': [[[11.09...</td>\n",
       "      <td>-0.899969</td>\n",
       "      <td>11.689970</td>\n",
       "      <td>45</td>\n",
       "      <td>60</td>\n",
       "      <td>0.74</td>\n",
       "      <td>1996-07-01T00:00:00Z</td>\n",
       "      <td>1996-07-01T00:00:00Z</td>\n",
       "      <td>1996-1997 (July-January)</td>\n",
       "    </tr>\n",
       "  </tbody>\n",
       "</table>\n",
       "</div>"
      ],
      "text/plain": [
       "  country_code_iso_2_digits country_name  duration_days ebola_subtype  \\\n",
       "0                        RU       Russia            365   Zaire virus   \n",
       "1                        PH  Philippines            365  Reston virus   \n",
       "2                        US          USA            364  Reston virus   \n",
       "3                        US          USA            365  Reston virus   \n",
       "4                        GA        Gabon            214   Zaire virus   \n",
       "\n",
       "               end_date          end_datetime  field_1  \\\n",
       "0  2004-12-31T00:00:00Z  2004-12-31T00:00:00Z        8   \n",
       "1  1996-12-31T00:00:00Z  1996-12-31T00:00:00Z       16   \n",
       "2  1990-12-31T00:00:00Z  1990-12-31T00:00:00Z       26   \n",
       "3  1996-12-31T00:00:00Z  1996-12-31T00:00:00Z       17   \n",
       "4  1997-01-31T00:00:00Z  1997-01-31T00:00:00Z       19   \n",
       "\n",
       "                                            geometry  \\\n",
       "0  (POLYGON ((132.448985 42.845404, 132.44988 42....   \n",
       "1  (POLYGON ((119.849783 4.796861, 119.833995 4.7...   \n",
       "2  (POLYGON ((-155.606519 20.137956, -155.586363 ...   \n",
       "3  (POLYGON ((-155.606519 20.137956, -155.586363 ...   \n",
       "4  (POLYGON ((9.021007000000001 -0.755548, 9.0066...   \n",
       "\n",
       "                                    geometry_geojson   latitude   longitude  \\\n",
       "0  {u'type': u'MultiPolygon', u'coordinates': [[[...  64.686314   97.745306   \n",
       "1  {u'type': u'MultiPolygon', u'coordinates': [[[...  12.750349  122.731210   \n",
       "2  {u'type': u'MultiPolygon', u'coordinates': [[[...  39.783730 -100.445882   \n",
       "3  {u'type': u'MultiPolygon', u'coordinates': [[[...  39.783730 -100.445882   \n",
       "4  {u'type': u'Polygon', u'coordinates': [[[11.09...  -0.899969   11.689970   \n",
       "\n",
       "   reported_number_of_deaths_among_cases  reported_number_of_human_cases  \\\n",
       "0                                      1                               1   \n",
       "1                                      0                               0   \n",
       "2                                      0                               4   \n",
       "3                                      0                               0   \n",
       "4                                     45                              60   \n",
       "\n",
       "   reported_of_deaths_among_cases            start_date        start_datetime  \\\n",
       "0                            1.00  2004-01-01T00:00:00Z  2004-01-01T00:00:00Z   \n",
       "1                            0.00  1996-01-01T00:00:00Z  1996-01-01T00:00:00Z   \n",
       "2                            0.00  1990-01-01T00:00:00Z  1990-01-01T00:00:00Z   \n",
       "3                            0.00  1996-01-01T00:00:00Z  1996-01-01T00:00:00Z   \n",
       "4                            0.74  1996-07-01T00:00:00Z  1996-07-01T00:00:00Z   \n",
       "\n",
       "                     year_s  \n",
       "0                      2004  \n",
       "1                      1996  \n",
       "2                      1990  \n",
       "3                      1996  \n",
       "4  1996-1997 (July-January)  "
      ]
     },
     "execution_count": 4,
     "metadata": {},
     "output_type": "execute_result"
    }
   ],
   "source": [
    "ebola_data = ebola_df.drop(ebola_df.columns[[0, 1, 2]], axis=1)\n",
    "\n",
    "ebola_data.head()"
   ]
  },
  {
   "cell_type": "markdown",
   "metadata": {},
   "source": [
    "### The average number of days for an outbreak per country"
   ]
  },
  {
   "cell_type": "code",
   "execution_count": 8,
   "metadata": {
    "collapsed": false
   },
   "outputs": [
    {
     "data": {
      "text/plain": [
       "country_name\n",
       "Uganda                              206.800000\n",
       "Gabon                               219.750000\n",
       "Democratic Republic of the Congo    235.444444\n",
       "Côte d'Ivoire (Ivory Coast)         364.000000\n",
       "USA                                 364.333333\n",
       "Philippines                         364.666667\n",
       "Sudan (South Sudan)                 364.666667\n",
       "England                             365.000000\n",
       "Italy                               365.000000\n",
       "Russia                              365.000000\n",
       "South Africa                        365.000000\n",
       "Name: duration_days, dtype: float64"
      ]
     },
     "execution_count": 8,
     "metadata": {},
     "output_type": "execute_result"
    }
   ],
   "source": [
    "ebola_data.groupby([\"country_name\"])[\"duration_days\"].mean().order()"
   ]
  },
  {
   "cell_type": "code",
   "execution_count": 10,
   "metadata": {
    "collapsed": false
   },
   "outputs": [
    {
     "data": {
      "text/plain": [
       "country_name\n",
       "Côte d'Ivoire (Ivory Coast)                NaN\n",
       "Democratic Republic of the Congo    128.312228\n",
       "England                                    NaN\n",
       "Gabon                               103.750904\n",
       "Italy                                      NaN\n",
       "Philippines                         364.500114\n",
       "Russia                                0.000000\n",
       "South Africa                               NaN\n",
       "Sudan (South Sudan)                   0.577350\n",
       "USA                                   0.577350\n",
       "Uganda                              297.562935\n",
       "Name: duration_days, dtype: float64"
      ]
     },
     "execution_count": 10,
     "metadata": {},
     "output_type": "execute_result"
    }
   ],
   "source": [
    "ebola_data.groupby([\"country_name\"])[\"duration_days\"].std()"
   ]
  },
  {
   "cell_type": "code",
   "execution_count": 14,
   "metadata": {
    "collapsed": false
   },
   "outputs": [
    {
     "data": {
      "text/plain": [
       "<matplotlib.axes._subplots.AxesSubplot at 0x7fd495a987d0>"
      ]
     },
     "execution_count": 14,
     "metadata": {},
     "output_type": "execute_result"
    },
    {
     "data": {
      "image/png": "[encoded data removed]",
      "text/plain": [
       "<matplotlib.figure.Figure at 0x7fd495ce1a10>"
      ]
     },
     "metadata": {},
     "output_type": "display_data"
    }
   ],
   "source": [
    "# The standard deviations are so variable from a country \n",
    "# to another that it looks weird on the same plot:\n",
    "\n",
    "means = ebola_data.groupby([\"country_name\"])[\"duration_days\"].mean()\n",
    "errors = ebola_data.groupby([\"country_name\"])[\"duration_days\"].std()\n",
    "\n",
    "import matplotlib.pyplot as plt\n",
    "plt.style.use('ggplot')\n",
    "    \n",
    "fig, ax = plt.subplots()\n",
    "means.plot(xerr=errors, ax=ax, kind='barh')"
   ]
  },
  {
   "cell_type": "markdown",
   "metadata": {},
   "source": [
    "### Number of outbreaks per countries"
   ]
  },
  {
   "cell_type": "code",
   "execution_count": 21,
   "metadata": {
    "collapsed": false
   },
   "outputs": [
    {
     "data": {
      "text/plain": [
       "country_name\n",
       "Côte d'Ivoire (Ivory Coast)         1\n",
       "England                             1\n",
       "Italy                               1\n",
       "South Africa                        1\n",
       "Russia                              2\n",
       "Philippines                         3\n",
       "Sudan (South Sudan)                 3\n",
       "USA                                 3\n",
       "Gabon                               4\n",
       "Uganda                              5\n",
       "Democratic Republic of the Congo    9\n",
       "Name: country_name, dtype: int64"
      ]
     },
     "execution_count": 21,
     "metadata": {},
     "output_type": "execute_result"
    }
   ],
   "source": [
    "ebola_data.groupby([\"country_name\"])[\"country_name\"].count().order()"
   ]
  },
  {
   "cell_type": "code",
   "execution_count": 63,
   "metadata": {
    "collapsed": false
   },
   "outputs": [
    {
     "data": {
      "text/plain": [
       "<matplotlib.axes._subplots.AxesSubplot at 0x7f9c94ec17d0>"
      ]
     },
     "execution_count": 63,
     "metadata": {},
     "output_type": "execute_result"
    },
    {
     "data": {
      "image/png": "[encoded data removed]",
      "text/plain": [
       "<matplotlib.figure.Figure at 0x7f9c951d9610>"
      ]
     },
     "metadata": {},
     "output_type": "display_data"
    }
   ],
   "source": [
    "eb_cases_coutries = ebola_data.groupby([\"country_name\"])[\"country_name\"].count()\n",
    "\n",
    "countries_ordered, counts_ordered = list(eb_cases_coutries.keys()), list(eb_cases_coutries)\n",
    "\n",
    "d = {'countries': pd.Series(countries_ordered), 'ebola case(s)': pd.Series(counts_ordered)}\n",
    "\n",
    "df_countries = pd.DataFrame(d)\n",
    "\n",
    "df_countries.plot(kind=\"barh\", y=\"ebola case(s)\", x=\"countries\")"
   ]
  },
  {
   "cell_type": "markdown",
   "metadata": {},
   "source": [
    "### Subtype of virus"
   ]
  },
  {
   "cell_type": "code",
   "execution_count": 9,
   "metadata": {
    "collapsed": false
   },
   "outputs": [
    {
     "data": {
      "text/html": [
       "<div style=\"max-height:1000px;max-width:1500px;overflow:auto;\">\n",
       "<table border=\"1\" class=\"dataframe\">\n",
       "  <thead>\n",
       "    <tr style=\"text-align: right;\">\n",
       "      <th></th>\n",
       "      <th>country_name</th>\n",
       "      <th>ebola_subtype</th>\n",
       "    </tr>\n",
       "  </thead>\n",
       "  <tbody>\n",
       "    <tr>\n",
       "      <th>30</th>\n",
       "      <td>Côte d'Ivoire (Ivory Coast)</td>\n",
       "      <td>Taï Forest virus</td>\n",
       "    </tr>\n",
       "    <tr>\n",
       "      <th>5</th>\n",
       "      <td>Democratic Republic of the Congo</td>\n",
       "      <td>Zaire virus</td>\n",
       "    </tr>\n",
       "    <tr>\n",
       "      <th>6</th>\n",
       "      <td>Democratic Republic of the Congo</td>\n",
       "      <td>Zaire virus</td>\n",
       "    </tr>\n",
       "    <tr>\n",
       "      <th>8</th>\n",
       "      <td>Democratic Republic of the Congo</td>\n",
       "      <td>Zaire virus</td>\n",
       "    </tr>\n",
       "    <tr>\n",
       "      <th>10</th>\n",
       "      <td>Democratic Republic of the Congo</td>\n",
       "      <td>Zaire virus</td>\n",
       "    </tr>\n",
       "    <tr>\n",
       "      <th>12</th>\n",
       "      <td>Democratic Republic of the Congo</td>\n",
       "      <td>Zaire virus</td>\n",
       "    </tr>\n",
       "    <tr>\n",
       "      <th>15</th>\n",
       "      <td>Democratic Republic of the Congo</td>\n",
       "      <td>Bundibugyo virus</td>\n",
       "    </tr>\n",
       "    <tr>\n",
       "      <th>16</th>\n",
       "      <td>Democratic Republic of the Congo</td>\n",
       "      <td>Zaire virus</td>\n",
       "    </tr>\n",
       "    <tr>\n",
       "      <th>17</th>\n",
       "      <td>Democratic Republic of the Congo</td>\n",
       "      <td>Zaire virus</td>\n",
       "    </tr>\n",
       "    <tr>\n",
       "      <th>18</th>\n",
       "      <td>Democratic Republic of the Congo</td>\n",
       "      <td>Zaire virus</td>\n",
       "    </tr>\n",
       "    <tr>\n",
       "      <th>32</th>\n",
       "      <td>England</td>\n",
       "      <td>Sudan virus</td>\n",
       "    </tr>\n",
       "    <tr>\n",
       "      <th>4</th>\n",
       "      <td>Gabon</td>\n",
       "      <td>Zaire virus</td>\n",
       "    </tr>\n",
       "    <tr>\n",
       "      <th>13</th>\n",
       "      <td>Gabon</td>\n",
       "      <td>Zaire virus</td>\n",
       "    </tr>\n",
       "    <tr>\n",
       "      <th>20</th>\n",
       "      <td>Gabon</td>\n",
       "      <td>Zaire virus</td>\n",
       "    </tr>\n",
       "    <tr>\n",
       "      <th>23</th>\n",
       "      <td>Gabon</td>\n",
       "      <td>Zaire virus</td>\n",
       "    </tr>\n",
       "    <tr>\n",
       "      <th>24</th>\n",
       "      <td>Italy</td>\n",
       "      <td>Reston virus</td>\n",
       "    </tr>\n",
       "    <tr>\n",
       "      <th>1</th>\n",
       "      <td>Philippines</td>\n",
       "      <td>Reston virus</td>\n",
       "    </tr>\n",
       "    <tr>\n",
       "      <th>7</th>\n",
       "      <td>Philippines</td>\n",
       "      <td>Reston virus</td>\n",
       "    </tr>\n",
       "    <tr>\n",
       "      <th>14</th>\n",
       "      <td>Philippines</td>\n",
       "      <td>Reston virus</td>\n",
       "    </tr>\n",
       "    <tr>\n",
       "      <th>0</th>\n",
       "      <td>Russia</td>\n",
       "      <td>Zaire virus</td>\n",
       "    </tr>\n",
       "    <tr>\n",
       "      <th>19</th>\n",
       "      <td>Russia</td>\n",
       "      <td>Zaire virus</td>\n",
       "    </tr>\n",
       "    <tr>\n",
       "      <th>27</th>\n",
       "      <td>South Africa</td>\n",
       "      <td>Zaire virus</td>\n",
       "    </tr>\n",
       "    <tr>\n",
       "      <th>28</th>\n",
       "      <td>Sudan (South Sudan)</td>\n",
       "      <td>Sudan virus</td>\n",
       "    </tr>\n",
       "    <tr>\n",
       "      <th>29</th>\n",
       "      <td>Sudan (South Sudan)</td>\n",
       "      <td>Sudan virus</td>\n",
       "    </tr>\n",
       "    <tr>\n",
       "      <th>31</th>\n",
       "      <td>Sudan (South Sudan)</td>\n",
       "      <td>Sudan virus</td>\n",
       "    </tr>\n",
       "    <tr>\n",
       "      <th>2</th>\n",
       "      <td>USA</td>\n",
       "      <td>Reston virus</td>\n",
       "    </tr>\n",
       "    <tr>\n",
       "      <th>3</th>\n",
       "      <td>USA</td>\n",
       "      <td>Reston virus</td>\n",
       "    </tr>\n",
       "    <tr>\n",
       "      <th>21</th>\n",
       "      <td>USA</td>\n",
       "      <td>Reston virus</td>\n",
       "    </tr>\n",
       "    <tr>\n",
       "      <th>9</th>\n",
       "      <td>Uganda</td>\n",
       "      <td>Sudan virus</td>\n",
       "    </tr>\n",
       "    <tr>\n",
       "      <th>11</th>\n",
       "      <td>Uganda</td>\n",
       "      <td>Sudan virus</td>\n",
       "    </tr>\n",
       "    <tr>\n",
       "      <th>22</th>\n",
       "      <td>Uganda</td>\n",
       "      <td>Bundibugyo virus</td>\n",
       "    </tr>\n",
       "    <tr>\n",
       "      <th>25</th>\n",
       "      <td>Uganda</td>\n",
       "      <td>Sudan virus</td>\n",
       "    </tr>\n",
       "    <tr>\n",
       "      <th>26</th>\n",
       "      <td>Uganda</td>\n",
       "      <td>Sudan virus</td>\n",
       "    </tr>\n",
       "  </tbody>\n",
       "</table>\n",
       "</div>"
      ],
      "text/plain": [
       "                        country_name     ebola_subtype\n",
       "30       Côte d'Ivoire (Ivory Coast)  Taï Forest virus\n",
       "5   Democratic Republic of the Congo       Zaire virus\n",
       "6   Democratic Republic of the Congo       Zaire virus\n",
       "8   Democratic Republic of the Congo       Zaire virus\n",
       "10  Democratic Republic of the Congo       Zaire virus\n",
       "12  Democratic Republic of the Congo       Zaire virus\n",
       "15  Democratic Republic of the Congo  Bundibugyo virus\n",
       "16  Democratic Republic of the Congo       Zaire virus\n",
       "17  Democratic Republic of the Congo       Zaire virus\n",
       "18  Democratic Republic of the Congo       Zaire virus\n",
       "32                           England       Sudan virus\n",
       "4                              Gabon       Zaire virus\n",
       "13                             Gabon       Zaire virus\n",
       "20                             Gabon       Zaire virus\n",
       "23                             Gabon       Zaire virus\n",
       "24                             Italy      Reston virus\n",
       "1                        Philippines      Reston virus\n",
       "7                        Philippines      Reston virus\n",
       "14                       Philippines      Reston virus\n",
       "0                             Russia       Zaire virus\n",
       "19                            Russia       Zaire virus\n",
       "27                      South Africa       Zaire virus\n",
       "28               Sudan (South Sudan)       Sudan virus\n",
       "29               Sudan (South Sudan)       Sudan virus\n",
       "31               Sudan (South Sudan)       Sudan virus\n",
       "2                                USA      Reston virus\n",
       "3                                USA      Reston virus\n",
       "21                               USA      Reston virus\n",
       "9                             Uganda       Sudan virus\n",
       "11                            Uganda       Sudan virus\n",
       "22                            Uganda  Bundibugyo virus\n",
       "25                            Uganda       Sudan virus\n",
       "26                            Uganda       Sudan virus"
      ]
     },
     "execution_count": 9,
     "metadata": {},
     "output_type": "execute_result"
    }
   ],
   "source": [
    "ebola_data[[\"country_name\", \"ebola_subtype\"]].sort([\"country_name\"])"
   ]
  },
  {
   "cell_type": "code",
   "execution_count": 10,
   "metadata": {
    "collapsed": false
   },
   "outputs": [
    {
     "data": {
      "text/plain": [
       "ebola_subtype\n",
       "Taï Forest virus     1\n",
       "Bundibugyo virus     2\n",
       "Reston virus         7\n",
       "Sudan virus          8\n",
       "Zaire virus         15\n",
       "Name: ebola_subtype, dtype: int64"
      ]
     },
     "execution_count": 10,
     "metadata": {},
     "output_type": "execute_result"
    }
   ],
   "source": [
    "ebola_data.groupby([\"ebola_subtype\"])[\"ebola_subtype\"].count().order()"
   ]
  },
  {
   "cell_type": "code",
   "execution_count": 65,
   "metadata": {
    "collapsed": false
   },
   "outputs": [
    {
     "data": {
      "text/plain": [
       "<matplotlib.axes._subplots.AxesSubplot at 0x7f9c94fc4650>"
      ]
     },
     "execution_count": 65,
     "metadata": {},
     "output_type": "execute_result"
    },
    {
     "data": {
      "image/png": "[encoded data removed]",
      "text/plain": [
       "<matplotlib.figure.Figure at 0x7f9c954655d0>"
      ]
     },
     "metadata": {},
     "output_type": "display_data"
    }
   ],
   "source": [
    "eb_cases_viruses = ebola_data.groupby([\"ebola_subtype\"])[\"ebola_subtype\"].count()\n",
    "\n",
    "viruses_ordered, vcounts_ordered = list(eb_cases_viruses.keys()), list(eb_cases_viruses)\n",
    "\n",
    "e = {'ebola virus subtypes': pd.Series(viruses_ordered), 'number of ebola outbreaks': pd.Series(vcounts_ordered)}\n",
    "\n",
    "df_viruses = pd.DataFrame(e)\n",
    "\n",
    "df_viruses.plot(kind=\"bar\", y=\"number of ebola outbreaks\", x=\"ebola virus subtypes\")"
   ]
  },
  {
   "cell_type": "markdown",
   "metadata": {},
   "source": [
    "### Duration of epidemy in days by virus subtype"
   ]
  },
  {
   "cell_type": "code",
   "execution_count": 11,
   "metadata": {
    "collapsed": false
   },
   "outputs": [
    {
     "data": {
      "text/plain": [
       "ebola_subtype\n",
       "Bundibugyo virus    121.500000\n",
       "Zaire virus         260.733333\n",
       "Sudan virus         304.000000\n",
       "Taï Forest virus    364.000000\n",
       "Reston virus        364.571429\n",
       "Name: duration_days, dtype: float64"
      ]
     },
     "execution_count": 11,
     "metadata": {},
     "output_type": "execute_result"
    }
   ],
   "source": [
    "ebola_data.groupby([\"ebola_subtype\"])[\"duration_days\"].mean().order()"
   ]
  },
  {
   "cell_type": "markdown",
   "metadata": {},
   "source": [
    "__=> Bundibugyo virus seems to be correlated with shorter outbreaks__"
   ]
  },
  {
   "cell_type": "markdown",
   "metadata": {},
   "source": [
    "### Human cases for DRC (country with the most cases)"
   ]
  },
  {
   "cell_type": "code",
   "execution_count": 21,
   "metadata": {
    "collapsed": false
   },
   "outputs": [
    {
     "data": {
      "text/html": [
       "<div style=\"max-height:1000px;max-width:1500px;overflow:auto;\">\n",
       "<table border=\"1\" class=\"dataframe\">\n",
       "  <thead>\n",
       "    <tr style=\"text-align: right;\">\n",
       "      <th></th>\n",
       "      <th>ebola_subtype</th>\n",
       "      <th>start_date</th>\n",
       "      <th>end_date</th>\n",
       "      <th>reported_number_of_human_cases</th>\n",
       "      <th>reported_number_of_deaths_among_cases</th>\n",
       "    </tr>\n",
       "  </thead>\n",
       "  <tbody>\n",
       "    <tr>\n",
       "      <th>5</th>\n",
       "      <td>Zaire virus</td>\n",
       "      <td>1976-01-01T00:00:00Z</td>\n",
       "      <td>1976-12-31T00:00:00Z</td>\n",
       "      <td>318</td>\n",
       "      <td>280</td>\n",
       "    </tr>\n",
       "    <tr>\n",
       "      <th>8</th>\n",
       "      <td>Zaire virus</td>\n",
       "      <td>1977-01-01T00:00:00Z</td>\n",
       "      <td>1977-12-31T00:00:00Z</td>\n",
       "      <td>1</td>\n",
       "      <td>1</td>\n",
       "    </tr>\n",
       "    <tr>\n",
       "      <th>18</th>\n",
       "      <td>Zaire virus</td>\n",
       "      <td>1995-01-01T00:00:00Z</td>\n",
       "      <td>1995-12-31T00:00:00Z</td>\n",
       "      <td>315</td>\n",
       "      <td>250</td>\n",
       "    </tr>\n",
       "    <tr>\n",
       "      <th>16</th>\n",
       "      <td>Zaire virus</td>\n",
       "      <td>2001-10-01T00:00:00Z</td>\n",
       "      <td>2002-03-31T00:00:00Z</td>\n",
       "      <td>57</td>\n",
       "      <td>43</td>\n",
       "    </tr>\n",
       "    <tr>\n",
       "      <th>17</th>\n",
       "      <td>Zaire virus</td>\n",
       "      <td>2002-12-01T00:00:00Z</td>\n",
       "      <td>2003-04-30T00:00:00Z</td>\n",
       "      <td>143</td>\n",
       "      <td>128</td>\n",
       "    </tr>\n",
       "    <tr>\n",
       "      <th>10</th>\n",
       "      <td>Zaire virus</td>\n",
       "      <td>2003-11-01T00:00:00Z</td>\n",
       "      <td>2003-12-31T00:00:00Z</td>\n",
       "      <td>35</td>\n",
       "      <td>29</td>\n",
       "    </tr>\n",
       "    <tr>\n",
       "      <th>6</th>\n",
       "      <td>Zaire virus</td>\n",
       "      <td>2007-01-01T00:00:00Z</td>\n",
       "      <td>2007-12-31T00:00:00Z</td>\n",
       "      <td>264</td>\n",
       "      <td>187</td>\n",
       "    </tr>\n",
       "    <tr>\n",
       "      <th>12</th>\n",
       "      <td>Zaire virus</td>\n",
       "      <td>2008-12-01T00:00:00Z</td>\n",
       "      <td>2009-02-28T00:00:00Z</td>\n",
       "      <td>32</td>\n",
       "      <td>15</td>\n",
       "    </tr>\n",
       "    <tr>\n",
       "      <th>15</th>\n",
       "      <td>Bundibugyo virus</td>\n",
       "      <td>2012-06-01T00:00:00Z</td>\n",
       "      <td>2012-11-30T00:00:00Z</td>\n",
       "      <td>36</td>\n",
       "      <td>13</td>\n",
       "    </tr>\n",
       "  </tbody>\n",
       "</table>\n",
       "</div>"
      ],
      "text/plain": [
       "       ebola_subtype            start_date              end_date  \\\n",
       "5        Zaire virus  1976-01-01T00:00:00Z  1976-12-31T00:00:00Z   \n",
       "8        Zaire virus  1977-01-01T00:00:00Z  1977-12-31T00:00:00Z   \n",
       "18       Zaire virus  1995-01-01T00:00:00Z  1995-12-31T00:00:00Z   \n",
       "16       Zaire virus  2001-10-01T00:00:00Z  2002-03-31T00:00:00Z   \n",
       "17       Zaire virus  2002-12-01T00:00:00Z  2003-04-30T00:00:00Z   \n",
       "10       Zaire virus  2003-11-01T00:00:00Z  2003-12-31T00:00:00Z   \n",
       "6        Zaire virus  2007-01-01T00:00:00Z  2007-12-31T00:00:00Z   \n",
       "12       Zaire virus  2008-12-01T00:00:00Z  2009-02-28T00:00:00Z   \n",
       "15  Bundibugyo virus  2012-06-01T00:00:00Z  2012-11-30T00:00:00Z   \n",
       "\n",
       "    reported_number_of_human_cases  reported_number_of_deaths_among_cases  \n",
       "5                              318                                    280  \n",
       "8                                1                                      1  \n",
       "18                             315                                    250  \n",
       "16                              57                                     43  \n",
       "17                             143                                    128  \n",
       "10                              35                                     29  \n",
       "6                              264                                    187  \n",
       "12                              32                                     15  \n",
       "15                              36                                     13  "
      ]
     },
     "execution_count": 21,
     "metadata": {},
     "output_type": "execute_result"
    }
   ],
   "source": [
    "df_drc = ebola_data[ebola_data.country_name == \"Democratic Republic of the Congo\"]\n",
    "\n",
    "drc = df_drc[[\"ebola_subtype\", \"start_date\", \"end_date\", \"reported_number_of_human_cases\", \"reported_number_of_deaths_among_cases\"]]\n",
    "\n",
    "drc.sort([\"start_date\"])"
   ]
  }
 ],
 "metadata": {
  "kernelspec": {
   "display_name": "Python 2",
   "language": "python",
   "name": "python2"
  },
  "language_info": {
   "codemirror_mode": {
    "name": "ipython",
    "version": 2
   },
   "file_extension": ".py",
   "mimetype": "text/x-python",
   "name": "python",
   "nbconvert_exporter": "python",
   "pygments_lexer": "ipython2",
   "version": "2.7.6"
  }
 },
 "nbformat": 4,
 "nbformat_minor": 0
}
