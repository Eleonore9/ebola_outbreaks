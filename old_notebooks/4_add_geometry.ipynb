{
 "cells": [
  {
   "cell_type": "markdown",
   "metadata": {},
   "source": [
    "__Before I had tried using \"csv/in/World Country Boundaries.csv\" but the data in \"geometry\" column is in format KML not easy to use.__\n",
    "\n",
    "__Now I use a geo.json filed for all countries found here:__ https://github.com/johan/world.geo.json"
   ]
  },
  {
   "cell_type": "code",
   "execution_count": 27,
   "metadata": {
    "collapsed": true
   },
   "outputs": [],
   "source": [
    "import pandas as pd\n",
    "from pandas.io.json import json_normalize"
   ]
  },
  {
   "cell_type": "code",
   "execution_count": 28,
   "metadata": {
    "collapsed": false
   },
   "outputs": [],
   "source": [
    "df_geojson = pd.read_json(\"data/in/countries.geo.json\")"
   ]
  },
  {
   "cell_type": "code",
   "execution_count": 41,
   "metadata": {
    "collapsed": false
   },
   "outputs": [
    {
     "data": {
      "text/plain": [
       "0    {u'geometry': {u'type': u'Polygon', u'coordina...\n",
       "1    {u'geometry': {u'type': u'MultiPolygon', u'coo...\n",
       "2    {u'geometry': {u'type': u'Polygon', u'coordina...\n",
       "3    {u'geometry': {u'type': u'Polygon', u'coordina...\n",
       "4    {u'geometry': {u'type': u'MultiPolygon', u'coo...\n",
       "Name: features, dtype: object"
      ]
     },
     "execution_count": 41,
     "metadata": {},
     "output_type": "execute_result"
    }
   ],
   "source": [
    "df_geojson[\"features\"][:5]"
   ]
  },
  {
   "cell_type": "code",
   "execution_count": 42,
   "metadata": {
    "collapsed": true
   },
   "outputs": [],
   "source": [
    "# Countries of interest:\n",
    "countries = [u\"C\\xf4te d'Ivoire (Ivory Coast)\", u'Italy', u'USA', \n",
    "                         u'South Africa', u'Philippines', u'Democratic Republic of the Congo', \n",
    "                         u'Gabon', u'Sudan (South Sudan)', u'Uganda', u'England', u'Russia']"
   ]
  },
  {
   "cell_type": "code",
   "execution_count": 43,
   "metadata": {
    "collapsed": true
   },
   "outputs": [],
   "source": [
    "ds_features = df_geojson[\"features\"]"
   ]
  },
  {
   "cell_type": "code",
   "execution_count": 46,
   "metadata": {
    "collapsed": false
   },
   "outputs": [
    {
     "data": {
      "text/plain": [
       "u'Angola'"
      ]
     },
     "execution_count": 46,
     "metadata": {},
     "output_type": "execute_result"
    }
   ],
   "source": [
    "ds_features[1][\"properties\"][\"name\"]"
   ]
  },
  {
   "cell_type": "code",
   "execution_count": 57,
   "metadata": {
    "collapsed": true
   },
   "outputs": [],
   "source": [
    "dict_geojson = {}"
   ]
  },
  {
   "cell_type": "code",
   "execution_count": 58,
   "metadata": {
    "collapsed": true
   },
   "outputs": [],
   "source": [
    "for i in ds_features:\n",
    "    dict_geojson[i[\"properties\"][\"name\"]] = i[\"geometry\"]"
   ]
  },
  {
   "cell_type": "code",
   "execution_count": 59,
   "metadata": {
    "collapsed": false
   },
   "outputs": [
    {
     "data": {
      "text/plain": [
       "[u'Canada',\n",
       " u'East Timor',\n",
       " u'Turkmenistan',\n",
       " u'United States of America',\n",
       " u'Lithuania',\n",
       " u'Cambodia',\n",
       " u'Ethiopia',\n",
       " u'Swaziland',\n",
       " u'Argentina',\n",
       " u'Bolivia']"
      ]
     },
     "execution_count": 59,
     "metadata": {},
     "output_type": "execute_result"
    }
   ],
   "source": [
    "dict_geojson.keys()[:10]"
   ]
  },
  {
   "cell_type": "code",
   "execution_count": 61,
   "metadata": {
    "collapsed": false
   },
   "outputs": [
    {
     "name": "stdout",
     "output_type": "stream",
     "text": [
      "Côte d'Ivoire (Ivory Coast) has a different spelling in dict_geojson\n",
      "Italy is in dict_geojson\n",
      "USA has a different spelling in dict_geojson\n",
      "South Africa is in dict_geojson\n",
      "Philippines is in dict_geojson\n",
      "Democratic Republic of the Congo is in dict_geojson\n",
      "Gabon is in dict_geojson\n",
      "Sudan (South Sudan) has a different spelling in dict_geojson\n",
      "Uganda is in dict_geojson\n",
      "England has a different spelling in dict_geojson\n",
      "Russia is in dict_geojson\n"
     ]
    }
   ],
   "source": [
    "for c in countries:\n",
    "    if c in dict_geojson.keys():\n",
    "        print c, \"is in dict_geojson\"\n",
    "    else:\n",
    "        print c, \"has a different spelling in dict_geojson\""
   ]
  },
  {
   "cell_type": "code",
   "execution_count": 62,
   "metadata": {
    "collapsed": true
   },
   "outputs": [],
   "source": [
    "geojson_list = []"
   ]
  },
  {
   "cell_type": "code",
   "execution_count": 64,
   "metadata": {
    "collapsed": false
   },
   "outputs": [
    {
     "data": {
      "text/plain": [
       "True"
      ]
     },
     "execution_count": 64,
     "metadata": {},
     "output_type": "execute_result"
    }
   ],
   "source": [
    "u\"Ivory Coast\" in dict_geojson.keys()"
   ]
  },
  {
   "cell_type": "code",
   "execution_count": 67,
   "metadata": {
    "collapsed": false
   },
   "outputs": [
    {
     "data": {
      "text/plain": [
       "True"
      ]
     },
     "execution_count": 67,
     "metadata": {},
     "output_type": "execute_result"
    }
   ],
   "source": [
    "u\"South Sudan\" in dict_geojson.keys()"
   ]
  },
  {
   "cell_type": "code",
   "execution_count": 69,
   "metadata": {
    "collapsed": false
   },
   "outputs": [
    {
     "data": {
      "text/plain": [
       "True"
      ]
     },
     "execution_count": 69,
     "metadata": {},
     "output_type": "execute_result"
    }
   ],
   "source": [
    "u\"United Kingdom\" in dict_geojson.keys()"
   ]
  },
  {
   "cell_type": "code",
   "execution_count": 71,
   "metadata": {
    "collapsed": true
   },
   "outputs": [],
   "source": [
    "# Countries with the same spelling as in the geo.json file\n",
    "countries2 = [u'Ivory Coast', u'Italy', u'United States of America', \n",
    "              u'South Africa', u'Philippines', u'Democratic Republic of the Congo', \n",
    "              u'Gabon', u'South Sudan', u'Uganda', u'United Kingdom', u'Russia']"
   ]
  },
  {
   "cell_type": "code",
   "execution_count": 73,
   "metadata": {
    "collapsed": false
   },
   "outputs": [],
   "source": [
    "for c in countries2:\n",
    "    geojson_list.append(dict_geojson[c])"
   ]
  },
  {
   "cell_type": "code",
   "execution_count": 76,
   "metadata": {
    "collapsed": false
   },
   "outputs": [
    {
     "data": {
      "text/plain": [
       "{u'coordinates': [[[-2.856125, 4.994476],\n",
       "   [-3.311084, 4.984296],\n",
       "   [-4.00882, 5.179813],\n",
       "   [-4.649917, 5.168264],\n",
       "   [-5.834496, 4.993701],\n",
       "   [-6.528769, 4.705088],\n",
       "   [-7.518941, 4.338288],\n",
       "   [-7.712159, 4.364566],\n",
       "   [-7.635368, 5.188159],\n",
       "   [-7.539715, 5.313345],\n",
       "   [-7.570153, 5.707352],\n",
       "   [-7.993693, 6.12619],\n",
       "   [-8.311348, 6.193033],\n",
       "   [-8.60288, 6.467564],\n",
       "   [-8.385452, 6.911801],\n",
       "   [-8.485446, 7.395208],\n",
       "   [-8.439298, 7.686043],\n",
       "   [-8.280703, 7.68718],\n",
       "   [-8.221792, 8.123329],\n",
       "   [-8.299049, 8.316444],\n",
       "   [-8.203499, 8.455453],\n",
       "   [-7.8321000000000005, 8.575704],\n",
       "   [-8.079114, 9.376224],\n",
       "   [-8.309616, 9.789532],\n",
       "   [-8.229337, 10.12902],\n",
       "   [-8.029944, 10.206535],\n",
       "   [-7.89959, 10.297382],\n",
       "   [-7.622759, 10.147236],\n",
       "   [-6.850507, 10.138994],\n",
       "   [-6.666461, 10.430811],\n",
       "   [-6.493965, 10.411303],\n",
       "   [-6.205223, 10.524061],\n",
       "   [-6.050452, 10.096361],\n",
       "   [-5.816926, 10.222555],\n",
       "   [-5.404342, 10.370737],\n",
       "   [-4.954653, 10.152714],\n",
       "   [-4.779884, 9.821985],\n",
       "   [-4.330247, 9.610835],\n",
       "   [-3.980449, 9.862344],\n",
       "   [-3.511899, 9.900326],\n",
       "   [-2.827496, 9.642461],\n",
       "   [-2.56219, 8.219628],\n",
       "   [-2.9835849999999997, 7.3797049999999995],\n",
       "   [-3.24437, 6.250472],\n",
       "   [-2.810701, 5.389051],\n",
       "   [-2.856125, 4.994476]]],\n",
       " u'type': u'Polygon'}"
      ]
     },
     "execution_count": 76,
     "metadata": {},
     "output_type": "execute_result"
    }
   ],
   "source": [
    "geojson_list[0]"
   ]
  },
  {
   "cell_type": "code",
   "execution_count": 90,
   "metadata": {
    "collapsed": false
   },
   "outputs": [
    {
     "data": {
      "text/html": [
       "<div>\n",
       "<table border=\"1\" class=\"dataframe\">\n",
       "  <thead>\n",
       "    <tr style=\"text-align: right;\">\n",
       "      <th></th>\n",
       "      <th>Start_Datetime</th>\n",
       "      <th>Start date</th>\n",
       "      <th>End_Datetime</th>\n",
       "      <th>End date</th>\n",
       "      <th>Duration (days)</th>\n",
       "      <th>Year(s)</th>\n",
       "      <th>Country code (ISO 2 digits)</th>\n",
       "      <th>Country name</th>\n",
       "      <th>Latitude</th>\n",
       "      <th>Longitude</th>\n",
       "      <th>Ebola subtype</th>\n",
       "      <th>Reported number of human cases</th>\n",
       "      <th>Reported number of deaths among cases</th>\n",
       "      <th>Reported % of deaths among cases</th>\n",
       "    </tr>\n",
       "  </thead>\n",
       "  <tbody>\n",
       "    <tr>\n",
       "      <th>0</th>\n",
       "      <td>2012-11-01 00:00:00</td>\n",
       "      <td>2012-11-01</td>\n",
       "      <td>2013-01-31 00:00:00</td>\n",
       "      <td>2013-01-31</td>\n",
       "      <td>91</td>\n",
       "      <td>November 2012-January 2013</td>\n",
       "      <td>UG</td>\n",
       "      <td>Uganda</td>\n",
       "      <td>1.533355</td>\n",
       "      <td>32.216658</td>\n",
       "      <td>Sudan virus</td>\n",
       "      <td>6</td>\n",
       "      <td>3</td>\n",
       "      <td>0.500</td>\n",
       "    </tr>\n",
       "    <tr>\n",
       "      <th>1</th>\n",
       "      <td>2012-06-01 00:00:00</td>\n",
       "      <td>2012-06-01</td>\n",
       "      <td>2012-11-30 00:00:00</td>\n",
       "      <td>2012-11-30</td>\n",
       "      <td>182</td>\n",
       "      <td>June-November 2012</td>\n",
       "      <td>CD</td>\n",
       "      <td>Democratic Republic of the Congo</td>\n",
       "      <td>-2.981434</td>\n",
       "      <td>23.822264</td>\n",
       "      <td>Bundibugyo virus</td>\n",
       "      <td>36</td>\n",
       "      <td>13</td>\n",
       "      <td>0.361</td>\n",
       "    </tr>\n",
       "    <tr>\n",
       "      <th>2</th>\n",
       "      <td>2012-06-01 00:00:00</td>\n",
       "      <td>2012-06-01</td>\n",
       "      <td>2012-10-31 00:00:00</td>\n",
       "      <td>2012-10-31</td>\n",
       "      <td>152</td>\n",
       "      <td>June-October 2012</td>\n",
       "      <td>UG</td>\n",
       "      <td>Uganda</td>\n",
       "      <td>1.533355</td>\n",
       "      <td>32.216658</td>\n",
       "      <td>Sudan virus</td>\n",
       "      <td>11</td>\n",
       "      <td>4</td>\n",
       "      <td>0.364</td>\n",
       "    </tr>\n",
       "    <tr>\n",
       "      <th>3</th>\n",
       "      <td>2011-05-01 00:00:00</td>\n",
       "      <td>2011-05-01</td>\n",
       "      <td>2011-05-01 00:00:00</td>\n",
       "      <td>2011-05-01</td>\n",
       "      <td>0</td>\n",
       "      <td>2011-05-01</td>\n",
       "      <td>UG</td>\n",
       "      <td>Uganda</td>\n",
       "      <td>1.533355</td>\n",
       "      <td>32.216658</td>\n",
       "      <td>Sudan virus</td>\n",
       "      <td>1</td>\n",
       "      <td>1</td>\n",
       "      <td>1.000</td>\n",
       "    </tr>\n",
       "    <tr>\n",
       "      <th>4</th>\n",
       "      <td>2008-12-01 00:00:00</td>\n",
       "      <td>2008-12-01</td>\n",
       "      <td>2009-02-28 00:00:00</td>\n",
       "      <td>2009-02-28</td>\n",
       "      <td>89</td>\n",
       "      <td>December 2008-February 2009</td>\n",
       "      <td>CD</td>\n",
       "      <td>Democratic Republic of the Congo</td>\n",
       "      <td>-2.981434</td>\n",
       "      <td>23.822264</td>\n",
       "      <td>Zaire virus</td>\n",
       "      <td>32</td>\n",
       "      <td>15</td>\n",
       "      <td>0.470</td>\n",
       "    </tr>\n",
       "  </tbody>\n",
       "</table>\n",
       "</div>"
      ],
      "text/plain": [
       "        Start_Datetime  Start date         End_Datetime    End date  \\\n",
       "0  2012-11-01 00:00:00  2012-11-01  2013-01-31 00:00:00  2013-01-31   \n",
       "1  2012-06-01 00:00:00  2012-06-01  2012-11-30 00:00:00  2012-11-30   \n",
       "2  2012-06-01 00:00:00  2012-06-01  2012-10-31 00:00:00  2012-10-31   \n",
       "3  2011-05-01 00:00:00  2011-05-01  2011-05-01 00:00:00  2011-05-01   \n",
       "4  2008-12-01 00:00:00  2008-12-01  2009-02-28 00:00:00  2009-02-28   \n",
       "\n",
       "   Duration (days)                      Year(s) Country code (ISO 2 digits)  \\\n",
       "0               91   November 2012-January 2013                          UG   \n",
       "1              182           June-November 2012                          CD   \n",
       "2              152            June-October 2012                          UG   \n",
       "3                0                   2011-05-01                          UG   \n",
       "4               89  December 2008-February 2009                          CD   \n",
       "\n",
       "                       Country name  Latitude  Longitude     Ebola subtype  \\\n",
       "0                            Uganda  1.533355  32.216658       Sudan virus   \n",
       "1  Democratic Republic of the Congo -2.981434  23.822264  Bundibugyo virus   \n",
       "2                            Uganda  1.533355  32.216658       Sudan virus   \n",
       "3                            Uganda  1.533355  32.216658       Sudan virus   \n",
       "4  Democratic Republic of the Congo -2.981434  23.822264       Zaire virus   \n",
       "\n",
       "   Reported number of human cases  Reported number of deaths among cases  \\\n",
       "0                               6                                      3   \n",
       "1                              36                                     13   \n",
       "2                              11                                      4   \n",
       "3                               1                                      1   \n",
       "4                              32                                     15   \n",
       "\n",
       "   Reported % of deaths among cases  \n",
       "0                             0.500  \n",
       "1                             0.361  \n",
       "2                             0.364  \n",
       "3                             1.000  \n",
       "4                             0.470  "
      ]
     },
     "execution_count": 90,
     "metadata": {},
     "output_type": "execute_result"
    }
   ],
   "source": [
    "df_eb = pd.read_csv(\"data/out/ebola-outbreaks-before-2014-coordinates.csv\", encoding=\"utf-8\", index_col=False)\n",
    "\n",
    "df_eb = df_eb.drop(df_eb.columns[0], axis=1)\n",
    "\n",
    "df_eb.head()"
   ]
  },
  {
   "cell_type": "code",
   "execution_count": 85,
   "metadata": {
    "collapsed": false
   },
   "outputs": [
    {
     "name": "stdout",
     "output_type": "stream",
     "text": [
      "[u'Uganda', u'Democratic Republic of the Congo', u'Uganda', u'Uganda', u'Democratic Republic of the Congo']\n"
     ]
    }
   ],
   "source": [
    "all_countries = list(df_eb[\"Country name\"])\n",
    "\n",
    "print all_countries[:5]"
   ]
  },
  {
   "cell_type": "code",
   "execution_count": 86,
   "metadata": {
    "collapsed": true
   },
   "outputs": [],
   "source": [
    "all_geom = [geojson_list[countries.index(country)] for country in all_countries]"
   ]
  },
  {
   "cell_type": "code",
   "execution_count": 87,
   "metadata": {
    "collapsed": false
   },
   "outputs": [
    {
     "data": {
      "text/plain": [
       "{u'coordinates': [[[31.86617, -1.02736],\n",
       "   [30.76986, -1.01455],\n",
       "   [30.419105, -1.134659],\n",
       "   [29.821519, -1.443322],\n",
       "   [29.579466, -1.341313],\n",
       "   [29.587838, -0.587406],\n",
       "   [29.8195, -0.2053],\n",
       "   [29.875779, 0.59738],\n",
       "   [30.086154, 1.062313],\n",
       "   [30.468508, 1.583805],\n",
       "   [30.85267, 1.849396],\n",
       "   [31.174149, 2.204465],\n",
       "   [30.773320000000002, 2.33989],\n",
       "   [30.83385, 3.50917],\n",
       "   [31.24556, 3.7819000000000003],\n",
       "   [31.88145, 3.5582700000000003],\n",
       "   [32.68642, 3.79232],\n",
       "   [33.39, 3.79],\n",
       "   [34.005, 4.249885],\n",
       "   [34.47913, 3.5556],\n",
       "   [34.59607, 3.05374],\n",
       "   [35.03599, 1.90584],\n",
       "   [34.6721, 1.17694],\n",
       "   [34.18, 0.515],\n",
       "   [33.893569, 0.109814],\n",
       "   [33.903711, -0.9500000000000001],\n",
       "   [31.86617, -1.02736]]],\n",
       " u'type': u'Polygon'}"
      ]
     },
     "execution_count": 87,
     "metadata": {},
     "output_type": "execute_result"
    }
   ],
   "source": [
    "all_geom[0]"
   ]
  },
  {
   "cell_type": "code",
   "execution_count": 91,
   "metadata": {
    "collapsed": true
   },
   "outputs": [],
   "source": [
    "df_eb.insert(10, \"Geometry (geojson)\", all_geom)"
   ]
  },
  {
   "cell_type": "code",
   "execution_count": 92,
   "metadata": {
    "collapsed": false
   },
   "outputs": [
    {
     "data": {
      "text/html": [
       "<div>\n",
       "<table border=\"1\" class=\"dataframe\">\n",
       "  <thead>\n",
       "    <tr style=\"text-align: right;\">\n",
       "      <th></th>\n",
       "      <th>Start_Datetime</th>\n",
       "      <th>Start date</th>\n",
       "      <th>End_Datetime</th>\n",
       "      <th>End date</th>\n",
       "      <th>Duration (days)</th>\n",
       "      <th>Year(s)</th>\n",
       "      <th>Country code (ISO 2 digits)</th>\n",
       "      <th>Country name</th>\n",
       "      <th>Latitude</th>\n",
       "      <th>Longitude</th>\n",
       "      <th>Geometry (geojson)</th>\n",
       "      <th>Ebola subtype</th>\n",
       "      <th>Reported number of human cases</th>\n",
       "      <th>Reported number of deaths among cases</th>\n",
       "      <th>Reported % of deaths among cases</th>\n",
       "    </tr>\n",
       "  </thead>\n",
       "  <tbody>\n",
       "    <tr>\n",
       "      <th>0</th>\n",
       "      <td>2012-11-01 00:00:00</td>\n",
       "      <td>2012-11-01</td>\n",
       "      <td>2013-01-31 00:00:00</td>\n",
       "      <td>2013-01-31</td>\n",
       "      <td>91</td>\n",
       "      <td>November 2012-January 2013</td>\n",
       "      <td>UG</td>\n",
       "      <td>Uganda</td>\n",
       "      <td>1.533355</td>\n",
       "      <td>32.216658</td>\n",
       "      <td>{u'type': u'Polygon', u'coordinates': [[[31.86...</td>\n",
       "      <td>Sudan virus</td>\n",
       "      <td>6</td>\n",
       "      <td>3</td>\n",
       "      <td>0.500</td>\n",
       "    </tr>\n",
       "    <tr>\n",
       "      <th>1</th>\n",
       "      <td>2012-06-01 00:00:00</td>\n",
       "      <td>2012-06-01</td>\n",
       "      <td>2012-11-30 00:00:00</td>\n",
       "      <td>2012-11-30</td>\n",
       "      <td>182</td>\n",
       "      <td>June-November 2012</td>\n",
       "      <td>CD</td>\n",
       "      <td>Democratic Republic of the Congo</td>\n",
       "      <td>-2.981434</td>\n",
       "      <td>23.822264</td>\n",
       "      <td>{u'type': u'Polygon', u'coordinates': [[[30.83...</td>\n",
       "      <td>Bundibugyo virus</td>\n",
       "      <td>36</td>\n",
       "      <td>13</td>\n",
       "      <td>0.361</td>\n",
       "    </tr>\n",
       "    <tr>\n",
       "      <th>2</th>\n",
       "      <td>2012-06-01 00:00:00</td>\n",
       "      <td>2012-06-01</td>\n",
       "      <td>2012-10-31 00:00:00</td>\n",
       "      <td>2012-10-31</td>\n",
       "      <td>152</td>\n",
       "      <td>June-October 2012</td>\n",
       "      <td>UG</td>\n",
       "      <td>Uganda</td>\n",
       "      <td>1.533355</td>\n",
       "      <td>32.216658</td>\n",
       "      <td>{u'type': u'Polygon', u'coordinates': [[[31.86...</td>\n",
       "      <td>Sudan virus</td>\n",
       "      <td>11</td>\n",
       "      <td>4</td>\n",
       "      <td>0.364</td>\n",
       "    </tr>\n",
       "    <tr>\n",
       "      <th>3</th>\n",
       "      <td>2011-05-01 00:00:00</td>\n",
       "      <td>2011-05-01</td>\n",
       "      <td>2011-05-01 00:00:00</td>\n",
       "      <td>2011-05-01</td>\n",
       "      <td>0</td>\n",
       "      <td>2011-05-01</td>\n",
       "      <td>UG</td>\n",
       "      <td>Uganda</td>\n",
       "      <td>1.533355</td>\n",
       "      <td>32.216658</td>\n",
       "      <td>{u'type': u'Polygon', u'coordinates': [[[31.86...</td>\n",
       "      <td>Sudan virus</td>\n",
       "      <td>1</td>\n",
       "      <td>1</td>\n",
       "      <td>1.000</td>\n",
       "    </tr>\n",
       "    <tr>\n",
       "      <th>4</th>\n",
       "      <td>2008-12-01 00:00:00</td>\n",
       "      <td>2008-12-01</td>\n",
       "      <td>2009-02-28 00:00:00</td>\n",
       "      <td>2009-02-28</td>\n",
       "      <td>89</td>\n",
       "      <td>December 2008-February 2009</td>\n",
       "      <td>CD</td>\n",
       "      <td>Democratic Republic of the Congo</td>\n",
       "      <td>-2.981434</td>\n",
       "      <td>23.822264</td>\n",
       "      <td>{u'type': u'Polygon', u'coordinates': [[[30.83...</td>\n",
       "      <td>Zaire virus</td>\n",
       "      <td>32</td>\n",
       "      <td>15</td>\n",
       "      <td>0.470</td>\n",
       "    </tr>\n",
       "  </tbody>\n",
       "</table>\n",
       "</div>"
      ],
      "text/plain": [
       "        Start_Datetime  Start date         End_Datetime    End date  \\\n",
       "0  2012-11-01 00:00:00  2012-11-01  2013-01-31 00:00:00  2013-01-31   \n",
       "1  2012-06-01 00:00:00  2012-06-01  2012-11-30 00:00:00  2012-11-30   \n",
       "2  2012-06-01 00:00:00  2012-06-01  2012-10-31 00:00:00  2012-10-31   \n",
       "3  2011-05-01 00:00:00  2011-05-01  2011-05-01 00:00:00  2011-05-01   \n",
       "4  2008-12-01 00:00:00  2008-12-01  2009-02-28 00:00:00  2009-02-28   \n",
       "\n",
       "   Duration (days)                      Year(s) Country code (ISO 2 digits)  \\\n",
       "0               91   November 2012-January 2013                          UG   \n",
       "1              182           June-November 2012                          CD   \n",
       "2              152            June-October 2012                          UG   \n",
       "3                0                   2011-05-01                          UG   \n",
       "4               89  December 2008-February 2009                          CD   \n",
       "\n",
       "                       Country name  Latitude  Longitude  \\\n",
       "0                            Uganda  1.533355  32.216658   \n",
       "1  Democratic Republic of the Congo -2.981434  23.822264   \n",
       "2                            Uganda  1.533355  32.216658   \n",
       "3                            Uganda  1.533355  32.216658   \n",
       "4  Democratic Republic of the Congo -2.981434  23.822264   \n",
       "\n",
       "                                  Geometry (geojson)     Ebola subtype  \\\n",
       "0  {u'type': u'Polygon', u'coordinates': [[[31.86...       Sudan virus   \n",
       "1  {u'type': u'Polygon', u'coordinates': [[[30.83...  Bundibugyo virus   \n",
       "2  {u'type': u'Polygon', u'coordinates': [[[31.86...       Sudan virus   \n",
       "3  {u'type': u'Polygon', u'coordinates': [[[31.86...       Sudan virus   \n",
       "4  {u'type': u'Polygon', u'coordinates': [[[30.83...       Zaire virus   \n",
       "\n",
       "   Reported number of human cases  Reported number of deaths among cases  \\\n",
       "0                               6                                      3   \n",
       "1                              36                                     13   \n",
       "2                              11                                      4   \n",
       "3                               1                                      1   \n",
       "4                              32                                     15   \n",
       "\n",
       "   Reported % of deaths among cases  \n",
       "0                             0.500  \n",
       "1                             0.361  \n",
       "2                             0.364  \n",
       "3                             1.000  \n",
       "4                             0.470  "
      ]
     },
     "execution_count": 92,
     "metadata": {},
     "output_type": "execute_result"
    }
   ],
   "source": [
    "df_eb.head()"
   ]
  },
  {
   "cell_type": "code",
   "execution_count": 93,
   "metadata": {
    "collapsed": true
   },
   "outputs": [],
   "source": [
    "df_eb.to_csv(\"data/out/ebola-outbreaks-before-2014-geometry.csv\", encoding=\"utf-8\", index_col=False)"
   ]
  },
  {
   "cell_type": "code",
   "execution_count": null,
   "metadata": {
    "collapsed": true
   },
   "outputs": [],
   "source": []
  }
 ],
 "metadata": {
  "kernelspec": {
   "display_name": "Python 2",
   "language": "python",
   "name": "python2"
  },
  "language_info": {
   "codemirror_mode": {
    "name": "ipython",
    "version": 2
   },
   "file_extension": ".py",
   "mimetype": "text/x-python",
   "name": "python",
   "nbconvert_exporter": "python",
   "pygments_lexer": "ipython2",
   "version": "2.7.6"
  }
 },
 "nbformat": 4,
 "nbformat_minor": 0
}
