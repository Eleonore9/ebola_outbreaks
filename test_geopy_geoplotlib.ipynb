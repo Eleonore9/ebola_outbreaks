{
 "cells": [
  {
   "cell_type": "code",
   "execution_count": 9,
   "metadata": {
    "collapsed": true
   },
   "outputs": [],
   "source": [
    "# Geocode with geoPy:\n",
    "from geopy.geocoders import Nominatim"
   ]
  },
  {
   "cell_type": "code",
   "execution_count": 2,
   "metadata": {
    "collapsed": true
   },
   "outputs": [],
   "source": [
    "geolocator = Nominatim()"
   ]
  },
  {
   "cell_type": "code",
   "execution_count": 4,
   "metadata": {
    "collapsed": false
   },
   "outputs": [
    {
     "name": "stdout",
     "output_type": "stream",
     "text": [
      "<class 'geopy.location.Location'>\n"
     ]
    }
   ],
   "source": [
    "location = geolocator.geocode(\"London\")\n",
    "\n",
    "print type(location)"
   ]
  },
  {
   "cell_type": "code",
   "execution_count": 7,
   "metadata": {
    "collapsed": false
   },
   "outputs": [
    {
     "name": "stdout",
     "output_type": "stream",
     "text": [
      "London, Greater London, England, United Kingdom\n"
     ]
    }
   ],
   "source": [
    "print location.address"
   ]
  },
  {
   "cell_type": "code",
   "execution_count": 8,
   "metadata": {
    "collapsed": false
   },
   "outputs": [
    {
     "name": "stdout",
     "output_type": "stream",
     "text": [
      "(51.5073219, -0.1276474)\n"
     ]
    }
   ],
   "source": [
    "print(location.latitude, location.longitude)"
   ]
  },
  {
   "cell_type": "code",
   "execution_count": 10,
   "metadata": {
    "collapsed": true
   },
   "outputs": [],
   "source": [
    "# Plot with geoplotlib\n",
    "import geoplotlib"
   ]
  },
  {
   "cell_type": "code",
   "execution_count": 16,
   "metadata": {
    "collapsed": false
   },
   "outputs": [
    {
     "name": "stdout",
     "output_type": "stream",
     "text": [
      "{'lat': [51.5073219], 'lon': [-0.1276474], 'name': ['London']}\n"
     ]
    }
   ],
   "source": [
    "data = {'name': [\"London\"], 'lat': [location.latitude], 'lon': [location.longitude]}\n",
    "\n",
    "print data"
   ]
  },
  {
   "cell_type": "code",
   "execution_count": 17,
   "metadata": {
    "collapsed": true
   },
   "outputs": [],
   "source": [
    "geoplotlib.dot(data)"
   ]
  },
  {
   "cell_type": "code",
   "execution_count": 18,
   "metadata": {
    "collapsed": false
   },
   "outputs": [
    {
     "name": "stdout",
     "output_type": "stream",
     "text": [
      "('http://otile3.mqcdn.com/tiles/1.0.0/osm/20/523912/348677.png', HTTPError())\n",
      "('http://otile2.mqcdn.com/tiles/1.0.0/osm/20/523912/348676.png', HTTPError())\n",
      "('http://otile2.mqcdn.com/tiles/1.0.0/osm/20/523913/348677.png', HTTPError())('http://otile4.mqcdn.com/tiles/1.0.0/osm/20/523914/348678.png', HTTPError())\n",
      "\n",
      "('http://otile3.mqcdn.com/tiles/1.0.0/osm/20/523918/348679.png', HTTPError())\n",
      "('http://otile3.mqcdn.com/tiles/1.0.0/osm/20/523916/348677.png', HTTPError())\n",
      "('http://otile3.mqcdn.com/tiles/1.0.0/osm/20/523913/348680.png', HTTPError())\n",
      "('http://otile1.mqcdn.com/tiles/1.0.0/osm/20/523917/348678.png', HTTPError())\n",
      "('http://otile3.mqcdn.com/tiles/1.0.0/osm/20/523912/348676.png', HTTPError())\n",
      "('http://otile3.mqcdn.com/tiles/1.0.0/osm/20/523915/348676.png', HTTPError())\n",
      "('http://otile4.mqcdn.com/tiles/1.0.0/osm/20/523918/348677.png', HTTPError())\n",
      "('http://otile2.mqcdn.com/tiles/1.0.0/osm/20/523916/348676.png', HTTPError())\n",
      "('http://otile3.mqcdn.com/tiles/1.0.0/osm/20/523918/348677.png', HTTPError())\n",
      "('http://otile4.mqcdn.com/tiles/1.0.0/osm/20/523917/348676.png', HTTPError())\n",
      "('http://otile1.mqcdn.com/tiles/1.0.0/osm/20/523912/348679.png', HTTPError())\n",
      "('http://otile3.mqcdn.com/tiles/1.0.0/osm/20/523912/348678.png', HTTPError())\n",
      "('http://otile4.mqcdn.com/tiles/1.0.0/osm/20/523919/348677.png', HTTPError())\n",
      "('http://otile2.mqcdn.com/tiles/1.0.0/osm/20/523917/348677.png', HTTPError())\n",
      "('http://otile3.mqcdn.com/tiles/1.0.0/osm/20/523917/348679.png', HTTPError())\n",
      "('http://otile1.mqcdn.com/tiles/1.0.0/osm/20/523914/348678.png', HTTPError())\n",
      "('http://otile1.mqcdn.com/tiles/1.0.0/osm/20/523919/348679.png', HTTPError())\n",
      "('http://otile3.mqcdn.com/tiles/1.0.0/osm/20/523919/348676.png', HTTPError())\n",
      "('http://otile4.mqcdn.com/tiles/1.0.0/osm/20/523912/348677.png', HTTPError())\n",
      "('http://otile4.mqcdn.com/tiles/1.0.0/osm/20/523913/348676.png', HTTPError())\n",
      "('http://otile2.mqcdn.com/tiles/1.0.0/osm/20/523918/348680.png', HTTPError())\n",
      "('http://otile1.mqcdn.com/tiles/1.0.0/osm/20/523912/348677.png', HTTPError())\n",
      "('http://otile2.mqcdn.com/tiles/1.0.0/osm/20/523912/348677.png', HTTPError())('http://otile1.mqcdn.com/tiles/1.0.0/osm/20/523913/348679.png', HTTPError())\n",
      "\n",
      "('http://otile3.mqcdn.com/tiles/1.0.0/osm/20/523915/348680.png', HTTPError())\n",
      "('http://otile3.mqcdn.com/tiles/1.0.0/osm/20/523913/348677.png', HTTPError())\n",
      "('http://otile2.mqcdn.com/tiles/1.0.0/osm/20/523915/348678.png', HTTPError())\n",
      "('http://otile1.mqcdn.com/tiles/1.0.0/osm/20/523914/348679.png', HTTPError())\n",
      "('http://otile4.mqcdn.com/tiles/1.0.0/osm/20/523915/348679.png', HTTPError())\n",
      "('http://otile1.mqcdn.com/tiles/1.0.0/osm/20/523914/348680.png', HTTPError())\n",
      "('http://otile2.mqcdn.com/tiles/1.0.0/osm/20/523918/348678.png', HTTPError())\n",
      "('http://otile3.mqcdn.com/tiles/1.0.0/osm/20/523914/348679.png', HTTPError())\n",
      "('http://otile3.mqcdn.com/tiles/1.0.0/osm/20/523915/348678.png', HTTPError())\n",
      "('http://otile2.mqcdn.com/tiles/1.0.0/osm/20/523917/348678.png', HTTPError())\n",
      "('http://otile3.mqcdn.com/tiles/1.0.0/osm/20/523914/348676.png', HTTPError())\n",
      "('http://otile4.mqcdn.com/tiles/1.0.0/osm/20/523917/348678.png', HTTPError())\n",
      "('http://otile2.mqcdn.com/tiles/1.0.0/osm/20/523918/348677.png', HTTPError())\n",
      "('http://otile3.mqcdn.com/tiles/1.0.0/osm/20/523916/348679.png', HTTPError())\n",
      "('http://otile2.mqcdn.com/tiles/1.0.0/osm/20/523915/348680.png', HTTPError())\n",
      "('http://otile1.mqcdn.com/tiles/1.0.0/osm/20/523917/348677.png', HTTPError())\n",
      "('http://otile4.mqcdn.com/tiles/1.0.0/osm/20/523917/348680.png', HTTPError())\n",
      "('http://otile2.mqcdn.com/tiles/1.0.0/osm/20/523917/348680.png', HTTPError())\n",
      "('http://otile3.mqcdn.com/tiles/1.0.0/osm/20/523914/348680.png', HTTPError())\n",
      "('http://otile2.mqcdn.com/tiles/1.0.0/osm/20/523915/348679.png', HTTPError())\n",
      "('http://otile2.mqcdn.com/tiles/1.0.0/osm/20/523914/348679.png', HTTPError())\n",
      "('http://otile4.mqcdn.com/tiles/1.0.0/osm/20/523914/348679.png', HTTPError())\n",
      "('http://otile1.mqcdn.com/tiles/1.0.0/osm/20/523917/348676.png', HTTPError())\n",
      "('http://otile2.mqcdn.com/tiles/1.0.0/osm/20/523919/348677.png', HTTPError())\n",
      "('http://otile2.mqcdn.com/tiles/1.0.0/osm/20/523912/348678.png', HTTPError())\n",
      "('http://otile4.mqcdn.com/tiles/1.0.0/osm/20/523915/348676.png', HTTPError())\n",
      "('http://otile1.mqcdn.com/tiles/1.0.0/osm/20/523919/348677.png', HTTPError())\n",
      "('http://otile4.mqcdn.com/tiles/1.0.0/osm/20/523912/348676.png', HTTPError())\n",
      "('http://otile1.mqcdn.com/tiles/1.0.0/osm/20/523919/348676.png', HTTPError())\n",
      "('http://otile2.mqcdn.com/tiles/1.0.0/osm/20/523913/348679.png', HTTPError())\n",
      "('http://otile4.mqcdn.com/tiles/1.0.0/osm/20/523915/348678.png', HTTPError())\n",
      "('http://otile3.mqcdn.com/tiles/1.0.0/osm/20/523915/348679.png', HTTPError())\n",
      "('http://otile1.mqcdn.com/tiles/1.0.0/osm/20/523916/348680.png', HTTPError())\n",
      "('http://otile2.mqcdn.com/tiles/1.0.0/osm/20/523914/348677.png', HTTPError())\n",
      "('http://otile3.mqcdn.com/tiles/1.0.0/osm/20/523912/348680.png', HTTPError())\n",
      "('http://otile1.mqcdn.com/tiles/1.0.0/osm/20/523915/348678.png', HTTPError())\n",
      "('http://otile4.mqcdn.com/tiles/1.0.0/osm/20/523919/348676.png', HTTPError())\n",
      "('http://otile4.mqcdn.com/tiles/1.0.0/osm/20/523917/348677.png', HTTPError())\n",
      "('http://otile2.mqcdn.com/tiles/1.0.0/osm/20/523918/348679.png', HTTPError())\n",
      "('http://otile4.mqcdn.com/tiles/1.0.0/osm/20/523919/348679.png', HTTPError())\n",
      "('http://otile4.mqcdn.com/tiles/1.0.0/osm/20/523916/348679.png', HTTPError())\n",
      "('http://otile2.mqcdn.com/tiles/1.0.0/osm/20/523913/348676.png', HTTPError())('http://otile2.mqcdn.com/tiles/1.0.0/osm/20/523918/348676.png', HTTPError())\n",
      "\n",
      "('http://otile3.mqcdn.com/tiles/1.0.0/osm/20/523913/348679.png', HTTPError())\n",
      "('http://otile4.mqcdn.com/tiles/1.0.0/osm/20/523913/348680.png', HTTPError())\n",
      "('http://otile3.mqcdn.com/tiles/1.0.0/osm/20/523915/348677.png', HTTPError())\n",
      "('http://otile3.mqcdn.com/tiles/1.0.0/osm/20/523916/348678.png', HTTPError())\n"
     ]
    }
   ],
   "source": [
    "geoplotlib.show()"
   ]
  },
  {
   "cell_type": "code",
   "execution_count": null,
   "metadata": {
    "collapsed": true
   },
   "outputs": [],
   "source": []
  }
 ],
 "metadata": {
  "kernelspec": {
   "display_name": "Python 2",
   "language": "python",
   "name": "python2"
  },
  "language_info": {
   "codemirror_mode": {
    "name": "ipython",
    "version": 2
   },
   "file_extension": ".py",
   "mimetype": "text/x-python",
   "name": "python",
   "nbconvert_exporter": "python",
   "pygments_lexer": "ipython2",
   "version": "2.7.6"
  }
 },
 "nbformat": 4,
 "nbformat_minor": 0
}
