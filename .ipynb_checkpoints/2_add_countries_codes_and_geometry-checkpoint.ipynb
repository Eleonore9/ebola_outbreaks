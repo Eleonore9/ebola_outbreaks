{
 "cells": [
  {
   "cell_type": "markdown",
   "metadata": {},
   "source": [
    "##Add the countries ISO codes to bypass different name spellings"
   ]
  },
  {
   "cell_type": "markdown",
   "metadata": {},
   "source": [
    "__Note: I added the KML geometries in this notebook but it doesn't seem to be useful__"
   ]
  },
  {
   "cell_type": "code",
   "execution_count": 70,
   "metadata": {
    "collapsed": true
   },
   "outputs": [],
   "source": [
    "import pandas as pd"
   ]
  },
  {
   "cell_type": "code",
   "execution_count": 71,
   "metadata": {
    "collapsed": false
   },
   "outputs": [
    {
     "data": {
      "text/html": [
       "<div style=\"max-height:1000px;max-width:1500px;overflow:auto;\">\n",
       "<table border=\"1\" class=\"dataframe\">\n",
       "  <thead>\n",
       "    <tr style=\"text-align: right;\">\n",
       "      <th></th>\n",
       "      <th>Unnamed: 0</th>\n",
       "      <th>Start_Datetime</th>\n",
       "      <th>Start date</th>\n",
       "      <th>End_Datetime</th>\n",
       "      <th>End date</th>\n",
       "      <th>Duration (days)</th>\n",
       "      <th>Year(s)</th>\n",
       "      <th>Country</th>\n",
       "      <th>Ebola subtype</th>\n",
       "      <th>Reported number of human cases</th>\n",
       "      <th>Reported number of deaths among cases</th>\n",
       "      <th>Reported % of deaths among cases</th>\n",
       "    </tr>\n",
       "  </thead>\n",
       "  <tbody>\n",
       "    <tr>\n",
       "      <th>0</th>\n",
       "      <td>0</td>\n",
       "      <td>2012-11-01 00:00:00</td>\n",
       "      <td>2012-11-01</td>\n",
       "      <td>2013-01-31 00:00:00</td>\n",
       "      <td>2013-01-31</td>\n",
       "      <td>91</td>\n",
       "      <td>November 2012-January 2013</td>\n",
       "      <td>Uganda</td>\n",
       "      <td>Sudan virus</td>\n",
       "      <td>6</td>\n",
       "      <td>3</td>\n",
       "      <td>0.500</td>\n",
       "    </tr>\n",
       "    <tr>\n",
       "      <th>1</th>\n",
       "      <td>1</td>\n",
       "      <td>2012-06-01 00:00:00</td>\n",
       "      <td>2012-06-01</td>\n",
       "      <td>2012-11-30 00:00:00</td>\n",
       "      <td>2012-11-30</td>\n",
       "      <td>182</td>\n",
       "      <td>June-November 2012</td>\n",
       "      <td>Democratic Republic of the Congo</td>\n",
       "      <td>Bundibugyo virus</td>\n",
       "      <td>36</td>\n",
       "      <td>13</td>\n",
       "      <td>0.361</td>\n",
       "    </tr>\n",
       "    <tr>\n",
       "      <th>2</th>\n",
       "      <td>2</td>\n",
       "      <td>2012-06-01 00:00:00</td>\n",
       "      <td>2012-06-01</td>\n",
       "      <td>2012-10-31 00:00:00</td>\n",
       "      <td>2012-10-31</td>\n",
       "      <td>152</td>\n",
       "      <td>June-October 2012</td>\n",
       "      <td>Uganda</td>\n",
       "      <td>Sudan virus</td>\n",
       "      <td>11</td>\n",
       "      <td>4</td>\n",
       "      <td>0.364</td>\n",
       "    </tr>\n",
       "    <tr>\n",
       "      <th>3</th>\n",
       "      <td>3</td>\n",
       "      <td>2011-05-01 00:00:00</td>\n",
       "      <td>2011-05-01</td>\n",
       "      <td>2011-05-01 00:00:00</td>\n",
       "      <td>2011-05-01</td>\n",
       "      <td>0</td>\n",
       "      <td>2011-05-01</td>\n",
       "      <td>Uganda</td>\n",
       "      <td>Sudan virus</td>\n",
       "      <td>1</td>\n",
       "      <td>1</td>\n",
       "      <td>1.000</td>\n",
       "    </tr>\n",
       "    <tr>\n",
       "      <th>4</th>\n",
       "      <td>4</td>\n",
       "      <td>2008-12-01 00:00:00</td>\n",
       "      <td>2008-12-01</td>\n",
       "      <td>2009-02-28 00:00:00</td>\n",
       "      <td>2009-02-28</td>\n",
       "      <td>89</td>\n",
       "      <td>December 2008-February 2009</td>\n",
       "      <td>Democratic Republic of the Congo</td>\n",
       "      <td>Zaire virus</td>\n",
       "      <td>32</td>\n",
       "      <td>15</td>\n",
       "      <td>0.470</td>\n",
       "    </tr>\n",
       "  </tbody>\n",
       "</table>\n",
       "</div>"
      ],
      "text/plain": [
       "   Unnamed: 0       Start_Datetime  Start date         End_Datetime  \\\n",
       "0           0  2012-11-01 00:00:00  2012-11-01  2013-01-31 00:00:00   \n",
       "1           1  2012-06-01 00:00:00  2012-06-01  2012-11-30 00:00:00   \n",
       "2           2  2012-06-01 00:00:00  2012-06-01  2012-10-31 00:00:00   \n",
       "3           3  2011-05-01 00:00:00  2011-05-01  2011-05-01 00:00:00   \n",
       "4           4  2008-12-01 00:00:00  2008-12-01  2009-02-28 00:00:00   \n",
       "\n",
       "     End date  Duration (days)                      Year(s)  \\\n",
       "0  2013-01-31               91   November 2012-January 2013   \n",
       "1  2012-11-30              182           June-November 2012   \n",
       "2  2012-10-31              152            June-October 2012   \n",
       "3  2011-05-01                0                   2011-05-01   \n",
       "4  2009-02-28               89  December 2008-February 2009   \n",
       "\n",
       "                            Country     Ebola subtype  \\\n",
       "0                            Uganda       Sudan virus   \n",
       "1  Democratic Republic of the Congo  Bundibugyo virus   \n",
       "2                            Uganda       Sudan virus   \n",
       "3                            Uganda       Sudan virus   \n",
       "4  Democratic Republic of the Congo       Zaire virus   \n",
       "\n",
       "   Reported number of human cases  Reported number of deaths among cases  \\\n",
       "0                               6                                      3   \n",
       "1                              36                                     13   \n",
       "2                              11                                      4   \n",
       "3                               1                                      1   \n",
       "4                              32                                     15   \n",
       "\n",
       "   Reported % of deaths among cases  \n",
       "0                             0.500  \n",
       "1                             0.361  \n",
       "2                             0.364  \n",
       "3                             1.000  \n",
       "4                             0.470  "
      ]
     },
     "execution_count": 71,
     "metadata": {},
     "output_type": "execute_result"
    }
   ],
   "source": [
    "df_eb = pd.read_csv(\"csv/out/ebola-outbreaks-before-2014-dates.csv\", encoding=\"utf-8\")\n",
    "\n",
    "df_eb.head()"
   ]
  },
  {
   "cell_type": "code",
   "execution_count": 72,
   "metadata": {
    "collapsed": false
   },
   "outputs": [
    {
     "data": {
      "text/html": [
       "<div style=\"max-height:1000px;max-width:1500px;overflow:auto;\">\n",
       "<table border=\"1\" class=\"dataframe\">\n",
       "  <thead>\n",
       "    <tr style=\"text-align: right;\">\n",
       "      <th></th>\n",
       "      <th>geometry</th>\n",
       "      <th>geometry_vertex_count</th>\n",
       "      <th>OBJECTID</th>\n",
       "      <th>ISO_2DIGIT</th>\n",
       "      <th>Shape_Leng</th>\n",
       "      <th>Shape_Area</th>\n",
       "      <th>Name</th>\n",
       "      <th>import_notes</th>\n",
       "      <th>Google requests</th>\n",
       "    </tr>\n",
       "  </thead>\n",
       "  <tbody>\n",
       "    <tr>\n",
       "      <th>0</th>\n",
       "      <td>&lt;Polygon&gt;&lt;outerBoundaryIs&gt;&lt;LinearRing&gt;&lt;coordin...</td>\n",
       "      <td>5</td>\n",
       "      <td>1</td>\n",
       "      <td>AD</td>\n",
       "      <td>0.836259</td>\n",
       "      <td>0.036910</td>\n",
       "      <td>Andorra</td>\n",
       "      <td>NaN</td>\n",
       "      <td>NaN</td>\n",
       "    </tr>\n",
       "    <tr>\n",
       "      <th>1</th>\n",
       "      <td>&lt;Polygon&gt;&lt;outerBoundaryIs&gt;&lt;LinearRing&gt;&lt;coordin...</td>\n",
       "      <td>22</td>\n",
       "      <td>2</td>\n",
       "      <td>AE</td>\n",
       "      <td>14.616977</td>\n",
       "      <td>6.031750</td>\n",
       "      <td>United Arab Emirates</td>\n",
       "      <td>NaN</td>\n",
       "      <td>NaN</td>\n",
       "    </tr>\n",
       "    <tr>\n",
       "      <th>2</th>\n",
       "      <td>&lt;Polygon&gt;&lt;outerBoundaryIs&gt;&lt;LinearRing&gt;&lt;coordin...</td>\n",
       "      <td>71</td>\n",
       "      <td>3</td>\n",
       "      <td>AF</td>\n",
       "      <td>47.721785</td>\n",
       "      <td>62.492024</td>\n",
       "      <td>Afghanistan</td>\n",
       "      <td>NaN</td>\n",
       "      <td>NaN</td>\n",
       "    </tr>\n",
       "    <tr>\n",
       "      <th>3</th>\n",
       "      <td>&lt;Polygon&gt;&lt;outerBoundaryIs&gt;&lt;LinearRing&gt;&lt;coordin...</td>\n",
       "      <td>5</td>\n",
       "      <td>4</td>\n",
       "      <td>AG</td>\n",
       "      <td>0.596002</td>\n",
       "      <td>0.021586</td>\n",
       "      <td>Antigua &amp; Barbuda</td>\n",
       "      <td>NaN</td>\n",
       "      <td>NaN</td>\n",
       "    </tr>\n",
       "    <tr>\n",
       "      <th>4</th>\n",
       "      <td>&lt;Polygon&gt;&lt;outerBoundaryIs&gt;&lt;LinearRing&gt;&lt;coordin...</td>\n",
       "      <td>5</td>\n",
       "      <td>5</td>\n",
       "      <td>AI</td>\n",
       "      <td>0.464586</td>\n",
       "      <td>0.006343</td>\n",
       "      <td>Anguilla</td>\n",
       "      <td>NaN</td>\n",
       "      <td>NaN</td>\n",
       "    </tr>\n",
       "  </tbody>\n",
       "</table>\n",
       "</div>"
      ],
      "text/plain": [
       "                                            geometry  geometry_vertex_count  \\\n",
       "0  <Polygon><outerBoundaryIs><LinearRing><coordin...                      5   \n",
       "1  <Polygon><outerBoundaryIs><LinearRing><coordin...                     22   \n",
       "2  <Polygon><outerBoundaryIs><LinearRing><coordin...                     71   \n",
       "3  <Polygon><outerBoundaryIs><LinearRing><coordin...                      5   \n",
       "4  <Polygon><outerBoundaryIs><LinearRing><coordin...                      5   \n",
       "\n",
       "   OBJECTID ISO_2DIGIT  Shape_Leng  Shape_Area                  Name  \\\n",
       "0         1         AD    0.836259    0.036910               Andorra   \n",
       "1         2         AE   14.616977    6.031750  United Arab Emirates   \n",
       "2         3         AF   47.721785   62.492024           Afghanistan   \n",
       "3         4         AG    0.596002    0.021586     Antigua & Barbuda   \n",
       "4         5         AI    0.464586    0.006343              Anguilla   \n",
       "\n",
       "   import_notes  Google requests  \n",
       "0           NaN              NaN  \n",
       "1           NaN              NaN  \n",
       "2           NaN              NaN  \n",
       "3           NaN              NaN  \n",
       "4           NaN              NaN  "
      ]
     },
     "execution_count": 72,
     "metadata": {},
     "output_type": "execute_result"
    }
   ],
   "source": [
    "df_geom = pd.read_csv(\"csv/in/World Country Boundaries.csv\")\n",
    "\n",
    "df_geom.head()"
   ]
  },
  {
   "cell_type": "code",
   "execution_count": 73,
   "metadata": {
    "collapsed": false
   },
   "outputs": [
    {
     "name": "stdout",
     "output_type": "stream",
     "text": [
      "15\n",
      "[u\"C\\xf4te d'Ivoire (Ivory Coast)\", u'Italy', u'USA', u'South Africa', u'Democratic Republic of the Congo (formerly Zaire)', u'Philippines', u'Republic of the Congo', u'Democratic Republic of the Congo', u'Gabon', u'Sudan (South Sudan)', u'Uganda', u'Zaire (Democratic Republic of the Congo - DRC)', u'England', u'Zaire', u'Russia']\n"
     ]
    }
   ],
   "source": [
    "all_eb_countries = list(set(df_eb[\"Country\"]))\n",
    "\n",
    "print len(all_eb_countries)\n",
    "print all_eb_countries"
   ]
  },
  {
   "cell_type": "code",
   "execution_count": 74,
   "metadata": {
    "collapsed": false
   },
   "outputs": [
    {
     "name": "stdout",
     "output_type": "stream",
     "text": [
      "6\n",
      "['Italy', 'South Africa', 'Philippines', 'Gabon', 'Uganda', 'Russia']\n"
     ]
    }
   ],
   "source": [
    "dict_countries = {}\n",
    "\n",
    "for i in range(len(df_geom)):\n",
    "    if df_geom[\"Name\"][i] in all_eb_countries:\n",
    "        dict_countries[df_geom[\"Name\"][i]] = df_geom[\"geometry\"][i]\n",
    "        \n",
    "print len(dict_countries)\n",
    "print dict_countries.keys()"
   ]
  },
  {
   "cell_type": "code",
   "execution_count": 75,
   "metadata": {
    "collapsed": false
   },
   "outputs": [
    {
     "name": "stdout",
     "output_type": "stream",
     "text": [
      "9\n",
      "[u\"C\\xf4te d'Ivoire (Ivory Coast)\", u'England', u'USA', u'Democratic Republic of the Congo (formerly Zaire)', u'Republic of the Congo', u'Democratic Republic of the Congo', u'Sudan (South Sudan)', u'Zaire (Democratic Republic of the Congo - DRC)', u'Zaire']\n"
     ]
    }
   ],
   "source": [
    "missing = set(all_eb_countries) - set(dict_countries.keys())\n",
    "print len(missing)\n",
    "print list(missing)"
   ]
  },
  {
   "cell_type": "markdown",
   "metadata": {},
   "source": [
    "####It isn't possible to add geometries associated with each country as countries are names aren't consistent.\n",
    "####=> Let's use country ISO codes instead!"
   ]
  },
  {
   "cell_type": "code",
   "execution_count": 76,
   "metadata": {
    "collapsed": true
   },
   "outputs": [],
   "source": [
    "dict_codes = {\n",
    "    u\"C\\xf4te d'Ivoire (Ivory Coast)\": 'CI', \n",
    "    u'Italy': 'IT', \n",
    "    u'USA': 'US', \n",
    "    u'South Africa': 'ZA', \n",
    "    u'Democratic Republic of the Congo (formerly Zaire)': 'CD', \n",
    "    u'Philippines': 'PH', \n",
    "    u'Republic of the Congo': 'CG', \n",
    "    u'Democratic Republic of the Congo': 'CD', \n",
    "    u'Gabon': 'GA', \n",
    "    u'Sudan (South Sudan)': 'SD', \n",
    "    u'Uganda': 'UG', \n",
    "    u'Zaire (Democratic Republic of the Congo - DRC)': 'CD', \n",
    "    u'England': 'GB', \n",
    "    u'Zaire': 'CD', \n",
    "    u'Russia': 'RU'\n",
    "}"
   ]
  },
  {
   "cell_type": "code",
   "execution_count": 77,
   "metadata": {
    "collapsed": false
   },
   "outputs": [],
   "source": [
    "## df_geom[\"ISO_2DIGIT\"][73]"
   ]
  },
  {
   "cell_type": "code",
   "execution_count": 78,
   "metadata": {
    "collapsed": false
   },
   "outputs": [],
   "source": [
    "## df_geom[df_geom[\"ISO_2DIGIT\"] == 'US']"
   ]
  },
  {
   "cell_type": "code",
   "execution_count": 79,
   "metadata": {
    "collapsed": false
   },
   "outputs": [
    {
     "name": "stdout",
     "output_type": "stream",
     "text": [
      "0                              Uganda\n",
      "1    Democratic Republic of the Congo\n",
      "2                              Uganda\n",
      "Name: Country, dtype: object\n",
      "['UG', 'CD', 'UG']\n"
     ]
    }
   ],
   "source": [
    "eb_country_code = []\n",
    "for country in df_eb[\"Country\"]:\n",
    "    eb_country_code.append(dict_codes.get(country))\n",
    "\n",
    "print df_eb[\"Country\"][:3]\n",
    "print eb_country_code[:3]"
   ]
  },
  {
   "cell_type": "code",
   "execution_count": 80,
   "metadata": {
    "collapsed": false
   },
   "outputs": [],
   "source": [
    "df_eb.insert(7, \"Country code (ISO 2 digits)\", eb_country_code)"
   ]
  },
  {
   "cell_type": "code",
   "execution_count": 81,
   "metadata": {
    "collapsed": false
   },
   "outputs": [
    {
     "data": {
      "text/html": [
       "<div style=\"max-height:1000px;max-width:1500px;overflow:auto;\">\n",
       "<table border=\"1\" class=\"dataframe\">\n",
       "  <thead>\n",
       "    <tr style=\"text-align: right;\">\n",
       "      <th></th>\n",
       "      <th>Unnamed: 0</th>\n",
       "      <th>Start_Datetime</th>\n",
       "      <th>Start date</th>\n",
       "      <th>End_Datetime</th>\n",
       "      <th>End date</th>\n",
       "      <th>Duration (days)</th>\n",
       "      <th>Year(s)</th>\n",
       "      <th>Country code (ISO 2 digits)</th>\n",
       "      <th>Country</th>\n",
       "      <th>Ebola subtype</th>\n",
       "      <th>Reported number of human cases</th>\n",
       "      <th>Reported number of deaths among cases</th>\n",
       "      <th>Reported % of deaths among cases</th>\n",
       "    </tr>\n",
       "  </thead>\n",
       "  <tbody>\n",
       "    <tr>\n",
       "      <th>0</th>\n",
       "      <td>0</td>\n",
       "      <td>2012-11-01 00:00:00</td>\n",
       "      <td>2012-11-01</td>\n",
       "      <td>2013-01-31 00:00:00</td>\n",
       "      <td>2013-01-31</td>\n",
       "      <td>91</td>\n",
       "      <td>November 2012-January 2013</td>\n",
       "      <td>UG</td>\n",
       "      <td>Uganda</td>\n",
       "      <td>Sudan virus</td>\n",
       "      <td>6</td>\n",
       "      <td>3</td>\n",
       "      <td>0.500</td>\n",
       "    </tr>\n",
       "    <tr>\n",
       "      <th>1</th>\n",
       "      <td>1</td>\n",
       "      <td>2012-06-01 00:00:00</td>\n",
       "      <td>2012-06-01</td>\n",
       "      <td>2012-11-30 00:00:00</td>\n",
       "      <td>2012-11-30</td>\n",
       "      <td>182</td>\n",
       "      <td>June-November 2012</td>\n",
       "      <td>CD</td>\n",
       "      <td>Democratic Republic of the Congo</td>\n",
       "      <td>Bundibugyo virus</td>\n",
       "      <td>36</td>\n",
       "      <td>13</td>\n",
       "      <td>0.361</td>\n",
       "    </tr>\n",
       "    <tr>\n",
       "      <th>2</th>\n",
       "      <td>2</td>\n",
       "      <td>2012-06-01 00:00:00</td>\n",
       "      <td>2012-06-01</td>\n",
       "      <td>2012-10-31 00:00:00</td>\n",
       "      <td>2012-10-31</td>\n",
       "      <td>152</td>\n",
       "      <td>June-October 2012</td>\n",
       "      <td>UG</td>\n",
       "      <td>Uganda</td>\n",
       "      <td>Sudan virus</td>\n",
       "      <td>11</td>\n",
       "      <td>4</td>\n",
       "      <td>0.364</td>\n",
       "    </tr>\n",
       "    <tr>\n",
       "      <th>3</th>\n",
       "      <td>3</td>\n",
       "      <td>2011-05-01 00:00:00</td>\n",
       "      <td>2011-05-01</td>\n",
       "      <td>2011-05-01 00:00:00</td>\n",
       "      <td>2011-05-01</td>\n",
       "      <td>0</td>\n",
       "      <td>2011-05-01</td>\n",
       "      <td>UG</td>\n",
       "      <td>Uganda</td>\n",
       "      <td>Sudan virus</td>\n",
       "      <td>1</td>\n",
       "      <td>1</td>\n",
       "      <td>1.000</td>\n",
       "    </tr>\n",
       "    <tr>\n",
       "      <th>4</th>\n",
       "      <td>4</td>\n",
       "      <td>2008-12-01 00:00:00</td>\n",
       "      <td>2008-12-01</td>\n",
       "      <td>2009-02-28 00:00:00</td>\n",
       "      <td>2009-02-28</td>\n",
       "      <td>89</td>\n",
       "      <td>December 2008-February 2009</td>\n",
       "      <td>CD</td>\n",
       "      <td>Democratic Republic of the Congo</td>\n",
       "      <td>Zaire virus</td>\n",
       "      <td>32</td>\n",
       "      <td>15</td>\n",
       "      <td>0.470</td>\n",
       "    </tr>\n",
       "  </tbody>\n",
       "</table>\n",
       "</div>"
      ],
      "text/plain": [
       "   Unnamed: 0       Start_Datetime  Start date         End_Datetime  \\\n",
       "0           0  2012-11-01 00:00:00  2012-11-01  2013-01-31 00:00:00   \n",
       "1           1  2012-06-01 00:00:00  2012-06-01  2012-11-30 00:00:00   \n",
       "2           2  2012-06-01 00:00:00  2012-06-01  2012-10-31 00:00:00   \n",
       "3           3  2011-05-01 00:00:00  2011-05-01  2011-05-01 00:00:00   \n",
       "4           4  2008-12-01 00:00:00  2008-12-01  2009-02-28 00:00:00   \n",
       "\n",
       "     End date  Duration (days)                      Year(s)  \\\n",
       "0  2013-01-31               91   November 2012-January 2013   \n",
       "1  2012-11-30              182           June-November 2012   \n",
       "2  2012-10-31              152            June-October 2012   \n",
       "3  2011-05-01                0                   2011-05-01   \n",
       "4  2009-02-28               89  December 2008-February 2009   \n",
       "\n",
       "  Country code (ISO 2 digits)                           Country  \\\n",
       "0                          UG                            Uganda   \n",
       "1                          CD  Democratic Republic of the Congo   \n",
       "2                          UG                            Uganda   \n",
       "3                          UG                            Uganda   \n",
       "4                          CD  Democratic Republic of the Congo   \n",
       "\n",
       "      Ebola subtype  Reported number of human cases  \\\n",
       "0       Sudan virus                               6   \n",
       "1  Bundibugyo virus                              36   \n",
       "2       Sudan virus                              11   \n",
       "3       Sudan virus                               1   \n",
       "4       Zaire virus                              32   \n",
       "\n",
       "   Reported number of deaths among cases  Reported % of deaths among cases  \n",
       "0                                      3                             0.500  \n",
       "1                                     13                             0.361  \n",
       "2                                      4                             0.364  \n",
       "3                                      1                             1.000  \n",
       "4                                     15                             0.470  "
      ]
     },
     "execution_count": 81,
     "metadata": {},
     "output_type": "execute_result"
    }
   ],
   "source": [
    "df_eb.head()"
   ]
  },
  {
   "cell_type": "code",
   "execution_count": 85,
   "metadata": {
    "collapsed": false
   },
   "outputs": [],
   "source": [
    "df_eb.to_csv(\"csv/out/ebola-outbreaks-before-2014-country-codes.csv\", encoding=\"utf-8\")"
   ]
  },
  {
   "cell_type": "code",
   "execution_count": 88,
   "metadata": {
    "collapsed": false
   },
   "outputs": [
    {
     "data": {
      "text/plain": [
       "119    <MultiGeometry><Polygon><outerBoundaryIs><Line...\n",
       "Name: geometry, dtype: object"
      ]
     },
     "execution_count": 88,
     "metadata": {},
     "output_type": "execute_result"
    }
   ],
   "source": [
    "## df_geom[df_geom[\"ISO_2DIGIT\"] == 'US'][\"geometry\"]"
   ]
  },
  {
   "cell_type": "code",
   "execution_count": 89,
   "metadata": {
    "collapsed": true
   },
   "outputs": [],
   "source": [
    "eb_geom = []\n",
    "for c in df_eb[\"Country code (ISO 2 digits)\"]:\n",
    "    geom = df_geom[df_geom[\"ISO_2DIGIT\"] == c][\"geometry\"]\n",
    "    eb_geom.append(geom)"
   ]
  },
  {
   "cell_type": "code",
   "execution_count": 90,
   "metadata": {
    "collapsed": true
   },
   "outputs": [],
   "source": [
    "df_eb.insert(9, \"Geometry\", eb_geom)"
   ]
  },
  {
   "cell_type": "code",
   "execution_count": 91,
   "metadata": {
    "collapsed": false
   },
   "outputs": [
    {
     "data": {
      "text/html": [
       "<div style=\"max-height:1000px;max-width:1500px;overflow:auto;\">\n",
       "<table border=\"1\" class=\"dataframe\">\n",
       "  <thead>\n",
       "    <tr style=\"text-align: right;\">\n",
       "      <th></th>\n",
       "      <th>Unnamed: 0</th>\n",
       "      <th>Start_Datetime</th>\n",
       "      <th>Start date</th>\n",
       "      <th>End_Datetime</th>\n",
       "      <th>End date</th>\n",
       "      <th>Duration (days)</th>\n",
       "      <th>Year(s)</th>\n",
       "      <th>Country code (ISO 2 digits)</th>\n",
       "      <th>Country</th>\n",
       "      <th>Geometry</th>\n",
       "      <th>Ebola subtype</th>\n",
       "      <th>Reported number of human cases</th>\n",
       "      <th>Reported number of deaths among cases</th>\n",
       "      <th>Reported % of deaths among cases</th>\n",
       "    </tr>\n",
       "  </thead>\n",
       "  <tbody>\n",
       "    <tr>\n",
       "      <th>0</th>\n",
       "      <td>0</td>\n",
       "      <td>2012-11-01 00:00:00</td>\n",
       "      <td>2012-11-01</td>\n",
       "      <td>2013-01-31 00:00:00</td>\n",
       "      <td>2013-01-31</td>\n",
       "      <td>91</td>\n",
       "      <td>November 2012-January 2013</td>\n",
       "      <td>UG</td>\n",
       "      <td>Uganda</td>\n",
       "      <td>117    &lt;Polygon&gt;&lt;outerBoundaryIs&gt;&lt;LinearRing&gt;&lt;...</td>\n",
       "      <td>Sudan virus</td>\n",
       "      <td>6</td>\n",
       "      <td>3</td>\n",
       "      <td>0.500</td>\n",
       "    </tr>\n",
       "    <tr>\n",
       "      <th>1</th>\n",
       "      <td>1</td>\n",
       "      <td>2012-06-01 00:00:00</td>\n",
       "      <td>2012-06-01</td>\n",
       "      <td>2012-11-30 00:00:00</td>\n",
       "      <td>2012-11-30</td>\n",
       "      <td>182</td>\n",
       "      <td>June-November 2012</td>\n",
       "      <td>CD</td>\n",
       "      <td>Democratic Republic of the Congo</td>\n",
       "      <td>37    &lt;Polygon&gt;&lt;outerBoundaryIs&gt;&lt;LinearRing&gt;&lt;c...</td>\n",
       "      <td>Bundibugyo virus</td>\n",
       "      <td>36</td>\n",
       "      <td>13</td>\n",
       "      <td>0.361</td>\n",
       "    </tr>\n",
       "    <tr>\n",
       "      <th>2</th>\n",
       "      <td>2</td>\n",
       "      <td>2012-06-01 00:00:00</td>\n",
       "      <td>2012-06-01</td>\n",
       "      <td>2012-10-31 00:00:00</td>\n",
       "      <td>2012-10-31</td>\n",
       "      <td>152</td>\n",
       "      <td>June-October 2012</td>\n",
       "      <td>UG</td>\n",
       "      <td>Uganda</td>\n",
       "      <td>117    &lt;Polygon&gt;&lt;outerBoundaryIs&gt;&lt;LinearRing&gt;&lt;...</td>\n",
       "      <td>Sudan virus</td>\n",
       "      <td>11</td>\n",
       "      <td>4</td>\n",
       "      <td>0.364</td>\n",
       "    </tr>\n",
       "    <tr>\n",
       "      <th>3</th>\n",
       "      <td>3</td>\n",
       "      <td>2011-05-01 00:00:00</td>\n",
       "      <td>2011-05-01</td>\n",
       "      <td>2011-05-01 00:00:00</td>\n",
       "      <td>2011-05-01</td>\n",
       "      <td>0</td>\n",
       "      <td>2011-05-01</td>\n",
       "      <td>UG</td>\n",
       "      <td>Uganda</td>\n",
       "      <td>117    &lt;Polygon&gt;&lt;outerBoundaryIs&gt;&lt;LinearRing&gt;&lt;...</td>\n",
       "      <td>Sudan virus</td>\n",
       "      <td>1</td>\n",
       "      <td>1</td>\n",
       "      <td>1.000</td>\n",
       "    </tr>\n",
       "    <tr>\n",
       "      <th>4</th>\n",
       "      <td>4</td>\n",
       "      <td>2008-12-01 00:00:00</td>\n",
       "      <td>2008-12-01</td>\n",
       "      <td>2009-02-28 00:00:00</td>\n",
       "      <td>2009-02-28</td>\n",
       "      <td>89</td>\n",
       "      <td>December 2008-February 2009</td>\n",
       "      <td>CD</td>\n",
       "      <td>Democratic Republic of the Congo</td>\n",
       "      <td>37    &lt;Polygon&gt;&lt;outerBoundaryIs&gt;&lt;LinearRing&gt;&lt;c...</td>\n",
       "      <td>Zaire virus</td>\n",
       "      <td>32</td>\n",
       "      <td>15</td>\n",
       "      <td>0.470</td>\n",
       "    </tr>\n",
       "  </tbody>\n",
       "</table>\n",
       "</div>"
      ],
      "text/plain": [
       "   Unnamed: 0       Start_Datetime  Start date         End_Datetime  \\\n",
       "0           0  2012-11-01 00:00:00  2012-11-01  2013-01-31 00:00:00   \n",
       "1           1  2012-06-01 00:00:00  2012-06-01  2012-11-30 00:00:00   \n",
       "2           2  2012-06-01 00:00:00  2012-06-01  2012-10-31 00:00:00   \n",
       "3           3  2011-05-01 00:00:00  2011-05-01  2011-05-01 00:00:00   \n",
       "4           4  2008-12-01 00:00:00  2008-12-01  2009-02-28 00:00:00   \n",
       "\n",
       "     End date  Duration (days)                      Year(s)  \\\n",
       "0  2013-01-31               91   November 2012-January 2013   \n",
       "1  2012-11-30              182           June-November 2012   \n",
       "2  2012-10-31              152            June-October 2012   \n",
       "3  2011-05-01                0                   2011-05-01   \n",
       "4  2009-02-28               89  December 2008-February 2009   \n",
       "\n",
       "  Country code (ISO 2 digits)                           Country  \\\n",
       "0                          UG                            Uganda   \n",
       "1                          CD  Democratic Republic of the Congo   \n",
       "2                          UG                            Uganda   \n",
       "3                          UG                            Uganda   \n",
       "4                          CD  Democratic Republic of the Congo   \n",
       "\n",
       "                                            Geometry     Ebola subtype  \\\n",
       "0  117    <Polygon><outerBoundaryIs><LinearRing><...       Sudan virus   \n",
       "1  37    <Polygon><outerBoundaryIs><LinearRing><c...  Bundibugyo virus   \n",
       "2  117    <Polygon><outerBoundaryIs><LinearRing><...       Sudan virus   \n",
       "3  117    <Polygon><outerBoundaryIs><LinearRing><...       Sudan virus   \n",
       "4  37    <Polygon><outerBoundaryIs><LinearRing><c...       Zaire virus   \n",
       "\n",
       "   Reported number of human cases  Reported number of deaths among cases  \\\n",
       "0                               6                                      3   \n",
       "1                              36                                     13   \n",
       "2                              11                                      4   \n",
       "3                               1                                      1   \n",
       "4                              32                                     15   \n",
       "\n",
       "   Reported % of deaths among cases  \n",
       "0                             0.500  \n",
       "1                             0.361  \n",
       "2                             0.364  \n",
       "3                             1.000  \n",
       "4                             0.470  "
      ]
     },
     "execution_count": 91,
     "metadata": {},
     "output_type": "execute_result"
    }
   ],
   "source": [
    "df_eb.head()"
   ]
  },
  {
   "cell_type": "code",
   "execution_count": 92,
   "metadata": {
    "collapsed": true
   },
   "outputs": [],
   "source": [
    "df_eb.to_csv(\"csv/out/ebola-outbreaks-before-2014-geometry.csv\", encoding=\"utf-8\")"
   ]
  },
  {
   "cell_type": "code",
   "execution_count": null,
   "metadata": {
    "collapsed": true
   },
   "outputs": [],
   "source": []
  }
 ],
 "metadata": {
  "kernelspec": {
   "display_name": "Python 2",
   "language": "python",
   "name": "python2"
  },
  "language_info": {
   "codemirror_mode": {
    "name": "ipython",
    "version": 2
   },
   "file_extension": ".py",
   "mimetype": "text/x-python",
   "name": "python",
   "nbconvert_exporter": "python",
   "pygments_lexer": "ipython2",
   "version": "2.7.6"
  }
 },
 "nbformat": 4,
 "nbformat_minor": 0
}
