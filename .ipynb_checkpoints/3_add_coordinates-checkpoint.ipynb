{
 "cells": [
  {
   "cell_type": "markdown",
   "metadata": {},
   "source": [
    "##Add coordinates using geopy"
   ]
  },
  {
   "cell_type": "code",
   "execution_count": 3,
   "metadata": {
    "collapsed": false
   },
   "outputs": [],
   "source": [
    "import pandas as pd"
   ]
  },
  {
   "cell_type": "code",
   "execution_count": 4,
   "metadata": {
    "collapsed": false
   },
   "outputs": [
    {
     "data": {
      "text/html": [
       "<div style=\"max-height:1000px;max-width:1500px;overflow:auto;\">\n",
       "<table border=\"1\" class=\"dataframe\">\n",
       "  <thead>\n",
       "    <tr style=\"text-align: right;\">\n",
       "      <th></th>\n",
       "      <th>Start_Datetime</th>\n",
       "      <th>Start date</th>\n",
       "      <th>End_Datetime</th>\n",
       "      <th>End date</th>\n",
       "      <th>Duration (days)</th>\n",
       "      <th>Year(s)</th>\n",
       "      <th>Country code (ISO 2 digits)</th>\n",
       "      <th>Country</th>\n",
       "      <th>Ebola subtype</th>\n",
       "      <th>Reported number of human cases</th>\n",
       "      <th>Reported number of deaths among cases</th>\n",
       "      <th>Reported % of deaths among cases</th>\n",
       "    </tr>\n",
       "  </thead>\n",
       "  <tbody>\n",
       "    <tr>\n",
       "      <th>0</th>\n",
       "      <td>2012-11-01 00:00:00</td>\n",
       "      <td>2012-11-01</td>\n",
       "      <td>2013-01-31 00:00:00</td>\n",
       "      <td>2013-01-31</td>\n",
       "      <td>91</td>\n",
       "      <td>November 2012-January 2013</td>\n",
       "      <td>UG</td>\n",
       "      <td>Uganda</td>\n",
       "      <td>Sudan virus</td>\n",
       "      <td>6</td>\n",
       "      <td>3</td>\n",
       "      <td>0.500</td>\n",
       "    </tr>\n",
       "    <tr>\n",
       "      <th>1</th>\n",
       "      <td>2012-06-01 00:00:00</td>\n",
       "      <td>2012-06-01</td>\n",
       "      <td>2012-11-30 00:00:00</td>\n",
       "      <td>2012-11-30</td>\n",
       "      <td>182</td>\n",
       "      <td>June-November 2012</td>\n",
       "      <td>CD</td>\n",
       "      <td>Democratic Republic of the Congo</td>\n",
       "      <td>Bundibugyo virus</td>\n",
       "      <td>36</td>\n",
       "      <td>13</td>\n",
       "      <td>0.361</td>\n",
       "    </tr>\n",
       "    <tr>\n",
       "      <th>2</th>\n",
       "      <td>2012-06-01 00:00:00</td>\n",
       "      <td>2012-06-01</td>\n",
       "      <td>2012-10-31 00:00:00</td>\n",
       "      <td>2012-10-31</td>\n",
       "      <td>152</td>\n",
       "      <td>June-October 2012</td>\n",
       "      <td>UG</td>\n",
       "      <td>Uganda</td>\n",
       "      <td>Sudan virus</td>\n",
       "      <td>11</td>\n",
       "      <td>4</td>\n",
       "      <td>0.364</td>\n",
       "    </tr>\n",
       "    <tr>\n",
       "      <th>3</th>\n",
       "      <td>2011-05-01 00:00:00</td>\n",
       "      <td>2011-05-01</td>\n",
       "      <td>2011-05-01 00:00:00</td>\n",
       "      <td>2011-05-01</td>\n",
       "      <td>0</td>\n",
       "      <td>2011-05-01</td>\n",
       "      <td>UG</td>\n",
       "      <td>Uganda</td>\n",
       "      <td>Sudan virus</td>\n",
       "      <td>1</td>\n",
       "      <td>1</td>\n",
       "      <td>1.000</td>\n",
       "    </tr>\n",
       "    <tr>\n",
       "      <th>4</th>\n",
       "      <td>2008-12-01 00:00:00</td>\n",
       "      <td>2008-12-01</td>\n",
       "      <td>2009-02-28 00:00:00</td>\n",
       "      <td>2009-02-28</td>\n",
       "      <td>89</td>\n",
       "      <td>December 2008-February 2009</td>\n",
       "      <td>CD</td>\n",
       "      <td>Democratic Republic of the Congo</td>\n",
       "      <td>Zaire virus</td>\n",
       "      <td>32</td>\n",
       "      <td>15</td>\n",
       "      <td>0.470</td>\n",
       "    </tr>\n",
       "  </tbody>\n",
       "</table>\n",
       "</div>"
      ],
      "text/plain": [
       "        Start_Datetime  Start date         End_Datetime    End date  \\\n",
       "0  2012-11-01 00:00:00  2012-11-01  2013-01-31 00:00:00  2013-01-31   \n",
       "1  2012-06-01 00:00:00  2012-06-01  2012-11-30 00:00:00  2012-11-30   \n",
       "2  2012-06-01 00:00:00  2012-06-01  2012-10-31 00:00:00  2012-10-31   \n",
       "3  2011-05-01 00:00:00  2011-05-01  2011-05-01 00:00:00  2011-05-01   \n",
       "4  2008-12-01 00:00:00  2008-12-01  2009-02-28 00:00:00  2009-02-28   \n",
       "\n",
       "   Duration (days)                      Year(s) Country code (ISO 2 digits)  \\\n",
       "0               91   November 2012-January 2013                          UG   \n",
       "1              182           June-November 2012                          CD   \n",
       "2              152            June-October 2012                          UG   \n",
       "3                0                   2011-05-01                          UG   \n",
       "4               89  December 2008-February 2009                          CD   \n",
       "\n",
       "                            Country     Ebola subtype  \\\n",
       "0                            Uganda       Sudan virus   \n",
       "1  Democratic Republic of the Congo  Bundibugyo virus   \n",
       "2                            Uganda       Sudan virus   \n",
       "3                            Uganda       Sudan virus   \n",
       "4  Democratic Republic of the Congo       Zaire virus   \n",
       "\n",
       "   Reported number of human cases  Reported number of deaths among cases  \\\n",
       "0                               6                                      3   \n",
       "1                              36                                     13   \n",
       "2                              11                                      4   \n",
       "3                               1                                      1   \n",
       "4                              32                                     15   \n",
       "\n",
       "   Reported % of deaths among cases  \n",
       "0                             0.500  \n",
       "1                             0.361  \n",
       "2                             0.364  \n",
       "3                             1.000  \n",
       "4                             0.470  "
      ]
     },
     "execution_count": 4,
     "metadata": {},
     "output_type": "execute_result"
    }
   ],
   "source": [
    "df_ebola = pd.read_csv(\"csv/out/ebola-outbreaks-before-2014-country-codes.csv\", encoding=\"utf-8\", index_col=False)\n",
    "\n",
    "df_eb = df_ebola.drop(df_ebola.columns[[0, 1]], axis=1) # remove 2 useless colums of indexes\n",
    "\n",
    "df_eb.head()"
   ]
  },
  {
   "cell_type": "code",
   "execution_count": 8,
   "metadata": {
    "collapsed": false
   },
   "outputs": [
    {
     "name": "stdout",
     "output_type": "stream",
     "text": [
      "[u'Uganda', u'Democratic Republic of the Congo', u'Uganda', u'Uganda', u'Democratic Republic of the Congo', u'Philippines', u'Uganda', u'Democratic Republic of the Congo', u'Russia', u'Sudan (South Sudan)', u'Republic of the Congo', u'Republic of the Congo', u'Republic of the Congo', u'Gabon', u'Uganda', u'Russia', u'Philippines', u'USA', u'South Africa', u'Gabon', u'Gabon', u'Democratic Republic of the Congo (formerly Zaire)', u\"C\\xf4te d'Ivoire (Ivory Coast)\", u'Gabon', u'Italy', u'Philippines', u'USA', u'USA', u'Sudan (South Sudan)', u'Zaire', u'England', u'Sudan (South Sudan)', u'Zaire (Democratic Republic of the Congo - DRC)']\n"
     ]
    }
   ],
   "source": [
    "# Clean countries names as it'll be easier for geocoding\n",
    "all_countries = list(df_eb[\"Country\"])\n",
    "print all_countries\n",
    "\n",
    "cleaned_countries_list = [u'Uganda', u'Democratic Republic of the Congo', u'Uganda', u'Uganda', \n",
    "                          u'Democratic Republic of the Congo', u'Philippines', u'Uganda', \n",
    "                          u'Democratic Republic of the Congo', u'Russia', u'Sudan (South Sudan)', \n",
    "                          u'Democratic Republic of the Congo', u'Democratic Republic of the Congo', \n",
    "                          u'Democratic Republic of the Congo', u'Gabon', u'Uganda', u'Russia', \n",
    "                          u'Philippines', u'USA', u'South Africa', u'Gabon', u'Gabon', \n",
    "                          u'Democratic Republic of the Congo', u\"C\\xf4te d'Ivoire (Ivory Coast)\", \n",
    "                          u'Gabon', u'Italy', u'Philippines', u'USA', u'USA', u'Sudan (South Sudan)', \n",
    "                          u'Democratic Republic of the Congo', u'England', u'Sudan (South Sudan)', \n",
    "                          u'Democratic Republic of the Congo'] "
   ]
  },
  {
   "cell_type": "code",
   "execution_count": 9,
   "metadata": {
    "collapsed": false
   },
   "outputs": [
    {
     "name": "stdout",
     "output_type": "stream",
     "text": [
      "11\n",
      "[u\"C\\xf4te d'Ivoire (Ivory Coast)\", u'Italy', u'USA', u'South Africa', u'Philippines', u'Democratic Republic of the Congo', u'Gabon', u'Sudan (South Sudan)', u'Uganda', u'England', u'Russia']\n"
     ]
    }
   ],
   "source": [
    "# Remove duplicates to find the geocodes\n",
    "\n",
    "countries_list = list(set(cleaned_countries_list))\n",
    "\n",
    "print len(countries_list)\n",
    "print countries_list"
   ]
  },
  {
   "cell_type": "code",
   "execution_count": 10,
   "metadata": {
    "collapsed": true
   },
   "outputs": [],
   "source": [
    "# Use the geocoders module in GeoPy\n",
    "\n",
    "from geopy.geocoders import Nominatim\n",
    "geolocator = Nominatim()"
   ]
  },
  {
   "cell_type": "code",
   "execution_count": 14,
   "metadata": {
    "collapsed": false
   },
   "outputs": [],
   "source": [
    "locations = [geolocator.geocode(country) for country in countries_list]"
   ]
  },
  {
   "cell_type": "code",
   "execution_count": 15,
   "metadata": {
    "collapsed": false
   },
   "outputs": [
    {
     "name": "stdout",
     "output_type": "stream",
     "text": [
      "[-5.5679458, 12.674297, -100.4458825, 24.991639, 122.7312101, 23.8222636, 11.6899699, 29.6667897, 32.2166578, -0.540240236617432, 97.7453061]\n"
     ]
    }
   ],
   "source": [
    "longitudes = [l.longitude for l in locations]\n",
    "\n",
    "print longitudes"
   ]
  },
  {
   "cell_type": "code",
   "execution_count": 16,
   "metadata": {
    "collapsed": false
   },
   "outputs": [
    {
     "name": "stdout",
     "output_type": "stream",
     "text": [
      "[7.9897371, 42.6384261, 39.7837304, -28.8166236, 12.7503486, -2.9814344, -0.8999695, 7.8699431, 1.5333554, 52.7954791, 64.6863136]\n"
     ]
    }
   ],
   "source": [
    "latitudes = [l.latitude for l in locations]\n",
    "\n",
    "print latitudes"
   ]
  },
  {
   "cell_type": "code",
   "execution_count": null,
   "metadata": {
    "collapsed": true
   },
   "outputs": [],
   "source": []
  }
 ],
 "metadata": {
  "kernelspec": {
   "display_name": "Python 2",
   "language": "python",
   "name": "python2"
  },
  "language_info": {
   "codemirror_mode": {
    "name": "ipython",
    "version": 2
   },
   "file_extension": ".py",
   "mimetype": "text/x-python",
   "name": "python",
   "nbconvert_exporter": "python",
   "pygments_lexer": "ipython2",
   "version": "2.7.6"
  }
 },
 "nbformat": 4,
 "nbformat_minor": 0
}
