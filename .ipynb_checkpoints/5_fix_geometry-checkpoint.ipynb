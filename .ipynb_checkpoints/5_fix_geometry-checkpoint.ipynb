{
 "cells": [
  {
   "cell_type": "markdown",
   "metadata": {},
   "source": [
    "##Fix geometry"
   ]
  },
  {
   "cell_type": "code",
   "execution_count": 1,
   "metadata": {
    "collapsed": false
   },
   "outputs": [],
   "source": [
    "from geopandas import GeoSeries, GeoDataFrame\n",
    "from shapely.geometry import Polygon"
   ]
  },
  {
   "cell_type": "code",
   "execution_count": 2,
   "metadata": {
    "collapsed": false
   },
   "outputs": [
    {
     "name": "stderr",
     "output_type": "stream",
     "text": [
      "WARNING:Fiona:Expecting property name enclosed in double quotes: line 1 column 2 (char 1)\n",
      "WARNING:Fiona:Expecting property name enclosed in double quotes: line 1 column 2 (char 1)\n",
      "WARNING:Fiona:Expecting property name enclosed in double quotes: line 1 column 2 (char 1)\n",
      "WARNING:Fiona:Expecting property name enclosed in double quotes: line 1 column 2 (char 1)\n",
      "WARNING:Fiona:Expecting property name enclosed in double quotes: line 1 column 2 (char 1)\n",
      "WARNING:Fiona:Expecting property name enclosed in double quotes: line 1 column 2 (char 1)\n",
      "WARNING:Fiona:Expecting property name enclosed in double quotes: line 1 column 2 (char 1)\n",
      "WARNING:Fiona:Expecting property name enclosed in double quotes: line 1 column 2 (char 1)\n",
      "WARNING:Fiona:Expecting property name enclosed in double quotes: line 1 column 2 (char 1)\n",
      "WARNING:Fiona:Expecting property name enclosed in double quotes: line 1 column 2 (char 1)\n",
      "WARNING:Fiona:Expecting property name enclosed in double quotes: line 1 column 2 (char 1)\n",
      "WARNING:Fiona:Expecting property name enclosed in double quotes: line 1 column 2 (char 1)\n",
      "WARNING:Fiona:Expecting property name enclosed in double quotes: line 1 column 2 (char 1)\n",
      "WARNING:Fiona:Expecting property name enclosed in double quotes: line 1 column 2 (char 1)\n",
      "WARNING:Fiona:Expecting property name enclosed in double quotes: line 1 column 2 (char 1)\n",
      "WARNING:Fiona:Expecting property name enclosed in double quotes: line 1 column 2 (char 1)\n",
      "WARNING:Fiona:Expecting property name enclosed in double quotes: line 1 column 2 (char 1)\n",
      "WARNING:Fiona:Expecting property name enclosed in double quotes: line 1 column 2 (char 1)\n",
      "WARNING:Fiona:Expecting property name enclosed in double quotes: line 1 column 2 (char 1)\n",
      "WARNING:Fiona:Expecting property name enclosed in double quotes: line 1 column 2 (char 1)\n",
      "WARNING:Fiona:Expecting property name enclosed in double quotes: line 1 column 2 (char 1)\n",
      "WARNING:Fiona:Expecting property name enclosed in double quotes: line 1 column 2 (char 1)\n",
      "WARNING:Fiona:Expecting property name enclosed in double quotes: line 1 column 2 (char 1)\n",
      "WARNING:Fiona:Expecting property name enclosed in double quotes: line 1 column 2 (char 1)\n",
      "WARNING:Fiona:Expecting property name enclosed in double quotes: line 1 column 2 (char 1)\n",
      "WARNING:Fiona:Expecting property name enclosed in double quotes: line 1 column 2 (char 1)\n",
      "WARNING:Fiona:Expecting property name enclosed in double quotes: line 1 column 2 (char 1)\n",
      "WARNING:Fiona:Expecting property name enclosed in double quotes: line 1 column 2 (char 1)\n",
      "WARNING:Fiona:Expecting property name enclosed in double quotes: line 1 column 2 (char 1)\n",
      "WARNING:Fiona:Expecting property name enclosed in double quotes: line 1 column 2 (char 1)\n",
      "WARNING:Fiona:Expecting property name enclosed in double quotes: line 1 column 2 (char 1)\n",
      "WARNING:Fiona:Expecting property name enclosed in double quotes: line 1 column 2 (char 1)\n",
      "WARNING:Fiona:Expecting property name enclosed in double quotes: line 1 column 2 (char 1)\n"
     ]
    }
   ],
   "source": [
    "ebola_gdf = GeoDataFrame.from_file(\"data/in/ebola_outbreaks_before_2014-geocoded_on_cartodb.geojson\")"
   ]
  },
  {
   "cell_type": "code",
   "execution_count": 3,
   "metadata": {
    "collapsed": false
   },
   "outputs": [
    {
     "data": {
      "text/html": [
       "<div>\n",
       "<table border=\"1\" class=\"dataframe\">\n",
       "  <thead>\n",
       "    <tr style=\"text-align: right;\">\n",
       "      <th></th>\n",
       "      <th>cartodb_georef_status</th>\n",
       "      <th>cartodb_id</th>\n",
       "      <th>country_code_iso_2_digits</th>\n",
       "      <th>country_name</th>\n",
       "      <th>duration_days</th>\n",
       "      <th>ebola_subtype</th>\n",
       "      <th>end_date</th>\n",
       "      <th>end_datetime</th>\n",
       "      <th>field_1</th>\n",
       "      <th>geometry</th>\n",
       "      <th>geometry_geojson</th>\n",
       "      <th>latitude</th>\n",
       "      <th>longitude</th>\n",
       "      <th>reported_number_of_deaths_among_cases</th>\n",
       "      <th>reported_number_of_human_cases</th>\n",
       "      <th>reported_of_deaths_among_cases</th>\n",
       "      <th>start_date</th>\n",
       "      <th>start_datetime</th>\n",
       "      <th>year_s</th>\n",
       "    </tr>\n",
       "  </thead>\n",
       "  <tbody>\n",
       "    <tr>\n",
       "      <th>28</th>\n",
       "      <td>0</td>\n",
       "      <td>32</td>\n",
       "      <td>SD</td>\n",
       "      <td>Sudan (South Sudan)</td>\n",
       "      <td>365</td>\n",
       "      <td>Sudan virus</td>\n",
       "      <td>1976-12-31T00:00:00Z</td>\n",
       "      <td>1976-12-31T00:00:00Z</td>\n",
       "      <td>31</td>\n",
       "      <td>POINT (29.66679 7.869943)</td>\n",
       "      <td>{u'type': u'Polygon', u'coordinates': [[[33.96...</td>\n",
       "      <td>7.869943</td>\n",
       "      <td>29.666790</td>\n",
       "      <td>151</td>\n",
       "      <td>284</td>\n",
       "      <td>0.53</td>\n",
       "      <td>1976-01-01T00:00:00Z</td>\n",
       "      <td>1976-01-01T00:00:00Z</td>\n",
       "      <td>1976</td>\n",
       "    </tr>\n",
       "    <tr>\n",
       "      <th>29</th>\n",
       "      <td>0</td>\n",
       "      <td>29</td>\n",
       "      <td>SD</td>\n",
       "      <td>Sudan (South Sudan)</td>\n",
       "      <td>364</td>\n",
       "      <td>Sudan virus</td>\n",
       "      <td>1979-12-31T00:00:00Z</td>\n",
       "      <td>1979-12-31T00:00:00Z</td>\n",
       "      <td>28</td>\n",
       "      <td>POINT (29.66679 7.869943)</td>\n",
       "      <td>{u'type': u'Polygon', u'coordinates': [[[33.96...</td>\n",
       "      <td>7.869943</td>\n",
       "      <td>29.666790</td>\n",
       "      <td>22</td>\n",
       "      <td>34</td>\n",
       "      <td>0.65</td>\n",
       "      <td>1979-01-01T00:00:00Z</td>\n",
       "      <td>1979-01-01T00:00:00Z</td>\n",
       "      <td>1979</td>\n",
       "    </tr>\n",
       "    <tr>\n",
       "      <th>30</th>\n",
       "      <td>0</td>\n",
       "      <td>23</td>\n",
       "      <td>CI</td>\n",
       "      <td>Côte d'Ivoire (Ivory Coast)</td>\n",
       "      <td>364</td>\n",
       "      <td>Taï Forest virus</td>\n",
       "      <td>1994-12-31T00:00:00Z</td>\n",
       "      <td>1994-12-31T00:00:00Z</td>\n",
       "      <td>22</td>\n",
       "      <td>POINT (-5.567946 7.989737)</td>\n",
       "      <td>{u'type': u'Polygon', u'coordinates': [[[-2.85...</td>\n",
       "      <td>7.989737</td>\n",
       "      <td>-5.567946</td>\n",
       "      <td>0</td>\n",
       "      <td>1</td>\n",
       "      <td>0.00</td>\n",
       "      <td>1994-01-01T00:00:00Z</td>\n",
       "      <td>1994-01-01T00:00:00Z</td>\n",
       "      <td>1994</td>\n",
       "    </tr>\n",
       "    <tr>\n",
       "      <th>31</th>\n",
       "      <td>0</td>\n",
       "      <td>10</td>\n",
       "      <td>SD</td>\n",
       "      <td>Sudan (South Sudan)</td>\n",
       "      <td>365</td>\n",
       "      <td>Sudan virus</td>\n",
       "      <td>2004-12-31T00:00:00Z</td>\n",
       "      <td>2004-12-31T00:00:00Z</td>\n",
       "      <td>9</td>\n",
       "      <td>POINT (29.66679 7.869943)</td>\n",
       "      <td>{u'type': u'Polygon', u'coordinates': [[[33.96...</td>\n",
       "      <td>7.869943</td>\n",
       "      <td>29.666790</td>\n",
       "      <td>7</td>\n",
       "      <td>17</td>\n",
       "      <td>0.41</td>\n",
       "      <td>2004-01-01T00:00:00Z</td>\n",
       "      <td>2004-01-01T00:00:00Z</td>\n",
       "      <td>2004</td>\n",
       "    </tr>\n",
       "    <tr>\n",
       "      <th>32</th>\n",
       "      <td>0</td>\n",
       "      <td>31</td>\n",
       "      <td>GB</td>\n",
       "      <td>England</td>\n",
       "      <td>365</td>\n",
       "      <td>Sudan virus</td>\n",
       "      <td>1976-12-31T00:00:00Z</td>\n",
       "      <td>1976-12-31T00:00:00Z</td>\n",
       "      <td>30</td>\n",
       "      <td>POINT (-0.5402400000000001 52.795479)</td>\n",
       "      <td>{u'type': u'MultiPolygon', u'coordinates': [[[...</td>\n",
       "      <td>52.795479</td>\n",
       "      <td>-0.540240</td>\n",
       "      <td>0</td>\n",
       "      <td>1</td>\n",
       "      <td>0.00</td>\n",
       "      <td>1976-01-01T00:00:00Z</td>\n",
       "      <td>1976-01-01T00:00:00Z</td>\n",
       "      <td>1976</td>\n",
       "    </tr>\n",
       "  </tbody>\n",
       "</table>\n",
       "</div>"
      ],
      "text/plain": [
       "    cartodb_georef_status  cartodb_id country_code_iso_2_digits  \\\n",
       "28                      0          32                        SD   \n",
       "29                      0          29                        SD   \n",
       "30                      0          23                        CI   \n",
       "31                      0          10                        SD   \n",
       "32                      0          31                        GB   \n",
       "\n",
       "                   country_name  duration_days     ebola_subtype  \\\n",
       "28          Sudan (South Sudan)            365       Sudan virus   \n",
       "29          Sudan (South Sudan)            364       Sudan virus   \n",
       "30  Côte d'Ivoire (Ivory Coast)            364  Taï Forest virus   \n",
       "31          Sudan (South Sudan)            365       Sudan virus   \n",
       "32                      England            365       Sudan virus   \n",
       "\n",
       "                end_date          end_datetime  field_1  \\\n",
       "28  1976-12-31T00:00:00Z  1976-12-31T00:00:00Z       31   \n",
       "29  1979-12-31T00:00:00Z  1979-12-31T00:00:00Z       28   \n",
       "30  1994-12-31T00:00:00Z  1994-12-31T00:00:00Z       22   \n",
       "31  2004-12-31T00:00:00Z  2004-12-31T00:00:00Z        9   \n",
       "32  1976-12-31T00:00:00Z  1976-12-31T00:00:00Z       30   \n",
       "\n",
       "                                 geometry  \\\n",
       "28              POINT (29.66679 7.869943)   \n",
       "29              POINT (29.66679 7.869943)   \n",
       "30             POINT (-5.567946 7.989737)   \n",
       "31              POINT (29.66679 7.869943)   \n",
       "32  POINT (-0.5402400000000001 52.795479)   \n",
       "\n",
       "                                     geometry_geojson   latitude  longitude  \\\n",
       "28  {u'type': u'Polygon', u'coordinates': [[[33.96...   7.869943  29.666790   \n",
       "29  {u'type': u'Polygon', u'coordinates': [[[33.96...   7.869943  29.666790   \n",
       "30  {u'type': u'Polygon', u'coordinates': [[[-2.85...   7.989737  -5.567946   \n",
       "31  {u'type': u'Polygon', u'coordinates': [[[33.96...   7.869943  29.666790   \n",
       "32  {u'type': u'MultiPolygon', u'coordinates': [[[...  52.795479  -0.540240   \n",
       "\n",
       "    reported_number_of_deaths_among_cases  reported_number_of_human_cases  \\\n",
       "28                                    151                             284   \n",
       "29                                     22                              34   \n",
       "30                                      0                               1   \n",
       "31                                      7                              17   \n",
       "32                                      0                               1   \n",
       "\n",
       "    reported_of_deaths_among_cases            start_date  \\\n",
       "28                            0.53  1976-01-01T00:00:00Z   \n",
       "29                            0.65  1979-01-01T00:00:00Z   \n",
       "30                            0.00  1994-01-01T00:00:00Z   \n",
       "31                            0.41  2004-01-01T00:00:00Z   \n",
       "32                            0.00  1976-01-01T00:00:00Z   \n",
       "\n",
       "          start_datetime year_s  \n",
       "28  1976-01-01T00:00:00Z   1976  \n",
       "29  1979-01-01T00:00:00Z   1979  \n",
       "30  1994-01-01T00:00:00Z   1994  \n",
       "31  2004-01-01T00:00:00Z   2004  \n",
       "32  1976-01-01T00:00:00Z   1976  "
      ]
     },
     "execution_count": 3,
     "metadata": {},
     "output_type": "execute_result"
    }
   ],
   "source": [
    "ebola_gdf.tail()"
   ]
  },
  {
   "cell_type": "markdown",
   "metadata": {},
   "source": [
    "###=> Geometry missing for South Sudan, Côte d'Ivoire and England"
   ]
  },
  {
   "cell_type": "code",
   "execution_count": 4,
   "metadata": {
    "collapsed": false
   },
   "outputs": [
    {
     "data": {
      "text/plain": [
       "9    (POLYGON ((34.108026 3.868938, 34.123736 3.872...\n",
       "Name: geometry, dtype: object"
      ]
     },
     "execution_count": 4,
     "metadata": {},
     "output_type": "execute_result"
    }
   ],
   "source": [
    "## What it looks like for Uganda\n",
    "geom_uganda = ebola_gdf[ebola_gdf.country_name == \"Uganda\"][0:1][\"geometry\"]\n",
    "\n",
    "geom_uganda"
   ]
  },
  {
   "cell_type": "code",
   "execution_count": 5,
   "metadata": {
    "collapsed": false
   },
   "outputs": [
    {
     "data": {
      "text/plain": [
       "<matplotlib.axes._subplots.AxesSubplot at 0x7ff4be3d6390>"
      ]
     },
     "execution_count": 5,
     "metadata": {},
     "output_type": "execute_result"
    },
    {
     "data": {
      "image/png": "[encoded data removed]",
      "text/plain": [
       "<matplotlib.figure.Figure at 0x7ff4be3cdbd0>"
      ]
     },
     "metadata": {},
     "output_type": "display_data"
    }
   ],
   "source": [
    "geom_uganda.plot()"
   ]
  },
  {
   "cell_type": "markdown",
   "metadata": {},
   "source": [
    "#### Get South Sudan polygon"
   ]
  },
  {
   "cell_type": "code",
   "execution_count": 6,
   "metadata": {
    "collapsed": false
   },
   "outputs": [
    {
     "name": "stdout",
     "output_type": "stream",
     "text": [
      "28    POINT (29.66679 7.869943)\n",
      "Name: geometry, dtype: object\n",
      "<class 'geopandas.geoseries.GeoSeries'>\n"
     ]
    }
   ],
   "source": [
    "##Fixing geometry for South Sudan\n",
    "geom_ss = ebola_gdf[ebola_gdf.country_name == \"Sudan (South Sudan)\"][0:1][\"geometry\"]\n",
    "\n",
    "print(geom_ss)\n",
    "\n",
    "print(type(geom_ss))"
   ]
  },
  {
   "cell_type": "code",
   "execution_count": 7,
   "metadata": {
    "collapsed": false
   },
   "outputs": [
    {
     "data": {
      "text/plain": [
       "28    {u'type': u'Polygon', u'coordinates': [[[33.96...\n",
       "Name: geometry_geojson, dtype: object"
      ]
     },
     "execution_count": 7,
     "metadata": {},
     "output_type": "execute_result"
    }
   ],
   "source": [
    "json_str_ss = ebola_gdf[ebola_gdf.country_name == \"Sudan (South Sudan)\"][0:1][\"geometry_geojson\"]\n",
    "\n",
    "json_str_ss"
   ]
  },
  {
   "cell_type": "code",
   "execution_count": 8,
   "metadata": {
    "collapsed": false
   },
   "outputs": [
    {
     "name": "stdout",
     "output_type": "stream",
     "text": [
      "{28: u\"{u'type': u'Polygon', u'coordinates': [[[33.963392999999996, 9.464285], [33.97498, 8.68456], [33.8255, 8.37916], [33.2948, 8.35458], [32.95418, 7.78497], [33.56829, 7.7133400000000005], [34.0751, 7.22595], [34.25032, 6.82607], [34.70702, 6.59422], [35.298007, 5.506], [34.620196, 4.847123], [34.005, 4.249885], [33.39, 3.79], [32.68642, 3.79232], [31.88145, 3.5582700000000003], [31.24556, 3.7819000000000003], [30.83385, 3.50917], [29.95349, 4.1737], [29.715995, 4.600805], [29.159078, 4.389267], [28.696678, 4.455077], [28.428994, 4.287155], [27.979977, 4.408413], [27.374226, 5.233944], [27.213409, 5.550953], [26.465909, 5.946717], [26.213418, 6.546603], [25.796648, 6.979316], [25.124131, 7.500085], [25.114932, 7.825104], [24.567369, 8.229188], [23.88698, 8.61973], [24.194068, 8.728696], [24.537415, 8.917538], [24.794926, 9.810241], [25.069603999999998, 10.27376], [25.790633, 10.411099], [25.962307, 10.136421], [26.477328, 9.55273], [26.752006, 9.466893], [27.112521, 9.638567], [27.833551, 9.604232], [27.97089, 9.398224], [28.966597, 9.398224], [29.000932, 9.604232], [29.515953, 9.793074], [29.618957, 10.084919], [29.996639, 10.290927], [30.837841, 9.707237], [31.352862000000002, 9.810241], [31.850716, 10.531271], [32.400072, 11.080626], [32.314235, 11.681484], [32.073892, 11.97333], [32.67475, 12.024832], [32.743419, 12.248008], [33.206938, 12.179338], [33.086766, 11.441141], [33.206938, 10.720112], [33.721959, 10.325262], [33.842131, 9.981915], [33.824963, 9.484061], [33.963392999999996, 9.464285]]]}\"}\n"
     ]
    }
   ],
   "source": [
    "ds = dict(json_str_ss)\n",
    "\n",
    "print ds"
   ]
  },
  {
   "cell_type": "code",
   "execution_count": 9,
   "metadata": {
    "collapsed": true
   },
   "outputs": [],
   "source": [
    "import json"
   ]
  },
  {
   "cell_type": "code",
   "execution_count": 10,
   "metadata": {
    "collapsed": false
   },
   "outputs": [
    {
     "name": "stdout",
     "output_type": "stream",
     "text": [
      "\"{u'type': u'Polygon', u'coordinates': [[[33.963392999999996, 9.464285], [33.97498, 8.68456], [33.8255, 8.37916], [33.2948, 8.35458], [32.95418, 7.78497], [33.56829, 7.7133400000000005], [34.0751, 7.22595], [34.25032, 6.82607], [34.70702, 6.59422], [35.298007, 5.506], [34.620196, 4.847123], [34.005, 4.249885], [33.39, 3.79], [32.68642, 3.79232], [31.88145, 3.5582700000000003], [31.24556, 3.7819000000000003], [30.83385, 3.50917], [29.95349, 4.1737], [29.715995, 4.600805], [29.159078, 4.389267], [28.696678, 4.455077], [28.428994, 4.287155], [27.979977, 4.408413], [27.374226, 5.233944], [27.213409, 5.550953], [26.465909, 5.946717], [26.213418, 6.546603], [25.796648, 6.979316], [25.124131, 7.500085], [25.114932, 7.825104], [24.567369, 8.229188], [23.88698, 8.61973], [24.194068, 8.728696], [24.537415, 8.917538], [24.794926, 9.810241], [25.069603999999998, 10.27376], [25.790633, 10.411099], [25.962307, 10.136421], [26.477328, 9.55273], [26.752006, 9.466893], [27.112521, 9.638567], [27.833551, 9.604232], [27.97089, 9.398224], [28.966597, 9.398224], [29.000932, 9.604232], [29.515953, 9.793074], [29.618957, 10.084919], [29.996639, 10.290927], [30.837841, 9.707237], [31.352862000000002, 9.810241], [31.850716, 10.531271], [32.400072, 11.080626], [32.314235, 11.681484], [32.073892, 11.97333], [32.67475, 12.024832], [32.743419, 12.248008], [33.206938, 12.179338], [33.086766, 11.441141], [33.206938, 10.720112], [33.721959, 10.325262], [33.842131, 9.981915], [33.824963, 9.484061], [33.963392999999996, 9.464285]]]}\"\n"
     ]
    }
   ],
   "source": [
    "str_ss = json.dumps(ds.get(28))\n",
    "print(str_ss)"
   ]
  },
  {
   "cell_type": "code",
   "execution_count": 11,
   "metadata": {
    "collapsed": false
   },
   "outputs": [],
   "source": [
    "json_ss = json.loads('{\"type\": \"Polygon\", \"coordinates\": [[[33.963392999999996, 9.464285], [33.97498, 8.68456], [33.8255, 8.37916], [33.2948, 8.35458], [32.95418, 7.78497], [33.56829, 7.7133400000000005], [34.0751, 7.22595], [34.25032, 6.82607], [34.70702, 6.59422], [35.298007, 5.506], [34.620196, 4.847123], [34.005, 4.249885], [33.39, 3.79], [32.68642, 3.79232], [31.88145, 3.5582700000000003], [31.24556, 3.7819000000000003], [30.83385, 3.50917], [29.95349, 4.1737], [29.715995, 4.600805], [29.159078, 4.389267], [28.696678, 4.455077], [28.428994, 4.287155], [27.979977, 4.408413], [27.374226, 5.233944], [27.213409, 5.550953], [26.465909, 5.946717], [26.213418, 6.546603], [25.796648, 6.979316], [25.124131, 7.500085], [25.114932, 7.825104], [24.567369, 8.229188], [23.88698, 8.61973], [24.194068, 8.728696], [24.537415, 8.917538], [24.794926, 9.810241], [25.069603999999998, 10.27376], [25.790633, 10.411099], [25.962307, 10.136421], [26.477328, 9.55273], [26.752006, 9.466893], [27.112521, 9.638567], [27.833551, 9.604232], [27.97089, 9.398224], [28.966597, 9.398224], [29.000932, 9.604232], [29.515953, 9.793074], [29.618957, 10.084919], [29.996639, 10.290927], [30.837841, 9.707237], [31.352862000000002, 9.810241], [31.850716, 10.531271], [32.400072, 11.080626], [32.314235, 11.681484], [32.073892, 11.97333], [32.67475, 12.024832], [32.743419, 12.248008], [33.206938, 12.179338], [33.086766, 11.441141], [33.206938, 10.720112], [33.721959, 10.325262], [33.842131, 9.981915], [33.824963, 9.484061], [33.963392999999996, 9.464285]]]}')"
   ]
  },
  {
   "cell_type": "code",
   "execution_count": 12,
   "metadata": {
    "collapsed": false
   },
   "outputs": [],
   "source": [
    "coord_ss = json_ss.get('coordinates')"
   ]
  },
  {
   "cell_type": "code",
   "execution_count": 13,
   "metadata": {
    "collapsed": true
   },
   "outputs": [],
   "source": [
    "polyg_ss = []\n",
    "\n",
    "for l in coord_ss[0]:\n",
    "    polyg_ss.append((l[0], l[1]))"
   ]
  },
  {
   "cell_type": "code",
   "execution_count": 14,
   "metadata": {
    "collapsed": false
   },
   "outputs": [
    {
     "data": {
      "text/plain": [
       "[(33.963392999999996, 9.464285),\n",
       " (33.97498, 8.68456),\n",
       " (33.8255, 8.37916),\n",
       " (33.2948, 8.35458),\n",
       " (32.95418, 7.78497),\n",
       " (33.56829, 7.7133400000000005)]"
      ]
     },
     "execution_count": 14,
     "metadata": {},
     "output_type": "execute_result"
    }
   ],
   "source": [
    "polyg_ss[:6]"
   ]
  },
  {
   "cell_type": "code",
   "execution_count": 15,
   "metadata": {
    "collapsed": false
   },
   "outputs": [
    {
     "data": {
      "image/svg+xml": [
       "<svg xmlns=\"http://www.w3.org/2000/svg\" xmlns:xlink=\"http://www.w3.org/1999/xlink\" width=\"100.0\" height=\"100.0\" viewBox=\"23.43053892 3.05272892 12.32390916 9.65172016\" preserveAspectRatio=\"xMinYMin meet\"><g transform=\"matrix(1,0,0,-1,0,15.757178)\"><path fill-rule=\"evenodd\" fill=\"#66cc99\" stroke=\"#555555\" stroke-width=\"0.2464781832\" opacity=\"0.6\" d=\"M 33.963393,9.464285 L 33.97498,8.68456 L 33.8255,8.37916 L 33.2948,8.35458 L 32.95418,7.78497 L 33.56829,7.71334 L 34.0751,7.22595 L 34.25032,6.82607 L 34.70702,6.59422 L 35.298007,5.506 L 34.620196,4.847123 L 34.005,4.249885 L 33.39,3.79 L 32.68642,3.79232 L 31.88145,3.55827 L 31.24556,3.7819 L 30.83385,3.50917 L 29.95349,4.1737 L 29.715995,4.600805 L 29.159078,4.389267 L 28.696678,4.455077 L 28.428994,4.287155 L 27.979977,4.408413 L 27.374226,5.233944 L 27.213409,5.550953 L 26.465909,5.946717 L 26.213418,6.546603 L 25.796648,6.979316 L 25.124131,7.500085 L 25.114932,7.825104 L 24.567369,8.229188 L 23.88698,8.61973 L 24.194068,8.728696 L 24.537415,8.917538 L 24.794926,9.810241 L 25.069604,10.27376 L 25.790633,10.411099 L 25.962307,10.136421 L 26.477328,9.55273 L 26.752006,9.466893 L 27.112521,9.638567 L 27.833551,9.604232 L 27.97089,9.398224 L 28.966597,9.398224 L 29.000932,9.604232 L 29.515953,9.793074 L 29.618957,10.084919 L 29.996639,10.290927 L 30.837841,9.707237 L 31.352862,9.810241 L 31.850716,10.531271 L 32.400072,11.080626 L 32.314235,11.681484 L 32.073892,11.97333 L 32.67475,12.024832 L 32.743419,12.248008 L 33.206938,12.179338 L 33.086766,11.441141 L 33.206938,10.720112 L 33.721959,10.325262 L 33.842131,9.981915 L 33.824963,9.484061 L 33.963393,9.464285 z\" /></g></svg>"
      ],
      "text/plain": [
       "<shapely.geometry.polygon.Polygon at 0x7ff4b295a3d0>"
      ]
     },
     "execution_count": 15,
     "metadata": {},
     "output_type": "execute_result"
    }
   ],
   "source": [
    "polygon_ss = Polygon(polyg_ss)\n",
    "\n",
    "polygon_ss # Oh, that's South Sudan!"
   ]
  },
  {
   "cell_type": "code",
   "execution_count": 16,
   "metadata": {
    "collapsed": false
   },
   "outputs": [
    {
     "data": {
      "text/plain": [
       "<matplotlib.axes._subplots.AxesSubplot at 0x7ff4b283ba90>"
      ]
     },
     "execution_count": 16,
     "metadata": {},
     "output_type": "execute_result"
    },
    {
     "data": {
      "image/png": "[encoded data removed]",
      "text/plain": [
       "<matplotlib.figure.Figure at 0x7ff4b295a450>"
      ]
     },
     "metadata": {},
     "output_type": "display_data"
    }
   ],
   "source": [
    "ss_geoserie = GeoSeries(polygon_ss)\n",
    "\n",
    "ss_geoserie.plot()"
   ]
  },
  {
   "cell_type": "markdown",
   "metadata": {
    "collapsed": true
   },
   "source": [
    "#### Get Côte d'Ivoire polygon"
   ]
  },
  {
   "cell_type": "code",
   "execution_count": 26,
   "metadata": {
    "collapsed": false
   },
   "outputs": [
    {
     "data": {
      "text/plain": [
       "30    {u'type': u'Polygon', u'coordinates': [[[-2.85...\n",
       "Name: geometry_geojson, dtype: object"
      ]
     },
     "execution_count": 26,
     "metadata": {},
     "output_type": "execute_result"
    }
   ],
   "source": [
    "# I couldn't retrieve data using the country bame. i suspect unicode issue.\n",
    "# So I'm using country code:\n",
    "geoserie_ci = ebola_gdf[ebola_gdf.country_code_iso_2_digits == \"CI\"][0:1][\"geometry_geojson\"]\n",
    "\n",
    "geoserie_ci"
   ]
  },
  {
   "cell_type": "code",
   "execution_count": 27,
   "metadata": {
    "collapsed": false
   },
   "outputs": [
    {
     "name": "stdout",
     "output_type": "stream",
     "text": [
      "{30: u\"{u'type': u'Polygon', u'coordinates': [[[-2.856125, 4.994476], [-3.311084, 4.984296], [-4.00882, 5.179813], [-4.649917, 5.168264], [-5.834496, 4.993701], [-6.528769, 4.705088], [-7.518941, 4.338288], [-7.712159, 4.364566], [-7.635368, 5.188159], [-7.539715, 5.313345], [-7.570153, 5.707352], [-7.993693, 6.12619], [-8.311348, 6.193033], [-8.60288, 6.467564], [-8.385452, 6.911801], [-8.485446, 7.395208], [-8.439298, 7.686043], [-8.280703, 7.68718], [-8.221792, 8.123329], [-8.299049, 8.316444], [-8.203499, 8.455453], [-7.8321000000000005, 8.575704], [-8.079114, 9.376224], [-8.309616, 9.789532], [-8.229337, 10.12902], [-8.029944, 10.206535], [-7.89959, 10.297382], [-7.622759, 10.147236], [-6.850507, 10.138994], [-6.666461, 10.430811], [-6.493965, 10.411303], [-6.205223, 10.524061], [-6.050452, 10.096361], [-5.816926, 10.222555], [-5.404342, 10.370737], [-4.954653, 10.152714], [-4.779884, 9.821985], [-4.330247, 9.610835], [-3.980449, 9.862344], [-3.511899, 9.900326], [-2.827496, 9.642461], [-2.56219, 8.219628], [-2.9835849999999997, 7.3797049999999995], [-3.24437, 6.250472], [-2.810701, 5.389051], [-2.856125, 4.994476]]]}\"}\n"
     ]
    }
   ],
   "source": [
    "ds_ci = dict(geoserie_ci)\n",
    "\n",
    "print ds_ci"
   ]
  },
  {
   "cell_type": "code",
   "execution_count": 29,
   "metadata": {
    "collapsed": false
   },
   "outputs": [
    {
     "name": "stdout",
     "output_type": "stream",
     "text": [
      "\"{u'type': u'Polygon', u'coordinates': [[[-2.856125, 4.994476], [-3.311084, 4.984296], [-4.00882, 5.179813], [-4.649917, 5.168264], [-5.834496, 4.993701], [-6.528769, 4.705088], [-7.518941, 4.338288], [-7.712159, 4.364566], [-7.635368, 5.188159], [-7.539715, 5.313345], [-7.570153, 5.707352], [-7.993693, 6.12619], [-8.311348, 6.193033], [-8.60288, 6.467564], [-8.385452, 6.911801], [-8.485446, 7.395208], [-8.439298, 7.686043], [-8.280703, 7.68718], [-8.221792, 8.123329], [-8.299049, 8.316444], [-8.203499, 8.455453], [-7.8321000000000005, 8.575704], [-8.079114, 9.376224], [-8.309616, 9.789532], [-8.229337, 10.12902], [-8.029944, 10.206535], [-7.89959, 10.297382], [-7.622759, 10.147236], [-6.850507, 10.138994], [-6.666461, 10.430811], [-6.493965, 10.411303], [-6.205223, 10.524061], [-6.050452, 10.096361], [-5.816926, 10.222555], [-5.404342, 10.370737], [-4.954653, 10.152714], [-4.779884, 9.821985], [-4.330247, 9.610835], [-3.980449, 9.862344], [-3.511899, 9.900326], [-2.827496, 9.642461], [-2.56219, 8.219628], [-2.9835849999999997, 7.3797049999999995], [-3.24437, 6.250472], [-2.810701, 5.389051], [-2.856125, 4.994476]]]}\"\n"
     ]
    }
   ],
   "source": [
    "str_ci = json.dumps(ds_ci.get(30))\n",
    "print(str_ci)"
   ]
  },
  {
   "cell_type": "code",
   "execution_count": 34,
   "metadata": {
    "collapsed": false
   },
   "outputs": [
    {
     "data": {
      "text/plain": [
       "[(-2.856125, 4.994476),\n",
       " (-3.311084, 4.984296),\n",
       " (-4.00882, 5.179813),\n",
       " (-4.649917, 5.168264),\n",
       " (-5.834496, 4.993701),\n",
       " (-6.528769, 4.705088)]"
      ]
     },
     "execution_count": 34,
     "metadata": {},
     "output_type": "execute_result"
    }
   ],
   "source": [
    "json_ci = json.loads('{\"type\": \"Polygon\", \"coordinates\": [[[-2.856125, 4.994476], [-3.311084, 4.984296], [-4.00882, 5.179813], [-4.649917, 5.168264], [-5.834496, 4.993701], [-6.528769, 4.705088], [-7.518941, 4.338288], [-7.712159, 4.364566], [-7.635368, 5.188159], [-7.539715, 5.313345], [-7.570153, 5.707352], [-7.993693, 6.12619], [-8.311348, 6.193033], [-8.60288, 6.467564], [-8.385452, 6.911801], [-8.485446, 7.395208], [-8.439298, 7.686043], [-8.280703, 7.68718], [-8.221792, 8.123329], [-8.299049, 8.316444], [-8.203499, 8.455453], [-7.8321000000000005, 8.575704], [-8.079114, 9.376224], [-8.309616, 9.789532], [-8.229337, 10.12902], [-8.029944, 10.206535], [-7.89959, 10.297382], [-7.622759, 10.147236], [-6.850507, 10.138994], [-6.666461, 10.430811], [-6.493965, 10.411303], [-6.205223, 10.524061], [-6.050452, 10.096361], [-5.816926, 10.222555], [-5.404342, 10.370737], [-4.954653, 10.152714], [-4.779884, 9.821985], [-4.330247, 9.610835], [-3.980449, 9.862344], [-3.511899, 9.900326], [-2.827496, 9.642461], [-2.56219, 8.219628], [-2.9835849999999997, 7.3797049999999995], [-3.24437, 6.250472], [-2.810701, 5.389051], [-2.856125, 4.994476]]]}')\n",
    "\n",
    "coord_ci = json_ci.get('coordinates')\n",
    "\n",
    "polyg_ci = []\n",
    "\n",
    "for l in coord_ci[0]:\n",
    "    polyg_ci.append((l[0], l[1]))\n",
    "    \n",
    "polyg_ci[:6]"
   ]
  },
  {
   "cell_type": "code",
   "execution_count": 38,
   "metadata": {
    "collapsed": false
   },
   "outputs": [
    {
     "data": {
      "text/plain": [
       "<matplotlib.axes._subplots.AxesSubplot at 0x7ff4b30a29d0>"
      ]
     },
     "execution_count": 38,
     "metadata": {},
     "output_type": "execute_result"
    },
    {
     "data": {
      "image/png": "[encoded data removed]",
      "text/plain": [
       "<matplotlib.figure.Figure at 0x7ff4b2aa0d90>"
      ]
     },
     "metadata": {},
     "output_type": "display_data"
    }
   ],
   "source": [
    "polygon_ci = Polygon(polyg_ci)\n",
    "\n",
    "ci_geoserie = GeoSeries(polygon_ci)\n",
    "\n",
    "ci_geoserie.plot()"
   ]
  },
  {
   "cell_type": "code",
   "execution_count": null,
   "metadata": {
    "collapsed": true
   },
   "outputs": [],
   "source": []
  }
 ],
 "metadata": {
  "kernelspec": {
   "display_name": "Python 2",
   "language": "python",
   "name": "python2"
  },
  "language_info": {
   "codemirror_mode": {
    "name": "ipython",
    "version": 2
   },
   "file_extension": ".py",
   "mimetype": "text/x-python",
   "name": "python",
   "nbconvert_exporter": "python",
   "pygments_lexer": "ipython2",
   "version": "2.7.6"
  }
 },
 "nbformat": 4,
 "nbformat_minor": 0
}
