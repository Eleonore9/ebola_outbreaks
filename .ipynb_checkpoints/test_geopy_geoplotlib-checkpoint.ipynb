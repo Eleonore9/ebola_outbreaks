{
 "cells": [
  {
   "cell_type": "markdown",
   "metadata": {},
   "source": [
    "## Geocoding with geopy and plotting with geoplotlib"
   ]
  },
  {
   "cell_type": "markdown",
   "metadata": {},
   "source": [
    "###Geopy: https://github.com/geopy/geopy"
   ]
  },
  {
   "cell_type": "code",
   "execution_count": 1,
   "metadata": {
    "collapsed": true
   },
   "outputs": [],
   "source": [
    "# Geocode with geoPy:\n",
    "from geopy.geocoders import Nominatim"
   ]
  },
  {
   "cell_type": "code",
   "execution_count": 2,
   "metadata": {
    "collapsed": true
   },
   "outputs": [],
   "source": [
    "geolocator = Nominatim()"
   ]
  },
  {
   "cell_type": "markdown",
   "metadata": {},
   "source": [
    "__Testing the geocode function:__"
   ]
  },
  {
   "cell_type": "code",
   "execution_count": 5,
   "metadata": {
    "collapsed": false
   },
   "outputs": [],
   "source": [
    "location = geolocator.geocode(\"London\")"
   ]
  },
  {
   "cell_type": "code",
   "execution_count": 6,
   "metadata": {
    "collapsed": false
   },
   "outputs": [
    {
     "name": "stdout",
     "output_type": "stream",
     "text": [
      "London, Greater London, England, United Kingdom\n"
     ]
    }
   ],
   "source": [
    "print location.address"
   ]
  },
  {
   "cell_type": "code",
   "execution_count": 7,
   "metadata": {
    "collapsed": false
   },
   "outputs": [
    {
     "name": "stdout",
     "output_type": "stream",
     "text": [
      "(51.5073219, -0.1276474)\n"
     ]
    }
   ],
   "source": [
    "print(location.latitude, location.longitude)"
   ]
  },
  {
   "cell_type": "markdown",
   "metadata": {},
   "source": [
    "__Now use on the countries of interest:__"
   ]
  },
  {
   "cell_type": "code",
   "execution_count": 7,
   "metadata": {
    "collapsed": true
   },
   "outputs": [],
   "source": [
    "countries = [u\"C\\xf4te d'Ivoire (Ivory Coast)\", u'Italy', u'USA', \n",
    "                         u'South Africa', u'Philippines', u'Democratic Republic of the Congo', \n",
    "                         u'Gabon', u'Sudan (South Sudan)', u'Uganda', u'England', u'Russia']"
   ]
  },
  {
   "cell_type": "code",
   "execution_count": 8,
   "metadata": {
    "collapsed": true
   },
   "outputs": [],
   "source": [
    "locations = [geolocator.geocode(c) for c in countries]"
   ]
  },
  {
   "cell_type": "code",
   "execution_count": 9,
   "metadata": {
    "collapsed": false
   },
   "outputs": [
    {
     "name": "stdout",
     "output_type": "stream",
     "text": [
      "[-5.5679458, 12.674297, -100.4458825, 24.991639, 122.7312101, 23.8222636, 11.6899699, 29.6667897, 32.2166578, -0.540240236617432, 97.7453061]\n"
     ]
    }
   ],
   "source": [
    "longitudes = [l.longitude for l in locations]\n",
    "\n",
    "print longitudes"
   ]
  },
  {
   "cell_type": "code",
   "execution_count": 10,
   "metadata": {
    "collapsed": false
   },
   "outputs": [
    {
     "name": "stdout",
     "output_type": "stream",
     "text": [
      "[7.9897371, 42.6384261, 39.7837304, -28.8166236, 12.7503486, -2.9814344, -0.8999695, 7.8699431, 1.5333554, 52.7954791, 64.6863136]\n"
     ]
    }
   ],
   "source": [
    "latitudes = [l.latitude for l in locations]\n",
    "\n",
    "print latitudes"
   ]
  },
  {
   "cell_type": "code",
   "execution_count": 11,
   "metadata": {
    "collapsed": false
   },
   "outputs": [
    {
     "name": "stdout",
     "output_type": "stream",
     "text": [
      "{'lat': [7.9897371, 42.6384261, 39.7837304, -28.8166236, 12.7503486, -2.9814344, -0.8999695, 7.8699431, 1.5333554, 52.7954791, 64.6863136], 'country': [Location((7.9897371, -5.5679458, 0.0)), Location((42.6384261, 12.674297, 0.0)), Location((39.7837304, -100.4458825, 0.0)), Location((-28.8166236, 24.991639, 0.0)), Location((12.7503486, 122.7312101, 0.0)), Location((-2.9814344, 23.8222636, 0.0)), Location((-0.8999695, 11.6899699, 0.0)), Location((7.8699431, 29.6667897, 0.0)), Location((1.5333554, 32.2166578, 0.0)), Location((52.7954791, -0.540240236617, 0.0)), Location((64.6863136, 97.7453061, 0.0))], 'lon': [-5.5679458, 12.674297, -100.4458825, 24.991639, 122.7312101, 23.8222636, 11.6899699, 29.6667897, 32.2166578, -0.540240236617432, 97.7453061]}\n"
     ]
    }
   ],
   "source": [
    "dict_countries = {\"country\": locations, \"lat\": latitudes, \"lon\": longitudes}\n",
    "\n",
    "print dict_countries"
   ]
  },
  {
   "cell_type": "code",
   "execution_count": 12,
   "metadata": {
    "collapsed": true
   },
   "outputs": [],
   "source": [
    "import pandas as pd"
   ]
  },
  {
   "cell_type": "code",
   "execution_count": 13,
   "metadata": {
    "collapsed": true
   },
   "outputs": [],
   "source": [
    "df_countries = pd.DataFrame(dict_countries)"
   ]
  },
  {
   "cell_type": "code",
   "execution_count": 14,
   "metadata": {
    "collapsed": false
   },
   "outputs": [
    {
     "data": {
      "text/html": [
       "<div>\n",
       "<table border=\"1\" class=\"dataframe\">\n",
       "  <thead>\n",
       "    <tr style=\"text-align: right;\">\n",
       "      <th></th>\n",
       "      <th>country</th>\n",
       "      <th>lat</th>\n",
       "      <th>lon</th>\n",
       "    </tr>\n",
       "  </thead>\n",
       "  <tbody>\n",
       "    <tr>\n",
       "      <th>0</th>\n",
       "      <td>(Côte d’Ivoire, (7.9897371, -5.5679458))</td>\n",
       "      <td>7.989737</td>\n",
       "      <td>-5.567946</td>\n",
       "    </tr>\n",
       "    <tr>\n",
       "      <th>1</th>\n",
       "      <td>(Italia, (42.6384261, 12.674297))</td>\n",
       "      <td>42.638426</td>\n",
       "      <td>12.674297</td>\n",
       "    </tr>\n",
       "    <tr>\n",
       "      <th>2</th>\n",
       "      <td>(United States of America, (39.7837304, -100.4...</td>\n",
       "      <td>39.783730</td>\n",
       "      <td>-100.445882</td>\n",
       "    </tr>\n",
       "    <tr>\n",
       "      <th>3</th>\n",
       "      <td>(South Africa, (-28.8166236, 24.991639))</td>\n",
       "      <td>-28.816624</td>\n",
       "      <td>24.991639</td>\n",
       "    </tr>\n",
       "    <tr>\n",
       "      <th>4</th>\n",
       "      <td>(Philippines, (12.7503486, 122.7312101))</td>\n",
       "      <td>12.750349</td>\n",
       "      <td>122.731210</td>\n",
       "    </tr>\n",
       "  </tbody>\n",
       "</table>\n",
       "</div>"
      ],
      "text/plain": [
       "                                             country        lat         lon\n",
       "0           (Côte d’Ivoire, (7.9897371, -5.5679458))   7.989737   -5.567946\n",
       "1                  (Italia, (42.6384261, 12.674297))  42.638426   12.674297\n",
       "2  (United States of America, (39.7837304, -100.4...  39.783730 -100.445882\n",
       "3           (South Africa, (-28.8166236, 24.991639)) -28.816624   24.991639\n",
       "4           (Philippines, (12.7503486, 122.7312101))  12.750349  122.731210"
      ]
     },
     "execution_count": 14,
     "metadata": {},
     "output_type": "execute_result"
    }
   ],
   "source": [
    "df_countries.head()"
   ]
  },
  {
   "cell_type": "code",
   "execution_count": 15,
   "metadata": {
    "collapsed": false
   },
   "outputs": [],
   "source": [
    "df_countries.to_csv(\"csv/out/countries_ebola.csv\", encoding=\"utf-8\", index_col=False)"
   ]
  },
  {
   "cell_type": "markdown",
   "metadata": {},
   "source": [
    "###Geoplotlib https://github.com/andrea-cuttone/geoplotlib"
   ]
  },
  {
   "cell_type": "code",
   "execution_count": 16,
   "metadata": {
    "collapsed": false
   },
   "outputs": [],
   "source": [
    "# Plot with geoplotlib\n",
    "import geoplotlib\n",
    "\n",
    "from geoplotlib.utils import read_csv"
   ]
  },
  {
   "cell_type": "code",
   "execution_count": 17,
   "metadata": {
    "collapsed": false
   },
   "outputs": [
    {
     "name": "stdout",
     "output_type": "stream",
     "text": [
      "DataAccessObject(['', 'country', 'lat', 'lon'] x 11)\n"
     ]
    }
   ],
   "source": [
    "data_eb = read_csv(\"csv/out/countries_ebola.csv\")\n",
    "\n",
    "print data_eb"
   ]
  },
  {
   "cell_type": "code",
   "execution_count": 18,
   "metadata": {
    "collapsed": false
   },
   "outputs": [],
   "source": [
    "geoplotlib.dot(data_eb)"
   ]
  },
  {
   "cell_type": "code",
   "execution_count": 19,
   "metadata": {
    "collapsed": false
   },
   "outputs": [],
   "source": [
    "geoplotlib.show()"
   ]
  },
  {
   "cell_type": "code",
   "execution_count": null,
   "metadata": {
    "collapsed": true
   },
   "outputs": [],
   "source": []
  }
 ],
 "metadata": {
  "kernelspec": {
   "display_name": "Python 2",
   "language": "python",
   "name": "python2"
  },
  "language_info": {
   "codemirror_mode": {
    "name": "ipython",
    "version": 2
   },
   "file_extension": ".py",
   "mimetype": "text/x-python",
   "name": "python",
   "nbconvert_exporter": "python",
   "pygments_lexer": "ipython2",
   "version": "2.7.6"
  }
 },
 "nbformat": 4,
 "nbformat_minor": 0
}
