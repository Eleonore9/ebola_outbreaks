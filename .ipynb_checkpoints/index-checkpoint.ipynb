{
 "cells": [
  {
   "cell_type": "markdown",
   "metadata": {},
   "source": [
    "### Hosting my notebooks on [Binder](http://docs.mybinder.org/)"
   ]
  },
  {
   "cell_type": "markdown",
   "metadata": {},
   "source": [
    "# Exploration of a [dataset](https://data.hdx.rwlabs.org/dataset/ebola-outbreaks-before-2014) on Ebola outbreaks before 2014"
   ]
  },
  {
   "cell_type": "markdown",
   "metadata": {},
   "source": [
    "source: Humanitarian Data Exchange ([HDX](http://data.hdx.rwlabs.org/))"
   ]
  },
  {
   "cell_type": "code",
   "execution_count": 21,
   "metadata": {
    "collapsed": false
   },
   "outputs": [],
   "source": [
    "import numpy as np\n",
    "import pandas as pd\n",
    "\n",
    "from bokeh.charts import Histogram, Bar, BoxPlot, Scatter\n",
    "from bokeh.plotting import figure, show\n",
    "from bokeh.io import output_notebook, output_file"
   ]
  },
  {
   "cell_type": "markdown",
   "metadata": {
    "collapsed": true
   },
   "source": [
    "### Loading the dataset to a Pandas dataframe"
   ]
  },
  {
   "cell_type": "code",
   "execution_count": 2,
   "metadata": {
    "collapsed": true
   },
   "outputs": [],
   "source": [
    "ebola_df = pd.read_csv(\"data/out/ebola_outbreaks_before_2014-geometry_fixed.csv\", encoding=\"utf-8\", index_col=False)\n",
    "\n",
    "ebola_data = ebola_df.drop(ebola_df.columns[[0, 1, 2, 9]], axis=1)"
   ]
  },
  {
   "cell_type": "code",
   "execution_count": 3,
   "metadata": {
    "collapsed": false
   },
   "outputs": [
    {
     "data": {
      "text/html": [
       "<div>\n",
       "<table border=\"1\" class=\"dataframe\">\n",
       "  <thead>\n",
       "    <tr style=\"text-align: right;\">\n",
       "      <th></th>\n",
       "      <th>country_code_iso_2_digits</th>\n",
       "      <th>country_name</th>\n",
       "      <th>duration_days</th>\n",
       "      <th>ebola_subtype</th>\n",
       "      <th>end_date</th>\n",
       "      <th>end_datetime</th>\n",
       "      <th>geometry</th>\n",
       "      <th>geometry_geojson</th>\n",
       "      <th>latitude</th>\n",
       "      <th>longitude</th>\n",
       "      <th>reported_number_of_deaths_among_cases</th>\n",
       "      <th>reported_number_of_human_cases</th>\n",
       "      <th>reported_of_deaths_among_cases</th>\n",
       "      <th>start_date</th>\n",
       "      <th>start_datetime</th>\n",
       "      <th>year_s</th>\n",
       "    </tr>\n",
       "  </thead>\n",
       "  <tbody>\n",
       "    <tr>\n",
       "      <th>0</th>\n",
       "      <td>RU</td>\n",
       "      <td>Russia</td>\n",
       "      <td>365</td>\n",
       "      <td>Zaire virus</td>\n",
       "      <td>2004-12-31T00:00:00Z</td>\n",
       "      <td>2004-12-31T00:00:00Z</td>\n",
       "      <td>(POLYGON ((132.448985 42.845404, 132.44988 42....</td>\n",
       "      <td>{u'type': u'MultiPolygon', u'coordinates': [[[...</td>\n",
       "      <td>64.686314</td>\n",
       "      <td>97.745306</td>\n",
       "      <td>1</td>\n",
       "      <td>1</td>\n",
       "      <td>1</td>\n",
       "      <td>2004-01-01T00:00:00Z</td>\n",
       "      <td>2004-01-01T00:00:00Z</td>\n",
       "      <td>2004</td>\n",
       "    </tr>\n",
       "    <tr>\n",
       "      <th>1</th>\n",
       "      <td>PH</td>\n",
       "      <td>Philippines</td>\n",
       "      <td>365</td>\n",
       "      <td>Reston virus</td>\n",
       "      <td>1996-12-31T00:00:00Z</td>\n",
       "      <td>1996-12-31T00:00:00Z</td>\n",
       "      <td>(POLYGON ((119.849783 4.796861, 119.833995 4.7...</td>\n",
       "      <td>{u'type': u'MultiPolygon', u'coordinates': [[[...</td>\n",
       "      <td>12.750349</td>\n",
       "      <td>122.731210</td>\n",
       "      <td>0</td>\n",
       "      <td>0</td>\n",
       "      <td>0</td>\n",
       "      <td>1996-01-01T00:00:00Z</td>\n",
       "      <td>1996-01-01T00:00:00Z</td>\n",
       "      <td>1996</td>\n",
       "    </tr>\n",
       "    <tr>\n",
       "      <th>2</th>\n",
       "      <td>US</td>\n",
       "      <td>USA</td>\n",
       "      <td>364</td>\n",
       "      <td>Reston virus</td>\n",
       "      <td>1990-12-31T00:00:00Z</td>\n",
       "      <td>1990-12-31T00:00:00Z</td>\n",
       "      <td>(POLYGON ((-155.606519 20.137956, -155.586363 ...</td>\n",
       "      <td>{u'type': u'MultiPolygon', u'coordinates': [[[...</td>\n",
       "      <td>39.783730</td>\n",
       "      <td>-100.445882</td>\n",
       "      <td>0</td>\n",
       "      <td>4</td>\n",
       "      <td>0</td>\n",
       "      <td>1990-01-01T00:00:00Z</td>\n",
       "      <td>1990-01-01T00:00:00Z</td>\n",
       "      <td>1990</td>\n",
       "    </tr>\n",
       "  </tbody>\n",
       "</table>\n",
       "</div>"
      ],
      "text/plain": [
       "  country_code_iso_2_digits country_name  duration_days ebola_subtype  \\\n",
       "0                        RU       Russia            365   Zaire virus   \n",
       "1                        PH  Philippines            365  Reston virus   \n",
       "2                        US          USA            364  Reston virus   \n",
       "\n",
       "               end_date          end_datetime  \\\n",
       "0  2004-12-31T00:00:00Z  2004-12-31T00:00:00Z   \n",
       "1  1996-12-31T00:00:00Z  1996-12-31T00:00:00Z   \n",
       "2  1990-12-31T00:00:00Z  1990-12-31T00:00:00Z   \n",
       "\n",
       "                                            geometry  \\\n",
       "0  (POLYGON ((132.448985 42.845404, 132.44988 42....   \n",
       "1  (POLYGON ((119.849783 4.796861, 119.833995 4.7...   \n",
       "2  (POLYGON ((-155.606519 20.137956, -155.586363 ...   \n",
       "\n",
       "                                    geometry_geojson   latitude   longitude  \\\n",
       "0  {u'type': u'MultiPolygon', u'coordinates': [[[...  64.686314   97.745306   \n",
       "1  {u'type': u'MultiPolygon', u'coordinates': [[[...  12.750349  122.731210   \n",
       "2  {u'type': u'MultiPolygon', u'coordinates': [[[...  39.783730 -100.445882   \n",
       "\n",
       "   reported_number_of_deaths_among_cases  reported_number_of_human_cases  \\\n",
       "0                                      1                               1   \n",
       "1                                      0                               0   \n",
       "2                                      0                               4   \n",
       "\n",
       "   reported_of_deaths_among_cases            start_date        start_datetime  \\\n",
       "0                               1  2004-01-01T00:00:00Z  2004-01-01T00:00:00Z   \n",
       "1                               0  1996-01-01T00:00:00Z  1996-01-01T00:00:00Z   \n",
       "2                               0  1990-01-01T00:00:00Z  1990-01-01T00:00:00Z   \n",
       "\n",
       "  year_s  \n",
       "0   2004  \n",
       "1   1996  \n",
       "2   1990  "
      ]
     },
     "execution_count": 3,
     "metadata": {},
     "output_type": "execute_result"
    }
   ],
   "source": [
    "ebola_data.head(3)"
   ]
  },
  {
   "cell_type": "markdown",
   "metadata": {},
   "source": [
    "### Ebola outbreaks per country"
   ]
  },
  {
   "cell_type": "code",
   "execution_count": 4,
   "metadata": {
    "collapsed": true
   },
   "outputs": [],
   "source": [
    "# Handle non-ASCII character\n",
    "ebola_data = ebola_data.replace(u\"C\\xf4te d'Ivoire (Ivory Coast)\", \n",
    "                                u\"Cote d'Ivoire (Ivory Coast)\")"
   ]
  },
  {
   "cell_type": "markdown",
   "metadata": {},
   "source": [
    "#### General description"
   ]
  },
  {
   "cell_type": "code",
   "execution_count": 5,
   "metadata": {
    "collapsed": false
   },
   "outputs": [
    {
     "name": "stdout",
     "output_type": "stream",
     "text": [
      "country_name\n",
      "Cote d'Ivoire (Ivory Coast)         1\n",
      "England                             1\n",
      "Italy                               1\n",
      "South Africa                        1\n",
      "Russia                              2\n",
      "Philippines                         3\n",
      "Sudan (South Sudan)                 3\n",
      "USA                                 3\n",
      "Gabon                               4\n",
      "Uganda                              5\n",
      "Democratic Republic of the Congo    9\n",
      "Name: country_name, dtype: int64\n"
     ]
    },
    {
     "data": {
      "text/plain": [
       "count    11.000000\n",
       "mean      3.000000\n",
       "std       2.408319\n",
       "min       1.000000\n",
       "25%       1.000000\n",
       "50%       3.000000\n",
       "75%       3.500000\n",
       "max       9.000000\n",
       "Name: country_name, dtype: float64"
      ]
     },
     "execution_count": 5,
     "metadata": {},
     "output_type": "execute_result"
    }
   ],
   "source": [
    "outbrks_data = ebola_data.groupby([\"country_name\"])[\"country_name\"].count().order()\n",
    "\n",
    "print outbrks_data\n",
    "\n",
    "outbrks_data.describe()"
   ]
  },
  {
   "cell_type": "markdown",
   "metadata": {},
   "source": [
    "* Prior to 2014, there has been Ebola outbreaks in **11** countries.\n",
    "\n",
    "* Those countries have had between **1** and **9** outbreaks."
   ]
  },
  {
   "cell_type": "markdown",
   "metadata": {},
   "source": [
    "#### Distribution of outbreaks per country"
   ]
  },
  {
   "cell_type": "code",
   "execution_count": 6,
   "metadata": {
    "collapsed": false
   },
   "outputs": [
    {
     "name": "stdout",
     "output_type": "stream",
     "text": [
      "                                  proportions of outbreaks (%)\n",
      "country_name                                                  \n",
      "Cote d'Ivoire (Ivory Coast)                           3.030303\n",
      "England                                               3.030303\n",
      "Italy                                                 3.030303\n",
      "South Africa                                          3.030303\n",
      "Russia                                                6.060606\n",
      "Philippines                                           9.090909\n",
      "Sudan (South Sudan)                                   9.090909\n",
      "USA                                                   9.090909\n",
      "Gabon                                                12.121212\n",
      "Uganda                                               15.151515\n",
      "Democratic Republic of the Congo                     27.272727\n"
     ]
    },
    {
     "data": {
      "text/html": [
       "\n",
       "    <div class=\"bk-banner\">\n",
       "        <a href=\"http://bokeh.pydata.org\" target=\"_blank\" class=\"bk-logo bk-logo-small bk-logo-notebook\"></a>\n",
       "        <span id=\"980680e7-5aa9-4404-8d4c-3c50ff706776\">Loading BokehJS ...</span>\n",
       "    </div>"
      ]
     },
     "metadata": {},
     "output_type": "display_data"
    },
    {
     "data": {
      "application/javascript": [
       "\n",
       "(function(global) {\n",
       "  function now() {\n",
       "    return new Date();\n",
       "  }\n",
       "\n",
       "  if (typeof (window._bokeh_onload_callbacks) === \"undefined\") {\n",
       "    window._bokeh_onload_callbacks = [];\n",
       "  }\n",
       "\n",
       "  function run_callbacks() {\n",
       "    window._bokeh_onload_callbacks.forEach(function(callback) { callback() });\n",
       "    delete window._bokeh_onload_callbacks\n",
       "    console.info(\"Bokeh: all callbacks have finished\");\n",
       "  }\n",
       "\n",
       "  function load_libs(js_urls, callback) {\n",
       "    window._bokeh_onload_callbacks.push(callback);\n",
       "    if (window._bokeh_is_loading > 0) {\n",
       "      console.log(\"Bokeh: BokehJS is being loaded, scheduling callback at\", now());\n",
       "      return null;\n",
       "    }\n",
       "    if (js_urls == null || js_urls.length === 0) {\n",
       "      run_callbacks();\n",
       "      return null;\n",
       "    }\n",
       "    console.log(\"Bokeh: BokehJS not loaded, scheduling load and callback at\", now());\n",
       "    window._bokeh_is_loading = js_urls.length;\n",
       "    for (var i = 0; i < js_urls.length; i++) {\n",
       "      var url = js_urls[i];\n",
       "      var s = document.createElement('script');\n",
       "      s.src = url;\n",
       "      s.async = false;\n",
       "      s.onreadystatechange = s.onload = function() {\n",
       "        window._bokeh_is_loading--;\n",
       "        if (window._bokeh_is_loading === 0) {\n",
       "          console.log(\"Bokeh: all BokehJS libraries loaded\");\n",
       "          run_callbacks()\n",
       "        }\n",
       "      };\n",
       "      s.onerror = function() {\n",
       "        console.warn(\"failed to load library \" + url);\n",
       "      };\n",
       "      console.log(\"Bokeh: injecting script tag for BokehJS library: \", url);\n",
       "      document.getElementsByTagName(\"head\")[0].appendChild(s);\n",
       "    }\n",
       "  };\n",
       "\n",
       "  var js_urls = ['https://cdn.pydata.org/bokeh/release/bokeh-0.11.1.min.js', 'https://cdn.pydata.org/bokeh/release/bokeh-widgets-0.11.1.min.js', 'https://cdn.pydata.org/bokeh/release/bokeh-compiler-0.11.1.min.js'];\n",
       "\n",
       "  var inline_js = [\n",
       "    function(Bokeh) {\n",
       "      Bokeh.set_log_level(\"info\");\n",
       "    },\n",
       "    \n",
       "    function(Bokeh) {\n",
       "      Bokeh.$(\"#980680e7-5aa9-4404-8d4c-3c50ff706776\").text(\"BokehJS successfully loaded\");\n",
       "    },\n",
       "    function(Bokeh) {\n",
       "      console.log(\"Bokeh: injecting CSS: https://cdn.pydata.org/bokeh/release/bokeh-0.11.1.min.css\");\n",
       "      Bokeh.embed.inject_css(\"https://cdn.pydata.org/bokeh/release/bokeh-0.11.1.min.css\");\n",
       "      console.log(\"Bokeh: injecting CSS: https://cdn.pydata.org/bokeh/release/bokeh-widgets-0.11.1.min.css\");\n",
       "      Bokeh.embed.inject_css(\"https://cdn.pydata.org/bokeh/release/bokeh-widgets-0.11.1.min.css\");\n",
       "    }\n",
       "  ];\n",
       "\n",
       "  function run_inline_js() {\n",
       "    for (var i = 0; i < inline_js.length; i++) {\n",
       "      inline_js[i](window.Bokeh);\n",
       "    }\n",
       "  }\n",
       "\n",
       "  if (window._bokeh_is_loading === 0) {\n",
       "    console.log(\"Bokeh: BokehJS loaded, going straight to plotting\");\n",
       "    run_inline_js();\n",
       "  } else {\n",
       "    load_libs(js_urls, function() {\n",
       "      console.log(\"Bokeh: BokehJS plotting callback run at\", now());\n",
       "      run_inline_js();\n",
       "    });\n",
       "  }\n",
       "}(this));"
      ]
     },
     "metadata": {},
     "output_type": "display_data"
    },
    {
     "data": {
      "text/html": [
       "\n",
       "\n",
       "    <div class=\"plotdiv\" id=\"7a0dae76-82b0-41c8-a4ef-ae6e6d084b60\"></div>\n",
       "<script type=\"text/javascript\">\n",
       "  \n",
       "  (function(global) {\n",
       "    function now() {\n",
       "      return new Date();\n",
       "    }\n",
       "  \n",
       "    if (typeof (window._bokeh_onload_callbacks) === \"undefined\") {\n",
       "      window._bokeh_onload_callbacks = [];\n",
       "    }\n",
       "  \n",
       "    function run_callbacks() {\n",
       "      window._bokeh_onload_callbacks.forEach(function(callback) { callback() });\n",
       "      delete window._bokeh_onload_callbacks\n",
       "      console.info(\"Bokeh: all callbacks have finished\");\n",
       "    }\n",
       "  \n",
       "    function load_libs(js_urls, callback) {\n",
       "      window._bokeh_onload_callbacks.push(callback);\n",
       "      if (window._bokeh_is_loading > 0) {\n",
       "        console.log(\"Bokeh: BokehJS is being loaded, scheduling callback at\", now());\n",
       "        return null;\n",
       "      }\n",
       "      if (js_urls == null || js_urls.length === 0) {\n",
       "        run_callbacks();\n",
       "        return null;\n",
       "      }\n",
       "      console.log(\"Bokeh: BokehJS not loaded, scheduling load and callback at\", now());\n",
       "      window._bokeh_is_loading = js_urls.length;\n",
       "      for (var i = 0; i < js_urls.length; i++) {\n",
       "        var url = js_urls[i];\n",
       "        var s = document.createElement('script');\n",
       "        s.src = url;\n",
       "        s.async = false;\n",
       "        s.onreadystatechange = s.onload = function() {\n",
       "          window._bokeh_is_loading--;\n",
       "          if (window._bokeh_is_loading === 0) {\n",
       "            console.log(\"Bokeh: all BokehJS libraries loaded\");\n",
       "            run_callbacks()\n",
       "          }\n",
       "        };\n",
       "        s.onerror = function() {\n",
       "          console.warn(\"failed to load library \" + url);\n",
       "        };\n",
       "        console.log(\"Bokeh: injecting script tag for BokehJS library: \", url);\n",
       "        document.getElementsByTagName(\"head\")[0].appendChild(s);\n",
       "      }\n",
       "    };var element = document.getElementById(\"7a0dae76-82b0-41c8-a4ef-ae6e6d084b60\");\n",
       "    if (element == null) {\n",
       "      console.log(\"Bokeh: ERROR: autoload.js configured with elementid '7a0dae76-82b0-41c8-a4ef-ae6e6d084b60' but no matching script tag was found. \")\n",
       "      return false;\n",
       "    }\n",
       "  \n",
       "    var js_urls = [];\n",
       "  \n",
       "    var inline_js = [\n",
       "      function(Bokeh) {\n",
       "        Bokeh.$(function() {\n",
       "            var docs_json = {\"97c4aa5f-c44a-486b-aeb9-752b03cb4f19\":{\"roots\":{\"references\":[{\"attributes\":{\"data_source\":{\"id\":\"d918453b-7101-4486-ab25-00c85a720cfc\",\"type\":\"ColumnDataSource\"},\"glyph\":{\"id\":\"01948ad9-43fc-46f4-8156-f3ee110c3e28\",\"type\":\"Rect\"},\"hover_glyph\":null,\"nonselection_glyph\":null,\"selection_glyph\":null},\"id\":\"00ef402c-cc5c-4331-bd01-083163ecd359\",\"type\":\"GlyphRenderer\"},{\"attributes\":{\"plot\":{\"id\":\"bd3ca643-f5bd-432b-815d-18c8e96bd007\",\"subtype\":\"Chart\",\"type\":\"Plot\"}},\"id\":\"e7d72907-e54b-40f6-8ac0-6a88a96ce2a4\",\"type\":\"HelpTool\"},{\"attributes\":{},\"id\":\"6461fb75-261f-4e3c-9f2e-577d25663950\",\"type\":\"ToolEvents\"},{\"attributes\":{\"plot\":{\"id\":\"bd3ca643-f5bd-432b-815d-18c8e96bd007\",\"subtype\":\"Chart\",\"type\":\"Plot\"}},\"id\":\"01e1cf3a-36ac-42f1-8da0-660fecdb52be\",\"type\":\"ResetTool\"},{\"attributes\":{\"plot\":{\"id\":\"bd3ca643-f5bd-432b-815d-18c8e96bd007\",\"subtype\":\"Chart\",\"type\":\"Plot\"}},\"id\":\"5981c6d7-95be-4837-bad0-db7a0a901fea\",\"type\":\"PanTool\"},{\"attributes\":{\"fill_alpha\":{\"field\":\"fill_alpha\"},\"fill_color\":{\"field\":\"color\"},\"height\":{\"field\":\"height\",\"units\":\"data\"},\"line_color\":{\"field\":\"line_color\"},\"width\":{\"field\":\"width\",\"units\":\"data\"},\"x\":{\"field\":\"x\"},\"y\":{\"field\":\"y\"}},\"id\":\"b4d254d3-c07c-4819-b961-86eeff4f49fc\",\"type\":\"Rect\"},{\"attributes\":{\"callback\":null,\"end\":28.636363636363637},\"id\":\"bf113675-c9d6-435b-af47-643329d450bd\",\"type\":\"Range1d\"},{\"attributes\":{\"callback\":null,\"column_names\":[\"line_color\",\"line_alpha\",\"color\",\"fill_alpha\",\"height\",\"width\",\"y\",\"x\"],\"data\":{\"chart_index\":[{\"index\":\"Democratic Republic of the Congo\"}],\"color\":[\"navy\"],\"fill_alpha\":[0.8],\"height\":[27.272727272727273],\"index\":[\"Democratic Republic of the Congo\"],\"line_alpha\":[1.0],\"line_color\":[\"white\"],\"width\":[0.8],\"x\":[\"Democratic Republic of the Congo\"],\"y\":[13.636363636363637]}},\"id\":\"d918453b-7101-4486-ab25-00c85a720cfc\",\"type\":\"ColumnDataSource\"},{\"attributes\":{\"data_source\":{\"id\":\"22877ff7-eee5-4368-a59b-1f50dcea4331\",\"type\":\"ColumnDataSource\"},\"glyph\":{\"id\":\"0023c4e9-815c-49df-810d-1b003ac56592\",\"type\":\"Rect\"},\"hover_glyph\":null,\"nonselection_glyph\":null,\"selection_glyph\":null},\"id\":\"6a2e50ba-1451-4eb6-9d24-6f1cc9ae8da6\",\"type\":\"GlyphRenderer\"},{\"attributes\":{\"data_source\":{\"id\":\"87070862-2761-49de-be1d-f0060ac41c0e\",\"type\":\"ColumnDataSource\"},\"glyph\":{\"id\":\"24ad0e18-daad-4eb4-ab70-1aed8449ac80\",\"type\":\"Rect\"},\"hover_glyph\":null,\"nonselection_glyph\":null,\"selection_glyph\":null},\"id\":\"800593bf-b013-4395-972a-cc5731811a51\",\"type\":\"GlyphRenderer\"},{\"attributes\":{\"data_source\":{\"id\":\"7eb05c50-554f-4226-bcc2-1fc89d6f99b2\",\"type\":\"ColumnDataSource\"},\"glyph\":{\"id\":\"b4d254d3-c07c-4819-b961-86eeff4f49fc\",\"type\":\"Rect\"},\"hover_glyph\":null,\"nonselection_glyph\":null,\"selection_glyph\":null},\"id\":\"f2cdab88-73d2-4dd1-9a15-61c9756db70c\",\"type\":\"GlyphRenderer\"},{\"attributes\":{\"plot\":{\"id\":\"bd3ca643-f5bd-432b-815d-18c8e96bd007\",\"subtype\":\"Chart\",\"type\":\"Plot\"}},\"id\":\"cfe35ab4-5ac4-422b-88a8-a48ff5b10fde\",\"type\":\"WheelZoomTool\"},{\"attributes\":{\"fill_alpha\":{\"field\":\"fill_alpha\"},\"fill_color\":{\"field\":\"color\"},\"height\":{\"field\":\"height\",\"units\":\"data\"},\"line_color\":{\"field\":\"line_color\"},\"width\":{\"field\":\"width\",\"units\":\"data\"},\"x\":{\"field\":\"x\"},\"y\":{\"field\":\"y\"}},\"id\":\"12b8ee00-b8b0-435a-83e4-9c266f07efb2\",\"type\":\"Rect\"},{\"attributes\":{\"fill_alpha\":{\"field\":\"fill_alpha\"},\"fill_color\":{\"field\":\"color\"},\"height\":{\"field\":\"height\",\"units\":\"data\"},\"line_color\":{\"field\":\"line_color\"},\"width\":{\"field\":\"width\",\"units\":\"data\"},\"x\":{\"field\":\"x\"},\"y\":{\"field\":\"y\"}},\"id\":\"0023c4e9-815c-49df-810d-1b003ac56592\",\"type\":\"Rect\"},{\"attributes\":{\"below\":[{\"id\":\"77fd8f15-8bfb-4d51-9481-690e3d7b5247\",\"type\":\"CategoricalAxis\"}],\"left\":[{\"id\":\"5021427a-3055-44b0-ad21-afd4dd16d559\",\"type\":\"LinearAxis\"}],\"legend\":null,\"renderers\":[{\"id\":\"11613b1c-7919-4f5d-a840-00ee7f427cf8\",\"type\":\"BoxAnnotation\"},{\"id\":\"5ba7a289-83f7-4c8b-a169-d8c934814579\",\"type\":\"GlyphRenderer\"},{\"id\":\"9b0be4c0-e646-40f2-bee4-5e07c60fc553\",\"type\":\"GlyphRenderer\"},{\"id\":\"219824f4-b84b-4085-a2c2-50c0ffb8cb15\",\"type\":\"GlyphRenderer\"},{\"id\":\"898ecfed-ab9f-4d27-8f89-a5a619a4c268\",\"type\":\"GlyphRenderer\"},{\"id\":\"883ca040-61e0-4206-98d5-3c236bd5e13a\",\"type\":\"GlyphRenderer\"},{\"id\":\"6a2e50ba-1451-4eb6-9d24-6f1cc9ae8da6\",\"type\":\"GlyphRenderer\"},{\"id\":\"f60035ba-98b1-4f74-bdf5-91fe6e7b3532\",\"type\":\"GlyphRenderer\"},{\"id\":\"f2cdab88-73d2-4dd1-9a15-61c9756db70c\",\"type\":\"GlyphRenderer\"},{\"id\":\"800593bf-b013-4395-972a-cc5731811a51\",\"type\":\"GlyphRenderer\"},{\"id\":\"44d7d2c0-5a17-4bf8-96f8-7c42bdc0dc90\",\"type\":\"GlyphRenderer\"},{\"id\":\"00ef402c-cc5c-4331-bd01-083163ecd359\",\"type\":\"GlyphRenderer\"},{\"id\":\"77fd8f15-8bfb-4d51-9481-690e3d7b5247\",\"type\":\"CategoricalAxis\"},{\"id\":\"5021427a-3055-44b0-ad21-afd4dd16d559\",\"type\":\"LinearAxis\"},{\"id\":\"b8464c93-4aef-4030-a087-a990a4980150\",\"type\":\"Grid\"}],\"title\":\"Proportion of ebola outbreaks per country in %\",\"title_text_font_size\":{\"value\":\"14pt\"},\"tool_events\":{\"id\":\"6461fb75-261f-4e3c-9f2e-577d25663950\",\"type\":\"ToolEvents\"},\"tools\":[{\"id\":\"5981c6d7-95be-4837-bad0-db7a0a901fea\",\"type\":\"PanTool\"},{\"id\":\"cfe35ab4-5ac4-422b-88a8-a48ff5b10fde\",\"type\":\"WheelZoomTool\"},{\"id\":\"5a73997c-d254-4463-a5e8-1940b7d9fc7a\",\"type\":\"BoxZoomTool\"},{\"id\":\"b4fd9b90-7188-433e-a3fa-40443e55ec76\",\"type\":\"PreviewSaveTool\"},{\"id\":\"a209d055-ed9f-4bfd-91fd-f307c056746f\",\"type\":\"ResizeTool\"},{\"id\":\"01e1cf3a-36ac-42f1-8da0-660fecdb52be\",\"type\":\"ResetTool\"},{\"id\":\"e7d72907-e54b-40f6-8ac0-6a88a96ce2a4\",\"type\":\"HelpTool\"}],\"x_mapper_type\":\"auto\",\"x_range\":{\"id\":\"8b886773-a787-48f3-87ab-6fcbb3473132\",\"type\":\"FactorRange\"},\"xgrid\":false,\"xscale\":\"auto\",\"y_mapper_type\":\"auto\",\"y_range\":{\"id\":\"bf113675-c9d6-435b-af47-643329d450bd\",\"type\":\"Range1d\"},\"yscale\":\"auto\"},\"id\":\"bd3ca643-f5bd-432b-815d-18c8e96bd007\",\"subtype\":\"Chart\",\"type\":\"Plot\"},{\"attributes\":{\"callback\":null,\"factors\":[\"Cote d'Ivoire (Ivory Coast)\",\"Democratic Republic of the Congo\",\"England\",\"Gabon\",\"Italy\",\"Philippines\",\"Russia\",\"South Africa\",\"Sudan (South Sudan)\",\"USA\",\"Uganda\"]},\"id\":\"8b886773-a787-48f3-87ab-6fcbb3473132\",\"type\":\"FactorRange\"},{\"attributes\":{\"callback\":null,\"column_names\":[\"line_color\",\"line_alpha\",\"color\",\"fill_alpha\",\"height\",\"width\",\"y\",\"x\"],\"data\":{\"chart_index\":[{\"index\":\"Italy\"}],\"color\":[\"navy\"],\"fill_alpha\":[0.8],\"height\":[3.0303030303030303],\"index\":[\"Italy\"],\"line_alpha\":[1.0],\"line_color\":[\"white\"],\"width\":[0.8],\"x\":[\"Italy\"],\"y\":[1.5151515151515151]}},\"id\":\"701c670f-7e93-4697-9751-d401db2047d7\",\"type\":\"ColumnDataSource\"},{\"attributes\":{\"data_source\":{\"id\":\"921c0cc8-05ed-45cc-881a-596e8893517b\",\"type\":\"ColumnDataSource\"},\"glyph\":{\"id\":\"ab52d254-1414-4495-92d5-3c8d2810b7f1\",\"type\":\"Rect\"},\"hover_glyph\":null,\"nonselection_glyph\":null,\"selection_glyph\":null},\"id\":\"5ba7a289-83f7-4c8b-a169-d8c934814579\",\"type\":\"GlyphRenderer\"},{\"attributes\":{\"overlay\":{\"id\":\"11613b1c-7919-4f5d-a840-00ee7f427cf8\",\"type\":\"BoxAnnotation\"},\"plot\":{\"id\":\"bd3ca643-f5bd-432b-815d-18c8e96bd007\",\"subtype\":\"Chart\",\"type\":\"Plot\"}},\"id\":\"5a73997c-d254-4463-a5e8-1940b7d9fc7a\",\"type\":\"BoxZoomTool\"},{\"attributes\":{\"callback\":null,\"column_names\":[\"line_color\",\"line_alpha\",\"color\",\"fill_alpha\",\"height\",\"width\",\"y\",\"x\"],\"data\":{\"chart_index\":[{\"index\":\"Gabon\"}],\"color\":[\"navy\"],\"fill_alpha\":[0.8],\"height\":[12.121212121212121],\"index\":[\"Gabon\"],\"line_alpha\":[1.0],\"line_color\":[\"white\"],\"width\":[0.8],\"x\":[\"Gabon\"],\"y\":[6.0606060606060606]}},\"id\":\"87070862-2761-49de-be1d-f0060ac41c0e\",\"type\":\"ColumnDataSource\"},{\"attributes\":{\"data_source\":{\"id\":\"2b6687bd-3b5b-45db-af99-973e1d0d9bc8\",\"type\":\"ColumnDataSource\"},\"glyph\":{\"id\":\"2073c30c-8f15-4783-adff-6f3f2fb1838f\",\"type\":\"Rect\"},\"hover_glyph\":null,\"nonselection_glyph\":null,\"selection_glyph\":null},\"id\":\"f60035ba-98b1-4f74-bdf5-91fe6e7b3532\",\"type\":\"GlyphRenderer\"},{\"attributes\":{\"fill_alpha\":{\"field\":\"fill_alpha\"},\"fill_color\":{\"field\":\"color\"},\"height\":{\"field\":\"height\",\"units\":\"data\"},\"line_color\":{\"field\":\"line_color\"},\"width\":{\"field\":\"width\",\"units\":\"data\"},\"x\":{\"field\":\"x\"},\"y\":{\"field\":\"y\"}},\"id\":\"4ccff099-fd2c-4e4a-9917-c59b854f502a\",\"type\":\"Rect\"},{\"attributes\":{},\"id\":\"4845f74a-0fc7-4bee-afa5-8c42c15ad58f\",\"type\":\"CategoricalTickFormatter\"},{\"attributes\":{\"data_source\":{\"id\":\"bd6485d4-36b8-492c-911a-241bef8682b3\",\"type\":\"ColumnDataSource\"},\"glyph\":{\"id\":\"8096eb6d-08ac-4134-9eea-78b3d1343652\",\"type\":\"Rect\"},\"hover_glyph\":null,\"nonselection_glyph\":null,\"selection_glyph\":null},\"id\":\"9b0be4c0-e646-40f2-bee4-5e07c60fc553\",\"type\":\"GlyphRenderer\"},{\"attributes\":{\"fill_alpha\":{\"field\":\"fill_alpha\"},\"fill_color\":{\"field\":\"color\"},\"height\":{\"field\":\"height\",\"units\":\"data\"},\"line_color\":{\"field\":\"line_color\"},\"width\":{\"field\":\"width\",\"units\":\"data\"},\"x\":{\"field\":\"x\"},\"y\":{\"field\":\"y\"}},\"id\":\"ab52d254-1414-4495-92d5-3c8d2810b7f1\",\"type\":\"Rect\"},{\"attributes\":{\"data_source\":{\"id\":\"ddf532e3-f1d8-46c0-9709-b92f68f09884\",\"type\":\"ColumnDataSource\"},\"glyph\":{\"id\":\"12b8ee00-b8b0-435a-83e4-9c266f07efb2\",\"type\":\"Rect\"},\"hover_glyph\":null,\"nonselection_glyph\":null,\"selection_glyph\":null},\"id\":\"898ecfed-ab9f-4d27-8f89-a5a619a4c268\",\"type\":\"GlyphRenderer\"},{\"attributes\":{\"callback\":null,\"column_names\":[\"line_color\",\"line_alpha\",\"color\",\"fill_alpha\",\"height\",\"width\",\"y\",\"x\"],\"data\":{\"chart_index\":[{\"index\":\"USA\"}],\"color\":[\"navy\"],\"fill_alpha\":[0.8],\"height\":[9.090909090909092],\"index\":[\"USA\"],\"line_alpha\":[1.0],\"line_color\":[\"white\"],\"width\":[0.8],\"x\":[\"USA\"],\"y\":[4.545454545454546]}},\"id\":\"7eb05c50-554f-4226-bcc2-1fc89d6f99b2\",\"type\":\"ColumnDataSource\"},{\"attributes\":{\"fill_alpha\":{\"field\":\"fill_alpha\"},\"fill_color\":{\"field\":\"color\"},\"height\":{\"field\":\"height\",\"units\":\"data\"},\"line_color\":{\"field\":\"line_color\"},\"width\":{\"field\":\"width\",\"units\":\"data\"},\"x\":{\"field\":\"x\"},\"y\":{\"field\":\"y\"}},\"id\":\"8096eb6d-08ac-4134-9eea-78b3d1343652\",\"type\":\"Rect\"},{\"attributes\":{\"plot\":{\"id\":\"bd3ca643-f5bd-432b-815d-18c8e96bd007\",\"subtype\":\"Chart\",\"type\":\"Plot\"}},\"id\":\"a209d055-ed9f-4bfd-91fd-f307c056746f\",\"type\":\"ResizeTool\"},{\"attributes\":{\"axis_label\":\"Sum( Proportions Of Outbreaks (%) )\",\"formatter\":{\"id\":\"693225d6-78b7-44bc-9c66-a05b8b998a7f\",\"type\":\"BasicTickFormatter\"},\"plot\":{\"id\":\"bd3ca643-f5bd-432b-815d-18c8e96bd007\",\"subtype\":\"Chart\",\"type\":\"Plot\"},\"ticker\":{\"id\":\"b4a6a765-2967-488d-a849-7e61355ade5c\",\"type\":\"BasicTicker\"}},\"id\":\"5021427a-3055-44b0-ad21-afd4dd16d559\",\"type\":\"LinearAxis\"},{\"attributes\":{\"fill_alpha\":{\"field\":\"fill_alpha\"},\"fill_color\":{\"field\":\"color\"},\"height\":{\"field\":\"height\",\"units\":\"data\"},\"line_color\":{\"field\":\"line_color\"},\"width\":{\"field\":\"width\",\"units\":\"data\"},\"x\":{\"field\":\"x\"},\"y\":{\"field\":\"y\"}},\"id\":\"24ad0e18-daad-4eb4-ab70-1aed8449ac80\",\"type\":\"Rect\"},{\"attributes\":{\"bottom_units\":\"screen\",\"fill_alpha\":{\"value\":0.5},\"fill_color\":{\"value\":\"lightgrey\"},\"left_units\":\"screen\",\"level\":\"overlay\",\"line_alpha\":{\"value\":1.0},\"line_color\":{\"value\":\"black\"},\"line_dash\":[4,4],\"line_width\":{\"value\":2},\"plot\":null,\"render_mode\":\"css\",\"right_units\":\"screen\",\"top_units\":\"screen\"},\"id\":\"11613b1c-7919-4f5d-a840-00ee7f427cf8\",\"type\":\"BoxAnnotation\"},{\"attributes\":{\"callback\":null,\"column_names\":[\"line_color\",\"line_alpha\",\"color\",\"fill_alpha\",\"height\",\"width\",\"y\",\"x\"],\"data\":{\"chart_index\":[{\"index\":\"South Africa\"}],\"color\":[\"navy\"],\"fill_alpha\":[0.8],\"height\":[3.0303030303030303],\"index\":[\"South Africa\"],\"line_alpha\":[1.0],\"line_color\":[\"white\"],\"width\":[0.8],\"x\":[\"South Africa\"],\"y\":[1.5151515151515151]}},\"id\":\"ddf532e3-f1d8-46c0-9709-b92f68f09884\",\"type\":\"ColumnDataSource\"},{\"attributes\":{\"fill_alpha\":{\"field\":\"fill_alpha\"},\"fill_color\":{\"field\":\"color\"},\"height\":{\"field\":\"height\",\"units\":\"data\"},\"line_color\":{\"field\":\"line_color\"},\"width\":{\"field\":\"width\",\"units\":\"data\"},\"x\":{\"field\":\"x\"},\"y\":{\"field\":\"y\"}},\"id\":\"dc40bcd6-eef5-404e-ba90-55a707778f1c\",\"type\":\"Rect\"},{\"attributes\":{},\"id\":\"693225d6-78b7-44bc-9c66-a05b8b998a7f\",\"type\":\"BasicTickFormatter\"},{\"attributes\":{},\"id\":\"10af0e2d-5856-4cad-b258-41f94ca344eb\",\"type\":\"CategoricalTicker\"},{\"attributes\":{\"callback\":null,\"column_names\":[\"line_color\",\"line_alpha\",\"color\",\"fill_alpha\",\"height\",\"width\",\"y\",\"x\"],\"data\":{\"chart_index\":[{\"index\":\"England\"}],\"color\":[\"navy\"],\"fill_alpha\":[0.8],\"height\":[3.0303030303030303],\"index\":[\"England\"],\"line_alpha\":[1.0],\"line_color\":[\"white\"],\"width\":[0.8],\"x\":[\"England\"],\"y\":[1.5151515151515151]}},\"id\":\"bd6485d4-36b8-492c-911a-241bef8682b3\",\"type\":\"ColumnDataSource\"},{\"attributes\":{\"callback\":null,\"column_names\":[\"line_color\",\"line_alpha\",\"color\",\"fill_alpha\",\"height\",\"width\",\"y\",\"x\"],\"data\":{\"chart_index\":[{\"index\":\"Sudan (South Sudan)\"}],\"color\":[\"navy\"],\"fill_alpha\":[0.8],\"height\":[9.090909090909092],\"index\":[\"Sudan (South Sudan)\"],\"line_alpha\":[1.0],\"line_color\":[\"white\"],\"width\":[0.8],\"x\":[\"Sudan (South Sudan)\"],\"y\":[4.545454545454546]}},\"id\":\"2b6687bd-3b5b-45db-af99-973e1d0d9bc8\",\"type\":\"ColumnDataSource\"},{\"attributes\":{\"callback\":null,\"column_names\":[\"line_color\",\"line_alpha\",\"color\",\"fill_alpha\",\"height\",\"width\",\"y\",\"x\"],\"data\":{\"chart_index\":[{\"index\":\"Philippines\"}],\"color\":[\"navy\"],\"fill_alpha\":[0.8],\"height\":[9.090909090909092],\"index\":[\"Philippines\"],\"line_alpha\":[1.0],\"line_color\":[\"white\"],\"width\":[0.8],\"x\":[\"Philippines\"],\"y\":[4.545454545454546]}},\"id\":\"22877ff7-eee5-4368-a59b-1f50dcea4331\",\"type\":\"ColumnDataSource\"},{\"attributes\":{\"data_source\":{\"id\":\"bb4a22f6-558e-4c25-ab34-fbec92040228\",\"type\":\"ColumnDataSource\"},\"glyph\":{\"id\":\"b8e629de-cc15-4467-9642-250b95568ffa\",\"type\":\"Rect\"},\"hover_glyph\":null,\"nonselection_glyph\":null,\"selection_glyph\":null},\"id\":\"44d7d2c0-5a17-4bf8-96f8-7c42bdc0dc90\",\"type\":\"GlyphRenderer\"},{\"attributes\":{\"callback\":null,\"column_names\":[\"line_color\",\"line_alpha\",\"color\",\"fill_alpha\",\"height\",\"width\",\"y\",\"x\"],\"data\":{\"chart_index\":[{\"index\":\"Uganda\"}],\"color\":[\"navy\"],\"fill_alpha\":[0.8],\"height\":[15.151515151515152],\"index\":[\"Uganda\"],\"line_alpha\":[1.0],\"line_color\":[\"white\"],\"width\":[0.8],\"x\":[\"Uganda\"],\"y\":[7.575757575757576]}},\"id\":\"bb4a22f6-558e-4c25-ab34-fbec92040228\",\"type\":\"ColumnDataSource\"},{\"attributes\":{},\"id\":\"b4a6a765-2967-488d-a849-7e61355ade5c\",\"type\":\"BasicTicker\"},{\"attributes\":{\"dimension\":1,\"plot\":{\"id\":\"bd3ca643-f5bd-432b-815d-18c8e96bd007\",\"subtype\":\"Chart\",\"type\":\"Plot\"},\"ticker\":{\"id\":\"b4a6a765-2967-488d-a849-7e61355ade5c\",\"type\":\"BasicTicker\"}},\"id\":\"b8464c93-4aef-4030-a087-a990a4980150\",\"type\":\"Grid\"},{\"attributes\":{\"fill_alpha\":{\"field\":\"fill_alpha\"},\"fill_color\":{\"field\":\"color\"},\"height\":{\"field\":\"height\",\"units\":\"data\"},\"line_color\":{\"field\":\"line_color\"},\"width\":{\"field\":\"width\",\"units\":\"data\"},\"x\":{\"field\":\"x\"},\"y\":{\"field\":\"y\"}},\"id\":\"2073c30c-8f15-4783-adff-6f3f2fb1838f\",\"type\":\"Rect\"},{\"attributes\":{\"callback\":null,\"column_names\":[\"line_color\",\"line_alpha\",\"color\",\"fill_alpha\",\"height\",\"width\",\"y\",\"x\"],\"data\":{\"chart_index\":[{\"index\":\"Cote d'Ivoire (Ivory Coast)\"}],\"color\":[\"navy\"],\"fill_alpha\":[0.8],\"height\":[3.0303030303030303],\"index\":[\"Cote d'Ivoire (Ivory Coast)\"],\"line_alpha\":[1.0],\"line_color\":[\"white\"],\"width\":[0.8],\"x\":[\"Cote d'Ivoire (Ivory Coast)\"],\"y\":[1.5151515151515151]}},\"id\":\"921c0cc8-05ed-45cc-881a-596e8893517b\",\"type\":\"ColumnDataSource\"},{\"attributes\":{\"data_source\":{\"id\":\"701c670f-7e93-4697-9751-d401db2047d7\",\"type\":\"ColumnDataSource\"},\"glyph\":{\"id\":\"dc40bcd6-eef5-404e-ba90-55a707778f1c\",\"type\":\"Rect\"},\"hover_glyph\":null,\"nonselection_glyph\":null,\"selection_glyph\":null},\"id\":\"219824f4-b84b-4085-a2c2-50c0ffb8cb15\",\"type\":\"GlyphRenderer\"},{\"attributes\":{\"fill_alpha\":{\"field\":\"fill_alpha\"},\"fill_color\":{\"field\":\"color\"},\"height\":{\"field\":\"height\",\"units\":\"data\"},\"line_color\":{\"field\":\"line_color\"},\"width\":{\"field\":\"width\",\"units\":\"data\"},\"x\":{\"field\":\"x\"},\"y\":{\"field\":\"y\"}},\"id\":\"01948ad9-43fc-46f4-8156-f3ee110c3e28\",\"type\":\"Rect\"},{\"attributes\":{\"fill_alpha\":{\"field\":\"fill_alpha\"},\"fill_color\":{\"field\":\"color\"},\"height\":{\"field\":\"height\",\"units\":\"data\"},\"line_color\":{\"field\":\"line_color\"},\"width\":{\"field\":\"width\",\"units\":\"data\"},\"x\":{\"field\":\"x\"},\"y\":{\"field\":\"y\"}},\"id\":\"b8e629de-cc15-4467-9642-250b95568ffa\",\"type\":\"Rect\"},{\"attributes\":{\"callback\":null,\"column_names\":[\"line_color\",\"line_alpha\",\"color\",\"fill_alpha\",\"height\",\"width\",\"y\",\"x\"],\"data\":{\"chart_index\":[{\"index\":\"Russia\"}],\"color\":[\"navy\"],\"fill_alpha\":[0.8],\"height\":[6.0606060606060606],\"index\":[\"Russia\"],\"line_alpha\":[1.0],\"line_color\":[\"white\"],\"width\":[0.8],\"x\":[\"Russia\"],\"y\":[3.0303030303030303]}},\"id\":\"5d9cfa59-2235-4b38-a5fc-9f87ed3145ae\",\"type\":\"ColumnDataSource\"},{\"attributes\":{\"data_source\":{\"id\":\"5d9cfa59-2235-4b38-a5fc-9f87ed3145ae\",\"type\":\"ColumnDataSource\"},\"glyph\":{\"id\":\"4ccff099-fd2c-4e4a-9917-c59b854f502a\",\"type\":\"Rect\"},\"hover_glyph\":null,\"nonselection_glyph\":null,\"selection_glyph\":null},\"id\":\"883ca040-61e0-4206-98d5-3c236bd5e13a\",\"type\":\"GlyphRenderer\"},{\"attributes\":{\"formatter\":{\"id\":\"4845f74a-0fc7-4bee-afa5-8c42c15ad58f\",\"type\":\"CategoricalTickFormatter\"},\"major_label_orientation\":0.7853981633974483,\"plot\":{\"id\":\"bd3ca643-f5bd-432b-815d-18c8e96bd007\",\"subtype\":\"Chart\",\"type\":\"Plot\"},\"ticker\":{\"id\":\"10af0e2d-5856-4cad-b258-41f94ca344eb\",\"type\":\"CategoricalTicker\"}},\"id\":\"77fd8f15-8bfb-4d51-9481-690e3d7b5247\",\"type\":\"CategoricalAxis\"},{\"attributes\":{\"plot\":{\"id\":\"bd3ca643-f5bd-432b-815d-18c8e96bd007\",\"subtype\":\"Chart\",\"type\":\"Plot\"}},\"id\":\"b4fd9b90-7188-433e-a3fa-40443e55ec76\",\"type\":\"PreviewSaveTool\"}],\"root_ids\":[\"bd3ca643-f5bd-432b-815d-18c8e96bd007\"]},\"title\":\"Bokeh Application\",\"version\":\"0.11.1\"}};\n",
       "            var render_items = [{\"docid\":\"97c4aa5f-c44a-486b-aeb9-752b03cb4f19\",\"elementid\":\"7a0dae76-82b0-41c8-a4ef-ae6e6d084b60\",\"modelid\":\"bd3ca643-f5bd-432b-815d-18c8e96bd007\",\"notebook_comms_target\":\"8710e265-05aa-4fcd-ab76-0cc1fb7f9180\"}];\n",
       "            \n",
       "            Bokeh.embed.embed_items(docs_json, render_items);\n",
       "        });\n",
       "      },\n",
       "      function(Bokeh) {\n",
       "      }\n",
       "    ];\n",
       "  \n",
       "    function run_inline_js() {\n",
       "      for (var i = 0; i < inline_js.length; i++) {\n",
       "        inline_js[i](window.Bokeh);\n",
       "      }\n",
       "    }\n",
       "  \n",
       "    if (window._bokeh_is_loading === 0) {\n",
       "      console.log(\"Bokeh: BokehJS loaded, going straight to plotting\");\n",
       "      run_inline_js();\n",
       "    } else {\n",
       "      load_libs(js_urls, function() {\n",
       "        console.log(\"Bokeh: BokehJS plotting callback run at\", now());\n",
       "        run_inline_js();\n",
       "      });\n",
       "    }\n",
       "  }(this));\n",
       "</script>"
      ]
     },
     "metadata": {},
     "output_type": "display_data"
    },
    {
     "data": {
      "text/html": [
       "<p><code>&lt;Bokeh Notebook handle for <strong>In[6]</strong>&gt;</code></p>"
      ],
      "text/plain": [
       "<bokeh.io._CommsHandle at 0x7ff1da1fb110>"
      ]
     },
     "execution_count": 6,
     "metadata": {},
     "output_type": "execute_result"
    }
   ],
   "source": [
    "total_outbrks = ebola_data.groupby([\"country_name\"])[\"country_name\"].count().sum()\n",
    "outbrks_percent = outbrks_data.mul(100).truediv(total_outbrks)\n",
    "\n",
    "data = outbrks_percent.to_frame(name='proportions of outbreaks (%)')\n",
    "\n",
    "print data\n",
    "\n",
    "bar_outbrks = Bar(data, values='proportions of outbreaks (%)', color='navy',\n",
    "                   title=\"Proportion of ebola outbreaks per country in %\")\n",
    "\n",
    "output_notebook()\n",
    "output_file(\"outbreaks.html\", title=\"Proportion of ebola outbreaks per country in %\")\n",
    "\n",
    "show(bar_outbrks)"
   ]
  },
  {
   "cell_type": "markdown",
   "metadata": {},
   "source": [
    "* Almost one third of the outbreaks before 2014 happened in DRC"
   ]
  },
  {
   "cell_type": "markdown",
   "metadata": {},
   "source": [
    "#### Distribution of ebola victims per country"
   ]
  },
  {
   "cell_type": "code",
   "execution_count": 23,
   "metadata": {
    "collapsed": false
   },
   "outputs": [
    {
     "data": {
      "text/html": [
       "<div>\n",
       "<table border=\"1\" class=\"dataframe\">\n",
       "  <thead>\n",
       "    <tr style=\"text-align: right;\">\n",
       "      <th></th>\n",
       "      <th>reported_number_of_human_cases</th>\n",
       "    </tr>\n",
       "    <tr>\n",
       "      <th>country_name</th>\n",
       "      <th></th>\n",
       "    </tr>\n",
       "  </thead>\n",
       "  <tbody>\n",
       "    <tr>\n",
       "      <th>Cote d'Ivoire (Ivory Coast)</th>\n",
       "      <td>1</td>\n",
       "    </tr>\n",
       "    <tr>\n",
       "      <th>Democratic Republic of the Congo</th>\n",
       "      <td>1201</td>\n",
       "    </tr>\n",
       "    <tr>\n",
       "      <th>England</th>\n",
       "      <td>1</td>\n",
       "    </tr>\n",
       "    <tr>\n",
       "      <th>Gabon</th>\n",
       "      <td>214</td>\n",
       "    </tr>\n",
       "    <tr>\n",
       "      <th>Italy</th>\n",
       "      <td>0</td>\n",
       "    </tr>\n",
       "    <tr>\n",
       "      <th>Philippines</th>\n",
       "      <td>9</td>\n",
       "    </tr>\n",
       "    <tr>\n",
       "      <th>Russia</th>\n",
       "      <td>2</td>\n",
       "    </tr>\n",
       "    <tr>\n",
       "      <th>South Africa</th>\n",
       "      <td>2</td>\n",
       "    </tr>\n",
       "    <tr>\n",
       "      <th>Sudan (South Sudan)</th>\n",
       "      <td>335</td>\n",
       "    </tr>\n",
       "    <tr>\n",
       "      <th>USA</th>\n",
       "      <td>4</td>\n",
       "    </tr>\n",
       "    <tr>\n",
       "      <th>Uganda</th>\n",
       "      <td>592</td>\n",
       "    </tr>\n",
       "  </tbody>\n",
       "</table>\n",
       "</div>"
      ],
      "text/plain": [
       "                                  reported_number_of_human_cases\n",
       "country_name                                                    \n",
       "Cote d'Ivoire (Ivory Coast)                                    1\n",
       "Democratic Republic of the Congo                            1201\n",
       "England                                                        1\n",
       "Gabon                                                        214\n",
       "Italy                                                          0\n",
       "Philippines                                                    9\n",
       "Russia                                                         2\n",
       "South Africa                                                   2\n",
       "Sudan (South Sudan)                                          335\n",
       "USA                                                            4\n",
       "Uganda                                                       592"
      ]
     },
     "execution_count": 23,
     "metadata": {},
     "output_type": "execute_result"
    }
   ],
   "source": [
    "ebola_data[[\"country_name\", \"reported_number_of_human_cases\"]].groupby([\"country_name\"]).sum()"
   ]
  },
  {
   "cell_type": "code",
   "execution_count": 8,
   "metadata": {
    "collapsed": false
   },
   "outputs": [],
   "source": [
    "df_ebola_victims = ebola_data[[\"country_name\", \"reported_number_of_human_cases\", \n",
    "                             \"reported_number_of_deaths_among_cases\"]]"
   ]
  },
  {
   "cell_type": "code",
   "execution_count": 9,
   "metadata": {
    "collapsed": false
   },
   "outputs": [
    {
     "data": {
      "text/html": [
       "\n",
       "    <div class=\"bk-banner\">\n",
       "        <a href=\"http://bokeh.pydata.org\" target=\"_blank\" class=\"bk-logo bk-logo-small bk-logo-notebook\"></a>\n",
       "        <span id=\"d92c4cb4-d0d0-4878-a024-e91eb0e88b6b\">Loading BokehJS ...</span>\n",
       "    </div>"
      ]
     },
     "metadata": {},
     "output_type": "display_data"
    },
    {
     "data": {
      "application/javascript": [
       "\n",
       "(function(global) {\n",
       "  function now() {\n",
       "    return new Date();\n",
       "  }\n",
       "\n",
       "  if (typeof (window._bokeh_onload_callbacks) === \"undefined\") {\n",
       "    window._bokeh_onload_callbacks = [];\n",
       "  }\n",
       "\n",
       "  function run_callbacks() {\n",
       "    window._bokeh_onload_callbacks.forEach(function(callback) { callback() });\n",
       "    delete window._bokeh_onload_callbacks\n",
       "    console.info(\"Bokeh: all callbacks have finished\");\n",
       "  }\n",
       "\n",
       "  function load_libs(js_urls, callback) {\n",
       "    window._bokeh_onload_callbacks.push(callback);\n",
       "    if (window._bokeh_is_loading > 0) {\n",
       "      console.log(\"Bokeh: BokehJS is being loaded, scheduling callback at\", now());\n",
       "      return null;\n",
       "    }\n",
       "    if (js_urls == null || js_urls.length === 0) {\n",
       "      run_callbacks();\n",
       "      return null;\n",
       "    }\n",
       "    console.log(\"Bokeh: BokehJS not loaded, scheduling load and callback at\", now());\n",
       "    window._bokeh_is_loading = js_urls.length;\n",
       "    for (var i = 0; i < js_urls.length; i++) {\n",
       "      var url = js_urls[i];\n",
       "      var s = document.createElement('script');\n",
       "      s.src = url;\n",
       "      s.async = false;\n",
       "      s.onreadystatechange = s.onload = function() {\n",
       "        window._bokeh_is_loading--;\n",
       "        if (window._bokeh_is_loading === 0) {\n",
       "          console.log(\"Bokeh: all BokehJS libraries loaded\");\n",
       "          run_callbacks()\n",
       "        }\n",
       "      };\n",
       "      s.onerror = function() {\n",
       "        console.warn(\"failed to load library \" + url);\n",
       "      };\n",
       "      console.log(\"Bokeh: injecting script tag for BokehJS library: \", url);\n",
       "      document.getElementsByTagName(\"head\")[0].appendChild(s);\n",
       "    }\n",
       "  };\n",
       "\n",
       "  var js_urls = ['https://cdn.pydata.org/bokeh/release/bokeh-0.11.1.min.js', 'https://cdn.pydata.org/bokeh/release/bokeh-widgets-0.11.1.min.js', 'https://cdn.pydata.org/bokeh/release/bokeh-compiler-0.11.1.min.js'];\n",
       "\n",
       "  var inline_js = [\n",
       "    function(Bokeh) {\n",
       "      Bokeh.set_log_level(\"info\");\n",
       "    },\n",
       "    \n",
       "    function(Bokeh) {\n",
       "      Bokeh.$(\"#d92c4cb4-d0d0-4878-a024-e91eb0e88b6b\").text(\"BokehJS successfully loaded\");\n",
       "    },\n",
       "    function(Bokeh) {\n",
       "      console.log(\"Bokeh: injecting CSS: https://cdn.pydata.org/bokeh/release/bokeh-0.11.1.min.css\");\n",
       "      Bokeh.embed.inject_css(\"https://cdn.pydata.org/bokeh/release/bokeh-0.11.1.min.css\");\n",
       "      console.log(\"Bokeh: injecting CSS: https://cdn.pydata.org/bokeh/release/bokeh-widgets-0.11.1.min.css\");\n",
       "      Bokeh.embed.inject_css(\"https://cdn.pydata.org/bokeh/release/bokeh-widgets-0.11.1.min.css\");\n",
       "    }\n",
       "  ];\n",
       "\n",
       "  function run_inline_js() {\n",
       "    for (var i = 0; i < inline_js.length; i++) {\n",
       "      inline_js[i](window.Bokeh);\n",
       "    }\n",
       "  }\n",
       "\n",
       "  if (window._bokeh_is_loading === 0) {\n",
       "    console.log(\"Bokeh: BokehJS loaded, going straight to plotting\");\n",
       "    run_inline_js();\n",
       "  } else {\n",
       "    load_libs(js_urls, function() {\n",
       "      console.log(\"Bokeh: BokehJS plotting callback run at\", now());\n",
       "      run_inline_js();\n",
       "    });\n",
       "  }\n",
       "}(this));"
      ]
     },
     "metadata": {},
     "output_type": "display_data"
    },
    {
     "data": {
      "text/html": [
       "\n",
       "\n",
       "    <div class=\"plotdiv\" id=\"8f70869f-1e0f-45be-b273-0462d8e8c97a\"></div>\n",
       "<script type=\"text/javascript\">\n",
       "  \n",
       "  (function(global) {\n",
       "    function now() {\n",
       "      return new Date();\n",
       "    }\n",
       "  \n",
       "    if (typeof (window._bokeh_onload_callbacks) === \"undefined\") {\n",
       "      window._bokeh_onload_callbacks = [];\n",
       "    }\n",
       "  \n",
       "    function run_callbacks() {\n",
       "      window._bokeh_onload_callbacks.forEach(function(callback) { callback() });\n",
       "      delete window._bokeh_onload_callbacks\n",
       "      console.info(\"Bokeh: all callbacks have finished\");\n",
       "    }\n",
       "  \n",
       "    function load_libs(js_urls, callback) {\n",
       "      window._bokeh_onload_callbacks.push(callback);\n",
       "      if (window._bokeh_is_loading > 0) {\n",
       "        console.log(\"Bokeh: BokehJS is being loaded, scheduling callback at\", now());\n",
       "        return null;\n",
       "      }\n",
       "      if (js_urls == null || js_urls.length === 0) {\n",
       "        run_callbacks();\n",
       "        return null;\n",
       "      }\n",
       "      console.log(\"Bokeh: BokehJS not loaded, scheduling load and callback at\", now());\n",
       "      window._bokeh_is_loading = js_urls.length;\n",
       "      for (var i = 0; i < js_urls.length; i++) {\n",
       "        var url = js_urls[i];\n",
       "        var s = document.createElement('script');\n",
       "        s.src = url;\n",
       "        s.async = false;\n",
       "        s.onreadystatechange = s.onload = function() {\n",
       "          window._bokeh_is_loading--;\n",
       "          if (window._bokeh_is_loading === 0) {\n",
       "            console.log(\"Bokeh: all BokehJS libraries loaded\");\n",
       "            run_callbacks()\n",
       "          }\n",
       "        };\n",
       "        s.onerror = function() {\n",
       "          console.warn(\"failed to load library \" + url);\n",
       "        };\n",
       "        console.log(\"Bokeh: injecting script tag for BokehJS library: \", url);\n",
       "        document.getElementsByTagName(\"head\")[0].appendChild(s);\n",
       "      }\n",
       "    };var element = document.getElementById(\"8f70869f-1e0f-45be-b273-0462d8e8c97a\");\n",
       "    if (element == null) {\n",
       "      console.log(\"Bokeh: ERROR: autoload.js configured with elementid '8f70869f-1e0f-45be-b273-0462d8e8c97a' but no matching script tag was found. \")\n",
       "      return false;\n",
       "    }\n",
       "  \n",
       "    var js_urls = [];\n",
       "  \n",
       "    var inline_js = [\n",
       "      function(Bokeh) {\n",
       "        Bokeh.$(function() {\n",
       "            var docs_json = {\"ccecb6ee-0031-4c7e-b7ae-ed2012128b68\":{\"roots\":{\"references\":[{\"attributes\":{\"data_source\":{\"id\":\"1e49250f-8928-4910-a053-ba876c048362\",\"type\":\"ColumnDataSource\"},\"glyph\":{\"id\":\"4814dc66-2512-43e8-88a1-2f502bce041f\",\"type\":\"Rect\"},\"hover_glyph\":null,\"nonselection_glyph\":null,\"selection_glyph\":null},\"id\":\"b7eaa2f7-a196-4dce-bead-cc833ef0c929\",\"type\":\"GlyphRenderer\"},{\"attributes\":{\"fill_alpha\":{\"field\":\"fill_alpha\"},\"fill_color\":{\"field\":\"color\"},\"height\":{\"field\":\"height\",\"units\":\"data\"},\"line_color\":{\"field\":\"line_color\"},\"width\":{\"field\":\"width\",\"units\":\"data\"},\"x\":{\"field\":\"x\"},\"y\":{\"field\":\"y\"}},\"id\":\"8f336ca7-e630-40d3-b0a7-9528e8584e47\",\"type\":\"Rect\"},{\"attributes\":{},\"id\":\"6461fb75-261f-4e3c-9f2e-577d25663950\",\"type\":\"ToolEvents\"},{\"attributes\":{\"callback\":null,\"column_names\":[\"line_color\",\"line_alpha\",\"color\",\"fill_alpha\",\"height\",\"width\",\"y\",\"x\"],\"data\":{\"chart_index\":[{\"country_name\":\"Sudan (South Sudan)\"}],\"color\":[\"DimGrey\"],\"country_name\":[\"Sudan (South Sudan)\"],\"fill_alpha\":[0.8],\"height\":[125.0],\"line_alpha\":[1.0],\"line_color\":[\"black\"],\"width\":[0.8],\"x\":[\"Sudan (South Sudan)\"],\"y\":[96.5]}},\"id\":\"444f14a6-bd12-4c4d-b377-8f33518be274\",\"type\":\"ColumnDataSource\"},{\"attributes\":{\"data_source\":{\"id\":\"b3181d90-e8e4-48d9-899b-19894d81daf0\",\"type\":\"ColumnDataSource\"},\"glyph\":{\"id\":\"44d23e5e-43d4-492b-b4f5-7a1c509f8b18\",\"type\":\"Segment\"},\"hover_glyph\":null,\"nonselection_glyph\":null,\"selection_glyph\":null},\"id\":\"3b82e350-299b-478c-bea7-5652172b0531\",\"type\":\"GlyphRenderer\"},{\"attributes\":{\"data_source\":{\"id\":\"faef9db7-5885-4a62-aa95-fc7a8fef0076\",\"type\":\"ColumnDataSource\"},\"glyph\":{\"id\":\"0d772031-eb92-4bfe-bafe-39fba44979b2\",\"type\":\"Rect\"},\"hover_glyph\":null,\"nonselection_glyph\":null,\"selection_glyph\":null},\"id\":\"e775055f-a046-43a3-86f3-6fa4e7664814\",\"type\":\"GlyphRenderer\"},{\"attributes\":{\"data_source\":{\"id\":\"701c670f-7e93-4697-9751-d401db2047d7\",\"type\":\"ColumnDataSource\"},\"glyph\":{\"id\":\"dc40bcd6-eef5-404e-ba90-55a707778f1c\",\"type\":\"Rect\"},\"hover_glyph\":null,\"nonselection_glyph\":null,\"selection_glyph\":null},\"id\":\"219824f4-b84b-4085-a2c2-50c0ffb8cb15\",\"type\":\"GlyphRenderer\"},{\"attributes\":{\"dimension\":1,\"plot\":{\"id\":\"7119aaf3-0906-4c09-a963-7a12142acb18\",\"subtype\":\"Chart\",\"type\":\"Plot\"},\"ticker\":{\"id\":\"deb938b3-d951-4c69-bbc0-0c1502532f71\",\"type\":\"BasicTicker\"}},\"id\":\"8cd73664-ea54-48a1-b0e7-47be63ae2806\",\"type\":\"Grid\"},{\"attributes\":{\"data_source\":{\"id\":\"907fdfb9-4808-4bc8-b78d-d9e0008d0e66\",\"type\":\"ColumnDataSource\"},\"glyph\":{\"id\":\"6ac0f391-748f-4d17-ab04-a1a6ea2d716c\",\"type\":\"Rect\"},\"hover_glyph\":null,\"nonselection_glyph\":null,\"selection_glyph\":null},\"id\":\"6c93941b-e773-46c1-8a7f-d846addef1ec\",\"type\":\"GlyphRenderer\"},{\"attributes\":{\"axis_label\":\"Country_Name\",\"formatter\":{\"id\":\"a32a6559-8325-4c90-80bd-205feae15856\",\"type\":\"CategoricalTickFormatter\"},\"major_label_orientation\":0.7853981633974483,\"plot\":{\"id\":\"7119aaf3-0906-4c09-a963-7a12142acb18\",\"subtype\":\"Chart\",\"type\":\"Plot\"},\"ticker\":{\"id\":\"cead3368-eb75-4ab4-8270-7beeea329653\",\"type\":\"CategoricalTicker\"}},\"id\":\"a6630a43-3a3d-4cb7-b431-d30d8ad4d860\",\"type\":\"CategoricalAxis\"},{\"attributes\":{\"callback\":null,\"column_names\":[\"x0s\",\"y0s\",\"x1s\",\"y1s\"],\"data\":{\"chart_index\":[{\"country_name\":\"Democratic Republic of the Congo\"},{\"country_name\":\"Democratic Republic of the Congo\"},{\"country_name\":\"Democratic Republic of the Congo\"},{\"country_name\":\"Democratic Republic of the Congo\"}],\"country_name\":[\"Democratic Republic of the Congo\",\"Democratic Republic of the Congo\",\"Democratic Republic of the Congo\",\"Democratic Republic of the Congo\"],\"x0s\":[\"Democratic Republic of the Congo:0.5\",\"Democratic Republic of the Congo:0.65\",\"Democratic Republic of the Congo:0.5\",\"Democratic Republic of the Congo:0.65\"],\"x1s\":[\"Democratic Republic of the Congo:0.5\",\"Democratic Republic of the Congo:0.35\",\"Democratic Republic of the Congo:0.5\",\"Democratic Republic of the Congo:0.35\"],\"y0s\":[1.0,1.0,264.0,318.0],\"y1s\":[35.0,1.0,318.0,318.0]}},\"id\":\"1b1503cf-93dd-4c65-b2dd-57ee02d1d74d\",\"type\":\"ColumnDataSource\"},{\"attributes\":{\"fill_alpha\":{\"field\":\"fill_alpha\"},\"fill_color\":{\"field\":\"color\"},\"height\":{\"field\":\"height\",\"units\":\"data\"},\"line_color\":{\"field\":\"line_color\"},\"width\":{\"field\":\"width\",\"units\":\"data\"},\"x\":{\"field\":\"x\"},\"y\":{\"field\":\"y\"}},\"id\":\"0023c4e9-815c-49df-810d-1b003ac56592\",\"type\":\"Rect\"},{\"attributes\":{\"below\":[{\"id\":\"77fd8f15-8bfb-4d51-9481-690e3d7b5247\",\"type\":\"CategoricalAxis\"}],\"left\":[{\"id\":\"5021427a-3055-44b0-ad21-afd4dd16d559\",\"type\":\"LinearAxis\"}],\"legend\":null,\"renderers\":[{\"id\":\"11613b1c-7919-4f5d-a840-00ee7f427cf8\",\"type\":\"BoxAnnotation\"},{\"id\":\"5ba7a289-83f7-4c8b-a169-d8c934814579\",\"type\":\"GlyphRenderer\"},{\"id\":\"9b0be4c0-e646-40f2-bee4-5e07c60fc553\",\"type\":\"GlyphRenderer\"},{\"id\":\"219824f4-b84b-4085-a2c2-50c0ffb8cb15\",\"type\":\"GlyphRenderer\"},{\"id\":\"898ecfed-ab9f-4d27-8f89-a5a619a4c268\",\"type\":\"GlyphRenderer\"},{\"id\":\"883ca040-61e0-4206-98d5-3c236bd5e13a\",\"type\":\"GlyphRenderer\"},{\"id\":\"6a2e50ba-1451-4eb6-9d24-6f1cc9ae8da6\",\"type\":\"GlyphRenderer\"},{\"id\":\"f60035ba-98b1-4f74-bdf5-91fe6e7b3532\",\"type\":\"GlyphRenderer\"},{\"id\":\"f2cdab88-73d2-4dd1-9a15-61c9756db70c\",\"type\":\"GlyphRenderer\"},{\"id\":\"800593bf-b013-4395-972a-cc5731811a51\",\"type\":\"GlyphRenderer\"},{\"id\":\"44d7d2c0-5a17-4bf8-96f8-7c42bdc0dc90\",\"type\":\"GlyphRenderer\"},{\"id\":\"00ef402c-cc5c-4331-bd01-083163ecd359\",\"type\":\"GlyphRenderer\"},{\"id\":\"77fd8f15-8bfb-4d51-9481-690e3d7b5247\",\"type\":\"CategoricalAxis\"},{\"id\":\"5021427a-3055-44b0-ad21-afd4dd16d559\",\"type\":\"LinearAxis\"},{\"id\":\"b8464c93-4aef-4030-a087-a990a4980150\",\"type\":\"Grid\"}],\"title\":\"Proportion of ebola outbreaks per country in %\",\"title_text_font_size\":{\"value\":\"14pt\"},\"tool_events\":{\"id\":\"6461fb75-261f-4e3c-9f2e-577d25663950\",\"type\":\"ToolEvents\"},\"tools\":[{\"id\":\"5981c6d7-95be-4837-bad0-db7a0a901fea\",\"type\":\"PanTool\"},{\"id\":\"cfe35ab4-5ac4-422b-88a8-a48ff5b10fde\",\"type\":\"WheelZoomTool\"},{\"id\":\"5a73997c-d254-4463-a5e8-1940b7d9fc7a\",\"type\":\"BoxZoomTool\"},{\"id\":\"b4fd9b90-7188-433e-a3fa-40443e55ec76\",\"type\":\"PreviewSaveTool\"},{\"id\":\"a209d055-ed9f-4bfd-91fd-f307c056746f\",\"type\":\"ResizeTool\"},{\"id\":\"01e1cf3a-36ac-42f1-8da0-660fecdb52be\",\"type\":\"ResetTool\"},{\"id\":\"e7d72907-e54b-40f6-8ac0-6a88a96ce2a4\",\"type\":\"HelpTool\"}],\"x_mapper_type\":\"auto\",\"x_range\":{\"id\":\"8b886773-a787-48f3-87ab-6fcbb3473132\",\"type\":\"FactorRange\"},\"xgrid\":false,\"xscale\":\"auto\",\"y_mapper_type\":\"auto\",\"y_range\":{\"id\":\"bf113675-c9d6-435b-af47-643329d450bd\",\"type\":\"Range1d\"},\"yscale\":\"auto\"},\"id\":\"bd3ca643-f5bd-432b-815d-18c8e96bd007\",\"subtype\":\"Chart\",\"type\":\"Plot\"},{\"attributes\":{\"callback\":null,\"factors\":[\"Cote d'Ivoire (Ivory Coast)\",\"Democratic Republic of the Congo\",\"England\",\"Gabon\",\"Italy\",\"Philippines\",\"Russia\",\"South Africa\",\"Sudan (South Sudan)\",\"USA\",\"Uganda\"]},\"id\":\"8b886773-a787-48f3-87ab-6fcbb3473132\",\"type\":\"FactorRange\"},{\"attributes\":{},\"id\":\"deb938b3-d951-4c69-bbc0-0c1502532f71\",\"type\":\"BasicTicker\"},{\"attributes\":{\"fill_alpha\":{\"field\":\"fill_alpha\"},\"fill_color\":{\"field\":\"color\"},\"height\":{\"field\":\"height\",\"units\":\"data\"},\"line_color\":{\"field\":\"line_color\"},\"width\":{\"field\":\"width\",\"units\":\"data\"},\"x\":{\"field\":\"x\"},\"y\":{\"field\":\"y\"}},\"id\":\"01948ad9-43fc-46f4-8156-f3ee110c3e28\",\"type\":\"Rect\"},{\"attributes\":{\"callback\":null,\"column_names\":[\"line_color\",\"line_alpha\",\"color\",\"fill_alpha\",\"height\",\"width\",\"y\",\"x\"],\"data\":{\"chart_index\":[{\"country_name\":\"England\"}],\"color\":[\"DimGrey\"],\"country_name\":[\"England\"],\"fill_alpha\":[0.8],\"height\":[0],\"line_alpha\":[1.0],\"line_color\":[\"black\"],\"width\":[0.8],\"x\":[\"England\"],\"y\":[1.0]}},\"id\":\"faef9db7-5885-4a62-aa95-fc7a8fef0076\",\"type\":\"ColumnDataSource\"},{\"attributes\":{\"plot\":{\"id\":\"bd3ca643-f5bd-432b-815d-18c8e96bd007\",\"subtype\":\"Chart\",\"type\":\"Plot\"}},\"id\":\"01e1cf3a-36ac-42f1-8da0-660fecdb52be\",\"type\":\"ResetTool\"},{\"attributes\":{\"data_source\":{\"id\":\"2b6687bd-3b5b-45db-af99-973e1d0d9bc8\",\"type\":\"ColumnDataSource\"},\"glyph\":{\"id\":\"2073c30c-8f15-4783-adff-6f3f2fb1838f\",\"type\":\"Rect\"},\"hover_glyph\":null,\"nonselection_glyph\":null,\"selection_glyph\":null},\"id\":\"f60035ba-98b1-4f74-bdf5-91fe6e7b3532\",\"type\":\"GlyphRenderer\"},{\"attributes\":{\"data_source\":{\"id\":\"84ee8eb9-cded-4cc2-ba16-0d5d726245a9\",\"type\":\"ColumnDataSource\"},\"glyph\":{\"id\":\"ba08b557-8e42-456b-b196-dc47600e1656\",\"type\":\"Rect\"},\"hover_glyph\":null,\"nonselection_glyph\":null,\"selection_glyph\":null},\"id\":\"727f9d32-d03f-446b-a071-debdb8127c47\",\"type\":\"GlyphRenderer\"},{\"attributes\":{\"fill_alpha\":{\"field\":\"fill_alpha\"},\"fill_color\":{\"field\":\"color\"},\"height\":{\"field\":\"height\",\"units\":\"data\"},\"line_color\":{\"field\":\"line_color\"},\"width\":{\"field\":\"width\",\"units\":\"data\"},\"x\":{\"field\":\"x\"},\"y\":{\"field\":\"y\"}},\"id\":\"a4682482-040a-4397-94bf-94ea4448921e\",\"type\":\"Rect\"},{\"attributes\":{\"data_source\":{\"id\":\"bd6485d4-36b8-492c-911a-241bef8682b3\",\"type\":\"ColumnDataSource\"},\"glyph\":{\"id\":\"8096eb6d-08ac-4134-9eea-78b3d1343652\",\"type\":\"Rect\"},\"hover_glyph\":null,\"nonselection_glyph\":null,\"selection_glyph\":null},\"id\":\"9b0be4c0-e646-40f2-bee4-5e07c60fc553\",\"type\":\"GlyphRenderer\"},{\"attributes\":{\"data_source\":{\"id\":\"73baa498-3ce7-4d4a-8bc6-c4e7839f9073\",\"type\":\"ColumnDataSource\"},\"glyph\":{\"id\":\"2e0ff20e-0286-492a-abac-a41388137a40\",\"type\":\"Segment\"},\"hover_glyph\":null,\"nonselection_glyph\":null,\"selection_glyph\":null},\"id\":\"265af2d7-4ce1-475e-82ce-bcf21219cb06\",\"type\":\"GlyphRenderer\"},{\"attributes\":{\"plot\":{\"id\":\"7119aaf3-0906-4c09-a963-7a12142acb18\",\"subtype\":\"Chart\",\"type\":\"Plot\"}},\"id\":\"8a428658-b6b4-4da0-a90c-d0aa5ce61872\",\"type\":\"ResizeTool\"},{\"attributes\":{\"fill_alpha\":{\"field\":\"fill_alpha\"},\"fill_color\":{\"field\":\"color\"},\"height\":{\"field\":\"height\",\"units\":\"data\"},\"line_color\":{\"field\":\"line_color\"},\"width\":{\"field\":\"width\",\"units\":\"data\"},\"x\":{\"field\":\"x\"},\"y\":{\"field\":\"y\"}},\"id\":\"24ad0e18-daad-4eb4-ab70-1aed8449ac80\",\"type\":\"Rect\"},{\"attributes\":{},\"id\":\"693225d6-78b7-44bc-9c66-a05b8b998a7f\",\"type\":\"BasicTickFormatter\"},{\"attributes\":{\"callback\":null,\"column_names\":[\"line_color\",\"line_alpha\",\"color\",\"fill_alpha\",\"height\",\"width\",\"y\",\"x\"],\"data\":{\"chart_index\":[{\"country_name\":\"Cote d'Ivoire (Ivory Coast)\"}],\"color\":[\"DimGrey\"],\"country_name\":[\"Cote d'Ivoire (Ivory Coast)\"],\"fill_alpha\":[0.8],\"height\":[0],\"line_alpha\":[1.0],\"line_color\":[\"black\"],\"width\":[0.8],\"x\":[\"Cote d'Ivoire (Ivory Coast)\"],\"y\":[1.0]}},\"id\":\"a56fad3e-9765-4960-90e5-fc1bbf58f128\",\"type\":\"ColumnDataSource\"},{\"attributes\":{\"fill_alpha\":{\"field\":\"fill_alpha\"},\"fill_color\":{\"field\":\"color\"},\"height\":{\"field\":\"height\",\"units\":\"data\"},\"line_color\":{\"field\":\"line_color\"},\"width\":{\"field\":\"width\",\"units\":\"data\"},\"x\":{\"field\":\"x\"},\"y\":{\"field\":\"y\"}},\"id\":\"ab52d254-1414-4495-92d5-3c8d2810b7f1\",\"type\":\"Rect\"},{\"attributes\":{\"below\":[{\"id\":\"a6630a43-3a3d-4cb7-b431-d30d8ad4d860\",\"type\":\"CategoricalAxis\"}],\"left\":[{\"id\":\"346a745b-5704-4b68-b972-bfb9fa58fdd2\",\"type\":\"LinearAxis\"}],\"legend\":null,\"renderers\":[{\"id\":\"60ace50b-6365-4bbd-9ce9-915f5d2185e9\",\"type\":\"BoxAnnotation\"},{\"id\":\"e0344303-d401-4fd8-af37-532583cd9069\",\"type\":\"GlyphRenderer\"},{\"id\":\"4b821d23-3d5e-4359-a209-e10fdb631abd\",\"type\":\"GlyphRenderer\"},{\"id\":\"f2fc0b16-d37c-44ec-b182-e30ce697e10e\",\"type\":\"GlyphRenderer\"},{\"id\":\"d7c75d48-31b1-4707-b2fc-5f49ffc4687a\",\"type\":\"GlyphRenderer\"},{\"id\":\"f4301cfd-b339-48c8-968c-73ff40b5701e\",\"type\":\"GlyphRenderer\"},{\"id\":\"265af2d7-4ce1-475e-82ce-bcf21219cb06\",\"type\":\"GlyphRenderer\"},{\"id\":\"107a0dcb-3eb2-4c2f-b4e7-40211ecf62ac\",\"type\":\"GlyphRenderer\"},{\"id\":\"ff5e84b0-cc7a-42c6-a3ff-ce6a88d3cde1\",\"type\":\"GlyphRenderer\"},{\"id\":\"40203ce7-c86f-4542-82fc-353c18676f80\",\"type\":\"GlyphRenderer\"},{\"id\":\"6128704c-a5f1-4ced-be6d-3179159e0c8c\",\"type\":\"GlyphRenderer\"},{\"id\":\"3bbf26a1-0a87-4c3f-a50f-b437c230d0f3\",\"type\":\"GlyphRenderer\"},{\"id\":\"9dc46eba-cdf7-4232-a2b3-8bafc9b6796c\",\"type\":\"GlyphRenderer\"},{\"id\":\"b7eaa2f7-a196-4dce-bead-cc833ef0c929\",\"type\":\"GlyphRenderer\"},{\"id\":\"727f9d32-d03f-446b-a071-debdb8127c47\",\"type\":\"GlyphRenderer\"},{\"id\":\"01f7b46f-b85f-4f1d-a491-315e875d71f8\",\"type\":\"GlyphRenderer\"},{\"id\":\"17eaa175-2cc6-4060-b28a-d254b12c2066\",\"type\":\"GlyphRenderer\"},{\"id\":\"7d0840ee-3bb4-4706-940c-5a6f68fcdceb\",\"type\":\"GlyphRenderer\"},{\"id\":\"6d6c4447-ad4e-41ae-b217-0737703358f1\",\"type\":\"GlyphRenderer\"},{\"id\":\"67cf7415-322b-48bc-9eaa-05ba4ae8e18d\",\"type\":\"GlyphRenderer\"},{\"id\":\"c788eeb6-73f3-4f24-8235-8fa7f59549e0\",\"type\":\"GlyphRenderer\"},{\"id\":\"5501c78f-ee35-43ef-b129-fa400f10db1c\",\"type\":\"GlyphRenderer\"},{\"id\":\"fe59f446-f5d4-43fe-9ce0-6224ffd41991\",\"type\":\"GlyphRenderer\"},{\"id\":\"910ba02b-6e8d-4d89-86b1-eb53a6463089\",\"type\":\"GlyphRenderer\"},{\"id\":\"3b82e350-299b-478c-bea7-5652172b0531\",\"type\":\"GlyphRenderer\"},{\"id\":\"226a2ded-b4cc-4690-b2e7-30a490bb9430\",\"type\":\"GlyphRenderer\"},{\"id\":\"7c5b59d4-7c74-475f-ab10-23e8451939bd\",\"type\":\"GlyphRenderer\"},{\"id\":\"c8f88bdd-2bf5-41f7-b86e-468286495b98\",\"type\":\"GlyphRenderer\"},{\"id\":\"6c93941b-e773-46c1-8a7f-d846addef1ec\",\"type\":\"GlyphRenderer\"},{\"id\":\"803e23b2-5291-4130-8c2f-021a0e4dd7bb\",\"type\":\"GlyphRenderer\"},{\"id\":\"7fa4c634-c4f1-44e3-88e5-712ea974132d\",\"type\":\"GlyphRenderer\"},{\"id\":\"8b2b5e42-05e0-4d5b-afe6-5c6ec684caa0\",\"type\":\"GlyphRenderer\"},{\"id\":\"e775055f-a046-43a3-86f3-6fa4e7664814\",\"type\":\"GlyphRenderer\"},{\"id\":\"2a86e8a1-47d2-451d-8bb3-ea480bd098fa\",\"type\":\"GlyphRenderer\"},{\"id\":\"a6630a43-3a3d-4cb7-b431-d30d8ad4d860\",\"type\":\"CategoricalAxis\"},{\"id\":\"346a745b-5704-4b68-b972-bfb9fa58fdd2\",\"type\":\"LinearAxis\"},{\"id\":\"8cd73664-ea54-48a1-b0e7-47be63ae2806\",\"type\":\"Grid\"}],\"title\":\"Number of ebola victims per country\",\"title_text_font_size\":{\"value\":\"14pt\"},\"tool_events\":{\"id\":\"13ae0252-6798-43af-ac65-6156522d3ad5\",\"type\":\"ToolEvents\"},\"tools\":[{\"id\":\"422c09b3-8713-4434-b6f7-281efe094c0d\",\"type\":\"PanTool\"},{\"id\":\"bbc14293-2acc-43b9-9d41-7556bfe3af81\",\"type\":\"WheelZoomTool\"},{\"id\":\"3d6def50-8a2c-4b61-813b-b8af4a492fe2\",\"type\":\"BoxZoomTool\"},{\"id\":\"e4b85dd8-def7-4381-8e29-304d8c19dc42\",\"type\":\"PreviewSaveTool\"},{\"id\":\"8a428658-b6b4-4da0-a90c-d0aa5ce61872\",\"type\":\"ResizeTool\"},{\"id\":\"a91700a2-eb83-4b4f-ba7d-c34ce92c1ba1\",\"type\":\"ResetTool\"},{\"id\":\"c07b5f4c-91d0-4754-b145-378eb6c37dc2\",\"type\":\"HelpTool\"}],\"x_mapper_type\":\"auto\",\"x_range\":{\"id\":\"4bb18b3d-d9c7-485f-8eca-3395daa4de85\",\"type\":\"FactorRange\"},\"xgrid\":false,\"xscale\":\"auto\",\"y_mapper_type\":\"auto\",\"y_range\":{\"id\":\"45bda340-0ac4-485d-9459-a8a21394a39f\",\"type\":\"Range1d\"},\"yscale\":\"auto\"},\"id\":\"7119aaf3-0906-4c09-a963-7a12142acb18\",\"subtype\":\"Chart\",\"type\":\"Plot\"},{\"attributes\":{\"fill_alpha\":{\"field\":\"fill_alpha\"},\"fill_color\":{\"field\":\"color\"},\"height\":{\"field\":\"height\",\"units\":\"data\"},\"line_color\":{\"field\":\"line_color\"},\"width\":{\"field\":\"width\",\"units\":\"data\"},\"x\":{\"field\":\"x\"},\"y\":{\"field\":\"y\"}},\"id\":\"1b87f7d0-1747-4791-b37d-6446462c0d09\",\"type\":\"Rect\"},{\"attributes\":{\"callback\":null,\"column_names\":[\"line_color\",\"line_alpha\",\"color\",\"fill_alpha\",\"height\",\"width\",\"y\",\"x\"],\"data\":{\"chart_index\":[{\"country_name\":\"Uganda\"}],\"color\":[\"DimGrey\"],\"country_name\":[\"Uganda\"],\"fill_alpha\":[0.8],\"height\":[138.0],\"line_alpha\":[1.0],\"line_color\":[\"black\"],\"width\":[0.8],\"x\":[\"Uganda\"],\"y\":[80.0]}},\"id\":\"b3a99f24-0634-4074-bc39-5521e2864f7a\",\"type\":\"ColumnDataSource\"},{\"attributes\":{\"data_source\":{\"id\":\"87070862-2761-49de-be1d-f0060ac41c0e\",\"type\":\"ColumnDataSource\"},\"glyph\":{\"id\":\"24ad0e18-daad-4eb4-ab70-1aed8449ac80\",\"type\":\"Rect\"},\"hover_glyph\":null,\"nonselection_glyph\":null,\"selection_glyph\":null},\"id\":\"800593bf-b013-4395-972a-cc5731811a51\",\"type\":\"GlyphRenderer\"},{\"attributes\":{\"fill_alpha\":{\"field\":\"fill_alpha\"},\"fill_color\":{\"field\":\"color\"},\"height\":{\"field\":\"height\",\"units\":\"data\"},\"line_color\":{\"field\":\"line_color\"},\"width\":{\"field\":\"width\",\"units\":\"data\"},\"x\":{\"field\":\"x\"},\"y\":{\"field\":\"y\"}},\"id\":\"ac367b02-4da9-4530-aadc-f340dc15ae4d\",\"type\":\"Rect\"},{\"attributes\":{\"line_color\":{\"value\":\"#5ab738\"},\"line_width\":{\"value\":2},\"x0\":{\"field\":\"x0s\"},\"x1\":{\"field\":\"x1s\"},\"y0\":{\"field\":\"y0s\"},\"y1\":{\"field\":\"y1s\"}},\"id\":\"44d23e5e-43d4-492b-b4f5-7a1c509f8b18\",\"type\":\"Segment\"},{\"attributes\":{\"callback\":null,\"column_names\":[\"line_color\",\"line_alpha\",\"color\",\"fill_alpha\",\"height\",\"width\",\"y\",\"x\"],\"data\":{\"chart_index\":[{\"country_name\":\"Russia\"}],\"color\":[\"DimGrey\"],\"country_name\":[\"Russia\"],\"fill_alpha\":[0.8],\"height\":[0.0],\"line_alpha\":[1.0],\"line_color\":[\"black\"],\"width\":[0.8],\"x\":[\"Russia\"],\"y\":[1.0]}},\"id\":\"f30dcb79-55de-4ac9-8517-12f282dbb120\",\"type\":\"ColumnDataSource\"},{\"attributes\":{\"data_source\":{\"id\":\"68df41f3-57ee-4659-9e6a-ee164464fa29\",\"type\":\"ColumnDataSource\"},\"glyph\":{\"id\":\"6f3a520a-cfa1-4dda-8e0d-07400605ab64\",\"type\":\"Segment\"},\"hover_glyph\":null,\"nonselection_glyph\":null,\"selection_glyph\":null},\"id\":\"5501c78f-ee35-43ef-b129-fa400f10db1c\",\"type\":\"GlyphRenderer\"},{\"attributes\":{\"data_source\":{\"id\":\"f4412460-c4ae-46db-813d-b3bea75eef09\",\"type\":\"ColumnDataSource\"},\"glyph\":{\"id\":\"aa2487e4-073b-4e6c-9ab3-1964ad15da47\",\"type\":\"Rect\"},\"hover_glyph\":null,\"nonselection_glyph\":null,\"selection_glyph\":null},\"id\":\"17eaa175-2cc6-4060-b28a-d254b12c2066\",\"type\":\"GlyphRenderer\"},{\"attributes\":{\"callback\":null,\"column_names\":[\"line_color\",\"line_alpha\",\"color\",\"fill_alpha\",\"height\",\"width\",\"y\",\"x\"],\"data\":{\"chart_index\":[{\"index\":\"Gabon\"}],\"color\":[\"navy\"],\"fill_alpha\":[0.8],\"height\":[12.121212121212121],\"index\":[\"Gabon\"],\"line_alpha\":[1.0],\"line_color\":[\"white\"],\"width\":[0.8],\"x\":[\"Gabon\"],\"y\":[6.0606060606060606]}},\"id\":\"87070862-2761-49de-be1d-f0060ac41c0e\",\"type\":\"ColumnDataSource\"},{\"attributes\":{\"callback\":null,\"column_names\":[\"x0s\",\"y0s\",\"x1s\",\"y1s\"],\"data\":{\"chart_index\":[{\"country_name\":\"Philippines\"},{\"country_name\":\"Philippines\"},{\"country_name\":\"Philippines\"},{\"country_name\":\"Philippines\"}],\"country_name\":[\"Philippines\",\"Philippines\",\"Philippines\",\"Philippines\"],\"x0s\":[\"Philippines:0.5\",\"Philippines:0.65\",\"Philippines:0.5\",\"Philippines:0.65\"],\"x1s\":[\"Philippines:0.5\",\"Philippines:0.35\",\"Philippines:0.5\",\"Philippines:0.35\"],\"y0s\":[0.0,0.0,4.5,6.0],\"y1s\":[1.5,0.0,6.0,6.0]}},\"id\":\"73baa498-3ce7-4d4a-8bc6-c4e7839f9073\",\"type\":\"ColumnDataSource\"},{\"attributes\":{\"callback\":null,\"column_names\":[\"x0s\",\"y0s\",\"x1s\",\"y1s\"],\"data\":{\"chart_index\":[{\"country_name\":\"Gabon\"},{\"country_name\":\"Gabon\"},{\"country_name\":\"Gabon\"},{\"country_name\":\"Gabon\"}],\"country_name\":[\"Gabon\",\"Gabon\",\"Gabon\",\"Gabon\"],\"x0s\":[\"Gabon:0.5\",\"Gabon:0.65\",\"Gabon:0.5\",\"Gabon:0.65\"],\"x1s\":[\"Gabon:0.5\",\"Gabon:0.35\",\"Gabon:0.5\",\"Gabon:0.35\"],\"y0s\":[37.0,37.0,61.25,65.0],\"y1s\":[48.25,37.0,65.0,65.0]}},\"id\":\"6ec5cae2-f662-4934-85f7-08462bd7e104\",\"type\":\"ColumnDataSource\"},{\"attributes\":{\"callback\":null,\"column_names\":[\"line_color\",\"line_alpha\",\"color\",\"fill_alpha\",\"height\",\"width\",\"y\",\"x\"],\"data\":{\"chart_index\":[{\"index\":\"Democratic Republic of the Congo\"}],\"color\":[\"navy\"],\"fill_alpha\":[0.8],\"height\":[27.272727272727273],\"index\":[\"Democratic Republic of the Congo\"],\"line_alpha\":[1.0],\"line_color\":[\"white\"],\"width\":[0.8],\"x\":[\"Democratic Republic of the Congo\"],\"y\":[13.636363636363637]}},\"id\":\"d918453b-7101-4486-ab25-00c85a720cfc\",\"type\":\"ColumnDataSource\"},{\"attributes\":{\"callback\":null,\"factors\":[\"Cote d'Ivoire (Ivory Coast)\",\"Democratic Republic of the Congo\",\"England\",\"Gabon\",\"Italy\",\"Philippines\",\"Russia\",\"South Africa\",\"Sudan (South Sudan)\",\"USA\",\"Uganda\"]},\"id\":\"4bb18b3d-d9c7-485f-8eca-3395daa4de85\",\"type\":\"FactorRange\"},{\"attributes\":{\"line_color\":{\"value\":\"#f22c40\"},\"line_width\":{\"value\":2},\"x0\":{\"field\":\"x0s\"},\"x1\":{\"field\":\"x1s\"},\"y0\":{\"field\":\"y0s\"},\"y1\":{\"field\":\"y1s\"}},\"id\":\"bb7271e8-7308-45a6-b456-bc9107f34f5a\",\"type\":\"Segment\"},{\"attributes\":{\"fill_alpha\":{\"field\":\"fill_alpha\"},\"fill_color\":{\"field\":\"color\"},\"height\":{\"field\":\"height\",\"units\":\"data\"},\"line_color\":{\"field\":\"line_color\"},\"width\":{\"field\":\"width\",\"units\":\"data\"},\"x\":{\"field\":\"x\"},\"y\":{\"field\":\"y\"}},\"id\":\"513a5032-9c83-40f4-9928-c09c835bceaf\",\"type\":\"Rect\"},{\"attributes\":{\"data_source\":{\"id\":\"ddf532e3-f1d8-46c0-9709-b92f68f09884\",\"type\":\"ColumnDataSource\"},\"glyph\":{\"id\":\"12b8ee00-b8b0-435a-83e4-9c266f07efb2\",\"type\":\"Rect\"},\"hover_glyph\":null,\"nonselection_glyph\":null,\"selection_glyph\":null},\"id\":\"898ecfed-ab9f-4d27-8f89-a5a619a4c268\",\"type\":\"GlyphRenderer\"},{\"attributes\":{\"data_source\":{\"id\":\"943b7f96-5903-4575-84ad-5c5dafd5e1e2\",\"type\":\"ColumnDataSource\"},\"glyph\":{\"id\":\"ac367b02-4da9-4530-aadc-f340dc15ae4d\",\"type\":\"Rect\"},\"hover_glyph\":null,\"nonselection_glyph\":null,\"selection_glyph\":null},\"id\":\"8b2b5e42-05e0-4d5b-afe6-5c6ec684caa0\",\"type\":\"GlyphRenderer\"},{\"attributes\":{\"callback\":null,\"column_names\":[\"line_color\",\"line_alpha\",\"color\",\"fill_alpha\",\"height\",\"width\",\"y\",\"x\"],\"data\":{\"chart_index\":[{\"index\":\"Italy\"}],\"color\":[\"navy\"],\"fill_alpha\":[0.8],\"height\":[3.0303030303030303],\"index\":[\"Italy\"],\"line_alpha\":[1.0],\"line_color\":[\"white\"],\"width\":[0.8],\"x\":[\"Italy\"],\"y\":[1.5151515151515151]}},\"id\":\"701c670f-7e93-4697-9751-d401db2047d7\",\"type\":\"ColumnDataSource\"},{\"attributes\":{\"data_source\":{\"id\":\"921c0cc8-05ed-45cc-881a-596e8893517b\",\"type\":\"ColumnDataSource\"},\"glyph\":{\"id\":\"ab52d254-1414-4495-92d5-3c8d2810b7f1\",\"type\":\"Rect\"},\"hover_glyph\":null,\"nonselection_glyph\":null,\"selection_glyph\":null},\"id\":\"5ba7a289-83f7-4c8b-a169-d8c934814579\",\"type\":\"GlyphRenderer\"},{\"attributes\":{\"callback\":null,\"column_names\":[\"x0s\",\"y0s\",\"x1s\",\"y1s\"],\"data\":{\"chart_index\":[{\"country_name\":\"Uganda\"},{\"country_name\":\"Uganda\"},{\"country_name\":\"Uganda\"},{\"country_name\":\"Uganda\"}],\"country_name\":[\"Uganda\",\"Uganda\",\"Uganda\",\"Uganda\"],\"x0s\":[\"Uganda:0.5\",\"Uganda:0.65\",\"Uganda:0.5\",\"Uganda:0.65\"],\"x1s\":[\"Uganda:0.5\",\"Uganda:0.35\",\"Uganda:0.5\",\"Uganda:0.35\"],\"y0s\":[1.0,1.0,149.0,363.5],\"y1s\":[6.0,1.0,363.5,363.5]}},\"id\":\"f6a5863d-c8c9-4a05-ab3c-4ea93c1db929\",\"type\":\"ColumnDataSource\"},{\"attributes\":{\"callback\":null,\"column_names\":[\"line_color\",\"line_alpha\",\"color\",\"fill_alpha\",\"height\",\"width\",\"y\",\"x\"],\"data\":{\"chart_index\":[{\"country_name\":\"Cote d'Ivoire (Ivory Coast)\"}],\"color\":[\"DimGrey\"],\"country_name\":[\"Cote d'Ivoire (Ivory Coast)\"],\"fill_alpha\":[0.8],\"height\":[0],\"line_alpha\":[1.0],\"line_color\":[\"black\"],\"width\":[0.8],\"x\":[\"Cote d'Ivoire (Ivory Coast)\"],\"y\":[1.0]}},\"id\":\"907fdfb9-4808-4bc8-b78d-d9e0008d0e66\",\"type\":\"ColumnDataSource\"},{\"attributes\":{\"callback\":null,\"column_names\":[\"x0s\",\"y0s\",\"x1s\",\"y1s\"],\"data\":{\"chart_index\":[{\"country_name\":\"Russia\"},{\"country_name\":\"Russia\"},{\"country_name\":\"Russia\"},{\"country_name\":\"Russia\"}],\"country_name\":[\"Russia\",\"Russia\",\"Russia\",\"Russia\"],\"x0s\":[\"Russia:0.5\",\"Russia:0.65\",\"Russia:0.5\",\"Russia:0.65\"],\"x1s\":[\"Russia:0.5\",\"Russia:0.35\",\"Russia:0.5\",\"Russia:0.35\"],\"y0s\":[1.0,1.0,1.0,1.0],\"y1s\":[1.0,1.0,1.0,1.0]}},\"id\":\"a41f81a8-2249-4367-b469-fcd14aa04177\",\"type\":\"ColumnDataSource\"},{\"attributes\":{\"data_source\":{\"id\":\"fa5b7cff-02cb-4df8-ae76-2432bf9118a4\",\"type\":\"ColumnDataSource\"},\"glyph\":{\"id\":\"38571e46-bd27-4e15-a511-c0eeed39903a\",\"type\":\"Rect\"},\"hover_glyph\":null,\"nonselection_glyph\":null,\"selection_glyph\":null},\"id\":\"3bbf26a1-0a87-4c3f-a50f-b437c230d0f3\",\"type\":\"GlyphRenderer\"},{\"attributes\":{\"fill_alpha\":{\"field\":\"fill_alpha\"},\"fill_color\":{\"field\":\"color\"},\"height\":{\"field\":\"height\",\"units\":\"data\"},\"line_color\":{\"field\":\"line_color\"},\"width\":{\"field\":\"width\",\"units\":\"data\"},\"x\":{\"field\":\"x\"},\"y\":{\"field\":\"y\"}},\"id\":\"40b16fdb-24c5-4f29-80ec-0a23a69bdd85\",\"type\":\"Rect\"},{\"attributes\":{},\"id\":\"13ae0252-6798-43af-ac65-6156522d3ad5\",\"type\":\"ToolEvents\"},{\"attributes\":{\"callback\":null,\"column_names\":[\"line_color\",\"line_alpha\",\"color\",\"fill_alpha\",\"height\",\"width\",\"y\",\"x\"],\"data\":{\"chart_index\":[{\"country_name\":\"USA\"}],\"color\":[\"DimGrey\"],\"country_name\":[\"USA\"],\"fill_alpha\":[0.8],\"height\":[2.0],\"line_alpha\":[1.0],\"line_color\":[\"black\"],\"width\":[0.8],\"x\":[\"USA\"],\"y\":[1.0]}},\"id\":\"4b971422-4160-4575-8e94-0ffebcd49b72\",\"type\":\"ColumnDataSource\"},{\"attributes\":{\"data_source\":{\"id\":\"444f14a6-bd12-4c4d-b377-8f33518be274\",\"type\":\"ColumnDataSource\"},\"glyph\":{\"id\":\"40b16fdb-24c5-4f29-80ec-0a23a69bdd85\",\"type\":\"Rect\"},\"hover_glyph\":null,\"nonselection_glyph\":null,\"selection_glyph\":null},\"id\":\"7c5b59d4-7c74-475f-ab10-23e8451939bd\",\"type\":\"GlyphRenderer\"},{\"attributes\":{\"callback\":null,\"column_names\":[\"line_color\",\"line_alpha\",\"color\",\"fill_alpha\",\"height\",\"width\",\"y\",\"x\"],\"data\":{\"chart_index\":[{\"country_name\":\"Russia\"}],\"color\":[\"DimGrey\"],\"country_name\":[\"Russia\"],\"fill_alpha\":[0.8],\"height\":[0.0],\"line_alpha\":[1.0],\"line_color\":[\"black\"],\"width\":[0.8],\"x\":[\"Russia\"],\"y\":[1.0]}},\"id\":\"ea78d215-5eda-414e-8d8e-8f480d1a910d\",\"type\":\"ColumnDataSource\"},{\"attributes\":{\"callback\":null,\"column_names\":[\"line_color\",\"line_alpha\",\"color\",\"fill_alpha\",\"height\",\"width\",\"y\",\"x\"],\"data\":{\"chart_index\":[{\"country_name\":\"Democratic Republic of the Congo\"}],\"color\":[\"DimGrey\"],\"country_name\":[\"Democratic Republic of the Congo\"],\"fill_alpha\":[0.8],\"height\":[207.0],\"line_alpha\":[1.0],\"line_color\":[\"black\"],\"width\":[0.8],\"x\":[\"Democratic Republic of the Congo\"],\"y\":[160.5]}},\"id\":\"84ee8eb9-cded-4cc2-ba16-0d5d726245a9\",\"type\":\"ColumnDataSource\"},{\"attributes\":{},\"id\":\"4845f74a-0fc7-4bee-afa5-8c42c15ad58f\",\"type\":\"CategoricalTickFormatter\"},{\"attributes\":{\"axis_label\":\"Reported_Number_Of_Human_Cases\",\"formatter\":{\"id\":\"10d2029a-c71e-4aa6-99f9-a291a28c104f\",\"type\":\"BasicTickFormatter\"},\"plot\":{\"id\":\"7119aaf3-0906-4c09-a963-7a12142acb18\",\"subtype\":\"Chart\",\"type\":\"Plot\"},\"ticker\":{\"id\":\"deb938b3-d951-4c69-bbc0-0c1502532f71\",\"type\":\"BasicTicker\"}},\"id\":\"346a745b-5704-4b68-b972-bfb9fa58fdd2\",\"type\":\"LinearAxis\"},{\"attributes\":{\"plot\":{\"id\":\"7119aaf3-0906-4c09-a963-7a12142acb18\",\"subtype\":\"Chart\",\"type\":\"Plot\"}},\"id\":\"e4b85dd8-def7-4381-8e29-304d8c19dc42\",\"type\":\"PreviewSaveTool\"},{\"attributes\":{\"data_source\":{\"id\":\"1b1503cf-93dd-4c65-b2dd-57ee02d1d74d\",\"type\":\"ColumnDataSource\"},\"glyph\":{\"id\":\"74589c92-0d9e-4b0c-874f-159c922e2d35\",\"type\":\"Segment\"},\"hover_glyph\":null,\"nonselection_glyph\":null,\"selection_glyph\":null},\"id\":\"01f7b46f-b85f-4f1d-a491-315e875d71f8\",\"type\":\"GlyphRenderer\"},{\"attributes\":{\"data_source\":{\"id\":\"ea78d215-5eda-414e-8d8e-8f480d1a910d\",\"type\":\"ColumnDataSource\"},\"glyph\":{\"id\":\"15035cdb-3924-43af-83e5-1235dec21592\",\"type\":\"Rect\"},\"hover_glyph\":null,\"nonselection_glyph\":null,\"selection_glyph\":null},\"id\":\"4b821d23-3d5e-4359-a209-e10fdb631abd\",\"type\":\"GlyphRenderer\"},{\"attributes\":{\"fill_alpha\":{\"field\":\"fill_alpha\"},\"fill_color\":{\"field\":\"color\"},\"height\":{\"field\":\"height\",\"units\":\"data\"},\"line_color\":{\"field\":\"line_color\"},\"width\":{\"field\":\"width\",\"units\":\"data\"},\"x\":{\"field\":\"x\"},\"y\":{\"field\":\"y\"}},\"id\":\"b4d254d3-c07c-4819-b961-86eeff4f49fc\",\"type\":\"Rect\"},{\"attributes\":{\"callback\":null,\"column_names\":[\"line_color\",\"line_alpha\",\"color\",\"fill_alpha\",\"height\",\"width\",\"y\",\"x\"],\"data\":{\"chart_index\":[{\"country_name\":\"South Africa\"}],\"color\":[\"DimGrey\"],\"country_name\":[\"South Africa\"],\"fill_alpha\":[0.8],\"height\":[0],\"line_alpha\":[1.0],\"line_color\":[\"black\"],\"width\":[0.8],\"x\":[\"South Africa\"],\"y\":[2.0]}},\"id\":\"4b632759-0eb2-48f3-b0fd-918eb4c45d7c\",\"type\":\"ColumnDataSource\"},{\"attributes\":{\"line_color\":{\"value\":\"#df5320\"},\"line_width\":{\"value\":2},\"x0\":{\"field\":\"x0s\"},\"x1\":{\"field\":\"x1s\"},\"y0\":{\"field\":\"y0s\"},\"y1\":{\"field\":\"y1s\"}},\"id\":\"875db077-2d1f-4e4c-babf-8e71fe381cee\",\"type\":\"Segment\"},{\"attributes\":{\"data_source\":{\"id\":\"22877ff7-eee5-4368-a59b-1f50dcea4331\",\"type\":\"ColumnDataSource\"},\"glyph\":{\"id\":\"0023c4e9-815c-49df-810d-1b003ac56592\",\"type\":\"Rect\"},\"hover_glyph\":null,\"nonselection_glyph\":null,\"selection_glyph\":null},\"id\":\"6a2e50ba-1451-4eb6-9d24-6f1cc9ae8da6\",\"type\":\"GlyphRenderer\"},{\"attributes\":{\"data_source\":{\"id\":\"b3a99f24-0634-4074-bc39-5521e2864f7a\",\"type\":\"ColumnDataSource\"},\"glyph\":{\"id\":\"86f6b540-fa60-4748-933d-c15819cd45da\",\"type\":\"Rect\"},\"hover_glyph\":null,\"nonselection_glyph\":null,\"selection_glyph\":null},\"id\":\"7d0840ee-3bb4-4706-940c-5a6f68fcdceb\",\"type\":\"GlyphRenderer\"},{\"attributes\":{\"data_source\":{\"id\":\"5795aaeb-ff9a-4f0d-b770-f8c4a23f994c\",\"type\":\"ColumnDataSource\"},\"glyph\":{\"id\":\"513a5032-9c83-40f4-9928-c09c835bceaf\",\"type\":\"Rect\"},\"hover_glyph\":null,\"nonselection_glyph\":null,\"selection_glyph\":null},\"id\":\"6128704c-a5f1-4ced-be6d-3179159e0c8c\",\"type\":\"GlyphRenderer\"},{\"attributes\":{\"fill_alpha\":{\"field\":\"fill_alpha\"},\"fill_color\":{\"field\":\"color\"},\"height\":{\"field\":\"height\",\"units\":\"data\"},\"line_color\":{\"field\":\"line_color\"},\"width\":{\"field\":\"width\",\"units\":\"data\"},\"x\":{\"field\":\"x\"},\"y\":{\"field\":\"y\"}},\"id\":\"4814dc66-2512-43e8-88a1-2f502bce041f\",\"type\":\"Rect\"},{\"attributes\":{\"data_source\":{\"id\":\"4b632759-0eb2-48f3-b0fd-918eb4c45d7c\",\"type\":\"ColumnDataSource\"},\"glyph\":{\"id\":\"63d70ffc-5a40-4a2e-8b32-9b88c26449bb\",\"type\":\"Rect\"},\"hover_glyph\":null,\"nonselection_glyph\":null,\"selection_glyph\":null},\"id\":\"fe59f446-f5d4-43fe-9ce0-6224ffd41991\",\"type\":\"GlyphRenderer\"},{\"attributes\":{\"callback\":null,\"column_names\":[\"x0s\",\"y0s\",\"x1s\",\"y1s\"],\"data\":{\"chart_index\":[{\"country_name\":\"Italy\"},{\"country_name\":\"Italy\"},{\"country_name\":\"Italy\"},{\"country_name\":\"Italy\"}],\"country_name\":[\"Italy\",\"Italy\",\"Italy\",\"Italy\"],\"x0s\":[\"Italy:0.5\",\"Italy:0.65\",\"Italy:0.5\",\"Italy:0.65\"],\"x1s\":[\"Italy:0.5\",\"Italy:0.35\",\"Italy:0.5\",\"Italy:0.35\"],\"y0s\":[0.0,0.0,0.0,0.0],\"y1s\":[0.0,0.0,0.0,0.0]}},\"id\":\"68df41f3-57ee-4659-9e6a-ee164464fa29\",\"type\":\"ColumnDataSource\"},{\"attributes\":{\"line_color\":{\"value\":\"#df5320\"},\"line_width\":{\"value\":2},\"x0\":{\"field\":\"x0s\"},\"x1\":{\"field\":\"x1s\"},\"y0\":{\"field\":\"y0s\"},\"y1\":{\"field\":\"y1s\"}},\"id\":\"44ab60b0-7fd5-4ba9-97a1-18c57f54ad9c\",\"type\":\"Segment\"},{\"attributes\":{\"callback\":null,\"column_names\":[\"line_color\",\"line_alpha\",\"color\",\"fill_alpha\",\"height\",\"width\",\"y\",\"x\"],\"data\":{\"chart_index\":[{\"country_name\":\"Philippines\"}],\"color\":[\"DimGrey\"],\"country_name\":[\"Philippines\"],\"fill_alpha\":[0.8],\"height\":[1.5],\"line_alpha\":[1.0],\"line_color\":[\"black\"],\"width\":[0.8],\"x\":[\"Philippines\"],\"y\":[2.25]}},\"id\":\"214c2994-74dc-4958-98bb-e47c6cd252ac\",\"type\":\"ColumnDataSource\"},{\"attributes\":{\"fill_alpha\":{\"field\":\"fill_alpha\"},\"fill_color\":{\"field\":\"color\"},\"height\":{\"field\":\"height\",\"units\":\"data\"},\"line_color\":{\"field\":\"line_color\"},\"width\":{\"field\":\"width\",\"units\":\"data\"},\"x\":{\"field\":\"x\"},\"y\":{\"field\":\"y\"}},\"id\":\"63d70ffc-5a40-4a2e-8b32-9b88c26449bb\",\"type\":\"Rect\"},{\"attributes\":{\"callback\":null,\"column_names\":[\"line_color\",\"line_alpha\",\"color\",\"fill_alpha\",\"height\",\"width\",\"y\",\"x\"],\"data\":{\"chart_index\":[{\"index\":\"USA\"}],\"color\":[\"navy\"],\"fill_alpha\":[0.8],\"height\":[9.090909090909092],\"index\":[\"USA\"],\"line_alpha\":[1.0],\"line_color\":[\"white\"],\"width\":[0.8],\"x\":[\"USA\"],\"y\":[4.545454545454546]}},\"id\":\"7eb05c50-554f-4226-bcc2-1fc89d6f99b2\",\"type\":\"ColumnDataSource\"},{\"attributes\":{\"fill_alpha\":{\"field\":\"fill_alpha\"},\"fill_color\":{\"field\":\"color\"},\"height\":{\"field\":\"height\",\"units\":\"data\"},\"line_color\":{\"field\":\"line_color\"},\"width\":{\"field\":\"width\",\"units\":\"data\"},\"x\":{\"field\":\"x\"},\"y\":{\"field\":\"y\"}},\"id\":\"38571e46-bd27-4e15-a511-c0eeed39903a\",\"type\":\"Rect\"},{\"attributes\":{\"line_color\":{\"value\":\"#00ad9c\"},\"line_width\":{\"value\":2},\"x0\":{\"field\":\"x0s\"},\"x1\":{\"field\":\"x1s\"},\"y0\":{\"field\":\"y0s\"},\"y1\":{\"field\":\"y1s\"}},\"id\":\"f43b2ab6-304a-4c84-b1f6-029a7676419c\",\"type\":\"Segment\"},{\"attributes\":{\"data_source\":{\"id\":\"a56fad3e-9765-4960-90e5-fc1bbf58f128\",\"type\":\"ColumnDataSource\"},\"glyph\":{\"id\":\"de376987-31e7-464b-94cd-265dd1a0dbb1\",\"type\":\"Rect\"},\"hover_glyph\":null,\"nonselection_glyph\":null,\"selection_glyph\":null},\"id\":\"803e23b2-5291-4130-8c2f-021a0e4dd7bb\",\"type\":\"GlyphRenderer\"},{\"attributes\":{\"overlay\":{\"id\":\"60ace50b-6365-4bbd-9ce9-915f5d2185e9\",\"type\":\"BoxAnnotation\"},\"plot\":{\"id\":\"7119aaf3-0906-4c09-a963-7a12142acb18\",\"subtype\":\"Chart\",\"type\":\"Plot\"}},\"id\":\"3d6def50-8a2c-4b61-813b-b8af4a492fe2\",\"type\":\"BoxZoomTool\"},{\"attributes\":{\"fill_alpha\":{\"field\":\"fill_alpha\"},\"fill_color\":{\"field\":\"color\"},\"height\":{\"field\":\"height\",\"units\":\"data\"},\"line_color\":{\"field\":\"line_color\"},\"width\":{\"field\":\"width\",\"units\":\"data\"},\"x\":{\"field\":\"x\"},\"y\":{\"field\":\"y\"}},\"id\":\"ba08b557-8e42-456b-b196-dc47600e1656\",\"type\":\"Rect\"},{\"attributes\":{\"plot\":{\"id\":\"7119aaf3-0906-4c09-a963-7a12142acb18\",\"subtype\":\"Chart\",\"type\":\"Plot\"}},\"id\":\"bbc14293-2acc-43b9-9d41-7556bfe3af81\",\"type\":\"WheelZoomTool\"},{\"attributes\":{\"line_color\":{\"value\":\"#407ee7\"},\"line_width\":{\"value\":2},\"x0\":{\"field\":\"x0s\"},\"x1\":{\"field\":\"x1s\"},\"y0\":{\"field\":\"y0s\"},\"y1\":{\"field\":\"y1s\"}},\"id\":\"0df14c4d-031e-4c2d-ac25-8366ff5c3c16\",\"type\":\"Segment\"},{\"attributes\":{\"fill_alpha\":{\"field\":\"fill_alpha\"},\"fill_color\":{\"field\":\"color\"},\"height\":{\"field\":\"height\",\"units\":\"data\"},\"line_color\":{\"field\":\"line_color\"},\"width\":{\"field\":\"width\",\"units\":\"data\"},\"x\":{\"field\":\"x\"},\"y\":{\"field\":\"y\"}},\"id\":\"2073c30c-8f15-4783-adff-6f3f2fb1838f\",\"type\":\"Rect\"},{\"attributes\":{\"bottom_units\":\"screen\",\"fill_alpha\":{\"value\":0.5},\"fill_color\":{\"value\":\"lightgrey\"},\"left_units\":\"screen\",\"level\":\"overlay\",\"line_alpha\":{\"value\":1.0},\"line_color\":{\"value\":\"black\"},\"line_dash\":[4,4],\"line_width\":{\"value\":2},\"plot\":null,\"render_mode\":\"css\",\"right_units\":\"screen\",\"top_units\":\"screen\"},\"id\":\"11613b1c-7919-4f5d-a840-00ee7f427cf8\",\"type\":\"BoxAnnotation\"},{\"attributes\":{\"callback\":null,\"column_names\":[\"line_color\",\"line_alpha\",\"color\",\"fill_alpha\",\"height\",\"width\",\"y\",\"x\"],\"data\":{\"chart_index\":[{\"index\":\"Russia\"}],\"color\":[\"navy\"],\"fill_alpha\":[0.8],\"height\":[6.0606060606060606],\"index\":[\"Russia\"],\"line_alpha\":[1.0],\"line_color\":[\"white\"],\"width\":[0.8],\"x\":[\"Russia\"],\"y\":[3.0303030303030303]}},\"id\":\"5d9cfa59-2235-4b38-a5fc-9f87ed3145ae\",\"type\":\"ColumnDataSource\"},{\"attributes\":{\"data_source\":{\"id\":\"5d9cfa59-2235-4b38-a5fc-9f87ed3145ae\",\"type\":\"ColumnDataSource\"},\"glyph\":{\"id\":\"4ccff099-fd2c-4e4a-9917-c59b854f502a\",\"type\":\"Rect\"},\"hover_glyph\":null,\"nonselection_glyph\":null,\"selection_glyph\":null},\"id\":\"883ca040-61e0-4206-98d5-3c236bd5e13a\",\"type\":\"GlyphRenderer\"},{\"attributes\":{\"formatter\":{\"id\":\"4845f74a-0fc7-4bee-afa5-8c42c15ad58f\",\"type\":\"CategoricalTickFormatter\"},\"major_label_orientation\":0.7853981633974483,\"plot\":{\"id\":\"bd3ca643-f5bd-432b-815d-18c8e96bd007\",\"subtype\":\"Chart\",\"type\":\"Plot\"},\"ticker\":{\"id\":\"10af0e2d-5856-4cad-b258-41f94ca344eb\",\"type\":\"CategoricalTicker\"}},\"id\":\"77fd8f15-8bfb-4d51-9481-690e3d7b5247\",\"type\":\"CategoricalAxis\"},{\"attributes\":{},\"id\":\"cead3368-eb75-4ab4-8270-7beeea329653\",\"type\":\"CategoricalTicker\"},{\"attributes\":{\"fill_alpha\":{\"field\":\"fill_alpha\"},\"fill_color\":{\"field\":\"color\"},\"height\":{\"field\":\"height\",\"units\":\"data\"},\"line_color\":{\"field\":\"line_color\"},\"width\":{\"field\":\"width\",\"units\":\"data\"},\"x\":{\"field\":\"x\"},\"y\":{\"field\":\"y\"}},\"id\":\"86f6b540-fa60-4748-933d-c15819cd45da\",\"type\":\"Rect\"},{\"attributes\":{\"data_source\":{\"id\":\"d918453b-7101-4486-ab25-00c85a720cfc\",\"type\":\"ColumnDataSource\"},\"glyph\":{\"id\":\"01948ad9-43fc-46f4-8156-f3ee110c3e28\",\"type\":\"Rect\"},\"hover_glyph\":null,\"nonselection_glyph\":null,\"selection_glyph\":null},\"id\":\"00ef402c-cc5c-4331-bd01-083163ecd359\",\"type\":\"GlyphRenderer\"},{\"attributes\":{\"plot\":{\"id\":\"bd3ca643-f5bd-432b-815d-18c8e96bd007\",\"subtype\":\"Chart\",\"type\":\"Plot\"}},\"id\":\"e7d72907-e54b-40f6-8ac0-6a88a96ce2a4\",\"type\":\"HelpTool\"},{\"attributes\":{\"data_source\":{\"id\":\"da3f857d-2518-4a0b-a5d6-f6ed00d1ce59\",\"type\":\"ColumnDataSource\"},\"glyph\":{\"id\":\"66a943c4-d937-4540-8685-6bf4d8d6412c\",\"type\":\"Rect\"},\"hover_glyph\":null,\"nonselection_glyph\":null,\"selection_glyph\":null},\"id\":\"67cf7415-322b-48bc-9eaa-05ba4ae8e18d\",\"type\":\"GlyphRenderer\"},{\"attributes\":{\"callback\":null,\"column_names\":[\"line_color\",\"line_alpha\",\"color\",\"fill_alpha\",\"height\",\"width\",\"y\",\"x\"],\"data\":{\"chart_index\":[{\"country_name\":\"Gabon\"}],\"color\":[\"DimGrey\"],\"country_name\":[\"Gabon\"],\"fill_alpha\":[0.8],\"height\":[7.75],\"line_alpha\":[1.0],\"line_color\":[\"black\"],\"width\":[0.8],\"x\":[\"Gabon\"],\"y\":[52.125]}},\"id\":\"5795aaeb-ff9a-4f0d-b770-f8c4a23f994c\",\"type\":\"ColumnDataSource\"},{\"attributes\":{\"callback\":null,\"column_names\":[\"x0s\",\"y0s\",\"x1s\",\"y1s\"],\"data\":{\"chart_index\":[{\"country_name\":\"Sudan (South Sudan)\"},{\"country_name\":\"Sudan (South Sudan)\"},{\"country_name\":\"Sudan (South Sudan)\"},{\"country_name\":\"Sudan (South Sudan)\"}],\"country_name\":[\"Sudan (South Sudan)\",\"Sudan (South Sudan)\",\"Sudan (South Sudan)\",\"Sudan (South Sudan)\"],\"x0s\":[\"Sudan (South Sudan):0.5\",\"Sudan (South Sudan):0.65\",\"Sudan (South Sudan):0.5\",\"Sudan (South Sudan):0.65\"],\"x1s\":[\"Sudan (South Sudan):0.5\",\"Sudan (South Sudan):0.35\",\"Sudan (South Sudan):0.5\",\"Sudan (South Sudan):0.35\"],\"y0s\":[17.0,17.0,159.0,284.0],\"y1s\":[25.5,17.0,284.0,284.0]}},\"id\":\"7bdcb8c9-f91b-48c8-9449-41d51d9a01ca\",\"type\":\"ColumnDataSource\"},{\"attributes\":{\"callback\":null,\"column_names\":[\"line_color\",\"line_alpha\",\"color\",\"fill_alpha\",\"height\",\"width\",\"y\",\"x\"],\"data\":{\"chart_index\":[{\"country_name\":\"USA\"}],\"color\":[\"DimGrey\"],\"country_name\":[\"USA\"],\"fill_alpha\":[0.8],\"height\":[0.0],\"line_alpha\":[1.0],\"line_color\":[\"black\"],\"width\":[0.8],\"x\":[\"USA\"],\"y\":[0.0]}},\"id\":\"39969b35-4e48-4dc0-a904-b7a2a492983d\",\"type\":\"ColumnDataSource\"},{\"attributes\":{\"callback\":null,\"end\":28.636363636363637},\"id\":\"bf113675-c9d6-435b-af47-643329d450bd\",\"type\":\"Range1d\"},{\"attributes\":{\"data_source\":{\"id\":\"7bdcb8c9-f91b-48c8-9449-41d51d9a01ca\",\"type\":\"ColumnDataSource\"},\"glyph\":{\"id\":\"0df14c4d-031e-4c2d-ac25-8366ff5c3c16\",\"type\":\"Segment\"},\"hover_glyph\":null,\"nonselection_glyph\":null,\"selection_glyph\":null},\"id\":\"c8f88bdd-2bf5-41f7-b86e-468286495b98\",\"type\":\"GlyphRenderer\"},{\"attributes\":{\"dimension\":1,\"plot\":{\"id\":\"bd3ca643-f5bd-432b-815d-18c8e96bd007\",\"subtype\":\"Chart\",\"type\":\"Plot\"},\"ticker\":{\"id\":\"b4a6a765-2967-488d-a849-7e61355ade5c\",\"type\":\"BasicTicker\"}},\"id\":\"b8464c93-4aef-4030-a087-a990a4980150\",\"type\":\"Grid\"},{\"attributes\":{\"data_source\":{\"id\":\"7eb05c50-554f-4226-bcc2-1fc89d6f99b2\",\"type\":\"ColumnDataSource\"},\"glyph\":{\"id\":\"b4d254d3-c07c-4819-b961-86eeff4f49fc\",\"type\":\"Rect\"},\"hover_glyph\":null,\"nonselection_glyph\":null,\"selection_glyph\":null},\"id\":\"f2cdab88-73d2-4dd1-9a15-61c9756db70c\",\"type\":\"GlyphRenderer\"},{\"attributes\":{\"plot\":{\"id\":\"bd3ca643-f5bd-432b-815d-18c8e96bd007\",\"subtype\":\"Chart\",\"type\":\"Plot\"}},\"id\":\"cfe35ab4-5ac4-422b-88a8-a48ff5b10fde\",\"type\":\"WheelZoomTool\"},{\"attributes\":{\"fill_alpha\":{\"field\":\"fill_alpha\"},\"fill_color\":{\"field\":\"color\"},\"height\":{\"field\":\"height\",\"units\":\"data\"},\"line_color\":{\"field\":\"line_color\"},\"width\":{\"field\":\"width\",\"units\":\"data\"},\"x\":{\"field\":\"x\"},\"y\":{\"field\":\"y\"}},\"id\":\"de376987-31e7-464b-94cd-265dd1a0dbb1\",\"type\":\"Rect\"},{\"attributes\":{\"data_source\":{\"id\":\"a41f81a8-2249-4367-b469-fcd14aa04177\",\"type\":\"ColumnDataSource\"},\"glyph\":{\"id\":\"c0151e31-efee-47c7-9ff5-81683c7c7377\",\"type\":\"Segment\"},\"hover_glyph\":null,\"nonselection_glyph\":null,\"selection_glyph\":null},\"id\":\"f2fc0b16-d37c-44ec-b182-e30ce697e10e\",\"type\":\"GlyphRenderer\"},{\"attributes\":{\"callback\":null,\"column_names\":[\"line_color\",\"line_alpha\",\"color\",\"fill_alpha\",\"height\",\"width\",\"y\",\"x\"],\"data\":{\"chart_index\":[{\"country_name\":\"England\"}],\"color\":[\"DimGrey\"],\"country_name\":[\"England\"],\"fill_alpha\":[0.8],\"height\":[0],\"line_alpha\":[1.0],\"line_color\":[\"black\"],\"width\":[0.8],\"x\":[\"England\"],\"y\":[1.0]}},\"id\":\"943b7f96-5903-4575-84ad-5c5dafd5e1e2\",\"type\":\"ColumnDataSource\"},{\"attributes\":{\"callback\":null,\"column_names\":[\"line_color\",\"line_alpha\",\"color\",\"fill_alpha\",\"height\",\"width\",\"y\",\"x\"],\"data\":{\"chart_index\":[{\"country_name\":\"Sudan (South Sudan)\"}],\"color\":[\"DimGrey\"],\"country_name\":[\"Sudan (South Sudan)\"],\"fill_alpha\":[0.8],\"height\":[8.5],\"line_alpha\":[1.0],\"line_color\":[\"black\"],\"width\":[0.8],\"x\":[\"Sudan (South Sudan)\"],\"y\":[29.75]}},\"id\":\"ef1ad82f-fef2-4787-a8e2-e19bddae4366\",\"type\":\"ColumnDataSource\"},{\"attributes\":{\"plot\":{\"id\":\"7119aaf3-0906-4c09-a963-7a12142acb18\",\"subtype\":\"Chart\",\"type\":\"Plot\"}},\"id\":\"422c09b3-8713-4434-b6f7-281efe094c0d\",\"type\":\"PanTool\"},{\"attributes\":{\"callback\":null,\"column_names\":[\"line_color\",\"line_alpha\",\"color\",\"fill_alpha\",\"height\",\"width\",\"y\",\"x\"],\"data\":{\"chart_index\":[{\"index\":\"Sudan (South Sudan)\"}],\"color\":[\"navy\"],\"fill_alpha\":[0.8],\"height\":[9.090909090909092],\"index\":[\"Sudan (South Sudan)\"],\"line_alpha\":[1.0],\"line_color\":[\"white\"],\"width\":[0.8],\"x\":[\"Sudan (South Sudan)\"],\"y\":[4.545454545454546]}},\"id\":\"2b6687bd-3b5b-45db-af99-973e1d0d9bc8\",\"type\":\"ColumnDataSource\"},{\"attributes\":{\"fill_alpha\":{\"field\":\"fill_alpha\"},\"fill_color\":{\"field\":\"color\"},\"height\":{\"field\":\"height\",\"units\":\"data\"},\"line_color\":{\"field\":\"line_color\"},\"width\":{\"field\":\"width\",\"units\":\"data\"},\"x\":{\"field\":\"x\"},\"y\":{\"field\":\"y\"}},\"id\":\"66a943c4-d937-4540-8685-6bf4d8d6412c\",\"type\":\"Rect\"},{\"attributes\":{\"data_source\":{\"id\":\"58814fca-a5f3-4105-ba93-370e310676b5\",\"type\":\"ColumnDataSource\"},\"glyph\":{\"id\":\"bb7271e8-7308-45a6-b456-bc9107f34f5a\",\"type\":\"Segment\"},\"hover_glyph\":null,\"nonselection_glyph\":null,\"selection_glyph\":null},\"id\":\"7fa4c634-c4f1-44e3-88e5-712ea974132d\",\"type\":\"GlyphRenderer\"},{\"attributes\":{\"plot\":{\"id\":\"bd3ca643-f5bd-432b-815d-18c8e96bd007\",\"subtype\":\"Chart\",\"type\":\"Plot\"}},\"id\":\"a209d055-ed9f-4bfd-91fd-f307c056746f\",\"type\":\"ResizeTool\"},{\"attributes\":{\"line_color\":{\"value\":\"#f22c40\"},\"line_width\":{\"value\":2},\"x0\":{\"field\":\"x0s\"},\"x1\":{\"field\":\"x1s\"},\"y0\":{\"field\":\"y0s\"},\"y1\":{\"field\":\"y1s\"}},\"id\":\"c0151e31-efee-47c7-9ff5-81683c7c7377\",\"type\":\"Segment\"},{\"attributes\":{\"callback\":null,\"column_names\":[\"x0s\",\"y0s\",\"x1s\",\"y1s\"],\"data\":{\"chart_index\":[{\"country_name\":\"USA\"},{\"country_name\":\"USA\"},{\"country_name\":\"USA\"},{\"country_name\":\"USA\"}],\"country_name\":[\"USA\",\"USA\",\"USA\",\"USA\"],\"x0s\":[\"USA:0.5\",\"USA:0.65\",\"USA:0.5\",\"USA:0.65\"],\"x1s\":[\"USA:0.5\",\"USA:0.35\",\"USA:0.5\",\"USA:0.35\"],\"y0s\":[0.0,0.0,2.0,4.0],\"y1s\":[0.0,0.0,4.0,4.0]}},\"id\":\"4e3c6477-2f40-4236-97b1-9e760a59e3ec\",\"type\":\"ColumnDataSource\"},{\"attributes\":{\"callback\":null,\"column_names\":[\"line_color\",\"line_alpha\",\"color\",\"fill_alpha\",\"height\",\"width\",\"y\",\"x\"],\"data\":{\"chart_index\":[{\"country_name\":\"Italy\"}],\"color\":[\"DimGrey\"],\"country_name\":[\"Italy\"],\"fill_alpha\":[0.8],\"height\":[0.0],\"line_alpha\":[1.0],\"line_color\":[\"black\"],\"width\":[0.8],\"x\":[\"Italy\"],\"y\":[0.0]}},\"id\":\"0600d360-b276-4f93-85ac-53324576e4e8\",\"type\":\"ColumnDataSource\"},{\"attributes\":{\"line_color\":{\"value\":\"#407ee7\"},\"line_width\":{\"value\":2},\"x0\":{\"field\":\"x0s\"},\"x1\":{\"field\":\"x1s\"},\"y0\":{\"field\":\"y0s\"},\"y1\":{\"field\":\"y1s\"}},\"id\":\"a5acc3df-d55c-4f82-a674-5a3d3fd9610f\",\"type\":\"Segment\"},{\"attributes\":{},\"id\":\"10af0e2d-5856-4cad-b258-41f94ca344eb\",\"type\":\"CategoricalTicker\"},{\"attributes\":{\"callback\":null,\"column_names\":[\"line_color\",\"line_alpha\",\"color\",\"fill_alpha\",\"height\",\"width\",\"y\",\"x\"],\"data\":{\"chart_index\":[{\"country_name\":\"Italy\"}],\"color\":[\"DimGrey\"],\"country_name\":[\"Italy\"],\"fill_alpha\":[0.8],\"height\":[0.0],\"line_alpha\":[1.0],\"line_color\":[\"black\"],\"width\":[0.8],\"x\":[\"Italy\"],\"y\":[0.0]}},\"id\":\"da3f857d-2518-4a0b-a5d6-f6ed00d1ce59\",\"type\":\"ColumnDataSource\"},{\"attributes\":{\"fill_alpha\":{\"field\":\"fill_alpha\"},\"fill_color\":{\"field\":\"color\"},\"height\":{\"field\":\"height\",\"units\":\"data\"},\"line_color\":{\"field\":\"line_color\"},\"width\":{\"field\":\"width\",\"units\":\"data\"},\"x\":{\"field\":\"x\"},\"y\":{\"field\":\"y\"}},\"id\":\"aa2487e4-073b-4e6c-9ab3-1964ad15da47\",\"type\":\"Rect\"},{\"attributes\":{\"data_source\":{\"id\":\"bb4a22f6-558e-4c25-ab34-fbec92040228\",\"type\":\"ColumnDataSource\"},\"glyph\":{\"id\":\"b8e629de-cc15-4467-9642-250b95568ffa\",\"type\":\"Rect\"},\"hover_glyph\":null,\"nonselection_glyph\":null,\"selection_glyph\":null},\"id\":\"44d7d2c0-5a17-4bf8-96f8-7c42bdc0dc90\",\"type\":\"GlyphRenderer\"},{\"attributes\":{\"data_source\":{\"id\":\"f30dcb79-55de-4ac9-8517-12f282dbb120\",\"type\":\"ColumnDataSource\"},\"glyph\":{\"id\":\"3c04497c-9c5e-403e-ae46-a4e5309d982f\",\"type\":\"Rect\"},\"hover_glyph\":null,\"nonselection_glyph\":null,\"selection_glyph\":null},\"id\":\"e0344303-d401-4fd8-af37-532583cd9069\",\"type\":\"GlyphRenderer\"},{\"attributes\":{\"callback\":null,\"column_names\":[\"x0s\",\"y0s\",\"x1s\",\"y1s\"],\"data\":{\"chart_index\":[{\"country_name\":\"Cote d'Ivoire (Ivory Coast)\"},{\"country_name\":\"Cote d'Ivoire (Ivory Coast)\"},{\"country_name\":\"Cote d'Ivoire (Ivory Coast)\"},{\"country_name\":\"Cote d'Ivoire (Ivory Coast)\"}],\"country_name\":[\"Cote d'Ivoire (Ivory Coast)\",\"Cote d'Ivoire (Ivory Coast)\",\"Cote d'Ivoire (Ivory Coast)\",\"Cote d'Ivoire (Ivory Coast)\"],\"x0s\":[\"Cote d'Ivoire (Ivory Coast):0.5\",\"Cote d'Ivoire (Ivory Coast):0.65\",\"Cote d'Ivoire (Ivory Coast):0.5\",\"Cote d'Ivoire (Ivory Coast):0.65\"],\"x1s\":[\"Cote d'Ivoire (Ivory Coast):0.5\",\"Cote d'Ivoire (Ivory Coast):0.35\",\"Cote d'Ivoire (Ivory Coast):0.5\",\"Cote d'Ivoire (Ivory Coast):0.35\"],\"y0s\":[1.0,1.0,1.0,1.0],\"y1s\":[1.0,1.0,1.0,1.0]}},\"id\":\"58814fca-a5f3-4105-ba93-370e310676b5\",\"type\":\"ColumnDataSource\"},{\"attributes\":{\"fill_alpha\":{\"field\":\"fill_alpha\"},\"fill_color\":{\"field\":\"color\"},\"height\":{\"field\":\"height\",\"units\":\"data\"},\"line_color\":{\"field\":\"line_color\"},\"width\":{\"field\":\"width\",\"units\":\"data\"},\"x\":{\"field\":\"x\"},\"y\":{\"field\":\"y\"}},\"id\":\"eac6959a-dba1-44c0-8fad-0fe2def8365a\",\"type\":\"Rect\"},{\"attributes\":{\"plot\":{\"id\":\"bd3ca643-f5bd-432b-815d-18c8e96bd007\",\"subtype\":\"Chart\",\"type\":\"Plot\"}},\"id\":\"b4fd9b90-7188-433e-a3fa-40443e55ec76\",\"type\":\"PreviewSaveTool\"},{\"attributes\":{\"callback\":null,\"column_names\":[\"line_color\",\"line_alpha\",\"color\",\"fill_alpha\",\"height\",\"width\",\"y\",\"x\"],\"data\":{\"chart_index\":[{\"index\":\"Cote d'Ivoire (Ivory Coast)\"}],\"color\":[\"navy\"],\"fill_alpha\":[0.8],\"height\":[3.0303030303030303],\"index\":[\"Cote d'Ivoire (Ivory Coast)\"],\"line_alpha\":[1.0],\"line_color\":[\"white\"],\"width\":[0.8],\"x\":[\"Cote d'Ivoire (Ivory Coast)\"],\"y\":[1.5151515151515151]}},\"id\":\"921c0cc8-05ed-45cc-881a-596e8893517b\",\"type\":\"ColumnDataSource\"},{\"attributes\":{\"fill_alpha\":{\"field\":\"fill_alpha\"},\"fill_color\":{\"field\":\"color\"},\"height\":{\"field\":\"height\",\"units\":\"data\"},\"line_color\":{\"field\":\"line_color\"},\"width\":{\"field\":\"width\",\"units\":\"data\"},\"x\":{\"field\":\"x\"},\"y\":{\"field\":\"y\"}},\"id\":\"0d772031-eb92-4bfe-bafe-39fba44979b2\",\"type\":\"Rect\"},{\"attributes\":{\"data_source\":{\"id\":\"6ec5cae2-f662-4934-85f7-08462bd7e104\",\"type\":\"ColumnDataSource\"},\"glyph\":{\"id\":\"44ab60b0-7fd5-4ba9-97a1-18c57f54ad9c\",\"type\":\"Segment\"},\"hover_glyph\":null,\"nonselection_glyph\":null,\"selection_glyph\":null},\"id\":\"9dc46eba-cdf7-4232-a2b3-8bafc9b6796c\",\"type\":\"GlyphRenderer\"},{\"attributes\":{\"line_color\":{\"value\":\"#c33ff3\"},\"line_width\":{\"value\":2},\"x0\":{\"field\":\"x0s\"},\"x1\":{\"field\":\"x1s\"},\"y0\":{\"field\":\"y0s\"},\"y1\":{\"field\":\"y1s\"}},\"id\":\"2e0ff20e-0286-492a-abac-a41388137a40\",\"type\":\"Segment\"},{\"attributes\":{\"plot\":{\"id\":\"7119aaf3-0906-4c09-a963-7a12142acb18\",\"subtype\":\"Chart\",\"type\":\"Plot\"}},\"id\":\"a91700a2-eb83-4b4f-ba7d-c34ce92c1ba1\",\"type\":\"ResetTool\"},{\"attributes\":{\"fill_alpha\":{\"field\":\"fill_alpha\"},\"fill_color\":{\"field\":\"color\"},\"height\":{\"field\":\"height\",\"units\":\"data\"},\"line_color\":{\"field\":\"line_color\"},\"width\":{\"field\":\"width\",\"units\":\"data\"},\"x\":{\"field\":\"x\"},\"y\":{\"field\":\"y\"}},\"id\":\"6ac0f391-748f-4d17-ab04-a1a6ea2d716c\",\"type\":\"Rect\"},{\"attributes\":{\"callback\":null,\"column_names\":[\"line_color\",\"line_alpha\",\"color\",\"fill_alpha\",\"height\",\"width\",\"y\",\"x\"],\"data\":{\"chart_index\":[{\"country_name\":\"Gabon\"}],\"color\":[\"DimGrey\"],\"country_name\":[\"Gabon\"],\"fill_alpha\":[0.8],\"height\":[5.25],\"line_alpha\":[1.0],\"line_color\":[\"black\"],\"width\":[0.8],\"x\":[\"Gabon\"],\"y\":[58.625]}},\"id\":\"fa5b7cff-02cb-4df8-ae76-2432bf9118a4\",\"type\":\"ColumnDataSource\"},{\"attributes\":{\"data_source\":{\"id\":\"214c2994-74dc-4958-98bb-e47c6cd252ac\",\"type\":\"ColumnDataSource\"},\"glyph\":{\"id\":\"dbfb425b-2410-41d3-8980-9e3b96e6f086\",\"type\":\"Rect\"},\"hover_glyph\":null,\"nonselection_glyph\":null,\"selection_glyph\":null},\"id\":\"d7c75d48-31b1-4707-b2fc-5f49ffc4687a\",\"type\":\"GlyphRenderer\"},{\"attributes\":{\"fill_alpha\":{\"field\":\"fill_alpha\"},\"fill_color\":{\"field\":\"color\"},\"height\":{\"field\":\"height\",\"units\":\"data\"},\"line_color\":{\"field\":\"line_color\"},\"width\":{\"field\":\"width\",\"units\":\"data\"},\"x\":{\"field\":\"x\"},\"y\":{\"field\":\"y\"}},\"id\":\"15035cdb-3924-43af-83e5-1235dec21592\",\"type\":\"Rect\"},{\"attributes\":{\"callback\":null,\"column_names\":[\"x0s\",\"y0s\",\"x1s\",\"y1s\"],\"data\":{\"chart_index\":[{\"country_name\":\"England\"},{\"country_name\":\"England\"},{\"country_name\":\"England\"},{\"country_name\":\"England\"}],\"country_name\":[\"England\",\"England\",\"England\",\"England\"],\"x0s\":[\"England:0.5\",\"England:0.65\",\"England:0.5\",\"England:0.65\"],\"x1s\":[\"England:0.5\",\"England:0.35\",\"England:0.5\",\"England:0.35\"],\"y0s\":[1.0,1.0,1.0,1.0],\"y1s\":[1.0,1.0,1.0,1.0]}},\"id\":\"e38cae95-6887-414a-8fbe-d25b46a4b39e\",\"type\":\"ColumnDataSource\"},{\"attributes\":{\"data_source\":{\"id\":\"4e3c6477-2f40-4236-97b1-9e760a59e3ec\",\"type\":\"ColumnDataSource\"},\"glyph\":{\"id\":\"875db077-2d1f-4e4c-babf-8e71fe381cee\",\"type\":\"Segment\"},\"hover_glyph\":null,\"nonselection_glyph\":null,\"selection_glyph\":null},\"id\":\"40203ce7-c86f-4542-82fc-353c18676f80\",\"type\":\"GlyphRenderer\"},{\"attributes\":{\"bottom_units\":\"screen\",\"fill_alpha\":{\"value\":0.5},\"fill_color\":{\"value\":\"lightgrey\"},\"left_units\":\"screen\",\"level\":\"overlay\",\"line_alpha\":{\"value\":1.0},\"line_color\":{\"value\":\"black\"},\"line_dash\":[4,4],\"line_width\":{\"value\":2},\"plot\":null,\"render_mode\":\"css\",\"right_units\":\"screen\",\"top_units\":\"screen\"},\"id\":\"60ace50b-6365-4bbd-9ce9-915f5d2185e9\",\"type\":\"BoxAnnotation\"},{\"attributes\":{\"data_source\":{\"id\":\"f6a5863d-c8c9-4a05-ab3c-4ea93c1db929\",\"type\":\"ColumnDataSource\"},\"glyph\":{\"id\":\"f43b2ab6-304a-4c84-b1f6-029a7676419c\",\"type\":\"Segment\"},\"hover_glyph\":null,\"nonselection_glyph\":null,\"selection_glyph\":null},\"id\":\"6d6c4447-ad4e-41ae-b217-0737703358f1\",\"type\":\"GlyphRenderer\"},{\"attributes\":{\"fill_alpha\":{\"field\":\"fill_alpha\"},\"fill_color\":{\"field\":\"color\"},\"height\":{\"field\":\"height\",\"units\":\"data\"},\"line_color\":{\"field\":\"line_color\"},\"width\":{\"field\":\"width\",\"units\":\"data\"},\"x\":{\"field\":\"x\"},\"y\":{\"field\":\"y\"}},\"id\":\"cfa685ef-fca9-42db-b8de-3fadd89ef705\",\"type\":\"Rect\"},{\"attributes\":{\"fill_alpha\":{\"field\":\"fill_alpha\"},\"fill_color\":{\"field\":\"color\"},\"height\":{\"field\":\"height\",\"units\":\"data\"},\"line_color\":{\"field\":\"line_color\"},\"width\":{\"field\":\"width\",\"units\":\"data\"},\"x\":{\"field\":\"x\"},\"y\":{\"field\":\"y\"}},\"id\":\"12b8ee00-b8b0-435a-83e4-9c266f07efb2\",\"type\":\"Rect\"},{\"attributes\":{\"callback\":null,\"column_names\":[\"line_color\",\"line_alpha\",\"color\",\"fill_alpha\",\"height\",\"width\",\"y\",\"x\"],\"data\":{\"chart_index\":[{\"country_name\":\"Uganda\"}],\"color\":[\"DimGrey\"],\"country_name\":[\"Uganda\"],\"fill_alpha\":[0.8],\"height\":[5.0],\"line_alpha\":[1.0],\"line_color\":[\"black\"],\"width\":[0.8],\"x\":[\"Uganda\"],\"y\":[8.5]}},\"id\":\"f4412460-c4ae-46db-813d-b3bea75eef09\",\"type\":\"ColumnDataSource\"},{\"attributes\":{\"callback\":null,\"end\":381.675},\"id\":\"45bda340-0ac4-485d-9459-a8a21394a39f\",\"type\":\"Range1d\"},{\"attributes\":{\"data_source\":{\"id\":\"ef1ad82f-fef2-4787-a8e2-e19bddae4366\",\"type\":\"ColumnDataSource\"},\"glyph\":{\"id\":\"791c2cfa-2f1f-49a8-80b0-ce2eddcaaf2d\",\"type\":\"Rect\"},\"hover_glyph\":null,\"nonselection_glyph\":null,\"selection_glyph\":null},\"id\":\"226a2ded-b4cc-4690-b2e7-30a490bb9430\",\"type\":\"GlyphRenderer\"},{\"attributes\":{\"data_source\":{\"id\":\"084c3d90-7ca9-4a65-91c0-d10db15d30da\",\"type\":\"ColumnDataSource\"},\"glyph\":{\"id\":\"1b87f7d0-1747-4791-b37d-6446462c0d09\",\"type\":\"Rect\"},\"hover_glyph\":null,\"nonselection_glyph\":null,\"selection_glyph\":null},\"id\":\"910ba02b-6e8d-4d89-86b1-eb53a6463089\",\"type\":\"GlyphRenderer\"},{\"attributes\":{\"data_source\":{\"id\":\"39969b35-4e48-4dc0-a904-b7a2a492983d\",\"type\":\"ColumnDataSource\"},\"glyph\":{\"id\":\"8f336ca7-e630-40d3-b0a7-9528e8584e47\",\"type\":\"Rect\"},\"hover_glyph\":null,\"nonselection_glyph\":null,\"selection_glyph\":null},\"id\":\"107a0dcb-3eb2-4c2f-b4e7-40211ecf62ac\",\"type\":\"GlyphRenderer\"},{\"attributes\":{\"overlay\":{\"id\":\"11613b1c-7919-4f5d-a840-00ee7f427cf8\",\"type\":\"BoxAnnotation\"},\"plot\":{\"id\":\"bd3ca643-f5bd-432b-815d-18c8e96bd007\",\"subtype\":\"Chart\",\"type\":\"Plot\"}},\"id\":\"5a73997c-d254-4463-a5e8-1940b7d9fc7a\",\"type\":\"BoxZoomTool\"},{\"attributes\":{\"fill_alpha\":{\"field\":\"fill_alpha\"},\"fill_color\":{\"field\":\"color\"},\"height\":{\"field\":\"height\",\"units\":\"data\"},\"line_color\":{\"field\":\"line_color\"},\"width\":{\"field\":\"width\",\"units\":\"data\"},\"x\":{\"field\":\"x\"},\"y\":{\"field\":\"y\"}},\"id\":\"4ccff099-fd2c-4e4a-9917-c59b854f502a\",\"type\":\"Rect\"},{\"attributes\":{\"data_source\":{\"id\":\"0600d360-b276-4f93-85ac-53324576e4e8\",\"type\":\"ColumnDataSource\"},\"glyph\":{\"id\":\"eac6959a-dba1-44c0-8fad-0fe2def8365a\",\"type\":\"Rect\"},\"hover_glyph\":null,\"nonselection_glyph\":null,\"selection_glyph\":null},\"id\":\"c788eeb6-73f3-4f24-8235-8fa7f59549e0\",\"type\":\"GlyphRenderer\"},{\"attributes\":{\"line_color\":{\"value\":\"#5ab738\"},\"line_width\":{\"value\":2},\"x0\":{\"field\":\"x0s\"},\"x1\":{\"field\":\"x1s\"},\"y0\":{\"field\":\"y0s\"},\"y1\":{\"field\":\"y1s\"}},\"id\":\"74589c92-0d9e-4b0c-874f-159c922e2d35\",\"type\":\"Segment\"},{\"attributes\":{\"data_source\":{\"id\":\"4b971422-4160-4575-8e94-0ffebcd49b72\",\"type\":\"ColumnDataSource\"},\"glyph\":{\"id\":\"cfa685ef-fca9-42db-b8de-3fadd89ef705\",\"type\":\"Rect\"},\"hover_glyph\":null,\"nonselection_glyph\":null,\"selection_glyph\":null},\"id\":\"ff5e84b0-cc7a-42c6-a3ff-ce6a88d3cde1\",\"type\":\"GlyphRenderer\"},{\"attributes\":{\"line_color\":{\"value\":\"#00ad9c\"},\"line_width\":{\"value\":2},\"x0\":{\"field\":\"x0s\"},\"x1\":{\"field\":\"x1s\"},\"y0\":{\"field\":\"y0s\"},\"y1\":{\"field\":\"y1s\"}},\"id\":\"6f3a520a-cfa1-4dda-8e0d-07400605ab64\",\"type\":\"Segment\"},{\"attributes\":{\"fill_alpha\":{\"field\":\"fill_alpha\"},\"fill_color\":{\"field\":\"color\"},\"height\":{\"field\":\"height\",\"units\":\"data\"},\"line_color\":{\"field\":\"line_color\"},\"width\":{\"field\":\"width\",\"units\":\"data\"},\"x\":{\"field\":\"x\"},\"y\":{\"field\":\"y\"}},\"id\":\"dbfb425b-2410-41d3-8980-9e3b96e6f086\",\"type\":\"Rect\"},{\"attributes\":{\"callback\":null,\"column_names\":[\"line_color\",\"line_alpha\",\"color\",\"fill_alpha\",\"height\",\"width\",\"y\",\"x\"],\"data\":{\"chart_index\":[{\"country_name\":\"South Africa\"}],\"color\":[\"DimGrey\"],\"country_name\":[\"South Africa\"],\"fill_alpha\":[0.8],\"height\":[0],\"line_alpha\":[1.0],\"line_color\":[\"black\"],\"width\":[0.8],\"x\":[\"South Africa\"],\"y\":[2.0]}},\"id\":\"084c3d90-7ca9-4a65-91c0-d10db15d30da\",\"type\":\"ColumnDataSource\"},{\"attributes\":{\"callback\":null,\"column_names\":[\"line_color\",\"line_alpha\",\"color\",\"fill_alpha\",\"height\",\"width\",\"y\",\"x\"],\"data\":{\"chart_index\":[{\"country_name\":\"Democratic Republic of the Congo\"}],\"color\":[\"DimGrey\"],\"country_name\":[\"Democratic Republic of the Congo\"],\"fill_alpha\":[0.8],\"height\":[22.0],\"line_alpha\":[1.0],\"line_color\":[\"black\"],\"width\":[0.8],\"x\":[\"Democratic Republic of the Congo\"],\"y\":[46.0]}},\"id\":\"1e49250f-8928-4910-a053-ba876c048362\",\"type\":\"ColumnDataSource\"},{\"attributes\":{\"axis_label\":\"Sum( Proportions Of Outbreaks (%) )\",\"formatter\":{\"id\":\"693225d6-78b7-44bc-9c66-a05b8b998a7f\",\"type\":\"BasicTickFormatter\"},\"plot\":{\"id\":\"bd3ca643-f5bd-432b-815d-18c8e96bd007\",\"subtype\":\"Chart\",\"type\":\"Plot\"},\"ticker\":{\"id\":\"b4a6a765-2967-488d-a849-7e61355ade5c\",\"type\":\"BasicTicker\"}},\"id\":\"5021427a-3055-44b0-ad21-afd4dd16d559\",\"type\":\"LinearAxis\"},{\"attributes\":{\"data_source\":{\"id\":\"46ef4eaf-407c-48f7-9ef5-9d2d8b9a17f5\",\"type\":\"ColumnDataSource\"},\"glyph\":{\"id\":\"a4682482-040a-4397-94bf-94ea4448921e\",\"type\":\"Rect\"},\"hover_glyph\":null,\"nonselection_glyph\":null,\"selection_glyph\":null},\"id\":\"f4301cfd-b339-48c8-968c-73ff40b5701e\",\"type\":\"GlyphRenderer\"},{\"attributes\":{\"plot\":{\"id\":\"7119aaf3-0906-4c09-a963-7a12142acb18\",\"subtype\":\"Chart\",\"type\":\"Plot\"}},\"id\":\"c07b5f4c-91d0-4754-b145-378eb6c37dc2\",\"type\":\"HelpTool\"},{\"attributes\":{\"callback\":null,\"column_names\":[\"line_color\",\"line_alpha\",\"color\",\"fill_alpha\",\"height\",\"width\",\"y\",\"x\"],\"data\":{\"chart_index\":[{\"index\":\"South Africa\"}],\"color\":[\"navy\"],\"fill_alpha\":[0.8],\"height\":[3.0303030303030303],\"index\":[\"South Africa\"],\"line_alpha\":[1.0],\"line_color\":[\"white\"],\"width\":[0.8],\"x\":[\"South Africa\"],\"y\":[1.5151515151515151]}},\"id\":\"ddf532e3-f1d8-46c0-9709-b92f68f09884\",\"type\":\"ColumnDataSource\"},{\"attributes\":{\"fill_alpha\":{\"field\":\"fill_alpha\"},\"fill_color\":{\"field\":\"color\"},\"height\":{\"field\":\"height\",\"units\":\"data\"},\"line_color\":{\"field\":\"line_color\"},\"width\":{\"field\":\"width\",\"units\":\"data\"},\"x\":{\"field\":\"x\"},\"y\":{\"field\":\"y\"}},\"id\":\"dc40bcd6-eef5-404e-ba90-55a707778f1c\",\"type\":\"Rect\"},{\"attributes\":{\"fill_alpha\":{\"field\":\"fill_alpha\"},\"fill_color\":{\"field\":\"color\"},\"height\":{\"field\":\"height\",\"units\":\"data\"},\"line_color\":{\"field\":\"line_color\"},\"width\":{\"field\":\"width\",\"units\":\"data\"},\"x\":{\"field\":\"x\"},\"y\":{\"field\":\"y\"}},\"id\":\"3c04497c-9c5e-403e-ae46-a4e5309d982f\",\"type\":\"Rect\"},{\"attributes\":{\"callback\":null,\"column_names\":[\"line_color\",\"line_alpha\",\"color\",\"fill_alpha\",\"height\",\"width\",\"y\",\"x\"],\"data\":{\"chart_index\":[{\"index\":\"England\"}],\"color\":[\"navy\"],\"fill_alpha\":[0.8],\"height\":[3.0303030303030303],\"index\":[\"England\"],\"line_alpha\":[1.0],\"line_color\":[\"white\"],\"width\":[0.8],\"x\":[\"England\"],\"y\":[1.5151515151515151]}},\"id\":\"bd6485d4-36b8-492c-911a-241bef8682b3\",\"type\":\"ColumnDataSource\"},{\"attributes\":{\"callback\":null,\"column_names\":[\"line_color\",\"line_alpha\",\"color\",\"fill_alpha\",\"height\",\"width\",\"y\",\"x\"],\"data\":{\"chart_index\":[{\"index\":\"Philippines\"}],\"color\":[\"navy\"],\"fill_alpha\":[0.8],\"height\":[9.090909090909092],\"index\":[\"Philippines\"],\"line_alpha\":[1.0],\"line_color\":[\"white\"],\"width\":[0.8],\"x\":[\"Philippines\"],\"y\":[4.545454545454546]}},\"id\":\"22877ff7-eee5-4368-a59b-1f50dcea4331\",\"type\":\"ColumnDataSource\"},{\"attributes\":{\"fill_alpha\":{\"field\":\"fill_alpha\"},\"fill_color\":{\"field\":\"color\"},\"height\":{\"field\":\"height\",\"units\":\"data\"},\"line_color\":{\"field\":\"line_color\"},\"width\":{\"field\":\"width\",\"units\":\"data\"},\"x\":{\"field\":\"x\"},\"y\":{\"field\":\"y\"}},\"id\":\"8096eb6d-08ac-4134-9eea-78b3d1343652\",\"type\":\"Rect\"},{\"attributes\":{},\"id\":\"a32a6559-8325-4c90-80bd-205feae15856\",\"type\":\"CategoricalTickFormatter\"},{\"attributes\":{},\"id\":\"b4a6a765-2967-488d-a849-7e61355ade5c\",\"type\":\"BasicTicker\"},{\"attributes\":{\"fill_alpha\":{\"field\":\"fill_alpha\"},\"fill_color\":{\"field\":\"color\"},\"height\":{\"field\":\"height\",\"units\":\"data\"},\"line_color\":{\"field\":\"line_color\"},\"width\":{\"field\":\"width\",\"units\":\"data\"},\"x\":{\"field\":\"x\"},\"y\":{\"field\":\"y\"}},\"id\":\"791c2cfa-2f1f-49a8-80b0-ce2eddcaaf2d\",\"type\":\"Rect\"},{\"attributes\":{\"callback\":null,\"column_names\":[\"line_color\",\"line_alpha\",\"color\",\"fill_alpha\",\"height\",\"width\",\"y\",\"x\"],\"data\":{\"chart_index\":[{\"index\":\"Uganda\"}],\"color\":[\"navy\"],\"fill_alpha\":[0.8],\"height\":[15.151515151515152],\"index\":[\"Uganda\"],\"line_alpha\":[1.0],\"line_color\":[\"white\"],\"width\":[0.8],\"x\":[\"Uganda\"],\"y\":[7.575757575757576]}},\"id\":\"bb4a22f6-558e-4c25-ab34-fbec92040228\",\"type\":\"ColumnDataSource\"},{\"attributes\":{\"plot\":{\"id\":\"bd3ca643-f5bd-432b-815d-18c8e96bd007\",\"subtype\":\"Chart\",\"type\":\"Plot\"}},\"id\":\"5981c6d7-95be-4837-bad0-db7a0a901fea\",\"type\":\"PanTool\"},{\"attributes\":{},\"id\":\"10d2029a-c71e-4aa6-99f9-a291a28c104f\",\"type\":\"BasicTickFormatter\"},{\"attributes\":{\"fill_alpha\":{\"field\":\"fill_alpha\"},\"fill_color\":{\"field\":\"color\"},\"height\":{\"field\":\"height\",\"units\":\"data\"},\"line_color\":{\"field\":\"line_color\"},\"width\":{\"field\":\"width\",\"units\":\"data\"},\"x\":{\"field\":\"x\"},\"y\":{\"field\":\"y\"}},\"id\":\"b8e629de-cc15-4467-9642-250b95568ffa\",\"type\":\"Rect\"},{\"attributes\":{\"callback\":null,\"column_names\":[\"line_color\",\"line_alpha\",\"color\",\"fill_alpha\",\"height\",\"width\",\"y\",\"x\"],\"data\":{\"chart_index\":[{\"country_name\":\"Philippines\"}],\"color\":[\"DimGrey\"],\"country_name\":[\"Philippines\"],\"fill_alpha\":[0.8],\"height\":[1.5],\"line_alpha\":[1.0],\"line_color\":[\"black\"],\"width\":[0.8],\"x\":[\"Philippines\"],\"y\":[3.75]}},\"id\":\"46ef4eaf-407c-48f7-9ef5-9d2d8b9a17f5\",\"type\":\"ColumnDataSource\"},{\"attributes\":{\"callback\":null,\"column_names\":[\"x0s\",\"y0s\",\"x1s\",\"y1s\"],\"data\":{\"chart_index\":[{\"country_name\":\"South Africa\"},{\"country_name\":\"South Africa\"},{\"country_name\":\"South Africa\"},{\"country_name\":\"South Africa\"}],\"country_name\":[\"South Africa\",\"South Africa\",\"South Africa\",\"South Africa\"],\"x0s\":[\"South Africa:0.5\",\"South Africa:0.65\",\"South Africa:0.5\",\"South Africa:0.65\"],\"x1s\":[\"South Africa:0.5\",\"South Africa:0.35\",\"South Africa:0.5\",\"South Africa:0.35\"],\"y0s\":[2.0,2.0,2.0,2.0],\"y1s\":[2.0,2.0,2.0,2.0]}},\"id\":\"b3181d90-e8e4-48d9-899b-19894d81daf0\",\"type\":\"ColumnDataSource\"},{\"attributes\":{\"data_source\":{\"id\":\"e38cae95-6887-414a-8fbe-d25b46a4b39e\",\"type\":\"ColumnDataSource\"},\"glyph\":{\"id\":\"a5acc3df-d55c-4f82-a674-5a3d3fd9610f\",\"type\":\"Segment\"},\"hover_glyph\":null,\"nonselection_glyph\":null,\"selection_glyph\":null},\"id\":\"2a86e8a1-47d2-451d-8bb3-ea480bd098fa\",\"type\":\"GlyphRenderer\"}],\"root_ids\":[\"bd3ca643-f5bd-432b-815d-18c8e96bd007\",\"7119aaf3-0906-4c09-a963-7a12142acb18\"]},\"title\":\"Bokeh Application\",\"version\":\"0.11.1\"}};\n",
       "            var render_items = [{\"docid\":\"ccecb6ee-0031-4c7e-b7ae-ed2012128b68\",\"elementid\":\"8f70869f-1e0f-45be-b273-0462d8e8c97a\",\"modelid\":\"7119aaf3-0906-4c09-a963-7a12142acb18\",\"notebook_comms_target\":\"6729fa70-19a9-4a5e-98bb-895ef9b3e684\"}];\n",
       "            \n",
       "            Bokeh.embed.embed_items(docs_json, render_items);\n",
       "        });\n",
       "      },\n",
       "      function(Bokeh) {\n",
       "      }\n",
       "    ];\n",
       "  \n",
       "    function run_inline_js() {\n",
       "      for (var i = 0; i < inline_js.length; i++) {\n",
       "        inline_js[i](window.Bokeh);\n",
       "      }\n",
       "    }\n",
       "  \n",
       "    if (window._bokeh_is_loading === 0) {\n",
       "      console.log(\"Bokeh: BokehJS loaded, going straight to plotting\");\n",
       "      run_inline_js();\n",
       "    } else {\n",
       "      load_libs(js_urls, function() {\n",
       "        console.log(\"Bokeh: BokehJS plotting callback run at\", now());\n",
       "        run_inline_js();\n",
       "      });\n",
       "    }\n",
       "  }(this));\n",
       "</script>"
      ]
     },
     "metadata": {},
     "output_type": "display_data"
    },
    {
     "data": {
      "text/html": [
       "<p><code>&lt;Bokeh Notebook handle for <strong>In[9]</strong>&gt;</code></p>"
      ],
      "text/plain": [
       "<bokeh.io._CommsHandle at 0x7ff1da11da10>"
      ]
     },
     "execution_count": 9,
     "metadata": {},
     "output_type": "execute_result"
    }
   ],
   "source": [
    "box_ev = BoxPlot(df_ebola_victims, values=\"reported_number_of_human_cases\",\n",
    "                 label='country_name', title=\"Number of ebola victims per country\",\n",
    "                 outliers=False, whisker_color='country_name')\n",
    "\n",
    "output_notebook()\n",
    "output_file(\"victims.html\", title=\"Number of ebola victims per country\")\n",
    "\n",
    "show(box_ev)"
   ]
  },
  {
   "cell_type": "code",
   "execution_count": 11,
   "metadata": {
    "collapsed": false
   },
   "outputs": [
    {
     "data": {
      "text/html": [
       "<div>\n",
       "<table border=\"1\" class=\"dataframe\">\n",
       "  <thead>\n",
       "    <tr style=\"text-align: right;\">\n",
       "      <th></th>\n",
       "      <th>reported_number_of_deaths_among_cases</th>\n",
       "    </tr>\n",
       "    <tr>\n",
       "      <th>country_name</th>\n",
       "      <th></th>\n",
       "    </tr>\n",
       "  </thead>\n",
       "  <tbody>\n",
       "    <tr>\n",
       "      <th>Cote d'Ivoire (Ivory Coast)</th>\n",
       "      <td>0</td>\n",
       "    </tr>\n",
       "    <tr>\n",
       "      <th>Democratic Republic of the Congo</th>\n",
       "      <td>946</td>\n",
       "    </tr>\n",
       "    <tr>\n",
       "      <th>England</th>\n",
       "      <td>0</td>\n",
       "    </tr>\n",
       "    <tr>\n",
       "      <th>Gabon</th>\n",
       "      <td>150</td>\n",
       "    </tr>\n",
       "    <tr>\n",
       "      <th>Italy</th>\n",
       "      <td>0</td>\n",
       "    </tr>\n",
       "    <tr>\n",
       "      <th>Philippines</th>\n",
       "      <td>0</td>\n",
       "    </tr>\n",
       "    <tr>\n",
       "      <th>Russia</th>\n",
       "      <td>2</td>\n",
       "    </tr>\n",
       "    <tr>\n",
       "      <th>South Africa</th>\n",
       "      <td>1</td>\n",
       "    </tr>\n",
       "    <tr>\n",
       "      <th>Sudan (South Sudan)</th>\n",
       "      <td>180</td>\n",
       "    </tr>\n",
       "    <tr>\n",
       "      <th>USA</th>\n",
       "      <td>0</td>\n",
       "    </tr>\n",
       "    <tr>\n",
       "      <th>Uganda</th>\n",
       "      <td>269</td>\n",
       "    </tr>\n",
       "  </tbody>\n",
       "</table>\n",
       "</div>"
      ],
      "text/plain": [
       "                                  reported_number_of_deaths_among_cases\n",
       "country_name                                                           \n",
       "Cote d'Ivoire (Ivory Coast)                                           0\n",
       "Democratic Republic of the Congo                                    946\n",
       "England                                                               0\n",
       "Gabon                                                               150\n",
       "Italy                                                                 0\n",
       "Philippines                                                           0\n",
       "Russia                                                                2\n",
       "South Africa                                                          1\n",
       "Sudan (South Sudan)                                                 180\n",
       "USA                                                                   0\n",
       "Uganda                                                              269"
      ]
     },
     "execution_count": 11,
     "metadata": {},
     "output_type": "execute_result"
    }
   ],
   "source": [
    "ebola_data[[\"country_name\", \"reported_number_of_deaths_among_cases\"]].groupby([\"country_name\"]).sum()"
   ]
  },
  {
   "cell_type": "code",
   "execution_count": 10,
   "metadata": {
    "collapsed": false
   },
   "outputs": [
    {
     "data": {
      "text/html": [
       "\n",
       "    <div class=\"bk-banner\">\n",
       "        <a href=\"http://bokeh.pydata.org\" target=\"_blank\" class=\"bk-logo bk-logo-small bk-logo-notebook\"></a>\n",
       "        <span id=\"93fb11ab-f813-40c2-99f4-8d45769c8ab7\">Loading BokehJS ...</span>\n",
       "    </div>"
      ]
     },
     "metadata": {},
     "output_type": "display_data"
    },
    {
     "data": {
      "application/javascript": [
       "\n",
       "(function(global) {\n",
       "  function now() {\n",
       "    return new Date();\n",
       "  }\n",
       "\n",
       "  if (typeof (window._bokeh_onload_callbacks) === \"undefined\") {\n",
       "    window._bokeh_onload_callbacks = [];\n",
       "  }\n",
       "\n",
       "  function run_callbacks() {\n",
       "    window._bokeh_onload_callbacks.forEach(function(callback) { callback() });\n",
       "    delete window._bokeh_onload_callbacks\n",
       "    console.info(\"Bokeh: all callbacks have finished\");\n",
       "  }\n",
       "\n",
       "  function load_libs(js_urls, callback) {\n",
       "    window._bokeh_onload_callbacks.push(callback);\n",
       "    if (window._bokeh_is_loading > 0) {\n",
       "      console.log(\"Bokeh: BokehJS is being loaded, scheduling callback at\", now());\n",
       "      return null;\n",
       "    }\n",
       "    if (js_urls == null || js_urls.length === 0) {\n",
       "      run_callbacks();\n",
       "      return null;\n",
       "    }\n",
       "    console.log(\"Bokeh: BokehJS not loaded, scheduling load and callback at\", now());\n",
       "    window._bokeh_is_loading = js_urls.length;\n",
       "    for (var i = 0; i < js_urls.length; i++) {\n",
       "      var url = js_urls[i];\n",
       "      var s = document.createElement('script');\n",
       "      s.src = url;\n",
       "      s.async = false;\n",
       "      s.onreadystatechange = s.onload = function() {\n",
       "        window._bokeh_is_loading--;\n",
       "        if (window._bokeh_is_loading === 0) {\n",
       "          console.log(\"Bokeh: all BokehJS libraries loaded\");\n",
       "          run_callbacks()\n",
       "        }\n",
       "      };\n",
       "      s.onerror = function() {\n",
       "        console.warn(\"failed to load library \" + url);\n",
       "      };\n",
       "      console.log(\"Bokeh: injecting script tag for BokehJS library: \", url);\n",
       "      document.getElementsByTagName(\"head\")[0].appendChild(s);\n",
       "    }\n",
       "  };\n",
       "\n",
       "  var js_urls = ['https://cdn.pydata.org/bokeh/release/bokeh-0.11.1.min.js', 'https://cdn.pydata.org/bokeh/release/bokeh-widgets-0.11.1.min.js', 'https://cdn.pydata.org/bokeh/release/bokeh-compiler-0.11.1.min.js'];\n",
       "\n",
       "  var inline_js = [\n",
       "    function(Bokeh) {\n",
       "      Bokeh.set_log_level(\"info\");\n",
       "    },\n",
       "    \n",
       "    function(Bokeh) {\n",
       "      Bokeh.$(\"#93fb11ab-f813-40c2-99f4-8d45769c8ab7\").text(\"BokehJS successfully loaded\");\n",
       "    },\n",
       "    function(Bokeh) {\n",
       "      console.log(\"Bokeh: injecting CSS: https://cdn.pydata.org/bokeh/release/bokeh-0.11.1.min.css\");\n",
       "      Bokeh.embed.inject_css(\"https://cdn.pydata.org/bokeh/release/bokeh-0.11.1.min.css\");\n",
       "      console.log(\"Bokeh: injecting CSS: https://cdn.pydata.org/bokeh/release/bokeh-widgets-0.11.1.min.css\");\n",
       "      Bokeh.embed.inject_css(\"https://cdn.pydata.org/bokeh/release/bokeh-widgets-0.11.1.min.css\");\n",
       "    }\n",
       "  ];\n",
       "\n",
       "  function run_inline_js() {\n",
       "    for (var i = 0; i < inline_js.length; i++) {\n",
       "      inline_js[i](window.Bokeh);\n",
       "    }\n",
       "  }\n",
       "\n",
       "  if (window._bokeh_is_loading === 0) {\n",
       "    console.log(\"Bokeh: BokehJS loaded, going straight to plotting\");\n",
       "    run_inline_js();\n",
       "  } else {\n",
       "    load_libs(js_urls, function() {\n",
       "      console.log(\"Bokeh: BokehJS plotting callback run at\", now());\n",
       "      run_inline_js();\n",
       "    });\n",
       "  }\n",
       "}(this));"
      ]
     },
     "metadata": {},
     "output_type": "display_data"
    },
    {
     "data": {
      "text/html": [
       "\n",
       "\n",
       "    <div class=\"plotdiv\" id=\"f76e68d9-ab7c-4ad8-987a-c5fbb6b75de7\"></div>\n",
       "<script type=\"text/javascript\">\n",
       "  \n",
       "  (function(global) {\n",
       "    function now() {\n",
       "      return new Date();\n",
       "    }\n",
       "  \n",
       "    if (typeof (window._bokeh_onload_callbacks) === \"undefined\") {\n",
       "      window._bokeh_onload_callbacks = [];\n",
       "    }\n",
       "  \n",
       "    function run_callbacks() {\n",
       "      window._bokeh_onload_callbacks.forEach(function(callback) { callback() });\n",
       "      delete window._bokeh_onload_callbacks\n",
       "      console.info(\"Bokeh: all callbacks have finished\");\n",
       "    }\n",
       "  \n",
       "    function load_libs(js_urls, callback) {\n",
       "      window._bokeh_onload_callbacks.push(callback);\n",
       "      if (window._bokeh_is_loading > 0) {\n",
       "        console.log(\"Bokeh: BokehJS is being loaded, scheduling callback at\", now());\n",
       "        return null;\n",
       "      }\n",
       "      if (js_urls == null || js_urls.length === 0) {\n",
       "        run_callbacks();\n",
       "        return null;\n",
       "      }\n",
       "      console.log(\"Bokeh: BokehJS not loaded, scheduling load and callback at\", now());\n",
       "      window._bokeh_is_loading = js_urls.length;\n",
       "      for (var i = 0; i < js_urls.length; i++) {\n",
       "        var url = js_urls[i];\n",
       "        var s = document.createElement('script');\n",
       "        s.src = url;\n",
       "        s.async = false;\n",
       "        s.onreadystatechange = s.onload = function() {\n",
       "          window._bokeh_is_loading--;\n",
       "          if (window._bokeh_is_loading === 0) {\n",
       "            console.log(\"Bokeh: all BokehJS libraries loaded\");\n",
       "            run_callbacks()\n",
       "          }\n",
       "        };\n",
       "        s.onerror = function() {\n",
       "          console.warn(\"failed to load library \" + url);\n",
       "        };\n",
       "        console.log(\"Bokeh: injecting script tag for BokehJS library: \", url);\n",
       "        document.getElementsByTagName(\"head\")[0].appendChild(s);\n",
       "      }\n",
       "    };var element = document.getElementById(\"f76e68d9-ab7c-4ad8-987a-c5fbb6b75de7\");\n",
       "    if (element == null) {\n",
       "      console.log(\"Bokeh: ERROR: autoload.js configured with elementid 'f76e68d9-ab7c-4ad8-987a-c5fbb6b75de7' but no matching script tag was found. \")\n",
       "      return false;\n",
       "    }\n",
       "  \n",
       "    var js_urls = [];\n",
       "  \n",
       "    var inline_js = [\n",
       "      function(Bokeh) {\n",
       "        Bokeh.$(function() {\n",
       "            var docs_json = {\"c6d0e077-489c-4d25-86f0-79da7a31c50e\":{\"roots\":{\"references\":[{\"attributes\":{\"data_source\":{\"id\":\"1e49250f-8928-4910-a053-ba876c048362\",\"type\":\"ColumnDataSource\"},\"glyph\":{\"id\":\"4814dc66-2512-43e8-88a1-2f502bce041f\",\"type\":\"Rect\"},\"hover_glyph\":null,\"nonselection_glyph\":null,\"selection_glyph\":null},\"id\":\"b7eaa2f7-a196-4dce-bead-cc833ef0c929\",\"type\":\"GlyphRenderer\"},{\"attributes\":{\"callback\":null,\"column_names\":[\"x0s\",\"y0s\",\"x1s\",\"y1s\"],\"data\":{\"chart_index\":[{\"country_name\":\"Italy\"},{\"country_name\":\"Italy\"},{\"country_name\":\"Italy\"},{\"country_name\":\"Italy\"}],\"country_name\":[\"Italy\",\"Italy\",\"Italy\",\"Italy\"],\"x0s\":[\"Italy:0.5\",\"Italy:0.65\",\"Italy:0.5\",\"Italy:0.65\"],\"x1s\":[\"Italy:0.5\",\"Italy:0.35\",\"Italy:0.5\",\"Italy:0.35\"],\"y0s\":[0.0,0.0,0.0,0.0],\"y1s\":[0.0,0.0,0.0,0.0]}},\"id\":\"3e70dc86-8205-4a4c-a929-780ee2f21ee3\",\"type\":\"ColumnDataSource\"},{\"attributes\":{\"line_color\":{\"value\":\"#407ee7\"},\"line_width\":{\"value\":2},\"x0\":{\"field\":\"x0s\"},\"x1\":{\"field\":\"x1s\"},\"y0\":{\"field\":\"y0s\"},\"y1\":{\"field\":\"y1s\"}},\"id\":\"7236bfd4-c3db-46d2-b2ec-bff6d65bb888\",\"type\":\"Segment\"},{\"attributes\":{},\"id\":\"6461fb75-261f-4e3c-9f2e-577d25663950\",\"type\":\"ToolEvents\"},{\"attributes\":{\"callback\":null,\"column_names\":[\"line_color\",\"line_alpha\",\"color\",\"fill_alpha\",\"height\",\"width\",\"y\",\"x\"],\"data\":{\"chart_index\":[{\"country_name\":\"Sudan (South Sudan)\"}],\"color\":[\"DimGrey\"],\"country_name\":[\"Sudan (South Sudan)\"],\"fill_alpha\":[0.8],\"height\":[125.0],\"line_alpha\":[1.0],\"line_color\":[\"black\"],\"width\":[0.8],\"x\":[\"Sudan (South Sudan)\"],\"y\":[96.5]}},\"id\":\"444f14a6-bd12-4c4d-b377-8f33518be274\",\"type\":\"ColumnDataSource\"},{\"attributes\":{\"data_source\":{\"id\":\"b3181d90-e8e4-48d9-899b-19894d81daf0\",\"type\":\"ColumnDataSource\"},\"glyph\":{\"id\":\"44d23e5e-43d4-492b-b4f5-7a1c509f8b18\",\"type\":\"Segment\"},\"hover_glyph\":null,\"nonselection_glyph\":null,\"selection_glyph\":null},\"id\":\"3b82e350-299b-478c-bea7-5652172b0531\",\"type\":\"GlyphRenderer\"},{\"attributes\":{\"data_source\":{\"id\":\"214c2994-74dc-4958-98bb-e47c6cd252ac\",\"type\":\"ColumnDataSource\"},\"glyph\":{\"id\":\"dbfb425b-2410-41d3-8980-9e3b96e6f086\",\"type\":\"Rect\"},\"hover_glyph\":null,\"nonselection_glyph\":null,\"selection_glyph\":null},\"id\":\"d7c75d48-31b1-4707-b2fc-5f49ffc4687a\",\"type\":\"GlyphRenderer\"},{\"attributes\":{\"callback\":null,\"column_names\":[\"x0s\",\"y0s\",\"x1s\",\"y1s\"],\"data\":{\"chart_index\":[{\"country_name\":\"Philippines\"},{\"country_name\":\"Philippines\"},{\"country_name\":\"Philippines\"},{\"country_name\":\"Philippines\"}],\"country_name\":[\"Philippines\",\"Philippines\",\"Philippines\",\"Philippines\"],\"x0s\":[\"Philippines:0.5\",\"Philippines:0.65\",\"Philippines:0.5\",\"Philippines:0.65\"],\"x1s\":[\"Philippines:0.5\",\"Philippines:0.35\",\"Philippines:0.5\",\"Philippines:0.35\"],\"y0s\":[0.0,0.0,4.5,6.0],\"y1s\":[1.5,0.0,6.0,6.0]}},\"id\":\"73baa498-3ce7-4d4a-8bc6-c4e7839f9073\",\"type\":\"ColumnDataSource\"},{\"attributes\":{\"data_source\":{\"id\":\"faef9db7-5885-4a62-aa95-fc7a8fef0076\",\"type\":\"ColumnDataSource\"},\"glyph\":{\"id\":\"0d772031-eb92-4bfe-bafe-39fba44979b2\",\"type\":\"Rect\"},\"hover_glyph\":null,\"nonselection_glyph\":null,\"selection_glyph\":null},\"id\":\"e775055f-a046-43a3-86f3-6fa4e7664814\",\"type\":\"GlyphRenderer\"},{\"attributes\":{\"data_source\":{\"id\":\"701c670f-7e93-4697-9751-d401db2047d7\",\"type\":\"ColumnDataSource\"},\"glyph\":{\"id\":\"dc40bcd6-eef5-404e-ba90-55a707778f1c\",\"type\":\"Rect\"},\"hover_glyph\":null,\"nonselection_glyph\":null,\"selection_glyph\":null},\"id\":\"219824f4-b84b-4085-a2c2-50c0ffb8cb15\",\"type\":\"GlyphRenderer\"},{\"attributes\":{\"data_source\":{\"id\":\"da3f857d-2518-4a0b-a5d6-f6ed00d1ce59\",\"type\":\"ColumnDataSource\"},\"glyph\":{\"id\":\"66a943c4-d937-4540-8685-6bf4d8d6412c\",\"type\":\"Rect\"},\"hover_glyph\":null,\"nonselection_glyph\":null,\"selection_glyph\":null},\"id\":\"67cf7415-322b-48bc-9eaa-05ba4ae8e18d\",\"type\":\"GlyphRenderer\"},{\"attributes\":{\"axis_label\":\"Reported_Number_Of_Deaths_Among_Cases\",\"formatter\":{\"id\":\"8e213646-c99f-4aa3-a09c-83d4e7f3f87c\",\"type\":\"BasicTickFormatter\"},\"plot\":{\"id\":\"2bfcafda-0d2e-4073-a3e8-c015b2ba4f80\",\"subtype\":\"Chart\",\"type\":\"Plot\"},\"ticker\":{\"id\":\"8a79a902-a3d8-411d-ad6a-036679718d6a\",\"type\":\"BasicTicker\"}},\"id\":\"f3cbde1d-ff0f-4915-9471-f9a611b9f3b9\",\"type\":\"LinearAxis\"},{\"attributes\":{\"dimension\":1,\"plot\":{\"id\":\"7119aaf3-0906-4c09-a963-7a12142acb18\",\"subtype\":\"Chart\",\"type\":\"Plot\"},\"ticker\":{\"id\":\"deb938b3-d951-4c69-bbc0-0c1502532f71\",\"type\":\"BasicTicker\"}},\"id\":\"8cd73664-ea54-48a1-b0e7-47be63ae2806\",\"type\":\"Grid\"},{\"attributes\":{\"data_source\":{\"id\":\"907fdfb9-4808-4bc8-b78d-d9e0008d0e66\",\"type\":\"ColumnDataSource\"},\"glyph\":{\"id\":\"6ac0f391-748f-4d17-ab04-a1a6ea2d716c\",\"type\":\"Rect\"},\"hover_glyph\":null,\"nonselection_glyph\":null,\"selection_glyph\":null},\"id\":\"6c93941b-e773-46c1-8a7f-d846addef1ec\",\"type\":\"GlyphRenderer\"},{\"attributes\":{\"callback\":null,\"column_names\":[\"line_color\",\"line_alpha\",\"color\",\"fill_alpha\",\"height\",\"width\",\"y\",\"x\"],\"data\":{\"chart_index\":[{\"country_name\":\"Uganda\"}],\"color\":[\"DimGrey\"],\"country_name\":[\"Uganda\"],\"fill_alpha\":[0.8],\"height\":[1.0],\"line_alpha\":[1.0],\"line_color\":[\"black\"],\"width\":[0.8],\"x\":[\"Uganda\"],\"y\":[3.5]}},\"id\":\"4c615dd5-b876-4d6e-9035-9ca4a722bf36\",\"type\":\"ColumnDataSource\"},{\"attributes\":{\"axis_label\":\"Country_Name\",\"formatter\":{\"id\":\"a32a6559-8325-4c90-80bd-205feae15856\",\"type\":\"CategoricalTickFormatter\"},\"major_label_orientation\":0.7853981633974483,\"plot\":{\"id\":\"7119aaf3-0906-4c09-a963-7a12142acb18\",\"subtype\":\"Chart\",\"type\":\"Plot\"},\"ticker\":{\"id\":\"cead3368-eb75-4ab4-8270-7beeea329653\",\"type\":\"CategoricalTicker\"}},\"id\":\"a6630a43-3a3d-4cb7-b431-d30d8ad4d860\",\"type\":\"CategoricalAxis\"},{\"attributes\":{\"callback\":null,\"column_names\":[\"x0s\",\"y0s\",\"x1s\",\"y1s\"],\"data\":{\"chart_index\":[{\"country_name\":\"Democratic Republic of the Congo\"},{\"country_name\":\"Democratic Republic of the Congo\"},{\"country_name\":\"Democratic Republic of the Congo\"},{\"country_name\":\"Democratic Republic of the Congo\"}],\"country_name\":[\"Democratic Republic of the Congo\",\"Democratic Republic of the Congo\",\"Democratic Republic of the Congo\",\"Democratic Republic of the Congo\"],\"x0s\":[\"Democratic Republic of the Congo:0.5\",\"Democratic Republic of the Congo:0.65\",\"Democratic Republic of the Congo:0.5\",\"Democratic Republic of the Congo:0.65\"],\"x1s\":[\"Democratic Republic of the Congo:0.5\",\"Democratic Republic of the Congo:0.35\",\"Democratic Republic of the Congo:0.5\",\"Democratic Republic of the Congo:0.35\"],\"y0s\":[1.0,1.0,264.0,318.0],\"y1s\":[35.0,1.0,318.0,318.0]}},\"id\":\"1b1503cf-93dd-4c65-b2dd-57ee02d1d74d\",\"type\":\"ColumnDataSource\"},{\"attributes\":{\"fill_alpha\":{\"field\":\"fill_alpha\"},\"fill_color\":{\"field\":\"color\"},\"height\":{\"field\":\"height\",\"units\":\"data\"},\"line_color\":{\"field\":\"line_color\"},\"width\":{\"field\":\"width\",\"units\":\"data\"},\"x\":{\"field\":\"x\"},\"y\":{\"field\":\"y\"}},\"id\":\"0023c4e9-815c-49df-810d-1b003ac56592\",\"type\":\"Rect\"},{\"attributes\":{\"below\":[{\"id\":\"77fd8f15-8bfb-4d51-9481-690e3d7b5247\",\"type\":\"CategoricalAxis\"}],\"left\":[{\"id\":\"5021427a-3055-44b0-ad21-afd4dd16d559\",\"type\":\"LinearAxis\"}],\"legend\":null,\"renderers\":[{\"id\":\"11613b1c-7919-4f5d-a840-00ee7f427cf8\",\"type\":\"BoxAnnotation\"},{\"id\":\"5ba7a289-83f7-4c8b-a169-d8c934814579\",\"type\":\"GlyphRenderer\"},{\"id\":\"9b0be4c0-e646-40f2-bee4-5e07c60fc553\",\"type\":\"GlyphRenderer\"},{\"id\":\"219824f4-b84b-4085-a2c2-50c0ffb8cb15\",\"type\":\"GlyphRenderer\"},{\"id\":\"898ecfed-ab9f-4d27-8f89-a5a619a4c268\",\"type\":\"GlyphRenderer\"},{\"id\":\"883ca040-61e0-4206-98d5-3c236bd5e13a\",\"type\":\"GlyphRenderer\"},{\"id\":\"6a2e50ba-1451-4eb6-9d24-6f1cc9ae8da6\",\"type\":\"GlyphRenderer\"},{\"id\":\"f60035ba-98b1-4f74-bdf5-91fe6e7b3532\",\"type\":\"GlyphRenderer\"},{\"id\":\"f2cdab88-73d2-4dd1-9a15-61c9756db70c\",\"type\":\"GlyphRenderer\"},{\"id\":\"800593bf-b013-4395-972a-cc5731811a51\",\"type\":\"GlyphRenderer\"},{\"id\":\"44d7d2c0-5a17-4bf8-96f8-7c42bdc0dc90\",\"type\":\"GlyphRenderer\"},{\"id\":\"00ef402c-cc5c-4331-bd01-083163ecd359\",\"type\":\"GlyphRenderer\"},{\"id\":\"77fd8f15-8bfb-4d51-9481-690e3d7b5247\",\"type\":\"CategoricalAxis\"},{\"id\":\"5021427a-3055-44b0-ad21-afd4dd16d559\",\"type\":\"LinearAxis\"},{\"id\":\"b8464c93-4aef-4030-a087-a990a4980150\",\"type\":\"Grid\"}],\"title\":\"Proportion of ebola outbreaks per country in %\",\"title_text_font_size\":{\"value\":\"14pt\"},\"tool_events\":{\"id\":\"6461fb75-261f-4e3c-9f2e-577d25663950\",\"type\":\"ToolEvents\"},\"tools\":[{\"id\":\"5981c6d7-95be-4837-bad0-db7a0a901fea\",\"type\":\"PanTool\"},{\"id\":\"cfe35ab4-5ac4-422b-88a8-a48ff5b10fde\",\"type\":\"WheelZoomTool\"},{\"id\":\"5a73997c-d254-4463-a5e8-1940b7d9fc7a\",\"type\":\"BoxZoomTool\"},{\"id\":\"b4fd9b90-7188-433e-a3fa-40443e55ec76\",\"type\":\"PreviewSaveTool\"},{\"id\":\"a209d055-ed9f-4bfd-91fd-f307c056746f\",\"type\":\"ResizeTool\"},{\"id\":\"01e1cf3a-36ac-42f1-8da0-660fecdb52be\",\"type\":\"ResetTool\"},{\"id\":\"e7d72907-e54b-40f6-8ac0-6a88a96ce2a4\",\"type\":\"HelpTool\"}],\"x_mapper_type\":\"auto\",\"x_range\":{\"id\":\"8b886773-a787-48f3-87ab-6fcbb3473132\",\"type\":\"FactorRange\"},\"xgrid\":false,\"xscale\":\"auto\",\"y_mapper_type\":\"auto\",\"y_range\":{\"id\":\"bf113675-c9d6-435b-af47-643329d450bd\",\"type\":\"Range1d\"},\"yscale\":\"auto\"},\"id\":\"bd3ca643-f5bd-432b-815d-18c8e96bd007\",\"subtype\":\"Chart\",\"type\":\"Plot\"},{\"attributes\":{\"callback\":null,\"column_names\":[\"line_color\",\"line_alpha\",\"color\",\"fill_alpha\",\"height\",\"width\",\"y\",\"x\"],\"data\":{\"chart_index\":[{\"country_name\":\"Philippines\"}],\"color\":[\"DimGrey\"],\"country_name\":[\"Philippines\"],\"fill_alpha\":[0.8],\"height\":[1.5],\"line_alpha\":[1.0],\"line_color\":[\"black\"],\"width\":[0.8],\"x\":[\"Philippines\"],\"y\":[2.25]}},\"id\":\"214c2994-74dc-4958-98bb-e47c6cd252ac\",\"type\":\"ColumnDataSource\"},{\"attributes\":{\"callback\":null,\"factors\":[\"Cote d'Ivoire (Ivory Coast)\",\"Democratic Republic of the Congo\",\"England\",\"Gabon\",\"Italy\",\"Philippines\",\"Russia\",\"South Africa\",\"Sudan (South Sudan)\",\"USA\",\"Uganda\"]},\"id\":\"8b886773-a787-48f3-87ab-6fcbb3473132\",\"type\":\"FactorRange\"},{\"attributes\":{},\"id\":\"deb938b3-d951-4c69-bbc0-0c1502532f71\",\"type\":\"BasicTicker\"},{\"attributes\":{\"fill_alpha\":{\"field\":\"fill_alpha\"},\"fill_color\":{\"field\":\"color\"},\"height\":{\"field\":\"height\",\"units\":\"data\"},\"line_color\":{\"field\":\"line_color\"},\"width\":{\"field\":\"width\",\"units\":\"data\"},\"x\":{\"field\":\"x\"},\"y\":{\"field\":\"y\"}},\"id\":\"01948ad9-43fc-46f4-8156-f3ee110c3e28\",\"type\":\"Rect\"},{\"attributes\":{\"callback\":null,\"column_names\":[\"x0s\",\"y0s\",\"x1s\",\"y1s\"],\"data\":{\"chart_index\":[{\"country_name\":\"Gabon\"},{\"country_name\":\"Gabon\"},{\"country_name\":\"Gabon\"},{\"country_name\":\"Gabon\"}],\"country_name\":[\"Gabon\",\"Gabon\",\"Gabon\",\"Gabon\"],\"x0s\":[\"Gabon:0.5\",\"Gabon:0.65\",\"Gabon:0.5\",\"Gabon:0.65\"],\"x1s\":[\"Gabon:0.5\",\"Gabon:0.35\",\"Gabon:0.5\",\"Gabon:0.35\"],\"y0s\":[21.0,21.0,47.0,53.0],\"y1s\":[28.5,21.0,53.0,53.0]}},\"id\":\"f163cd36-0279-4910-8033-6e106ed2bae7\",\"type\":\"ColumnDataSource\"},{\"attributes\":{\"fill_alpha\":{\"field\":\"fill_alpha\"},\"fill_color\":{\"field\":\"color\"},\"height\":{\"field\":\"height\",\"units\":\"data\"},\"line_color\":{\"field\":\"line_color\"},\"width\":{\"field\":\"width\",\"units\":\"data\"},\"x\":{\"field\":\"x\"},\"y\":{\"field\":\"y\"}},\"id\":\"40b16fdb-24c5-4f29-80ec-0a23a69bdd85\",\"type\":\"Rect\"},{\"attributes\":{\"callback\":null,\"column_names\":[\"line_color\",\"line_alpha\",\"color\",\"fill_alpha\",\"height\",\"width\",\"y\",\"x\"],\"data\":{\"chart_index\":[{\"country_name\":\"England\"}],\"color\":[\"DimGrey\"],\"country_name\":[\"England\"],\"fill_alpha\":[0.8],\"height\":[0],\"line_alpha\":[1.0],\"line_color\":[\"black\"],\"width\":[0.8],\"x\":[\"England\"],\"y\":[1.0]}},\"id\":\"faef9db7-5885-4a62-aa95-fc7a8fef0076\",\"type\":\"ColumnDataSource\"},{\"attributes\":{\"plot\":{\"id\":\"bd3ca643-f5bd-432b-815d-18c8e96bd007\",\"subtype\":\"Chart\",\"type\":\"Plot\"}},\"id\":\"01e1cf3a-36ac-42f1-8da0-660fecdb52be\",\"type\":\"ResetTool\"},{\"attributes\":{\"fill_alpha\":{\"field\":\"fill_alpha\"},\"fill_color\":{\"field\":\"color\"},\"height\":{\"field\":\"height\",\"units\":\"data\"},\"line_color\":{\"field\":\"line_color\"},\"width\":{\"field\":\"width\",\"units\":\"data\"},\"x\":{\"field\":\"x\"},\"y\":{\"field\":\"y\"}},\"id\":\"e59fa539-74ea-43c6-9eca-bec4296bc901\",\"type\":\"Rect\"},{\"attributes\":{\"data_source\":{\"id\":\"2b6687bd-3b5b-45db-af99-973e1d0d9bc8\",\"type\":\"ColumnDataSource\"},\"glyph\":{\"id\":\"2073c30c-8f15-4783-adff-6f3f2fb1838f\",\"type\":\"Rect\"},\"hover_glyph\":null,\"nonselection_glyph\":null,\"selection_glyph\":null},\"id\":\"f60035ba-98b1-4f74-bdf5-91fe6e7b3532\",\"type\":\"GlyphRenderer\"},{\"attributes\":{\"data_source\":{\"id\":\"84ee8eb9-cded-4cc2-ba16-0d5d726245a9\",\"type\":\"ColumnDataSource\"},\"glyph\":{\"id\":\"ba08b557-8e42-456b-b196-dc47600e1656\",\"type\":\"Rect\"},\"hover_glyph\":null,\"nonselection_glyph\":null,\"selection_glyph\":null},\"id\":\"727f9d32-d03f-446b-a071-debdb8127c47\",\"type\":\"GlyphRenderer\"},{\"attributes\":{\"fill_alpha\":{\"field\":\"fill_alpha\"},\"fill_color\":{\"field\":\"color\"},\"height\":{\"field\":\"height\",\"units\":\"data\"},\"line_color\":{\"field\":\"line_color\"},\"width\":{\"field\":\"width\",\"units\":\"data\"},\"x\":{\"field\":\"x\"},\"y\":{\"field\":\"y\"}},\"id\":\"a4682482-040a-4397-94bf-94ea4448921e\",\"type\":\"Rect\"},{\"attributes\":{\"callback\":null,\"column_names\":[\"line_color\",\"line_alpha\",\"color\",\"fill_alpha\",\"height\",\"width\",\"y\",\"x\"],\"data\":{\"chart_index\":[{\"country_name\":\"Cote d'Ivoire (Ivory Coast)\"}],\"color\":[\"DimGrey\"],\"country_name\":[\"Cote d'Ivoire (Ivory Coast)\"],\"fill_alpha\":[0.8],\"height\":[0.0],\"line_alpha\":[1.0],\"line_color\":[\"black\"],\"width\":[0.8],\"x\":[\"Cote d'Ivoire (Ivory Coast)\"],\"y\":[0.0]}},\"id\":\"1476a0b2-e3f6-4f53-90d0-f15257e3718e\",\"type\":\"ColumnDataSource\"},{\"attributes\":{\"callback\":null,\"column_names\":[\"line_color\",\"line_alpha\",\"color\",\"fill_alpha\",\"height\",\"width\",\"y\",\"x\"],\"data\":{\"chart_index\":[{\"country_name\":\"Democratic Republic of the Congo\"}],\"color\":[\"DimGrey\"],\"country_name\":[\"Democratic Republic of the Congo\"],\"fill_alpha\":[0.8],\"height\":[28.0],\"line_alpha\":[1.0],\"line_color\":[\"black\"],\"width\":[0.8],\"x\":[\"Democratic Republic of the Congo\"],\"y\":[29.0]}},\"id\":\"e5ffb7c4-f883-44ce-8438-7b3641ff8b3d\",\"type\":\"ColumnDataSource\"},{\"attributes\":{\"data_source\":{\"id\":\"6ec5cae2-f662-4934-85f7-08462bd7e104\",\"type\":\"ColumnDataSource\"},\"glyph\":{\"id\":\"44ab60b0-7fd5-4ba9-97a1-18c57f54ad9c\",\"type\":\"Segment\"},\"hover_glyph\":null,\"nonselection_glyph\":null,\"selection_glyph\":null},\"id\":\"9dc46eba-cdf7-4232-a2b3-8bafc9b6796c\",\"type\":\"GlyphRenderer\"},{\"attributes\":{\"data_source\":{\"id\":\"bd6485d4-36b8-492c-911a-241bef8682b3\",\"type\":\"ColumnDataSource\"},\"glyph\":{\"id\":\"8096eb6d-08ac-4134-9eea-78b3d1343652\",\"type\":\"Rect\"},\"hover_glyph\":null,\"nonselection_glyph\":null,\"selection_glyph\":null},\"id\":\"9b0be4c0-e646-40f2-bee4-5e07c60fc553\",\"type\":\"GlyphRenderer\"},{\"attributes\":{\"callback\":null,\"column_names\":[\"x0s\",\"y0s\",\"x1s\",\"y1s\"],\"data\":{\"chart_index\":[{\"country_name\":\"Gabon\"},{\"country_name\":\"Gabon\"},{\"country_name\":\"Gabon\"},{\"country_name\":\"Gabon\"}],\"country_name\":[\"Gabon\",\"Gabon\",\"Gabon\",\"Gabon\"],\"x0s\":[\"Gabon:0.5\",\"Gabon:0.65\",\"Gabon:0.5\",\"Gabon:0.65\"],\"x1s\":[\"Gabon:0.5\",\"Gabon:0.35\",\"Gabon:0.5\",\"Gabon:0.35\"],\"y0s\":[37.0,37.0,61.25,65.0],\"y1s\":[48.25,37.0,65.0,65.0]}},\"id\":\"6ec5cae2-f662-4934-85f7-08462bd7e104\",\"type\":\"ColumnDataSource\"},{\"attributes\":{\"data_source\":{\"id\":\"73baa498-3ce7-4d4a-8bc6-c4e7839f9073\",\"type\":\"ColumnDataSource\"},\"glyph\":{\"id\":\"2e0ff20e-0286-492a-abac-a41388137a40\",\"type\":\"Segment\"},\"hover_glyph\":null,\"nonselection_glyph\":null,\"selection_glyph\":null},\"id\":\"265af2d7-4ce1-475e-82ce-bcf21219cb06\",\"type\":\"GlyphRenderer\"},{\"attributes\":{\"line_color\":{\"value\":\"#5ab738\"},\"line_width\":{\"value\":2},\"x0\":{\"field\":\"x0s\"},\"x1\":{\"field\":\"x1s\"},\"y0\":{\"field\":\"y0s\"},\"y1\":{\"field\":\"y1s\"}},\"id\":\"74589c92-0d9e-4b0c-874f-159c922e2d35\",\"type\":\"Segment\"},{\"attributes\":{\"callback\":null,\"column_names\":[\"x0s\",\"y0s\",\"x1s\",\"y1s\"],\"data\":{\"chart_index\":[{\"country_name\":\"Uganda\"},{\"country_name\":\"Uganda\"},{\"country_name\":\"Uganda\"},{\"country_name\":\"Uganda\"}],\"country_name\":[\"Uganda\",\"Uganda\",\"Uganda\",\"Uganda\"],\"x0s\":[\"Uganda:0.5\",\"Uganda:0.65\",\"Uganda:0.5\",\"Uganda:0.65\"],\"x1s\":[\"Uganda:0.5\",\"Uganda:0.35\",\"Uganda:0.5\",\"Uganda:0.35\"],\"y0s\":[1.0,1.0,37.0,88.0],\"y1s\":[3.0,1.0,88.0,88.0]}},\"id\":\"40d4608e-3c00-4a58-949f-ad2965b9c589\",\"type\":\"ColumnDataSource\"},{\"attributes\":{\"axis_label\":\"Country_Name\",\"formatter\":{\"id\":\"ad59fc4f-288c-4e97-af4b-86bf5c5cf881\",\"type\":\"CategoricalTickFormatter\"},\"major_label_orientation\":0.7853981633974483,\"plot\":{\"id\":\"2bfcafda-0d2e-4073-a3e8-c015b2ba4f80\",\"subtype\":\"Chart\",\"type\":\"Plot\"},\"ticker\":{\"id\":\"70b14fdf-570c-4e95-bd65-f4b7b47b749f\",\"type\":\"CategoricalTicker\"}},\"id\":\"8fb61426-3f03-402b-8c44-5009cc354e4f\",\"type\":\"CategoricalAxis\"},{\"attributes\":{},\"id\":\"8a79a902-a3d8-411d-ad6a-036679718d6a\",\"type\":\"BasicTicker\"},{\"attributes\":{\"line_color\":{\"value\":\"#df5320\"},\"line_width\":{\"value\":2},\"x0\":{\"field\":\"x0s\"},\"x1\":{\"field\":\"x1s\"},\"y0\":{\"field\":\"y0s\"},\"y1\":{\"field\":\"y1s\"}},\"id\":\"8d5cfa34-e600-4728-8edc-b1e6c95a264a\",\"type\":\"Segment\"},{\"attributes\":{\"data_source\":{\"id\":\"e378cc33-a26e-4bd2-a531-09a5df2a81af\",\"type\":\"ColumnDataSource\"},\"glyph\":{\"id\":\"64959594-9800-4451-8643-1cf1f4b8bc9f\",\"type\":\"Segment\"},\"hover_glyph\":null,\"nonselection_glyph\":null,\"selection_glyph\":null},\"id\":\"7fb03910-a14a-4601-ac06-dcd25b0e8e0f\",\"type\":\"GlyphRenderer\"},{\"attributes\":{\"bottom_units\":\"screen\",\"fill_alpha\":{\"value\":0.5},\"fill_color\":{\"value\":\"lightgrey\"},\"left_units\":\"screen\",\"level\":\"overlay\",\"line_alpha\":{\"value\":1.0},\"line_color\":{\"value\":\"black\"},\"line_dash\":[4,4],\"line_width\":{\"value\":2},\"plot\":null,\"render_mode\":\"css\",\"right_units\":\"screen\",\"top_units\":\"screen\"},\"id\":\"98a7590b-1b26-4a4b-8423-db283fa69bfc\",\"type\":\"BoxAnnotation\"},{\"attributes\":{\"callback\":null,\"column_names\":[\"x0s\",\"y0s\",\"x1s\",\"y1s\"],\"data\":{\"chart_index\":[{\"country_name\":\"Sudan (South Sudan)\"},{\"country_name\":\"Sudan (South Sudan)\"},{\"country_name\":\"Sudan (South Sudan)\"},{\"country_name\":\"Sudan (South Sudan)\"}],\"country_name\":[\"Sudan (South Sudan)\",\"Sudan (South Sudan)\",\"Sudan (South Sudan)\",\"Sudan (South Sudan)\"],\"x0s\":[\"Sudan (South Sudan):0.5\",\"Sudan (South Sudan):0.65\",\"Sudan (South Sudan):0.5\",\"Sudan (South Sudan):0.65\"],\"x1s\":[\"Sudan (South Sudan):0.5\",\"Sudan (South Sudan):0.35\",\"Sudan (South Sudan):0.5\",\"Sudan (South Sudan):0.35\"],\"y0s\":[7.0,7.0,86.5,151.0],\"y1s\":[14.5,7.0,151.0,151.0]}},\"id\":\"c6a0f2fb-b625-4316-b7fb-edd9140c16ca\",\"type\":\"ColumnDataSource\"},{\"attributes\":{\"callback\":null,\"column_names\":[\"line_color\",\"line_alpha\",\"color\",\"fill_alpha\",\"height\",\"width\",\"y\",\"x\"],\"data\":{\"chart_index\":[{\"country_name\":\"Gabon\"}],\"color\":[\"DimGrey\"],\"country_name\":[\"Gabon\"],\"fill_alpha\":[0.8],\"height\":[9.0],\"line_alpha\":[1.0],\"line_color\":[\"black\"],\"width\":[0.8],\"x\":[\"Gabon\"],\"y\":[42.5]}},\"id\":\"63308889-f308-4f96-a1a7-a8b8d1e276f5\",\"type\":\"ColumnDataSource\"},{\"attributes\":{\"data_source\":{\"id\":\"4b971422-4160-4575-8e94-0ffebcd49b72\",\"type\":\"ColumnDataSource\"},\"glyph\":{\"id\":\"cfa685ef-fca9-42db-b8de-3fadd89ef705\",\"type\":\"Rect\"},\"hover_glyph\":null,\"nonselection_glyph\":null,\"selection_glyph\":null},\"id\":\"ff5e84b0-cc7a-42c6-a3ff-ce6a88d3cde1\",\"type\":\"GlyphRenderer\"},{\"attributes\":{\"fill_alpha\":{\"field\":\"fill_alpha\"},\"fill_color\":{\"field\":\"color\"},\"height\":{\"field\":\"height\",\"units\":\"data\"},\"line_color\":{\"field\":\"line_color\"},\"width\":{\"field\":\"width\",\"units\":\"data\"},\"x\":{\"field\":\"x\"},\"y\":{\"field\":\"y\"}},\"id\":\"50629793-d191-476f-9e23-acda18c0ae51\",\"type\":\"Rect\"},{\"attributes\":{},\"id\":\"693225d6-78b7-44bc-9c66-a05b8b998a7f\",\"type\":\"BasicTickFormatter\"},{\"attributes\":{\"fill_alpha\":{\"field\":\"fill_alpha\"},\"fill_color\":{\"field\":\"color\"},\"height\":{\"field\":\"height\",\"units\":\"data\"},\"line_color\":{\"field\":\"line_color\"},\"width\":{\"field\":\"width\",\"units\":\"data\"},\"x\":{\"field\":\"x\"},\"y\":{\"field\":\"y\"}},\"id\":\"8f336ca7-e630-40d3-b0a7-9528e8584e47\",\"type\":\"Rect\"},{\"attributes\":{\"fill_alpha\":{\"field\":\"fill_alpha\"},\"fill_color\":{\"field\":\"color\"},\"height\":{\"field\":\"height\",\"units\":\"data\"},\"line_color\":{\"field\":\"line_color\"},\"width\":{\"field\":\"width\",\"units\":\"data\"},\"x\":{\"field\":\"x\"},\"y\":{\"field\":\"y\"}},\"id\":\"ab52d254-1414-4495-92d5-3c8d2810b7f1\",\"type\":\"Rect\"},{\"attributes\":{\"data_source\":{\"id\":\"4b632759-0eb2-48f3-b0fd-918eb4c45d7c\",\"type\":\"ColumnDataSource\"},\"glyph\":{\"id\":\"63d70ffc-5a40-4a2e-8b32-9b88c26449bb\",\"type\":\"Rect\"},\"hover_glyph\":null,\"nonselection_glyph\":null,\"selection_glyph\":null},\"id\":\"fe59f446-f5d4-43fe-9ce0-6224ffd41991\",\"type\":\"GlyphRenderer\"},{\"attributes\":{},\"id\":\"10af0e2d-5856-4cad-b258-41f94ca344eb\",\"type\":\"CategoricalTicker\"},{\"attributes\":{\"below\":[{\"id\":\"a6630a43-3a3d-4cb7-b431-d30d8ad4d860\",\"type\":\"CategoricalAxis\"}],\"left\":[{\"id\":\"346a745b-5704-4b68-b972-bfb9fa58fdd2\",\"type\":\"LinearAxis\"}],\"legend\":null,\"renderers\":[{\"id\":\"60ace50b-6365-4bbd-9ce9-915f5d2185e9\",\"type\":\"BoxAnnotation\"},{\"id\":\"e0344303-d401-4fd8-af37-532583cd9069\",\"type\":\"GlyphRenderer\"},{\"id\":\"4b821d23-3d5e-4359-a209-e10fdb631abd\",\"type\":\"GlyphRenderer\"},{\"id\":\"f2fc0b16-d37c-44ec-b182-e30ce697e10e\",\"type\":\"GlyphRenderer\"},{\"id\":\"d7c75d48-31b1-4707-b2fc-5f49ffc4687a\",\"type\":\"GlyphRenderer\"},{\"id\":\"f4301cfd-b339-48c8-968c-73ff40b5701e\",\"type\":\"GlyphRenderer\"},{\"id\":\"265af2d7-4ce1-475e-82ce-bcf21219cb06\",\"type\":\"GlyphRenderer\"},{\"id\":\"107a0dcb-3eb2-4c2f-b4e7-40211ecf62ac\",\"type\":\"GlyphRenderer\"},{\"id\":\"ff5e84b0-cc7a-42c6-a3ff-ce6a88d3cde1\",\"type\":\"GlyphRenderer\"},{\"id\":\"40203ce7-c86f-4542-82fc-353c18676f80\",\"type\":\"GlyphRenderer\"},{\"id\":\"6128704c-a5f1-4ced-be6d-3179159e0c8c\",\"type\":\"GlyphRenderer\"},{\"id\":\"3bbf26a1-0a87-4c3f-a50f-b437c230d0f3\",\"type\":\"GlyphRenderer\"},{\"id\":\"9dc46eba-cdf7-4232-a2b3-8bafc9b6796c\",\"type\":\"GlyphRenderer\"},{\"id\":\"b7eaa2f7-a196-4dce-bead-cc833ef0c929\",\"type\":\"GlyphRenderer\"},{\"id\":\"727f9d32-d03f-446b-a071-debdb8127c47\",\"type\":\"GlyphRenderer\"},{\"id\":\"01f7b46f-b85f-4f1d-a491-315e875d71f8\",\"type\":\"GlyphRenderer\"},{\"id\":\"17eaa175-2cc6-4060-b28a-d254b12c2066\",\"type\":\"GlyphRenderer\"},{\"id\":\"7d0840ee-3bb4-4706-940c-5a6f68fcdceb\",\"type\":\"GlyphRenderer\"},{\"id\":\"6d6c4447-ad4e-41ae-b217-0737703358f1\",\"type\":\"GlyphRenderer\"},{\"id\":\"67cf7415-322b-48bc-9eaa-05ba4ae8e18d\",\"type\":\"GlyphRenderer\"},{\"id\":\"c788eeb6-73f3-4f24-8235-8fa7f59549e0\",\"type\":\"GlyphRenderer\"},{\"id\":\"5501c78f-ee35-43ef-b129-fa400f10db1c\",\"type\":\"GlyphRenderer\"},{\"id\":\"fe59f446-f5d4-43fe-9ce0-6224ffd41991\",\"type\":\"GlyphRenderer\"},{\"id\":\"910ba02b-6e8d-4d89-86b1-eb53a6463089\",\"type\":\"GlyphRenderer\"},{\"id\":\"3b82e350-299b-478c-bea7-5652172b0531\",\"type\":\"GlyphRenderer\"},{\"id\":\"226a2ded-b4cc-4690-b2e7-30a490bb9430\",\"type\":\"GlyphRenderer\"},{\"id\":\"7c5b59d4-7c74-475f-ab10-23e8451939bd\",\"type\":\"GlyphRenderer\"},{\"id\":\"c8f88bdd-2bf5-41f7-b86e-468286495b98\",\"type\":\"GlyphRenderer\"},{\"id\":\"6c93941b-e773-46c1-8a7f-d846addef1ec\",\"type\":\"GlyphRenderer\"},{\"id\":\"803e23b2-5291-4130-8c2f-021a0e4dd7bb\",\"type\":\"GlyphRenderer\"},{\"id\":\"7fa4c634-c4f1-44e3-88e5-712ea974132d\",\"type\":\"GlyphRenderer\"},{\"id\":\"8b2b5e42-05e0-4d5b-afe6-5c6ec684caa0\",\"type\":\"GlyphRenderer\"},{\"id\":\"e775055f-a046-43a3-86f3-6fa4e7664814\",\"type\":\"GlyphRenderer\"},{\"id\":\"2a86e8a1-47d2-451d-8bb3-ea480bd098fa\",\"type\":\"GlyphRenderer\"},{\"id\":\"a6630a43-3a3d-4cb7-b431-d30d8ad4d860\",\"type\":\"CategoricalAxis\"},{\"id\":\"346a745b-5704-4b68-b972-bfb9fa58fdd2\",\"type\":\"LinearAxis\"},{\"id\":\"8cd73664-ea54-48a1-b0e7-47be63ae2806\",\"type\":\"Grid\"}],\"title\":\"Number of ebola victims per country\",\"title_text_font_size\":{\"value\":\"14pt\"},\"tool_events\":{\"id\":\"13ae0252-6798-43af-ac65-6156522d3ad5\",\"type\":\"ToolEvents\"},\"tools\":[{\"id\":\"422c09b3-8713-4434-b6f7-281efe094c0d\",\"type\":\"PanTool\"},{\"id\":\"bbc14293-2acc-43b9-9d41-7556bfe3af81\",\"type\":\"WheelZoomTool\"},{\"id\":\"3d6def50-8a2c-4b61-813b-b8af4a492fe2\",\"type\":\"BoxZoomTool\"},{\"id\":\"e4b85dd8-def7-4381-8e29-304d8c19dc42\",\"type\":\"PreviewSaveTool\"},{\"id\":\"8a428658-b6b4-4da0-a90c-d0aa5ce61872\",\"type\":\"ResizeTool\"},{\"id\":\"a91700a2-eb83-4b4f-ba7d-c34ce92c1ba1\",\"type\":\"ResetTool\"},{\"id\":\"c07b5f4c-91d0-4754-b145-378eb6c37dc2\",\"type\":\"HelpTool\"}],\"x_mapper_type\":\"auto\",\"x_range\":{\"id\":\"4bb18b3d-d9c7-485f-8eca-3395daa4de85\",\"type\":\"FactorRange\"},\"xgrid\":false,\"xscale\":\"auto\",\"y_mapper_type\":\"auto\",\"y_range\":{\"id\":\"45bda340-0ac4-485d-9459-a8a21394a39f\",\"type\":\"Range1d\"},\"yscale\":\"auto\"},\"id\":\"7119aaf3-0906-4c09-a963-7a12142acb18\",\"subtype\":\"Chart\",\"type\":\"Plot\"},{\"attributes\":{\"data_source\":{\"id\":\"71107b57-9437-4d70-bd0a-c5e37a129597\",\"type\":\"ColumnDataSource\"},\"glyph\":{\"id\":\"6ca51006-2911-4c8c-82e9-af6433a6f501\",\"type\":\"Rect\"},\"hover_glyph\":null,\"nonselection_glyph\":null,\"selection_glyph\":null},\"id\":\"73f17be9-4462-48bf-a84c-ea957f0e281f\",\"type\":\"GlyphRenderer\"},{\"attributes\":{\"fill_alpha\":{\"field\":\"fill_alpha\"},\"fill_color\":{\"field\":\"color\"},\"height\":{\"field\":\"height\",\"units\":\"data\"},\"line_color\":{\"field\":\"line_color\"},\"width\":{\"field\":\"width\",\"units\":\"data\"},\"x\":{\"field\":\"x\"},\"y\":{\"field\":\"y\"}},\"id\":\"739764a3-4f6b-4fd2-9184-5f55584d2566\",\"type\":\"Rect\"},{\"attributes\":{\"data_source\":{\"id\":\"f96e3b15-94f4-4304-a36b-ca3119dce8b4\",\"type\":\"ColumnDataSource\"},\"glyph\":{\"id\":\"e17bc44d-0f4f-42ff-b0f8-aff9da46cf41\",\"type\":\"Rect\"},\"hover_glyph\":null,\"nonselection_glyph\":null,\"selection_glyph\":null},\"id\":\"a7a46c31-ad13-4fad-a23b-8e683c570a8e\",\"type\":\"GlyphRenderer\"},{\"attributes\":{\"callback\":null,\"column_names\":[\"line_color\",\"line_alpha\",\"color\",\"fill_alpha\",\"height\",\"width\",\"y\",\"x\"],\"data\":{\"chart_index\":[{\"country_name\":\"Uganda\"}],\"color\":[\"DimGrey\"],\"country_name\":[\"Uganda\"],\"fill_alpha\":[0.8],\"height\":[138.0],\"line_alpha\":[1.0],\"line_color\":[\"black\"],\"width\":[0.8],\"x\":[\"Uganda\"],\"y\":[80.0]}},\"id\":\"b3a99f24-0634-4074-bc39-5521e2864f7a\",\"type\":\"ColumnDataSource\"},{\"attributes\":{\"data_source\":{\"id\":\"87070862-2761-49de-be1d-f0060ac41c0e\",\"type\":\"ColumnDataSource\"},\"glyph\":{\"id\":\"24ad0e18-daad-4eb4-ab70-1aed8449ac80\",\"type\":\"Rect\"},\"hover_glyph\":null,\"nonselection_glyph\":null,\"selection_glyph\":null},\"id\":\"800593bf-b013-4395-972a-cc5731811a51\",\"type\":\"GlyphRenderer\"},{\"attributes\":{\"fill_alpha\":{\"field\":\"fill_alpha\"},\"fill_color\":{\"field\":\"color\"},\"height\":{\"field\":\"height\",\"units\":\"data\"},\"line_color\":{\"field\":\"line_color\"},\"width\":{\"field\":\"width\",\"units\":\"data\"},\"x\":{\"field\":\"x\"},\"y\":{\"field\":\"y\"}},\"id\":\"50c6bcd6-e504-4469-9bee-431075b5d351\",\"type\":\"Rect\"},{\"attributes\":{\"data_source\":{\"id\":\"1b1503cf-93dd-4c65-b2dd-57ee02d1d74d\",\"type\":\"ColumnDataSource\"},\"glyph\":{\"id\":\"74589c92-0d9e-4b0c-874f-159c922e2d35\",\"type\":\"Segment\"},\"hover_glyph\":null,\"nonselection_glyph\":null,\"selection_glyph\":null},\"id\":\"01f7b46f-b85f-4f1d-a491-315e875d71f8\",\"type\":\"GlyphRenderer\"},{\"attributes\":{\"line_color\":{\"value\":\"#5ab738\"},\"line_width\":{\"value\":2},\"x0\":{\"field\":\"x0s\"},\"x1\":{\"field\":\"x1s\"},\"y0\":{\"field\":\"y0s\"},\"y1\":{\"field\":\"y1s\"}},\"id\":\"44d23e5e-43d4-492b-b4f5-7a1c509f8b18\",\"type\":\"Segment\"},{\"attributes\":{\"callback\":null,\"column_names\":[\"line_color\",\"line_alpha\",\"color\",\"fill_alpha\",\"height\",\"width\",\"y\",\"x\"],\"data\":{\"chart_index\":[{\"country_name\":\"Russia\"}],\"color\":[\"DimGrey\"],\"country_name\":[\"Russia\"],\"fill_alpha\":[0.8],\"height\":[0.0],\"line_alpha\":[1.0],\"line_color\":[\"black\"],\"width\":[0.8],\"x\":[\"Russia\"],\"y\":[1.0]}},\"id\":\"f30dcb79-55de-4ac9-8517-12f282dbb120\",\"type\":\"ColumnDataSource\"},{\"attributes\":{\"data_source\":{\"id\":\"4c2ef98f-5f50-4415-af14-09a8e85dcdee\",\"type\":\"ColumnDataSource\"},\"glyph\":{\"id\":\"6f92c587-051b-458d-9d7a-334786c951d1\",\"type\":\"Rect\"},\"hover_glyph\":null,\"nonselection_glyph\":null,\"selection_glyph\":null},\"id\":\"f8a4d052-59c3-409e-a262-beccc6ef7be5\",\"type\":\"GlyphRenderer\"},{\"attributes\":{\"callback\":null,\"column_names\":[\"line_color\",\"line_alpha\",\"color\",\"fill_alpha\",\"height\",\"width\",\"y\",\"x\"],\"data\":{\"chart_index\":[{\"country_name\":\"South Africa\"}],\"color\":[\"DimGrey\"],\"country_name\":[\"South Africa\"],\"fill_alpha\":[0.8],\"height\":[0],\"line_alpha\":[1.0],\"line_color\":[\"black\"],\"width\":[0.8],\"x\":[\"South Africa\"],\"y\":[1.0]}},\"id\":\"30f8c8af-be28-4a9c-924f-46a7a81a6fde\",\"type\":\"ColumnDataSource\"},{\"attributes\":{\"callback\":null,\"column_names\":[\"line_color\",\"line_alpha\",\"color\",\"fill_alpha\",\"height\",\"width\",\"y\",\"x\"],\"data\":{\"chart_index\":[{\"country_name\":\"South Africa\"}],\"color\":[\"DimGrey\"],\"country_name\":[\"South Africa\"],\"fill_alpha\":[0.8],\"height\":[0],\"line_alpha\":[1.0],\"line_color\":[\"black\"],\"width\":[0.8],\"x\":[\"South Africa\"],\"y\":[2.0]}},\"id\":\"084c3d90-7ca9-4a65-91c0-d10db15d30da\",\"type\":\"ColumnDataSource\"},{\"attributes\":{\"data_source\":{\"id\":\"02f8c07c-f0fc-4f4b-82d8-c75cd8272599\",\"type\":\"ColumnDataSource\"},\"glyph\":{\"id\":\"1b991f5d-3560-47e7-9eef-43013f9e9fc1\",\"type\":\"Rect\"},\"hover_glyph\":null,\"nonselection_glyph\":null,\"selection_glyph\":null},\"id\":\"cee3239b-76ab-410b-a10e-b87459152382\",\"type\":\"GlyphRenderer\"},{\"attributes\":{\"callback\":null,\"column_names\":[\"line_color\",\"line_alpha\",\"color\",\"fill_alpha\",\"height\",\"width\",\"y\",\"x\"],\"data\":{\"chart_index\":[{\"country_name\":\"England\"}],\"color\":[\"DimGrey\"],\"country_name\":[\"England\"],\"fill_alpha\":[0.8],\"height\":[0.0],\"line_alpha\":[1.0],\"line_color\":[\"black\"],\"width\":[0.8],\"x\":[\"England\"],\"y\":[0.0]}},\"id\":\"de35058c-a016-4939-83ea-5fd2603e41cc\",\"type\":\"ColumnDataSource\"},{\"attributes\":{\"data_source\":{\"id\":\"63308889-f308-4f96-a1a7-a8b8d1e276f5\",\"type\":\"ColumnDataSource\"},\"glyph\":{\"id\":\"1ec7fef7-6e5c-433e-b37b-e8de041d59ca\",\"type\":\"Rect\"},\"hover_glyph\":null,\"nonselection_glyph\":null,\"selection_glyph\":null},\"id\":\"8a05e93f-a968-4cee-bb02-16cca6498dc6\",\"type\":\"GlyphRenderer\"},{\"attributes\":{\"callback\":null,\"column_names\":[\"line_color\",\"line_alpha\",\"color\",\"fill_alpha\",\"height\",\"width\",\"y\",\"x\"],\"data\":{\"chart_index\":[{\"country_name\":\"Russia\"}],\"color\":[\"DimGrey\"],\"country_name\":[\"Russia\"],\"fill_alpha\":[0.8],\"height\":[0.0],\"line_alpha\":[1.0],\"line_color\":[\"black\"],\"width\":[0.8],\"x\":[\"Russia\"],\"y\":[1.0]}},\"id\":\"ea78d215-5eda-414e-8d8e-8f480d1a910d\",\"type\":\"ColumnDataSource\"},{\"attributes\":{\"data_source\":{\"id\":\"f4412460-c4ae-46db-813d-b3bea75eef09\",\"type\":\"ColumnDataSource\"},\"glyph\":{\"id\":\"aa2487e4-073b-4e6c-9ab3-1964ad15da47\",\"type\":\"Rect\"},\"hover_glyph\":null,\"nonselection_glyph\":null,\"selection_glyph\":null},\"id\":\"17eaa175-2cc6-4060-b28a-d254b12c2066\",\"type\":\"GlyphRenderer\"},{\"attributes\":{\"fill_alpha\":{\"field\":\"fill_alpha\"},\"fill_color\":{\"field\":\"color\"},\"height\":{\"field\":\"height\",\"units\":\"data\"},\"line_color\":{\"field\":\"line_color\"},\"width\":{\"field\":\"width\",\"units\":\"data\"},\"x\":{\"field\":\"x\"},\"y\":{\"field\":\"y\"}},\"id\":\"95739a26-3e4e-4d4b-9e08-e3d428068b16\",\"type\":\"Rect\"},{\"attributes\":{\"callback\":null,\"column_names\":[\"line_color\",\"line_alpha\",\"color\",\"fill_alpha\",\"height\",\"width\",\"y\",\"x\"],\"data\":{\"chart_index\":[{\"index\":\"Gabon\"}],\"color\":[\"navy\"],\"fill_alpha\":[0.8],\"height\":[12.121212121212121],\"index\":[\"Gabon\"],\"line_alpha\":[1.0],\"line_color\":[\"white\"],\"width\":[0.8],\"x\":[\"Gabon\"],\"y\":[6.0606060606060606]}},\"id\":\"87070862-2761-49de-be1d-f0060ac41c0e\",\"type\":\"ColumnDataSource\"},{\"attributes\":{\"line_color\":{\"value\":\"#f22c40\"},\"line_width\":{\"value\":2},\"x0\":{\"field\":\"x0s\"},\"x1\":{\"field\":\"x1s\"},\"y0\":{\"field\":\"y0s\"},\"y1\":{\"field\":\"y1s\"}},\"id\":\"20aadf21-f890-436d-943d-2498934a175e\",\"type\":\"Segment\"},{\"attributes\":{\"data_source\":{\"id\":\"d2c6a65b-1449-4b56-8140-a440a8e8a8eb\",\"type\":\"ColumnDataSource\"},\"glyph\":{\"id\":\"e77941d6-1919-4790-b5f3-2eece1805896\",\"type\":\"Segment\"},\"hover_glyph\":null,\"nonselection_glyph\":null,\"selection_glyph\":null},\"id\":\"08c2e7ce-5bb1-4e29-a5f2-623f38088ace\",\"type\":\"GlyphRenderer\"},{\"attributes\":{\"fill_alpha\":{\"field\":\"fill_alpha\"},\"fill_color\":{\"field\":\"color\"},\"height\":{\"field\":\"height\",\"units\":\"data\"},\"line_color\":{\"field\":\"line_color\"},\"width\":{\"field\":\"width\",\"units\":\"data\"},\"x\":{\"field\":\"x\"},\"y\":{\"field\":\"y\"}},\"id\":\"ac367b02-4da9-4530-aadc-f340dc15ae4d\",\"type\":\"Rect\"},{\"attributes\":{\"callback\":null,\"column_names\":[\"line_color\",\"line_alpha\",\"color\",\"fill_alpha\",\"height\",\"width\",\"y\",\"x\"],\"data\":{\"chart_index\":[{\"index\":\"Democratic Republic of the Congo\"}],\"color\":[\"navy\"],\"fill_alpha\":[0.8],\"height\":[27.272727272727273],\"index\":[\"Democratic Republic of the Congo\"],\"line_alpha\":[1.0],\"line_color\":[\"white\"],\"width\":[0.8],\"x\":[\"Democratic Republic of the Congo\"],\"y\":[13.636363636363637]}},\"id\":\"d918453b-7101-4486-ab25-00c85a720cfc\",\"type\":\"ColumnDataSource\"},{\"attributes\":{\"callback\":null,\"factors\":[\"Cote d'Ivoire (Ivory Coast)\",\"Democratic Republic of the Congo\",\"England\",\"Gabon\",\"Italy\",\"Philippines\",\"Russia\",\"South Africa\",\"Sudan (South Sudan)\",\"USA\",\"Uganda\"]},\"id\":\"4bb18b3d-d9c7-485f-8eca-3395daa4de85\",\"type\":\"FactorRange\"},{\"attributes\":{\"line_color\":{\"value\":\"#f22c40\"},\"line_width\":{\"value\":2},\"x0\":{\"field\":\"x0s\"},\"x1\":{\"field\":\"x1s\"},\"y0\":{\"field\":\"y0s\"},\"y1\":{\"field\":\"y1s\"}},\"id\":\"bb7271e8-7308-45a6-b456-bc9107f34f5a\",\"type\":\"Segment\"},{\"attributes\":{\"fill_alpha\":{\"field\":\"fill_alpha\"},\"fill_color\":{\"field\":\"color\"},\"height\":{\"field\":\"height\",\"units\":\"data\"},\"line_color\":{\"field\":\"line_color\"},\"width\":{\"field\":\"width\",\"units\":\"data\"},\"x\":{\"field\":\"x\"},\"y\":{\"field\":\"y\"}},\"id\":\"513a5032-9c83-40f4-9928-c09c835bceaf\",\"type\":\"Rect\"},{\"attributes\":{\"line_color\":{\"value\":\"#f22c40\"},\"line_width\":{\"value\":2},\"x0\":{\"field\":\"x0s\"},\"x1\":{\"field\":\"x1s\"},\"y0\":{\"field\":\"y0s\"},\"y1\":{\"field\":\"y1s\"}},\"id\":\"5293b4f5-dfae-47f9-b0ba-dee0f2cf756e\",\"type\":\"Segment\"},{\"attributes\":{\"data_source\":{\"id\":\"1476a0b2-e3f6-4f53-90d0-f15257e3718e\",\"type\":\"ColumnDataSource\"},\"glyph\":{\"id\":\"739764a3-4f6b-4fd2-9184-5f55584d2566\",\"type\":\"Rect\"},\"hover_glyph\":null,\"nonselection_glyph\":null,\"selection_glyph\":null},\"id\":\"8d9b7788-0a80-4385-9319-8270e97fffe3\",\"type\":\"GlyphRenderer\"},{\"attributes\":{\"data_source\":{\"id\":\"ddf532e3-f1d8-46c0-9709-b92f68f09884\",\"type\":\"ColumnDataSource\"},\"glyph\":{\"id\":\"12b8ee00-b8b0-435a-83e4-9c266f07efb2\",\"type\":\"Rect\"},\"hover_glyph\":null,\"nonselection_glyph\":null,\"selection_glyph\":null},\"id\":\"898ecfed-ab9f-4d27-8f89-a5a619a4c268\",\"type\":\"GlyphRenderer\"},{\"attributes\":{\"callback\":null,\"column_names\":[\"x0s\",\"y0s\",\"x1s\",\"y1s\"],\"data\":{\"chart_index\":[{\"country_name\":\"England\"},{\"country_name\":\"England\"},{\"country_name\":\"England\"},{\"country_name\":\"England\"}],\"country_name\":[\"England\",\"England\",\"England\",\"England\"],\"x0s\":[\"England:0.5\",\"England:0.65\",\"England:0.5\",\"England:0.65\"],\"x1s\":[\"England:0.5\",\"England:0.35\",\"England:0.5\",\"England:0.35\"],\"y0s\":[1.0,1.0,1.0,1.0],\"y1s\":[1.0,1.0,1.0,1.0]}},\"id\":\"e38cae95-6887-414a-8fbe-d25b46a4b39e\",\"type\":\"ColumnDataSource\"},{\"attributes\":{\"callback\":null,\"column_names\":[\"line_color\",\"line_alpha\",\"color\",\"fill_alpha\",\"height\",\"width\",\"y\",\"x\"],\"data\":{\"chart_index\":[{\"index\":\"Italy\"}],\"color\":[\"navy\"],\"fill_alpha\":[0.8],\"height\":[3.0303030303030303],\"index\":[\"Italy\"],\"line_alpha\":[1.0],\"line_color\":[\"white\"],\"width\":[0.8],\"x\":[\"Italy\"],\"y\":[1.5151515151515151]}},\"id\":\"701c670f-7e93-4697-9751-d401db2047d7\",\"type\":\"ColumnDataSource\"},{\"attributes\":{\"data_source\":{\"id\":\"921c0cc8-05ed-45cc-881a-596e8893517b\",\"type\":\"ColumnDataSource\"},\"glyph\":{\"id\":\"ab52d254-1414-4495-92d5-3c8d2810b7f1\",\"type\":\"Rect\"},\"hover_glyph\":null,\"nonselection_glyph\":null,\"selection_glyph\":null},\"id\":\"5ba7a289-83f7-4c8b-a169-d8c934814579\",\"type\":\"GlyphRenderer\"},{\"attributes\":{\"callback\":null,\"column_names\":[\"x0s\",\"y0s\",\"x1s\",\"y1s\"],\"data\":{\"chart_index\":[{\"country_name\":\"Uganda\"},{\"country_name\":\"Uganda\"},{\"country_name\":\"Uganda\"},{\"country_name\":\"Uganda\"}],\"country_name\":[\"Uganda\",\"Uganda\",\"Uganda\",\"Uganda\"],\"x0s\":[\"Uganda:0.5\",\"Uganda:0.65\",\"Uganda:0.5\",\"Uganda:0.65\"],\"x1s\":[\"Uganda:0.5\",\"Uganda:0.35\",\"Uganda:0.5\",\"Uganda:0.35\"],\"y0s\":[1.0,1.0,149.0,363.5],\"y1s\":[6.0,1.0,363.5,363.5]}},\"id\":\"f6a5863d-c8c9-4a05-ab3c-4ea93c1db929\",\"type\":\"ColumnDataSource\"},{\"attributes\":{\"callback\":null,\"column_names\":[\"line_color\",\"line_alpha\",\"color\",\"fill_alpha\",\"height\",\"width\",\"y\",\"x\"],\"data\":{\"chart_index\":[{\"country_name\":\"Cote d'Ivoire (Ivory Coast)\"}],\"color\":[\"DimGrey\"],\"country_name\":[\"Cote d'Ivoire (Ivory Coast)\"],\"fill_alpha\":[0.8],\"height\":[0],\"line_alpha\":[1.0],\"line_color\":[\"black\"],\"width\":[0.8],\"x\":[\"Cote d'Ivoire (Ivory Coast)\"],\"y\":[1.0]}},\"id\":\"907fdfb9-4808-4bc8-b78d-d9e0008d0e66\",\"type\":\"ColumnDataSource\"},{\"attributes\":{\"callback\":null,\"column_names\":[\"x0s\",\"y0s\",\"x1s\",\"y1s\"],\"data\":{\"chart_index\":[{\"country_name\":\"Russia\"},{\"country_name\":\"Russia\"},{\"country_name\":\"Russia\"},{\"country_name\":\"Russia\"}],\"country_name\":[\"Russia\",\"Russia\",\"Russia\",\"Russia\"],\"x0s\":[\"Russia:0.5\",\"Russia:0.65\",\"Russia:0.5\",\"Russia:0.65\"],\"x1s\":[\"Russia:0.5\",\"Russia:0.35\",\"Russia:0.5\",\"Russia:0.35\"],\"y0s\":[1.0,1.0,1.0,1.0],\"y1s\":[1.0,1.0,1.0,1.0]}},\"id\":\"a41f81a8-2249-4367-b469-fcd14aa04177\",\"type\":\"ColumnDataSource\"},{\"attributes\":{\"data_source\":{\"id\":\"fa5b7cff-02cb-4df8-ae76-2432bf9118a4\",\"type\":\"ColumnDataSource\"},\"glyph\":{\"id\":\"38571e46-bd27-4e15-a511-c0eeed39903a\",\"type\":\"Rect\"},\"hover_glyph\":null,\"nonselection_glyph\":null,\"selection_glyph\":null},\"id\":\"3bbf26a1-0a87-4c3f-a50f-b437c230d0f3\",\"type\":\"GlyphRenderer\"},{\"attributes\":{\"data_source\":{\"id\":\"d1e8923a-287e-4ca5-9ab9-1e29fc814372\",\"type\":\"ColumnDataSource\"},\"glyph\":{\"id\":\"50629793-d191-476f-9e23-acda18c0ae51\",\"type\":\"Rect\"},\"hover_glyph\":null,\"nonselection_glyph\":null,\"selection_glyph\":null},\"id\":\"ea22d67d-7bbc-4c8a-b414-62c8344635c2\",\"type\":\"GlyphRenderer\"},{\"attributes\":{},\"id\":\"13ae0252-6798-43af-ac65-6156522d3ad5\",\"type\":\"ToolEvents\"},{\"attributes\":{\"callback\":null,\"column_names\":[\"line_color\",\"line_alpha\",\"color\",\"fill_alpha\",\"height\",\"width\",\"y\",\"x\"],\"data\":{\"chart_index\":[{\"country_name\":\"USA\"}],\"color\":[\"DimGrey\"],\"country_name\":[\"USA\"],\"fill_alpha\":[0.8],\"height\":[2.0],\"line_alpha\":[1.0],\"line_color\":[\"black\"],\"width\":[0.8],\"x\":[\"USA\"],\"y\":[1.0]}},\"id\":\"4b971422-4160-4575-8e94-0ffebcd49b72\",\"type\":\"ColumnDataSource\"},{\"attributes\":{\"data_source\":{\"id\":\"444f14a6-bd12-4c4d-b377-8f33518be274\",\"type\":\"ColumnDataSource\"},\"glyph\":{\"id\":\"40b16fdb-24c5-4f29-80ec-0a23a69bdd85\",\"type\":\"Rect\"},\"hover_glyph\":null,\"nonselection_glyph\":null,\"selection_glyph\":null},\"id\":\"7c5b59d4-7c74-475f-ab10-23e8451939bd\",\"type\":\"GlyphRenderer\"},{\"attributes\":{\"fill_alpha\":{\"field\":\"fill_alpha\"},\"fill_color\":{\"field\":\"color\"},\"height\":{\"field\":\"height\",\"units\":\"data\"},\"line_color\":{\"field\":\"line_color\"},\"width\":{\"field\":\"width\",\"units\":\"data\"},\"x\":{\"field\":\"x\"},\"y\":{\"field\":\"y\"}},\"id\":\"3610b6e6-f7f9-4f03-acbc-536d6664b271\",\"type\":\"Rect\"},{\"attributes\":{\"callback\":null,\"column_names\":[\"line_color\",\"line_alpha\",\"color\",\"fill_alpha\",\"height\",\"width\",\"y\",\"x\"],\"data\":{\"chart_index\":[{\"country_name\":\"Democratic Republic of the Congo\"}],\"color\":[\"DimGrey\"],\"country_name\":[\"Democratic Republic of the Congo\"],\"fill_alpha\":[0.8],\"height\":[207.0],\"line_alpha\":[1.0],\"line_color\":[\"black\"],\"width\":[0.8],\"x\":[\"Democratic Republic of the Congo\"],\"y\":[160.5]}},\"id\":\"84ee8eb9-cded-4cc2-ba16-0d5d726245a9\",\"type\":\"ColumnDataSource\"},{\"attributes\":{},\"id\":\"4845f74a-0fc7-4bee-afa5-8c42c15ad58f\",\"type\":\"CategoricalTickFormatter\"},{\"attributes\":{\"axis_label\":\"Reported_Number_Of_Human_Cases\",\"formatter\":{\"id\":\"10d2029a-c71e-4aa6-99f9-a291a28c104f\",\"type\":\"BasicTickFormatter\"},\"plot\":{\"id\":\"7119aaf3-0906-4c09-a963-7a12142acb18\",\"subtype\":\"Chart\",\"type\":\"Plot\"},\"ticker\":{\"id\":\"deb938b3-d951-4c69-bbc0-0c1502532f71\",\"type\":\"BasicTicker\"}},\"id\":\"346a745b-5704-4b68-b972-bfb9fa58fdd2\",\"type\":\"LinearAxis\"},{\"attributes\":{\"callback\":null,\"column_names\":[\"line_color\",\"line_alpha\",\"color\",\"fill_alpha\",\"height\",\"width\",\"y\",\"x\"],\"data\":{\"chart_index\":[{\"country_name\":\"Sudan (South Sudan)\"}],\"color\":[\"DimGrey\"],\"country_name\":[\"Sudan (South Sudan)\"],\"fill_alpha\":[0.8],\"height\":[7.5],\"line_alpha\":[1.0],\"line_color\":[\"black\"],\"width\":[0.8],\"x\":[\"Sudan (South Sudan)\"],\"y\":[18.25]}},\"id\":\"9c630196-d643-4e1b-ab29-ea5063e685cd\",\"type\":\"ColumnDataSource\"},{\"attributes\":{\"plot\":{\"id\":\"7119aaf3-0906-4c09-a963-7a12142acb18\",\"subtype\":\"Chart\",\"type\":\"Plot\"}},\"id\":\"e4b85dd8-def7-4381-8e29-304d8c19dc42\",\"type\":\"PreviewSaveTool\"},{\"attributes\":{\"data_source\":{\"id\":\"160829f0-b1cd-40a2-90cb-213a0ea54848\",\"type\":\"ColumnDataSource\"},\"glyph\":{\"id\":\"7236bfd4-c3db-46d2-b2ec-bff6d65bb888\",\"type\":\"Segment\"},\"hover_glyph\":null,\"nonselection_glyph\":null,\"selection_glyph\":null},\"id\":\"f73eef9d-6ed0-4fb2-bb89-6a2ac42c6467\",\"type\":\"GlyphRenderer\"},{\"attributes\":{\"callback\":null,\"column_names\":[\"line_color\",\"line_alpha\",\"color\",\"fill_alpha\",\"height\",\"width\",\"y\",\"x\"],\"data\":{\"chart_index\":[{\"country_name\":\"USA\"}],\"color\":[\"DimGrey\"],\"country_name\":[\"USA\"],\"fill_alpha\":[0.8],\"height\":[0.0],\"line_alpha\":[1.0],\"line_color\":[\"black\"],\"width\":[0.8],\"x\":[\"USA\"],\"y\":[0.0]}},\"id\":\"897bcaea-2b6a-4885-b9e1-34bd66f14bb6\",\"type\":\"ColumnDataSource\"},{\"attributes\":{\"data_source\":{\"id\":\"e5ffb7c4-f883-44ce-8438-7b3641ff8b3d\",\"type\":\"ColumnDataSource\"},\"glyph\":{\"id\":\"95739a26-3e4e-4d4b-9e08-e3d428068b16\",\"type\":\"Rect\"},\"hover_glyph\":null,\"nonselection_glyph\":null,\"selection_glyph\":null},\"id\":\"e7a0886e-751b-41c5-b7e5-c038b3213df4\",\"type\":\"GlyphRenderer\"},{\"attributes\":{\"data_source\":{\"id\":\"ea78d215-5eda-414e-8d8e-8f480d1a910d\",\"type\":\"ColumnDataSource\"},\"glyph\":{\"id\":\"15035cdb-3924-43af-83e5-1235dec21592\",\"type\":\"Rect\"},\"hover_glyph\":null,\"nonselection_glyph\":null,\"selection_glyph\":null},\"id\":\"4b821d23-3d5e-4359-a209-e10fdb631abd\",\"type\":\"GlyphRenderer\"},{\"attributes\":{\"fill_alpha\":{\"field\":\"fill_alpha\"},\"fill_color\":{\"field\":\"color\"},\"height\":{\"field\":\"height\",\"units\":\"data\"},\"line_color\":{\"field\":\"line_color\"},\"width\":{\"field\":\"width\",\"units\":\"data\"},\"x\":{\"field\":\"x\"},\"y\":{\"field\":\"y\"}},\"id\":\"b4d254d3-c07c-4819-b961-86eeff4f49fc\",\"type\":\"Rect\"},{\"attributes\":{\"callback\":null,\"column_names\":[\"line_color\",\"line_alpha\",\"color\",\"fill_alpha\",\"height\",\"width\",\"y\",\"x\"],\"data\":{\"chart_index\":[{\"country_name\":\"Uganda\"}],\"color\":[\"DimGrey\"],\"country_name\":[\"Uganda\"],\"fill_alpha\":[0.8],\"height\":[33.0],\"line_alpha\":[1.0],\"line_color\":[\"black\"],\"width\":[0.8],\"x\":[\"Uganda\"],\"y\":[20.5]}},\"id\":\"4a1119d7-b9f4-4499-b84a-084364b5e0a7\",\"type\":\"ColumnDataSource\"},{\"attributes\":{\"line_color\":{\"value\":\"#df5320\"},\"line_width\":{\"value\":2},\"x0\":{\"field\":\"x0s\"},\"x1\":{\"field\":\"x1s\"},\"y0\":{\"field\":\"y0s\"},\"y1\":{\"field\":\"y1s\"}},\"id\":\"875db077-2d1f-4e4c-babf-8e71fe381cee\",\"type\":\"Segment\"},{\"attributes\":{\"data_source\":{\"id\":\"22877ff7-eee5-4368-a59b-1f50dcea4331\",\"type\":\"ColumnDataSource\"},\"glyph\":{\"id\":\"0023c4e9-815c-49df-810d-1b003ac56592\",\"type\":\"Rect\"},\"hover_glyph\":null,\"nonselection_glyph\":null,\"selection_glyph\":null},\"id\":\"6a2e50ba-1451-4eb6-9d24-6f1cc9ae8da6\",\"type\":\"GlyphRenderer\"},{\"attributes\":{\"data_source\":{\"id\":\"b3a99f24-0634-4074-bc39-5521e2864f7a\",\"type\":\"ColumnDataSource\"},\"glyph\":{\"id\":\"86f6b540-fa60-4748-933d-c15819cd45da\",\"type\":\"Rect\"},\"hover_glyph\":null,\"nonselection_glyph\":null,\"selection_glyph\":null},\"id\":\"7d0840ee-3bb4-4706-940c-5a6f68fcdceb\",\"type\":\"GlyphRenderer\"},{\"attributes\":{\"data_source\":{\"id\":\"5795aaeb-ff9a-4f0d-b770-f8c4a23f994c\",\"type\":\"ColumnDataSource\"},\"glyph\":{\"id\":\"513a5032-9c83-40f4-9928-c09c835bceaf\",\"type\":\"Rect\"},\"hover_glyph\":null,\"nonselection_glyph\":null,\"selection_glyph\":null},\"id\":\"6128704c-a5f1-4ced-be6d-3179159e0c8c\",\"type\":\"GlyphRenderer\"},{\"attributes\":{\"fill_alpha\":{\"field\":\"fill_alpha\"},\"fill_color\":{\"field\":\"color\"},\"height\":{\"field\":\"height\",\"units\":\"data\"},\"line_color\":{\"field\":\"line_color\"},\"width\":{\"field\":\"width\",\"units\":\"data\"},\"x\":{\"field\":\"x\"},\"y\":{\"field\":\"y\"}},\"id\":\"4814dc66-2512-43e8-88a1-2f502bce041f\",\"type\":\"Rect\"},{\"attributes\":{\"fill_alpha\":{\"field\":\"fill_alpha\"},\"fill_color\":{\"field\":\"color\"},\"height\":{\"field\":\"height\",\"units\":\"data\"},\"line_color\":{\"field\":\"line_color\"},\"width\":{\"field\":\"width\",\"units\":\"data\"},\"x\":{\"field\":\"x\"},\"y\":{\"field\":\"y\"}},\"id\":\"1b991f5d-3560-47e7-9eef-43013f9e9fc1\",\"type\":\"Rect\"},{\"attributes\":{\"fill_alpha\":{\"field\":\"fill_alpha\"},\"fill_color\":{\"field\":\"color\"},\"height\":{\"field\":\"height\",\"units\":\"data\"},\"line_color\":{\"field\":\"line_color\"},\"width\":{\"field\":\"width\",\"units\":\"data\"},\"x\":{\"field\":\"x\"},\"y\":{\"field\":\"y\"}},\"id\":\"bd0f4e3d-079d-4ec7-a9d0-f37b76c5f282\",\"type\":\"Rect\"},{\"attributes\":{\"callback\":null,\"factors\":[\"Cote d'Ivoire (Ivory Coast)\",\"Democratic Republic of the Congo\",\"England\",\"Gabon\",\"Italy\",\"Philippines\",\"Russia\",\"South Africa\",\"Sudan (South Sudan)\",\"USA\",\"Uganda\"]},\"id\":\"e0c0c9c3-1350-4871-9001-4e3d68b9ffab\",\"type\":\"FactorRange\"},{\"attributes\":{\"callback\":null,\"column_names\":[\"x0s\",\"y0s\",\"x1s\",\"y1s\"],\"data\":{\"chart_index\":[{\"country_name\":\"Italy\"},{\"country_name\":\"Italy\"},{\"country_name\":\"Italy\"},{\"country_name\":\"Italy\"}],\"country_name\":[\"Italy\",\"Italy\",\"Italy\",\"Italy\"],\"x0s\":[\"Italy:0.5\",\"Italy:0.65\",\"Italy:0.5\",\"Italy:0.65\"],\"x1s\":[\"Italy:0.5\",\"Italy:0.35\",\"Italy:0.5\",\"Italy:0.35\"],\"y0s\":[0.0,0.0,0.0,0.0],\"y1s\":[0.0,0.0,0.0,0.0]}},\"id\":\"68df41f3-57ee-4659-9e6a-ee164464fa29\",\"type\":\"ColumnDataSource\"},{\"attributes\":{\"line_color\":{\"value\":\"#df5320\"},\"line_width\":{\"value\":2},\"x0\":{\"field\":\"x0s\"},\"x1\":{\"field\":\"x1s\"},\"y0\":{\"field\":\"y0s\"},\"y1\":{\"field\":\"y1s\"}},\"id\":\"44ab60b0-7fd5-4ba9-97a1-18c57f54ad9c\",\"type\":\"Segment\"},{\"attributes\":{\"fill_alpha\":{\"field\":\"fill_alpha\"},\"fill_color\":{\"field\":\"color\"},\"height\":{\"field\":\"height\",\"units\":\"data\"},\"line_color\":{\"field\":\"line_color\"},\"width\":{\"field\":\"width\",\"units\":\"data\"},\"x\":{\"field\":\"x\"},\"y\":{\"field\":\"y\"}},\"id\":\"7be890f0-862d-41da-bdeb-20e7826d5c56\",\"type\":\"Rect\"},{\"attributes\":{\"fill_alpha\":{\"field\":\"fill_alpha\"},\"fill_color\":{\"field\":\"color\"},\"height\":{\"field\":\"height\",\"units\":\"data\"},\"line_color\":{\"field\":\"line_color\"},\"width\":{\"field\":\"width\",\"units\":\"data\"},\"x\":{\"field\":\"x\"},\"y\":{\"field\":\"y\"}},\"id\":\"63d70ffc-5a40-4a2e-8b32-9b88c26449bb\",\"type\":\"Rect\"},{\"attributes\":{\"callback\":null,\"column_names\":[\"line_color\",\"line_alpha\",\"color\",\"fill_alpha\",\"height\",\"width\",\"y\",\"x\"],\"data\":{\"chart_index\":[{\"index\":\"USA\"}],\"color\":[\"navy\"],\"fill_alpha\":[0.8],\"height\":[9.090909090909092],\"index\":[\"USA\"],\"line_alpha\":[1.0],\"line_color\":[\"white\"],\"width\":[0.8],\"x\":[\"USA\"],\"y\":[4.545454545454546]}},\"id\":\"7eb05c50-554f-4226-bcc2-1fc89d6f99b2\",\"type\":\"ColumnDataSource\"},{\"attributes\":{\"fill_alpha\":{\"field\":\"fill_alpha\"},\"fill_color\":{\"field\":\"color\"},\"height\":{\"field\":\"height\",\"units\":\"data\"},\"line_color\":{\"field\":\"line_color\"},\"width\":{\"field\":\"width\",\"units\":\"data\"},\"x\":{\"field\":\"x\"},\"y\":{\"field\":\"y\"}},\"id\":\"38571e46-bd27-4e15-a511-c0eeed39903a\",\"type\":\"Rect\"},{\"attributes\":{\"line_color\":{\"value\":\"#00ad9c\"},\"line_width\":{\"value\":2},\"x0\":{\"field\":\"x0s\"},\"x1\":{\"field\":\"x1s\"},\"y0\":{\"field\":\"y0s\"},\"y1\":{\"field\":\"y1s\"}},\"id\":\"f43b2ab6-304a-4c84-b1f6-029a7676419c\",\"type\":\"Segment\"},{\"attributes\":{\"callback\":null,\"column_names\":[\"line_color\",\"line_alpha\",\"color\",\"fill_alpha\",\"height\",\"width\",\"y\",\"x\"],\"data\":{\"chart_index\":[{\"country_name\":\"USA\"}],\"color\":[\"DimGrey\"],\"country_name\":[\"USA\"],\"fill_alpha\":[0.8],\"height\":[0.0],\"line_alpha\":[1.0],\"line_color\":[\"black\"],\"width\":[0.8],\"x\":[\"USA\"],\"y\":[0.0]}},\"id\":\"d36044e1-3884-47fa-a1bc-9b0c74e7bec3\",\"type\":\"ColumnDataSource\"},{\"attributes\":{\"overlay\":{\"id\":\"60ace50b-6365-4bbd-9ce9-915f5d2185e9\",\"type\":\"BoxAnnotation\"},\"plot\":{\"id\":\"7119aaf3-0906-4c09-a963-7a12142acb18\",\"subtype\":\"Chart\",\"type\":\"Plot\"}},\"id\":\"3d6def50-8a2c-4b61-813b-b8af4a492fe2\",\"type\":\"BoxZoomTool\"},{\"attributes\":{\"fill_alpha\":{\"field\":\"fill_alpha\"},\"fill_color\":{\"field\":\"color\"},\"height\":{\"field\":\"height\",\"units\":\"data\"},\"line_color\":{\"field\":\"line_color\"},\"width\":{\"field\":\"width\",\"units\":\"data\"},\"x\":{\"field\":\"x\"},\"y\":{\"field\":\"y\"}},\"id\":\"ba08b557-8e42-456b-b196-dc47600e1656\",\"type\":\"Rect\"},{\"attributes\":{\"plot\":{\"id\":\"7119aaf3-0906-4c09-a963-7a12142acb18\",\"subtype\":\"Chart\",\"type\":\"Plot\"}},\"id\":\"bbc14293-2acc-43b9-9d41-7556bfe3af81\",\"type\":\"WheelZoomTool\"},{\"attributes\":{\"fill_alpha\":{\"field\":\"fill_alpha\"},\"fill_color\":{\"field\":\"color\"},\"height\":{\"field\":\"height\",\"units\":\"data\"},\"line_color\":{\"field\":\"line_color\"},\"width\":{\"field\":\"width\",\"units\":\"data\"},\"x\":{\"field\":\"x\"},\"y\":{\"field\":\"y\"}},\"id\":\"045e76ce-198c-4d49-b2f4-67efea1b9204\",\"type\":\"Rect\"},{\"attributes\":{\"line_color\":{\"value\":\"#5ab738\"},\"line_width\":{\"value\":2},\"x0\":{\"field\":\"x0s\"},\"x1\":{\"field\":\"x1s\"},\"y0\":{\"field\":\"y0s\"},\"y1\":{\"field\":\"y1s\"}},\"id\":\"1cbc16e8-ff2b-41e3-88b9-762969c27afc\",\"type\":\"Segment\"},{\"attributes\":{\"fill_alpha\":{\"field\":\"fill_alpha\"},\"fill_color\":{\"field\":\"color\"},\"height\":{\"field\":\"height\",\"units\":\"data\"},\"line_color\":{\"field\":\"line_color\"},\"width\":{\"field\":\"width\",\"units\":\"data\"},\"x\":{\"field\":\"x\"},\"y\":{\"field\":\"y\"}},\"id\":\"137c7afe-afc7-45a5-ab94-c9110f160944\",\"type\":\"Rect\"},{\"attributes\":{\"callback\":null,\"column_names\":[\"line_color\",\"line_alpha\",\"color\",\"fill_alpha\",\"height\",\"width\",\"y\",\"x\"],\"data\":{\"chart_index\":[{\"country_name\":\"England\"}],\"color\":[\"DimGrey\"],\"country_name\":[\"England\"],\"fill_alpha\":[0.8],\"height\":[0.0],\"line_alpha\":[1.0],\"line_color\":[\"black\"],\"width\":[0.8],\"x\":[\"England\"],\"y\":[0.0]}},\"id\":\"d1e8923a-287e-4ca5-9ab9-1e29fc814372\",\"type\":\"ColumnDataSource\"},{\"attributes\":{\"fill_alpha\":{\"field\":\"fill_alpha\"},\"fill_color\":{\"field\":\"color\"},\"height\":{\"field\":\"height\",\"units\":\"data\"},\"line_color\":{\"field\":\"line_color\"},\"width\":{\"field\":\"width\",\"units\":\"data\"},\"x\":{\"field\":\"x\"},\"y\":{\"field\":\"y\"}},\"id\":\"6f92c587-051b-458d-9d7a-334786c951d1\",\"type\":\"Rect\"},{\"attributes\":{\"fill_alpha\":{\"field\":\"fill_alpha\"},\"fill_color\":{\"field\":\"color\"},\"height\":{\"field\":\"height\",\"units\":\"data\"},\"line_color\":{\"field\":\"line_color\"},\"width\":{\"field\":\"width\",\"units\":\"data\"},\"x\":{\"field\":\"x\"},\"y\":{\"field\":\"y\"}},\"id\":\"dbfb425b-2410-41d3-8980-9e3b96e6f086\",\"type\":\"Rect\"},{\"attributes\":{\"data_source\":{\"id\":\"cd83b254-930a-4870-8147-c7ed82dd81a7\",\"type\":\"ColumnDataSource\"},\"glyph\":{\"id\":\"8d5cfa34-e600-4728-8edc-b1e6c95a264a\",\"type\":\"Segment\"},\"hover_glyph\":null,\"nonselection_glyph\":null,\"selection_glyph\":null},\"id\":\"ddc11319-5104-49e5-bc35-aa4fb9c272fa\",\"type\":\"GlyphRenderer\"},{\"attributes\":{\"bottom_units\":\"screen\",\"fill_alpha\":{\"value\":0.5},\"fill_color\":{\"value\":\"lightgrey\"},\"left_units\":\"screen\",\"level\":\"overlay\",\"line_alpha\":{\"value\":1.0},\"line_color\":{\"value\":\"black\"},\"line_dash\":[4,4],\"line_width\":{\"value\":2},\"plot\":null,\"render_mode\":\"css\",\"right_units\":\"screen\",\"top_units\":\"screen\"},\"id\":\"11613b1c-7919-4f5d-a840-00ee7f427cf8\",\"type\":\"BoxAnnotation\"},{\"attributes\":{\"callback\":null,\"column_names\":[\"line_color\",\"line_alpha\",\"color\",\"fill_alpha\",\"height\",\"width\",\"y\",\"x\"],\"data\":{\"chart_index\":[{\"index\":\"Russia\"}],\"color\":[\"navy\"],\"fill_alpha\":[0.8],\"height\":[6.0606060606060606],\"index\":[\"Russia\"],\"line_alpha\":[1.0],\"line_color\":[\"white\"],\"width\":[0.8],\"x\":[\"Russia\"],\"y\":[3.0303030303030303]}},\"id\":\"5d9cfa59-2235-4b38-a5fc-9f87ed3145ae\",\"type\":\"ColumnDataSource\"},{\"attributes\":{\"data_source\":{\"id\":\"5d9cfa59-2235-4b38-a5fc-9f87ed3145ae\",\"type\":\"ColumnDataSource\"},\"glyph\":{\"id\":\"4ccff099-fd2c-4e4a-9917-c59b854f502a\",\"type\":\"Rect\"},\"hover_glyph\":null,\"nonselection_glyph\":null,\"selection_glyph\":null},\"id\":\"883ca040-61e0-4206-98d5-3c236bd5e13a\",\"type\":\"GlyphRenderer\"},{\"attributes\":{\"formatter\":{\"id\":\"4845f74a-0fc7-4bee-afa5-8c42c15ad58f\",\"type\":\"CategoricalTickFormatter\"},\"major_label_orientation\":0.7853981633974483,\"plot\":{\"id\":\"bd3ca643-f5bd-432b-815d-18c8e96bd007\",\"subtype\":\"Chart\",\"type\":\"Plot\"},\"ticker\":{\"id\":\"10af0e2d-5856-4cad-b258-41f94ca344eb\",\"type\":\"CategoricalTicker\"}},\"id\":\"77fd8f15-8bfb-4d51-9481-690e3d7b5247\",\"type\":\"CategoricalAxis\"},{\"attributes\":{\"below\":[{\"id\":\"8fb61426-3f03-402b-8c44-5009cc354e4f\",\"type\":\"CategoricalAxis\"}],\"left\":[{\"id\":\"f3cbde1d-ff0f-4915-9471-f9a611b9f3b9\",\"type\":\"LinearAxis\"}],\"legend\":null,\"renderers\":[{\"id\":\"98a7590b-1b26-4a4b-8423-db283fa69bfc\",\"type\":\"BoxAnnotation\"},{\"id\":\"cee3239b-76ab-410b-a10e-b87459152382\",\"type\":\"GlyphRenderer\"},{\"id\":\"7251a7ca-0553-4dca-abe0-1db0855c068f\",\"type\":\"GlyphRenderer\"},{\"id\":\"9a9b3f11-3b60-4f43-97ec-7cf8260c1ebf\",\"type\":\"GlyphRenderer\"},{\"id\":\"ac4abc80-c510-425b-b893-b57762916cc1\",\"type\":\"GlyphRenderer\"},{\"id\":\"73f17be9-4462-48bf-a84c-ea957f0e281f\",\"type\":\"GlyphRenderer\"},{\"id\":\"7fb03910-a14a-4601-ac06-dcd25b0e8e0f\",\"type\":\"GlyphRenderer\"},{\"id\":\"b6f30800-200e-4101-b05b-3f9e0a7b22cb\",\"type\":\"GlyphRenderer\"},{\"id\":\"1918388c-4b99-49ce-add8-48f015cdb165\",\"type\":\"GlyphRenderer\"},{\"id\":\"ddc11319-5104-49e5-bc35-aa4fb9c272fa\",\"type\":\"GlyphRenderer\"},{\"id\":\"da029c52-34fd-40d9-bc0a-9d96510b4787\",\"type\":\"GlyphRenderer\"},{\"id\":\"8a05e93f-a968-4cee-bb02-16cca6498dc6\",\"type\":\"GlyphRenderer\"},{\"id\":\"6a733f4f-fac1-4ea4-8cc0-320ced01da99\",\"type\":\"GlyphRenderer\"},{\"id\":\"e7a0886e-751b-41c5-b7e5-c038b3213df4\",\"type\":\"GlyphRenderer\"},{\"id\":\"92a28bc0-5a42-485c-8ac4-5649701973c4\",\"type\":\"GlyphRenderer\"},{\"id\":\"08c2e7ce-5bb1-4e29-a5f2-623f38088ace\",\"type\":\"GlyphRenderer\"},{\"id\":\"07cb69c0-acff-4d92-82e5-ca4d4cdd2f36\",\"type\":\"GlyphRenderer\"},{\"id\":\"f6e2dde0-64bd-4c28-bdbe-5bf0fde7328e\",\"type\":\"GlyphRenderer\"},{\"id\":\"0b0d21f7-d40f-4385-accd-8997f0dc843c\",\"type\":\"GlyphRenderer\"},{\"id\":\"3a1a1a98-a8b1-4196-ad8c-1c08dc5f5beb\",\"type\":\"GlyphRenderer\"},{\"id\":\"a7a46c31-ad13-4fad-a23b-8e683c570a8e\",\"type\":\"GlyphRenderer\"},{\"id\":\"e3780472-4bbc-49a5-a2b9-8d6ec2dbcf9f\",\"type\":\"GlyphRenderer\"},{\"id\":\"c9f8c231-38cc-4117-abf6-0f4dd6f457bb\",\"type\":\"GlyphRenderer\"},{\"id\":\"0d153c1b-9daf-4e2f-9d7c-2223205d2f90\",\"type\":\"GlyphRenderer\"},{\"id\":\"5dfc1085-2532-419a-969d-01b1d7f3ec27\",\"type\":\"GlyphRenderer\"},{\"id\":\"edaa76b0-aecb-463c-a5f2-d0c37c1f691f\",\"type\":\"GlyphRenderer\"},{\"id\":\"3a079789-5f8d-498a-838f-bbb730f76ebb\",\"type\":\"GlyphRenderer\"},{\"id\":\"5e015ae0-8edc-4903-b8ee-ed295d1cffc1\",\"type\":\"GlyphRenderer\"},{\"id\":\"f8a4d052-59c3-409e-a262-beccc6ef7be5\",\"type\":\"GlyphRenderer\"},{\"id\":\"8d9b7788-0a80-4385-9319-8270e97fffe3\",\"type\":\"GlyphRenderer\"},{\"id\":\"44476702-c993-4252-8b3c-efe000d04d43\",\"type\":\"GlyphRenderer\"},{\"id\":\"ea22d67d-7bbc-4c8a-b414-62c8344635c2\",\"type\":\"GlyphRenderer\"},{\"id\":\"3e3af389-b726-44a7-af4c-51492faf7874\",\"type\":\"GlyphRenderer\"},{\"id\":\"f73eef9d-6ed0-4fb2-bb89-6a2ac42c6467\",\"type\":\"GlyphRenderer\"},{\"id\":\"8fb61426-3f03-402b-8c44-5009cc354e4f\",\"type\":\"CategoricalAxis\"},{\"id\":\"f3cbde1d-ff0f-4915-9471-f9a611b9f3b9\",\"type\":\"LinearAxis\"},{\"id\":\"96daecc6-6e3d-49f4-877b-cb4858a5d811\",\"type\":\"Grid\"}],\"title\":\"Number of deaths from ebola per country\",\"title_text_font_size\":{\"value\":\"14pt\"},\"tool_events\":{\"id\":\"8dd33a81-57fb-4e23-8c79-c770891734d7\",\"type\":\"ToolEvents\"},\"tools\":[{\"id\":\"b6062b10-7fc8-4740-9d47-7fab2517fdb1\",\"type\":\"PanTool\"},{\"id\":\"072ab63d-c5da-4ca4-9fd3-4175a8b864b3\",\"type\":\"WheelZoomTool\"},{\"id\":\"d880d3ac-0dfc-4377-b77c-924aede20131\",\"type\":\"BoxZoomTool\"},{\"id\":\"2c0320f1-b6b5-49fb-b833-80d78270619f\",\"type\":\"PreviewSaveTool\"},{\"id\":\"61ab06d0-c44a-43df-9ffb-19fc4c08f35c\",\"type\":\"ResizeTool\"},{\"id\":\"9ca4172b-d8f5-4ca0-9340-b77c4f270d4e\",\"type\":\"ResetTool\"},{\"id\":\"a9629fa7-4f3e-4ffe-843d-06252b7c1f19\",\"type\":\"HelpTool\"}],\"x_mapper_type\":\"auto\",\"x_range\":{\"id\":\"e0c0c9c3-1350-4871-9001-4e3d68b9ffab\",\"type\":\"FactorRange\"},\"xgrid\":false,\"xscale\":\"auto\",\"y_mapper_type\":\"auto\",\"y_range\":{\"id\":\"47b69087-7a39-415c-bf02-392edd9e7095\",\"type\":\"Range1d\"},\"yscale\":\"auto\"},\"id\":\"2bfcafda-0d2e-4073-a3e8-c015b2ba4f80\",\"subtype\":\"Chart\",\"type\":\"Plot\"},{\"attributes\":{\"callback\":null,\"column_names\":[\"line_color\",\"line_alpha\",\"color\",\"fill_alpha\",\"height\",\"width\",\"y\",\"x\"],\"data\":{\"chart_index\":[{\"country_name\":\"Democratic Republic of the Congo\"}],\"color\":[\"DimGrey\"],\"country_name\":[\"Democratic Republic of the Congo\"],\"fill_alpha\":[0.8],\"height\":[144.0],\"line_alpha\":[1.0],\"line_color\":[\"black\"],\"width\":[0.8],\"x\":[\"Democratic Republic of the Congo\"],\"y\":[115.0]}},\"id\":\"88bb0baa-2613-44de-a79e-41bc03e61f46\",\"type\":\"ColumnDataSource\"},{\"attributes\":{},\"id\":\"cead3368-eb75-4ab4-8270-7beeea329653\",\"type\":\"CategoricalTicker\"},{\"attributes\":{\"fill_alpha\":{\"field\":\"fill_alpha\"},\"fill_color\":{\"field\":\"color\"},\"height\":{\"field\":\"height\",\"units\":\"data\"},\"line_color\":{\"field\":\"line_color\"},\"width\":{\"field\":\"width\",\"units\":\"data\"},\"x\":{\"field\":\"x\"},\"y\":{\"field\":\"y\"}},\"id\":\"86f6b540-fa60-4748-933d-c15819cd45da\",\"type\":\"Rect\"},{\"attributes\":{\"plot\":{\"id\":\"2bfcafda-0d2e-4073-a3e8-c015b2ba4f80\",\"subtype\":\"Chart\",\"type\":\"Plot\"}},\"id\":\"a9629fa7-4f3e-4ffe-843d-06252b7c1f19\",\"type\":\"HelpTool\"},{\"attributes\":{\"data_source\":{\"id\":\"d918453b-7101-4486-ab25-00c85a720cfc\",\"type\":\"ColumnDataSource\"},\"glyph\":{\"id\":\"01948ad9-43fc-46f4-8156-f3ee110c3e28\",\"type\":\"Rect\"},\"hover_glyph\":null,\"nonselection_glyph\":null,\"selection_glyph\":null},\"id\":\"00ef402c-cc5c-4331-bd01-083163ecd359\",\"type\":\"GlyphRenderer\"},{\"attributes\":{\"plot\":{\"id\":\"bd3ca643-f5bd-432b-815d-18c8e96bd007\",\"subtype\":\"Chart\",\"type\":\"Plot\"}},\"id\":\"e7d72907-e54b-40f6-8ac0-6a88a96ce2a4\",\"type\":\"HelpTool\"},{\"attributes\":{\"data_source\":{\"id\":\"a41f81a8-2249-4367-b469-fcd14aa04177\",\"type\":\"ColumnDataSource\"},\"glyph\":{\"id\":\"c0151e31-efee-47c7-9ff5-81683c7c7377\",\"type\":\"Segment\"},\"hover_glyph\":null,\"nonselection_glyph\":null,\"selection_glyph\":null},\"id\":\"f2fc0b16-d37c-44ec-b182-e30ce697e10e\",\"type\":\"GlyphRenderer\"},{\"attributes\":{\"callback\":null,\"column_names\":[\"line_color\",\"line_alpha\",\"color\",\"fill_alpha\",\"height\",\"width\",\"y\",\"x\"],\"data\":{\"chart_index\":[{\"country_name\":\"Gabon\"}],\"color\":[\"DimGrey\"],\"country_name\":[\"Gabon\"],\"fill_alpha\":[0.8],\"height\":[7.75],\"line_alpha\":[1.0],\"line_color\":[\"black\"],\"width\":[0.8],\"x\":[\"Gabon\"],\"y\":[52.125]}},\"id\":\"5795aaeb-ff9a-4f0d-b770-f8c4a23f994c\",\"type\":\"ColumnDataSource\"},{\"attributes\":{\"fill_alpha\":{\"field\":\"fill_alpha\"},\"fill_color\":{\"field\":\"color\"},\"height\":{\"field\":\"height\",\"units\":\"data\"},\"line_color\":{\"field\":\"line_color\"},\"width\":{\"field\":\"width\",\"units\":\"data\"},\"x\":{\"field\":\"x\"},\"y\":{\"field\":\"y\"}},\"id\":\"aa2487e4-073b-4e6c-9ab3-1964ad15da47\",\"type\":\"Rect\"},{\"attributes\":{\"callback\":null,\"column_names\":[\"line_color\",\"line_alpha\",\"color\",\"fill_alpha\",\"height\",\"width\",\"y\",\"x\"],\"data\":{\"chart_index\":[{\"country_name\":\"Gabon\"}],\"color\":[\"DimGrey\"],\"country_name\":[\"Gabon\"],\"fill_alpha\":[0.8],\"height\":[9.5],\"line_alpha\":[1.0],\"line_color\":[\"black\"],\"width\":[0.8],\"x\":[\"Gabon\"],\"y\":[33.25]}},\"id\":\"1966ed92-b849-47fe-8868-ceff5c564fd2\",\"type\":\"ColumnDataSource\"},{\"attributes\":{\"callback\":null,\"column_names\":[\"x0s\",\"y0s\",\"x1s\",\"y1s\"],\"data\":{\"chart_index\":[{\"country_name\":\"Sudan (South Sudan)\"},{\"country_name\":\"Sudan (South Sudan)\"},{\"country_name\":\"Sudan (South Sudan)\"},{\"country_name\":\"Sudan (South Sudan)\"}],\"country_name\":[\"Sudan (South Sudan)\",\"Sudan (South Sudan)\",\"Sudan (South Sudan)\",\"Sudan (South Sudan)\"],\"x0s\":[\"Sudan (South Sudan):0.5\",\"Sudan (South Sudan):0.65\",\"Sudan (South Sudan):0.5\",\"Sudan (South Sudan):0.65\"],\"x1s\":[\"Sudan (South Sudan):0.5\",\"Sudan (South Sudan):0.35\",\"Sudan (South Sudan):0.5\",\"Sudan (South Sudan):0.35\"],\"y0s\":[17.0,17.0,159.0,284.0],\"y1s\":[25.5,17.0,284.0,284.0]}},\"id\":\"7bdcb8c9-f91b-48c8-9449-41d51d9a01ca\",\"type\":\"ColumnDataSource\"},{\"attributes\":{\"callback\":null,\"column_names\":[\"line_color\",\"line_alpha\",\"color\",\"fill_alpha\",\"height\",\"width\",\"y\",\"x\"],\"data\":{\"chart_index\":[{\"country_name\":\"USA\"}],\"color\":[\"DimGrey\"],\"country_name\":[\"USA\"],\"fill_alpha\":[0.8],\"height\":[0.0],\"line_alpha\":[1.0],\"line_color\":[\"black\"],\"width\":[0.8],\"x\":[\"USA\"],\"y\":[0.0]}},\"id\":\"39969b35-4e48-4dc0-a904-b7a2a492983d\",\"type\":\"ColumnDataSource\"},{\"attributes\":{\"callback\":null,\"end\":28.636363636363637},\"id\":\"bf113675-c9d6-435b-af47-643329d450bd\",\"type\":\"Range1d\"},{\"attributes\":{\"data_source\":{\"id\":\"7bdcb8c9-f91b-48c8-9449-41d51d9a01ca\",\"type\":\"ColumnDataSource\"},\"glyph\":{\"id\":\"0df14c4d-031e-4c2d-ac25-8366ff5c3c16\",\"type\":\"Segment\"},\"hover_glyph\":null,\"nonselection_glyph\":null,\"selection_glyph\":null},\"id\":\"c8f88bdd-2bf5-41f7-b86e-468286495b98\",\"type\":\"GlyphRenderer\"},{\"attributes\":{\"plot\":{\"id\":\"7119aaf3-0906-4c09-a963-7a12142acb18\",\"subtype\":\"Chart\",\"type\":\"Plot\"}},\"id\":\"a91700a2-eb83-4b4f-ba7d-c34ce92c1ba1\",\"type\":\"ResetTool\"},{\"attributes\":{\"dimension\":1,\"plot\":{\"id\":\"bd3ca643-f5bd-432b-815d-18c8e96bd007\",\"subtype\":\"Chart\",\"type\":\"Plot\"},\"ticker\":{\"id\":\"b4a6a765-2967-488d-a849-7e61355ade5c\",\"type\":\"BasicTicker\"}},\"id\":\"b8464c93-4aef-4030-a087-a990a4980150\",\"type\":\"Grid\"},{\"attributes\":{\"plot\":{\"id\":\"2bfcafda-0d2e-4073-a3e8-c015b2ba4f80\",\"subtype\":\"Chart\",\"type\":\"Plot\"}},\"id\":\"b6062b10-7fc8-4740-9d47-7fab2517fdb1\",\"type\":\"PanTool\"},{\"attributes\":{\"plot\":{\"id\":\"2bfcafda-0d2e-4073-a3e8-c015b2ba4f80\",\"subtype\":\"Chart\",\"type\":\"Plot\"}},\"id\":\"072ab63d-c5da-4ca4-9fd3-4175a8b864b3\",\"type\":\"WheelZoomTool\"},{\"attributes\":{\"data_source\":{\"id\":\"7eb05c50-554f-4226-bcc2-1fc89d6f99b2\",\"type\":\"ColumnDataSource\"},\"glyph\":{\"id\":\"b4d254d3-c07c-4819-b961-86eeff4f49fc\",\"type\":\"Rect\"},\"hover_glyph\":null,\"nonselection_glyph\":null,\"selection_glyph\":null},\"id\":\"f2cdab88-73d2-4dd1-9a15-61c9756db70c\",\"type\":\"GlyphRenderer\"},{\"attributes\":{\"plot\":{\"id\":\"bd3ca643-f5bd-432b-815d-18c8e96bd007\",\"subtype\":\"Chart\",\"type\":\"Plot\"}},\"id\":\"cfe35ab4-5ac4-422b-88a8-a48ff5b10fde\",\"type\":\"WheelZoomTool\"},{\"attributes\":{\"fill_alpha\":{\"field\":\"fill_alpha\"},\"fill_color\":{\"field\":\"color\"},\"height\":{\"field\":\"height\",\"units\":\"data\"},\"line_color\":{\"field\":\"line_color\"},\"width\":{\"field\":\"width\",\"units\":\"data\"},\"x\":{\"field\":\"x\"},\"y\":{\"field\":\"y\"}},\"id\":\"e75c026f-f3f4-429d-ba60-236f55902172\",\"type\":\"Rect\"},{\"attributes\":{\"fill_alpha\":{\"field\":\"fill_alpha\"},\"fill_color\":{\"field\":\"color\"},\"height\":{\"field\":\"height\",\"units\":\"data\"},\"line_color\":{\"field\":\"line_color\"},\"width\":{\"field\":\"width\",\"units\":\"data\"},\"x\":{\"field\":\"x\"},\"y\":{\"field\":\"y\"}},\"id\":\"b30db0e6-9408-4edb-8fdb-b4b875bf3954\",\"type\":\"Rect\"},{\"attributes\":{\"fill_alpha\":{\"field\":\"fill_alpha\"},\"fill_color\":{\"field\":\"color\"},\"height\":{\"field\":\"height\",\"units\":\"data\"},\"line_color\":{\"field\":\"line_color\"},\"width\":{\"field\":\"width\",\"units\":\"data\"},\"x\":{\"field\":\"x\"},\"y\":{\"field\":\"y\"}},\"id\":\"de376987-31e7-464b-94cd-265dd1a0dbb1\",\"type\":\"Rect\"},{\"attributes\":{\"fill_alpha\":{\"field\":\"fill_alpha\"},\"fill_color\":{\"field\":\"color\"},\"height\":{\"field\":\"height\",\"units\":\"data\"},\"line_color\":{\"field\":\"line_color\"},\"width\":{\"field\":\"width\",\"units\":\"data\"},\"x\":{\"field\":\"x\"},\"y\":{\"field\":\"y\"}},\"id\":\"4abb8556-8105-431b-82d9-e758d4a60fe4\",\"type\":\"Rect\"},{\"attributes\":{\"plot\":{\"id\":\"2bfcafda-0d2e-4073-a3e8-c015b2ba4f80\",\"subtype\":\"Chart\",\"type\":\"Plot\"}},\"id\":\"9ca4172b-d8f5-4ca0-9340-b77c4f270d4e\",\"type\":\"ResetTool\"},{\"attributes\":{\"callback\":null,\"column_names\":[\"line_color\",\"line_alpha\",\"color\",\"fill_alpha\",\"height\",\"width\",\"y\",\"x\"],\"data\":{\"chart_index\":[{\"country_name\":\"England\"}],\"color\":[\"DimGrey\"],\"country_name\":[\"England\"],\"fill_alpha\":[0.8],\"height\":[0],\"line_alpha\":[1.0],\"line_color\":[\"black\"],\"width\":[0.8],\"x\":[\"England\"],\"y\":[1.0]}},\"id\":\"943b7f96-5903-4575-84ad-5c5dafd5e1e2\",\"type\":\"ColumnDataSource\"},{\"attributes\":{\"callback\":null,\"column_names\":[\"line_color\",\"line_alpha\",\"color\",\"fill_alpha\",\"height\",\"width\",\"y\",\"x\"],\"data\":{\"chart_index\":[{\"country_name\":\"Sudan (South Sudan)\"}],\"color\":[\"DimGrey\"],\"country_name\":[\"Sudan (South Sudan)\"],\"fill_alpha\":[0.8],\"height\":[8.5],\"line_alpha\":[1.0],\"line_color\":[\"black\"],\"width\":[0.8],\"x\":[\"Sudan (South Sudan)\"],\"y\":[29.75]}},\"id\":\"ef1ad82f-fef2-4787-a8e2-e19bddae4366\",\"type\":\"ColumnDataSource\"},{\"attributes\":{\"callback\":null,\"column_names\":[\"x0s\",\"y0s\",\"x1s\",\"y1s\"],\"data\":{\"chart_index\":[{\"country_name\":\"England\"},{\"country_name\":\"England\"},{\"country_name\":\"England\"},{\"country_name\":\"England\"}],\"country_name\":[\"England\",\"England\",\"England\",\"England\"],\"x0s\":[\"England:0.5\",\"England:0.65\",\"England:0.5\",\"England:0.65\"],\"x1s\":[\"England:0.5\",\"England:0.35\",\"England:0.5\",\"England:0.35\"],\"y0s\":[0.0,0.0,0.0,0.0],\"y1s\":[0.0,0.0,0.0,0.0]}},\"id\":\"160829f0-b1cd-40a2-90cb-213a0ea54848\",\"type\":\"ColumnDataSource\"},{\"attributes\":{\"plot\":{\"id\":\"7119aaf3-0906-4c09-a963-7a12142acb18\",\"subtype\":\"Chart\",\"type\":\"Plot\"}},\"id\":\"422c09b3-8713-4434-b6f7-281efe094c0d\",\"type\":\"PanTool\"},{\"attributes\":{\"data_source\":{\"id\":\"d36044e1-3884-47fa-a1bc-9b0c74e7bec3\",\"type\":\"ColumnDataSource\"},\"glyph\":{\"id\":\"b30db0e6-9408-4edb-8fdb-b4b875bf3954\",\"type\":\"Rect\"},\"hover_glyph\":null,\"nonselection_glyph\":null,\"selection_glyph\":null},\"id\":\"1918388c-4b99-49ce-add8-48f015cdb165\",\"type\":\"GlyphRenderer\"},{\"attributes\":{\"data_source\":{\"id\":\"9d8f7c9c-fd7a-43ed-803e-3fbe74ee9791\",\"type\":\"ColumnDataSource\"},\"glyph\":{\"id\":\"3610b6e6-f7f9-4f03-acbc-536d6664b271\",\"type\":\"Rect\"},\"hover_glyph\":null,\"nonselection_glyph\":null,\"selection_glyph\":null},\"id\":\"0d153c1b-9daf-4e2f-9d7c-2223205d2f90\",\"type\":\"GlyphRenderer\"},{\"attributes\":{\"data_source\":{\"id\":\"a56fad3e-9765-4960-90e5-fc1bbf58f128\",\"type\":\"ColumnDataSource\"},\"glyph\":{\"id\":\"de376987-31e7-464b-94cd-265dd1a0dbb1\",\"type\":\"Rect\"},\"hover_glyph\":null,\"nonselection_glyph\":null,\"selection_glyph\":null},\"id\":\"803e23b2-5291-4130-8c2f-021a0e4dd7bb\",\"type\":\"GlyphRenderer\"},{\"attributes\":{\"data_source\":{\"id\":\"897bcaea-2b6a-4885-b9e1-34bd66f14bb6\",\"type\":\"ColumnDataSource\"},\"glyph\":{\"id\":\"045e76ce-198c-4d49-b2f4-67efea1b9204\",\"type\":\"Rect\"},\"hover_glyph\":null,\"nonselection_glyph\":null,\"selection_glyph\":null},\"id\":\"b6f30800-200e-4101-b05b-3f9e0a7b22cb\",\"type\":\"GlyphRenderer\"},{\"attributes\":{\"callback\":null,\"column_names\":[\"line_color\",\"line_alpha\",\"color\",\"fill_alpha\",\"height\",\"width\",\"y\",\"x\"],\"data\":{\"chart_index\":[{\"country_name\":\"Cote d'Ivoire (Ivory Coast)\"}],\"color\":[\"DimGrey\"],\"country_name\":[\"Cote d'Ivoire (Ivory Coast)\"],\"fill_alpha\":[0.8],\"height\":[0.0],\"line_alpha\":[1.0],\"line_color\":[\"black\"],\"width\":[0.8],\"x\":[\"Cote d'Ivoire (Ivory Coast)\"],\"y\":[0.0]}},\"id\":\"4c2ef98f-5f50-4415-af14-09a8e85dcdee\",\"type\":\"ColumnDataSource\"},{\"attributes\":{\"plot\":{\"id\":\"7119aaf3-0906-4c09-a963-7a12142acb18\",\"subtype\":\"Chart\",\"type\":\"Plot\"}},\"id\":\"c07b5f4c-91d0-4754-b145-378eb6c37dc2\",\"type\":\"HelpTool\"},{\"attributes\":{\"data_source\":{\"id\":\"58814fca-a5f3-4105-ba93-370e310676b5\",\"type\":\"ColumnDataSource\"},\"glyph\":{\"id\":\"bb7271e8-7308-45a6-b456-bc9107f34f5a\",\"type\":\"Segment\"},\"hover_glyph\":null,\"nonselection_glyph\":null,\"selection_glyph\":null},\"id\":\"7fa4c634-c4f1-44e3-88e5-712ea974132d\",\"type\":\"GlyphRenderer\"},{\"attributes\":{\"callback\":null,\"column_names\":[\"line_color\",\"line_alpha\",\"color\",\"fill_alpha\",\"height\",\"width\",\"y\",\"x\"],\"data\":{\"chart_index\":[{\"country_name\":\"South Africa\"}],\"color\":[\"DimGrey\"],\"country_name\":[\"South Africa\"],\"fill_alpha\":[0.8],\"height\":[0],\"line_alpha\":[1.0],\"line_color\":[\"black\"],\"width\":[0.8],\"x\":[\"South Africa\"],\"y\":[1.0]}},\"id\":\"9d8f7c9c-fd7a-43ed-803e-3fbe74ee9791\",\"type\":\"ColumnDataSource\"},{\"attributes\":{\"plot\":{\"id\":\"bd3ca643-f5bd-432b-815d-18c8e96bd007\",\"subtype\":\"Chart\",\"type\":\"Plot\"}},\"id\":\"a209d055-ed9f-4bfd-91fd-f307c056746f\",\"type\":\"ResizeTool\"},{\"attributes\":{\"data_source\":{\"id\":\"40d4608e-3c00-4a58-949f-ad2965b9c589\",\"type\":\"ColumnDataSource\"},\"glyph\":{\"id\":\"1267cc11-3076-4635-b47e-efa62cb3ddd2\",\"type\":\"Segment\"},\"hover_glyph\":null,\"nonselection_glyph\":null,\"selection_glyph\":null},\"id\":\"0b0d21f7-d40f-4385-accd-8997f0dc843c\",\"type\":\"GlyphRenderer\"},{\"attributes\":{\"data_source\":{\"id\":\"4a1119d7-b9f4-4499-b84a-084364b5e0a7\",\"type\":\"ColumnDataSource\"},\"glyph\":{\"id\":\"bd0f4e3d-079d-4ec7-a9d0-f37b76c5f282\",\"type\":\"Rect\"},\"hover_glyph\":null,\"nonselection_glyph\":null,\"selection_glyph\":null},\"id\":\"f6e2dde0-64bd-4c28-bdbe-5bf0fde7328e\",\"type\":\"GlyphRenderer\"},{\"attributes\":{},\"id\":\"a32a6559-8325-4c90-80bd-205feae15856\",\"type\":\"CategoricalTickFormatter\"},{\"attributes\":{\"line_color\":{\"value\":\"#f22c40\"},\"line_width\":{\"value\":2},\"x0\":{\"field\":\"x0s\"},\"x1\":{\"field\":\"x1s\"},\"y0\":{\"field\":\"y0s\"},\"y1\":{\"field\":\"y1s\"}},\"id\":\"c0151e31-efee-47c7-9ff5-81683c7c7377\",\"type\":\"Segment\"},{\"attributes\":{\"fill_alpha\":{\"field\":\"fill_alpha\"},\"fill_color\":{\"field\":\"color\"},\"height\":{\"field\":\"height\",\"units\":\"data\"},\"line_color\":{\"field\":\"line_color\"},\"width\":{\"field\":\"width\",\"units\":\"data\"},\"x\":{\"field\":\"x\"},\"y\":{\"field\":\"y\"}},\"id\":\"dcc72ceb-ff0a-4430-994e-990b3d085f25\",\"type\":\"Rect\"},{\"attributes\":{\"data_source\":{\"id\":\"30f8c8af-be28-4a9c-924f-46a7a81a6fde\",\"type\":\"ColumnDataSource\"},\"glyph\":{\"id\":\"a6cd9b1d-2d8e-413d-8cb2-9c7e15d3f707\",\"type\":\"Rect\"},\"hover_glyph\":null,\"nonselection_glyph\":null,\"selection_glyph\":null},\"id\":\"c9f8c231-38cc-4117-abf6-0f4dd6f457bb\",\"type\":\"GlyphRenderer\"},{\"attributes\":{\"data_source\":{\"id\":\"c6a0f2fb-b625-4316-b7fb-edd9140c16ca\",\"type\":\"ColumnDataSource\"},\"glyph\":{\"id\":\"d0238fc1-af91-4f96-ae64-7bcf89f020f2\",\"type\":\"Segment\"},\"hover_glyph\":null,\"nonselection_glyph\":null,\"selection_glyph\":null},\"id\":\"5e015ae0-8edc-4903-b8ee-ed295d1cffc1\",\"type\":\"GlyphRenderer\"},{\"attributes\":{\"callback\":null,\"column_names\":[\"line_color\",\"line_alpha\",\"color\",\"fill_alpha\",\"height\",\"width\",\"y\",\"x\"],\"data\":{\"chart_index\":[{\"country_name\":\"Italy\"}],\"color\":[\"DimGrey\"],\"country_name\":[\"Italy\"],\"fill_alpha\":[0.8],\"height\":[0.0],\"line_alpha\":[1.0],\"line_color\":[\"black\"],\"width\":[0.8],\"x\":[\"Italy\"],\"y\":[0.0]}},\"id\":\"0600d360-b276-4f93-85ac-53324576e4e8\",\"type\":\"ColumnDataSource\"},{\"attributes\":{\"callback\":null,\"column_names\":[\"x0s\",\"y0s\",\"x1s\",\"y1s\"],\"data\":{\"chart_index\":[{\"country_name\":\"USA\"},{\"country_name\":\"USA\"},{\"country_name\":\"USA\"},{\"country_name\":\"USA\"}],\"country_name\":[\"USA\",\"USA\",\"USA\",\"USA\"],\"x0s\":[\"USA:0.5\",\"USA:0.65\",\"USA:0.5\",\"USA:0.65\"],\"x1s\":[\"USA:0.5\",\"USA:0.35\",\"USA:0.5\",\"USA:0.35\"],\"y0s\":[0.0,0.0,0.0,0.0],\"y1s\":[0.0,0.0,0.0,0.0]}},\"id\":\"cd83b254-930a-4870-8147-c7ed82dd81a7\",\"type\":\"ColumnDataSource\"},{\"attributes\":{\"data_source\":{\"id\":\"8c6c36e0-7409-48d1-99a0-05299709abe2\",\"type\":\"ColumnDataSource\"},\"glyph\":{\"id\":\"4abb8556-8105-431b-82d9-e758d4a60fe4\",\"type\":\"Rect\"},\"hover_glyph\":null,\"nonselection_glyph\":null,\"selection_glyph\":null},\"id\":\"7251a7ca-0553-4dca-abe0-1db0855c068f\",\"type\":\"GlyphRenderer\"},{\"attributes\":{\"line_color\":{\"value\":\"#df5320\"},\"line_width\":{\"value\":2},\"x0\":{\"field\":\"x0s\"},\"x1\":{\"field\":\"x1s\"},\"y0\":{\"field\":\"y0s\"},\"y1\":{\"field\":\"y1s\"}},\"id\":\"5b63d449-23aa-4a67-a166-1ae226f288d0\",\"type\":\"Segment\"},{\"attributes\":{\"line_color\":{\"value\":\"#407ee7\"},\"line_width\":{\"value\":2},\"x0\":{\"field\":\"x0s\"},\"x1\":{\"field\":\"x1s\"},\"y0\":{\"field\":\"y0s\"},\"y1\":{\"field\":\"y1s\"}},\"id\":\"0df14c4d-031e-4c2d-ac25-8366ff5c3c16\",\"type\":\"Segment\"},{\"attributes\":{\"line_color\":{\"value\":\"#407ee7\"},\"line_width\":{\"value\":2},\"x0\":{\"field\":\"x0s\"},\"x1\":{\"field\":\"x1s\"},\"y0\":{\"field\":\"y0s\"},\"y1\":{\"field\":\"y1s\"}},\"id\":\"a5acc3df-d55c-4f82-a674-5a3d3fd9610f\",\"type\":\"Segment\"},{\"attributes\":{\"data_source\":{\"id\":\"70c1dc3a-1af8-493e-9c5d-fc098f2245b0\",\"type\":\"ColumnDataSource\"},\"glyph\":{\"id\":\"20aadf21-f890-436d-943d-2498934a175e\",\"type\":\"Segment\"},\"hover_glyph\":null,\"nonselection_glyph\":null,\"selection_glyph\":null},\"id\":\"44476702-c993-4252-8b3c-efe000d04d43\",\"type\":\"GlyphRenderer\"},{\"attributes\":{\"fill_alpha\":{\"field\":\"fill_alpha\"},\"fill_color\":{\"field\":\"color\"},\"height\":{\"field\":\"height\",\"units\":\"data\"},\"line_color\":{\"field\":\"line_color\"},\"width\":{\"field\":\"width\",\"units\":\"data\"},\"x\":{\"field\":\"x\"},\"y\":{\"field\":\"y\"}},\"id\":\"6ca51006-2911-4c8c-82e9-af6433a6f501\",\"type\":\"Rect\"},{\"attributes\":{\"data_source\":{\"id\":\"7770e02a-a72e-4110-b29c-fe1d09809916\",\"type\":\"ColumnDataSource\"},\"glyph\":{\"id\":\"50c6bcd6-e504-4469-9bee-431075b5d351\",\"type\":\"Rect\"},\"hover_glyph\":null,\"nonselection_glyph\":null,\"selection_glyph\":null},\"id\":\"3a079789-5f8d-498a-838f-bbb730f76ebb\",\"type\":\"GlyphRenderer\"},{\"attributes\":{\"callback\":null,\"column_names\":[\"line_color\",\"line_alpha\",\"color\",\"fill_alpha\",\"height\",\"width\",\"y\",\"x\"],\"data\":{\"chart_index\":[{\"country_name\":\"Italy\"}],\"color\":[\"DimGrey\"],\"country_name\":[\"Italy\"],\"fill_alpha\":[0.8],\"height\":[0.0],\"line_alpha\":[1.0],\"line_color\":[\"black\"],\"width\":[0.8],\"x\":[\"Italy\"],\"y\":[0.0]}},\"id\":\"da3f857d-2518-4a0b-a5d6-f6ed00d1ce59\",\"type\":\"ColumnDataSource\"},{\"attributes\":{\"callback\":null,\"column_names\":[\"line_color\",\"line_alpha\",\"color\",\"fill_alpha\",\"height\",\"width\",\"y\",\"x\"],\"data\":{\"chart_index\":[{\"index\":\"Sudan (South Sudan)\"}],\"color\":[\"navy\"],\"fill_alpha\":[0.8],\"height\":[9.090909090909092],\"index\":[\"Sudan (South Sudan)\"],\"line_alpha\":[1.0],\"line_color\":[\"white\"],\"width\":[0.8],\"x\":[\"Sudan (South Sudan)\"],\"y\":[4.545454545454546]}},\"id\":\"2b6687bd-3b5b-45db-af99-973e1d0d9bc8\",\"type\":\"ColumnDataSource\"},{\"attributes\":{\"data_source\":{\"id\":\"bb4a22f6-558e-4c25-ab34-fbec92040228\",\"type\":\"ColumnDataSource\"},\"glyph\":{\"id\":\"b8e629de-cc15-4467-9642-250b95568ffa\",\"type\":\"Rect\"},\"hover_glyph\":null,\"nonselection_glyph\":null,\"selection_glyph\":null},\"id\":\"44d7d2c0-5a17-4bf8-96f8-7c42bdc0dc90\",\"type\":\"GlyphRenderer\"},{\"attributes\":{\"data_source\":{\"id\":\"9c630196-d643-4e1b-ab29-ea5063e685cd\",\"type\":\"ColumnDataSource\"},\"glyph\":{\"id\":\"476b15c9-2ac2-479a-8583-35cc0bc16f24\",\"type\":\"Rect\"},\"hover_glyph\":null,\"nonselection_glyph\":null,\"selection_glyph\":null},\"id\":\"edaa76b0-aecb-463c-a5f2-d0c37c1f691f\",\"type\":\"GlyphRenderer\"},{\"attributes\":{\"data_source\":{\"id\":\"f30dcb79-55de-4ac9-8517-12f282dbb120\",\"type\":\"ColumnDataSource\"},\"glyph\":{\"id\":\"3c04497c-9c5e-403e-ae46-a4e5309d982f\",\"type\":\"Rect\"},\"hover_glyph\":null,\"nonselection_glyph\":null,\"selection_glyph\":null},\"id\":\"e0344303-d401-4fd8-af37-532583cd9069\",\"type\":\"GlyphRenderer\"},{\"attributes\":{\"callback\":null,\"column_names\":[\"x0s\",\"y0s\",\"x1s\",\"y1s\"],\"data\":{\"chart_index\":[{\"country_name\":\"Cote d'Ivoire (Ivory Coast)\"},{\"country_name\":\"Cote d'Ivoire (Ivory Coast)\"},{\"country_name\":\"Cote d'Ivoire (Ivory Coast)\"},{\"country_name\":\"Cote d'Ivoire (Ivory Coast)\"}],\"country_name\":[\"Cote d'Ivoire (Ivory Coast)\",\"Cote d'Ivoire (Ivory Coast)\",\"Cote d'Ivoire (Ivory Coast)\",\"Cote d'Ivoire (Ivory Coast)\"],\"x0s\":[\"Cote d'Ivoire (Ivory Coast):0.5\",\"Cote d'Ivoire (Ivory Coast):0.65\",\"Cote d'Ivoire (Ivory Coast):0.5\",\"Cote d'Ivoire (Ivory Coast):0.65\"],\"x1s\":[\"Cote d'Ivoire (Ivory Coast):0.5\",\"Cote d'Ivoire (Ivory Coast):0.35\",\"Cote d'Ivoire (Ivory Coast):0.5\",\"Cote d'Ivoire (Ivory Coast):0.35\"],\"y0s\":[1.0,1.0,1.0,1.0],\"y1s\":[1.0,1.0,1.0,1.0]}},\"id\":\"58814fca-a5f3-4105-ba93-370e310676b5\",\"type\":\"ColumnDataSource\"},{\"attributes\":{\"fill_alpha\":{\"field\":\"fill_alpha\"},\"fill_color\":{\"field\":\"color\"},\"height\":{\"field\":\"height\",\"units\":\"data\"},\"line_color\":{\"field\":\"line_color\"},\"width\":{\"field\":\"width\",\"units\":\"data\"},\"x\":{\"field\":\"x\"},\"y\":{\"field\":\"y\"}},\"id\":\"eac6959a-dba1-44c0-8fad-0fe2def8365a\",\"type\":\"Rect\"},{\"attributes\":{\"plot\":{\"id\":\"2bfcafda-0d2e-4073-a3e8-c015b2ba4f80\",\"subtype\":\"Chart\",\"type\":\"Plot\"}},\"id\":\"61ab06d0-c44a-43df-9ffb-19fc4c08f35c\",\"type\":\"ResizeTool\"},{\"attributes\":{\"data_source\":{\"id\":\"f163cd36-0279-4910-8033-6e106ed2bae7\",\"type\":\"ColumnDataSource\"},\"glyph\":{\"id\":\"5b63d449-23aa-4a67-a166-1ae226f288d0\",\"type\":\"Segment\"},\"hover_glyph\":null,\"nonselection_glyph\":null,\"selection_glyph\":null},\"id\":\"6a733f4f-fac1-4ea4-8cc0-320ced01da99\",\"type\":\"GlyphRenderer\"},{\"attributes\":{\"plot\":{\"id\":\"bd3ca643-f5bd-432b-815d-18c8e96bd007\",\"subtype\":\"Chart\",\"type\":\"Plot\"}},\"id\":\"b4fd9b90-7188-433e-a3fa-40443e55ec76\",\"type\":\"PreviewSaveTool\"},{\"attributes\":{\"callback\":null,\"column_names\":[\"line_color\",\"line_alpha\",\"color\",\"fill_alpha\",\"height\",\"width\",\"y\",\"x\"],\"data\":{\"chart_index\":[{\"index\":\"Cote d'Ivoire (Ivory Coast)\"}],\"color\":[\"navy\"],\"fill_alpha\":[0.8],\"height\":[3.0303030303030303],\"index\":[\"Cote d'Ivoire (Ivory Coast)\"],\"line_alpha\":[1.0],\"line_color\":[\"white\"],\"width\":[0.8],\"x\":[\"Cote d'Ivoire (Ivory Coast)\"],\"y\":[1.5151515151515151]}},\"id\":\"921c0cc8-05ed-45cc-881a-596e8893517b\",\"type\":\"ColumnDataSource\"},{\"attributes\":{\"bottom_units\":\"screen\",\"fill_alpha\":{\"value\":0.5},\"fill_color\":{\"value\":\"lightgrey\"},\"left_units\":\"screen\",\"level\":\"overlay\",\"line_alpha\":{\"value\":1.0},\"line_color\":{\"value\":\"black\"},\"line_dash\":[4,4],\"line_width\":{\"value\":2},\"plot\":null,\"render_mode\":\"css\",\"right_units\":\"screen\",\"top_units\":\"screen\"},\"id\":\"60ace50b-6365-4bbd-9ce9-915f5d2185e9\",\"type\":\"BoxAnnotation\"},{\"attributes\":{\"fill_alpha\":{\"field\":\"fill_alpha\"},\"fill_color\":{\"field\":\"color\"},\"height\":{\"field\":\"height\",\"units\":\"data\"},\"line_color\":{\"field\":\"line_color\"},\"width\":{\"field\":\"width\",\"units\":\"data\"},\"x\":{\"field\":\"x\"},\"y\":{\"field\":\"y\"}},\"id\":\"1b87f7d0-1747-4791-b37d-6446462c0d09\",\"type\":\"Rect\"},{\"attributes\":{\"fill_alpha\":{\"field\":\"fill_alpha\"},\"fill_color\":{\"field\":\"color\"},\"height\":{\"field\":\"height\",\"units\":\"data\"},\"line_color\":{\"field\":\"line_color\"},\"width\":{\"field\":\"width\",\"units\":\"data\"},\"x\":{\"field\":\"x\"},\"y\":{\"field\":\"y\"}},\"id\":\"66a943c4-d937-4540-8685-6bf4d8d6412c\",\"type\":\"Rect\"},{\"attributes\":{\"callback\":null,\"column_names\":[\"x0s\",\"y0s\",\"x1s\",\"y1s\"],\"data\":{\"chart_index\":[{\"country_name\":\"Democratic Republic of the Congo\"},{\"country_name\":\"Democratic Republic of the Congo\"},{\"country_name\":\"Democratic Republic of the Congo\"},{\"country_name\":\"Democratic Republic of the Congo\"}],\"country_name\":[\"Democratic Republic of the Congo\",\"Democratic Republic of the Congo\",\"Democratic Republic of the Congo\",\"Democratic Republic of the Congo\"],\"x0s\":[\"Democratic Republic of the Congo:0.5\",\"Democratic Republic of the Congo:0.65\",\"Democratic Republic of the Congo:0.5\",\"Democratic Republic of the Congo:0.65\"],\"x1s\":[\"Democratic Republic of the Congo:0.5\",\"Democratic Republic of the Congo:0.35\",\"Democratic Republic of the Congo:0.5\",\"Democratic Republic of the Congo:0.35\"],\"y0s\":[1.0,1.0,187.0,280.0],\"y1s\":[15.0,1.0,280.0,280.0]}},\"id\":\"d2c6a65b-1449-4b56-8140-a440a8e8a8eb\",\"type\":\"ColumnDataSource\"},{\"attributes\":{\"fill_alpha\":{\"field\":\"fill_alpha\"},\"fill_color\":{\"field\":\"color\"},\"height\":{\"field\":\"height\",\"units\":\"data\"},\"line_color\":{\"field\":\"line_color\"},\"width\":{\"field\":\"width\",\"units\":\"data\"},\"x\":{\"field\":\"x\"},\"y\":{\"field\":\"y\"}},\"id\":\"0d772031-eb92-4bfe-bafe-39fba44979b2\",\"type\":\"Rect\"},{\"attributes\":{},\"id\":\"70b14fdf-570c-4e95-bd65-f4b7b47b749f\",\"type\":\"CategoricalTicker\"},{\"attributes\":{\"callback\":null,\"column_names\":[\"x0s\",\"y0s\",\"x1s\",\"y1s\"],\"data\":{\"chart_index\":[{\"country_name\":\"Philippines\"},{\"country_name\":\"Philippines\"},{\"country_name\":\"Philippines\"},{\"country_name\":\"Philippines\"}],\"country_name\":[\"Philippines\",\"Philippines\",\"Philippines\",\"Philippines\"],\"x0s\":[\"Philippines:0.5\",\"Philippines:0.65\",\"Philippines:0.5\",\"Philippines:0.65\"],\"x1s\":[\"Philippines:0.5\",\"Philippines:0.35\",\"Philippines:0.5\",\"Philippines:0.35\"],\"y0s\":[0.0,0.0,0.0,0.0],\"y1s\":[0.0,0.0,0.0,0.0]}},\"id\":\"e378cc33-a26e-4bd2-a531-09a5df2a81af\",\"type\":\"ColumnDataSource\"},{\"attributes\":{\"line_color\":{\"value\":\"#c33ff3\"},\"line_width\":{\"value\":2},\"x0\":{\"field\":\"x0s\"},\"x1\":{\"field\":\"x1s\"},\"y0\":{\"field\":\"y0s\"},\"y1\":{\"field\":\"y1s\"}},\"id\":\"2e0ff20e-0286-492a-abac-a41388137a40\",\"type\":\"Segment\"},{\"attributes\":{\"callback\":null,\"column_names\":[\"line_color\",\"line_alpha\",\"color\",\"fill_alpha\",\"height\",\"width\",\"y\",\"x\"],\"data\":{\"chart_index\":[{\"index\":\"South Africa\"}],\"color\":[\"navy\"],\"fill_alpha\":[0.8],\"height\":[3.0303030303030303],\"index\":[\"South Africa\"],\"line_alpha\":[1.0],\"line_color\":[\"white\"],\"width\":[0.8],\"x\":[\"South Africa\"],\"y\":[1.5151515151515151]}},\"id\":\"ddf532e3-f1d8-46c0-9709-b92f68f09884\",\"type\":\"ColumnDataSource\"},{\"attributes\":{\"plot\":{\"id\":\"7119aaf3-0906-4c09-a963-7a12142acb18\",\"subtype\":\"Chart\",\"type\":\"Plot\"}},\"id\":\"8a428658-b6b4-4da0-a90c-d0aa5ce61872\",\"type\":\"ResizeTool\"},{\"attributes\":{\"fill_alpha\":{\"field\":\"fill_alpha\"},\"fill_color\":{\"field\":\"color\"},\"height\":{\"field\":\"height\",\"units\":\"data\"},\"line_color\":{\"field\":\"line_color\"},\"width\":{\"field\":\"width\",\"units\":\"data\"},\"x\":{\"field\":\"x\"},\"y\":{\"field\":\"y\"}},\"id\":\"6ac0f391-748f-4d17-ab04-a1a6ea2d716c\",\"type\":\"Rect\"},{\"attributes\":{\"callback\":null,\"column_names\":[\"line_color\",\"line_alpha\",\"color\",\"fill_alpha\",\"height\",\"width\",\"y\",\"x\"],\"data\":{\"chart_index\":[{\"country_name\":\"Gabon\"}],\"color\":[\"DimGrey\"],\"country_name\":[\"Gabon\"],\"fill_alpha\":[0.8],\"height\":[5.25],\"line_alpha\":[1.0],\"line_color\":[\"black\"],\"width\":[0.8],\"x\":[\"Gabon\"],\"y\":[58.625]}},\"id\":\"fa5b7cff-02cb-4df8-ae76-2432bf9118a4\",\"type\":\"ColumnDataSource\"},{\"attributes\":{\"data_source\":{\"id\":\"4c615dd5-b876-4d6e-9035-9ca4a722bf36\",\"type\":\"ColumnDataSource\"},\"glyph\":{\"id\":\"e75c026f-f3f4-429d-ba60-236f55902172\",\"type\":\"Rect\"},\"hover_glyph\":null,\"nonselection_glyph\":null,\"selection_glyph\":null},\"id\":\"07cb69c0-acff-4d92-82e5-ca4d4cdd2f36\",\"type\":\"GlyphRenderer\"},{\"attributes\":{\"fill_alpha\":{\"field\":\"fill_alpha\"},\"fill_color\":{\"field\":\"color\"},\"height\":{\"field\":\"height\",\"units\":\"data\"},\"line_color\":{\"field\":\"line_color\"},\"width\":{\"field\":\"width\",\"units\":\"data\"},\"x\":{\"field\":\"x\"},\"y\":{\"field\":\"y\"}},\"id\":\"15035cdb-3924-43af-83e5-1235dec21592\",\"type\":\"Rect\"},{\"attributes\":{\"callback\":null,\"column_names\":[\"x0s\",\"y0s\",\"x1s\",\"y1s\"],\"data\":{\"chart_index\":[{\"country_name\":\"Cote d'Ivoire (Ivory Coast)\"},{\"country_name\":\"Cote d'Ivoire (Ivory Coast)\"},{\"country_name\":\"Cote d'Ivoire (Ivory Coast)\"},{\"country_name\":\"Cote d'Ivoire (Ivory Coast)\"}],\"country_name\":[\"Cote d'Ivoire (Ivory Coast)\",\"Cote d'Ivoire (Ivory Coast)\",\"Cote d'Ivoire (Ivory Coast)\",\"Cote d'Ivoire (Ivory Coast)\"],\"x0s\":[\"Cote d'Ivoire (Ivory Coast):0.5\",\"Cote d'Ivoire (Ivory Coast):0.65\",\"Cote d'Ivoire (Ivory Coast):0.5\",\"Cote d'Ivoire (Ivory Coast):0.65\"],\"x1s\":[\"Cote d'Ivoire (Ivory Coast):0.5\",\"Cote d'Ivoire (Ivory Coast):0.35\",\"Cote d'Ivoire (Ivory Coast):0.5\",\"Cote d'Ivoire (Ivory Coast):0.35\"],\"y0s\":[0.0,0.0,0.0,0.0],\"y1s\":[0.0,0.0,0.0,0.0]}},\"id\":\"70c1dc3a-1af8-493e-9c5d-fc098f2245b0\",\"type\":\"ColumnDataSource\"},{\"attributes\":{\"callback\":null,\"column_names\":[\"line_color\",\"line_alpha\",\"color\",\"fill_alpha\",\"height\",\"width\",\"y\",\"x\"],\"data\":{\"chart_index\":[{\"country_name\":\"Russia\"}],\"color\":[\"DimGrey\"],\"country_name\":[\"Russia\"],\"fill_alpha\":[0.8],\"height\":[0.0],\"line_alpha\":[1.0],\"line_color\":[\"black\"],\"width\":[0.8],\"x\":[\"Russia\"],\"y\":[1.0]}},\"id\":\"02f8c07c-f0fc-4f4b-82d8-c75cd8272599\",\"type\":\"ColumnDataSource\"},{\"attributes\":{\"callback\":null,\"column_names\":[\"line_color\",\"line_alpha\",\"color\",\"fill_alpha\",\"height\",\"width\",\"y\",\"x\"],\"data\":{\"chart_index\":[{\"country_name\":\"South Africa\"}],\"color\":[\"DimGrey\"],\"country_name\":[\"South Africa\"],\"fill_alpha\":[0.8],\"height\":[0],\"line_alpha\":[1.0],\"line_color\":[\"black\"],\"width\":[0.8],\"x\":[\"South Africa\"],\"y\":[2.0]}},\"id\":\"4b632759-0eb2-48f3-b0fd-918eb4c45d7c\",\"type\":\"ColumnDataSource\"},{\"attributes\":{\"callback\":null,\"column_names\":[\"line_color\",\"line_alpha\",\"color\",\"fill_alpha\",\"height\",\"width\",\"y\",\"x\"],\"data\":{\"chart_index\":[{\"country_name\":\"Italy\"}],\"color\":[\"DimGrey\"],\"country_name\":[\"Italy\"],\"fill_alpha\":[0.8],\"height\":[0.0],\"line_alpha\":[1.0],\"line_color\":[\"black\"],\"width\":[0.8],\"x\":[\"Italy\"],\"y\":[0.0]}},\"id\":\"75150e0b-f0d1-499d-82f1-c453b0d5b85c\",\"type\":\"ColumnDataSource\"},{\"attributes\":{\"callback\":null,\"column_names\":[\"line_color\",\"line_alpha\",\"color\",\"fill_alpha\",\"height\",\"width\",\"y\",\"x\"],\"data\":{\"chart_index\":[{\"country_name\":\"Philippines\"}],\"color\":[\"DimGrey\"],\"country_name\":[\"Philippines\"],\"fill_alpha\":[0.8],\"height\":[0.0],\"line_alpha\":[1.0],\"line_color\":[\"black\"],\"width\":[0.8],\"x\":[\"Philippines\"],\"y\":[0.0]}},\"id\":\"71107b57-9437-4d70-bd0a-c5e37a129597\",\"type\":\"ColumnDataSource\"},{\"attributes\":{\"line_color\":{\"value\":\"#407ee7\"},\"line_width\":{\"value\":2},\"x0\":{\"field\":\"x0s\"},\"x1\":{\"field\":\"x1s\"},\"y0\":{\"field\":\"y0s\"},\"y1\":{\"field\":\"y1s\"}},\"id\":\"d0238fc1-af91-4f96-ae64-7bcf89f020f2\",\"type\":\"Segment\"},{\"attributes\":{\"callback\":null,\"column_names\":[\"x0s\",\"y0s\",\"x1s\",\"y1s\"],\"data\":{\"chart_index\":[{\"country_name\":\"Russia\"},{\"country_name\":\"Russia\"},{\"country_name\":\"Russia\"},{\"country_name\":\"Russia\"}],\"country_name\":[\"Russia\",\"Russia\",\"Russia\",\"Russia\"],\"x0s\":[\"Russia:0.5\",\"Russia:0.65\",\"Russia:0.5\",\"Russia:0.65\"],\"x1s\":[\"Russia:0.5\",\"Russia:0.35\",\"Russia:0.5\",\"Russia:0.35\"],\"y0s\":[1.0,1.0,1.0,1.0],\"y1s\":[1.0,1.0,1.0,1.0]}},\"id\":\"c59506ad-8d60-4800-9120-d446ccc5b9a6\",\"type\":\"ColumnDataSource\"},{\"attributes\":{},\"id\":\"ad59fc4f-288c-4e97-af4b-86bf5c5cf881\",\"type\":\"CategoricalTickFormatter\"},{\"attributes\":{\"data_source\":{\"id\":\"4e3c6477-2f40-4236-97b1-9e760a59e3ec\",\"type\":\"ColumnDataSource\"},\"glyph\":{\"id\":\"875db077-2d1f-4e4c-babf-8e71fe381cee\",\"type\":\"Segment\"},\"hover_glyph\":null,\"nonselection_glyph\":null,\"selection_glyph\":null},\"id\":\"40203ce7-c86f-4542-82fc-353c18676f80\",\"type\":\"GlyphRenderer\"},{\"attributes\":{},\"id\":\"8e213646-c99f-4aa3-a09c-83d4e7f3f87c\",\"type\":\"BasicTickFormatter\"},{\"attributes\":{\"data_source\":{\"id\":\"f6a5863d-c8c9-4a05-ab3c-4ea93c1db929\",\"type\":\"ColumnDataSource\"},\"glyph\":{\"id\":\"f43b2ab6-304a-4c84-b1f6-029a7676419c\",\"type\":\"Segment\"},\"hover_glyph\":null,\"nonselection_glyph\":null,\"selection_glyph\":null},\"id\":\"6d6c4447-ad4e-41ae-b217-0737703358f1\",\"type\":\"GlyphRenderer\"},{\"attributes\":{\"fill_alpha\":{\"field\":\"fill_alpha\"},\"fill_color\":{\"field\":\"color\"},\"height\":{\"field\":\"height\",\"units\":\"data\"},\"line_color\":{\"field\":\"line_color\"},\"width\":{\"field\":\"width\",\"units\":\"data\"},\"x\":{\"field\":\"x\"},\"y\":{\"field\":\"y\"}},\"id\":\"cfa685ef-fca9-42db-b8de-3fadd89ef705\",\"type\":\"Rect\"},{\"attributes\":{\"data_source\":{\"id\":\"75150e0b-f0d1-499d-82f1-c453b0d5b85c\",\"type\":\"ColumnDataSource\"},\"glyph\":{\"id\":\"dcc72ceb-ff0a-4430-994e-990b3d085f25\",\"type\":\"Rect\"},\"hover_glyph\":null,\"nonselection_glyph\":null,\"selection_glyph\":null},\"id\":\"3a1a1a98-a8b1-4196-ad8c-1c08dc5f5beb\",\"type\":\"GlyphRenderer\"},{\"attributes\":{\"fill_alpha\":{\"field\":\"fill_alpha\"},\"fill_color\":{\"field\":\"color\"},\"height\":{\"field\":\"height\",\"units\":\"data\"},\"line_color\":{\"field\":\"line_color\"},\"width\":{\"field\":\"width\",\"units\":\"data\"},\"x\":{\"field\":\"x\"},\"y\":{\"field\":\"y\"}},\"id\":\"476b15c9-2ac2-479a-8583-35cc0bc16f24\",\"type\":\"Rect\"},{\"attributes\":{\"fill_alpha\":{\"field\":\"fill_alpha\"},\"fill_color\":{\"field\":\"color\"},\"height\":{\"field\":\"height\",\"units\":\"data\"},\"line_color\":{\"field\":\"line_color\"},\"width\":{\"field\":\"width\",\"units\":\"data\"},\"x\":{\"field\":\"x\"},\"y\":{\"field\":\"y\"}},\"id\":\"12b8ee00-b8b0-435a-83e4-9c266f07efb2\",\"type\":\"Rect\"},{\"attributes\":{\"data_source\":{\"id\":\"88bb0baa-2613-44de-a79e-41bc03e61f46\",\"type\":\"ColumnDataSource\"},\"glyph\":{\"id\":\"137c7afe-afc7-45a5-ab94-c9110f160944\",\"type\":\"Rect\"},\"hover_glyph\":null,\"nonselection_glyph\":null,\"selection_glyph\":null},\"id\":\"92a28bc0-5a42-485c-8ac4-5649701973c4\",\"type\":\"GlyphRenderer\"},{\"attributes\":{\"data_source\":{\"id\":\"8e62c1cc-bd90-43f1-94e6-d370c635c22d\",\"type\":\"ColumnDataSource\"},\"glyph\":{\"id\":\"7be890f0-862d-41da-bdeb-20e7826d5c56\",\"type\":\"Rect\"},\"hover_glyph\":null,\"nonselection_glyph\":null,\"selection_glyph\":null},\"id\":\"ac4abc80-c510-425b-b893-b57762916cc1\",\"type\":\"GlyphRenderer\"},{\"attributes\":{\"callback\":null,\"column_names\":[\"line_color\",\"line_alpha\",\"color\",\"fill_alpha\",\"height\",\"width\",\"y\",\"x\"],\"data\":{\"chart_index\":[{\"country_name\":\"Uganda\"}],\"color\":[\"DimGrey\"],\"country_name\":[\"Uganda\"],\"fill_alpha\":[0.8],\"height\":[5.0],\"line_alpha\":[1.0],\"line_color\":[\"black\"],\"width\":[0.8],\"x\":[\"Uganda\"],\"y\":[8.5]}},\"id\":\"f4412460-c4ae-46db-813d-b3bea75eef09\",\"type\":\"ColumnDataSource\"},{\"attributes\":{\"callback\":null,\"end\":381.675},\"id\":\"45bda340-0ac4-485d-9459-a8a21394a39f\",\"type\":\"Range1d\"},{\"attributes\":{\"data_source\":{\"id\":\"ef1ad82f-fef2-4787-a8e2-e19bddae4366\",\"type\":\"ColumnDataSource\"},\"glyph\":{\"id\":\"791c2cfa-2f1f-49a8-80b0-ce2eddcaaf2d\",\"type\":\"Rect\"},\"hover_glyph\":null,\"nonselection_glyph\":null,\"selection_glyph\":null},\"id\":\"226a2ded-b4cc-4690-b2e7-30a490bb9430\",\"type\":\"GlyphRenderer\"},{\"attributes\":{\"plot\":{\"id\":\"2bfcafda-0d2e-4073-a3e8-c015b2ba4f80\",\"subtype\":\"Chart\",\"type\":\"Plot\"}},\"id\":\"2c0320f1-b6b5-49fb-b833-80d78270619f\",\"type\":\"PreviewSaveTool\"},{\"attributes\":{\"data_source\":{\"id\":\"084c3d90-7ca9-4a65-91c0-d10db15d30da\",\"type\":\"ColumnDataSource\"},\"glyph\":{\"id\":\"1b87f7d0-1747-4791-b37d-6446462c0d09\",\"type\":\"Rect\"},\"hover_glyph\":null,\"nonselection_glyph\":null,\"selection_glyph\":null},\"id\":\"910ba02b-6e8d-4d89-86b1-eb53a6463089\",\"type\":\"GlyphRenderer\"},{\"attributes\":{\"data_source\":{\"id\":\"39969b35-4e48-4dc0-a904-b7a2a492983d\",\"type\":\"ColumnDataSource\"},\"glyph\":{\"id\":\"8f336ca7-e630-40d3-b0a7-9528e8584e47\",\"type\":\"Rect\"},\"hover_glyph\":null,\"nonselection_glyph\":null,\"selection_glyph\":null},\"id\":\"107a0dcb-3eb2-4c2f-b4e7-40211ecf62ac\",\"type\":\"GlyphRenderer\"},{\"attributes\":{\"overlay\":{\"id\":\"11613b1c-7919-4f5d-a840-00ee7f427cf8\",\"type\":\"BoxAnnotation\"},\"plot\":{\"id\":\"bd3ca643-f5bd-432b-815d-18c8e96bd007\",\"subtype\":\"Chart\",\"type\":\"Plot\"}},\"id\":\"5a73997c-d254-4463-a5e8-1940b7d9fc7a\",\"type\":\"BoxZoomTool\"},{\"attributes\":{\"data_source\":{\"id\":\"de35058c-a016-4939-83ea-5fd2603e41cc\",\"type\":\"ColumnDataSource\"},\"glyph\":{\"id\":\"87b4ef31-ad3a-451e-92e0-66cef181c638\",\"type\":\"Rect\"},\"hover_glyph\":null,\"nonselection_glyph\":null,\"selection_glyph\":null},\"id\":\"3e3af389-b726-44a7-af4c-51492faf7874\",\"type\":\"GlyphRenderer\"},{\"attributes\":{\"data_source\":{\"id\":\"821e5e5e-1efc-419c-8c0a-917b5ad4696a\",\"type\":\"ColumnDataSource\"},\"glyph\":{\"id\":\"1cbc16e8-ff2b-41e3-88b9-762969c27afc\",\"type\":\"Segment\"},\"hover_glyph\":null,\"nonselection_glyph\":null,\"selection_glyph\":null},\"id\":\"5dfc1085-2532-419a-969d-01b1d7f3ec27\",\"type\":\"GlyphRenderer\"},{\"attributes\":{\"fill_alpha\":{\"field\":\"fill_alpha\"},\"fill_color\":{\"field\":\"color\"},\"height\":{\"field\":\"height\",\"units\":\"data\"},\"line_color\":{\"field\":\"line_color\"},\"width\":{\"field\":\"width\",\"units\":\"data\"},\"x\":{\"field\":\"x\"},\"y\":{\"field\":\"y\"}},\"id\":\"4ccff099-fd2c-4e4a-9917-c59b854f502a\",\"type\":\"Rect\"},{\"attributes\":{\"data_source\":{\"id\":\"0600d360-b276-4f93-85ac-53324576e4e8\",\"type\":\"ColumnDataSource\"},\"glyph\":{\"id\":\"eac6959a-dba1-44c0-8fad-0fe2def8365a\",\"type\":\"Rect\"},\"hover_glyph\":null,\"nonselection_glyph\":null,\"selection_glyph\":null},\"id\":\"c788eeb6-73f3-4f24-8235-8fa7f59549e0\",\"type\":\"GlyphRenderer\"},{\"attributes\":{\"callback\":null,\"column_names\":[\"x0s\",\"y0s\",\"x1s\",\"y1s\"],\"data\":{\"chart_index\":[{\"country_name\":\"South Africa\"},{\"country_name\":\"South Africa\"},{\"country_name\":\"South Africa\"},{\"country_name\":\"South Africa\"}],\"country_name\":[\"South Africa\",\"South Africa\",\"South Africa\",\"South Africa\"],\"x0s\":[\"South Africa:0.5\",\"South Africa:0.65\",\"South Africa:0.5\",\"South Africa:0.65\"],\"x1s\":[\"South Africa:0.5\",\"South Africa:0.35\",\"South Africa:0.5\",\"South Africa:0.35\"],\"y0s\":[1.0,1.0,1.0,1.0],\"y1s\":[1.0,1.0,1.0,1.0]}},\"id\":\"821e5e5e-1efc-419c-8c0a-917b5ad4696a\",\"type\":\"ColumnDataSource\"},{\"attributes\":{\"dimension\":1,\"plot\":{\"id\":\"2bfcafda-0d2e-4073-a3e8-c015b2ba4f80\",\"subtype\":\"Chart\",\"type\":\"Plot\"},\"ticker\":{\"id\":\"8a79a902-a3d8-411d-ad6a-036679718d6a\",\"type\":\"BasicTicker\"}},\"id\":\"96daecc6-6e3d-49f4-877b-cb4858a5d811\",\"type\":\"Grid\"},{\"attributes\":{\"callback\":null,\"column_names\":[\"x0s\",\"y0s\",\"x1s\",\"y1s\"],\"data\":{\"chart_index\":[{\"country_name\":\"USA\"},{\"country_name\":\"USA\"},{\"country_name\":\"USA\"},{\"country_name\":\"USA\"}],\"country_name\":[\"USA\",\"USA\",\"USA\",\"USA\"],\"x0s\":[\"USA:0.5\",\"USA:0.65\",\"USA:0.5\",\"USA:0.65\"],\"x1s\":[\"USA:0.5\",\"USA:0.35\",\"USA:0.5\",\"USA:0.35\"],\"y0s\":[0.0,0.0,2.0,4.0],\"y1s\":[0.0,0.0,4.0,4.0]}},\"id\":\"4e3c6477-2f40-4236-97b1-9e760a59e3ec\",\"type\":\"ColumnDataSource\"},{\"attributes\":{\"fill_alpha\":{\"field\":\"fill_alpha\"},\"fill_color\":{\"field\":\"color\"},\"height\":{\"field\":\"height\",\"units\":\"data\"},\"line_color\":{\"field\":\"line_color\"},\"width\":{\"field\":\"width\",\"units\":\"data\"},\"x\":{\"field\":\"x\"},\"y\":{\"field\":\"y\"}},\"id\":\"87b4ef31-ad3a-451e-92e0-66cef181c638\",\"type\":\"Rect\"},{\"attributes\":{\"fill_alpha\":{\"field\":\"fill_alpha\"},\"fill_color\":{\"field\":\"color\"},\"height\":{\"field\":\"height\",\"units\":\"data\"},\"line_color\":{\"field\":\"line_color\"},\"width\":{\"field\":\"width\",\"units\":\"data\"},\"x\":{\"field\":\"x\"},\"y\":{\"field\":\"y\"}},\"id\":\"e17bc44d-0f4f-42ff-b0f8-aff9da46cf41\",\"type\":\"Rect\"},{\"attributes\":{\"line_color\":{\"value\":\"#00ad9c\"},\"line_width\":{\"value\":2},\"x0\":{\"field\":\"x0s\"},\"x1\":{\"field\":\"x1s\"},\"y0\":{\"field\":\"y0s\"},\"y1\":{\"field\":\"y1s\"}},\"id\":\"6f3a520a-cfa1-4dda-8e0d-07400605ab64\",\"type\":\"Segment\"},{\"attributes\":{\"fill_alpha\":{\"field\":\"fill_alpha\"},\"fill_color\":{\"field\":\"color\"},\"height\":{\"field\":\"height\",\"units\":\"data\"},\"line_color\":{\"field\":\"line_color\"},\"width\":{\"field\":\"width\",\"units\":\"data\"},\"x\":{\"field\":\"x\"},\"y\":{\"field\":\"y\"}},\"id\":\"24ad0e18-daad-4eb4-ab70-1aed8449ac80\",\"type\":\"Rect\"},{\"attributes\":{\"data_source\":{\"id\":\"68df41f3-57ee-4659-9e6a-ee164464fa29\",\"type\":\"ColumnDataSource\"},\"glyph\":{\"id\":\"6f3a520a-cfa1-4dda-8e0d-07400605ab64\",\"type\":\"Segment\"},\"hover_glyph\":null,\"nonselection_glyph\":null,\"selection_glyph\":null},\"id\":\"5501c78f-ee35-43ef-b129-fa400f10db1c\",\"type\":\"GlyphRenderer\"},{\"attributes\":{\"callback\":null,\"column_names\":[\"line_color\",\"line_alpha\",\"color\",\"fill_alpha\",\"height\",\"width\",\"y\",\"x\"],\"data\":{\"chart_index\":[{\"country_name\":\"Democratic Republic of the Congo\"}],\"color\":[\"DimGrey\"],\"country_name\":[\"Democratic Republic of the Congo\"],\"fill_alpha\":[0.8],\"height\":[22.0],\"line_alpha\":[1.0],\"line_color\":[\"black\"],\"width\":[0.8],\"x\":[\"Democratic Republic of the Congo\"],\"y\":[46.0]}},\"id\":\"1e49250f-8928-4910-a053-ba876c048362\",\"type\":\"ColumnDataSource\"},{\"attributes\":{},\"id\":\"8dd33a81-57fb-4e23-8c79-c770891734d7\",\"type\":\"ToolEvents\"},{\"attributes\":{\"axis_label\":\"Sum( Proportions Of Outbreaks (%) )\",\"formatter\":{\"id\":\"693225d6-78b7-44bc-9c66-a05b8b998a7f\",\"type\":\"BasicTickFormatter\"},\"plot\":{\"id\":\"bd3ca643-f5bd-432b-815d-18c8e96bd007\",\"subtype\":\"Chart\",\"type\":\"Plot\"},\"ticker\":{\"id\":\"b4a6a765-2967-488d-a849-7e61355ade5c\",\"type\":\"BasicTicker\"}},\"id\":\"5021427a-3055-44b0-ad21-afd4dd16d559\",\"type\":\"LinearAxis\"},{\"attributes\":{\"data_source\":{\"id\":\"46ef4eaf-407c-48f7-9ef5-9d2d8b9a17f5\",\"type\":\"ColumnDataSource\"},\"glyph\":{\"id\":\"a4682482-040a-4397-94bf-94ea4448921e\",\"type\":\"Rect\"},\"hover_glyph\":null,\"nonselection_glyph\":null,\"selection_glyph\":null},\"id\":\"f4301cfd-b339-48c8-968c-73ff40b5701e\",\"type\":\"GlyphRenderer\"},{\"attributes\":{\"callback\":null,\"column_names\":[\"line_color\",\"line_alpha\",\"color\",\"fill_alpha\",\"height\",\"width\",\"y\",\"x\"],\"data\":{\"chart_index\":[{\"country_name\":\"Philippines\"}],\"color\":[\"DimGrey\"],\"country_name\":[\"Philippines\"],\"fill_alpha\":[0.8],\"height\":[0.0],\"line_alpha\":[1.0],\"line_color\":[\"black\"],\"width\":[0.8],\"x\":[\"Philippines\"],\"y\":[0.0]}},\"id\":\"8e62c1cc-bd90-43f1-94e6-d370c635c22d\",\"type\":\"ColumnDataSource\"},{\"attributes\":{\"line_color\":{\"value\":\"#00ad9c\"},\"line_width\":{\"value\":2},\"x0\":{\"field\":\"x0s\"},\"x1\":{\"field\":\"x1s\"},\"y0\":{\"field\":\"y0s\"},\"y1\":{\"field\":\"y1s\"}},\"id\":\"1267cc11-3076-4635-b47e-efa62cb3ddd2\",\"type\":\"Segment\"},{\"attributes\":{\"data_source\":{\"id\":\"943b7f96-5903-4575-84ad-5c5dafd5e1e2\",\"type\":\"ColumnDataSource\"},\"glyph\":{\"id\":\"ac367b02-4da9-4530-aadc-f340dc15ae4d\",\"type\":\"Rect\"},\"hover_glyph\":null,\"nonselection_glyph\":null,\"selection_glyph\":null},\"id\":\"8b2b5e42-05e0-4d5b-afe6-5c6ec684caa0\",\"type\":\"GlyphRenderer\"},{\"attributes\":{\"fill_alpha\":{\"field\":\"fill_alpha\"},\"fill_color\":{\"field\":\"color\"},\"height\":{\"field\":\"height\",\"units\":\"data\"},\"line_color\":{\"field\":\"line_color\"},\"width\":{\"field\":\"width\",\"units\":\"data\"},\"x\":{\"field\":\"x\"},\"y\":{\"field\":\"y\"}},\"id\":\"dc40bcd6-eef5-404e-ba90-55a707778f1c\",\"type\":\"Rect\"},{\"attributes\":{\"fill_alpha\":{\"field\":\"fill_alpha\"},\"fill_color\":{\"field\":\"color\"},\"height\":{\"field\":\"height\",\"units\":\"data\"},\"line_color\":{\"field\":\"line_color\"},\"width\":{\"field\":\"width\",\"units\":\"data\"},\"x\":{\"field\":\"x\"},\"y\":{\"field\":\"y\"}},\"id\":\"1ec7fef7-6e5c-433e-b37b-e8de041d59ca\",\"type\":\"Rect\"},{\"attributes\":{\"fill_alpha\":{\"field\":\"fill_alpha\"},\"fill_color\":{\"field\":\"color\"},\"height\":{\"field\":\"height\",\"units\":\"data\"},\"line_color\":{\"field\":\"line_color\"},\"width\":{\"field\":\"width\",\"units\":\"data\"},\"x\":{\"field\":\"x\"},\"y\":{\"field\":\"y\"}},\"id\":\"3c04497c-9c5e-403e-ae46-a4e5309d982f\",\"type\":\"Rect\"},{\"attributes\":{\"callback\":null,\"column_names\":[\"line_color\",\"line_alpha\",\"color\",\"fill_alpha\",\"height\",\"width\",\"y\",\"x\"],\"data\":{\"chart_index\":[{\"country_name\":\"Italy\"}],\"color\":[\"DimGrey\"],\"country_name\":[\"Italy\"],\"fill_alpha\":[0.8],\"height\":[0.0],\"line_alpha\":[1.0],\"line_color\":[\"black\"],\"width\":[0.8],\"x\":[\"Italy\"],\"y\":[0.0]}},\"id\":\"f96e3b15-94f4-4304-a36b-ca3119dce8b4\",\"type\":\"ColumnDataSource\"},{\"attributes\":{\"callback\":null,\"column_names\":[\"line_color\",\"line_alpha\",\"color\",\"fill_alpha\",\"height\",\"width\",\"y\",\"x\"],\"data\":{\"chart_index\":[{\"index\":\"England\"}],\"color\":[\"navy\"],\"fill_alpha\":[0.8],\"height\":[3.0303030303030303],\"index\":[\"England\"],\"line_alpha\":[1.0],\"line_color\":[\"white\"],\"width\":[0.8],\"x\":[\"England\"],\"y\":[1.5151515151515151]}},\"id\":\"bd6485d4-36b8-492c-911a-241bef8682b3\",\"type\":\"ColumnDataSource\"},{\"attributes\":{\"data_source\":{\"id\":\"3e70dc86-8205-4a4c-a929-780ee2f21ee3\",\"type\":\"ColumnDataSource\"},\"glyph\":{\"id\":\"d45d7b0a-4332-4ab4-9901-2611780e1579\",\"type\":\"Segment\"},\"hover_glyph\":null,\"nonselection_glyph\":null,\"selection_glyph\":null},\"id\":\"e3780472-4bbc-49a5-a2b9-8d6ec2dbcf9f\",\"type\":\"GlyphRenderer\"},{\"attributes\":{\"callback\":null,\"column_names\":[\"line_color\",\"line_alpha\",\"color\",\"fill_alpha\",\"height\",\"width\",\"y\",\"x\"],\"data\":{\"chart_index\":[{\"index\":\"Philippines\"}],\"color\":[\"navy\"],\"fill_alpha\":[0.8],\"height\":[9.090909090909092],\"index\":[\"Philippines\"],\"line_alpha\":[1.0],\"line_color\":[\"white\"],\"width\":[0.8],\"x\":[\"Philippines\"],\"y\":[4.545454545454546]}},\"id\":\"22877ff7-eee5-4368-a59b-1f50dcea4331\",\"type\":\"ColumnDataSource\"},{\"attributes\":{\"callback\":null,\"column_names\":[\"line_color\",\"line_alpha\",\"color\",\"fill_alpha\",\"height\",\"width\",\"y\",\"x\"],\"data\":{\"chart_index\":[{\"country_name\":\"Sudan (South Sudan)\"}],\"color\":[\"DimGrey\"],\"country_name\":[\"Sudan (South Sudan)\"],\"fill_alpha\":[0.8],\"height\":[64.5],\"line_alpha\":[1.0],\"line_color\":[\"black\"],\"width\":[0.8],\"x\":[\"Sudan (South Sudan)\"],\"y\":[54.25]}},\"id\":\"7770e02a-a72e-4110-b29c-fe1d09809916\",\"type\":\"ColumnDataSource\"},{\"attributes\":{\"fill_alpha\":{\"field\":\"fill_alpha\"},\"fill_color\":{\"field\":\"color\"},\"height\":{\"field\":\"height\",\"units\":\"data\"},\"line_color\":{\"field\":\"line_color\"},\"width\":{\"field\":\"width\",\"units\":\"data\"},\"x\":{\"field\":\"x\"},\"y\":{\"field\":\"y\"}},\"id\":\"8096eb6d-08ac-4134-9eea-78b3d1343652\",\"type\":\"Rect\"},{\"attributes\":{\"fill_alpha\":{\"field\":\"fill_alpha\"},\"fill_color\":{\"field\":\"color\"},\"height\":{\"field\":\"height\",\"units\":\"data\"},\"line_color\":{\"field\":\"line_color\"},\"width\":{\"field\":\"width\",\"units\":\"data\"},\"x\":{\"field\":\"x\"},\"y\":{\"field\":\"y\"}},\"id\":\"2073c30c-8f15-4783-adff-6f3f2fb1838f\",\"type\":\"Rect\"},{\"attributes\":{\"callback\":null,\"end\":294.0},\"id\":\"47b69087-7a39-415c-bf02-392edd9e7095\",\"type\":\"Range1d\"},{\"attributes\":{\"callback\":null,\"column_names\":[\"line_color\",\"line_alpha\",\"color\",\"fill_alpha\",\"height\",\"width\",\"y\",\"x\"],\"data\":{\"chart_index\":[{\"country_name\":\"Russia\"}],\"color\":[\"DimGrey\"],\"country_name\":[\"Russia\"],\"fill_alpha\":[0.8],\"height\":[0.0],\"line_alpha\":[1.0],\"line_color\":[\"black\"],\"width\":[0.8],\"x\":[\"Russia\"],\"y\":[1.0]}},\"id\":\"8c6c36e0-7409-48d1-99a0-05299709abe2\",\"type\":\"ColumnDataSource\"},{\"attributes\":{},\"id\":\"b4a6a765-2967-488d-a849-7e61355ade5c\",\"type\":\"BasicTicker\"},{\"attributes\":{\"fill_alpha\":{\"field\":\"fill_alpha\"},\"fill_color\":{\"field\":\"color\"},\"height\":{\"field\":\"height\",\"units\":\"data\"},\"line_color\":{\"field\":\"line_color\"},\"width\":{\"field\":\"width\",\"units\":\"data\"},\"x\":{\"field\":\"x\"},\"y\":{\"field\":\"y\"}},\"id\":\"791c2cfa-2f1f-49a8-80b0-ce2eddcaaf2d\",\"type\":\"Rect\"},{\"attributes\":{\"callback\":null,\"column_names\":[\"line_color\",\"line_alpha\",\"color\",\"fill_alpha\",\"height\",\"width\",\"y\",\"x\"],\"data\":{\"chart_index\":[{\"country_name\":\"Cote d'Ivoire (Ivory Coast)\"}],\"color\":[\"DimGrey\"],\"country_name\":[\"Cote d'Ivoire (Ivory Coast)\"],\"fill_alpha\":[0.8],\"height\":[0],\"line_alpha\":[1.0],\"line_color\":[\"black\"],\"width\":[0.8],\"x\":[\"Cote d'Ivoire (Ivory Coast)\"],\"y\":[1.0]}},\"id\":\"a56fad3e-9765-4960-90e5-fc1bbf58f128\",\"type\":\"ColumnDataSource\"},{\"attributes\":{\"line_color\":{\"value\":\"#00ad9c\"},\"line_width\":{\"value\":2},\"x0\":{\"field\":\"x0s\"},\"x1\":{\"field\":\"x1s\"},\"y0\":{\"field\":\"y0s\"},\"y1\":{\"field\":\"y1s\"}},\"id\":\"d45d7b0a-4332-4ab4-9901-2611780e1579\",\"type\":\"Segment\"},{\"attributes\":{\"callback\":null,\"column_names\":[\"line_color\",\"line_alpha\",\"color\",\"fill_alpha\",\"height\",\"width\",\"y\",\"x\"],\"data\":{\"chart_index\":[{\"index\":\"Uganda\"}],\"color\":[\"navy\"],\"fill_alpha\":[0.8],\"height\":[15.151515151515152],\"index\":[\"Uganda\"],\"line_alpha\":[1.0],\"line_color\":[\"white\"],\"width\":[0.8],\"x\":[\"Uganda\"],\"y\":[7.575757575757576]}},\"id\":\"bb4a22f6-558e-4c25-ab34-fbec92040228\",\"type\":\"ColumnDataSource\"},{\"attributes\":{\"line_color\":{\"value\":\"#c33ff3\"},\"line_width\":{\"value\":2},\"x0\":{\"field\":\"x0s\"},\"x1\":{\"field\":\"x1s\"},\"y0\":{\"field\":\"y0s\"},\"y1\":{\"field\":\"y1s\"}},\"id\":\"64959594-9800-4451-8643-1cf1f4b8bc9f\",\"type\":\"Segment\"},{\"attributes\":{\"line_color\":{\"value\":\"#5ab738\"},\"line_width\":{\"value\":2},\"x0\":{\"field\":\"x0s\"},\"x1\":{\"field\":\"x1s\"},\"y0\":{\"field\":\"y0s\"},\"y1\":{\"field\":\"y1s\"}},\"id\":\"e77941d6-1919-4790-b5f3-2eece1805896\",\"type\":\"Segment\"},{\"attributes\":{\"plot\":{\"id\":\"bd3ca643-f5bd-432b-815d-18c8e96bd007\",\"subtype\":\"Chart\",\"type\":\"Plot\"}},\"id\":\"5981c6d7-95be-4837-bad0-db7a0a901fea\",\"type\":\"PanTool\"},{\"attributes\":{\"fill_alpha\":{\"field\":\"fill_alpha\"},\"fill_color\":{\"field\":\"color\"},\"height\":{\"field\":\"height\",\"units\":\"data\"},\"line_color\":{\"field\":\"line_color\"},\"width\":{\"field\":\"width\",\"units\":\"data\"},\"x\":{\"field\":\"x\"},\"y\":{\"field\":\"y\"}},\"id\":\"a6cd9b1d-2d8e-413d-8cb2-9c7e15d3f707\",\"type\":\"Rect\"},{\"attributes\":{},\"id\":\"10d2029a-c71e-4aa6-99f9-a291a28c104f\",\"type\":\"BasicTickFormatter\"},{\"attributes\":{\"data_source\":{\"id\":\"c59506ad-8d60-4800-9120-d446ccc5b9a6\",\"type\":\"ColumnDataSource\"},\"glyph\":{\"id\":\"5293b4f5-dfae-47f9-b0ba-dee0f2cf756e\",\"type\":\"Segment\"},\"hover_glyph\":null,\"nonselection_glyph\":null,\"selection_glyph\":null},\"id\":\"9a9b3f11-3b60-4f43-97ec-7cf8260c1ebf\",\"type\":\"GlyphRenderer\"},{\"attributes\":{\"fill_alpha\":{\"field\":\"fill_alpha\"},\"fill_color\":{\"field\":\"color\"},\"height\":{\"field\":\"height\",\"units\":\"data\"},\"line_color\":{\"field\":\"line_color\"},\"width\":{\"field\":\"width\",\"units\":\"data\"},\"x\":{\"field\":\"x\"},\"y\":{\"field\":\"y\"}},\"id\":\"b8e629de-cc15-4467-9642-250b95568ffa\",\"type\":\"Rect\"},{\"attributes\":{\"data_source\":{\"id\":\"1966ed92-b849-47fe-8868-ceff5c564fd2\",\"type\":\"ColumnDataSource\"},\"glyph\":{\"id\":\"e59fa539-74ea-43c6-9eca-bec4296bc901\",\"type\":\"Rect\"},\"hover_glyph\":null,\"nonselection_glyph\":null,\"selection_glyph\":null},\"id\":\"da029c52-34fd-40d9-bc0a-9d96510b4787\",\"type\":\"GlyphRenderer\"},{\"attributes\":{\"callback\":null,\"column_names\":[\"line_color\",\"line_alpha\",\"color\",\"fill_alpha\",\"height\",\"width\",\"y\",\"x\"],\"data\":{\"chart_index\":[{\"country_name\":\"Philippines\"}],\"color\":[\"DimGrey\"],\"country_name\":[\"Philippines\"],\"fill_alpha\":[0.8],\"height\":[1.5],\"line_alpha\":[1.0],\"line_color\":[\"black\"],\"width\":[0.8],\"x\":[\"Philippines\"],\"y\":[3.75]}},\"id\":\"46ef4eaf-407c-48f7-9ef5-9d2d8b9a17f5\",\"type\":\"ColumnDataSource\"},{\"attributes\":{\"callback\":null,\"column_names\":[\"x0s\",\"y0s\",\"x1s\",\"y1s\"],\"data\":{\"chart_index\":[{\"country_name\":\"South Africa\"},{\"country_name\":\"South Africa\"},{\"country_name\":\"South Africa\"},{\"country_name\":\"South Africa\"}],\"country_name\":[\"South Africa\",\"South Africa\",\"South Africa\",\"South Africa\"],\"x0s\":[\"South Africa:0.5\",\"South Africa:0.65\",\"South Africa:0.5\",\"South Africa:0.65\"],\"x1s\":[\"South Africa:0.5\",\"South Africa:0.35\",\"South Africa:0.5\",\"South Africa:0.35\"],\"y0s\":[2.0,2.0,2.0,2.0],\"y1s\":[2.0,2.0,2.0,2.0]}},\"id\":\"b3181d90-e8e4-48d9-899b-19894d81daf0\",\"type\":\"ColumnDataSource\"},{\"attributes\":{\"data_source\":{\"id\":\"e38cae95-6887-414a-8fbe-d25b46a4b39e\",\"type\":\"ColumnDataSource\"},\"glyph\":{\"id\":\"a5acc3df-d55c-4f82-a674-5a3d3fd9610f\",\"type\":\"Segment\"},\"hover_glyph\":null,\"nonselection_glyph\":null,\"selection_glyph\":null},\"id\":\"2a86e8a1-47d2-451d-8bb3-ea480bd098fa\",\"type\":\"GlyphRenderer\"},{\"attributes\":{\"overlay\":{\"id\":\"98a7590b-1b26-4a4b-8423-db283fa69bfc\",\"type\":\"BoxAnnotation\"},\"plot\":{\"id\":\"2bfcafda-0d2e-4073-a3e8-c015b2ba4f80\",\"subtype\":\"Chart\",\"type\":\"Plot\"}},\"id\":\"d880d3ac-0dfc-4377-b77c-924aede20131\",\"type\":\"BoxZoomTool\"}],\"root_ids\":[\"bd3ca643-f5bd-432b-815d-18c8e96bd007\",\"7119aaf3-0906-4c09-a963-7a12142acb18\",\"2bfcafda-0d2e-4073-a3e8-c015b2ba4f80\"]},\"title\":\"Bokeh Application\",\"version\":\"0.11.1\"}};\n",
       "            var render_items = [{\"docid\":\"c6d0e077-489c-4d25-86f0-79da7a31c50e\",\"elementid\":\"f76e68d9-ab7c-4ad8-987a-c5fbb6b75de7\",\"modelid\":\"2bfcafda-0d2e-4073-a3e8-c015b2ba4f80\",\"notebook_comms_target\":\"a74beff4-421d-4c88-b407-055b030a2f3f\"}];\n",
       "            \n",
       "            Bokeh.embed.embed_items(docs_json, render_items);\n",
       "        });\n",
       "      },\n",
       "      function(Bokeh) {\n",
       "      }\n",
       "    ];\n",
       "  \n",
       "    function run_inline_js() {\n",
       "      for (var i = 0; i < inline_js.length; i++) {\n",
       "        inline_js[i](window.Bokeh);\n",
       "      }\n",
       "    }\n",
       "  \n",
       "    if (window._bokeh_is_loading === 0) {\n",
       "      console.log(\"Bokeh: BokehJS loaded, going straight to plotting\");\n",
       "      run_inline_js();\n",
       "    } else {\n",
       "      load_libs(js_urls, function() {\n",
       "        console.log(\"Bokeh: BokehJS plotting callback run at\", now());\n",
       "        run_inline_js();\n",
       "      });\n",
       "    }\n",
       "  }(this));\n",
       "</script>"
      ]
     },
     "metadata": {},
     "output_type": "display_data"
    },
    {
     "data": {
      "text/html": [
       "<p><code>&lt;Bokeh Notebook handle for <strong>In[10]</strong>&gt;</code></p>"
      ],
      "text/plain": [
       "<bokeh.io._CommsHandle at 0x7ff1d885c9d0>"
      ]
     },
     "execution_count": 10,
     "metadata": {},
     "output_type": "execute_result"
    }
   ],
   "source": [
    "box_ed = BoxPlot(df_ebola_victims, values=\"reported_number_of_deaths_among_cases\", \n",
    "                 label='country_name', title=\"Number of deaths from ebola per country\",\n",
    "                 outliers=False, whisker_color='country_name')\n",
    "\n",
    "output_notebook()\n",
    "output_file(\"deaths.html\", title=\"Number of deaths from ebola per country\")\n",
    "\n",
    "show(box_ed)"
   ]
  },
  {
   "cell_type": "markdown",
   "metadata": {},
   "source": [
    "* The number of victims (cases and deaths) tends to vary in one country depending on the outbreak\n",
    "* The number of victims seem to correlate with the number of outbreak except when looking at The USA and South Sudan.\n",
    "\n",
    "The number of victims could be due to the country's health system or the moment in time when the outbreak occurred.\n",
    "\n",
    "=> It be interested to plot the number of victims vs the number of outbreaks, a value from WHO representing countries health system score and to look at the number of victims over time"
   ]
  },
  {
   "cell_type": "markdown",
   "metadata": {
    "collapsed": true
   },
   "source": [
    "I'd like to look at: \n",
    "* number of human cases vs virus subtype\n",
    "* number of human deaths vs virus subtype\n",
    "* number of outbreaks vs number of human cases\n",
    "* number of outbreaks vs average length of outbreaks\n",
    "* number of human cases vs average length of outbreaks\n",
    "* look at the timeline of global outbreaks and outbreaks per affected country\n",
    "* look at the global state of the most frequently affected countries"
   ]
  },
  {
   "cell_type": "markdown",
   "metadata": {},
   "source": [
    "#### Virus subtypes"
   ]
  },
  {
   "cell_type": "code",
   "execution_count": 16,
   "metadata": {
    "collapsed": false
   },
   "outputs": [
    {
     "data": {
      "text/html": [
       "<div>\n",
       "<table border=\"1\" class=\"dataframe\">\n",
       "  <thead>\n",
       "    <tr style=\"text-align: right;\">\n",
       "      <th></th>\n",
       "      <th>reported_number_of_human_cases</th>\n",
       "    </tr>\n",
       "    <tr>\n",
       "      <th>ebola_subtype</th>\n",
       "      <th></th>\n",
       "    </tr>\n",
       "  </thead>\n",
       "  <tbody>\n",
       "    <tr>\n",
       "      <th>Bundibugyo virus</th>\n",
       "      <td>185</td>\n",
       "    </tr>\n",
       "    <tr>\n",
       "      <th>Reston virus</th>\n",
       "      <td>13</td>\n",
       "    </tr>\n",
       "    <tr>\n",
       "      <th>Sudan virus</th>\n",
       "      <td>779</td>\n",
       "    </tr>\n",
       "    <tr>\n",
       "      <th>Taï Forest virus</th>\n",
       "      <td>1</td>\n",
       "    </tr>\n",
       "    <tr>\n",
       "      <th>Zaire virus</th>\n",
       "      <td>1383</td>\n",
       "    </tr>\n",
       "  </tbody>\n",
       "</table>\n",
       "</div>"
      ],
      "text/plain": [
       "                  reported_number_of_human_cases\n",
       "ebola_subtype                                   \n",
       "Bundibugyo virus                             185\n",
       "Reston virus                                  13\n",
       "Sudan virus                                  779\n",
       "Taï Forest virus                               1\n",
       "Zaire virus                                 1383"
      ]
     },
     "execution_count": 16,
     "metadata": {},
     "output_type": "execute_result"
    }
   ],
   "source": [
    "ebola_data[[\"ebola_subtype\", \"reported_number_of_human_cases\"]].groupby([\"ebola_subtype\"]).sum()"
   ]
  },
  {
   "cell_type": "code",
   "execution_count": 17,
   "metadata": {
    "collapsed": false
   },
   "outputs": [
    {
     "data": {
      "text/html": [
       "<div>\n",
       "<table border=\"1\" class=\"dataframe\">\n",
       "  <thead>\n",
       "    <tr style=\"text-align: right;\">\n",
       "      <th></th>\n",
       "      <th>reported_number_of_deaths_among_cases</th>\n",
       "    </tr>\n",
       "    <tr>\n",
       "      <th>ebola_subtype</th>\n",
       "      <th></th>\n",
       "    </tr>\n",
       "  </thead>\n",
       "  <tbody>\n",
       "    <tr>\n",
       "      <th>Bundibugyo virus</th>\n",
       "      <td>50</td>\n",
       "    </tr>\n",
       "    <tr>\n",
       "      <th>Reston virus</th>\n",
       "      <td>0</td>\n",
       "    </tr>\n",
       "    <tr>\n",
       "      <th>Sudan virus</th>\n",
       "      <td>412</td>\n",
       "    </tr>\n",
       "    <tr>\n",
       "      <th>Taï Forest virus</th>\n",
       "      <td>0</td>\n",
       "    </tr>\n",
       "    <tr>\n",
       "      <th>Zaire virus</th>\n",
       "      <td>1086</td>\n",
       "    </tr>\n",
       "  </tbody>\n",
       "</table>\n",
       "</div>"
      ],
      "text/plain": [
       "                  reported_number_of_deaths_among_cases\n",
       "ebola_subtype                                          \n",
       "Bundibugyo virus                                     50\n",
       "Reston virus                                          0\n",
       "Sudan virus                                         412\n",
       "Taï Forest virus                                      0\n",
       "Zaire virus                                        1086"
      ]
     },
     "execution_count": 17,
     "metadata": {},
     "output_type": "execute_result"
    }
   ],
   "source": [
    "ebola_data[[\"ebola_subtype\", \"reported_number_of_deaths_among_cases\"]].groupby([\"ebola_subtype\"]).sum()"
   ]
  },
  {
   "cell_type": "code",
   "execution_count": 18,
   "metadata": {
    "collapsed": true
   },
   "outputs": [],
   "source": [
    "ebola_virus_cases = ebola_data[[\"ebola_subtype\", \"reported_number_of_human_cases\"]]"
   ]
  },
  {
   "cell_type": "code",
   "execution_count": 34,
   "metadata": {
    "collapsed": false
   },
   "outputs": [
    {
     "ename": "KeyError",
     "evalue": "'ebola_subtype'",
     "output_type": "error",
     "traceback": [
      "\u001b[1;31m---------------------------------------------------------------------------\u001b[0m",
      "\u001b[1;31mKeyError\u001b[0m                                  Traceback (most recent call last)",
      "\u001b[1;32m<ipython-input-34-f30ba02a9617>\u001b[0m in \u001b[0;36m<module>\u001b[1;34m()\u001b[0m\n\u001b[1;32m----> 1\u001b[1;33m \u001b[0mebola_data\u001b[0m\u001b[1;33m.\u001b[0m\u001b[0mplot\u001b[0m\u001b[1;33m(\u001b[0m\u001b[0mkind\u001b[0m\u001b[1;33m=\u001b[0m\u001b[1;34m'scatter'\u001b[0m\u001b[1;33m,\u001b[0m \u001b[0mx\u001b[0m\u001b[1;33m=\u001b[0m\u001b[1;34m'ebola_subtype'\u001b[0m\u001b[1;33m,\u001b[0m \u001b[0my\u001b[0m\u001b[1;33m=\u001b[0m\u001b[1;34m'reported_number_of_human_cases'\u001b[0m\u001b[1;33m)\u001b[0m\u001b[1;33m\u001b[0m\u001b[0m\n\u001b[0m",
      "\u001b[1;32m/home/eleonore/virtenvs/bokeh/lib/python2.7/site-packages/pandas/tools/plotting.pyc\u001b[0m in \u001b[0;36mplot_frame\u001b[1;34m(data, x, y, kind, ax, subplots, sharex, sharey, layout, figsize, use_index, title, grid, legend, style, logx, logy, loglog, xticks, yticks, xlim, ylim, rot, fontsize, colormap, table, yerr, xerr, secondary_y, sort_columns, **kwds)\u001b[0m\n\u001b[0;32m   2486\u001b[0m                  \u001b[0myerr\u001b[0m\u001b[1;33m=\u001b[0m\u001b[0myerr\u001b[0m\u001b[1;33m,\u001b[0m \u001b[0mxerr\u001b[0m\u001b[1;33m=\u001b[0m\u001b[0mxerr\u001b[0m\u001b[1;33m,\u001b[0m\u001b[1;33m\u001b[0m\u001b[0m\n\u001b[0;32m   2487\u001b[0m                  \u001b[0msecondary_y\u001b[0m\u001b[1;33m=\u001b[0m\u001b[0msecondary_y\u001b[0m\u001b[1;33m,\u001b[0m \u001b[0msort_columns\u001b[0m\u001b[1;33m=\u001b[0m\u001b[0msort_columns\u001b[0m\u001b[1;33m,\u001b[0m\u001b[1;33m\u001b[0m\u001b[0m\n\u001b[1;32m-> 2488\u001b[1;33m                  **kwds)\n\u001b[0m\u001b[0;32m   2489\u001b[0m \u001b[1;33m\u001b[0m\u001b[0m\n\u001b[0;32m   2490\u001b[0m \u001b[1;33m\u001b[0m\u001b[0m\n",
      "\u001b[1;32m/home/eleonore/virtenvs/bokeh/lib/python2.7/site-packages/pandas/tools/plotting.pyc\u001b[0m in \u001b[0;36m_plot\u001b[1;34m(data, x, y, subplots, ax, kind, **kwds)\u001b[0m\n\u001b[0;32m   2322\u001b[0m         \u001b[0mplot_obj\u001b[0m \u001b[1;33m=\u001b[0m \u001b[0mklass\u001b[0m\u001b[1;33m(\u001b[0m\u001b[0mdata\u001b[0m\u001b[1;33m,\u001b[0m \u001b[0msubplots\u001b[0m\u001b[1;33m=\u001b[0m\u001b[0msubplots\u001b[0m\u001b[1;33m,\u001b[0m \u001b[0max\u001b[0m\u001b[1;33m=\u001b[0m\u001b[0max\u001b[0m\u001b[1;33m,\u001b[0m \u001b[0mkind\u001b[0m\u001b[1;33m=\u001b[0m\u001b[0mkind\u001b[0m\u001b[1;33m,\u001b[0m \u001b[1;33m**\u001b[0m\u001b[0mkwds\u001b[0m\u001b[1;33m)\u001b[0m\u001b[1;33m\u001b[0m\u001b[0m\n\u001b[0;32m   2323\u001b[0m \u001b[1;33m\u001b[0m\u001b[0m\n\u001b[1;32m-> 2324\u001b[1;33m     \u001b[0mplot_obj\u001b[0m\u001b[1;33m.\u001b[0m\u001b[0mgenerate\u001b[0m\u001b[1;33m(\u001b[0m\u001b[1;33m)\u001b[0m\u001b[1;33m\u001b[0m\u001b[0m\n\u001b[0m\u001b[0;32m   2325\u001b[0m     \u001b[0mplot_obj\u001b[0m\u001b[1;33m.\u001b[0m\u001b[0mdraw\u001b[0m\u001b[1;33m(\u001b[0m\u001b[1;33m)\u001b[0m\u001b[1;33m\u001b[0m\u001b[0m\n\u001b[0;32m   2326\u001b[0m     \u001b[1;32mreturn\u001b[0m \u001b[0mplot_obj\u001b[0m\u001b[1;33m.\u001b[0m\u001b[0mresult\u001b[0m\u001b[1;33m\u001b[0m\u001b[0m\n",
      "\u001b[1;32m/home/eleonore/virtenvs/bokeh/lib/python2.7/site-packages/pandas/tools/plotting.pyc\u001b[0m in \u001b[0;36mgenerate\u001b[1;34m(self)\u001b[0m\n\u001b[0;32m    912\u001b[0m         \u001b[0mself\u001b[0m\u001b[1;33m.\u001b[0m\u001b[0m_compute_plot_data\u001b[0m\u001b[1;33m(\u001b[0m\u001b[1;33m)\u001b[0m\u001b[1;33m\u001b[0m\u001b[0m\n\u001b[0;32m    913\u001b[0m         \u001b[0mself\u001b[0m\u001b[1;33m.\u001b[0m\u001b[0m_setup_subplots\u001b[0m\u001b[1;33m(\u001b[0m\u001b[1;33m)\u001b[0m\u001b[1;33m\u001b[0m\u001b[0m\n\u001b[1;32m--> 914\u001b[1;33m         \u001b[0mself\u001b[0m\u001b[1;33m.\u001b[0m\u001b[0m_make_plot\u001b[0m\u001b[1;33m(\u001b[0m\u001b[1;33m)\u001b[0m\u001b[1;33m\u001b[0m\u001b[0m\n\u001b[0m\u001b[0;32m    915\u001b[0m         \u001b[0mself\u001b[0m\u001b[1;33m.\u001b[0m\u001b[0m_add_table\u001b[0m\u001b[1;33m(\u001b[0m\u001b[1;33m)\u001b[0m\u001b[1;33m\u001b[0m\u001b[0m\n\u001b[0;32m    916\u001b[0m         \u001b[0mself\u001b[0m\u001b[1;33m.\u001b[0m\u001b[0m_make_legend\u001b[0m\u001b[1;33m(\u001b[0m\u001b[1;33m)\u001b[0m\u001b[1;33m\u001b[0m\u001b[0m\n",
      "\u001b[1;32m/home/eleonore/virtenvs/bokeh/lib/python2.7/site-packages/pandas/tools/plotting.pyc\u001b[0m in \u001b[0;36m_make_plot\u001b[1;34m(self)\u001b[0m\n\u001b[0;32m   1455\u001b[0m         \u001b[1;32melse\u001b[0m\u001b[1;33m:\u001b[0m\u001b[1;33m\u001b[0m\u001b[0m\n\u001b[0;32m   1456\u001b[0m             \u001b[0mlabel\u001b[0m \u001b[1;33m=\u001b[0m \u001b[0mNone\u001b[0m\u001b[1;33m\u001b[0m\u001b[0m\n\u001b[1;32m-> 1457\u001b[1;33m         scatter = ax.scatter(data[x].values, data[y].values, c=c_values,\n\u001b[0m\u001b[0;32m   1458\u001b[0m                              label=label, cmap=cmap, **self.kwds)\n\u001b[0;32m   1459\u001b[0m         \u001b[1;32mif\u001b[0m \u001b[0mcb\u001b[0m\u001b[1;33m:\u001b[0m\u001b[1;33m\u001b[0m\u001b[0m\n",
      "\u001b[1;32m/home/eleonore/virtenvs/bokeh/lib/python2.7/site-packages/pandas/core/frame.pyc\u001b[0m in \u001b[0;36m__getitem__\u001b[1;34m(self, key)\u001b[0m\n\u001b[0;32m   1795\u001b[0m             \u001b[1;32mreturn\u001b[0m \u001b[0mself\u001b[0m\u001b[1;33m.\u001b[0m\u001b[0m_getitem_multilevel\u001b[0m\u001b[1;33m(\u001b[0m\u001b[0mkey\u001b[0m\u001b[1;33m)\u001b[0m\u001b[1;33m\u001b[0m\u001b[0m\n\u001b[0;32m   1796\u001b[0m         \u001b[1;32melse\u001b[0m\u001b[1;33m:\u001b[0m\u001b[1;33m\u001b[0m\u001b[0m\n\u001b[1;32m-> 1797\u001b[1;33m             \u001b[1;32mreturn\u001b[0m \u001b[0mself\u001b[0m\u001b[1;33m.\u001b[0m\u001b[0m_getitem_column\u001b[0m\u001b[1;33m(\u001b[0m\u001b[0mkey\u001b[0m\u001b[1;33m)\u001b[0m\u001b[1;33m\u001b[0m\u001b[0m\n\u001b[0m\u001b[0;32m   1798\u001b[0m \u001b[1;33m\u001b[0m\u001b[0m\n\u001b[0;32m   1799\u001b[0m     \u001b[1;32mdef\u001b[0m \u001b[0m_getitem_column\u001b[0m\u001b[1;33m(\u001b[0m\u001b[0mself\u001b[0m\u001b[1;33m,\u001b[0m \u001b[0mkey\u001b[0m\u001b[1;33m)\u001b[0m\u001b[1;33m:\u001b[0m\u001b[1;33m\u001b[0m\u001b[0m\n",
      "\u001b[1;32m/home/eleonore/virtenvs/bokeh/lib/python2.7/site-packages/pandas/core/frame.pyc\u001b[0m in \u001b[0;36m_getitem_column\u001b[1;34m(self, key)\u001b[0m\n\u001b[0;32m   1802\u001b[0m         \u001b[1;31m# get column\u001b[0m\u001b[1;33m\u001b[0m\u001b[1;33m\u001b[0m\u001b[0m\n\u001b[0;32m   1803\u001b[0m         \u001b[1;32mif\u001b[0m \u001b[0mself\u001b[0m\u001b[1;33m.\u001b[0m\u001b[0mcolumns\u001b[0m\u001b[1;33m.\u001b[0m\u001b[0mis_unique\u001b[0m\u001b[1;33m:\u001b[0m\u001b[1;33m\u001b[0m\u001b[0m\n\u001b[1;32m-> 1804\u001b[1;33m             \u001b[1;32mreturn\u001b[0m \u001b[0mself\u001b[0m\u001b[1;33m.\u001b[0m\u001b[0m_get_item_cache\u001b[0m\u001b[1;33m(\u001b[0m\u001b[0mkey\u001b[0m\u001b[1;33m)\u001b[0m\u001b[1;33m\u001b[0m\u001b[0m\n\u001b[0m\u001b[0;32m   1805\u001b[0m \u001b[1;33m\u001b[0m\u001b[0m\n\u001b[0;32m   1806\u001b[0m         \u001b[1;31m# duplicate columns & possible reduce dimensionaility\u001b[0m\u001b[1;33m\u001b[0m\u001b[1;33m\u001b[0m\u001b[0m\n",
      "\u001b[1;32m/home/eleonore/virtenvs/bokeh/lib/python2.7/site-packages/pandas/core/generic.pyc\u001b[0m in \u001b[0;36m_get_item_cache\u001b[1;34m(self, item)\u001b[0m\n\u001b[0;32m   1082\u001b[0m         \u001b[0mres\u001b[0m \u001b[1;33m=\u001b[0m \u001b[0mcache\u001b[0m\u001b[1;33m.\u001b[0m\u001b[0mget\u001b[0m\u001b[1;33m(\u001b[0m\u001b[0mitem\u001b[0m\u001b[1;33m)\u001b[0m\u001b[1;33m\u001b[0m\u001b[0m\n\u001b[0;32m   1083\u001b[0m         \u001b[1;32mif\u001b[0m \u001b[0mres\u001b[0m \u001b[1;32mis\u001b[0m \u001b[0mNone\u001b[0m\u001b[1;33m:\u001b[0m\u001b[1;33m\u001b[0m\u001b[0m\n\u001b[1;32m-> 1084\u001b[1;33m             \u001b[0mvalues\u001b[0m \u001b[1;33m=\u001b[0m \u001b[0mself\u001b[0m\u001b[1;33m.\u001b[0m\u001b[0m_data\u001b[0m\u001b[1;33m.\u001b[0m\u001b[0mget\u001b[0m\u001b[1;33m(\u001b[0m\u001b[0mitem\u001b[0m\u001b[1;33m)\u001b[0m\u001b[1;33m\u001b[0m\u001b[0m\n\u001b[0m\u001b[0;32m   1085\u001b[0m             \u001b[0mres\u001b[0m \u001b[1;33m=\u001b[0m \u001b[0mself\u001b[0m\u001b[1;33m.\u001b[0m\u001b[0m_box_item_values\u001b[0m\u001b[1;33m(\u001b[0m\u001b[0mitem\u001b[0m\u001b[1;33m,\u001b[0m \u001b[0mvalues\u001b[0m\u001b[1;33m)\u001b[0m\u001b[1;33m\u001b[0m\u001b[0m\n\u001b[0;32m   1086\u001b[0m             \u001b[0mcache\u001b[0m\u001b[1;33m[\u001b[0m\u001b[0mitem\u001b[0m\u001b[1;33m]\u001b[0m \u001b[1;33m=\u001b[0m \u001b[0mres\u001b[0m\u001b[1;33m\u001b[0m\u001b[0m\n",
      "\u001b[1;32m/home/eleonore/virtenvs/bokeh/lib/python2.7/site-packages/pandas/core/internals.pyc\u001b[0m in \u001b[0;36mget\u001b[1;34m(self, item, fastpath)\u001b[0m\n\u001b[0;32m   2849\u001b[0m \u001b[1;33m\u001b[0m\u001b[0m\n\u001b[0;32m   2850\u001b[0m             \u001b[1;32mif\u001b[0m \u001b[1;32mnot\u001b[0m \u001b[0misnull\u001b[0m\u001b[1;33m(\u001b[0m\u001b[0mitem\u001b[0m\u001b[1;33m)\u001b[0m\u001b[1;33m:\u001b[0m\u001b[1;33m\u001b[0m\u001b[0m\n\u001b[1;32m-> 2851\u001b[1;33m                 \u001b[0mloc\u001b[0m \u001b[1;33m=\u001b[0m \u001b[0mself\u001b[0m\u001b[1;33m.\u001b[0m\u001b[0mitems\u001b[0m\u001b[1;33m.\u001b[0m\u001b[0mget_loc\u001b[0m\u001b[1;33m(\u001b[0m\u001b[0mitem\u001b[0m\u001b[1;33m)\u001b[0m\u001b[1;33m\u001b[0m\u001b[0m\n\u001b[0m\u001b[0;32m   2852\u001b[0m             \u001b[1;32melse\u001b[0m\u001b[1;33m:\u001b[0m\u001b[1;33m\u001b[0m\u001b[0m\n\u001b[0;32m   2853\u001b[0m                 \u001b[0mindexer\u001b[0m \u001b[1;33m=\u001b[0m \u001b[0mnp\u001b[0m\u001b[1;33m.\u001b[0m\u001b[0marange\u001b[0m\u001b[1;33m(\u001b[0m\u001b[0mlen\u001b[0m\u001b[1;33m(\u001b[0m\u001b[0mself\u001b[0m\u001b[1;33m.\u001b[0m\u001b[0mitems\u001b[0m\u001b[1;33m)\u001b[0m\u001b[1;33m)\u001b[0m\u001b[1;33m[\u001b[0m\u001b[0misnull\u001b[0m\u001b[1;33m(\u001b[0m\u001b[0mself\u001b[0m\u001b[1;33m.\u001b[0m\u001b[0mitems\u001b[0m\u001b[1;33m)\u001b[0m\u001b[1;33m]\u001b[0m\u001b[1;33m\u001b[0m\u001b[0m\n",
      "\u001b[1;32m/home/eleonore/virtenvs/bokeh/lib/python2.7/site-packages/pandas/core/index.pyc\u001b[0m in \u001b[0;36mget_loc\u001b[1;34m(self, key, method)\u001b[0m\n\u001b[0;32m   1570\u001b[0m         \"\"\"\n\u001b[0;32m   1571\u001b[0m         \u001b[1;32mif\u001b[0m \u001b[0mmethod\u001b[0m \u001b[1;32mis\u001b[0m \u001b[0mNone\u001b[0m\u001b[1;33m:\u001b[0m\u001b[1;33m\u001b[0m\u001b[0m\n\u001b[1;32m-> 1572\u001b[1;33m             \u001b[1;32mreturn\u001b[0m \u001b[0mself\u001b[0m\u001b[1;33m.\u001b[0m\u001b[0m_engine\u001b[0m\u001b[1;33m.\u001b[0m\u001b[0mget_loc\u001b[0m\u001b[1;33m(\u001b[0m\u001b[0m_values_from_object\u001b[0m\u001b[1;33m(\u001b[0m\u001b[0mkey\u001b[0m\u001b[1;33m)\u001b[0m\u001b[1;33m)\u001b[0m\u001b[1;33m\u001b[0m\u001b[0m\n\u001b[0m\u001b[0;32m   1573\u001b[0m \u001b[1;33m\u001b[0m\u001b[0m\n\u001b[0;32m   1574\u001b[0m         \u001b[0mindexer\u001b[0m \u001b[1;33m=\u001b[0m \u001b[0mself\u001b[0m\u001b[1;33m.\u001b[0m\u001b[0mget_indexer\u001b[0m\u001b[1;33m(\u001b[0m\u001b[1;33m[\u001b[0m\u001b[0mkey\u001b[0m\u001b[1;33m]\u001b[0m\u001b[1;33m,\u001b[0m \u001b[0mmethod\u001b[0m\u001b[1;33m=\u001b[0m\u001b[0mmethod\u001b[0m\u001b[1;33m)\u001b[0m\u001b[1;33m\u001b[0m\u001b[0m\n",
      "\u001b[1;32mpandas/index.pyx\u001b[0m in \u001b[0;36mpandas.index.IndexEngine.get_loc (pandas/index.c:3824)\u001b[1;34m()\u001b[0m\n",
      "\u001b[1;32mpandas/index.pyx\u001b[0m in \u001b[0;36mpandas.index.IndexEngine.get_loc (pandas/index.c:3704)\u001b[1;34m()\u001b[0m\n",
      "\u001b[1;32mpandas/hashtable.pyx\u001b[0m in \u001b[0;36mpandas.hashtable.PyObjectHashTable.get_item (pandas/hashtable.c:12280)\u001b[1;34m()\u001b[0m\n",
      "\u001b[1;32mpandas/hashtable.pyx\u001b[0m in \u001b[0;36mpandas.hashtable.PyObjectHashTable.get_item (pandas/hashtable.c:12231)\u001b[1;34m()\u001b[0m\n",
      "\u001b[1;31mKeyError\u001b[0m: 'ebola_subtype'"
     ]
    },
    {
     "data": {
      "image/png": "[encoded data removed]",
      "text/plain": [
       "<matplotlib.figure.Figure at 0x7ff1d8872610>"
      ]
     },
     "metadata": {},
     "output_type": "display_data"
    }
   ],
   "source": [
    "ebola_data.plot(kind='scatter', x='ebola_subtype', y='reported_number_of_human_cases')"
   ]
  },
  {
   "cell_type": "code",
   "execution_count": 27,
   "metadata": {
    "collapsed": false
   },
   "outputs": [
    {
     "ename": "ValueError",
     "evalue": "expected an element of either Enum('aliceblue', 'antiquewhite', 'aqua', 'aquamarine', 'azure', 'beige', 'bisque', 'black', 'blanchedalmond', 'blue', 'blueviolet', 'brown', 'burlywood', 'cadetblue', 'chartreuse', 'chocolate', 'coral', 'cornflowerblue', 'cornsilk', 'crimson', 'cyan', 'darkblue', 'darkcyan', 'darkgoldenrod', 'darkgray', 'darkgreen', 'darkgrey', 'darkkhaki', 'darkmagenta', 'darkolivegreen', 'darkorange', 'darkorchid', 'darkred', 'darksalmon', 'darkseagreen', 'darkslateblue', 'darkslategray', 'darkslategrey', 'darkturquoise', 'darkviolet', 'deeppink', 'deepskyblue', 'dimgray', 'dimgrey', 'dodgerblue', 'firebrick', 'floralwhite', 'forestgreen', 'fuchsia', 'gainsboro', 'ghostwhite', 'gold', 'goldenrod', 'gray', 'green', 'greenyellow', 'grey', 'honeydew', 'hotpink', 'indianred', 'indigo', 'ivory', 'khaki', 'lavender', 'lavenderblush', 'lawngreen', 'lemonchiffon', 'lightblue', 'lightcoral', 'lightcyan', 'lightgoldenrodyellow', 'lightgray', 'lightgreen', 'lightgrey', 'lightpink', 'lightsalmon', 'lightseagreen', 'lightskyblue', 'lightslategray', 'lightslategrey', 'lightsteelblue', 'lightyellow', 'lime', 'limegreen', 'linen', 'magenta', 'maroon', 'mediumaquamarine', 'mediumblue', 'mediumorchid', 'mediumpurple', 'mediumseagreen', 'mediumslateblue', 'mediumspringgreen', 'mediumturquoise', 'mediumvioletred', 'midnightblue', 'mintcream', 'mistyrose', 'moccasin', 'navajowhite', 'navy', 'oldlace', 'olive', 'olivedrab', 'orange', 'orangered', 'orchid', 'palegoldenrod', 'palegreen', 'paleturquoise', 'palevioletred', 'papayawhip', 'peachpuff', 'peru', 'pink', 'plum', 'powderblue', 'purple', 'red', 'rosybrown', 'royalblue', 'saddlebrown', 'salmon', 'sandybrown', 'seagreen', 'seashell', 'sienna', 'silver', 'skyblue', 'slateblue', 'slategray', 'slategrey', 'snow', 'springgreen', 'steelblue', 'tan', 'teal', 'thistle', 'tomato', 'turquoise', 'violet', 'wheat', 'white', 'whitesmoke', 'yellow', 'yellowgreen'), Regex('^#[0-9a-fA-F]{6}$'), Tuple(Byte(Int, 0, 255), Byte(Int, 0, 255), Byte(Int, 0, 255)) or Tuple(Byte(Int, 0, 255), Byte(Int, 0, 255), Byte(Int, 0, 255), Percent), got 'cyl'",
     "output_type": "error",
     "traceback": [
      "\u001b[1;31m---------------------------------------------------------------------------\u001b[0m",
      "\u001b[1;31mValueError\u001b[0m                                Traceback (most recent call last)",
      "\u001b[1;32m<ipython-input-27-86e1c908d55b>\u001b[0m in \u001b[0;36m<module>\u001b[1;34m()\u001b[0m\n\u001b[0;32m      1\u001b[0m scatter = Scatter(ebola_virus_cases, x='ebola_subtype', y='reported_number_of_human_cases', color='cyl',\n\u001b[1;32m----> 2\u001b[1;33m                   title=\"Reported human cases by virus subtypes\", xlabel=\"Ebola subtypes\", ylabel=\"Reported human cases\")\n\u001b[0m\u001b[0;32m      3\u001b[0m \u001b[1;33m\u001b[0m\u001b[0m\n\u001b[0;32m      4\u001b[0m \u001b[0mshow\u001b[0m\u001b[1;33m(\u001b[0m\u001b[0mscatter\u001b[0m\u001b[1;33m)\u001b[0m\u001b[1;33m\u001b[0m\u001b[0m\n",
      "\u001b[1;32m/home/eleonore/virtenvs/bokeh/lib/python2.7/site-packages/bokeh/charts/builders/scatter_builder.pyc\u001b[0m in \u001b[0;36mScatter\u001b[1;34m(data, x, y, **kws)\u001b[0m\n\u001b[0;32m     61\u001b[0m     \u001b[0mkws\u001b[0m\u001b[1;33m[\u001b[0m\u001b[1;34m'x'\u001b[0m\u001b[1;33m]\u001b[0m \u001b[1;33m=\u001b[0m \u001b[0mx\u001b[0m\u001b[1;33m\u001b[0m\u001b[0m\n\u001b[0;32m     62\u001b[0m     \u001b[0mkws\u001b[0m\u001b[1;33m[\u001b[0m\u001b[1;34m'y'\u001b[0m\u001b[1;33m]\u001b[0m \u001b[1;33m=\u001b[0m \u001b[0my\u001b[0m\u001b[1;33m\u001b[0m\u001b[0m\n\u001b[1;32m---> 63\u001b[1;33m     \u001b[1;32mreturn\u001b[0m \u001b[0mcreate_and_build\u001b[0m\u001b[1;33m(\u001b[0m\u001b[0mScatterBuilder\u001b[0m\u001b[1;33m,\u001b[0m \u001b[0mdata\u001b[0m\u001b[1;33m,\u001b[0m \u001b[1;33m**\u001b[0m\u001b[0mkws\u001b[0m\u001b[1;33m)\u001b[0m\u001b[1;33m\u001b[0m\u001b[0m\n\u001b[0m\u001b[0;32m     64\u001b[0m \u001b[1;33m\u001b[0m\u001b[0m\n\u001b[0;32m     65\u001b[0m \u001b[1;33m\u001b[0m\u001b[0m\n",
      "\u001b[1;32m/home/eleonore/virtenvs/bokeh/lib/python2.7/site-packages/bokeh/charts/builder.pyc\u001b[0m in \u001b[0;36mcreate_and_build\u001b[1;34m(builder_class, *data, **kws)\u001b[0m\n\u001b[0;32m     65\u001b[0m     \u001b[0mchart_kws\u001b[0m \u001b[1;33m=\u001b[0m \u001b[1;33m{\u001b[0m \u001b[0mk\u001b[0m\u001b[1;33m:\u001b[0m\u001b[0mv\u001b[0m \u001b[1;32mfor\u001b[0m \u001b[0mk\u001b[0m\u001b[1;33m,\u001b[0m\u001b[0mv\u001b[0m \u001b[1;32min\u001b[0m \u001b[0mkws\u001b[0m\u001b[1;33m.\u001b[0m\u001b[0mitems\u001b[0m\u001b[1;33m(\u001b[0m\u001b[1;33m)\u001b[0m \u001b[1;32mif\u001b[0m \u001b[0mk\u001b[0m \u001b[1;32mnot\u001b[0m \u001b[1;32min\u001b[0m \u001b[0mbuilder_props\u001b[0m\u001b[1;33m}\u001b[0m\u001b[1;33m\u001b[0m\u001b[0m\n\u001b[0;32m     66\u001b[0m     \u001b[0mchart\u001b[0m \u001b[1;33m=\u001b[0m \u001b[0mChart\u001b[0m\u001b[1;33m(\u001b[0m\u001b[1;33m**\u001b[0m\u001b[0mchart_kws\u001b[0m\u001b[1;33m)\u001b[0m\u001b[1;33m\u001b[0m\u001b[0m\n\u001b[1;32m---> 67\u001b[1;33m     \u001b[0mchart\u001b[0m\u001b[1;33m.\u001b[0m\u001b[0madd_builder\u001b[0m\u001b[1;33m(\u001b[0m\u001b[0mbuilder\u001b[0m\u001b[1;33m)\u001b[0m\u001b[1;33m\u001b[0m\u001b[0m\n\u001b[0m\u001b[0;32m     68\u001b[0m     \u001b[0mchart\u001b[0m\u001b[1;33m.\u001b[0m\u001b[0mstart_plot\u001b[0m\u001b[1;33m(\u001b[0m\u001b[1;33m)\u001b[0m\u001b[1;33m\u001b[0m\u001b[0m\n\u001b[0;32m     69\u001b[0m \u001b[1;33m\u001b[0m\u001b[0m\n",
      "\u001b[1;32m/home/eleonore/virtenvs/bokeh/lib/python2.7/site-packages/bokeh/charts/chart.pyc\u001b[0m in \u001b[0;36madd_builder\u001b[1;34m(self, builder)\u001b[0m\n\u001b[0;32m    147\u001b[0m     \u001b[1;32mdef\u001b[0m \u001b[0madd_builder\u001b[0m\u001b[1;33m(\u001b[0m\u001b[0mself\u001b[0m\u001b[1;33m,\u001b[0m \u001b[0mbuilder\u001b[0m\u001b[1;33m)\u001b[0m\u001b[1;33m:\u001b[0m\u001b[1;33m\u001b[0m\u001b[0m\n\u001b[0;32m    148\u001b[0m         \u001b[0mself\u001b[0m\u001b[1;33m.\u001b[0m\u001b[0m_builders\u001b[0m\u001b[1;33m.\u001b[0m\u001b[0mappend\u001b[0m\u001b[1;33m(\u001b[0m\u001b[0mbuilder\u001b[0m\u001b[1;33m)\u001b[0m\u001b[1;33m\u001b[0m\u001b[0m\n\u001b[1;32m--> 149\u001b[1;33m         \u001b[0mbuilder\u001b[0m\u001b[1;33m.\u001b[0m\u001b[0mcreate\u001b[0m\u001b[1;33m(\u001b[0m\u001b[0mself\u001b[0m\u001b[1;33m)\u001b[0m\u001b[1;33m\u001b[0m\u001b[0m\n\u001b[0m\u001b[0;32m    150\u001b[0m \u001b[1;33m\u001b[0m\u001b[0m\n\u001b[0;32m    151\u001b[0m     \u001b[1;32mdef\u001b[0m \u001b[0madd_ranges\u001b[0m\u001b[1;33m(\u001b[0m\u001b[0mself\u001b[0m\u001b[1;33m,\u001b[0m \u001b[0mdim\u001b[0m\u001b[1;33m,\u001b[0m \u001b[0mrange\u001b[0m\u001b[1;33m)\u001b[0m\u001b[1;33m:\u001b[0m\u001b[1;33m\u001b[0m\u001b[0m\n",
      "\u001b[1;32m/home/eleonore/virtenvs/bokeh/lib/python2.7/site-packages/bokeh/charts/builder.pyc\u001b[0m in \u001b[0;36mcreate\u001b[1;34m(self, chart)\u001b[0m\n\u001b[0;32m    516\u001b[0m         \u001b[1;32mif\u001b[0m \u001b[0mchart\u001b[0m \u001b[1;32mis\u001b[0m \u001b[0mNone\u001b[0m\u001b[1;33m:\u001b[0m\u001b[1;33m\u001b[0m\u001b[0m\n\u001b[0;32m    517\u001b[0m             \u001b[0mchart\u001b[0m \u001b[1;33m=\u001b[0m \u001b[0mChart\u001b[0m\u001b[1;33m(\u001b[0m\u001b[1;33m)\u001b[0m\u001b[1;33m\u001b[0m\u001b[0m\n\u001b[1;32m--> 518\u001b[1;33m         \u001b[0mchart\u001b[0m\u001b[1;33m.\u001b[0m\u001b[0madd_renderers\u001b[0m\u001b[1;33m(\u001b[0m\u001b[0mself\u001b[0m\u001b[1;33m,\u001b[0m \u001b[0mrenderers\u001b[0m\u001b[1;33m)\u001b[0m\u001b[1;33m\u001b[0m\u001b[0m\n\u001b[0m\u001b[0;32m    519\u001b[0m \u001b[1;33m\u001b[0m\u001b[0m\n\u001b[0;32m    520\u001b[0m         \u001b[1;31m# handle ranges after renders, since ranges depend on aggregations\u001b[0m\u001b[1;33m\u001b[0m\u001b[1;33m\u001b[0m\u001b[0m\n",
      "\u001b[1;32m/home/eleonore/virtenvs/bokeh/lib/python2.7/site-packages/bokeh/charts/chart.pyc\u001b[0m in \u001b[0;36madd_renderers\u001b[1;34m(self, builder, renderers)\u001b[0m\n\u001b[0;32m    142\u001b[0m \u001b[1;33m\u001b[0m\u001b[0m\n\u001b[0;32m    143\u001b[0m     \u001b[1;32mdef\u001b[0m \u001b[0madd_renderers\u001b[0m\u001b[1;33m(\u001b[0m\u001b[0mself\u001b[0m\u001b[1;33m,\u001b[0m \u001b[0mbuilder\u001b[0m\u001b[1;33m,\u001b[0m \u001b[0mrenderers\u001b[0m\u001b[1;33m)\u001b[0m\u001b[1;33m:\u001b[0m\u001b[1;33m\u001b[0m\u001b[0m\n\u001b[1;32m--> 144\u001b[1;33m         \u001b[0mself\u001b[0m\u001b[1;33m.\u001b[0m\u001b[0mrenderers\u001b[0m \u001b[1;33m+=\u001b[0m \u001b[0mrenderers\u001b[0m\u001b[1;33m\u001b[0m\u001b[0m\n\u001b[0m\u001b[0;32m    145\u001b[0m         \u001b[0mself\u001b[0m\u001b[1;33m.\u001b[0m\u001b[0m_renderer_map\u001b[0m\u001b[1;33m.\u001b[0m\u001b[0mextend\u001b[0m\u001b[1;33m(\u001b[0m\u001b[1;33m{\u001b[0m \u001b[0mr\u001b[0m\u001b[1;33m.\u001b[0m\u001b[0m_id\u001b[0m \u001b[1;33m:\u001b[0m \u001b[0mbuilder\u001b[0m \u001b[1;32mfor\u001b[0m \u001b[0mr\u001b[0m \u001b[1;32min\u001b[0m \u001b[0mrenderers\u001b[0m \u001b[1;33m}\u001b[0m\u001b[1;33m)\u001b[0m\u001b[1;33m\u001b[0m\u001b[0m\n\u001b[0;32m    146\u001b[0m \u001b[1;33m\u001b[0m\u001b[0m\n",
      "\u001b[1;32m/home/eleonore/virtenvs/bokeh/lib/python2.7/site-packages/bokeh/core/property_containers.pyc\u001b[0m in \u001b[0;36mwrapper\u001b[1;34m(*args, **kwargs)\u001b[0m\n\u001b[0;32m     16\u001b[0m         \u001b[0mself\u001b[0m \u001b[1;33m=\u001b[0m \u001b[0margs\u001b[0m\u001b[1;33m[\u001b[0m\u001b[1;36m0\u001b[0m\u001b[1;33m]\u001b[0m\u001b[1;33m\u001b[0m\u001b[0m\n\u001b[0;32m     17\u001b[0m         \u001b[0mold\u001b[0m \u001b[1;33m=\u001b[0m \u001b[0mself\u001b[0m\u001b[1;33m.\u001b[0m\u001b[0m_saved_copy\u001b[0m\u001b[1;33m(\u001b[0m\u001b[1;33m)\u001b[0m\u001b[1;33m\u001b[0m\u001b[0m\n\u001b[1;32m---> 18\u001b[1;33m         \u001b[0mresult\u001b[0m \u001b[1;33m=\u001b[0m \u001b[0mfunc\u001b[0m\u001b[1;33m(\u001b[0m\u001b[1;33m*\u001b[0m\u001b[0margs\u001b[0m\u001b[1;33m,\u001b[0m \u001b[1;33m**\u001b[0m\u001b[0mkwargs\u001b[0m\u001b[1;33m)\u001b[0m\u001b[1;33m\u001b[0m\u001b[0m\n\u001b[0m\u001b[0;32m     19\u001b[0m         \u001b[0mself\u001b[0m\u001b[1;33m.\u001b[0m\u001b[0m_notify_owners\u001b[0m\u001b[1;33m(\u001b[0m\u001b[0mold\u001b[0m\u001b[1;33m)\u001b[0m\u001b[1;33m\u001b[0m\u001b[0m\n\u001b[0;32m     20\u001b[0m         \u001b[1;32mreturn\u001b[0m \u001b[0mresult\u001b[0m\u001b[1;33m\u001b[0m\u001b[0m\n",
      "\u001b[1;32m/home/eleonore/virtenvs/bokeh/lib/python2.7/site-packages/bokeh/core/property_containers.pyc\u001b[0m in \u001b[0;36m__iadd__\u001b[1;34m(self, y)\u001b[0m\n\u001b[0;32m     75\u001b[0m     \u001b[1;33m@\u001b[0m\u001b[0mnotify_owner\u001b[0m\u001b[1;33m\u001b[0m\u001b[0m\n\u001b[0;32m     76\u001b[0m     \u001b[1;32mdef\u001b[0m \u001b[0m__iadd__\u001b[0m\u001b[1;33m(\u001b[0m\u001b[0mself\u001b[0m\u001b[1;33m,\u001b[0m \u001b[0my\u001b[0m\u001b[1;33m)\u001b[0m\u001b[1;33m:\u001b[0m\u001b[1;33m\u001b[0m\u001b[0m\n\u001b[1;32m---> 77\u001b[1;33m         \u001b[1;32mreturn\u001b[0m \u001b[0msuper\u001b[0m\u001b[1;33m(\u001b[0m\u001b[0mPropertyValueList\u001b[0m\u001b[1;33m,\u001b[0m \u001b[0mself\u001b[0m\u001b[1;33m)\u001b[0m\u001b[1;33m.\u001b[0m\u001b[0m__iadd__\u001b[0m\u001b[1;33m(\u001b[0m\u001b[0my\u001b[0m\u001b[1;33m)\u001b[0m\u001b[1;33m\u001b[0m\u001b[0m\n\u001b[0m\u001b[0;32m     78\u001b[0m \u001b[1;33m\u001b[0m\u001b[0m\n\u001b[0;32m     79\u001b[0m     \u001b[1;31m# x *= y\u001b[0m\u001b[1;33m\u001b[0m\u001b[1;33m\u001b[0m\u001b[0m\n",
      "\u001b[1;32m/home/eleonore/virtenvs/bokeh/lib/python2.7/site-packages/bokeh/charts/builders/scatter_builder.pyc\u001b[0m in \u001b[0;36myield_renderers\u001b[1;34m(self)\u001b[0m\n\u001b[0;32m     91\u001b[0m                                \u001b[0mline_color\u001b[0m\u001b[1;33m=\u001b[0m\u001b[0mgroup\u001b[0m\u001b[1;33m[\u001b[0m\u001b[1;34m'color'\u001b[0m\u001b[1;33m]\u001b[0m\u001b[1;33m,\u001b[0m\u001b[1;33m\u001b[0m\u001b[0m\n\u001b[0;32m     92\u001b[0m                                \u001b[0mfill_color\u001b[0m\u001b[1;33m=\u001b[0m\u001b[0mgroup\u001b[0m\u001b[1;33m[\u001b[0m\u001b[1;34m'color'\u001b[0m\u001b[1;33m]\u001b[0m\u001b[1;33m,\u001b[0m\u001b[1;33m\u001b[0m\u001b[0m\n\u001b[1;32m---> 93\u001b[1;33m                                marker=group['marker'])\n\u001b[0m\u001b[0;32m     94\u001b[0m \u001b[1;33m\u001b[0m\u001b[0m\n\u001b[0;32m     95\u001b[0m             \u001b[0mself\u001b[0m\u001b[1;33m.\u001b[0m\u001b[0madd_glyph\u001b[0m\u001b[1;33m(\u001b[0m\u001b[0mgroup\u001b[0m\u001b[1;33m,\u001b[0m \u001b[0mglyph\u001b[0m\u001b[1;33m)\u001b[0m\u001b[1;33m\u001b[0m\u001b[0m\n",
      "\u001b[1;32m/home/eleonore/virtenvs/bokeh/lib/python2.7/site-packages/bokeh/charts/glyphs.pyc\u001b[0m in \u001b[0;36m__init__\u001b[1;34m(self, x, y, color, line_color, fill_color, marker, size, **kwargs)\u001b[0m\n\u001b[0;32m    127\u001b[0m         \u001b[0mkwargs\u001b[0m\u001b[1;33m[\u001b[0m\u001b[1;34m'fill_color'\u001b[0m\u001b[1;33m]\u001b[0m \u001b[1;33m=\u001b[0m \u001b[0mfill_color\u001b[0m\u001b[1;33m\u001b[0m\u001b[0m\n\u001b[0;32m    128\u001b[0m \u001b[1;33m\u001b[0m\u001b[0m\n\u001b[1;32m--> 129\u001b[1;33m         \u001b[0msuper\u001b[0m\u001b[1;33m(\u001b[0m\u001b[0mPointGlyph\u001b[0m\u001b[1;33m,\u001b[0m \u001b[0mself\u001b[0m\u001b[1;33m)\u001b[0m\u001b[1;33m.\u001b[0m\u001b[0m__init__\u001b[0m\u001b[1;33m(\u001b[0m\u001b[1;33m**\u001b[0m\u001b[0mkwargs\u001b[0m\u001b[1;33m)\u001b[0m\u001b[1;33m\u001b[0m\u001b[0m\n\u001b[0m\u001b[0;32m    130\u001b[0m         \u001b[0mself\u001b[0m\u001b[1;33m.\u001b[0m\u001b[0msetup\u001b[0m\u001b[1;33m(\u001b[0m\u001b[1;33m)\u001b[0m\u001b[1;33m\u001b[0m\u001b[0m\n\u001b[0;32m    131\u001b[0m \u001b[1;33m\u001b[0m\u001b[0m\n",
      "\u001b[1;32m/home/eleonore/virtenvs/bokeh/lib/python2.7/site-packages/bokeh/charts/models.pyc\u001b[0m in \u001b[0;36m__init__\u001b[1;34m(self, **properties)\u001b[0m\n\u001b[0;32m     78\u001b[0m         \u001b[1;32mif\u001b[0m \u001b[0mString\u001b[0m\u001b[1;33m(\u001b[0m\u001b[1;33m)\u001b[0m\u001b[1;33m.\u001b[0m\u001b[0mis_valid\u001b[0m\u001b[1;33m(\u001b[0m\u001b[0mvals\u001b[0m\u001b[1;33m)\u001b[0m \u001b[1;32mor\u001b[0m \u001b[0mFloat\u001b[0m\u001b[1;33m(\u001b[0m\u001b[1;33m)\u001b[0m\u001b[1;33m.\u001b[0m\u001b[0mis_valid\u001b[0m\u001b[1;33m(\u001b[0m\u001b[0mvals\u001b[0m\u001b[1;33m)\u001b[0m\u001b[1;33m:\u001b[0m\u001b[1;33m\u001b[0m\u001b[0m\n\u001b[0;32m     79\u001b[0m             \u001b[0mproperties\u001b[0m\u001b[1;33m[\u001b[0m\u001b[1;34m'values'\u001b[0m\u001b[1;33m]\u001b[0m \u001b[1;33m=\u001b[0m \u001b[1;33m[\u001b[0m\u001b[0mvals\u001b[0m\u001b[1;33m]\u001b[0m\u001b[1;33m\u001b[0m\u001b[0m\n\u001b[1;32m---> 80\u001b[1;33m         \u001b[0msuper\u001b[0m\u001b[1;33m(\u001b[0m\u001b[0mCompositeGlyph\u001b[0m\u001b[1;33m,\u001b[0m \u001b[0mself\u001b[0m\u001b[1;33m)\u001b[0m\u001b[1;33m.\u001b[0m\u001b[0m__init__\u001b[0m\u001b[1;33m(\u001b[0m\u001b[1;33m**\u001b[0m\u001b[0mproperties\u001b[0m\u001b[1;33m)\u001b[0m\u001b[1;33m\u001b[0m\u001b[0m\n\u001b[0m\u001b[0;32m     81\u001b[0m         \u001b[0mself\u001b[0m\u001b[1;33m.\u001b[0m\u001b[0msetup\u001b[0m\u001b[1;33m(\u001b[0m\u001b[1;33m)\u001b[0m\u001b[1;33m\u001b[0m\u001b[0m\n\u001b[0;32m     82\u001b[0m \u001b[1;33m\u001b[0m\u001b[0m\n",
      "\u001b[1;32m/home/eleonore/virtenvs/bokeh/lib/python2.7/site-packages/bokeh/core/properties.pyc\u001b[0m in \u001b[0;36m__init__\u001b[1;34m(self, **properties)\u001b[0m\n\u001b[0;32m    699\u001b[0m \u001b[1;33m\u001b[0m\u001b[0m\n\u001b[0;32m    700\u001b[0m         \u001b[1;32mfor\u001b[0m \u001b[0mname\u001b[0m\u001b[1;33m,\u001b[0m \u001b[0mvalue\u001b[0m \u001b[1;32min\u001b[0m \u001b[0mproperties\u001b[0m\u001b[1;33m.\u001b[0m\u001b[0mitems\u001b[0m\u001b[1;33m(\u001b[0m\u001b[1;33m)\u001b[0m\u001b[1;33m:\u001b[0m\u001b[1;33m\u001b[0m\u001b[0m\n\u001b[1;32m--> 701\u001b[1;33m             \u001b[0msetattr\u001b[0m\u001b[1;33m(\u001b[0m\u001b[0mself\u001b[0m\u001b[1;33m,\u001b[0m \u001b[0mname\u001b[0m\u001b[1;33m,\u001b[0m \u001b[0mvalue\u001b[0m\u001b[1;33m)\u001b[0m\u001b[1;33m\u001b[0m\u001b[0m\n\u001b[0m\u001b[0;32m    702\u001b[0m \u001b[1;33m\u001b[0m\u001b[0m\n\u001b[0;32m    703\u001b[0m     \u001b[1;32mdef\u001b[0m \u001b[0m__setattr__\u001b[0m\u001b[1;33m(\u001b[0m\u001b[0mself\u001b[0m\u001b[1;33m,\u001b[0m \u001b[0mname\u001b[0m\u001b[1;33m,\u001b[0m \u001b[0mvalue\u001b[0m\u001b[1;33m)\u001b[0m\u001b[1;33m:\u001b[0m\u001b[1;33m\u001b[0m\u001b[0m\n",
      "\u001b[1;32m/home/eleonore/virtenvs/bokeh/lib/python2.7/site-packages/bokeh/core/properties.pyc\u001b[0m in \u001b[0;36m__setattr__\u001b[1;34m(self, name, value)\u001b[0m\n\u001b[0;32m    712\u001b[0m \u001b[1;33m\u001b[0m\u001b[0m\n\u001b[0;32m    713\u001b[0m         \u001b[1;32mif\u001b[0m \u001b[0mname\u001b[0m \u001b[1;32min\u001b[0m \u001b[0mprops\u001b[0m \u001b[1;32mor\u001b[0m \u001b[0mname\u001b[0m \u001b[1;32min\u001b[0m \u001b[0mdeprecated\u001b[0m\u001b[1;33m:\u001b[0m\u001b[1;33m\u001b[0m\u001b[0m\n\u001b[1;32m--> 714\u001b[1;33m             \u001b[0msuper\u001b[0m\u001b[1;33m(\u001b[0m\u001b[0mHasProps\u001b[0m\u001b[1;33m,\u001b[0m \u001b[0mself\u001b[0m\u001b[1;33m)\u001b[0m\u001b[1;33m.\u001b[0m\u001b[0m__setattr__\u001b[0m\u001b[1;33m(\u001b[0m\u001b[0mname\u001b[0m\u001b[1;33m,\u001b[0m \u001b[0mvalue\u001b[0m\u001b[1;33m)\u001b[0m\u001b[1;33m\u001b[0m\u001b[0m\n\u001b[0m\u001b[0;32m    715\u001b[0m         \u001b[1;32melse\u001b[0m\u001b[1;33m:\u001b[0m\u001b[1;33m\u001b[0m\u001b[0m\n\u001b[0;32m    716\u001b[0m             \u001b[0mmatches\u001b[0m\u001b[1;33m,\u001b[0m \u001b[0mtext\u001b[0m \u001b[1;33m=\u001b[0m \u001b[0mdifflib\u001b[0m\u001b[1;33m.\u001b[0m\u001b[0mget_close_matches\u001b[0m\u001b[1;33m(\u001b[0m\u001b[0mname\u001b[0m\u001b[1;33m.\u001b[0m\u001b[0mlower\u001b[0m\u001b[1;33m(\u001b[0m\u001b[1;33m)\u001b[0m\u001b[1;33m,\u001b[0m \u001b[0mprops\u001b[0m\u001b[1;33m)\u001b[0m\u001b[1;33m,\u001b[0m \u001b[1;34m\"similar\"\u001b[0m\u001b[1;33m\u001b[0m\u001b[0m\n",
      "\u001b[1;32m/home/eleonore/virtenvs/bokeh/lib/python2.7/site-packages/bokeh/core/properties.pyc\u001b[0m in \u001b[0;36m__set__\u001b[1;34m(self, obj, value)\u001b[0m\n\u001b[0;32m    451\u001b[0m             raise RuntimeError(\"Cannot set a property value '%s' on a %s instance before HasProps.__init__\" %\n\u001b[0;32m    452\u001b[0m                                (self.name, obj.__class__.__name__))\n\u001b[1;32m--> 453\u001b[1;33m         \u001b[0mvalue\u001b[0m \u001b[1;33m=\u001b[0m \u001b[0mself\u001b[0m\u001b[1;33m.\u001b[0m\u001b[0mdescriptor\u001b[0m\u001b[1;33m.\u001b[0m\u001b[0mprepare_value\u001b[0m\u001b[1;33m(\u001b[0m\u001b[0mobj\u001b[0m\u001b[1;33m.\u001b[0m\u001b[0m__class__\u001b[0m\u001b[1;33m,\u001b[0m \u001b[0mself\u001b[0m\u001b[1;33m.\u001b[0m\u001b[0mname\u001b[0m\u001b[1;33m,\u001b[0m \u001b[0mvalue\u001b[0m\u001b[1;33m)\u001b[0m\u001b[1;33m\u001b[0m\u001b[0m\n\u001b[0m\u001b[0;32m    454\u001b[0m \u001b[1;33m\u001b[0m\u001b[0m\n\u001b[0;32m    455\u001b[0m         \u001b[0mold\u001b[0m \u001b[1;33m=\u001b[0m \u001b[0mself\u001b[0m\u001b[1;33m.\u001b[0m\u001b[0m__get__\u001b[0m\u001b[1;33m(\u001b[0m\u001b[0mobj\u001b[0m\u001b[1;33m)\u001b[0m\u001b[1;33m\u001b[0m\u001b[0m\n",
      "\u001b[1;32m/home/eleonore/virtenvs/bokeh/lib/python2.7/site-packages/bokeh/core/properties.pyc\u001b[0m in \u001b[0;36mprepare_value\u001b[1;34m(self, cls, name, value)\u001b[0m\n\u001b[0;32m    270\u001b[0m                     \u001b[1;32mbreak\u001b[0m\u001b[1;33m\u001b[0m\u001b[0m\n\u001b[0;32m    271\u001b[0m             \u001b[1;32melse\u001b[0m\u001b[1;33m:\u001b[0m\u001b[1;33m\u001b[0m\u001b[0m\n\u001b[1;32m--> 272\u001b[1;33m                 \u001b[1;32mraise\u001b[0m \u001b[0me\u001b[0m\u001b[1;33m\u001b[0m\u001b[0m\n\u001b[0m\u001b[0;32m    273\u001b[0m         \u001b[1;32melse\u001b[0m\u001b[1;33m:\u001b[0m\u001b[1;33m\u001b[0m\u001b[0m\n\u001b[0;32m    274\u001b[0m             \u001b[0mvalue\u001b[0m \u001b[1;33m=\u001b[0m \u001b[0mself\u001b[0m\u001b[1;33m.\u001b[0m\u001b[0mtransform\u001b[0m\u001b[1;33m(\u001b[0m\u001b[0mvalue\u001b[0m\u001b[1;33m)\u001b[0m\u001b[1;33m\u001b[0m\u001b[0m\n",
      "\u001b[1;31mValueError\u001b[0m: expected an element of either Enum('aliceblue', 'antiquewhite', 'aqua', 'aquamarine', 'azure', 'beige', 'bisque', 'black', 'blanchedalmond', 'blue', 'blueviolet', 'brown', 'burlywood', 'cadetblue', 'chartreuse', 'chocolate', 'coral', 'cornflowerblue', 'cornsilk', 'crimson', 'cyan', 'darkblue', 'darkcyan', 'darkgoldenrod', 'darkgray', 'darkgreen', 'darkgrey', 'darkkhaki', 'darkmagenta', 'darkolivegreen', 'darkorange', 'darkorchid', 'darkred', 'darksalmon', 'darkseagreen', 'darkslateblue', 'darkslategray', 'darkslategrey', 'darkturquoise', 'darkviolet', 'deeppink', 'deepskyblue', 'dimgray', 'dimgrey', 'dodgerblue', 'firebrick', 'floralwhite', 'forestgreen', 'fuchsia', 'gainsboro', 'ghostwhite', 'gold', 'goldenrod', 'gray', 'green', 'greenyellow', 'grey', 'honeydew', 'hotpink', 'indianred', 'indigo', 'ivory', 'khaki', 'lavender', 'lavenderblush', 'lawngreen', 'lemonchiffon', 'lightblue', 'lightcoral', 'lightcyan', 'lightgoldenrodyellow', 'lightgray', 'lightgreen', 'lightgrey', 'lightpink', 'lightsalmon', 'lightseagreen', 'lightskyblue', 'lightslategray', 'lightslategrey', 'lightsteelblue', 'lightyellow', 'lime', 'limegreen', 'linen', 'magenta', 'maroon', 'mediumaquamarine', 'mediumblue', 'mediumorchid', 'mediumpurple', 'mediumseagreen', 'mediumslateblue', 'mediumspringgreen', 'mediumturquoise', 'mediumvioletred', 'midnightblue', 'mintcream', 'mistyrose', 'moccasin', 'navajowhite', 'navy', 'oldlace', 'olive', 'olivedrab', 'orange', 'orangered', 'orchid', 'palegoldenrod', 'palegreen', 'paleturquoise', 'palevioletred', 'papayawhip', 'peachpuff', 'peru', 'pink', 'plum', 'powderblue', 'purple', 'red', 'rosybrown', 'royalblue', 'saddlebrown', 'salmon', 'sandybrown', 'seagreen', 'seashell', 'sienna', 'silver', 'skyblue', 'slateblue', 'slategray', 'slategrey', 'snow', 'springgreen', 'steelblue', 'tan', 'teal', 'thistle', 'tomato', 'turquoise', 'violet', 'wheat', 'white', 'whitesmoke', 'yellow', 'yellowgreen'), Regex('^#[0-9a-fA-F]{6}$'), Tuple(Byte(Int, 0, 255), Byte(Int, 0, 255), Byte(Int, 0, 255)) or Tuple(Byte(Int, 0, 255), Byte(Int, 0, 255), Byte(Int, 0, 255), Percent), got 'cyl'"
     ]
    }
   ],
   "source": [
    "scatter = Scatter(ebola_virus_cases, x='ebola_subtype', y='reported_number_of_human_cases', color='cyl',\n",
    "                  title=\"Reported human cases by virus subtypes\", xlabel=\"Ebola subtypes\", ylabel=\"Reported human cases\")\n",
    "\n",
    "show(scatter)"
   ]
  },
  {
   "cell_type": "code",
   "execution_count": null,
   "metadata": {
    "collapsed": true
   },
   "outputs": [],
   "source": []
  }
 ],
 "metadata": {
  "kernelspec": {
   "display_name": "Python 2",
   "language": "python",
   "name": "python2"
  },
  "language_info": {
   "codemirror_mode": {
    "name": "ipython",
    "version": 2
   },
   "file_extension": ".py",
   "mimetype": "text/x-python",
   "name": "python",
   "nbconvert_exporter": "python",
   "pygments_lexer": "ipython2",
   "version": "2.7.6"
  }
 },
 "nbformat": 4,
 "nbformat_minor": 0
}
