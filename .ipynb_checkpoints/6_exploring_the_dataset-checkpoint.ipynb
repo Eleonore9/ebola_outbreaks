{
 "cells": [
  {
   "cell_type": "code",
   "execution_count": null,
   "metadata": {
    "collapsed": false
   },
   "outputs": [],
   "source": [
    "import numpy as np\n",
    "import pandas as pd\n",
    "\n",
    "from bokeh.charts import Histogram, Bar, BoxPlot\n",
    "from bokeh.plotting import figure, show\n",
    "from bokeh.io import output_notebook"
   ]
  },
  {
   "cell_type": "code",
   "execution_count": null,
   "metadata": {
    "collapsed": false
   },
   "outputs": [],
   "source": [
    "ebola_df = pd.read_csv(\"data/out/ebola_outbreaks_before_2014-geometry_fixed.csv\", encoding=\"utf-8\", index_col=False)\n",
    "\n",
    "ebola_data = ebola_df.drop(ebola_df.columns[[0, 1, 2, 9]], axis=1)"
   ]
  },
  {
   "cell_type": "markdown",
   "metadata": {},
   "source": [
    "### Data set description"
   ]
  },
  {
   "cell_type": "code",
   "execution_count": null,
   "metadata": {
    "collapsed": false
   },
   "outputs": [],
   "source": [
    "cols = list(ebola_data.columns)\n",
    "\n",
    "for column in cols:\n",
    "    print \"column\", (cols.index(column) + 1), \":\", column"
   ]
  },
  {
   "cell_type": "markdown",
   "metadata": {},
   "source": [
    "**=> locations info, reported cases, date/time**"
   ]
  },
  {
   "cell_type": "markdown",
   "metadata": {},
   "source": [
    "### Number of outbreaks per countries"
   ]
  },
  {
   "cell_type": "code",
   "execution_count": null,
   "metadata": {
    "collapsed": false,
    "scrolled": true
   },
   "outputs": [],
   "source": [
    "ebola_data.groupby([\"country_name\"])[\"country_name\"].count().order()"
   ]
  },
  {
   "cell_type": "code",
   "execution_count": null,
   "metadata": {
    "collapsed": false
   },
   "outputs": [],
   "source": [
    "# Bokeh can't seem to handle the unicode for circumflex accent on the 'o' in \"Côte d'Ivoire\"\n",
    "# I'm replacing it by a normal 'o'\n",
    "\n",
    "countries_list = list(ebola_data[\"country_name\"])\n",
    "\n",
    "for i in range(len(countries_list)): \n",
    "    if countries_list[i] == u\"C\\xf4te d'Ivoire (Ivory Coast)\":\n",
    "       countries_list[i] = u\"Cote d'Ivoire (Ivory Coast)\""
   ]
  },
  {
   "cell_type": "code",
   "execution_count": null,
   "metadata": {
    "collapsed": false
   },
   "outputs": [],
   "source": [
    "data_nb = {\n",
    "    'countries': countries_list,\n",
    "    'ebola outbreaks': [1] * len(countries_list)\n",
    "}\n",
    "\n",
    "bar_nb = Bar(data_nb, values='ebola outbreaks', label='countries', agg='sum', color=\"#3B6849\",\n",
    "          title=\"Number of ebola outbreak(s) per country\", plot_width=600, plot_height=500)\n",
    "\n",
    "\n",
    "output_notebook()\n",
    "\n",
    "show(bar_nb)"
   ]
  },
  {
   "cell_type": "markdown",
   "metadata": {},
   "source": [
    "### The average number of days for an outbreak per country"
   ]
  },
  {
   "cell_type": "code",
   "execution_count": null,
   "metadata": {
    "collapsed": false
   },
   "outputs": [],
   "source": [
    "ebola_data.groupby([\"country_name\"])[\"duration_days\"].mean().order()"
   ]
  },
  {
   "cell_type": "code",
   "execution_count": null,
   "metadata": {
    "collapsed": false
   },
   "outputs": [],
   "source": [
    "data_dur = {\n",
    "    'countries': countries_list,\n",
    "    'outbreaks duration': list(ebola_data[\"duration_days\"])\n",
    "}\n",
    "\n",
    "bar_dur = Bar(data_dur, values='outbreaks duration', label='countries', agg='mean', color=\"#586996\",\n",
    "              title=\"Durations of ebola outbreaks (days) per country\", plot_width=600, plot_height=500)\n",
    "\n",
    "output_notebook()\n",
    "\n",
    "show(bar_dur)"
   ]
  },
  {
   "cell_type": "markdown",
   "metadata": {},
   "source": [
    "### Ebola virus subtypes"
   ]
  },
  {
   "cell_type": "code",
   "execution_count": null,
   "metadata": {
    "collapsed": false
   },
   "outputs": [],
   "source": [
    "ebola_data.groupby([\"ebola_subtype\"])[\"ebola_subtype\"].count().order()"
   ]
  },
  {
   "cell_type": "code",
   "execution_count": null,
   "metadata": {
    "collapsed": true
   },
   "outputs": [],
   "source": [
    "# Bokeh can't seem to handle the unicode for trema accent on the 'i' in Taï Forest virus\n",
    "# I'm replacing it by a normal 'i'\n",
    "\n",
    "eb_virus_types = list(ebola_data[\"ebola_subtype\"])\n",
    "\n",
    "for i in range(len(eb_virus_types)): \n",
    "    if eb_virus_types[i] == u\"Ta\\xef Forest virus\":\n",
    "       eb_virus_types[i] = u\"Tai Forest virus\""
   ]
  },
  {
   "cell_type": "code",
   "execution_count": null,
   "metadata": {
    "collapsed": false
   },
   "outputs": [],
   "source": [
    "data_vir = {\n",
    "    'ebola virus subtypes': eb_virus_types,\n",
    "    'number of ebola outbreaks': [1] * len(eb_virus_types)\n",
    "}\n",
    "\n",
    "bar_vir = Bar(data_vir, values='number of ebola outbreaks', label='ebola virus subtypes', agg='sum', color=\"#E2AE7A\",\n",
    "              title=\"Number of ebola outbreak(s) per virus subtype\", plot_width=600, plot_height=400, bar_width=0.5)\n",
    "\n",
    "output_notebook()\n",
    "\n",
    "show(bar_vir)"
   ]
  },
  {
   "cell_type": "code",
   "execution_count": null,
   "metadata": {
    "collapsed": false
   },
   "outputs": [],
   "source": [
    "ebola_data[[\"country_name\", \"ebola_subtype\"]].sort([\"country_name\"])"
   ]
  },
  {
   "cell_type": "markdown",
   "metadata": {},
   "source": [
    "### Duration of epidemy in days by virus subtype"
   ]
  },
  {
   "cell_type": "code",
   "execution_count": null,
   "metadata": {
    "collapsed": false
   },
   "outputs": [],
   "source": [
    "ebola_data.groupby([\"ebola_subtype\"])[\"duration_days\"].mean().order()"
   ]
  },
  {
   "cell_type": "markdown",
   "metadata": {},
   "source": [
    "__=> Bundibugyo virus seems to be correlated with shorter outbreaks__"
   ]
  },
  {
   "cell_type": "markdown",
   "metadata": {},
   "source": [
    "### Human cases for DRC (country with the most cases)"
   ]
  },
  {
   "cell_type": "code",
   "execution_count": null,
   "metadata": {
    "collapsed": false
   },
   "outputs": [],
   "source": [
    "df_drc = ebola_data[ebola_data.country_name == \"Democratic Republic of the Congo\"]\n",
    "\n",
    "drc = df_drc[[\"ebola_subtype\", \"start_date\", \"end_date\", \"reported_number_of_human_cases\", \"reported_number_of_deaths_among_cases\"]]\n",
    "\n",
    "drc.sort([\"start_date\"])"
   ]
  }
 ],
 "metadata": {
  "kernelspec": {
   "display_name": "Python 2",
   "language": "python",
   "name": "python2"
  },
  "language_info": {
   "codemirror_mode": {
    "name": "ipython",
    "version": 2
   },
   "file_extension": ".py",
   "mimetype": "text/x-python",
   "name": "python",
   "nbconvert_exporter": "python",
   "pygments_lexer": "ipython2",
   "version": "2.7.6"
  }
 },
 "nbformat": 4,
 "nbformat_minor": 0
}
