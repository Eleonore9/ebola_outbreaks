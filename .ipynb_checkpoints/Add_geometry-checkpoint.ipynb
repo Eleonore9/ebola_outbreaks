{
 "cells": [
  {
   "cell_type": "code",
   "execution_count": 1,
   "metadata": {
    "collapsed": true
   },
   "outputs": [],
   "source": [
    "import pandas as pd"
   ]
  },
  {
   "cell_type": "code",
   "execution_count": 9,
   "metadata": {
    "collapsed": true
   },
   "outputs": [],
   "source": [
    "df_eb = pd.read_csv(\"csv/out/ebola-outbreaks-before-2014-dates.csv\", encoding=\"utf-8\")"
   ]
  },
  {
   "cell_type": "code",
   "execution_count": 3,
   "metadata": {
    "collapsed": true
   },
   "outputs": [],
   "source": [
    "df_geom = pd.read_csv(\"csv/in/World Country Boundaries.csv\")"
   ]
  },
  {
   "cell_type": "code",
   "execution_count": 13,
   "metadata": {
    "collapsed": false
   },
   "outputs": [
    {
     "name": "stdout",
     "output_type": "stream",
     "text": [
      "0                              Uganda\n",
      "1    Democratic Republic of the Congo\n",
      "2                              Uganda\n",
      "Name: Country, dtype: object\n"
     ]
    }
   ],
   "source": [
    "eb_countries = df_eb[\"Country\"]\n",
    "print eb_countries[:3]"
   ]
  },
  {
   "cell_type": "code",
   "execution_count": 14,
   "metadata": {
    "collapsed": false
   },
   "outputs": [
    {
     "name": "stdout",
     "output_type": "stream",
     "text": [
      "0                 Andorra\n",
      "1    United Arab Emirates\n",
      "2             Afghanistan\n",
      "Name: Name, dtype: object\n"
     ]
    }
   ],
   "source": [
    "geom_countries = df_geom[\"Name\"]\n",
    "print geom_countries[:3]"
   ]
  },
  {
   "cell_type": "code",
   "execution_count": null,
   "metadata": {
    "collapsed": true
   },
   "outputs": [],
   "source": [
    "eb_geom = []\n",
    "\n",
    "for country in eb_countries:\n",
    "    pass"
   ]
  }
 ],
 "metadata": {
  "kernelspec": {
   "display_name": "Python 2",
   "language": "python",
   "name": "python2"
  },
  "language_info": {
   "codemirror_mode": {
    "name": "ipython",
    "version": 2
   },
   "file_extension": ".py",
   "mimetype": "text/x-python",
   "name": "python",
   "nbconvert_exporter": "python",
   "pygments_lexer": "ipython2",
   "version": "2.7.6"
  }
 },
 "nbformat": 4,
 "nbformat_minor": 0
}
