{
 "cells": [
  {
   "cell_type": "code",
   "execution_count": 1,
   "metadata": {
    "collapsed": true
   },
   "outputs": [],
   "source": [
    "import pandas as pd"
   ]
  },
  {
   "cell_type": "code",
   "execution_count": 2,
   "metadata": {
    "collapsed": true
   },
   "outputs": [],
   "source": [
    "df_eb = pd.read_csv(\"csv/out/ebola-outbreaks-before-2014-dates.csv\", encoding=\"utf-8\")"
   ]
  },
  {
   "cell_type": "code",
   "execution_count": 9,
   "metadata": {
    "collapsed": false
   },
   "outputs": [
    {
     "data": {
      "text/html": [
       "<div style=\"max-height:1000px;max-width:1500px;overflow:auto;\">\n",
       "<table border=\"1\" class=\"dataframe\">\n",
       "  <thead>\n",
       "    <tr style=\"text-align: right;\">\n",
       "      <th></th>\n",
       "      <th>geometry</th>\n",
       "      <th>geometry_vertex_count</th>\n",
       "      <th>OBJECTID</th>\n",
       "      <th>ISO_2DIGIT</th>\n",
       "      <th>Shape_Leng</th>\n",
       "      <th>Shape_Area</th>\n",
       "      <th>Name</th>\n",
       "      <th>import_notes</th>\n",
       "      <th>Google requests</th>\n",
       "    </tr>\n",
       "  </thead>\n",
       "  <tbody>\n",
       "    <tr>\n",
       "      <th>0</th>\n",
       "      <td>&lt;Polygon&gt;&lt;outerBoundaryIs&gt;&lt;LinearRing&gt;&lt;coordin...</td>\n",
       "      <td>5</td>\n",
       "      <td>1</td>\n",
       "      <td>AD</td>\n",
       "      <td>0.836259</td>\n",
       "      <td>0.036910</td>\n",
       "      <td>Andorra</td>\n",
       "      <td>NaN</td>\n",
       "      <td>NaN</td>\n",
       "    </tr>\n",
       "    <tr>\n",
       "      <th>1</th>\n",
       "      <td>&lt;Polygon&gt;&lt;outerBoundaryIs&gt;&lt;LinearRing&gt;&lt;coordin...</td>\n",
       "      <td>22</td>\n",
       "      <td>2</td>\n",
       "      <td>AE</td>\n",
       "      <td>14.616977</td>\n",
       "      <td>6.031750</td>\n",
       "      <td>United Arab Emirates</td>\n",
       "      <td>NaN</td>\n",
       "      <td>NaN</td>\n",
       "    </tr>\n",
       "    <tr>\n",
       "      <th>2</th>\n",
       "      <td>&lt;Polygon&gt;&lt;outerBoundaryIs&gt;&lt;LinearRing&gt;&lt;coordin...</td>\n",
       "      <td>71</td>\n",
       "      <td>3</td>\n",
       "      <td>AF</td>\n",
       "      <td>47.721785</td>\n",
       "      <td>62.492024</td>\n",
       "      <td>Afghanistan</td>\n",
       "      <td>NaN</td>\n",
       "      <td>NaN</td>\n",
       "    </tr>\n",
       "    <tr>\n",
       "      <th>3</th>\n",
       "      <td>&lt;Polygon&gt;&lt;outerBoundaryIs&gt;&lt;LinearRing&gt;&lt;coordin...</td>\n",
       "      <td>5</td>\n",
       "      <td>4</td>\n",
       "      <td>AG</td>\n",
       "      <td>0.596002</td>\n",
       "      <td>0.021586</td>\n",
       "      <td>Antigua &amp; Barbuda</td>\n",
       "      <td>NaN</td>\n",
       "      <td>NaN</td>\n",
       "    </tr>\n",
       "    <tr>\n",
       "      <th>4</th>\n",
       "      <td>&lt;Polygon&gt;&lt;outerBoundaryIs&gt;&lt;LinearRing&gt;&lt;coordin...</td>\n",
       "      <td>5</td>\n",
       "      <td>5</td>\n",
       "      <td>AI</td>\n",
       "      <td>0.464586</td>\n",
       "      <td>0.006343</td>\n",
       "      <td>Anguilla</td>\n",
       "      <td>NaN</td>\n",
       "      <td>NaN</td>\n",
       "    </tr>\n",
       "  </tbody>\n",
       "</table>\n",
       "</div>"
      ],
      "text/plain": [
       "                                            geometry  geometry_vertex_count  \\\n",
       "0  <Polygon><outerBoundaryIs><LinearRing><coordin...                      5   \n",
       "1  <Polygon><outerBoundaryIs><LinearRing><coordin...                     22   \n",
       "2  <Polygon><outerBoundaryIs><LinearRing><coordin...                     71   \n",
       "3  <Polygon><outerBoundaryIs><LinearRing><coordin...                      5   \n",
       "4  <Polygon><outerBoundaryIs><LinearRing><coordin...                      5   \n",
       "\n",
       "   OBJECTID ISO_2DIGIT  Shape_Leng  Shape_Area                  Name  \\\n",
       "0         1         AD    0.836259    0.036910               Andorra   \n",
       "1         2         AE   14.616977    6.031750  United Arab Emirates   \n",
       "2         3         AF   47.721785   62.492024           Afghanistan   \n",
       "3         4         AG    0.596002    0.021586     Antigua & Barbuda   \n",
       "4         5         AI    0.464586    0.006343              Anguilla   \n",
       "\n",
       "   import_notes  Google requests  \n",
       "0           NaN              NaN  \n",
       "1           NaN              NaN  \n",
       "2           NaN              NaN  \n",
       "3           NaN              NaN  \n",
       "4           NaN              NaN  "
      ]
     },
     "execution_count": 9,
     "metadata": {},
     "output_type": "execute_result"
    }
   ],
   "source": [
    "df_geom = pd.read_csv(\"csv/in/World Country Boundaries.csv\")\n",
    "\n",
    "df_geom.head()"
   ]
  },
  {
   "cell_type": "code",
   "execution_count": 12,
   "metadata": {
    "collapsed": false
   },
   "outputs": [
    {
     "name": "stdout",
     "output_type": "stream",
     "text": [
      "15\n",
      "[u\"C\\xf4te d'Ivoire (Ivory Coast)\", u'Italy', u'USA', u'South Africa', u'Democratic Republic of the Congo (formerly Zaire)', u'Philippines', u'Republic of the Congo', u'Democratic Republic of the Congo', u'Gabon', u'Sudan (South Sudan)', u'Uganda', u'Zaire (Democratic Republic of the Congo - DRC)', u'England', u'Zaire', u'Russia']\n"
     ]
    }
   ],
   "source": [
    "all_eb_countries = list(set(df_eb[\"Country\"]))\n",
    "\n",
    "print len(all_eb_countries)\n",
    "print all_eb_countries"
   ]
  },
  {
   "cell_type": "code",
   "execution_count": 16,
   "metadata": {
    "collapsed": false
   },
   "outputs": [
    {
     "name": "stdout",
     "output_type": "stream",
     "text": [
      "6\n",
      "['Italy', 'South Africa', 'Philippines', 'Gabon', 'Uganda', 'Russia']\n"
     ]
    }
   ],
   "source": [
    "dict_countries = {}\n",
    "\n",
    "for i in range(len(df_geom)):\n",
    "    if df_geom[\"Name\"][i] in all_eb_countries:\n",
    "        dict_countries[df_geom[\"Name\"][i]] = df_geom[\"geometry\"][i]\n",
    "        \n",
    "print len(dict_countries)\n",
    "print dict_countries.keys()"
   ]
  },
  {
   "cell_type": "code",
   "execution_count": 19,
   "metadata": {
    "collapsed": false
   },
   "outputs": [
    {
     "name": "stdout",
     "output_type": "stream",
     "text": [
      "9\n",
      "[u\"C\\xf4te d'Ivoire (Ivory Coast)\", u'England', u'USA', u'Democratic Republic of the Congo (formerly Zaire)', u'Republic of the Congo', u'Democratic Republic of the Congo', u'Sudan (South Sudan)', u'Zaire (Democratic Republic of the Congo - DRC)', u'Zaire']\n"
     ]
    }
   ],
   "source": [
    "missing = set(all_eb_countries) - set(dict_countries.keys())\n",
    "print len(missing)\n",
    "print list(missing)"
   ]
  },
  {
   "cell_type": "code",
   "execution_count": null,
   "metadata": {
    "collapsed": true
   },
   "outputs": [],
   "source": [
    "dict_codes = {\n",
    "    u\"C\\xf4te d'Ivoire (Ivory Coast)\": 'CI', \n",
    "    u'Italy': 'IT', \n",
    "    u'USA': 'US', \n",
    "    u'South Africa': 'ZA', \n",
    "    u'Democratic Republic of the Congo (formerly Zaire)': 'CD', \n",
    "    u'Philippines': 'PH', \n",
    "    u'Republic of the Congo': 'CG', \n",
    "    u'Democratic Republic of the Congo': 'CD', \n",
    "    u'Gabon': 'GA', \n",
    "    u'Sudan (South Sudan)': 'SD', \n",
    "    u'Uganda': 'UG', \n",
    "    u'Zaire (Democratic Republic of the Congo - DRC)': 'CD', \n",
    "    u'England': 'GB', \n",
    "    u'Zaire': 'CD', \n",
    "    u'Russia': 'RU'\n",
    "}"
   ]
  },
  {
   "cell_type": "code",
   "execution_count": 42,
   "metadata": {
    "collapsed": false
   },
   "outputs": [
    {
     "data": {
      "text/plain": [
       "'GB'"
      ]
     },
     "execution_count": 42,
     "metadata": {},
     "output_type": "execute_result"
    }
   ],
   "source": [
    "## df_geom[\"ISO_2DIGIT\"][73]"
   ]
  },
  {
   "cell_type": "code",
   "execution_count": 59,
   "metadata": {
    "collapsed": false
   },
   "outputs": [
    {
     "data": {
      "text/html": [
       "<div style=\"max-height:1000px;max-width:1500px;overflow:auto;\">\n",
       "<table border=\"1\" class=\"dataframe\">\n",
       "  <thead>\n",
       "    <tr style=\"text-align: right;\">\n",
       "      <th></th>\n",
       "      <th>geometry</th>\n",
       "      <th>geometry_vertex_count</th>\n",
       "      <th>OBJECTID</th>\n",
       "      <th>ISO_2DIGIT</th>\n",
       "      <th>Shape_Leng</th>\n",
       "      <th>Shape_Area</th>\n",
       "      <th>Name</th>\n",
       "      <th>import_notes</th>\n",
       "      <th>Google requests</th>\n",
       "    </tr>\n",
       "  </thead>\n",
       "  <tbody>\n",
       "    <tr>\n",
       "      <th>119</th>\n",
       "      <td>&lt;MultiGeometry&gt;&lt;Polygon&gt;&lt;outerBoundaryIs&gt;&lt;Line...</td>\n",
       "      <td>1308</td>\n",
       "      <td>221</td>\n",
       "      <td>US</td>\n",
       "      <td>602.472171</td>\n",
       "      <td>1113.730892</td>\n",
       "      <td>United States</td>\n",
       "      <td>NaN</td>\n",
       "      <td>NaN</td>\n",
       "    </tr>\n",
       "  </tbody>\n",
       "</table>\n",
       "</div>"
      ],
      "text/plain": [
       "                                              geometry  geometry_vertex_count  \\\n",
       "119  <MultiGeometry><Polygon><outerBoundaryIs><Line...                   1308   \n",
       "\n",
       "     OBJECTID ISO_2DIGIT  Shape_Leng   Shape_Area           Name  \\\n",
       "119       221         US  602.472171  1113.730892  United States   \n",
       "\n",
       "     import_notes  Google requests  \n",
       "119           NaN              NaN  "
      ]
     },
     "execution_count": 59,
     "metadata": {},
     "output_type": "execute_result"
    }
   ],
   "source": [
    "## df_geom[df_geom[\"ISO_2DIGIT\"] == 'US']"
   ]
  },
  {
   "cell_type": "code",
   "execution_count": null,
   "metadata": {
    "collapsed": true
   },
   "outputs": [],
   "source": []
  }
 ],
 "metadata": {
  "kernelspec": {
   "display_name": "Python 2",
   "language": "python",
   "name": "python2"
  },
  "language_info": {
   "codemirror_mode": {
    "name": "ipython",
    "version": 2
   },
   "file_extension": ".py",
   "mimetype": "text/x-python",
   "name": "python",
   "nbconvert_exporter": "python",
   "pygments_lexer": "ipython2",
   "version": "2.7.6"
  }
 },
 "nbformat": 4,
 "nbformat_minor": 0
}
