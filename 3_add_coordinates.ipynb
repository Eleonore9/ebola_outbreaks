{
 "cells": [
  {
   "cell_type": "markdown",
   "metadata": {},
   "source": [
    "##Add coordinates using geopy"
   ]
  },
  {
   "cell_type": "code",
   "execution_count": 56,
   "metadata": {
    "collapsed": false
   },
   "outputs": [],
   "source": [
    "import pandas as pd\n",
    "from geopy import geocoders\n",
    "from geopandas.geocode import geocode\n",
    "from geopy.geocoders import Nominatim"
   ]
  },
  {
   "cell_type": "code",
   "execution_count": 24,
   "metadata": {
    "collapsed": false
   },
   "outputs": [
    {
     "data": {
      "text/html": [
       "<div>\n",
       "<table border=\"1\" class=\"dataframe\">\n",
       "  <thead>\n",
       "    <tr style=\"text-align: right;\">\n",
       "      <th></th>\n",
       "      <th>Start_Datetime</th>\n",
       "      <th>Start date</th>\n",
       "      <th>End_Datetime</th>\n",
       "      <th>End date</th>\n",
       "      <th>Duration (days)</th>\n",
       "      <th>Year(s)</th>\n",
       "      <th>Country code (ISO 2 digits)</th>\n",
       "      <th>Country</th>\n",
       "      <th>Ebola subtype</th>\n",
       "      <th>Reported number of human cases</th>\n",
       "      <th>Reported number of deaths among cases</th>\n",
       "      <th>Reported % of deaths among cases</th>\n",
       "    </tr>\n",
       "  </thead>\n",
       "  <tbody>\n",
       "    <tr>\n",
       "      <th>0</th>\n",
       "      <td>2012-11-01 00:00:00</td>\n",
       "      <td>2012-11-01</td>\n",
       "      <td>2013-01-31 00:00:00</td>\n",
       "      <td>2013-01-31</td>\n",
       "      <td>91</td>\n",
       "      <td>November 2012-January 2013</td>\n",
       "      <td>UG</td>\n",
       "      <td>Uganda</td>\n",
       "      <td>Sudan virus</td>\n",
       "      <td>6</td>\n",
       "      <td>3</td>\n",
       "      <td>0.500</td>\n",
       "    </tr>\n",
       "    <tr>\n",
       "      <th>1</th>\n",
       "      <td>2012-06-01 00:00:00</td>\n",
       "      <td>2012-06-01</td>\n",
       "      <td>2012-11-30 00:00:00</td>\n",
       "      <td>2012-11-30</td>\n",
       "      <td>182</td>\n",
       "      <td>June-November 2012</td>\n",
       "      <td>CD</td>\n",
       "      <td>Democratic Republic of the Congo</td>\n",
       "      <td>Bundibugyo virus</td>\n",
       "      <td>36</td>\n",
       "      <td>13</td>\n",
       "      <td>0.361</td>\n",
       "    </tr>\n",
       "    <tr>\n",
       "      <th>2</th>\n",
       "      <td>2012-06-01 00:00:00</td>\n",
       "      <td>2012-06-01</td>\n",
       "      <td>2012-10-31 00:00:00</td>\n",
       "      <td>2012-10-31</td>\n",
       "      <td>152</td>\n",
       "      <td>June-October 2012</td>\n",
       "      <td>UG</td>\n",
       "      <td>Uganda</td>\n",
       "      <td>Sudan virus</td>\n",
       "      <td>11</td>\n",
       "      <td>4</td>\n",
       "      <td>0.364</td>\n",
       "    </tr>\n",
       "    <tr>\n",
       "      <th>3</th>\n",
       "      <td>2011-05-01 00:00:00</td>\n",
       "      <td>2011-05-01</td>\n",
       "      <td>2011-05-01 00:00:00</td>\n",
       "      <td>2011-05-01</td>\n",
       "      <td>0</td>\n",
       "      <td>2011-05-01</td>\n",
       "      <td>UG</td>\n",
       "      <td>Uganda</td>\n",
       "      <td>Sudan virus</td>\n",
       "      <td>1</td>\n",
       "      <td>1</td>\n",
       "      <td>1.000</td>\n",
       "    </tr>\n",
       "    <tr>\n",
       "      <th>4</th>\n",
       "      <td>2008-12-01 00:00:00</td>\n",
       "      <td>2008-12-01</td>\n",
       "      <td>2009-02-28 00:00:00</td>\n",
       "      <td>2009-02-28</td>\n",
       "      <td>89</td>\n",
       "      <td>December 2008-February 2009</td>\n",
       "      <td>CD</td>\n",
       "      <td>Democratic Republic of the Congo</td>\n",
       "      <td>Zaire virus</td>\n",
       "      <td>32</td>\n",
       "      <td>15</td>\n",
       "      <td>0.470</td>\n",
       "    </tr>\n",
       "  </tbody>\n",
       "</table>\n",
       "</div>"
      ],
      "text/plain": [
       "        Start_Datetime  Start date         End_Datetime    End date  \\\n",
       "0  2012-11-01 00:00:00  2012-11-01  2013-01-31 00:00:00  2013-01-31   \n",
       "1  2012-06-01 00:00:00  2012-06-01  2012-11-30 00:00:00  2012-11-30   \n",
       "2  2012-06-01 00:00:00  2012-06-01  2012-10-31 00:00:00  2012-10-31   \n",
       "3  2011-05-01 00:00:00  2011-05-01  2011-05-01 00:00:00  2011-05-01   \n",
       "4  2008-12-01 00:00:00  2008-12-01  2009-02-28 00:00:00  2009-02-28   \n",
       "\n",
       "   Duration (days)                      Year(s) Country code (ISO 2 digits)  \\\n",
       "0               91   November 2012-January 2013                          UG   \n",
       "1              182           June-November 2012                          CD   \n",
       "2              152            June-October 2012                          UG   \n",
       "3                0                   2011-05-01                          UG   \n",
       "4               89  December 2008-February 2009                          CD   \n",
       "\n",
       "                            Country     Ebola subtype  \\\n",
       "0                            Uganda       Sudan virus   \n",
       "1  Democratic Republic of the Congo  Bundibugyo virus   \n",
       "2                            Uganda       Sudan virus   \n",
       "3                            Uganda       Sudan virus   \n",
       "4  Democratic Republic of the Congo       Zaire virus   \n",
       "\n",
       "   Reported number of human cases  Reported number of deaths among cases  \\\n",
       "0                               6                                      3   \n",
       "1                              36                                     13   \n",
       "2                              11                                      4   \n",
       "3                               1                                      1   \n",
       "4                              32                                     15   \n",
       "\n",
       "   Reported % of deaths among cases  \n",
       "0                             0.500  \n",
       "1                             0.361  \n",
       "2                             0.364  \n",
       "3                             1.000  \n",
       "4                             0.470  "
      ]
     },
     "execution_count": 24,
     "metadata": {},
     "output_type": "execute_result"
    }
   ],
   "source": [
    "df_ebola = pd.read_csv(\"csv/out/ebola-outbreaks-before-2014-country-codes.csv\", encoding=\"utf-8\", index_col=False)\n",
    "\n",
    "df_eb = df_ebola.drop(df_ebola.columns[[0, 1]], axis=1) # remove 2 useless colums of indexes\n",
    "\n",
    "df_eb.head()"
   ]
  },
  {
   "cell_type": "code",
   "execution_count": 83,
   "metadata": {
    "collapsed": false
   },
   "outputs": [
    {
     "name": "stdout",
     "output_type": "stream",
     "text": [
      "15\n",
      "[u\"C\\xf4te d'Ivoire (Ivory Coast)\", u'Italy', u'USA', u'South Africa', u'Democratic Republic of the Congo (formerly Zaire)', u'Philippines', u'Republic of the Congo', u'Democratic Republic of the Congo', u'Gabon', u'Sudan (South Sudan)', u'Uganda', u'Zaire (Democratic Republic of the Congo - DRC)', u'England', u'Zaire', u'Russia']\n"
     ]
    }
   ],
   "source": [
    "# Use the geocode function from GeoPandas and bypass the error with MapQuest\n",
    "\n",
    "countries = set(list(df_eb[\"Country\"]))\n",
    "\n",
    "list_countries = list(countries)\n",
    "\n",
    "print len(list_countries)\n",
    "print list_countries"
   ]
  },
  {
   "cell_type": "code",
   "execution_count": 49,
   "metadata": {
    "collapsed": false
   },
   "outputs": [
    {
     "name": "stdout",
     "output_type": "stream",
     "text": [
      "Can't find location!\n"
     ]
    },
    {
     "data": {
      "text/html": [
       "<div>\n",
       "<table border=\"1\" class=\"dataframe\">\n",
       "  <thead>\n",
       "    <tr style=\"text-align: right;\">\n",
       "      <th></th>\n",
       "      <th>address</th>\n",
       "      <th>geometry</th>\n",
       "    </tr>\n",
       "  </thead>\n",
       "  <tbody>\n",
       "    <tr>\n",
       "      <th>0</th>\n",
       "      <td>Uganda</td>\n",
       "      <td>POINT (32.290275 1.373333)</td>\n",
       "    </tr>\n",
       "    <tr>\n",
       "      <th>1</th>\n",
       "      <td>Democratic Republic of the Congo</td>\n",
       "      <td>POINT (21.758664 -4.038333)</td>\n",
       "    </tr>\n",
       "    <tr>\n",
       "      <th>2</th>\n",
       "      <td>Uganda</td>\n",
       "      <td>POINT (32.290275 1.373333)</td>\n",
       "    </tr>\n",
       "    <tr>\n",
       "      <th>3</th>\n",
       "      <td>Uganda</td>\n",
       "      <td>POINT (32.290275 1.373333)</td>\n",
       "    </tr>\n",
       "    <tr>\n",
       "      <th>4</th>\n",
       "      <td>Democratic Republic of the Congo</td>\n",
       "      <td>POINT (21.758664 -4.038333)</td>\n",
       "    </tr>\n",
       "    <tr>\n",
       "      <th>5</th>\n",
       "      <td>Philippines</td>\n",
       "      <td>POINT (121.774017 12.879721)</td>\n",
       "    </tr>\n",
       "    <tr>\n",
       "      <th>6</th>\n",
       "      <td>Uganda</td>\n",
       "      <td>POINT (32.290275 1.373333)</td>\n",
       "    </tr>\n",
       "    <tr>\n",
       "      <th>7</th>\n",
       "      <td>Democratic Republic of the Congo</td>\n",
       "      <td>POINT (21.758664 -4.038333)</td>\n",
       "    </tr>\n",
       "    <tr>\n",
       "      <th>8</th>\n",
       "      <td>Russia</td>\n",
       "      <td>POINT (105.318756 61.52401)</td>\n",
       "    </tr>\n",
       "    <tr>\n",
       "      <th>9</th>\n",
       "      <td>Sudan</td>\n",
       "      <td>POINT (30.217636 12.862807)</td>\n",
       "    </tr>\n",
       "  </tbody>\n",
       "</table>\n",
       "</div>"
      ],
      "text/plain": [
       "                            address                      geometry\n",
       "0                            Uganda    POINT (32.290275 1.373333)\n",
       "1  Democratic Republic of the Congo   POINT (21.758664 -4.038333)\n",
       "2                            Uganda    POINT (32.290275 1.373333)\n",
       "3                            Uganda    POINT (32.290275 1.373333)\n",
       "4  Democratic Republic of the Congo   POINT (21.758664 -4.038333)\n",
       "5                       Philippines  POINT (121.774017 12.879721)\n",
       "6                            Uganda    POINT (32.290275 1.373333)\n",
       "7  Democratic Republic of the Congo   POINT (21.758664 -4.038333)\n",
       "8                            Russia   POINT (105.318756 61.52401)\n",
       "9                             Sudan   POINT (30.217636 12.862807)"
      ]
     },
     "execution_count": 49,
     "metadata": {},
     "output_type": "execute_result"
    }
   ],
   "source": [
    "geocoders.MapQuest = None\n",
    "\n",
    "try:\n",
    "    geocodes = geocode(list_countries)\n",
    "except:\n",
    "    print \"Can't find location!\"\n",
    "    pass\n",
    "\n",
    "geocodes"
   ]
  },
  {
   "cell_type": "code",
   "execution_count": 55,
   "metadata": {
    "collapsed": false
   },
   "outputs": [
    {
     "data": {
      "text/plain": [
       "shapely.geometry.point.Point"
      ]
     },
     "execution_count": 55,
     "metadata": {},
     "output_type": "execute_result"
    }
   ],
   "source": [
    "type(geocodes[\"geometry\"][0])"
   ]
  },
  {
   "cell_type": "markdown",
   "metadata": {},
   "source": [
    "__=> It didn't work for some countries. Also I can't have latitudes and longitudes in separate columns.__"
   ]
  },
  {
   "cell_type": "code",
   "execution_count": 107,
   "metadata": {
    "collapsed": false
   },
   "outputs": [
    {
     "name": "stdout",
     "output_type": "stream",
     "text": [
      "33\n",
      "  Country code (ISO 2 digits)                           Country\n",
      "0                          UG                            Uganda\n",
      "1                          CD  Democratic Republic of the Congo\n",
      "2                          UG                            Uganda\n",
      "3                          UG                            Uganda\n",
      "4                          CD  Democratic Republic of the Congo\n",
      "\n",
      "\n",
      "Uganda\n",
      "Democratic Republic of the Congo\n",
      "Uganda\n"
     ]
    }
   ],
   "source": [
    "cc = df_eb[[\"Country code (ISO 2 digits)\", \"Country\"]]\n",
    "print len(cc)\n",
    "print cc[:5]\n",
    "print(\"\\n\")\n",
    "print cc[0:1][\"Country\"][0]\n",
    "print cc[1:2][\"Country\"][1]\n",
    "print cc[2:3][\"Country\"][2]"
   ]
  },
  {
   "cell_type": "code",
   "execution_count": 117,
   "metadata": {
    "collapsed": false
   },
   "outputs": [
    {
     "name": "stdout",
     "output_type": "stream",
     "text": [
      "0 Uganda UG\n",
      "1 Democratic Republic of the Congo CD\n",
      "2 Uganda UG\n",
      "3 Uganda UG\n",
      "4 Democratic Republic of the Congo CD\n",
      "5 Philippines PH\n",
      "6 Uganda UG\n",
      "No idea what went wrong here!\n",
      "7 Democratic Republic of the Congo CD\n",
      "8 Russia RU\n",
      "9 Sudan (South Sudan) SD\n",
      "10 Republic of the Congo CG\n",
      "11 Republic of the Congo CG\n",
      "12 Republic of the Congo CG\n",
      "13 Gabon GA\n",
      "14 Uganda UG\n",
      "15 Russia RU\n",
      "No idea what went wrong here!\n",
      "16 Philippines PH\n",
      "No idea what went wrong here!\n",
      "17 USA US\n",
      "No idea what went wrong here!\n",
      "18 South Africa ZA\n",
      "No idea what went wrong here!\n",
      "19 Gabon GA\n",
      "No idea what went wrong here!\n",
      "20 Gabon GA\n",
      "No idea what went wrong here!\n",
      "21 Democratic Republic of the Congo (formerly Zaire) CD\n",
      "No idea what went wrong here!\n",
      "22 Côte d'Ivoire (Ivory Coast) CI\n",
      "No idea what went wrong here!\n",
      "23 Gabon GA\n",
      "No idea what went wrong here!\n",
      "24 Italy IT\n",
      "No idea what went wrong here!\n",
      "25 Philippines PH\n",
      "No idea what went wrong here!\n",
      "26 USA US\n",
      "27 USA US\n",
      "No idea what went wrong here!\n",
      "28 Sudan (South Sudan) SD\n",
      "29 Zaire CD\n",
      "30 England GB\n",
      "31 Sudan (South Sudan) SD\n",
      "32 Zaire (Democratic Republic of the Congo - DRC) CD\n"
     ]
    }
   ],
   "source": [
    "geolocator = Nominatim()\n",
    "\n",
    "all_locations = {\"codes\": [], \"coordinates\": []}\n",
    "\n",
    "for i in range(len(cc)):\n",
    "    iso_code = cc[i:i+1][\"Country code (ISO 2 digits)\"][i]\n",
    "    country = cc[i:i+1][\"Country\"][i]\n",
    "    print i, country, iso_code\n",
    "    \n",
    "    if iso_code in all_locations[\"codes\"]:\n",
    "        all_locations[\"codes\"].append(iso_codes)\n",
    "        coord = all_locations[\"coordinates\"][all_locations[\"codes\"].index(iso_code)]\n",
    "        all_locations[\"coordinates\"].append(coord)\n",
    "        \n",
    "    else:\n",
    "        all_locations[\"codes\"].append(iso_code)\n",
    "        try:\n",
    "            location = geolocator.geocode(country)\n",
    "            lat, lon = location.latitude, location.longitude\n",
    "            all_locations[\"coordinates\"].append((lat, lon))\n",
    "    \n",
    "        except AttributeError:\n",
    "            print \"attribute error!\"\n",
    "            location = geolocator.geocode(iso_code)\n",
    "            lat, lon = location.latitude, location.longitude\n",
    "            all_locations[\"coordinates\"].append((lat, lon))\n",
    "        except:\n",
    "            print \"No idea what went wrong here!\"\n",
    "            all_locations[\"coordinates\"].append((0, 0))"
   ]
  },
  {
   "cell_type": "code",
   "execution_count": 119,
   "metadata": {
    "collapsed": false
   },
   "outputs": [
    {
     "name": "stdout",
     "output_type": "stream",
     "text": [
      "33\n",
      "[(1.5333554, 32.2166578), (-2.9814344, 23.8222636), (1.5333554, 32.2166578), (1.5333554, 32.2166578), (-2.9814344, 23.8222636), (12.7503486, 122.7312101), (0, 0), (-2.9814344, 23.8222636), (64.6863136, 97.7453061), (7.8699431, 29.6667897), (-0.7264327, 15.6419155), (-0.7264327, 15.6419155), (-0.7264327, 15.6419155), (-0.8999695, 11.6899699), (1.5333554, 32.2166578), (0, 0), (0, 0), (0, 0), (0, 0), (0, 0), (0, 0), (0, 0), (0, 0), (0, 0), (0, 0), (0, 0), (39.7837304, -100.4458825), (0, 0), (7.8699431, 29.6667897), (-2.9814344, 23.8222636), (52.7954791, -0.540240236617432), (7.8699431, 29.6667897), (-2.9814344, 23.8222636)]\n"
     ]
    }
   ],
   "source": [
    "print len(all_locations[\"coordinates\"])\n",
    "print all_locations[\"coordinates\"]"
   ]
  },
  {
   "cell_type": "code",
   "execution_count": null,
   "metadata": {
    "collapsed": true
   },
   "outputs": [],
   "source": []
  }
 ],
 "metadata": {
  "kernelspec": {
   "display_name": "Python 2",
   "language": "python",
   "name": "python2"
  },
  "language_info": {
   "codemirror_mode": {
    "name": "ipython",
    "version": 2
   },
   "file_extension": ".py",
   "mimetype": "text/x-python",
   "name": "python",
   "nbconvert_exporter": "python",
   "pygments_lexer": "ipython2",
   "version": "2.7.6"
  }
 },
 "nbformat": 4,
 "nbformat_minor": 0
}
